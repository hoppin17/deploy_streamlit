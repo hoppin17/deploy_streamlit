{
 "cells": [
  {
   "cell_type": "code",
   "execution_count": 1,
   "id": "0906b8d6",
   "metadata": {},
   "outputs": [],
   "source": [
    "import pandas as pd\n",
    "import matplotlib.pyplot as plt\n",
    "import numpy as np\n",
    "import ast\n",
    "import itertools\n",
    "import networkx as nx\n",
    "import matplotlib.font_manager as fm\n",
    "import plotly.express as px"
   ]
  },
  {
   "cell_type": "code",
   "execution_count": 2,
   "id": "f5fbfb88",
   "metadata": {},
   "outputs": [],
   "source": [
    "data = pd.read_csv(r'C:\\Users\\user\\Downloads\\5.2_dataset_forviz_add_gener.csv')"
   ]
  },
  {
   "cell_type": "code",
   "execution_count": 3,
   "id": "dcbe4bb8",
   "metadata": {},
   "outputs": [
    {
     "name": "stdout",
     "output_type": "stream",
     "text": [
      "<class 'pandas.core.frame.DataFrame'>\n",
      "RangeIndex: 499 entries, 0 to 498\n",
      "Data columns (total 14 columns):\n",
      " #   Column            Non-Null Count  Dtype \n",
      "---  ------            --------------  ----- \n",
      " 0   Unnamed: 0        499 non-null    int64 \n",
      " 1   순위                499 non-null    int64 \n",
      " 2   영화명               499 non-null    object\n",
      " 3   개봉일               499 non-null    object\n",
      " 4   매출액               488 non-null    object\n",
      " 5   관객수               499 non-null    object\n",
      " 6   스크린수              499 non-null    object\n",
      " 7   배급사               493 non-null    object\n",
      " 8   coach             498 non-null    object\n",
      " 9   actor_main_name   498 non-null    object\n",
      " 10  actor_sub_name    483 non-null    object\n",
      " 11  actor_cameo_name  277 non-null    object\n",
      " 12  maker             498 non-null    object\n",
      " 13  only_gener        499 non-null    object\n",
      "dtypes: int64(2), object(12)\n",
      "memory usage: 54.7+ KB\n"
     ]
    }
   ],
   "source": [
    "data.info()"
   ]
  },
  {
   "cell_type": "markdown",
   "id": "51c82037",
   "metadata": {},
   "source": [
    "## 전체 데이터 기준"
   ]
  },
  {
   "cell_type": "code",
   "execution_count": 3,
   "id": "7e77de7e",
   "metadata": {},
   "outputs": [
    {
     "data": {
      "application/vnd.plotly.v1+json": {
       "config": {
        "plotlyServerURL": "https://plot.ly"
       },
       "data": [
        {
         "alignmentgroup": "True",
         "customdata": [
          [
           "5488억",
           "9621만"
          ],
          [
           "666억",
           "1005만"
          ],
          [
           "3846억",
           "4786만"
          ],
          [
           "2390억",
           "4121만"
          ]
         ],
         "hovertemplate": "배우=유해진<br>장르=%{x}<br>출연 횟수=%{y}<br>총 매출액=%{customdata[0]}<br>총 관객수=%{customdata[1]}<extra></extra>",
         "legendgroup": "유해진",
         "marker": {
          "color": "#636efa",
          "pattern": {
           "shape": ""
          }
         },
         "name": "유해진",
         "offsetgroup": "유해진",
         "orientation": "v",
         "showlegend": true,
         "textposition": "auto",
         "type": "bar",
         "x": [
          "드라마",
          "스릴러",
          "액션",
          "코미디"
         ],
         "xaxis": "x",
         "y": [
          19,
          4,
          8,
          13
         ],
         "yaxis": "y"
        },
        {
         "alignmentgroup": "True",
         "customdata": [
          [
           "",
           "1억223만"
          ],
          [
           "484억",
           "2091만"
          ],
          [
           "886억",
           "2089만"
          ],
          [
           "2055억",
           "2602만"
          ],
          [
           "536억",
           "719만"
          ],
          [
           "1215억",
           "1654만"
          ],
          [
           "2885억",
           "4558만"
          ],
          [
           "1545억",
           "2410만"
          ]
         ],
         "hovertemplate": "배우=황정민<br>장르=%{x}<br>출연 횟수=%{y}<br>총 매출액=%{customdata[0]}<br>총 관객수=%{customdata[1]}<extra></extra>",
         "legendgroup": "황정민",
         "marker": {
          "color": "#EF553B",
          "pattern": {
           "shape": ""
          }
         },
         "name": "황정민",
         "offsetgroup": "황정민",
         "orientation": "v",
         "showlegend": true,
         "textposition": "auto",
         "type": "bar",
         "x": [
          "드라마",
          "멜로/로맨스",
          "미스터리",
          "범죄",
          "사극",
          "스릴러",
          "액션",
          "코미디"
         ],
         "xaxis": "x",
         "y": [
          19,
          8,
          6,
          6,
          3,
          6,
          11,
          6
         ],
         "yaxis": "y"
        },
        {
         "alignmentgroup": "True",
         "customdata": [
          [
           "4597억",
           "8364만"
          ],
          [
           "2128억",
           "3486만"
          ]
         ],
         "hovertemplate": "배우=송강호<br>장르=%{x}<br>출연 횟수=%{y}<br>총 매출액=%{customdata[0]}<br>총 관객수=%{customdata[1]}<extra></extra>",
         "legendgroup": "송강호",
         "marker": {
          "color": "#00cc96",
          "pattern": {
           "shape": ""
          }
         },
         "name": "송강호",
         "offsetgroup": "송강호",
         "orientation": "v",
         "showlegend": true,
         "textposition": "auto",
         "type": "bar",
         "x": [
          "드라마",
          "액션"
         ],
         "xaxis": "x",
         "y": [
          16,
          5
         ],
         "yaxis": "y"
        },
        {
         "alignmentgroup": "True",
         "customdata": [
          [
           "7095억",
           "1억961만"
          ],
          [
           "1981억",
           "2635만"
          ],
          [
           "859억",
           "1384만"
          ],
          [
           "604억",
           "1501만"
          ],
          [
           "4576억",
           "6080만"
          ],
          [
           "1604억",
           "2166만"
          ],
          [
           "2004억",
           "3261만"
          ]
         ],
         "hovertemplate": "배우=오달수<br>장르=%{x}<br>출연 횟수=%{y}<br>총 매출액=%{customdata[0]}<br>총 관객수=%{customdata[1]}<extra></extra>",
         "legendgroup": "오달수",
         "marker": {
          "color": "#ab63fa",
          "pattern": {
           "shape": ""
          }
         },
         "name": "오달수",
         "offsetgroup": "오달수",
         "orientation": "v",
         "showlegend": true,
         "textposition": "auto",
         "type": "bar",
         "x": [
          "드라마",
          "범죄",
          "사극",
          "스릴러",
          "액션",
          "어드벤처",
          "코미디"
         ],
         "xaxis": "x",
         "y": [
          14,
          5,
          5,
          6,
          8,
          4,
          7
         ],
         "yaxis": "y"
        },
        {
         "alignmentgroup": "True",
         "customdata": [
          [
           "3476억",
           "5164만"
          ],
          [
           "2206억",
           "2993만"
          ],
          [
           "684억",
           "1176만"
          ],
          [
           "3070억",
           "3999만"
          ],
          [
           "581억",
           "983만"
          ]
         ],
         "hovertemplate": "배우=김윤석<br>장르=%{x}<br>출연 횟수=%{y}<br>총 매출액=%{customdata[0]}<br>총 관객수=%{customdata[1]}<extra></extra>",
         "legendgroup": "김윤석",
         "marker": {
          "color": "#FFA15A",
          "pattern": {
           "shape": ""
          }
         },
         "name": "김윤석",
         "offsetgroup": "김윤석",
         "orientation": "v",
         "showlegend": true,
         "textposition": "auto",
         "type": "bar",
         "x": [
          "드라마",
          "범죄",
          "스릴러",
          "액션",
          "코미디"
         ],
         "xaxis": "x",
         "y": [
          14,
          6,
          4,
          8,
          3
         ],
         "yaxis": "y"
        },
        {
         "alignmentgroup": "True",
         "customdata": [
          [
           "6800억",
           "8586만"
          ],
          [
           "1271억",
           "1754만"
          ],
          [
           "1037억",
           "1391만"
          ],
          [
           "3134억",
           "4396만"
          ],
          [
           "820억",
           "1318만"
          ]
         ],
         "hovertemplate": "배우=하정우<br>장르=%{x}<br>출연 횟수=%{y}<br>총 매출액=%{customdata[0]}<br>총 관객수=%{customdata[1]}<extra></extra>",
         "legendgroup": "하정우",
         "marker": {
          "color": "#19d3f3",
          "pattern": {
           "shape": ""
          }
         },
         "name": "하정우",
         "offsetgroup": "하정우",
         "orientation": "v",
         "showlegend": true,
         "textposition": "auto",
         "type": "bar",
         "x": [
          "드라마",
          "범죄",
          "스릴러",
          "액션",
          "코미디"
         ],
         "xaxis": "x",
         "y": [
          12,
          4,
          4,
          8,
          4
         ],
         "yaxis": "y"
        },
        {
         "alignmentgroup": "True",
         "customdata": [
          [
           "5593억",
           "6901만"
          ],
          [
           "1375억",
           "1708만"
          ],
          [
           "3266억",
           "4155만"
          ]
         ],
         "hovertemplate": "배우=김의성<br>장르=%{x}<br>출연 횟수=%{y}<br>총 매출액=%{customdata[0]}<br>총 관객수=%{customdata[1]}<extra></extra>",
         "legendgroup": "김의성",
         "marker": {
          "color": "#FF6692",
          "pattern": {
           "shape": ""
          }
         },
         "name": "김의성",
         "offsetgroup": "김의성",
         "orientation": "v",
         "showlegend": true,
         "textposition": "auto",
         "type": "bar",
         "x": [
          "드라마",
          "범죄",
          "액션"
         ],
         "xaxis": "x",
         "y": [
          12,
          5,
          9
         ],
         "yaxis": "y"
        },
        {
         "alignmentgroup": "True",
         "customdata": [
          [
           "4711억",
           "5937만"
          ],
          [
           "1424억",
           "1833만"
          ],
          [
           "1121억",
           "1488만"
          ],
          [
           "3589억",
           "4724만"
          ]
         ],
         "hovertemplate": "배우=이경영<br>장르=%{x}<br>출연 횟수=%{y}<br>총 매출액=%{customdata[0]}<br>총 관객수=%{customdata[1]}<extra></extra>",
         "legendgroup": "이경영",
         "marker": {
          "color": "#B6E880",
          "pattern": {
           "shape": ""
          }
         },
         "name": "이경영",
         "offsetgroup": "이경영",
         "orientation": "v",
         "showlegend": true,
         "textposition": "auto",
         "type": "bar",
         "x": [
          "드라마",
          "범죄",
          "사극",
          "액션"
         ],
         "xaxis": "x",
         "y": [
          12,
          5,
          3,
          8
         ],
         "yaxis": "y"
        },
        {
         "alignmentgroup": "True",
         "customdata": [
          [
           "3560억",
           "4492만"
          ],
          [
           "1487억",
           "1830만"
          ],
          [
           "898억",
           "1133만"
          ],
          [
           "3593억",
           "4600만"
          ],
          [
           "755억",
           "912만"
          ]
         ],
         "hovertemplate": "배우=조진웅<br>장르=%{x}<br>출연 횟수=%{y}<br>총 매출액=%{customdata[0]}<br>총 관객수=%{customdata[1]}<extra></extra>",
         "legendgroup": "조진웅",
         "marker": {
          "color": "#FF97FF",
          "pattern": {
           "shape": ""
          }
         },
         "name": "조진웅",
         "offsetgroup": "조진웅",
         "orientation": "v",
         "showlegend": true,
         "textposition": "auto",
         "type": "bar",
         "x": [
          "드라마",
          "범죄",
          "스릴러",
          "액션",
          "코미디"
         ],
         "xaxis": "x",
         "y": [
          12,
          5,
          4,
          6,
          3
         ],
         "yaxis": "y"
        },
        {
         "alignmentgroup": "True",
         "customdata": [
          [
           "2756억",
           "3942만"
          ],
          [
           "906억",
           "1198만"
          ],
          [
           "339억",
           "791만"
          ],
          [
           "1636억",
           "2255만"
          ]
         ],
         "hovertemplate": "배우=정인기<br>장르=%{x}<br>출연 횟수=%{y}<br>총 매출액=%{customdata[0]}<br>총 관객수=%{customdata[1]}<extra></extra>",
         "legendgroup": "정인기",
         "marker": {
          "color": "#FECB52",
          "pattern": {
           "shape": ""
          }
         },
         "name": "정인기",
         "offsetgroup": "정인기",
         "orientation": "v",
         "showlegend": true,
         "textposition": "auto",
         "type": "bar",
         "x": [
          "드라마",
          "범죄",
          "스릴러",
          "액션"
         ],
         "xaxis": "x",
         "y": [
          12,
          3,
          3,
          7
         ],
         "yaxis": "y"
        },
        {
         "alignmentgroup": "True",
         "customdata": [
          [
           "1723억",
           "3754만"
          ],
          [
           "697억",
           "1043만"
          ],
          [
           "679억",
           "1527만"
          ],
          [
           "267억",
           "835만"
          ]
         ],
         "hovertemplate": "배우=강신일<br>장르=%{x}<br>출연 횟수=%{y}<br>총 매출액=%{customdata[0]}<br>총 관객수=%{customdata[1]}<extra></extra>",
         "legendgroup": "강신일",
         "marker": {
          "color": "#636efa",
          "pattern": {
           "shape": ""
          }
         },
         "name": "강신일",
         "offsetgroup": "강신일",
         "orientation": "v",
         "showlegend": true,
         "textposition": "auto",
         "type": "bar",
         "x": [
          "드라마",
          "스릴러",
          "액션",
          "코미디"
         ],
         "xaxis": "x",
         "y": [
          12,
          4,
          5,
          3
         ],
         "yaxis": "y"
        },
        {
         "alignmentgroup": "True",
         "customdata": [
          [
           "1226억",
           "3040만"
          ],
          [
           "471억",
           "572만"
          ],
          [
           "475억",
           "806만"
          ],
          [
           "840억",
           "1308만"
          ],
          [
           "546억",
           "947만"
          ]
         ],
         "hovertemplate": "배우=김상호<br>장르=%{x}<br>출연 횟수=%{y}<br>총 매출액=%{customdata[0]}<br>총 관객수=%{customdata[1]}<extra></extra>",
         "legendgroup": "김상호",
         "marker": {
          "color": "#EF553B",
          "pattern": {
           "shape": ""
          }
         },
         "name": "김상호",
         "offsetgroup": "김상호",
         "orientation": "v",
         "showlegend": true,
         "textposition": "auto",
         "type": "bar",
         "x": [
          "드라마",
          "범죄",
          "스릴러",
          "액션",
          "코미디"
         ],
         "xaxis": "x",
         "y": [
          12,
          3,
          3,
          5,
          3
         ],
         "yaxis": "y"
        },
        {
         "alignmentgroup": "True",
         "customdata": [
          [
           "3027억",
           "4508만"
          ],
          [
           "661억",
           "891만"
          ],
          [
           "1958억",
           "2523만"
          ],
          [
           "1737억",
           "2377만"
          ]
         ],
         "hovertemplate": "배우=장영남<br>장르=%{x}<br>출연 횟수=%{y}<br>총 매출액=%{customdata[0]}<br>총 관객수=%{customdata[1]}<extra></extra>",
         "legendgroup": "장영남",
         "marker": {
          "color": "#00cc96",
          "pattern": {
           "shape": ""
          }
         },
         "name": "장영남",
         "offsetgroup": "장영남",
         "orientation": "v",
         "showlegend": true,
         "textposition": "auto",
         "type": "bar",
         "x": [
          "드라마",
          "범죄",
          "액션",
          "코미디"
         ],
         "xaxis": "x",
         "y": [
          11,
          3,
          6,
          8
         ],
         "yaxis": "y"
        },
        {
         "alignmentgroup": "True",
         "customdata": [
          [
           "2549억",
           "3298만"
          ],
          [
           "2258억",
           "2791만"
          ],
          [
           "1549억",
           "1687만"
          ],
          [
           "2457억",
           "2962만"
          ]
         ],
         "hovertemplate": "배우=김종수<br>장르=%{x}<br>출연 횟수=%{y}<br>총 매출액=%{customdata[0]}<br>총 관객수=%{customdata[1]}<extra></extra>",
         "legendgroup": "김종수",
         "marker": {
          "color": "#ab63fa",
          "pattern": {
           "shape": ""
          }
         },
         "name": "김종수",
         "offsetgroup": "김종수",
         "orientation": "v",
         "showlegend": true,
         "textposition": "auto",
         "type": "bar",
         "x": [
          "드라마",
          "범죄",
          "액션",
          "코미디"
         ],
         "xaxis": "x",
         "y": [
          11,
          7,
          6,
          4
         ],
         "yaxis": "y"
        },
        {
         "alignmentgroup": "True",
         "customdata": [
          [
           "1684억",
           "3341만"
          ],
          [
           "662억",
           "979만"
          ],
          [
           "660억",
           "898만"
          ],
          [
           "612억",
           "962만"
          ],
          [
           "1080억",
           "1420만"
          ],
          [
           "576억",
           "827만"
          ]
         ],
         "hovertemplate": "배우=유승목<br>장르=%{x}<br>출연 횟수=%{y}<br>총 매출액=%{customdata[0]}<br>총 관객수=%{customdata[1]}<extra></extra>",
         "legendgroup": "유승목",
         "marker": {
          "color": "#FFA15A",
          "pattern": {
           "shape": ""
          }
         },
         "name": "유승목",
         "offsetgroup": "유승목",
         "orientation": "v",
         "showlegend": true,
         "textposition": "auto",
         "type": "bar",
         "x": [
          "드라마",
          "멜로/로맨스",
          "범죄",
          "스릴러",
          "액션",
          "코미디"
         ],
         "xaxis": "x",
         "y": [
          11,
          3,
          3,
          4,
          5,
          3
         ],
         "yaxis": "y"
        },
        {
         "alignmentgroup": "True",
         "customdata": [
          [
           "3905억",
           "5016만"
          ],
          [
           "1316억",
           "1630만"
          ],
          [
           "1018억",
           "1510만"
          ]
         ],
         "hovertemplate": "배우=이병헌<br>장르=%{x}<br>출연 횟수=%{y}<br>총 매출액=%{customdata[0]}<br>총 관객수=%{customdata[1]}<extra></extra>",
         "legendgroup": "이병헌",
         "marker": {
          "color": "#19d3f3",
          "pattern": {
           "shape": ""
          }
         },
         "name": "이병헌",
         "offsetgroup": "이병헌",
         "orientation": "v",
         "showlegend": true,
         "textposition": "auto",
         "type": "bar",
         "x": [
          "드라마",
          "범죄",
          "액션"
         ],
         "xaxis": "x",
         "y": [
          10,
          3,
          3
         ],
         "yaxis": "y"
        },
        {
         "alignmentgroup": "True",
         "customdata": [
          [
           "3868억",
           "5236만"
          ],
          [
           "1109억",
           "1399만"
          ],
          [
           "772억",
           "1003만"
          ],
          [
           "383억",
           "850만"
          ],
          [
           "3937억",
           "5178만"
          ]
         ],
         "hovertemplate": "배우=송영창<br>장르=%{x}<br>출연 횟수=%{y}<br>총 매출액=%{customdata[0]}<br>총 관객수=%{customdata[1]}<extra></extra>",
         "legendgroup": "송영창",
         "marker": {
          "color": "#FF6692",
          "pattern": {
           "shape": ""
          }
         },
         "name": "송영창",
         "offsetgroup": "송영창",
         "orientation": "v",
         "showlegend": true,
         "textposition": "auto",
         "type": "bar",
         "x": [
          "드라마",
          "범죄",
          "사극",
          "스릴러",
          "액션"
         ],
         "xaxis": "x",
         "y": [
          10,
          4,
          3,
          4,
          11
         ],
         "yaxis": "y"
        },
        {
         "alignmentgroup": "True",
         "customdata": [
          [
           "1936억",
           "3883만"
          ],
          [
           "530억",
           "878만"
          ],
          [
           "737억",
           "951만"
          ],
          [
           "1864억",
           "2526만"
          ],
          [
           "483억",
           "664만"
          ]
         ],
         "hovertemplate": "배우=윤제문<br>장르=%{x}<br>출연 횟수=%{y}<br>총 매출액=%{customdata[0]}<br>총 관객수=%{customdata[1]}<extra></extra>",
         "legendgroup": "윤제문",
         "marker": {
          "color": "#B6E880",
          "pattern": {
           "shape": ""
          }
         },
         "name": "윤제문",
         "offsetgroup": "윤제문",
         "orientation": "v",
         "showlegend": true,
         "textposition": "auto",
         "type": "bar",
         "x": [
          "드라마",
          "범죄",
          "사극",
          "액션",
          "코미디"
         ],
         "xaxis": "x",
         "y": [
          10,
          4,
          3,
          7,
          3
         ],
         "yaxis": "y"
        },
        {
         "alignmentgroup": "True",
         "customdata": [
          [
           "1867억",
           "3762만"
          ],
          [
           "354억",
           "767만"
          ],
          [
           "1883억",
           "2657만"
          ],
          [
           "103억",
           "550만"
          ]
         ],
         "hovertemplate": "배우=설경구<br>장르=%{x}<br>출연 횟수=%{y}<br>총 매출액=%{customdata[0]}<br>총 관객수=%{customdata[1]}<extra></extra>",
         "legendgroup": "설경구",
         "marker": {
          "color": "#FF97FF",
          "pattern": {
           "shape": ""
          }
         },
         "name": "설경구",
         "offsetgroup": "설경구",
         "orientation": "v",
         "showlegend": true,
         "textposition": "auto",
         "type": "bar",
         "x": [
          "드라마",
          "스릴러",
          "액션",
          "코미디"
         ],
         "xaxis": "x",
         "y": [
          10,
          3,
          5,
          3
         ],
         "yaxis": "y"
        },
        {
         "alignmentgroup": "True",
         "customdata": [
          [
           "1681억",
           "2966만"
          ],
          [
           "1468억",
           "1824만"
          ],
          [
           "2321억",
           "3050만"
          ],
          [
           "1219억",
           "1704만"
          ]
         ],
         "hovertemplate": "배우=강동원<br>장르=%{x}<br>출연 횟수=%{y}<br>총 매출액=%{customdata[0]}<br>총 관객수=%{customdata[1]}<extra></extra>",
         "legendgroup": "강동원",
         "marker": {
          "color": "#FECB52",
          "pattern": {
           "shape": ""
          }
         },
         "name": "강동원",
         "offsetgroup": "강동원",
         "orientation": "v",
         "showlegend": true,
         "textposition": "auto",
         "type": "bar",
         "x": [
          "드라마",
          "범죄",
          "액션",
          "코미디"
         ],
         "xaxis": "x",
         "y": [
          10,
          3,
          7,
          3
         ],
         "yaxis": "y"
        },
        {
         "alignmentgroup": "True",
         "customdata": [
          [
           "1632억",
           "3530만"
          ],
          [
           "1361억",
           "2382만"
          ],
          [
           "1215억",
           "2928만"
          ]
         ],
         "hovertemplate": "배우=이한위<br>장르=%{x}<br>출연 횟수=%{y}<br>총 매출액=%{customdata[0]}<br>총 관객수=%{customdata[1]}<extra></extra>",
         "legendgroup": "이한위",
         "marker": {
          "color": "#636efa",
          "pattern": {
           "shape": ""
          }
         },
         "name": "이한위",
         "offsetgroup": "이한위",
         "orientation": "v",
         "showlegend": true,
         "textposition": "auto",
         "type": "bar",
         "x": [
          "드라마",
          "액션",
          "코미디"
         ],
         "xaxis": "x",
         "y": [
          10,
          5,
          8
         ],
         "yaxis": "y"
        },
        {
         "alignmentgroup": "True",
         "customdata": [
          [
           "1509억",
           "3700만"
          ],
          [
           "1161억",
           "1544만"
          ],
          [
           "996억",
           "1333만"
          ]
         ],
         "hovertemplate": "배우=권태원<br>장르=%{x}<br>출연 횟수=%{y}<br>총 매출액=%{customdata[0]}<br>총 관객수=%{customdata[1]}<extra></extra>",
         "legendgroup": "권태원",
         "marker": {
          "color": "#EF553B",
          "pattern": {
           "shape": ""
          }
         },
         "name": "권태원",
         "offsetgroup": "권태원",
         "orientation": "v",
         "showlegend": true,
         "textposition": "auto",
         "type": "bar",
         "x": [
          "드라마",
          "범죄",
          "액션"
         ],
         "xaxis": "x",
         "y": [
          10,
          5,
          3
         ],
         "yaxis": "y"
        },
        {
         "alignmentgroup": "True",
         "customdata": [
          [
           "486억",
           "2217만"
          ],
          [
           "",
           "983만"
          ],
          [
           "276억",
           "587만"
          ],
          [
           "1419억",
           "2283만"
          ],
          [
           "1345억",
           "2827만"
          ]
         ],
         "hovertemplate": "배우=주진모<br>장르=%{x}<br>출연 횟수=%{y}<br>총 매출액=%{customdata[0]}<br>총 관객수=%{customdata[1]}<extra></extra>",
         "legendgroup": "주진모",
         "marker": {
          "color": "#00cc96",
          "pattern": {
           "shape": ""
          }
         },
         "name": "주진모",
         "offsetgroup": "주진모",
         "orientation": "v",
         "showlegend": true,
         "textposition": "auto",
         "type": "bar",
         "x": [
          "드라마",
          "멜로/로맨스",
          "스릴러",
          "액션",
          "코미디"
         ],
         "xaxis": "x",
         "y": [
          9,
          3,
          3,
          8,
          6
         ],
         "yaxis": "y"
        },
        {
         "alignmentgroup": "True",
         "customdata": [
          [
           "3944억",
           "4940만"
          ],
          [
           "1974억",
           "2475만"
          ],
          [
           "637억",
           "813만"
          ],
          [
           "531억",
           "910만"
          ],
          [
           "3082억",
           "3727만"
          ],
          [
           "1185억",
           "1649만"
          ]
         ],
         "hovertemplate": "배우=정만식<br>장르=%{x}<br>출연 횟수=%{y}<br>총 매출액=%{customdata[0]}<br>총 관객수=%{customdata[1]}<extra></extra>",
         "legendgroup": "정만식",
         "marker": {
          "color": "#ab63fa",
          "pattern": {
           "shape": ""
          }
         },
         "name": "정만식",
         "offsetgroup": "정만식",
         "orientation": "v",
         "showlegend": true,
         "textposition": "auto",
         "type": "bar",
         "x": [
          "드라마",
          "범죄",
          "사극",
          "스릴러",
          "액션",
          "코미디"
         ],
         "xaxis": "x",
         "y": [
          9,
          8,
          3,
          4,
          9,
          3
         ],
         "yaxis": "y"
        },
        {
         "alignmentgroup": "True",
         "customdata": [
          [
           "3931억",
           "4679만"
          ],
          [
           "1361억",
           "1476만"
          ],
          [
           "510억",
           "684만"
          ],
          [
           "2385억",
           "2571만"
          ],
          [
           "799억",
           "1008만"
          ],
          [
           "2347억",
           "2860만"
          ]
         ],
         "hovertemplate": "배우=이준혁<br>장르=%{x}<br>출연 횟수=%{y}<br>총 매출액=%{customdata[0]}<br>총 관객수=%{customdata[1]}<extra></extra>",
         "legendgroup": "이준혁",
         "marker": {
          "color": "#FFA15A",
          "pattern": {
           "shape": ""
          }
         },
         "name": "이준혁",
         "offsetgroup": "이준혁",
         "orientation": "v",
         "showlegend": true,
         "textposition": "auto",
         "type": "bar",
         "x": [
          "드라마",
          "범죄",
          "스릴러",
          "액션",
          "코미디",
          "판타지"
         ],
         "xaxis": "x",
         "y": [
          9,
          3,
          4,
          5,
          6,
          3
         ],
         "yaxis": "y"
        },
        {
         "alignmentgroup": "True",
         "customdata": [
          [
           "3240억",
           "4132만"
          ],
          [
           "652억",
           "843만"
          ],
          [
           "1311억",
           "1712만"
          ]
         ],
         "hovertemplate": "배우=곽도원<br>장르=%{x}<br>출연 횟수=%{y}<br>총 매출액=%{customdata[0]}<br>총 관객수=%{customdata[1]}<extra></extra>",
         "legendgroup": "곽도원",
         "marker": {
          "color": "#19d3f3",
          "pattern": {
           "shape": ""
          }
         },
         "name": "곽도원",
         "offsetgroup": "곽도원",
         "orientation": "v",
         "showlegend": true,
         "textposition": "auto",
         "type": "bar",
         "x": [
          "드라마",
          "범죄",
          "액션"
         ],
         "xaxis": "x",
         "y": [
          9,
          3,
          5
         ],
         "yaxis": "y"
        },
        {
         "alignmentgroup": "True",
         "customdata": [
          [
           "3112억",
           "4036만"
          ],
          [
           "421억",
           "568만"
          ],
          [
           "741억",
           "941만"
          ],
          [
           "568억",
           "764만"
          ],
          [
           "1338억",
           "1740만"
          ]
         ],
         "hovertemplate": "배우=라미란<br>장르=%{x}<br>출연 횟수=%{y}<br>총 매출액=%{customdata[0]}<br>총 관객수=%{customdata[1]}<extra></extra>",
         "legendgroup": "라미란",
         "marker": {
          "color": "#FF6692",
          "pattern": {
           "shape": ""
          }
         },
         "name": "라미란",
         "offsetgroup": "라미란",
         "orientation": "v",
         "showlegend": true,
         "textposition": "auto",
         "type": "bar",
         "x": [
          "드라마",
          "멜로/로맨스",
          "사극",
          "액션",
          "코미디"
         ],
         "xaxis": "x",
         "y": [
          9,
          3,
          3,
          4,
          9
         ],
         "yaxis": "y"
        },
        {
         "alignmentgroup": "True",
         "customdata": [
          [
           "2946억",
           "3556만"
          ],
          [
           "1322억",
           "1698만"
          ],
          [
           "2272억",
           "3048만"
          ]
         ],
         "hovertemplate": "배우=정우성<br>장르=%{x}<br>출연 횟수=%{y}<br>총 매출액=%{customdata[0]}<br>총 관객수=%{customdata[1]}<extra></extra>",
         "legendgroup": "정우성",
         "marker": {
          "color": "#B6E880",
          "pattern": {
           "shape": ""
          }
         },
         "name": "정우성",
         "offsetgroup": "정우성",
         "orientation": "v",
         "showlegend": true,
         "textposition": "auto",
         "type": "bar",
         "x": [
          "드라마",
          "범죄",
          "액션"
         ],
         "xaxis": "x",
         "y": [
          9,
          4,
          8
         ],
         "yaxis": "y"
        },
        {
         "alignmentgroup": "True",
         "customdata": [
          [
           "2914억",
           "3874만"
          ],
          [
           "1312억",
           "1699만"
          ],
          [
           "1483억",
           "2066만"
          ]
         ],
         "hovertemplate": "배우=정원중<br>장르=%{x}<br>출연 횟수=%{y}<br>총 매출액=%{customdata[0]}<br>총 관객수=%{customdata[1]}<extra></extra>",
         "legendgroup": "정원중",
         "marker": {
          "color": "#FF97FF",
          "pattern": {
           "shape": ""
          }
         },
         "name": "정원중",
         "offsetgroup": "정원중",
         "orientation": "v",
         "showlegend": true,
         "textposition": "auto",
         "type": "bar",
         "x": [
          "드라마",
          "액션",
          "코미디"
         ],
         "xaxis": "x",
         "y": [
          9,
          4,
          4
         ],
         "yaxis": "y"
        },
        {
         "alignmentgroup": "True",
         "customdata": [
          [
           "2878억",
           "3676만"
          ],
          [
           "2131억",
           "2722만"
          ]
         ],
         "hovertemplate": "배우=김인우<br>장르=%{x}<br>출연 횟수=%{y}<br>총 매출액=%{customdata[0]}<br>총 관객수=%{customdata[1]}<extra></extra>",
         "legendgroup": "김인우",
         "marker": {
          "color": "#FECB52",
          "pattern": {
           "shape": ""
          }
         },
         "name": "김인우",
         "offsetgroup": "김인우",
         "orientation": "v",
         "showlegend": true,
         "textposition": "auto",
         "type": "bar",
         "x": [
          "드라마",
          "액션"
         ],
         "xaxis": "x",
         "y": [
          9,
          5
         ],
         "yaxis": "y"
        },
        {
         "alignmentgroup": "True",
         "customdata": [
          [
           "2040억",
           "2604만"
          ],
          [
           "1017억",
           "1190만"
          ],
          [
           "1228억",
           "1436만"
          ],
          [
           "781억",
           "1032만"
          ]
         ],
         "hovertemplate": "배우=박정민<br>장르=%{x}<br>출연 횟수=%{y}<br>총 매출액=%{customdata[0]}<br>총 관객수=%{customdata[1]}<extra></extra>",
         "legendgroup": "박정민",
         "marker": {
          "color": "#636efa",
          "pattern": {
           "shape": ""
          }
         },
         "name": "박정민",
         "offsetgroup": "박정민",
         "orientation": "v",
         "showlegend": true,
         "textposition": "auto",
         "type": "bar",
         "x": [
          "드라마",
          "범죄",
          "액션",
          "코미디"
         ],
         "xaxis": "x",
         "y": [
          9,
          3,
          4,
          4
         ],
         "yaxis": "y"
        },
        {
         "alignmentgroup": "True",
         "customdata": [
          [
           "1086억",
           "2409만"
          ],
          [
           "320억",
           "429만"
          ],
          [
           "1366억",
           "2336만"
          ]
         ],
         "hovertemplate": "배우=김응수<br>장르=%{x}<br>출연 횟수=%{y}<br>총 매출액=%{customdata[0]}<br>총 관객수=%{customdata[1]}<extra></extra>",
         "legendgroup": "김응수",
         "marker": {
          "color": "#EF553B",
          "pattern": {
           "shape": ""
          }
         },
         "name": "김응수",
         "offsetgroup": "김응수",
         "orientation": "v",
         "showlegend": true,
         "textposition": "auto",
         "type": "bar",
         "x": [
          "드라마",
          "액션",
          "코미디"
         ],
         "xaxis": "x",
         "y": [
          9,
          3,
          9
         ],
         "yaxis": "y"
        },
        {
         "alignmentgroup": "True",
         "customdata": [
          [
           "984억",
           "1397만"
          ],
          [
           "314억",
           "422만"
          ],
          [
           "502억",
           "735만"
          ],
          [
           "557억",
           "771만"
          ],
          [
           "1036억",
           "1355만"
          ]
         ],
         "hovertemplate": "배우=김명민<br>장르=%{x}<br>출연 횟수=%{y}<br>총 매출액=%{customdata[0]}<br>총 관객수=%{customdata[1]}<extra></extra>",
         "legendgroup": "김명민",
         "marker": {
          "color": "#00cc96",
          "pattern": {
           "shape": ""
          }
         },
         "name": "김명민",
         "offsetgroup": "김명민",
         "orientation": "v",
         "showlegend": true,
         "textposition": "auto",
         "type": "bar",
         "x": [
          "드라마",
          "범죄",
          "사극",
          "액션",
          "코미디"
         ],
         "xaxis": "x",
         "y": [
          8,
          3,
          3,
          3,
          5
         ],
         "yaxis": "y"
        },
        {
         "alignmentgroup": "True",
         "customdata": [
          [
           "966억",
           "1797만"
          ],
          [
           "1042억",
           "1614만"
          ],
          [
           "1128억",
           "1734만"
          ]
         ],
         "hovertemplate": "배우=김해숙<br>장르=%{x}<br>출연 횟수=%{y}<br>총 매출액=%{customdata[0]}<br>총 관객수=%{customdata[1]}<extra></extra>",
         "legendgroup": "김해숙",
         "marker": {
          "color": "#ab63fa",
          "pattern": {
           "shape": ""
          }
         },
         "name": "김해숙",
         "offsetgroup": "김해숙",
         "orientation": "v",
         "showlegend": true,
         "textposition": "auto",
         "type": "bar",
         "x": [
          "드라마",
          "범죄",
          "액션"
         ],
         "xaxis": "x",
         "y": [
          8,
          3,
          4
         ],
         "yaxis": "y"
        },
        {
         "alignmentgroup": "True",
         "customdata": [
          [
           "941억",
           "2142만"
          ],
          [
           "387억",
           "731만"
          ],
          [
           "493억",
           "648만"
          ],
          [
           "680억",
           "931만"
          ],
          [
           "2114억",
           "2592만"
          ]
         ],
         "hovertemplate": "배우=오정세<br>장르=%{x}<br>출연 횟수=%{y}<br>총 매출액=%{customdata[0]}<br>총 관객수=%{customdata[1]}<extra></extra>",
         "legendgroup": "오정세",
         "marker": {
          "color": "#FFA15A",
          "pattern": {
           "shape": ""
          }
         },
         "name": "오정세",
         "offsetgroup": "오정세",
         "orientation": "v",
         "showlegend": true,
         "textposition": "auto",
         "type": "bar",
         "x": [
          "드라마",
          "멜로/로맨스",
          "범죄",
          "액션",
          "코미디"
         ],
         "xaxis": "x",
         "y": [
          8,
          3,
          3,
          5,
          5
         ],
         "yaxis": "y"
        },
        {
         "alignmentgroup": "True",
         "customdata": [
          [
           "4357억",
           "5649만"
          ],
          [
           "1945억",
           "2567만"
          ]
         ],
         "hovertemplate": "배우=장광<br>장르=%{x}<br>출연 횟수=%{y}<br>총 매출액=%{customdata[0]}<br>총 관객수=%{customdata[1]}<extra></extra>",
         "legendgroup": "장광",
         "marker": {
          "color": "#19d3f3",
          "pattern": {
           "shape": ""
          }
         },
         "name": "장광",
         "offsetgroup": "장광",
         "orientation": "v",
         "showlegend": true,
         "textposition": "auto",
         "type": "bar",
         "x": [
          "드라마",
          "액션"
         ],
         "xaxis": "x",
         "y": [
          8,
          7
         ],
         "yaxis": "y"
        },
        {
         "alignmentgroup": "True",
         "customdata": [
          [
           "2307억",
           "2662만"
          ],
          [
           "1283억",
           "1633만"
          ]
         ],
         "hovertemplate": "배우=김소진<br>장르=%{x}<br>출연 횟수=%{y}<br>총 매출액=%{customdata[0]}<br>총 관객수=%{customdata[1]}<extra></extra>",
         "legendgroup": "김소진",
         "marker": {
          "color": "#FF6692",
          "pattern": {
           "shape": ""
          }
         },
         "name": "김소진",
         "offsetgroup": "김소진",
         "orientation": "v",
         "showlegend": true,
         "textposition": "auto",
         "type": "bar",
         "x": [
          "드라마",
          "범죄"
         ],
         "xaxis": "x",
         "y": [
          8,
          4
         ],
         "yaxis": "y"
        },
        {
         "alignmentgroup": "True",
         "customdata": [
          [
           "1977억",
           "3924만"
          ],
          [
           "658억",
           "818만"
          ],
          [
           "",
           "701만"
          ]
         ],
         "hovertemplate": "배우=정진영<br>장르=%{x}<br>출연 횟수=%{y}<br>총 매출액=%{customdata[0]}<br>총 관객수=%{customdata[1]}<extra></extra>",
         "legendgroup": "정진영",
         "marker": {
          "color": "#B6E880",
          "pattern": {
           "shape": ""
          }
         },
         "name": "정진영",
         "offsetgroup": "정진영",
         "orientation": "v",
         "showlegend": true,
         "textposition": "auto",
         "type": "bar",
         "x": [
          "드라마",
          "스릴러",
          "코미디"
         ],
         "xaxis": "x",
         "y": [
          8,
          3,
          4
         ],
         "yaxis": "y"
        },
        {
         "alignmentgroup": "True",
         "customdata": [
          [
           "1886억",
           "3777만"
          ],
          [
           "295억",
           "498만"
          ],
          [
           "1314억",
           "1691만"
          ]
         ],
         "hovertemplate": "배우=박해일<br>장르=%{x}<br>출연 횟수=%{y}<br>총 매출액=%{customdata[0]}<br>총 관객수=%{customdata[1]}<extra></extra>",
         "legendgroup": "박해일",
         "marker": {
          "color": "#FF97FF",
          "pattern": {
           "shape": ""
          }
         },
         "name": "박해일",
         "offsetgroup": "박해일",
         "orientation": "v",
         "showlegend": true,
         "textposition": "auto",
         "type": "bar",
         "x": [
          "드라마",
          "멜로/로맨스",
          "사극"
         ],
         "xaxis": "x",
         "y": [
          8,
          3,
          3
         ],
         "yaxis": "y"
        },
        {
         "alignmentgroup": "True",
         "customdata": [
          [
           "1616억",
           "3474만"
          ],
          [
           "1591억",
           "2554만"
          ]
         ],
         "hovertemplate": "배우=안성기<br>장르=%{x}<br>출연 횟수=%{y}<br>총 매출액=%{customdata[0]}<br>총 관객수=%{customdata[1]}<extra></extra>",
         "legendgroup": "안성기",
         "marker": {
          "color": "#FECB52",
          "pattern": {
           "shape": ""
          }
         },
         "name": "안성기",
         "offsetgroup": "안성기",
         "orientation": "v",
         "showlegend": true,
         "textposition": "auto",
         "type": "bar",
         "x": [
          "드라마",
          "액션"
         ],
         "xaxis": "x",
         "y": [
          8,
          8
         ],
         "yaxis": "y"
        },
        {
         "alignmentgroup": "True",
         "customdata": [
          [
           "1415억",
           "2195만"
          ],
          [
           "596억",
           "812만"
          ],
          [
           "693억",
           "1004만"
          ],
          [
           "1802억",
           "2448만"
          ],
          [
           "",
           "1897만"
          ]
         ],
         "hovertemplate": "배우=신정근<br>장르=%{x}<br>출연 횟수=%{y}<br>총 매출액=%{customdata[0]}<br>총 관객수=%{customdata[1]}<extra></extra>",
         "legendgroup": "신정근",
         "marker": {
          "color": "#636efa",
          "pattern": {
           "shape": ""
          }
         },
         "name": "신정근",
         "offsetgroup": "신정근",
         "orientation": "v",
         "showlegend": true,
         "textposition": "auto",
         "type": "bar",
         "x": [
          "드라마",
          "범죄",
          "사극",
          "액션",
          "코미디"
         ],
         "xaxis": "x",
         "y": [
          8,
          3,
          3,
          9,
          6
         ],
         "yaxis": "y"
        },
        {
         "alignmentgroup": "True",
         "customdata": [
          [
           "923억",
           "2526만"
          ],
          [
           "992억",
           "1214만"
          ],
          [
           "1181억",
           "1707만"
          ],
          [
           "243억",
           "2281만"
          ]
         ],
         "hovertemplate": "배우=정재영<br>장르=%{x}<br>출연 횟수=%{y}<br>총 매출액=%{customdata[0]}<br>총 관객수=%{customdata[1]}<extra></extra>",
         "legendgroup": "정재영",
         "marker": {
          "color": "#EF553B",
          "pattern": {
           "shape": ""
          }
         },
         "name": "정재영",
         "offsetgroup": "정재영",
         "orientation": "v",
         "showlegend": true,
         "textposition": "auto",
         "type": "bar",
         "x": [
          "드라마",
          "사극",
          "액션",
          "전쟁"
         ],
         "xaxis": "x",
         "y": [
          7,
          3,
          5,
          3
         ],
         "yaxis": "y"
        },
        {
         "alignmentgroup": "True",
         "customdata": [
          [
           "759억",
           "1460만"
          ]
         ],
         "hovertemplate": "배우=권병길<br>장르=%{x}<br>출연 횟수=%{y}<br>총 매출액=%{customdata[0]}<br>총 관객수=%{customdata[1]}<extra></extra>",
         "legendgroup": "권병길",
         "marker": {
          "color": "#00cc96",
          "pattern": {
           "shape": ""
          }
         },
         "name": "권병길",
         "offsetgroup": "권병길",
         "orientation": "v",
         "showlegend": true,
         "textposition": "auto",
         "type": "bar",
         "x": [
          "드라마"
         ],
         "xaxis": "x",
         "y": [
          7
         ],
         "yaxis": "y"
        },
        {
         "alignmentgroup": "True",
         "customdata": [
          [
           "491억",
           "2213만"
          ],
          [
           "287억",
           "380만"
          ],
          [
           "1715억",
           "2283만"
          ]
         ],
         "hovertemplate": "배우=신하균<br>장르=%{x}<br>출연 횟수=%{y}<br>총 매출액=%{customdata[0]}<br>총 관객수=%{customdata[1]}<extra></extra>",
         "legendgroup": "신하균",
         "marker": {
          "color": "#ab63fa",
          "pattern": {
           "shape": ""
          }
         },
         "name": "신하균",
         "offsetgroup": "신하균",
         "orientation": "v",
         "showlegend": true,
         "textposition": "auto",
         "type": "bar",
         "x": [
          "드라마",
          "액션",
          "코미디"
         ],
         "xaxis": "x",
         "y": [
          7,
          3,
          5
         ],
         "yaxis": "y"
        },
        {
         "alignmentgroup": "True",
         "customdata": [
          [
           "3910억",
           "4785만"
          ],
          [
           "4320억",
           "4727만"
          ],
          [
           "1377억",
           "1732만"
          ],
          [
           "5043억",
           "5612만"
          ],
          [
           "371억",
           "481만"
          ]
         ],
         "hovertemplate": "배우=마동석<br>장르=%{x}<br>출연 횟수=%{y}<br>총 매출액=%{customdata[0]}<br>총 관객수=%{customdata[1]}<extra></extra>",
         "legendgroup": "마동석",
         "marker": {
          "color": "#FFA15A",
          "pattern": {
           "shape": ""
          }
         },
         "name": "마동석",
         "offsetgroup": "마동석",
         "orientation": "v",
         "showlegend": true,
         "textposition": "auto",
         "type": "bar",
         "x": [
          "드라마",
          "범죄",
          "스릴러",
          "액션",
          "코미디"
         ],
         "xaxis": "x",
         "y": [
          7,
          8,
          4,
          8,
          3
         ],
         "yaxis": "y"
        },
        {
         "alignmentgroup": "True",
         "customdata": [
          [
           "3807억",
           "4600만"
          ],
          [
           "2649억",
           "3334만"
          ]
         ],
         "hovertemplate": "배우=김향기<br>장르=%{x}<br>출연 횟수=%{y}<br>총 매출액=%{customdata[0]}<br>총 관객수=%{customdata[1]}<extra></extra>",
         "legendgroup": "김향기",
         "marker": {
          "color": "#19d3f3",
          "pattern": {
           "shape": ""
          }
         },
         "name": "김향기",
         "offsetgroup": "김향기",
         "orientation": "v",
         "showlegend": true,
         "textposition": "auto",
         "type": "bar",
         "x": [
          "드라마",
          "판타지"
         ],
         "xaxis": "x",
         "y": [
          7,
          3
         ],
         "yaxis": "y"
        },
        {
         "alignmentgroup": "True",
         "customdata": [
          [
           "3177억",
           "3879만"
          ]
         ],
         "hovertemplate": "배우=주지훈<br>장르=%{x}<br>출연 횟수=%{y}<br>총 매출액=%{customdata[0]}<br>총 관객수=%{customdata[1]}<extra></extra>",
         "legendgroup": "주지훈",
         "marker": {
          "color": "#FF6692",
          "pattern": {
           "shape": ""
          }
         },
         "name": "주지훈",
         "offsetgroup": "주지훈",
         "orientation": "v",
         "showlegend": true,
         "textposition": "auto",
         "type": "bar",
         "x": [
          "드라마"
         ],
         "xaxis": "x",
         "y": [
          7
         ],
         "yaxis": "y"
        },
        {
         "alignmentgroup": "True",
         "customdata": [
          [
           "2905억",
           "3536만"
          ],
          [
           "1779억",
           "2192만"
          ],
          [
           "1978억",
           "2263만"
          ]
         ],
         "hovertemplate": "배우=조재윤<br>장르=%{x}<br>출연 횟수=%{y}<br>총 매출액=%{customdata[0]}<br>총 관객수=%{customdata[1]}<extra></extra>",
         "legendgroup": "조재윤",
         "marker": {
          "color": "#B6E880",
          "pattern": {
           "shape": ""
          }
         },
         "name": "조재윤",
         "offsetgroup": "조재윤",
         "orientation": "v",
         "showlegend": true,
         "textposition": "auto",
         "type": "bar",
         "x": [
          "드라마",
          "범죄",
          "액션"
         ],
         "xaxis": "x",
         "y": [
          7,
          6,
          5
         ],
         "yaxis": "y"
        },
        {
         "alignmentgroup": "True",
         "customdata": [
          [
           "2583억",
           "3289만"
          ],
          [
           "440억",
           "563만"
          ],
          [
           "1483억",
           "1849만"
          ],
          [
           "504억",
           "671만"
          ],
          [
           "1931억",
           "2435만"
          ]
         ],
         "hovertemplate": "배우=배성우<br>장르=%{x}<br>출연 횟수=%{y}<br>총 매출액=%{customdata[0]}<br>총 관객수=%{customdata[1]}<extra></extra>",
         "legendgroup": "배성우",
         "marker": {
          "color": "#FF97FF",
          "pattern": {
           "shape": ""
          }
         },
         "name": "배성우",
         "offsetgroup": "배성우",
         "orientation": "v",
         "showlegend": true,
         "textposition": "auto",
         "type": "bar",
         "x": [
          "드라마",
          "멜로/로맨스",
          "범죄",
          "스릴러",
          "액션"
         ],
         "xaxis": "x",
         "y": [
          7,
          3,
          4,
          3,
          5
         ],
         "yaxis": "y"
        },
        {
         "alignmentgroup": "True",
         "customdata": [
          [
           "2442억",
           "3495만"
          ],
          [
           "2804억",
           "3740만"
          ],
          [
           "2208억",
           "2897만"
          ],
          [
           "2779억",
           "3539만"
          ]
         ],
         "hovertemplate": "배우=류승룡<br>장르=%{x}<br>출연 횟수=%{y}<br>총 매출액=%{customdata[0]}<br>총 관객수=%{customdata[1]}<extra></extra>",
         "legendgroup": "류승룡",
         "marker": {
          "color": "#FECB52",
          "pattern": {
           "shape": ""
          }
         },
         "name": "류승룡",
         "offsetgroup": "류승룡",
         "orientation": "v",
         "showlegend": true,
         "textposition": "auto",
         "type": "bar",
         "x": [
          "드라마",
          "사극",
          "액션",
          "코미디"
         ],
         "xaxis": "x",
         "y": [
          7,
          3,
          4,
          4
         ],
         "yaxis": "y"
        },
        {
         "alignmentgroup": "True",
         "customdata": [
          [
           "2408억",
           "3337만"
          ],
          [
           "135억",
           "607만"
          ],
          [
           "517억",
           "980만"
          ],
          [
           "447억",
           "598만"
          ]
         ],
         "hovertemplate": "배우=김인권<br>장르=%{x}<br>출연 횟수=%{y}<br>총 매출액=%{customdata[0]}<br>총 관객수=%{customdata[1]}<extra></extra>",
         "legendgroup": "김인권",
         "marker": {
          "color": "#636efa",
          "pattern": {
           "shape": ""
          }
         },
         "name": "김인권",
         "offsetgroup": "김인권",
         "orientation": "v",
         "showlegend": true,
         "textposition": "auto",
         "type": "bar",
         "x": [
          "드라마",
          "멜로/로맨스",
          "액션",
          "코미디"
         ],
         "xaxis": "x",
         "y": [
          7,
          3,
          3,
          3
         ],
         "yaxis": "y"
        },
        {
         "alignmentgroup": "True",
         "customdata": [
          [
           "2332억",
           "2709만"
          ],
          [
           "1410억",
           "1799만"
          ],
          [
           "1119억",
           "1164만"
          ]
         ],
         "hovertemplate": "배우=김대명<br>장르=%{x}<br>출연 횟수=%{y}<br>총 매출액=%{customdata[0]}<br>총 관객수=%{customdata[1]}<extra></extra>",
         "legendgroup": "김대명",
         "marker": {
          "color": "#EF553B",
          "pattern": {
           "shape": ""
          }
         },
         "name": "김대명",
         "offsetgroup": "김대명",
         "orientation": "v",
         "showlegend": true,
         "textposition": "auto",
         "type": "bar",
         "x": [
          "드라마",
          "범죄",
          "액션"
         ],
         "xaxis": "x",
         "y": [
          7,
          5,
          3
         ],
         "yaxis": "y"
        },
        {
         "alignmentgroup": "True",
         "customdata": [
          [
           "2279억",
           "2786만"
          ],
          [
           "1534억",
           "1854만"
          ],
          [
           "850억",
           "1023만"
          ],
          [
           "1053억",
           "1237만"
          ]
         ],
         "hovertemplate": "배우=조우진<br>장르=%{x}<br>출연 횟수=%{y}<br>총 매출액=%{customdata[0]}<br>총 관객수=%{customdata[1]}<extra></extra>",
         "legendgroup": "조우진",
         "marker": {
          "color": "#00cc96",
          "pattern": {
           "shape": ""
          }
         },
         "name": "조우진",
         "offsetgroup": "조우진",
         "orientation": "v",
         "showlegend": true,
         "textposition": "auto",
         "type": "bar",
         "x": [
          "드라마",
          "범죄",
          "사극",
          "액션"
         ],
         "xaxis": "x",
         "y": [
          7,
          6,
          3,
          4
         ],
         "yaxis": "y"
        },
        {
         "alignmentgroup": "True",
         "customdata": [
          [
           "2182억",
           "2838만"
          ]
         ],
         "hovertemplate": "배우=유아인<br>장르=%{x}<br>출연 횟수=%{y}<br>총 매출액=%{customdata[0]}<br>총 관객수=%{customdata[1]}<extra></extra>",
         "legendgroup": "유아인",
         "marker": {
          "color": "#ab63fa",
          "pattern": {
           "shape": ""
          }
         },
         "name": "유아인",
         "offsetgroup": "유아인",
         "orientation": "v",
         "showlegend": true,
         "textposition": "auto",
         "type": "bar",
         "x": [
          "드라마"
         ],
         "xaxis": "x",
         "y": [
          7
         ],
         "yaxis": "y"
        },
        {
         "alignmentgroup": "True",
         "customdata": [
          [
           "1934억",
           "2637만"
          ],
          [
           "2087억",
           "2873만"
          ],
          [
           "1330억",
           "2026만"
          ],
          [
           "882억",
           "1351만"
          ]
         ],
         "hovertemplate": "배우=김병옥<br>장르=%{x}<br>출연 횟수=%{y}<br>총 매출액=%{customdata[0]}<br>총 관객수=%{customdata[1]}<extra></extra>",
         "legendgroup": "김병옥",
         "marker": {
          "color": "#FFA15A",
          "pattern": {
           "shape": ""
          }
         },
         "name": "김병옥",
         "offsetgroup": "김병옥",
         "orientation": "v",
         "showlegend": true,
         "textposition": "auto",
         "type": "bar",
         "x": [
          "드라마",
          "범죄",
          "액션",
          "코미디"
         ],
         "xaxis": "x",
         "y": [
          7,
          7,
          8,
          3
         ],
         "yaxis": "y"
        },
        {
         "alignmentgroup": "True",
         "customdata": [
          [
           "1320억",
           "1662만"
          ]
         ],
         "hovertemplate": "배우=민진웅<br>장르=%{x}<br>출연 횟수=%{y}<br>총 매출액=%{customdata[0]}<br>총 관객수=%{customdata[1]}<extra></extra>",
         "legendgroup": "민진웅",
         "marker": {
          "color": "#19d3f3",
          "pattern": {
           "shape": ""
          }
         },
         "name": "민진웅",
         "offsetgroup": "민진웅",
         "orientation": "v",
         "showlegend": true,
         "textposition": "auto",
         "type": "bar",
         "x": [
          "드라마"
         ],
         "xaxis": "x",
         "y": [
          7
         ],
         "yaxis": "y"
        },
        {
         "alignmentgroup": "True",
         "customdata": [
          [
           "1295억",
           "2237만"
          ],
          [
           "912억",
           "1094만"
          ]
         ],
         "hovertemplate": "배우=남명렬<br>장르=%{x}<br>출연 횟수=%{y}<br>총 매출액=%{customdata[0]}<br>총 관객수=%{customdata[1]}<extra></extra>",
         "legendgroup": "남명렬",
         "marker": {
          "color": "#FF6692",
          "pattern": {
           "shape": ""
          }
         },
         "name": "남명렬",
         "offsetgroup": "남명렬",
         "orientation": "v",
         "showlegend": true,
         "textposition": "auto",
         "type": "bar",
         "x": [
          "드라마",
          "범죄"
         ],
         "xaxis": "x",
         "y": [
          7,
          3
         ],
         "yaxis": "y"
        },
        {
         "alignmentgroup": "True",
         "customdata": [
          [
           "1292억",
           "1744만"
          ],
          [
           "375억",
           "505만"
          ],
          [
           "533억",
           "664만"
          ],
          [
           "1386억",
           "1793만"
          ],
          [
           "521억",
           "719만"
          ]
         ],
         "hovertemplate": "배우=김희원<br>장르=%{x}<br>출연 횟수=%{y}<br>총 매출액=%{customdata[0]}<br>총 관객수=%{customdata[1]}<extra></extra>",
         "legendgroup": "김희원",
         "marker": {
          "color": "#B6E880",
          "pattern": {
           "shape": ""
          }
         },
         "name": "김희원",
         "offsetgroup": "김희원",
         "orientation": "v",
         "showlegend": true,
         "textposition": "auto",
         "type": "bar",
         "x": [
          "드라마",
          "멜로/로맨스",
          "범죄",
          "액션",
          "코미디"
         ],
         "xaxis": "x",
         "y": [
          7,
          3,
          3,
          7,
          5
         ],
         "yaxis": "y"
        },
        {
         "alignmentgroup": "True",
         "customdata": [
          [
           "1193억",
           "2045만"
          ],
          [
           "1010억",
           "1230만"
          ],
          [
           "1009억",
           "1316만"
          ]
         ],
         "hovertemplate": "배우=조영진<br>장르=%{x}<br>출연 횟수=%{y}<br>총 매출액=%{customdata[0]}<br>총 관객수=%{customdata[1]}<extra></extra>",
         "legendgroup": "조영진",
         "marker": {
          "color": "#FF97FF",
          "pattern": {
           "shape": ""
          }
         },
         "name": "조영진",
         "offsetgroup": "조영진",
         "orientation": "v",
         "showlegend": true,
         "textposition": "auto",
         "type": "bar",
         "x": [
          "드라마",
          "범죄",
          "액션"
         ],
         "xaxis": "x",
         "y": [
          7,
          5,
          3
         ],
         "yaxis": "y"
        },
        {
         "alignmentgroup": "True",
         "customdata": [
          [
           "1000억",
           "2431만"
          ],
          [
           "191억",
           "436만"
          ],
          [
           "1291억",
           "1795만"
          ]
         ],
         "hovertemplate": "배우=김정태<br>장르=%{x}<br>출연 횟수=%{y}<br>총 매출액=%{customdata[0]}<br>총 관객수=%{customdata[1]}<extra></extra>",
         "legendgroup": "김정태",
         "marker": {
          "color": "#FECB52",
          "pattern": {
           "shape": ""
          }
         },
         "name": "김정태",
         "offsetgroup": "김정태",
         "orientation": "v",
         "showlegend": true,
         "textposition": "auto",
         "type": "bar",
         "x": [
          "드라마",
          "액션",
          "코미디"
         ],
         "xaxis": "x",
         "y": [
          7,
          3,
          3
         ],
         "yaxis": "y"
        },
        {
         "alignmentgroup": "True",
         "customdata": [
          [
           "",
           "1304만"
          ]
         ],
         "hovertemplate": "배우=윤여정<br>장르=%{x}<br>출연 횟수=%{y}<br>총 매출액=%{customdata[0]}<br>총 관객수=%{customdata[1]}<extra></extra>",
         "legendgroup": "윤여정",
         "marker": {
          "color": "#636efa",
          "pattern": {
           "shape": ""
          }
         },
         "name": "윤여정",
         "offsetgroup": "윤여정",
         "orientation": "v",
         "showlegend": true,
         "textposition": "auto",
         "type": "bar",
         "x": [
          "드라마"
         ],
         "xaxis": "x",
         "y": [
          7
         ],
         "yaxis": "y"
        },
        {
         "alignmentgroup": "True",
         "customdata": [
          [
           "972억",
           "1701만"
          ],
          [
           "549억",
           "716만"
          ],
          [
           "578억",
           "952만"
          ],
          [
           "187억",
           "633만"
          ]
         ],
         "hovertemplate": "배우=이철민<br>장르=%{x}<br>출연 횟수=%{y}<br>총 매출액=%{customdata[0]}<br>총 관객수=%{customdata[1]}<extra></extra>",
         "legendgroup": "이철민",
         "marker": {
          "color": "#EF553B",
          "pattern": {
           "shape": ""
          }
         },
         "name": "이철민",
         "offsetgroup": "이철민",
         "orientation": "v",
         "showlegend": true,
         "textposition": "auto",
         "type": "bar",
         "x": [
          "드라마",
          "스릴러",
          "액션",
          "코미디"
         ],
         "xaxis": "x",
         "y": [
          6,
          3,
          5,
          3
         ],
         "yaxis": "y"
        },
        {
         "alignmentgroup": "True",
         "customdata": [
          [
           "902억",
           "1055만"
          ]
         ],
         "hovertemplate": "배우=김고은<br>장르=%{x}<br>출연 횟수=%{y}<br>총 매출액=%{customdata[0]}<br>총 관객수=%{customdata[1]}<extra></extra>",
         "legendgroup": "김고은",
         "marker": {
          "color": "#00cc96",
          "pattern": {
           "shape": ""
          }
         },
         "name": "김고은",
         "offsetgroup": "김고은",
         "orientation": "v",
         "showlegend": true,
         "textposition": "auto",
         "type": "bar",
         "x": [
          "드라마"
         ],
         "xaxis": "x",
         "y": [
          6
         ],
         "yaxis": "y"
        },
        {
         "alignmentgroup": "True",
         "customdata": [
          [
           "816억",
           "1476만"
          ]
         ],
         "hovertemplate": "배우=이주실<br>장르=%{x}<br>출연 횟수=%{y}<br>총 매출액=%{customdata[0]}<br>총 관객수=%{customdata[1]}<extra></extra>",
         "legendgroup": "이주실",
         "marker": {
          "color": "#ab63fa",
          "pattern": {
           "shape": ""
          }
         },
         "name": "이주실",
         "offsetgroup": "이주실",
         "orientation": "v",
         "showlegend": true,
         "textposition": "auto",
         "type": "bar",
         "x": [
          "드라마"
         ],
         "xaxis": "x",
         "y": [
          6
         ],
         "yaxis": "y"
        },
        {
         "alignmentgroup": "True",
         "customdata": [
          [
           "457억",
           "2461만"
          ],
          [
           "292억",
           "783만"
          ]
         ],
         "hovertemplate": "배우=장동건<br>장르=%{x}<br>출연 횟수=%{y}<br>총 매출액=%{customdata[0]}<br>총 관객수=%{customdata[1]}<extra></extra>",
         "legendgroup": "장동건",
         "marker": {
          "color": "#FFA15A",
          "pattern": {
           "shape": ""
          }
         },
         "name": "장동건",
         "offsetgroup": "장동건",
         "orientation": "v",
         "showlegend": true,
         "textposition": "auto",
         "type": "bar",
         "x": [
          "드라마",
          "액션"
         ],
         "xaxis": "x",
         "y": [
          6,
          3
         ],
         "yaxis": "y"
        },
        {
         "alignmentgroup": "True",
         "customdata": [
          [
           "406억",
           "1061만"
          ]
         ],
         "hovertemplate": "배우=정경호<br>장르=%{x}<br>출연 횟수=%{y}<br>총 매출액=%{customdata[0]}<br>총 관객수=%{customdata[1]}<extra></extra>",
         "legendgroup": "정경호",
         "marker": {
          "color": "#19d3f3",
          "pattern": {
           "shape": ""
          }
         },
         "name": "정경호",
         "offsetgroup": "정경호",
         "orientation": "v",
         "showlegend": true,
         "textposition": "auto",
         "type": "bar",
         "x": [
          "드라마"
         ],
         "xaxis": "x",
         "y": [
          6
         ],
         "yaxis": "y"
        },
        {
         "alignmentgroup": "True",
         "customdata": [
          [
           "368억",
           "1194만"
          ],
          [
           "157억",
           "926만"
          ],
          [
           "251억",
           "500만"
          ]
         ],
         "hovertemplate": "배우=김광규<br>장르=%{x}<br>출연 횟수=%{y}<br>총 매출액=%{customdata[0]}<br>총 관객수=%{customdata[1]}<extra></extra>",
         "legendgroup": "김광규",
         "marker": {
          "color": "#FF6692",
          "pattern": {
           "shape": ""
          }
         },
         "name": "김광규",
         "offsetgroup": "김광규",
         "orientation": "v",
         "showlegend": true,
         "textposition": "auto",
         "type": "bar",
         "x": [
          "드라마",
          "멜로/로맨스",
          "코미디"
         ],
         "xaxis": "x",
         "y": [
          6,
          4,
          3
         ],
         "yaxis": "y"
        },
        {
         "alignmentgroup": "True",
         "customdata": [
          [
           "3097억",
           "3488만"
          ],
          [
           "872억",
           "1085만"
          ],
          [
           "658억",
           "895만"
          ],
          [
           "2371억",
           "2911만"
          ],
          [
           "1193억",
           "1564만"
          ]
         ],
         "hovertemplate": "배우=김성균<br>장르=%{x}<br>출연 횟수=%{y}<br>총 매출액=%{customdata[0]}<br>총 관객수=%{customdata[1]}<extra></extra>",
         "legendgroup": "김성균",
         "marker": {
          "color": "#B6E880",
          "pattern": {
           "shape": ""
          }
         },
         "name": "김성균",
         "offsetgroup": "김성균",
         "orientation": "v",
         "showlegend": true,
         "textposition": "auto",
         "type": "bar",
         "x": [
          "드라마",
          "범죄",
          "스릴러",
          "액션",
          "코미디"
         ],
         "xaxis": "x",
         "y": [
          6,
          4,
          3,
          7,
          4
         ],
         "yaxis": "y"
        },
        {
         "alignmentgroup": "True",
         "customdata": [
          [
           "2182억",
           "2767만"
          ],
          [
           "1124억",
           "1210만"
          ]
         ],
         "hovertemplate": "배우=전배수<br>장르=%{x}<br>출연 횟수=%{y}<br>총 매출액=%{customdata[0]}<br>총 관객수=%{customdata[1]}<extra></extra>",
         "legendgroup": "전배수",
         "marker": {
          "color": "#FF97FF",
          "pattern": {
           "shape": ""
          }
         },
         "name": "전배수",
         "offsetgroup": "전배수",
         "orientation": "v",
         "showlegend": true,
         "textposition": "auto",
         "type": "bar",
         "x": [
          "드라마",
          "액션"
         ],
         "xaxis": "x",
         "y": [
          6,
          3
         ],
         "yaxis": "y"
        },
        {
         "alignmentgroup": "True",
         "customdata": [
          [
           "1908억",
           "2420만"
          ],
          [
           "553억",
           "723만"
          ],
          [
           "764억",
           "992만"
          ]
         ],
         "hovertemplate": "배우=김승훈<br>장르=%{x}<br>출연 횟수=%{y}<br>총 매출액=%{customdata[0]}<br>총 관객수=%{customdata[1]}<extra></extra>",
         "legendgroup": "김승훈",
         "marker": {
          "color": "#FECB52",
          "pattern": {
           "shape": ""
          }
         },
         "name": "김승훈",
         "offsetgroup": "김승훈",
         "orientation": "v",
         "showlegend": true,
         "textposition": "auto",
         "type": "bar",
         "x": [
          "드라마",
          "범죄",
          "사극"
         ],
         "xaxis": "x",
         "y": [
          6,
          3,
          3
         ],
         "yaxis": "y"
        },
        {
         "alignmentgroup": "True",
         "customdata": [
          [
           "1704억",
           "2120만"
          ],
          [
           "181억",
           "363만"
          ]
         ],
         "hovertemplate": "배우=이희준<br>장르=%{x}<br>출연 횟수=%{y}<br>총 매출액=%{customdata[0]}<br>총 관객수=%{customdata[1]}<extra></extra>",
         "legendgroup": "이희준",
         "marker": {
          "color": "#636efa",
          "pattern": {
           "shape": ""
          }
         },
         "name": "이희준",
         "offsetgroup": "이희준",
         "orientation": "v",
         "showlegend": true,
         "textposition": "auto",
         "type": "bar",
         "x": [
          "드라마",
          "코미디"
         ],
         "xaxis": "x",
         "y": [
          6,
          3
         ],
         "yaxis": "y"
        },
        {
         "alignmentgroup": "True",
         "customdata": [
          [
           "1671억",
           "2189만"
          ]
         ],
         "hovertemplate": "배우=박수영<br>장르=%{x}<br>출연 횟수=%{y}<br>총 매출액=%{customdata[0]}<br>총 관객수=%{customdata[1]}<extra></extra>",
         "legendgroup": "박수영",
         "marker": {
          "color": "#EF553B",
          "pattern": {
           "shape": ""
          }
         },
         "name": "박수영",
         "offsetgroup": "박수영",
         "orientation": "v",
         "showlegend": true,
         "textposition": "auto",
         "type": "bar",
         "x": [
          "드라마"
         ],
         "xaxis": "x",
         "y": [
          6
         ],
         "yaxis": "y"
        },
        {
         "alignmentgroup": "True",
         "customdata": [
          [
           "1581억",
           "2740만"
          ],
          [
           "1289억",
           "1579만"
          ]
         ],
         "hovertemplate": "배우=백윤식<br>장르=%{x}<br>출연 횟수=%{y}<br>총 매출액=%{customdata[0]}<br>총 관객수=%{customdata[1]}<extra></extra>",
         "legendgroup": "백윤식",
         "marker": {
          "color": "#00cc96",
          "pattern": {
           "shape": ""
          }
         },
         "name": "백윤식",
         "offsetgroup": "백윤식",
         "orientation": "v",
         "showlegend": true,
         "textposition": "auto",
         "type": "bar",
         "x": [
          "드라마",
          "사극"
         ],
         "xaxis": "x",
         "y": [
          6,
          3
         ],
         "yaxis": "y"
        },
        {
         "alignmentgroup": "True",
         "customdata": [
          [
           "1342억",
           "2479만"
          ],
          [
           "586억",
           "796만"
          ],
          [
           "282억",
           "558만"
          ],
          [
           "769억",
           "1008만"
          ]
         ],
         "hovertemplate": "배우=박철민<br>장르=%{x}<br>출연 횟수=%{y}<br>총 매출액=%{customdata[0]}<br>총 관객수=%{customdata[1]}<extra></extra>",
         "legendgroup": "박철민",
         "marker": {
          "color": "#ab63fa",
          "pattern": {
           "shape": ""
          }
         },
         "name": "박철민",
         "offsetgroup": "박철민",
         "orientation": "v",
         "showlegend": true,
         "textposition": "auto",
         "type": "bar",
         "x": [
          "드라마",
          "멜로/로맨스",
          "스릴러",
          "코미디"
         ],
         "xaxis": "x",
         "y": [
          6,
          3,
          3,
          4
         ],
         "yaxis": "y"
        },
        {
         "alignmentgroup": "True",
         "customdata": [
          [
           "1258억",
           "2119만"
          ],
          [
           "157억",
           "460만"
          ],
          [
           "1013억",
           "1489만"
          ],
          [
           "",
           "834만"
          ]
         ],
         "hovertemplate": "배우=하지원<br>장르=%{x}<br>출연 횟수=%{y}<br>총 매출액=%{customdata[0]}<br>총 관객수=%{customdata[1]}<extra></extra>",
         "legendgroup": "하지원",
         "marker": {
          "color": "#FFA15A",
          "pattern": {
           "shape": ""
          }
         },
         "name": "하지원",
         "offsetgroup": "하지원",
         "orientation": "v",
         "showlegend": true,
         "textposition": "auto",
         "type": "bar",
         "x": [
          "드라마",
          "멜로/로맨스",
          "액션",
          "코미디"
         ],
         "xaxis": "x",
         "y": [
          6,
          3,
          3,
          3
         ],
         "yaxis": "y"
        },
        {
         "alignmentgroup": "True",
         "customdata": [
          [
           "1257억",
           "2516만"
          ],
          [
           "169억",
           "556만"
          ]
         ],
         "hovertemplate": "배우=김혜수<br>장르=%{x}<br>출연 횟수=%{y}<br>총 매출액=%{customdata[0]}<br>총 관객수=%{customdata[1]}<extra></extra>",
         "legendgroup": "김혜수",
         "marker": {
          "color": "#19d3f3",
          "pattern": {
           "shape": ""
          }
         },
         "name": "김혜수",
         "offsetgroup": "김혜수",
         "orientation": "v",
         "showlegend": true,
         "textposition": "auto",
         "type": "bar",
         "x": [
          "드라마",
          "코미디"
         ],
         "xaxis": "x",
         "y": [
          6,
          3
         ],
         "yaxis": "y"
        },
        {
         "alignmentgroup": "True",
         "customdata": [
          [
           "1207억",
           "1697만"
          ],
          [
           "211억",
           "502만"
          ],
          [
           "674억",
           "1142만"
          ]
         ],
         "hovertemplate": "배우=박희순<br>장르=%{x}<br>출연 횟수=%{y}<br>총 매출액=%{customdata[0]}<br>총 관객수=%{customdata[1]}<extra></extra>",
         "legendgroup": "박희순",
         "marker": {
          "color": "#FF6692",
          "pattern": {
           "shape": ""
          }
         },
         "name": "박희순",
         "offsetgroup": "박희순",
         "orientation": "v",
         "showlegend": true,
         "textposition": "auto",
         "type": "bar",
         "x": [
          "드라마",
          "범죄",
          "스릴러"
         ],
         "xaxis": "x",
         "y": [
          6,
          3,
          5
         ],
         "yaxis": "y"
        },
        {
         "alignmentgroup": "True",
         "customdata": [
          [
           "112억",
           "1659만"
          ],
          [
           "",
           "581만"
          ]
         ],
         "hovertemplate": "배우=손병호<br>장르=%{x}<br>출연 횟수=%{y}<br>총 매출액=%{customdata[0]}<br>총 관객수=%{customdata[1]}<extra></extra>",
         "legendgroup": "손병호",
         "marker": {
          "color": "#B6E880",
          "pattern": {
           "shape": ""
          }
         },
         "name": "손병호",
         "offsetgroup": "손병호",
         "orientation": "v",
         "showlegend": true,
         "textposition": "auto",
         "type": "bar",
         "x": [
          "드라마",
          "코미디"
         ],
         "xaxis": "x",
         "y": [
          6,
          3
         ],
         "yaxis": "y"
        },
        {
         "alignmentgroup": "True",
         "customdata": [
          [
           "",
           "2420만"
          ]
         ],
         "hovertemplate": "배우=조승우<br>장르=%{x}<br>출연 횟수=%{y}<br>총 매출액=%{customdata[0]}<br>총 관객수=%{customdata[1]}<extra></extra>",
         "legendgroup": "조승우",
         "marker": {
          "color": "#FF97FF",
          "pattern": {
           "shape": ""
          }
         },
         "name": "조승우",
         "offsetgroup": "조승우",
         "orientation": "v",
         "showlegend": true,
         "textposition": "auto",
         "type": "bar",
         "x": [
          "드라마"
         ],
         "xaxis": "x",
         "y": [
          6
         ],
         "yaxis": "y"
        },
        {
         "alignmentgroup": "True",
         "customdata": [
          [
           "",
           "1492만"
          ]
         ],
         "hovertemplate": "배우=문소리<br>장르=%{x}<br>출연 횟수=%{y}<br>총 매출액=%{customdata[0]}<br>총 관객수=%{customdata[1]}<extra></extra>",
         "legendgroup": "문소리",
         "marker": {
          "color": "#FECB52",
          "pattern": {
           "shape": ""
          }
         },
         "name": "문소리",
         "offsetgroup": "문소리",
         "orientation": "v",
         "showlegend": true,
         "textposition": "auto",
         "type": "bar",
         "x": [
          "드라마"
         ],
         "xaxis": "x",
         "y": [
          6
         ],
         "yaxis": "y"
        },
        {
         "alignmentgroup": "True",
         "customdata": [
          [
           "997억",
           "2513만"
          ]
         ],
         "hovertemplate": "배우=배두나<br>장르=%{x}<br>출연 횟수=%{y}<br>총 매출액=%{customdata[0]}<br>총 관객수=%{customdata[1]}<extra></extra>",
         "legendgroup": "배두나",
         "marker": {
          "color": "#636efa",
          "pattern": {
           "shape": ""
          }
         },
         "name": "배두나",
         "offsetgroup": "배두나",
         "orientation": "v",
         "showlegend": true,
         "textposition": "auto",
         "type": "bar",
         "x": [
          "드라마"
         ],
         "xaxis": "x",
         "y": [
          5
         ],
         "yaxis": "y"
        },
        {
         "alignmentgroup": "True",
         "customdata": [
          [
           "996억",
           "1860만"
          ],
          [
           "310억",
           "578만"
          ],
          [
           "1102억",
           "1680만"
          ]
         ],
         "hovertemplate": "배우=지대한<br>장르=%{x}<br>출연 횟수=%{y}<br>총 매출액=%{customdata[0]}<br>총 관객수=%{customdata[1]}<extra></extra>",
         "legendgroup": "지대한",
         "marker": {
          "color": "#EF553B",
          "pattern": {
           "shape": ""
          }
         },
         "name": "지대한",
         "offsetgroup": "지대한",
         "orientation": "v",
         "showlegend": true,
         "textposition": "auto",
         "type": "bar",
         "x": [
          "드라마",
          "범죄",
          "액션"
         ],
         "xaxis": "x",
         "y": [
          5,
          3,
          4
         ],
         "yaxis": "y"
        },
        {
         "alignmentgroup": "True",
         "customdata": [
          [
           "936억",
           "1256만"
          ]
         ],
         "hovertemplate": "배우=이제훈<br>장르=%{x}<br>출연 횟수=%{y}<br>총 매출액=%{customdata[0]}<br>총 관객수=%{customdata[1]}<extra></extra>",
         "legendgroup": "이제훈",
         "marker": {
          "color": "#00cc96",
          "pattern": {
           "shape": ""
          }
         },
         "name": "이제훈",
         "offsetgroup": "이제훈",
         "orientation": "v",
         "showlegend": true,
         "textposition": "auto",
         "type": "bar",
         "x": [
          "드라마"
         ],
         "xaxis": "x",
         "y": [
          5
         ],
         "yaxis": "y"
        },
        {
         "alignmentgroup": "True",
         "customdata": [
          [
           "907억",
           "1624만"
          ]
         ],
         "hovertemplate": "배우=김호연<br>장르=%{x}<br>출연 횟수=%{y}<br>총 매출액=%{customdata[0]}<br>총 관객수=%{customdata[1]}<extra></extra>",
         "legendgroup": "김호연",
         "marker": {
          "color": "#ab63fa",
          "pattern": {
           "shape": ""
          }
         },
         "name": "김호연",
         "offsetgroup": "김호연",
         "orientation": "v",
         "showlegend": true,
         "textposition": "auto",
         "type": "bar",
         "x": [
          "드라마"
         ],
         "xaxis": "x",
         "y": [
          5
         ],
         "yaxis": "y"
        },
        {
         "alignmentgroup": "True",
         "customdata": [
          [
           "900억",
           "1091만"
          ],
          [
           "373억",
           "486만"
          ]
         ],
         "hovertemplate": "배우=권해효<br>장르=%{x}<br>출연 횟수=%{y}<br>총 매출액=%{customdata[0]}<br>총 관객수=%{customdata[1]}<extra></extra>",
         "legendgroup": "권해효",
         "marker": {
          "color": "#FFA15A",
          "pattern": {
           "shape": ""
          }
         },
         "name": "권해효",
         "offsetgroup": "권해효",
         "orientation": "v",
         "showlegend": true,
         "textposition": "auto",
         "type": "bar",
         "x": [
          "드라마",
          "코미디"
         ],
         "xaxis": "x",
         "y": [
          5,
          3
         ],
         "yaxis": "y"
        },
        {
         "alignmentgroup": "True",
         "customdata": [
          [
           "894억",
           "1493만"
          ]
         ],
         "hovertemplate": "배우=박영서<br>장르=%{x}<br>출연 횟수=%{y}<br>총 매출액=%{customdata[0]}<br>총 관객수=%{customdata[1]}<extra></extra>",
         "legendgroup": "박영서",
         "marker": {
          "color": "#19d3f3",
          "pattern": {
           "shape": ""
          }
         },
         "name": "박영서",
         "offsetgroup": "박영서",
         "orientation": "v",
         "showlegend": true,
         "textposition": "auto",
         "type": "bar",
         "x": [
          "드라마"
         ],
         "xaxis": "x",
         "y": [
          5
         ],
         "yaxis": "y"
        },
        {
         "alignmentgroup": "True",
         "customdata": [
          [
           "870억",
           "1991만"
          ],
          [
           "1401억",
           "1996만"
          ],
          [
           "1743억",
           "2654만"
          ]
         ],
         "hovertemplate": "배우=김지영<br>장르=%{x}<br>출연 횟수=%{y}<br>총 매출액=%{customdata[0]}<br>총 관객수=%{customdata[1]}<extra></extra>",
         "legendgroup": "김지영",
         "marker": {
          "color": "#FF6692",
          "pattern": {
           "shape": ""
          }
         },
         "name": "김지영",
         "offsetgroup": "김지영",
         "orientation": "v",
         "showlegend": true,
         "textposition": "auto",
         "type": "bar",
         "x": [
          "드라마",
          "액션",
          "코미디"
         ],
         "xaxis": "x",
         "y": [
          5,
          3,
          6
         ],
         "yaxis": "y"
        },
        {
         "alignmentgroup": "True",
         "customdata": [
          [
           "789억",
           "1675만"
          ],
          [
           "2808억",
           "3556만"
          ],
          [
           "1101억",
           "1685만"
          ]
         ],
         "hovertemplate": "배우=이해영<br>장르=%{x}<br>출연 횟수=%{y}<br>총 매출액=%{customdata[0]}<br>총 관객수=%{customdata[1]}<extra></extra>",
         "legendgroup": "이해영",
         "marker": {
          "color": "#B6E880",
          "pattern": {
           "shape": ""
          }
         },
         "name": "이해영",
         "offsetgroup": "이해영",
         "orientation": "v",
         "showlegend": true,
         "textposition": "auto",
         "type": "bar",
         "x": [
          "드라마",
          "액션",
          "코미디"
         ],
         "xaxis": "x",
         "y": [
          5,
          5,
          5
         ],
         "yaxis": "y"
        },
        {
         "alignmentgroup": "True",
         "customdata": [
          [
           "779억",
           "1006만"
          ],
          [
           "925억",
           "1115만"
          ]
         ],
         "hovertemplate": "배우=강하늘<br>장르=%{x}<br>출연 횟수=%{y}<br>총 매출액=%{customdata[0]}<br>총 관객수=%{customdata[1]}<extra></extra>",
         "legendgroup": "강하늘",
         "marker": {
          "color": "#FF97FF",
          "pattern": {
           "shape": ""
          }
         },
         "name": "강하늘",
         "offsetgroup": "강하늘",
         "orientation": "v",
         "showlegend": true,
         "textposition": "auto",
         "type": "bar",
         "x": [
          "드라마",
          "코미디"
         ],
         "xaxis": "x",
         "y": [
          5,
          6
         ],
         "yaxis": "y"
        },
        {
         "alignmentgroup": "True",
         "customdata": [
          [
           "629억",
           "870만"
          ],
          [
           "1272억",
           "1527만"
          ],
          [
           "2343억",
           "2587만"
          ]
         ],
         "hovertemplate": "배우=진선규<br>장르=%{x}<br>출연 횟수=%{y}<br>총 매출액=%{customdata[0]}<br>총 관객수=%{customdata[1]}<extra></extra>",
         "legendgroup": "진선규",
         "marker": {
          "color": "#FECB52",
          "pattern": {
           "shape": ""
          }
         },
         "name": "진선규",
         "offsetgroup": "진선규",
         "orientation": "v",
         "showlegend": true,
         "textposition": "auto",
         "type": "bar",
         "x": [
          "드라마",
          "범죄",
          "코미디"
         ],
         "xaxis": "x",
         "y": [
          5,
          4,
          4
         ],
         "yaxis": "y"
        },
        {
         "alignmentgroup": "True",
         "customdata": [
          [
           "487억",
           "1093만"
          ],
          [
           "481억",
           "636만"
          ]
         ],
         "hovertemplate": "배우=정호빈<br>장르=%{x}<br>출연 횟수=%{y}<br>총 매출액=%{customdata[0]}<br>총 관객수=%{customdata[1]}<extra></extra>",
         "legendgroup": "정호빈",
         "marker": {
          "color": "#636efa",
          "pattern": {
           "shape": ""
          }
         },
         "name": "정호빈",
         "offsetgroup": "정호빈",
         "orientation": "v",
         "showlegend": true,
         "textposition": "auto",
         "type": "bar",
         "x": [
          "드라마",
          "액션"
         ],
         "xaxis": "x",
         "y": [
          5,
          3
         ],
         "yaxis": "y"
        },
        {
         "alignmentgroup": "True",
         "customdata": [
          [
           "436억",
           "1221만"
          ],
          [
           "436억",
           "750만"
          ]
         ],
         "hovertemplate": "배우=이대연<br>장르=%{x}<br>출연 횟수=%{y}<br>총 매출액=%{customdata[0]}<br>총 관객수=%{customdata[1]}<extra></extra>",
         "legendgroup": "이대연",
         "marker": {
          "color": "#EF553B",
          "pattern": {
           "shape": ""
          }
         },
         "name": "이대연",
         "offsetgroup": "이대연",
         "orientation": "v",
         "showlegend": true,
         "textposition": "auto",
         "type": "bar",
         "x": [
          "드라마",
          "코미디"
         ],
         "xaxis": "x",
         "y": [
          5,
          3
         ],
         "yaxis": "y"
        },
        {
         "alignmentgroup": "True",
         "customdata": [
          [
           "411억",
           "1119만"
          ],
          [
           "743억",
           "957만"
          ],
          [
           "313억",
           "1719만"
          ]
         ],
         "hovertemplate": "배우=차승원<br>장르=%{x}<br>출연 횟수=%{y}<br>총 매출액=%{customdata[0]}<br>총 관객수=%{customdata[1]}<extra></extra>",
         "legendgroup": "차승원",
         "marker": {
          "color": "#00cc96",
          "pattern": {
           "shape": ""
          }
         },
         "name": "차승원",
         "offsetgroup": "차승원",
         "orientation": "v",
         "showlegend": true,
         "textposition": "auto",
         "type": "bar",
         "x": [
          "드라마",
          "액션",
          "코미디"
         ],
         "xaxis": "x",
         "y": [
          5,
          4,
          8
         ],
         "yaxis": "y"
        },
        {
         "alignmentgroup": "True",
         "customdata": [
          [
           "388억",
           "2155만"
          ],
          [
           "227억",
           "475만"
          ]
         ],
         "hovertemplate": "배우=정석용<br>장르=%{x}<br>출연 횟수=%{y}<br>총 매출액=%{customdata[0]}<br>총 관객수=%{customdata[1]}<extra></extra>",
         "legendgroup": "정석용",
         "marker": {
          "color": "#ab63fa",
          "pattern": {
           "shape": ""
          }
         },
         "name": "정석용",
         "offsetgroup": "정석용",
         "orientation": "v",
         "showlegend": true,
         "textposition": "auto",
         "type": "bar",
         "x": [
          "드라마",
          "코미디"
         ],
         "xaxis": "x",
         "y": [
          5,
          3
         ],
         "yaxis": "y"
        },
        {
         "alignmentgroup": "True",
         "customdata": [
          [
           "386억",
           "811만"
          ]
         ],
         "hovertemplate": "배우=김강우<br>장르=%{x}<br>출연 횟수=%{y}<br>총 매출액=%{customdata[0]}<br>총 관객수=%{customdata[1]}<extra></extra>",
         "legendgroup": "김강우",
         "marker": {
          "color": "#FFA15A",
          "pattern": {
           "shape": ""
          }
         },
         "name": "김강우",
         "offsetgroup": "김강우",
         "orientation": "v",
         "showlegend": true,
         "textposition": "auto",
         "type": "bar",
         "x": [
          "드라마"
         ],
         "xaxis": "x",
         "y": [
          5
         ],
         "yaxis": "y"
        },
        {
         "alignmentgroup": "True",
         "customdata": [
          [
           "2641억",
           "3733만"
          ],
          [
           "1671억",
           "2202만"
          ],
          [
           "3191억",
           "4435만"
          ]
         ],
         "hovertemplate": "배우=이정재<br>장르=%{x}<br>출연 횟수=%{y}<br>총 매출액=%{customdata[0]}<br>총 관객수=%{customdata[1]}<extra></extra>",
         "legendgroup": "이정재",
         "marker": {
          "color": "#19d3f3",
          "pattern": {
           "shape": ""
          }
         },
         "name": "이정재",
         "offsetgroup": "이정재",
         "orientation": "v",
         "showlegend": true,
         "textposition": "auto",
         "type": "bar",
         "x": [
          "드라마",
          "범죄",
          "액션"
         ],
         "xaxis": "x",
         "y": [
          5,
          3,
          7
         ],
         "yaxis": "y"
        },
        {
         "alignmentgroup": "True",
         "customdata": [
          [
           "2348억",
           "2736만"
          ],
          [
           "822억",
           "1042만"
          ],
          [
           "367억",
           "439만"
          ]
         ],
         "hovertemplate": "배우=김성오<br>장르=%{x}<br>출연 횟수=%{y}<br>총 매출액=%{customdata[0]}<br>총 관객수=%{customdata[1]}<extra></extra>",
         "legendgroup": "김성오",
         "marker": {
          "color": "#FF6692",
          "pattern": {
           "shape": ""
          }
         },
         "name": "김성오",
         "offsetgroup": "김성오",
         "orientation": "v",
         "showlegend": true,
         "textposition": "auto",
         "type": "bar",
         "x": [
          "드라마",
          "액션",
          "코미디"
         ],
         "xaxis": "x",
         "y": [
          5,
          4,
          3
         ],
         "yaxis": "y"
        },
        {
         "alignmentgroup": "True",
         "customdata": [
          [
           "2341억",
           "2794만"
          ]
         ],
         "hovertemplate": "배우=조한철<br>장르=%{x}<br>출연 횟수=%{y}<br>총 매출액=%{customdata[0]}<br>총 관객수=%{customdata[1]}<extra></extra>",
         "legendgroup": "조한철",
         "marker": {
          "color": "#B6E880",
          "pattern": {
           "shape": ""
          }
         },
         "name": "조한철",
         "offsetgroup": "조한철",
         "orientation": "v",
         "showlegend": true,
         "textposition": "auto",
         "type": "bar",
         "x": [
          "드라마"
         ],
         "xaxis": "x",
         "y": [
          5
         ],
         "yaxis": "y"
        },
        {
         "alignmentgroup": "True",
         "customdata": [
          [
           "2331억",
           "2595만"
          ]
         ],
         "hovertemplate": "배우=곽자형<br>장르=%{x}<br>출연 횟수=%{y}<br>총 매출액=%{customdata[0]}<br>총 관객수=%{customdata[1]}<extra></extra>",
         "legendgroup": "곽자형",
         "marker": {
          "color": "#FF97FF",
          "pattern": {
           "shape": ""
          }
         },
         "name": "곽자형",
         "offsetgroup": "곽자형",
         "orientation": "v",
         "showlegend": true,
         "textposition": "auto",
         "type": "bar",
         "x": [
          "드라마"
         ],
         "xaxis": "x",
         "y": [
          5
         ],
         "yaxis": "y"
        },
        {
         "alignmentgroup": "True",
         "customdata": [
          [
           "2266억",
           "3104만"
          ]
         ],
         "hovertemplate": "배우=심은경<br>장르=%{x}<br>출연 횟수=%{y}<br>총 매출액=%{customdata[0]}<br>총 관객수=%{customdata[1]}<extra></extra>",
         "legendgroup": "심은경",
         "marker": {
          "color": "#FECB52",
          "pattern": {
           "shape": ""
          }
         },
         "name": "심은경",
         "offsetgroup": "심은경",
         "orientation": "v",
         "showlegend": true,
         "textposition": "auto",
         "type": "bar",
         "x": [
          "드라마"
         ],
         "xaxis": "x",
         "y": [
          5
         ],
         "yaxis": "y"
        },
        {
         "alignmentgroup": "True",
         "customdata": [
          [
           "2201억",
           "2465만"
          ],
          [
           "475억",
           "580만"
          ],
          [
           "600억",
           "790만"
          ]
         ],
         "hovertemplate": "배우=최병모<br>장르=%{x}<br>출연 횟수=%{y}<br>총 매출액=%{customdata[0]}<br>총 관객수=%{customdata[1]}<extra></extra>",
         "legendgroup": "최병모",
         "marker": {
          "color": "#636efa",
          "pattern": {
           "shape": ""
          }
         },
         "name": "최병모",
         "offsetgroup": "최병모",
         "orientation": "v",
         "showlegend": true,
         "textposition": "auto",
         "type": "bar",
         "x": [
          "드라마",
          "범죄",
          "액션"
         ],
         "xaxis": "x",
         "y": [
          5,
          3,
          3
         ],
         "yaxis": "y"
        },
        {
         "alignmentgroup": "True",
         "customdata": [
          [
           "2105억",
           "2670만"
          ],
          [
           "2256억",
           "2912만"
          ]
         ],
         "hovertemplate": "배우=김홍파<br>장르=%{x}<br>출연 횟수=%{y}<br>총 매출액=%{customdata[0]}<br>총 관객수=%{customdata[1]}<extra></extra>",
         "legendgroup": "김홍파",
         "marker": {
          "color": "#EF553B",
          "pattern": {
           "shape": ""
          }
         },
         "name": "김홍파",
         "offsetgroup": "김홍파",
         "orientation": "v",
         "showlegend": true,
         "textposition": "auto",
         "type": "bar",
         "x": [
          "드라마",
          "범죄"
         ],
         "xaxis": "x",
         "y": [
          5,
          5
         ],
         "yaxis": "y"
        },
        {
         "alignmentgroup": "True",
         "customdata": [
          [
           "200억",
           "950만"
          ],
          [
           "601억",
           "821만"
          ]
         ],
         "hovertemplate": "배우=기주봉<br>장르=%{x}<br>출연 횟수=%{y}<br>총 매출액=%{customdata[0]}<br>총 관객수=%{customdata[1]}<extra></extra>",
         "legendgroup": "기주봉",
         "marker": {
          "color": "#00cc96",
          "pattern": {
           "shape": ""
          }
         },
         "name": "기주봉",
         "offsetgroup": "기주봉",
         "orientation": "v",
         "showlegend": true,
         "textposition": "auto",
         "type": "bar",
         "x": [
          "드라마",
          "액션"
         ],
         "xaxis": "x",
         "y": [
          5,
          3
         ],
         "yaxis": "y"
        },
        {
         "alignmentgroup": "True",
         "customdata": [
          [
           "1968억",
           "2250만"
          ],
          [
           "2880억",
           "3211만"
          ],
          [
           "3276억",
           "3575만"
          ]
         ],
         "hovertemplate": "배우=박지환<br>장르=%{x}<br>출연 횟수=%{y}<br>총 매출액=%{customdata[0]}<br>총 관객수=%{customdata[1]}<extra></extra>",
         "legendgroup": "박지환",
         "marker": {
          "color": "#ab63fa",
          "pattern": {
           "shape": ""
          }
         },
         "name": "박지환",
         "offsetgroup": "박지환",
         "orientation": "v",
         "showlegend": true,
         "textposition": "auto",
         "type": "bar",
         "x": [
          "드라마",
          "범죄",
          "액션"
         ],
         "xaxis": "x",
         "y": [
          5,
          5,
          7
         ],
         "yaxis": "y"
        },
        {
         "alignmentgroup": "True",
         "customdata": [
          [
           "186억",
           "2129만"
          ],
          [
           "186억",
           "954만"
          ]
         ],
         "hovertemplate": "배우=변희봉<br>장르=%{x}<br>출연 횟수=%{y}<br>총 매출액=%{customdata[0]}<br>총 관객수=%{customdata[1]}<extra></extra>",
         "legendgroup": "변희봉",
         "marker": {
          "color": "#FFA15A",
          "pattern": {
           "shape": ""
          }
         },
         "name": "변희봉",
         "offsetgroup": "변희봉",
         "orientation": "v",
         "showlegend": true,
         "textposition": "auto",
         "type": "bar",
         "x": [
          "드라마",
          "코미디"
         ],
         "xaxis": "x",
         "y": [
          5,
          6
         ],
         "yaxis": "y"
        },
        {
         "alignmentgroup": "True",
         "customdata": [
          [
           "1869억",
           "2567만"
          ],
          [
           "291억",
           "512만"
          ]
         ],
         "hovertemplate": "배우=박정학<br>장르=%{x}<br>출연 횟수=%{y}<br>총 매출액=%{customdata[0]}<br>총 관객수=%{customdata[1]}<extra></extra>",
         "legendgroup": "박정학",
         "marker": {
          "color": "#19d3f3",
          "pattern": {
           "shape": ""
          }
         },
         "name": "박정학",
         "offsetgroup": "박정학",
         "orientation": "v",
         "showlegend": true,
         "textposition": "auto",
         "type": "bar",
         "x": [
          "드라마",
          "액션"
         ],
         "xaxis": "x",
         "y": [
          5,
          3
         ],
         "yaxis": "y"
        },
        {
         "alignmentgroup": "True",
         "customdata": [
          [
           "1852억",
           "2271만"
          ]
         ],
         "hovertemplate": "배우=이봉련<br>장르=%{x}<br>출연 횟수=%{y}<br>총 매출액=%{customdata[0]}<br>총 관객수=%{customdata[1]}<extra></extra>",
         "legendgroup": "이봉련",
         "marker": {
          "color": "#FF6692",
          "pattern": {
           "shape": ""
          }
         },
         "name": "이봉련",
         "offsetgroup": "이봉련",
         "orientation": "v",
         "showlegend": true,
         "textposition": "auto",
         "type": "bar",
         "x": [
          "드라마"
         ],
         "xaxis": "x",
         "y": [
          5
         ],
         "yaxis": "y"
        },
        {
         "alignmentgroup": "True",
         "customdata": [
          [
           "1824억",
           "2296만"
          ],
          [
           "2269억",
           "2865만"
          ],
          [
           "2078억",
           "2473만"
          ]
         ],
         "hovertemplate": "배우=이동휘<br>장르=%{x}<br>출연 횟수=%{y}<br>총 매출액=%{customdata[0]}<br>총 관객수=%{customdata[1]}<extra></extra>",
         "legendgroup": "이동휘",
         "marker": {
          "color": "#B6E880",
          "pattern": {
           "shape": ""
          }
         },
         "name": "이동휘",
         "offsetgroup": "이동휘",
         "orientation": "v",
         "showlegend": true,
         "textposition": "auto",
         "type": "bar",
         "x": [
          "드라마",
          "액션",
          "코미디"
         ],
         "xaxis": "x",
         "y": [
          5,
          4,
          3
         ],
         "yaxis": "y"
        },
        {
         "alignmentgroup": "True",
         "customdata": [
          [
           "1783억",
           "1877만"
          ]
         ],
         "hovertemplate": "배우=박해준<br>장르=%{x}<br>출연 횟수=%{y}<br>총 매출액=%{customdata[0]}<br>총 관객수=%{customdata[1]}<extra></extra>",
         "legendgroup": "박해준",
         "marker": {
          "color": "#FF97FF",
          "pattern": {
           "shape": ""
          }
         },
         "name": "박해준",
         "offsetgroup": "박해준",
         "orientation": "v",
         "showlegend": true,
         "textposition": "auto",
         "type": "bar",
         "x": [
          "드라마"
         ],
         "xaxis": "x",
         "y": [
          5
         ],
         "yaxis": "y"
        },
        {
         "alignmentgroup": "True",
         "customdata": [
          [
           "1576억",
           "2143만"
          ],
          [
           "",
           "1004만"
          ],
          [
           "378억",
           "473만"
          ],
          [
           "",
           "2230만"
          ],
          [
           "1624억",
           "2206만"
          ]
         ],
         "hovertemplate": "배우=성동일<br>장르=%{x}<br>출연 횟수=%{y}<br>총 매출액=%{customdata[0]}<br>총 관객수=%{customdata[1]}<extra></extra>",
         "legendgroup": "성동일",
         "marker": {
          "color": "#FECB52",
          "pattern": {
           "shape": ""
          }
         },
         "name": "성동일",
         "offsetgroup": "성동일",
         "orientation": "v",
         "showlegend": true,
         "textposition": "auto",
         "type": "bar",
         "x": [
          "드라마",
          "범죄",
          "스릴러",
          "액션",
          "코미디"
         ],
         "xaxis": "x",
         "y": [
          5,
          5,
          3,
          5,
          6
         ],
         "yaxis": "y"
        },
        {
         "alignmentgroup": "True",
         "customdata": [
          [
           "1527억",
           "1890만"
          ]
         ],
         "hovertemplate": "배우=김민상<br>장르=%{x}<br>출연 횟수=%{y}<br>총 매출액=%{customdata[0]}<br>총 관객수=%{customdata[1]}<extra></extra>",
         "legendgroup": "김민상",
         "marker": {
          "color": "#636efa",
          "pattern": {
           "shape": ""
          }
         },
         "name": "김민상",
         "offsetgroup": "김민상",
         "orientation": "v",
         "showlegend": true,
         "textposition": "auto",
         "type": "bar",
         "x": [
          "드라마"
         ],
         "xaxis": "x",
         "y": [
          5
         ],
         "yaxis": "y"
        },
        {
         "alignmentgroup": "True",
         "customdata": [
          [
           "1493억",
           "1869만"
          ],
          [
           "1745억",
           "1803만"
          ]
         ],
         "hovertemplate": "배우=남문철<br>장르=%{x}<br>출연 횟수=%{y}<br>총 매출액=%{customdata[0]}<br>총 관객수=%{customdata[1]}<extra></extra>",
         "legendgroup": "남문철",
         "marker": {
          "color": "#EF553B",
          "pattern": {
           "shape": ""
          }
         },
         "name": "남문철",
         "offsetgroup": "남문철",
         "orientation": "v",
         "showlegend": true,
         "textposition": "auto",
         "type": "bar",
         "x": [
          "드라마",
          "범죄"
         ],
         "xaxis": "x",
         "y": [
          5,
          3
         ],
         "yaxis": "y"
        },
        {
         "alignmentgroup": "True",
         "customdata": [
          [
           "1457억",
           "1964만"
          ],
          [
           "2296억",
           "3038만"
          ]
         ],
         "hovertemplate": "배우=예수정<br>장르=%{x}<br>출연 횟수=%{y}<br>총 매출액=%{customdata[0]}<br>총 관객수=%{customdata[1]}<extra></extra>",
         "legendgroup": "예수정",
         "marker": {
          "color": "#00cc96",
          "pattern": {
           "shape": ""
          }
         },
         "name": "예수정",
         "offsetgroup": "예수정",
         "orientation": "v",
         "showlegend": true,
         "textposition": "auto",
         "type": "bar",
         "x": [
          "드라마",
          "액션"
         ],
         "xaxis": "x",
         "y": [
          5,
          4
         ],
         "yaxis": "y"
        },
        {
         "alignmentgroup": "True",
         "customdata": [
          [
           "1451억",
           "2020만"
          ],
          [
           "1458억",
           "1948만"
          ],
          [
           "2295억",
           "2843만"
          ],
          [
           "3728억",
           "4787만"
          ]
         ],
         "hovertemplate": "배우=최덕문<br>장르=%{x}<br>출연 횟수=%{y}<br>총 매출액=%{customdata[0]}<br>총 관객수=%{customdata[1]}<extra></extra>",
         "legendgroup": "최덕문",
         "marker": {
          "color": "#ab63fa",
          "pattern": {
           "shape": ""
          }
         },
         "name": "최덕문",
         "offsetgroup": "최덕문",
         "orientation": "v",
         "showlegend": true,
         "textposition": "auto",
         "type": "bar",
         "x": [
          "드라마",
          "범죄",
          "사극",
          "액션"
         ],
         "xaxis": "x",
         "y": [
          5,
          3,
          3,
          4
         ],
         "yaxis": "y"
        },
        {
         "alignmentgroup": "True",
         "customdata": [
          [
           "1395억",
           "1792만"
          ],
          [
           "929억",
           "1281만"
          ],
          [
           "669억",
           "779만"
          ]
         ],
         "hovertemplate": "배우=유연석<br>장르=%{x}<br>출연 횟수=%{y}<br>총 매출액=%{customdata[0]}<br>총 관객수=%{customdata[1]}<extra></extra>",
         "legendgroup": "유연석",
         "marker": {
          "color": "#FFA15A",
          "pattern": {
           "shape": ""
          }
         },
         "name": "유연석",
         "offsetgroup": "유연석",
         "orientation": "v",
         "showlegend": true,
         "textposition": "auto",
         "type": "bar",
         "x": [
          "드라마",
          "멜로/로맨스",
          "액션"
         ],
         "xaxis": "x",
         "y": [
          5,
          3,
          3
         ],
         "yaxis": "y"
        },
        {
         "alignmentgroup": "True",
         "customdata": [
          [
           "1387억",
           "1780만"
          ],
          [
           "2246억",
           "2726만"
          ]
         ],
         "hovertemplate": "배우=김원해<br>장르=%{x}<br>출연 횟수=%{y}<br>총 매출액=%{customdata[0]}<br>총 관객수=%{customdata[1]}<extra></extra>",
         "legendgroup": "김원해",
         "marker": {
          "color": "#19d3f3",
          "pattern": {
           "shape": ""
          }
         },
         "name": "김원해",
         "offsetgroup": "김원해",
         "orientation": "v",
         "showlegend": true,
         "textposition": "auto",
         "type": "bar",
         "x": [
          "드라마",
          "액션"
         ],
         "xaxis": "x",
         "y": [
          5,
          4
         ],
         "yaxis": "y"
        },
        {
         "alignmentgroup": "True",
         "customdata": [
          [
           "1377억",
           "1714만"
          ]
         ],
         "hovertemplate": "배우=조현철<br>장르=%{x}<br>출연 횟수=%{y}<br>총 매출액=%{customdata[0]}<br>총 관객수=%{customdata[1]}<extra></extra>",
         "legendgroup": "조현철",
         "marker": {
          "color": "#FF6692",
          "pattern": {
           "shape": ""
          }
         },
         "name": "조현철",
         "offsetgroup": "조현철",
         "orientation": "v",
         "showlegend": true,
         "textposition": "auto",
         "type": "bar",
         "x": [
          "드라마"
         ],
         "xaxis": "x",
         "y": [
          5
         ],
         "yaxis": "y"
        },
        {
         "alignmentgroup": "True",
         "customdata": [
          [
           "1259억",
           "1574만"
          ],
          [
           "858억",
           "1029만"
          ],
          [
           "1225억",
           "1382만"
          ]
         ],
         "hovertemplate": "배우=허준호<br>장르=%{x}<br>출연 횟수=%{y}<br>총 매출액=%{customdata[0]}<br>총 관객수=%{customdata[1]}<extra></extra>",
         "legendgroup": "허준호",
         "marker": {
          "color": "#B6E880",
          "pattern": {
           "shape": ""
          }
         },
         "name": "허준호",
         "offsetgroup": "허준호",
         "orientation": "v",
         "showlegend": true,
         "textposition": "auto",
         "type": "bar",
         "x": [
          "드라마",
          "사극",
          "액션"
         ],
         "xaxis": "x",
         "y": [
          5,
          3,
          4
         ],
         "yaxis": "y"
        },
        {
         "alignmentgroup": "True",
         "customdata": [
          [
           "1257억",
           "1796만"
          ],
          [
           "471억",
           "766만"
          ]
         ],
         "hovertemplate": "배우=나문희<br>장르=%{x}<br>출연 횟수=%{y}<br>총 매출액=%{customdata[0]}<br>총 관객수=%{customdata[1]}<extra></extra>",
         "legendgroup": "나문희",
         "marker": {
          "color": "#FF97FF",
          "pattern": {
           "shape": ""
          }
         },
         "name": "나문희",
         "offsetgroup": "나문희",
         "orientation": "v",
         "showlegend": true,
         "textposition": "auto",
         "type": "bar",
         "x": [
          "드라마",
          "코미디"
         ],
         "xaxis": "x",
         "y": [
          5,
          4
         ],
         "yaxis": "y"
        },
        {
         "alignmentgroup": "True",
         "customdata": [
          [
           "1250억",
           "2123만"
          ],
          [
           "441억",
           "877만"
          ]
         ],
         "hovertemplate": "배우=강예원<br>장르=%{x}<br>출연 횟수=%{y}<br>총 매출액=%{customdata[0]}<br>총 관객수=%{customdata[1]}<extra></extra>",
         "legendgroup": "강예원",
         "marker": {
          "color": "#FECB52",
          "pattern": {
           "shape": ""
          }
         },
         "name": "강예원",
         "offsetgroup": "강예원",
         "orientation": "v",
         "showlegend": true,
         "textposition": "auto",
         "type": "bar",
         "x": [
          "드라마",
          "코미디"
         ],
         "xaxis": "x",
         "y": [
          5,
          3
         ],
         "yaxis": "y"
        },
        {
         "alignmentgroup": "True",
         "customdata": [
          [
           "1107억",
           "1525만"
          ]
         ],
         "hovertemplate": "배우=이종석<br>장르=%{x}<br>출연 횟수=%{y}<br>총 매출액=%{customdata[0]}<br>총 관객수=%{customdata[1]}<extra></extra>",
         "legendgroup": "이종석",
         "marker": {
          "color": "#636efa",
          "pattern": {
           "shape": ""
          }
         },
         "name": "이종석",
         "offsetgroup": "이종석",
         "orientation": "v",
         "showlegend": true,
         "textposition": "auto",
         "type": "bar",
         "x": [
          "드라마"
         ],
         "xaxis": "x",
         "y": [
          5
         ],
         "yaxis": "y"
        },
        {
         "alignmentgroup": "True",
         "customdata": [
          [
           "1098억",
           "1533만"
          ],
          [
           "466억",
           "622만"
          ],
          [
           "1337억",
           "1852만"
          ],
          [
           "1274억",
           "1789만"
          ]
         ],
         "hovertemplate": "배우=고창석<br>장르=%{x}<br>출연 횟수=%{y}<br>총 매출액=%{customdata[0]}<br>총 관객수=%{customdata[1]}<extra></extra>",
         "legendgroup": "고창석",
         "marker": {
          "color": "#EF553B",
          "pattern": {
           "shape": ""
          }
         },
         "name": "고창석",
         "offsetgroup": "고창석",
         "orientation": "v",
         "showlegend": true,
         "textposition": "auto",
         "type": "bar",
         "x": [
          "드라마",
          "범죄",
          "액션",
          "코미디"
         ],
         "xaxis": "x",
         "y": [
          5,
          4,
          6,
          4
         ],
         "yaxis": "y"
        },
        {
         "alignmentgroup": "True",
         "customdata": [
          [
           "1085억",
           "1658만"
          ],
          [
           "1346억",
           "1561만"
          ]
         ],
         "hovertemplate": "배우=전국환<br>장르=%{x}<br>출연 횟수=%{y}<br>총 매출액=%{customdata[0]}<br>총 관객수=%{customdata[1]}<extra></extra>",
         "legendgroup": "전국환",
         "marker": {
          "color": "#00cc96",
          "pattern": {
           "shape": ""
          }
         },
         "name": "전국환",
         "offsetgroup": "전국환",
         "orientation": "v",
         "showlegend": true,
         "textposition": "auto",
         "type": "bar",
         "x": [
          "드라마",
          "액션"
         ],
         "xaxis": "x",
         "y": [
          5,
          3
         ],
         "yaxis": "y"
        },
        {
         "alignmentgroup": "True",
         "customdata": [
          [
           "1044억",
           "1278만"
          ],
          [
           "103억",
           "466만"
          ],
          [
           "1048억",
           "1161만"
          ],
          [
           "536억",
           "778만"
          ]
         ],
         "hovertemplate": "배우=염정아<br>장르=%{x}<br>출연 횟수=%{y}<br>총 매출액=%{customdata[0]}<br>총 관객수=%{customdata[1]}<extra></extra>",
         "legendgroup": "염정아",
         "marker": {
          "color": "#ab63fa",
          "pattern": {
           "shape": ""
          }
         },
         "name": "염정아",
         "offsetgroup": "염정아",
         "orientation": "v",
         "showlegend": true,
         "textposition": "auto",
         "type": "bar",
         "x": [
          "드라마",
          "스릴러",
          "액션",
          "코미디"
         ],
         "xaxis": "x",
         "y": [
          5,
          3,
          5,
          3
         ],
         "yaxis": "y"
        },
        {
         "alignmentgroup": "True",
         "customdata": [
          [
           "1005억",
           "1578만"
          ],
          [
           "1859억",
           "2543만"
          ]
         ],
         "hovertemplate": "배우=진구<br>장르=%{x}<br>출연 횟수=%{y}<br>총 매출액=%{customdata[0]}<br>총 관객수=%{customdata[1]}<extra></extra>",
         "legendgroup": "진구",
         "marker": {
          "color": "#FFA15A",
          "pattern": {
           "shape": ""
          }
         },
         "name": "진구",
         "offsetgroup": "진구",
         "orientation": "v",
         "showlegend": true,
         "textposition": "auto",
         "type": "bar",
         "x": [
          "드라마",
          "액션"
         ],
         "xaxis": "x",
         "y": [
          5,
          4
         ],
         "yaxis": "y"
        },
        {
         "alignmentgroup": "True",
         "customdata": [
          [
           "",
           "1630만"
          ],
          [
           "1305억",
           "1624만"
          ]
         ],
         "hovertemplate": "배우=조인성<br>장르=%{x}<br>출연 횟수=%{y}<br>총 매출액=%{customdata[0]}<br>총 관객수=%{customdata[1]}<extra></extra>",
         "legendgroup": "조인성",
         "marker": {
          "color": "#19d3f3",
          "pattern": {
           "shape": ""
          }
         },
         "name": "조인성",
         "offsetgroup": "조인성",
         "orientation": "v",
         "showlegend": true,
         "textposition": "auto",
         "type": "bar",
         "x": [
          "드라마",
          "액션"
         ],
         "xaxis": "x",
         "y": [
          5,
          4
         ],
         "yaxis": "y"
        },
        {
         "alignmentgroup": "True",
         "customdata": [
          [
           "",
           "1588만"
          ],
          [
           "548억",
           "996만"
          ],
          [
           "220억",
           "769만"
          ]
         ],
         "hovertemplate": "배우=손예진<br>장르=%{x}<br>출연 횟수=%{y}<br>총 매출액=%{customdata[0]}<br>총 관객수=%{customdata[1]}<extra></extra>",
         "legendgroup": "손예진",
         "marker": {
          "color": "#FF6692",
          "pattern": {
           "shape": ""
          }
         },
         "name": "손예진",
         "offsetgroup": "손예진",
         "orientation": "v",
         "showlegend": true,
         "textposition": "auto",
         "type": "bar",
         "x": [
          "드라마",
          "멜로/로맨스",
          "코미디"
         ],
         "xaxis": "x",
         "y": [
          5,
          4,
          3
         ],
         "yaxis": "y"
        },
        {
         "alignmentgroup": "True",
         "customdata": [
          [
           "996억",
           "1349만"
          ],
          [
           "627억",
           "923만"
          ]
         ],
         "hovertemplate": "배우=박효주<br>장르=%{x}<br>출연 횟수=%{y}<br>총 매출액=%{customdata[0]}<br>총 관객수=%{customdata[1]}<extra></extra>",
         "legendgroup": "박효주",
         "marker": {
          "color": "#B6E880",
          "pattern": {
           "shape": ""
          }
         },
         "name": "박효주",
         "offsetgroup": "박효주",
         "orientation": "v",
         "showlegend": true,
         "textposition": "auto",
         "type": "bar",
         "x": [
          "드라마",
          "액션"
         ],
         "xaxis": "x",
         "y": [
          4,
          3
         ],
         "yaxis": "y"
        },
        {
         "alignmentgroup": "True",
         "customdata": [
          [
           "956억",
           "1221만"
          ],
          [
           "944억",
           "1218만"
          ],
          [
           "434억",
           "577만"
          ]
         ],
         "hovertemplate": "배우=박진우<br>장르=%{x}<br>출연 횟수=%{y}<br>총 매출액=%{customdata[0]}<br>총 관객수=%{customdata[1]}<extra></extra>",
         "legendgroup": "박진우",
         "marker": {
          "color": "#FF97FF",
          "pattern": {
           "shape": ""
          }
         },
         "name": "박진우",
         "offsetgroup": "박진우",
         "orientation": "v",
         "showlegend": true,
         "textposition": "auto",
         "type": "bar",
         "x": [
          "드라마",
          "범죄",
          "액션"
         ],
         "xaxis": "x",
         "y": [
          4,
          4,
          4
         ],
         "yaxis": "y"
        },
        {
         "alignmentgroup": "True",
         "customdata": [
          [
           "864억",
           "2754만"
          ]
         ],
         "hovertemplate": "배우=고수희<br>장르=%{x}<br>출연 횟수=%{y}<br>총 매출액=%{customdata[0]}<br>총 관객수=%{customdata[1]}<extra></extra>",
         "legendgroup": "고수희",
         "marker": {
          "color": "#FECB52",
          "pattern": {
           "shape": ""
          }
         },
         "name": "고수희",
         "offsetgroup": "고수희",
         "orientation": "v",
         "showlegend": true,
         "textposition": "auto",
         "type": "bar",
         "x": [
          "드라마"
         ],
         "xaxis": "x",
         "y": [
          4
         ],
         "yaxis": "y"
        },
        {
         "alignmentgroup": "True",
         "customdata": [
          [
           "841억",
           "1791만"
          ]
         ],
         "hovertemplate": "배우=엄효섭<br>장르=%{x}<br>출연 횟수=%{y}<br>총 매출액=%{customdata[0]}<br>총 관객수=%{customdata[1]}<extra></extra>",
         "legendgroup": "엄효섭",
         "marker": {
          "color": "#636efa",
          "pattern": {
           "shape": ""
          }
         },
         "name": "엄효섭",
         "offsetgroup": "엄효섭",
         "orientation": "v",
         "showlegend": true,
         "textposition": "auto",
         "type": "bar",
         "x": [
          "드라마"
         ],
         "xaxis": "x",
         "y": [
          4
         ],
         "yaxis": "y"
        },
        {
         "alignmentgroup": "True",
         "customdata": [
          [
           "835억",
           "1090만"
          ],
          [
           "",
           "1899만"
          ]
         ],
         "hovertemplate": "배우=김혜옥<br>장르=%{x}<br>출연 횟수=%{y}<br>총 매출액=%{customdata[0]}<br>총 관객수=%{customdata[1]}<extra></extra>",
         "legendgroup": "김혜옥",
         "marker": {
          "color": "#EF553B",
          "pattern": {
           "shape": ""
          }
         },
         "name": "김혜옥",
         "offsetgroup": "김혜옥",
         "orientation": "v",
         "showlegend": true,
         "textposition": "auto",
         "type": "bar",
         "x": [
          "드라마",
          "코미디"
         ],
         "xaxis": "x",
         "y": [
          4,
          6
         ],
         "yaxis": "y"
        },
        {
         "alignmentgroup": "True",
         "customdata": [
          [
           "834억",
           "1023만"
          ]
         ],
         "hovertemplate": "배우=김남길<br>장르=%{x}<br>출연 횟수=%{y}<br>총 매출액=%{customdata[0]}<br>총 관객수=%{customdata[1]}<extra></extra>",
         "legendgroup": "김남길",
         "marker": {
          "color": "#00cc96",
          "pattern": {
           "shape": ""
          }
         },
         "name": "김남길",
         "offsetgroup": "김남길",
         "orientation": "v",
         "showlegend": true,
         "textposition": "auto",
         "type": "bar",
         "x": [
          "드라마"
         ],
         "xaxis": "x",
         "y": [
          4
         ],
         "yaxis": "y"
        },
        {
         "alignmentgroup": "True",
         "customdata": [
          [
           "832억",
           "913만"
          ]
         ],
         "hovertemplate": "배우=김선영<br>장르=%{x}<br>출연 횟수=%{y}<br>총 매출액=%{customdata[0]}<br>총 관객수=%{customdata[1]}<extra></extra>",
         "legendgroup": "김선영",
         "marker": {
          "color": "#ab63fa",
          "pattern": {
           "shape": ""
          }
         },
         "name": "김선영",
         "offsetgroup": "김선영",
         "orientation": "v",
         "showlegend": true,
         "textposition": "auto",
         "type": "bar",
         "x": [
          "드라마"
         ],
         "xaxis": "x",
         "y": [
          4
         ],
         "yaxis": "y"
        },
        {
         "alignmentgroup": "True",
         "customdata": [
          [
           "818억",
           "1081만"
          ]
         ],
         "hovertemplate": "배우=고수<br>장르=%{x}<br>출연 횟수=%{y}<br>총 매출액=%{customdata[0]}<br>총 관객수=%{customdata[1]}<extra></extra>",
         "legendgroup": "고수",
         "marker": {
          "color": "#FFA15A",
          "pattern": {
           "shape": ""
          }
         },
         "name": "고수",
         "offsetgroup": "고수",
         "orientation": "v",
         "showlegend": true,
         "textposition": "auto",
         "type": "bar",
         "x": [
          "드라마"
         ],
         "xaxis": "x",
         "y": [
          4
         ],
         "yaxis": "y"
        },
        {
         "alignmentgroup": "True",
         "customdata": [
          [
           "791억",
           "946만"
          ]
         ],
         "hovertemplate": "배우=염혜란<br>장르=%{x}<br>출연 횟수=%{y}<br>총 매출액=%{customdata[0]}<br>총 관객수=%{customdata[1]}<extra></extra>",
         "legendgroup": "염혜란",
         "marker": {
          "color": "#19d3f3",
          "pattern": {
           "shape": ""
          }
         },
         "name": "염혜란",
         "offsetgroup": "염혜란",
         "orientation": "v",
         "showlegend": true,
         "textposition": "auto",
         "type": "bar",
         "x": [
          "드라마"
         ],
         "xaxis": "x",
         "y": [
          4
         ],
         "yaxis": "y"
        },
        {
         "alignmentgroup": "True",
         "customdata": [
          [
           "748억",
           "896만"
          ],
          [
           "839억",
           "1039만"
          ]
         ],
         "hovertemplate": "배우=성유빈<br>장르=%{x}<br>출연 횟수=%{y}<br>총 매출액=%{customdata[0]}<br>총 관객수=%{customdata[1]}<extra></extra>",
         "legendgroup": "성유빈",
         "marker": {
          "color": "#FF6692",
          "pattern": {
           "shape": ""
          }
         },
         "name": "성유빈",
         "offsetgroup": "성유빈",
         "orientation": "v",
         "showlegend": true,
         "textposition": "auto",
         "type": "bar",
         "x": [
          "드라마",
          "사극"
         ],
         "xaxis": "x",
         "y": [
          4,
          3
         ],
         "yaxis": "y"
        },
        {
         "alignmentgroup": "True",
         "customdata": [
          [
           "744억",
           "1082만"
          ],
          [
           "1144억",
           "1584만"
          ]
         ],
         "hovertemplate": "배우=정유미<br>장르=%{x}<br>출연 횟수=%{y}<br>총 매출액=%{customdata[0]}<br>총 관객수=%{customdata[1]}<extra></extra>",
         "legendgroup": "정유미",
         "marker": {
          "color": "#B6E880",
          "pattern": {
           "shape": ""
          }
         },
         "name": "정유미",
         "offsetgroup": "정유미",
         "orientation": "v",
         "showlegend": true,
         "textposition": "auto",
         "type": "bar",
         "x": [
          "드라마",
          "액션"
         ],
         "xaxis": "x",
         "y": [
          4,
          4
         ],
         "yaxis": "y"
        },
        {
         "alignmentgroup": "True",
         "customdata": [
          [
           "715억",
           "837만"
          ],
          [
           "1072억",
           "1188만"
          ],
          [
           "575억",
           "704만"
          ]
         ],
         "hovertemplate": "배우=김재화<br>장르=%{x}<br>출연 횟수=%{y}<br>총 매출액=%{customdata[0]}<br>총 관객수=%{customdata[1]}<extra></extra>",
         "legendgroup": "김재화",
         "marker": {
          "color": "#FF97FF",
          "pattern": {
           "shape": ""
          }
         },
         "name": "김재화",
         "offsetgroup": "김재화",
         "orientation": "v",
         "showlegend": true,
         "textposition": "auto",
         "type": "bar",
         "x": [
          "드라마",
          "액션",
          "코미디"
         ],
         "xaxis": "x",
         "y": [
          4,
          3,
          3
         ],
         "yaxis": "y"
        },
        {
         "alignmentgroup": "True",
         "customdata": [
          [
           "694억",
           "919만"
          ],
          [
           "436억",
           "578만"
          ]
         ],
         "hovertemplate": "배우=유준상<br>장르=%{x}<br>출연 횟수=%{y}<br>총 매출액=%{customdata[0]}<br>총 관객수=%{customdata[1]}<extra></extra>",
         "legendgroup": "유준상",
         "marker": {
          "color": "#FECB52",
          "pattern": {
           "shape": ""
          }
         },
         "name": "유준상",
         "offsetgroup": "유준상",
         "orientation": "v",
         "showlegend": true,
         "textposition": "auto",
         "type": "bar",
         "x": [
          "드라마",
          "액션"
         ],
         "xaxis": "x",
         "y": [
          4,
          3
         ],
         "yaxis": "y"
        },
        {
         "alignmentgroup": "True",
         "customdata": [
          [
           "680억",
           "2352만"
          ]
         ],
         "hovertemplate": "배우=원빈<br>장르=%{x}<br>출연 횟수=%{y}<br>총 매출액=%{customdata[0]}<br>총 관객수=%{customdata[1]}<extra></extra>",
         "legendgroup": "원빈",
         "marker": {
          "color": "#636efa",
          "pattern": {
           "shape": ""
          }
         },
         "name": "원빈",
         "offsetgroup": "원빈",
         "orientation": "v",
         "showlegend": true,
         "textposition": "auto",
         "type": "bar",
         "x": [
          "드라마"
         ],
         "xaxis": "x",
         "y": [
          4
         ],
         "yaxis": "y"
        },
        {
         "alignmentgroup": "True",
         "customdata": [
          [
           "618억",
           "912만"
          ],
          [
           "1309억",
           "1760만"
          ]
         ],
         "hovertemplate": "배우=최진호<br>장르=%{x}<br>출연 횟수=%{y}<br>총 매출액=%{customdata[0]}<br>총 관객수=%{customdata[1]}<extra></extra>",
         "legendgroup": "최진호",
         "marker": {
          "color": "#EF553B",
          "pattern": {
           "shape": ""
          }
         },
         "name": "최진호",
         "offsetgroup": "최진호",
         "orientation": "v",
         "showlegend": true,
         "textposition": "auto",
         "type": "bar",
         "x": [
          "드라마",
          "액션"
         ],
         "xaxis": "x",
         "y": [
          4,
          4
         ],
         "yaxis": "y"
        },
        {
         "alignmentgroup": "True",
         "customdata": [
          [
           "594억",
           "1397만"
          ]
         ],
         "hovertemplate": "배우=차인표<br>장르=%{x}<br>출연 횟수=%{y}<br>총 매출액=%{customdata[0]}<br>총 관객수=%{customdata[1]}<extra></extra>",
         "legendgroup": "차인표",
         "marker": {
          "color": "#00cc96",
          "pattern": {
           "shape": ""
          }
         },
         "name": "차인표",
         "offsetgroup": "차인표",
         "orientation": "v",
         "showlegend": true,
         "textposition": "auto",
         "type": "bar",
         "x": [
          "드라마"
         ],
         "xaxis": "x",
         "y": [
          4
         ],
         "yaxis": "y"
        },
        {
         "alignmentgroup": "True",
         "customdata": [
          [
           "577억",
           "1058만"
          ]
         ],
         "hovertemplate": "배우=김영재<br>장르=%{x}<br>출연 횟수=%{y}<br>총 매출액=%{customdata[0]}<br>총 관객수=%{customdata[1]}<extra></extra>",
         "legendgroup": "김영재",
         "marker": {
          "color": "#ab63fa",
          "pattern": {
           "shape": ""
          }
         },
         "name": "김영재",
         "offsetgroup": "김영재",
         "orientation": "v",
         "showlegend": true,
         "textposition": "auto",
         "type": "bar",
         "x": [
          "드라마"
         ],
         "xaxis": "x",
         "y": [
          4
         ],
         "yaxis": "y"
        },
        {
         "alignmentgroup": "True",
         "customdata": [
          [
           "470억",
           "1363만"
          ],
          [
           "1657억",
           "2137만"
          ],
          [
           "141억",
           "876만"
          ],
          [
           "1706억",
           "2811만"
          ]
         ],
         "hovertemplate": "배우=최민식<br>장르=%{x}<br>출연 횟수=%{y}<br>총 매출액=%{customdata[0]}<br>총 관객수=%{customdata[1]}<extra></extra>",
         "legendgroup": "최민식",
         "marker": {
          "color": "#FFA15A",
          "pattern": {
           "shape": ""
          }
         },
         "name": "최민식",
         "offsetgroup": "최민식",
         "orientation": "v",
         "showlegend": true,
         "textposition": "auto",
         "type": "bar",
         "x": [
          "드라마",
          "사극",
          "스릴러",
          "액션"
         ],
         "xaxis": "x",
         "y": [
          4,
          3,
          3,
          3
         ],
         "yaxis": "y"
        },
        {
         "alignmentgroup": "True",
         "customdata": [
          [
           "468억",
           "575만"
          ],
          [
           "385억",
           "462만"
          ]
         ],
         "hovertemplate": "배우=유재명<br>장르=%{x}<br>출연 횟수=%{y}<br>총 매출액=%{customdata[0]}<br>총 관객수=%{customdata[1]}<extra></extra>",
         "legendgroup": "유재명",
         "marker": {
          "color": "#19d3f3",
          "pattern": {
           "shape": ""
          }
         },
         "name": "유재명",
         "offsetgroup": "유재명",
         "orientation": "v",
         "showlegend": true,
         "textposition": "auto",
         "type": "bar",
         "x": [
          "드라마",
          "범죄"
         ],
         "xaxis": "x",
         "y": [
          4,
          3
         ],
         "yaxis": "y"
        },
        {
         "alignmentgroup": "True",
         "customdata": [
          [
           "444억",
           "707만"
          ],
          [
           "493억",
           "625만"
          ]
         ],
         "hovertemplate": "배우=정민성<br>장르=%{x}<br>출연 횟수=%{y}<br>총 매출액=%{customdata[0]}<br>총 관객수=%{customdata[1]}<extra></extra>",
         "legendgroup": "정민성",
         "marker": {
          "color": "#FF6692",
          "pattern": {
           "shape": ""
          }
         },
         "name": "정민성",
         "offsetgroup": "정민성",
         "orientation": "v",
         "showlegend": true,
         "textposition": "auto",
         "type": "bar",
         "x": [
          "드라마",
          "범죄"
         ],
         "xaxis": "x",
         "y": [
          4,
          3
         ],
         "yaxis": "y"
        },
        {
         "alignmentgroup": "True",
         "customdata": [
          [
           "438억",
           "682만"
          ]
         ],
         "hovertemplate": "배우=전도연<br>장르=%{x}<br>출연 횟수=%{y}<br>총 매출액=%{customdata[0]}<br>총 관객수=%{customdata[1]}<extra></extra>",
         "legendgroup": "전도연",
         "marker": {
          "color": "#B6E880",
          "pattern": {
           "shape": ""
          }
         },
         "name": "전도연",
         "offsetgroup": "전도연",
         "orientation": "v",
         "showlegend": true,
         "textposition": "auto",
         "type": "bar",
         "x": [
          "드라마"
         ],
         "xaxis": "x",
         "y": [
          4
         ],
         "yaxis": "y"
        },
        {
         "alignmentgroup": "True",
         "customdata": [
          [
           "412억",
           "741만"
          ]
         ],
         "hovertemplate": "배우=이재용<br>장르=%{x}<br>출연 횟수=%{y}<br>총 매출액=%{customdata[0]}<br>총 관객수=%{customdata[1]}<extra></extra>",
         "legendgroup": "이재용",
         "marker": {
          "color": "#FF97FF",
          "pattern": {
           "shape": ""
          }
         },
         "name": "이재용",
         "offsetgroup": "이재용",
         "orientation": "v",
         "showlegend": true,
         "textposition": "auto",
         "type": "bar",
         "x": [
          "드라마"
         ],
         "xaxis": "x",
         "y": [
          4
         ],
         "yaxis": "y"
        },
        {
         "alignmentgroup": "True",
         "customdata": [
          [
           "410억",
           "877만"
          ],
          [
           "289억",
           "376만"
          ],
          [
           "523억",
           "1132만"
          ],
          [
           "228억",
           "759만"
          ]
         ],
         "hovertemplate": "배우=류승범<br>장르=%{x}<br>출연 횟수=%{y}<br>총 매출액=%{customdata[0]}<br>총 관객수=%{customdata[1]}<extra></extra>",
         "legendgroup": "류승범",
         "marker": {
          "color": "#FECB52",
          "pattern": {
           "shape": ""
          }
         },
         "name": "류승범",
         "offsetgroup": "류승범",
         "orientation": "v",
         "showlegend": true,
         "textposition": "auto",
         "type": "bar",
         "x": [
          "드라마",
          "미스터리",
          "액션",
          "코미디"
         ],
         "xaxis": "x",
         "y": [
          4,
          3,
          3,
          4
         ],
         "yaxis": "y"
        },
        {
         "alignmentgroup": "True",
         "customdata": [
          [
           "399억",
           "659만"
          ],
          [
           "177억",
           "1146만"
          ]
         ],
         "hovertemplate": "배우=임형준<br>장르=%{x}<br>출연 횟수=%{y}<br>총 매출액=%{customdata[0]}<br>총 관객수=%{customdata[1]}<extra></extra>",
         "legendgroup": "임형준",
         "marker": {
          "color": "#636efa",
          "pattern": {
           "shape": ""
          }
         },
         "name": "임형준",
         "offsetgroup": "임형준",
         "orientation": "v",
         "showlegend": true,
         "textposition": "auto",
         "type": "bar",
         "x": [
          "드라마",
          "코미디"
         ],
         "xaxis": "x",
         "y": [
          4,
          3
         ],
         "yaxis": "y"
        },
        {
         "alignmentgroup": "True",
         "customdata": [
          [
           "393억",
           "1179만"
          ]
         ],
         "hovertemplate": "배우=이수경<br>장르=%{x}<br>출연 횟수=%{y}<br>총 매출액=%{customdata[0]}<br>총 관객수=%{customdata[1]}<extra></extra>",
         "legendgroup": "이수경",
         "marker": {
          "color": "#EF553B",
          "pattern": {
           "shape": ""
          }
         },
         "name": "이수경",
         "offsetgroup": "이수경",
         "orientation": "v",
         "showlegend": true,
         "textposition": "auto",
         "type": "bar",
         "x": [
          "드라마"
         ],
         "xaxis": "x",
         "y": [
          4
         ],
         "yaxis": "y"
        },
        {
         "alignmentgroup": "True",
         "customdata": [
          [
           "349억",
           "780만"
          ]
         ],
         "hovertemplate": "배우=송윤아<br>장르=%{x}<br>출연 횟수=%{y}<br>총 매출액=%{customdata[0]}<br>총 관객수=%{customdata[1]}<extra></extra>",
         "legendgroup": "송윤아",
         "marker": {
          "color": "#00cc96",
          "pattern": {
           "shape": ""
          }
         },
         "name": "송윤아",
         "offsetgroup": "송윤아",
         "orientation": "v",
         "showlegend": true,
         "textposition": "auto",
         "type": "bar",
         "x": [
          "드라마"
         ],
         "xaxis": "x",
         "y": [
          4
         ],
         "yaxis": "y"
        },
        {
         "alignmentgroup": "True",
         "customdata": [
          [
           "2948억",
           "3422만"
          ],
          [
           "1133억",
           "1412만"
          ],
          [
           "611억",
           "777만"
          ],
          [
           "1079억",
           "1349만"
          ]
         ],
         "hovertemplate": "배우=이성민<br>장르=%{x}<br>출연 횟수=%{y}<br>총 매출액=%{customdata[0]}<br>총 관객수=%{customdata[1]}<extra></extra>",
         "legendgroup": "이성민",
         "marker": {
          "color": "#ab63fa",
          "pattern": {
           "shape": ""
          }
         },
         "name": "이성민",
         "offsetgroup": "이성민",
         "orientation": "v",
         "showlegend": true,
         "textposition": "auto",
         "type": "bar",
         "x": [
          "드라마",
          "범죄",
          "액션",
          "코미디"
         ],
         "xaxis": "x",
         "y": [
          4,
          3,
          3,
          3
         ],
         "yaxis": "y"
        },
        {
         "alignmentgroup": "True",
         "customdata": [
          [
           "266억",
           "1414만"
          ],
          [
           "187억",
           "613만"
          ]
         ],
         "hovertemplate": "배우=임하룡<br>장르=%{x}<br>출연 횟수=%{y}<br>총 매출액=%{customdata[0]}<br>총 관객수=%{customdata[1]}<extra></extra>",
         "legendgroup": "임하룡",
         "marker": {
          "color": "#FFA15A",
          "pattern": {
           "shape": ""
          }
         },
         "name": "임하룡",
         "offsetgroup": "임하룡",
         "orientation": "v",
         "showlegend": true,
         "textposition": "auto",
         "type": "bar",
         "x": [
          "드라마",
          "코미디"
         ],
         "xaxis": "x",
         "y": [
          4,
          3
         ],
         "yaxis": "y"
        },
        {
         "alignmentgroup": "True",
         "customdata": [
          [
           "259억",
           "604만"
          ]
         ],
         "hovertemplate": "배우=오태경<br>장르=%{x}<br>출연 횟수=%{y}<br>총 매출액=%{customdata[0]}<br>총 관객수=%{customdata[1]}<extra></extra>",
         "legendgroup": "오태경",
         "marker": {
          "color": "#19d3f3",
          "pattern": {
           "shape": ""
          }
         },
         "name": "오태경",
         "offsetgroup": "오태경",
         "orientation": "v",
         "showlegend": true,
         "textposition": "auto",
         "type": "bar",
         "x": [
          "드라마"
         ],
         "xaxis": "x",
         "y": [
          4
         ],
         "yaxis": "y"
        },
        {
         "alignmentgroup": "True",
         "customdata": [
          [
           "2588억",
           "3115만"
          ]
         ],
         "hovertemplate": "배우=박원상<br>장르=%{x}<br>출연 횟수=%{y}<br>총 매출액=%{customdata[0]}<br>총 관객수=%{customdata[1]}<extra></extra>",
         "legendgroup": "박원상",
         "marker": {
          "color": "#FF6692",
          "pattern": {
           "shape": ""
          }
         },
         "name": "박원상",
         "offsetgroup": "박원상",
         "orientation": "v",
         "showlegend": true,
         "textposition": "auto",
         "type": "bar",
         "x": [
          "드라마"
         ],
         "xaxis": "x",
         "y": [
          4
         ],
         "yaxis": "y"
        },
        {
         "alignmentgroup": "True",
         "customdata": [
          [
           "256억",
           "603만"
          ],
          [
           "316억",
           "568만"
          ],
          [
           "494억",
           "913만"
          ]
         ],
         "hovertemplate": "배우=김래원<br>장르=%{x}<br>출연 횟수=%{y}<br>총 매출액=%{customdata[0]}<br>총 관객수=%{customdata[1]}<extra></extra>",
         "legendgroup": "김래원",
         "marker": {
          "color": "#B6E880",
          "pattern": {
           "shape": ""
          }
         },
         "name": "김래원",
         "offsetgroup": "김래원",
         "orientation": "v",
         "showlegend": true,
         "textposition": "auto",
         "type": "bar",
         "x": [
          "드라마",
          "범죄",
          "액션"
         ],
         "xaxis": "x",
         "y": [
          4,
          3,
          5
         ],
         "yaxis": "y"
        },
        {
         "alignmentgroup": "True",
         "customdata": [
          [
           "2535억",
           "3113만"
          ]
         ],
         "hovertemplate": "배우=도경수<br>장르=%{x}<br>출연 횟수=%{y}<br>총 매출액=%{customdata[0]}<br>총 관객수=%{customdata[1]}<extra></extra>",
         "legendgroup": "도경수",
         "marker": {
          "color": "#FF97FF",
          "pattern": {
           "shape": ""
          }
         },
         "name": "도경수",
         "offsetgroup": "도경수",
         "orientation": "v",
         "showlegend": true,
         "textposition": "auto",
         "type": "bar",
         "x": [
          "드라마"
         ],
         "xaxis": "x",
         "y": [
          4
         ],
         "yaxis": "y"
        },
        {
         "alignmentgroup": "True",
         "customdata": [
          [
           "220억",
           "510만"
          ],
          [
           "380억",
           "589만"
          ],
          [
           "380억",
           "634만"
          ]
         ],
         "hovertemplate": "배우=공효진<br>장르=%{x}<br>출연 횟수=%{y}<br>총 매출액=%{customdata[0]}<br>총 관객수=%{customdata[1]}<extra></extra>",
         "legendgroup": "공효진",
         "marker": {
          "color": "#FECB52",
          "pattern": {
           "shape": ""
          }
         },
         "name": "공효진",
         "offsetgroup": "공효진",
         "orientation": "v",
         "showlegend": true,
         "textposition": "auto",
         "type": "bar",
         "x": [
          "드라마",
          "멜로/로맨스",
          "코미디"
         ],
         "xaxis": "x",
         "y": [
          4,
          3,
          3
         ],
         "yaxis": "y"
        },
        {
         "alignmentgroup": "True",
         "customdata": [
          [
           "1918억",
           "2379만"
          ],
          [
           "1310억",
           "1559만"
          ],
          [
           "1152억",
           "1321만"
          ]
         ],
         "hovertemplate": "배우=류준열<br>장르=%{x}<br>출연 횟수=%{y}<br>총 매출액=%{customdata[0]}<br>총 관객수=%{customdata[1]}<extra></extra>",
         "legendgroup": "류준열",
         "marker": {
          "color": "#636efa",
          "pattern": {
           "shape": ""
          }
         },
         "name": "류준열",
         "offsetgroup": "류준열",
         "orientation": "v",
         "showlegend": true,
         "textposition": "auto",
         "type": "bar",
         "x": [
          "드라마",
          "범죄",
          "액션"
         ],
         "xaxis": "x",
         "y": [
          4,
          4,
          4
         ],
         "yaxis": "y"
        },
        {
         "alignmentgroup": "True",
         "customdata": [
          [
           "1869억",
           "2566만"
          ]
         ],
         "hovertemplate": "배우=안내상<br>장르=%{x}<br>출연 횟수=%{y}<br>총 매출액=%{customdata[0]}<br>총 관객수=%{customdata[1]}<extra></extra>",
         "legendgroup": "안내상",
         "marker": {
          "color": "#EF553B",
          "pattern": {
           "shape": ""
          }
         },
         "name": "안내상",
         "offsetgroup": "안내상",
         "orientation": "v",
         "showlegend": true,
         "textposition": "auto",
         "type": "bar",
         "x": [
          "드라마"
         ],
         "xaxis": "x",
         "y": [
          4
         ],
         "yaxis": "y"
        },
        {
         "alignmentgroup": "True",
         "customdata": [
          [
           "1771억",
           "2128만"
          ]
         ],
         "hovertemplate": "배우=서현우<br>장르=%{x}<br>출연 횟수=%{y}<br>총 매출액=%{customdata[0]}<br>총 관객수=%{customdata[1]}<extra></extra>",
         "legendgroup": "서현우",
         "marker": {
          "color": "#00cc96",
          "pattern": {
           "shape": ""
          }
         },
         "name": "서현우",
         "offsetgroup": "서현우",
         "orientation": "v",
         "showlegend": true,
         "textposition": "auto",
         "type": "bar",
         "x": [
          "드라마"
         ],
         "xaxis": "x",
         "y": [
          4
         ],
         "yaxis": "y"
        },
        {
         "alignmentgroup": "True",
         "customdata": [
          [
           "1545억",
           "1999만"
          ],
          [
           "309억",
           "408만"
          ]
         ],
         "hovertemplate": "배우=박혁권<br>장르=%{x}<br>출연 횟수=%{y}<br>총 매출액=%{customdata[0]}<br>총 관객수=%{customdata[1]}<extra></extra>",
         "legendgroup": "박혁권",
         "marker": {
          "color": "#ab63fa",
          "pattern": {
           "shape": ""
          }
         },
         "name": "박혁권",
         "offsetgroup": "박혁권",
         "orientation": "v",
         "showlegend": true,
         "textposition": "auto",
         "type": "bar",
         "x": [
          "드라마",
          "코미디"
         ],
         "xaxis": "x",
         "y": [
          4,
          3
         ],
         "yaxis": "y"
        },
        {
         "alignmentgroup": "True",
         "customdata": [
          [
           "1449억",
           "1998만"
          ],
          [
           "1097억",
           "2173만"
          ]
         ],
         "hovertemplate": "배우=차태현<br>장르=%{x}<br>출연 횟수=%{y}<br>총 매출액=%{customdata[0]}<br>총 관객수=%{customdata[1]}<extra></extra>",
         "legendgroup": "차태현",
         "marker": {
          "color": "#FFA15A",
          "pattern": {
           "shape": ""
          }
         },
         "name": "차태현",
         "offsetgroup": "차태현",
         "orientation": "v",
         "showlegend": true,
         "textposition": "auto",
         "type": "bar",
         "x": [
          "드라마",
          "코미디"
         ],
         "xaxis": "x",
         "y": [
          4,
          6
         ],
         "yaxis": "y"
        },
        {
         "alignmentgroup": "True",
         "customdata": [
          [
           "1433억",
           "1572만"
          ]
         ],
         "hovertemplate": "배우=임형국<br>장르=%{x}<br>출연 횟수=%{y}<br>총 매출액=%{customdata[0]}<br>총 관객수=%{customdata[1]}<extra></extra>",
         "legendgroup": "임형국",
         "marker": {
          "color": "#19d3f3",
          "pattern": {
           "shape": ""
          }
         },
         "name": "임형국",
         "offsetgroup": "임형국",
         "orientation": "v",
         "showlegend": true,
         "textposition": "auto",
         "type": "bar",
         "x": [
          "드라마"
         ],
         "xaxis": "x",
         "y": [
          4
         ],
         "yaxis": "y"
        },
        {
         "alignmentgroup": "True",
         "customdata": [
          [
           "1426억",
           "1912만"
          ]
         ],
         "hovertemplate": "배우=김영애<br>장르=%{x}<br>출연 횟수=%{y}<br>총 매출액=%{customdata[0]}<br>총 관객수=%{customdata[1]}<extra></extra>",
         "legendgroup": "김영애",
         "marker": {
          "color": "#FF6692",
          "pattern": {
           "shape": ""
          }
         },
         "name": "김영애",
         "offsetgroup": "김영애",
         "orientation": "v",
         "showlegend": true,
         "textposition": "auto",
         "type": "bar",
         "x": [
          "드라마"
         ],
         "xaxis": "x",
         "y": [
          4
         ],
         "yaxis": "y"
        },
        {
         "alignmentgroup": "True",
         "customdata": [
          [
           "1418억",
           "1887만"
          ]
         ],
         "hovertemplate": "배우=천우희<br>장르=%{x}<br>출연 횟수=%{y}<br>총 매출액=%{customdata[0]}<br>총 관객수=%{customdata[1]}<extra></extra>",
         "legendgroup": "천우희",
         "marker": {
          "color": "#B6E880",
          "pattern": {
           "shape": ""
          }
         },
         "name": "천우희",
         "offsetgroup": "천우희",
         "orientation": "v",
         "showlegend": true,
         "textposition": "auto",
         "type": "bar",
         "x": [
          "드라마"
         ],
         "xaxis": "x",
         "y": [
          4
         ],
         "yaxis": "y"
        },
        {
         "alignmentgroup": "True",
         "customdata": [
          [
           "1355억",
           "1809만"
          ],
          [
           "1189억",
           "1454만"
          ]
         ],
         "hovertemplate": "배우=조정석<br>장르=%{x}<br>출연 횟수=%{y}<br>총 매출액=%{customdata[0]}<br>총 관객수=%{customdata[1]}<extra></extra>",
         "legendgroup": "조정석",
         "marker": {
          "color": "#FF97FF",
          "pattern": {
           "shape": ""
          }
         },
         "name": "조정석",
         "offsetgroup": "조정석",
         "orientation": "v",
         "showlegend": true,
         "textposition": "auto",
         "type": "bar",
         "x": [
          "드라마",
          "코미디"
         ],
         "xaxis": "x",
         "y": [
          4,
          3
         ],
         "yaxis": "y"
        },
        {
         "alignmentgroup": "True",
         "customdata": [
          [
           "1348억",
           "1933만"
          ],
          [
           "322억",
           "641만"
          ],
          [
           "1134억",
           "1657만"
          ]
         ],
         "hovertemplate": "배우=천호진<br>장르=%{x}<br>출연 횟수=%{y}<br>총 매출액=%{customdata[0]}<br>총 관객수=%{customdata[1]}<extra></extra>",
         "legendgroup": "천호진",
         "marker": {
          "color": "#FECB52",
          "pattern": {
           "shape": ""
          }
         },
         "name": "천호진",
         "offsetgroup": "천호진",
         "orientation": "v",
         "showlegend": true,
         "textposition": "auto",
         "type": "bar",
         "x": [
          "드라마",
          "스릴러",
          "액션"
         ],
         "xaxis": "x",
         "y": [
          4,
          3,
          3
         ],
         "yaxis": "y"
        },
        {
         "alignmentgroup": "True",
         "customdata": [
          [
           "1304억",
           "1657만"
          ]
         ],
         "hovertemplate": "배우=남일우<br>장르=%{x}<br>출연 횟수=%{y}<br>총 매출액=%{customdata[0]}<br>총 관객수=%{customdata[1]}<extra></extra>",
         "legendgroup": "남일우",
         "marker": {
          "color": "#636efa",
          "pattern": {
           "shape": ""
          }
         },
         "name": "남일우",
         "offsetgroup": "남일우",
         "orientation": "v",
         "showlegend": true,
         "textposition": "auto",
         "type": "bar",
         "x": [
          "드라마"
         ],
         "xaxis": "x",
         "y": [
          4
         ],
         "yaxis": "y"
        },
        {
         "alignmentgroup": "True",
         "customdata": [
          [
           "1294억",
           "1437만"
          ]
         ],
         "hovertemplate": "배우=김영웅<br>장르=%{x}<br>출연 횟수=%{y}<br>총 매출액=%{customdata[0]}<br>총 관객수=%{customdata[1]}<extra></extra>",
         "legendgroup": "김영웅",
         "marker": {
          "color": "#EF553B",
          "pattern": {
           "shape": ""
          }
         },
         "name": "김영웅",
         "offsetgroup": "김영웅",
         "orientation": "v",
         "showlegend": true,
         "textposition": "auto",
         "type": "bar",
         "x": [
          "드라마"
         ],
         "xaxis": "x",
         "y": [
          4
         ],
         "yaxis": "y"
        },
        {
         "alignmentgroup": "True",
         "customdata": [
          [
           "1293억",
           "1586만"
          ]
         ],
         "hovertemplate": "배우=박진주<br>장르=%{x}<br>출연 횟수=%{y}<br>총 매출액=%{customdata[0]}<br>총 관객수=%{customdata[1]}<extra></extra>",
         "legendgroup": "박진주",
         "marker": {
          "color": "#00cc96",
          "pattern": {
           "shape": ""
          }
         },
         "name": "박진주",
         "offsetgroup": "박진주",
         "orientation": "v",
         "showlegend": true,
         "textposition": "auto",
         "type": "bar",
         "x": [
          "드라마"
         ],
         "xaxis": "x",
         "y": [
          4
         ],
         "yaxis": "y"
        },
        {
         "alignmentgroup": "True",
         "customdata": [
          [
           "1280억",
           "1781만"
          ],
          [
           "1008억",
           "1388만"
          ],
          [
           "",
           "748만"
          ]
         ],
         "hovertemplate": "배우=엄정화<br>장르=%{x}<br>출연 횟수=%{y}<br>총 매출액=%{customdata[0]}<br>총 관객수=%{customdata[1]}<extra></extra>",
         "legendgroup": "엄정화",
         "marker": {
          "color": "#ab63fa",
          "pattern": {
           "shape": ""
          }
         },
         "name": "엄정화",
         "offsetgroup": "엄정화",
         "orientation": "v",
         "showlegend": true,
         "textposition": "auto",
         "type": "bar",
         "x": [
          "드라마",
          "액션",
          "코미디"
         ],
         "xaxis": "x",
         "y": [
          4,
          3,
          3
         ],
         "yaxis": "y"
        },
        {
         "alignmentgroup": "True",
         "customdata": [
          [
           "1257억",
           "1719만"
          ]
         ],
         "hovertemplate": "배우=전혜진<br>장르=%{x}<br>출연 횟수=%{y}<br>총 매출액=%{customdata[0]}<br>총 관객수=%{customdata[1]}<extra></extra>",
         "legendgroup": "전혜진",
         "marker": {
          "color": "#FFA15A",
          "pattern": {
           "shape": ""
          }
         },
         "name": "전혜진",
         "offsetgroup": "전혜진",
         "orientation": "v",
         "showlegend": true,
         "textposition": "auto",
         "type": "bar",
         "x": [
          "드라마"
         ],
         "xaxis": "x",
         "y": [
          4
         ],
         "yaxis": "y"
        },
        {
         "alignmentgroup": "True",
         "customdata": [
          [
           "1251억",
           "2030만"
          ]
         ],
         "hovertemplate": "배우=임원희<br>장르=%{x}<br>출연 횟수=%{y}<br>총 매출액=%{customdata[0]}<br>총 관객수=%{customdata[1]}<extra></extra>",
         "legendgroup": "임원희",
         "marker": {
          "color": "#19d3f3",
          "pattern": {
           "shape": ""
          }
         },
         "name": "임원희",
         "offsetgroup": "임원희",
         "orientation": "v",
         "showlegend": true,
         "textposition": "auto",
         "type": "bar",
         "x": [
          "드라마"
         ],
         "xaxis": "x",
         "y": [
          4
         ],
         "yaxis": "y"
        },
        {
         "alignmentgroup": "True",
         "customdata": [
          [
           "1217억",
           "1645만"
          ],
          [
           "476억",
           "624만"
          ],
          [
           "260억",
           "915만"
          ]
         ],
         "hovertemplate": "배우=한효주<br>장르=%{x}<br>출연 횟수=%{y}<br>총 매출액=%{customdata[0]}<br>총 관객수=%{customdata[1]}<extra></extra>",
         "legendgroup": "한효주",
         "marker": {
          "color": "#FF6692",
          "pattern": {
           "shape": ""
          }
         },
         "name": "한효주",
         "offsetgroup": "한효주",
         "orientation": "v",
         "showlegend": true,
         "textposition": "auto",
         "type": "bar",
         "x": [
          "드라마",
          "멜로/로맨스",
          "코미디"
         ],
         "xaxis": "x",
         "y": [
          4,
          3,
          3
         ],
         "yaxis": "y"
        },
        {
         "alignmentgroup": "True",
         "customdata": [
          [
           "1210억",
           "1642만"
          ],
          [
           "534억",
           "711만"
          ]
         ],
         "hovertemplate": "배우=조여정<br>장르=%{x}<br>출연 횟수=%{y}<br>총 매출액=%{customdata[0]}<br>총 관객수=%{customdata[1]}<extra></extra>",
         "legendgroup": "조여정",
         "marker": {
          "color": "#B6E880",
          "pattern": {
           "shape": ""
          }
         },
         "name": "조여정",
         "offsetgroup": "조여정",
         "orientation": "v",
         "showlegend": true,
         "textposition": "auto",
         "type": "bar",
         "x": [
          "드라마",
          "멜로/로맨스"
         ],
         "xaxis": "x",
         "y": [
          4,
          3
         ],
         "yaxis": "y"
        },
        {
         "alignmentgroup": "True",
         "customdata": [
          [
           "1206억",
           "1354만"
          ],
          [
           "1269억",
           "1553만"
          ],
          [
           "2145억",
           "2489만"
          ]
         ],
         "hovertemplate": "배우=허성태<br>장르=%{x}<br>출연 횟수=%{y}<br>총 매출액=%{customdata[0]}<br>총 관객수=%{customdata[1]}<extra></extra>",
         "legendgroup": "허성태",
         "marker": {
          "color": "#FF97FF",
          "pattern": {
           "shape": ""
          }
         },
         "name": "허성태",
         "offsetgroup": "허성태",
         "orientation": "v",
         "showlegend": true,
         "textposition": "auto",
         "type": "bar",
         "x": [
          "드라마",
          "범죄",
          "액션"
         ],
         "xaxis": "x",
         "y": [
          4,
          4,
          6
         ],
         "yaxis": "y"
        },
        {
         "alignmentgroup": "True",
         "customdata": [
          [
           "1166억",
           "1488만"
          ]
         ],
         "hovertemplate": "배우=김수진<br>장르=%{x}<br>출연 횟수=%{y}<br>총 매출액=%{customdata[0]}<br>총 관객수=%{customdata[1]}<extra></extra>",
         "legendgroup": "김수진",
         "marker": {
          "color": "#FECB52",
          "pattern": {
           "shape": ""
          }
         },
         "name": "김수진",
         "offsetgroup": "김수진",
         "orientation": "v",
         "showlegend": true,
         "textposition": "auto",
         "type": "bar",
         "x": [
          "드라마"
         ],
         "xaxis": "x",
         "y": [
          4
         ],
         "yaxis": "y"
        },
        {
         "alignmentgroup": "True",
         "customdata": [
          [
           "1044억",
           "1396만"
          ]
         ],
         "hovertemplate": "배우=송재호<br>장르=%{x}<br>출연 횟수=%{y}<br>총 매출액=%{customdata[0]}<br>총 관객수=%{customdata[1]}<extra></extra>",
         "legendgroup": "송재호",
         "marker": {
          "color": "#636efa",
          "pattern": {
           "shape": ""
          }
         },
         "name": "송재호",
         "offsetgroup": "송재호",
         "orientation": "v",
         "showlegend": true,
         "textposition": "auto",
         "type": "bar",
         "x": [
          "드라마"
         ],
         "xaxis": "x",
         "y": [
          4
         ],
         "yaxis": "y"
        },
        {
         "alignmentgroup": "True",
         "customdata": [
          [
           "101억",
           "1189만"
          ]
         ],
         "hovertemplate": "배우=조덕현<br>장르=%{x}<br>출연 횟수=%{y}<br>총 매출액=%{customdata[0]}<br>총 관객수=%{customdata[1]}<extra></extra>",
         "legendgroup": "조덕현",
         "marker": {
          "color": "#EF553B",
          "pattern": {
           "shape": ""
          }
         },
         "name": "조덕현",
         "offsetgroup": "조덕현",
         "orientation": "v",
         "showlegend": true,
         "textposition": "auto",
         "type": "bar",
         "x": [
          "드라마"
         ],
         "xaxis": "x",
         "y": [
          4
         ],
         "yaxis": "y"
        },
        {
         "alignmentgroup": "True",
         "customdata": [
          [
           "1010억",
           "1277만"
          ]
         ],
         "hovertemplate": "배우=박지일<br>장르=%{x}<br>출연 횟수=%{y}<br>총 매출액=%{customdata[0]}<br>총 관객수=%{customdata[1]}<extra></extra>",
         "legendgroup": "박지일",
         "marker": {
          "color": "#00cc96",
          "pattern": {
           "shape": ""
          }
         },
         "name": "박지일",
         "offsetgroup": "박지일",
         "orientation": "v",
         "showlegend": true,
         "textposition": "auto",
         "type": "bar",
         "x": [
          "드라마"
         ],
         "xaxis": "x",
         "y": [
          4
         ],
         "yaxis": "y"
        },
        {
         "alignmentgroup": "True",
         "customdata": [
          [
           "1007억",
           "1682만"
          ],
          [
           "1536억",
           "1994만"
          ],
          [
           "1714억",
           "2346만"
          ]
         ],
         "hovertemplate": "배우=김기천<br>장르=%{x}<br>출연 횟수=%{y}<br>총 매출액=%{customdata[0]}<br>총 관객수=%{customdata[1]}<extra></extra>",
         "legendgroup": "김기천",
         "marker": {
          "color": "#ab63fa",
          "pattern": {
           "shape": ""
          }
         },
         "name": "김기천",
         "offsetgroup": "김기천",
         "orientation": "v",
         "showlegend": true,
         "textposition": "auto",
         "type": "bar",
         "x": [
          "드라마",
          "액션",
          "코미디"
         ],
         "xaxis": "x",
         "y": [
          4,
          7,
          5
         ],
         "yaxis": "y"
        },
        {
         "alignmentgroup": "True",
         "customdata": [
          [
           "",
           "1172만"
          ],
          [
           "",
           "907만"
          ]
         ],
         "hovertemplate": "배우=윤주상<br>장르=%{x}<br>출연 횟수=%{y}<br>총 매출액=%{customdata[0]}<br>총 관객수=%{customdata[1]}<extra></extra>",
         "legendgroup": "윤주상",
         "marker": {
          "color": "#FFA15A",
          "pattern": {
           "shape": ""
          }
         },
         "name": "윤주상",
         "offsetgroup": "윤주상",
         "orientation": "v",
         "showlegend": true,
         "textposition": "auto",
         "type": "bar",
         "x": [
          "드라마",
          "액션"
         ],
         "xaxis": "x",
         "y": [
          4,
          3
         ],
         "yaxis": "y"
        },
        {
         "alignmentgroup": "True",
         "customdata": [
          [
           "997억",
           "1305만"
          ]
         ],
         "hovertemplate": "배우=유선<br>장르=%{x}<br>출연 횟수=%{y}<br>총 매출액=%{customdata[0]}<br>총 관객수=%{customdata[1]}<extra></extra>",
         "legendgroup": "유선",
         "marker": {
          "color": "#19d3f3",
          "pattern": {
           "shape": ""
          }
         },
         "name": "유선",
         "offsetgroup": "유선",
         "orientation": "v",
         "showlegend": true,
         "textposition": "auto",
         "type": "bar",
         "x": [
          "드라마"
         ],
         "xaxis": "x",
         "y": [
          3
         ],
         "yaxis": "y"
        },
        {
         "alignmentgroup": "True",
         "customdata": [
          [
           "956억",
           "1218만"
          ],
          [
           "819억",
           "1115만"
          ]
         ],
         "hovertemplate": "배우=박보영<br>장르=%{x}<br>출연 횟수=%{y}<br>총 매출액=%{customdata[0]}<br>총 관객수=%{customdata[1]}<extra></extra>",
         "legendgroup": "박보영",
         "marker": {
          "color": "#FF6692",
          "pattern": {
           "shape": ""
          }
         },
         "name": "박보영",
         "offsetgroup": "박보영",
         "orientation": "v",
         "showlegend": true,
         "textposition": "auto",
         "type": "bar",
         "x": [
          "드라마",
          "멜로/로맨스"
         ],
         "xaxis": "x",
         "y": [
          3,
          3
         ],
         "yaxis": "y"
        },
        {
         "alignmentgroup": "True",
         "customdata": [
          [
           "930억",
           "1189만"
          ]
         ],
         "hovertemplate": "배우=정우<br>장르=%{x}<br>출연 횟수=%{y}<br>총 매출액=%{customdata[0]}<br>총 관객수=%{customdata[1]}<extra></extra>",
         "legendgroup": "정우",
         "marker": {
          "color": "#B6E880",
          "pattern": {
           "shape": ""
          }
         },
         "name": "정우",
         "offsetgroup": "정우",
         "orientation": "v",
         "showlegend": true,
         "textposition": "auto",
         "type": "bar",
         "x": [
          "드라마"
         ],
         "xaxis": "x",
         "y": [
          3
         ],
         "yaxis": "y"
        },
        {
         "alignmentgroup": "True",
         "customdata": [
          [
           "92억",
           "424만"
          ]
         ],
         "hovertemplate": "배우=김현아<br>장르=%{x}<br>출연 횟수=%{y}<br>총 매출액=%{customdata[0]}<br>총 관객수=%{customdata[1]}<extra></extra>",
         "legendgroup": "김현아",
         "marker": {
          "color": "#FF97FF",
          "pattern": {
           "shape": ""
          }
         },
         "name": "김현아",
         "offsetgroup": "김현아",
         "orientation": "v",
         "showlegend": true,
         "textposition": "auto",
         "type": "bar",
         "x": [
          "드라마"
         ],
         "xaxis": "x",
         "y": [
          3
         ],
         "yaxis": "y"
        },
        {
         "alignmentgroup": "True",
         "customdata": [
          [
           "914억",
           "1813만"
          ]
         ],
         "hovertemplate": "배우=박길수<br>장르=%{x}<br>출연 횟수=%{y}<br>총 매출액=%{customdata[0]}<br>총 관객수=%{customdata[1]}<extra></extra>",
         "legendgroup": "박길수",
         "marker": {
          "color": "#FECB52",
          "pattern": {
           "shape": ""
          }
         },
         "name": "박길수",
         "offsetgroup": "박길수",
         "orientation": "v",
         "showlegend": true,
         "textposition": "auto",
         "type": "bar",
         "x": [
          "드라마"
         ],
         "xaxis": "x",
         "y": [
          3
         ],
         "yaxis": "y"
        },
        {
         "alignmentgroup": "True",
         "customdata": [
          [
           "912억",
           "1088만"
          ]
         ],
         "hovertemplate": "배우=강신철<br>장르=%{x}<br>출연 횟수=%{y}<br>총 매출액=%{customdata[0]}<br>총 관객수=%{customdata[1]}<extra></extra>",
         "legendgroup": "강신철",
         "marker": {
          "color": "#636efa",
          "pattern": {
           "shape": ""
          }
         },
         "name": "강신철",
         "offsetgroup": "강신철",
         "orientation": "v",
         "showlegend": true,
         "textposition": "auto",
         "type": "bar",
         "x": [
          "드라마"
         ],
         "xaxis": "x",
         "y": [
          3
         ],
         "yaxis": "y"
        },
        {
         "alignmentgroup": "True",
         "customdata": [
          [
           "908억",
           "956만"
          ],
          [
           "1271억",
           "1419만"
          ]
         ],
         "hovertemplate": "배우=변요한<br>장르=%{x}<br>출연 횟수=%{y}<br>총 매출액=%{customdata[0]}<br>총 관객수=%{customdata[1]}<extra></extra>",
         "legendgroup": "변요한",
         "marker": {
          "color": "#EF553B",
          "pattern": {
           "shape": ""
          }
         },
         "name": "변요한",
         "offsetgroup": "변요한",
         "orientation": "v",
         "showlegend": true,
         "textposition": "auto",
         "type": "bar",
         "x": [
          "드라마",
          "액션"
         ],
         "xaxis": "x",
         "y": [
          3,
          3
         ],
         "yaxis": "y"
        },
        {
         "alignmentgroup": "True",
         "customdata": [
          [
           "85억",
           "537만"
          ]
         ],
         "hovertemplate": "배우=장태성<br>장르=%{x}<br>출연 횟수=%{y}<br>총 매출액=%{customdata[0]}<br>총 관객수=%{customdata[1]}<extra></extra>",
         "legendgroup": "장태성",
         "marker": {
          "color": "#00cc96",
          "pattern": {
           "shape": ""
          }
         },
         "name": "장태성",
         "offsetgroup": "장태성",
         "orientation": "v",
         "showlegend": true,
         "textposition": "auto",
         "type": "bar",
         "x": [
          "드라마"
         ],
         "xaxis": "x",
         "y": [
          3
         ],
         "yaxis": "y"
        },
        {
         "alignmentgroup": "True",
         "customdata": [
          [
           "80억",
           "375만"
          ]
         ],
         "hovertemplate": "배우=임수정<br>장르=%{x}<br>출연 횟수=%{y}<br>총 매출액=%{customdata[0]}<br>총 관객수=%{customdata[1]}<extra></extra>",
         "legendgroup": "임수정",
         "marker": {
          "color": "#ab63fa",
          "pattern": {
           "shape": ""
          }
         },
         "name": "임수정",
         "offsetgroup": "임수정",
         "orientation": "v",
         "showlegend": true,
         "textposition": "auto",
         "type": "bar",
         "x": [
          "드라마"
         ],
         "xaxis": "x",
         "y": [
          3
         ],
         "yaxis": "y"
        },
        {
         "alignmentgroup": "True",
         "customdata": [
          [
           "805억",
           "1020만"
          ],
          [
           "903억",
           "1132만"
          ]
         ],
         "hovertemplate": "배우=이엘<br>장르=%{x}<br>출연 횟수=%{y}<br>총 매출액=%{customdata[0]}<br>총 관객수=%{customdata[1]}<extra></extra>",
         "legendgroup": "이엘",
         "marker": {
          "color": "#FFA15A",
          "pattern": {
           "shape": ""
          }
         },
         "name": "이엘",
         "offsetgroup": "이엘",
         "orientation": "v",
         "showlegend": true,
         "textposition": "auto",
         "type": "bar",
         "x": [
          "드라마",
          "범죄"
         ],
         "xaxis": "x",
         "y": [
          3,
          3
         ],
         "yaxis": "y"
        },
        {
         "alignmentgroup": "True",
         "customdata": [
          [
           "761억",
           "1025만"
          ]
         ],
         "hovertemplate": "배우=김예원<br>장르=%{x}<br>출연 횟수=%{y}<br>총 매출액=%{customdata[0]}<br>총 관객수=%{customdata[1]}<extra></extra>",
         "legendgroup": "김예원",
         "marker": {
          "color": "#19d3f3",
          "pattern": {
           "shape": ""
          }
         },
         "name": "김예원",
         "offsetgroup": "김예원",
         "orientation": "v",
         "showlegend": true,
         "textposition": "auto",
         "type": "bar",
         "x": [
          "드라마"
         ],
         "xaxis": "x",
         "y": [
          3
         ],
         "yaxis": "y"
        },
        {
         "alignmentgroup": "True",
         "customdata": [
          [
           "739억",
           "876만"
          ]
         ],
         "hovertemplate": "배우=정성화<br>장르=%{x}<br>출연 횟수=%{y}<br>총 매출액=%{customdata[0]}<br>총 관객수=%{customdata[1]}<extra></extra>",
         "legendgroup": "정성화",
         "marker": {
          "color": "#FF6692",
          "pattern": {
           "shape": ""
          }
         },
         "name": "정성화",
         "offsetgroup": "정성화",
         "orientation": "v",
         "showlegend": true,
         "textposition": "auto",
         "type": "bar",
         "x": [
          "드라마"
         ],
         "xaxis": "x",
         "y": [
          3
         ],
         "yaxis": "y"
        },
        {
         "alignmentgroup": "True",
         "customdata": [
          [
           "720억",
           "905만"
          ]
         ],
         "hovertemplate": "배우=이레<br>장르=%{x}<br>출연 횟수=%{y}<br>총 매출액=%{customdata[0]}<br>총 관객수=%{customdata[1]}<extra></extra>",
         "legendgroup": "이레",
         "marker": {
          "color": "#B6E880",
          "pattern": {
           "shape": ""
          }
         },
         "name": "이레",
         "offsetgroup": "이레",
         "orientation": "v",
         "showlegend": true,
         "textposition": "auto",
         "type": "bar",
         "x": [
          "드라마"
         ],
         "xaxis": "x",
         "y": [
          3
         ],
         "yaxis": "y"
        },
        {
         "alignmentgroup": "True",
         "customdata": [
          [
           "689억",
           "1027만"
          ]
         ],
         "hovertemplate": "배우=박윤희<br>장르=%{x}<br>출연 횟수=%{y}<br>총 매출액=%{customdata[0]}<br>총 관객수=%{customdata[1]}<extra></extra>",
         "legendgroup": "박윤희",
         "marker": {
          "color": "#FF97FF",
          "pattern": {
           "shape": ""
          }
         },
         "name": "박윤희",
         "offsetgroup": "박윤희",
         "orientation": "v",
         "showlegend": true,
         "textposition": "auto",
         "type": "bar",
         "x": [
          "드라마"
         ],
         "xaxis": "x",
         "y": [
          3
         ],
         "yaxis": "y"
        },
        {
         "alignmentgroup": "True",
         "customdata": [
          [
           "675억",
           "1002만"
          ],
          [
           "583억",
           "779만"
          ]
         ],
         "hovertemplate": "배우=이미도<br>장르=%{x}<br>출연 횟수=%{y}<br>총 매출액=%{customdata[0]}<br>총 관객수=%{customdata[1]}<extra></extra>",
         "legendgroup": "이미도",
         "marker": {
          "color": "#FECB52",
          "pattern": {
           "shape": ""
          }
         },
         "name": "이미도",
         "offsetgroup": "이미도",
         "orientation": "v",
         "showlegend": true,
         "textposition": "auto",
         "type": "bar",
         "x": [
          "드라마",
          "멜로/로맨스"
         ],
         "xaxis": "x",
         "y": [
          3,
          3
         ],
         "yaxis": "y"
        },
        {
         "alignmentgroup": "True",
         "customdata": [
          [
           "672억",
           "893만"
          ],
          [
           "835억",
           "1055만"
          ]
         ],
         "hovertemplate": "배우=소지섭<br>장르=%{x}<br>출연 횟수=%{y}<br>총 매출액=%{customdata[0]}<br>총 관객수=%{customdata[1]}<extra></extra>",
         "legendgroup": "소지섭",
         "marker": {
          "color": "#636efa",
          "pattern": {
           "shape": ""
          }
         },
         "name": "소지섭",
         "offsetgroup": "소지섭",
         "orientation": "v",
         "showlegend": true,
         "textposition": "auto",
         "type": "bar",
         "x": [
          "드라마",
          "액션"
         ],
         "xaxis": "x",
         "y": [
          3,
          4
         ],
         "yaxis": "y"
        },
        {
         "alignmentgroup": "True",
         "customdata": [
          [
           "627억",
           "1158만"
          ],
          [
           "1019억",
           "1376만"
          ]
         ],
         "hovertemplate": "배우=최정우<br>장르=%{x}<br>출연 횟수=%{y}<br>총 매출액=%{customdata[0]}<br>총 관객수=%{customdata[1]}<extra></extra>",
         "legendgroup": "최정우",
         "marker": {
          "color": "#EF553B",
          "pattern": {
           "shape": ""
          }
         },
         "name": "최정우",
         "offsetgroup": "최정우",
         "orientation": "v",
         "showlegend": true,
         "textposition": "auto",
         "type": "bar",
         "x": [
          "드라마",
          "액션"
         ],
         "xaxis": "x",
         "y": [
          3,
          3
         ],
         "yaxis": "y"
        },
        {
         "alignmentgroup": "True",
         "customdata": [
          [
           "614억",
           "698만"
          ]
         ],
         "hovertemplate": "배우=김국희<br>장르=%{x}<br>출연 횟수=%{y}<br>총 매출액=%{customdata[0]}<br>총 관객수=%{customdata[1]}<extra></extra>",
         "legendgroup": "김국희",
         "marker": {
          "color": "#00cc96",
          "pattern": {
           "shape": ""
          }
         },
         "name": "김국희",
         "offsetgroup": "김국희",
         "orientation": "v",
         "showlegend": true,
         "textposition": "auto",
         "type": "bar",
         "x": [
          "드라마"
         ],
         "xaxis": "x",
         "y": [
          3
         ],
         "yaxis": "y"
        },
        {
         "alignmentgroup": "True",
         "customdata": [
          [
           "608억",
           "2348만"
          ]
         ],
         "hovertemplate": "배우=이재응<br>장르=%{x}<br>출연 횟수=%{y}<br>총 매출액=%{customdata[0]}<br>총 관객수=%{customdata[1]}<extra></extra>",
         "legendgroup": "이재응",
         "marker": {
          "color": "#ab63fa",
          "pattern": {
           "shape": ""
          }
         },
         "name": "이재응",
         "offsetgroup": "이재응",
         "orientation": "v",
         "showlegend": true,
         "textposition": "auto",
         "type": "bar",
         "x": [
          "드라마"
         ],
         "xaxis": "x",
         "y": [
          3
         ],
         "yaxis": "y"
        },
        {
         "alignmentgroup": "True",
         "customdata": [
          [
           "583억",
           "754만"
          ],
          [
           "479억",
           "812만"
          ]
         ],
         "hovertemplate": "배우=임현성<br>장르=%{x}<br>출연 횟수=%{y}<br>총 매출액=%{customdata[0]}<br>총 관객수=%{customdata[1]}<extra></extra>",
         "legendgroup": "임현성",
         "marker": {
          "color": "#FFA15A",
          "pattern": {
           "shape": ""
          }
         },
         "name": "임현성",
         "offsetgroup": "임현성",
         "orientation": "v",
         "showlegend": true,
         "textposition": "auto",
         "type": "bar",
         "x": [
          "드라마",
          "액션"
         ],
         "xaxis": "x",
         "y": [
          3,
          3
         ],
         "yaxis": "y"
        },
        {
         "alignmentgroup": "True",
         "customdata": [
          [
           "576억",
           "798만"
          ],
          [
           "352억",
           "700만"
          ],
          [
           "716억",
           "929만"
          ]
         ],
         "hovertemplate": "배우=조은지<br>장르=%{x}<br>출연 횟수=%{y}<br>총 매출액=%{customdata[0]}<br>총 관객수=%{customdata[1]}<extra></extra>",
         "legendgroup": "조은지",
         "marker": {
          "color": "#19d3f3",
          "pattern": {
           "shape": ""
          }
         },
         "name": "조은지",
         "offsetgroup": "조은지",
         "orientation": "v",
         "showlegend": true,
         "textposition": "auto",
         "type": "bar",
         "x": [
          "드라마",
          "멜로/로맨스",
          "액션"
         ],
         "xaxis": "x",
         "y": [
          3,
          3,
          5
         ],
         "yaxis": "y"
        },
        {
         "alignmentgroup": "True",
         "customdata": [
          [
           "551억",
           "1270만"
          ],
          [
           "",
           "684만"
          ],
          [
           "",
           "1288만"
          ]
         ],
         "hovertemplate": "배우=정준호<br>장르=%{x}<br>출연 횟수=%{y}<br>총 매출액=%{customdata[0]}<br>총 관객수=%{customdata[1]}<extra></extra>",
         "legendgroup": "정준호",
         "marker": {
          "color": "#FF6692",
          "pattern": {
           "shape": ""
          }
         },
         "name": "정준호",
         "offsetgroup": "정준호",
         "orientation": "v",
         "showlegend": true,
         "textposition": "auto",
         "type": "bar",
         "x": [
          "드라마",
          "액션",
          "코미디"
         ],
         "xaxis": "x",
         "y": [
          3,
          4,
          5
         ],
         "yaxis": "y"
        },
        {
         "alignmentgroup": "True",
         "customdata": [
          [
           "540억",
           "625만"
          ]
         ],
         "hovertemplate": "배우=백현진<br>장르=%{x}<br>출연 횟수=%{y}<br>총 매출액=%{customdata[0]}<br>총 관객수=%{customdata[1]}<extra></extra>",
         "legendgroup": "백현진",
         "marker": {
          "color": "#B6E880",
          "pattern": {
           "shape": ""
          }
         },
         "name": "백현진",
         "offsetgroup": "백현진",
         "orientation": "v",
         "showlegend": true,
         "textposition": "auto",
         "type": "bar",
         "x": [
          "드라마"
         ],
         "xaxis": "x",
         "y": [
          3
         ],
         "yaxis": "y"
        },
        {
         "alignmentgroup": "True",
         "customdata": [
          [
           "522억",
           "637만"
          ],
          [
           "662억",
           "1556만"
          ]
         ],
         "hovertemplate": "배우=우현<br>장르=%{x}<br>출연 횟수=%{y}<br>총 매출액=%{customdata[0]}<br>총 관객수=%{customdata[1]}<extra></extra>",
         "legendgroup": "우현",
         "marker": {
          "color": "#FF97FF",
          "pattern": {
           "shape": ""
          }
         },
         "name": "우현",
         "offsetgroup": "우현",
         "orientation": "v",
         "showlegend": true,
         "textposition": "auto",
         "type": "bar",
         "x": [
          "드라마",
          "코미디"
         ],
         "xaxis": "x",
         "y": [
          3,
          5
         ],
         "yaxis": "y"
        },
        {
         "alignmentgroup": "True",
         "customdata": [
          [
           "521억",
           "608만"
          ]
         ],
         "hovertemplate": "배우=정종준<br>장르=%{x}<br>출연 횟수=%{y}<br>총 매출액=%{customdata[0]}<br>총 관객수=%{customdata[1]}<extra></extra>",
         "legendgroup": "정종준",
         "marker": {
          "color": "#FECB52",
          "pattern": {
           "shape": ""
          }
         },
         "name": "정종준",
         "offsetgroup": "정종준",
         "orientation": "v",
         "showlegend": true,
         "textposition": "auto",
         "type": "bar",
         "x": [
          "드라마"
         ],
         "xaxis": "x",
         "y": [
          3
         ],
         "yaxis": "y"
        },
        {
         "alignmentgroup": "True",
         "customdata": [
          [
           "495억",
           "602만"
          ]
         ],
         "hovertemplate": "배우=이무생<br>장르=%{x}<br>출연 횟수=%{y}<br>총 매출액=%{customdata[0]}<br>총 관객수=%{customdata[1]}<extra></extra>",
         "legendgroup": "이무생",
         "marker": {
          "color": "#636efa",
          "pattern": {
           "shape": ""
          }
         },
         "name": "이무생",
         "offsetgroup": "이무생",
         "orientation": "v",
         "showlegend": true,
         "textposition": "auto",
         "type": "bar",
         "x": [
          "드라마"
         ],
         "xaxis": "x",
         "y": [
          3
         ],
         "yaxis": "y"
        },
        {
         "alignmentgroup": "True",
         "customdata": [
          [
           "481억",
           "1382만"
          ],
          [
           "",
           "866만"
          ]
         ],
         "hovertemplate": "배우=김상경<br>장르=%{x}<br>출연 횟수=%{y}<br>총 매출액=%{customdata[0]}<br>총 관객수=%{customdata[1]}<extra></extra>",
         "legendgroup": "김상경",
         "marker": {
          "color": "#EF553B",
          "pattern": {
           "shape": ""
          }
         },
         "name": "김상경",
         "offsetgroup": "김상경",
         "orientation": "v",
         "showlegend": true,
         "textposition": "auto",
         "type": "bar",
         "x": [
          "드라마",
          "스릴러"
         ],
         "xaxis": "x",
         "y": [
          3,
          3
         ],
         "yaxis": "y"
        },
        {
         "alignmentgroup": "True",
         "customdata": [
          [
           "472억",
           "559만"
          ]
         ],
         "hovertemplate": "배우=이성욱<br>장르=%{x}<br>출연 횟수=%{y}<br>총 매출액=%{customdata[0]}<br>총 관객수=%{customdata[1]}<extra></extra>",
         "legendgroup": "이성욱",
         "marker": {
          "color": "#00cc96",
          "pattern": {
           "shape": ""
          }
         },
         "name": "이성욱",
         "offsetgroup": "이성욱",
         "orientation": "v",
         "showlegend": true,
         "textposition": "auto",
         "type": "bar",
         "x": [
          "드라마"
         ],
         "xaxis": "x",
         "y": [
          3
         ],
         "yaxis": "y"
        },
        {
         "alignmentgroup": "True",
         "customdata": [
          [
           "471억",
           "676만"
          ]
         ],
         "hovertemplate": "배우=신현탁<br>장르=%{x}<br>출연 횟수=%{y}<br>총 매출액=%{customdata[0]}<br>총 관객수=%{customdata[1]}<extra></extra>",
         "legendgroup": "신현탁",
         "marker": {
          "color": "#ab63fa",
          "pattern": {
           "shape": ""
          }
         },
         "name": "신현탁",
         "offsetgroup": "신현탁",
         "orientation": "v",
         "showlegend": true,
         "textposition": "auto",
         "type": "bar",
         "x": [
          "드라마"
         ],
         "xaxis": "x",
         "y": [
          3
         ],
         "yaxis": "y"
        },
        {
         "alignmentgroup": "True",
         "customdata": [
          [
           "444억",
           "542만"
          ],
          [
           "949억",
           "1112만"
          ]
         ],
         "hovertemplate": "배우=이광수<br>장르=%{x}<br>출연 횟수=%{y}<br>총 매출액=%{customdata[0]}<br>총 관객수=%{customdata[1]}<extra></extra>",
         "legendgroup": "이광수",
         "marker": {
          "color": "#FFA15A",
          "pattern": {
           "shape": ""
          }
         },
         "name": "이광수",
         "offsetgroup": "이광수",
         "orientation": "v",
         "showlegend": true,
         "textposition": "auto",
         "type": "bar",
         "x": [
          "드라마",
          "코미디"
         ],
         "xaxis": "x",
         "y": [
          3,
          6
         ],
         "yaxis": "y"
        },
        {
         "alignmentgroup": "True",
         "customdata": [
          [
           "407억",
           "513만"
          ]
         ],
         "hovertemplate": "배우=박근형<br>장르=%{x}<br>출연 횟수=%{y}<br>총 매출액=%{customdata[0]}<br>총 관객수=%{customdata[1]}<extra></extra>",
         "legendgroup": "박근형",
         "marker": {
          "color": "#19d3f3",
          "pattern": {
           "shape": ""
          }
         },
         "name": "박근형",
         "offsetgroup": "박근형",
         "orientation": "v",
         "showlegend": true,
         "textposition": "auto",
         "type": "bar",
         "x": [
          "드라마"
         ],
         "xaxis": "x",
         "y": [
          3
         ],
         "yaxis": "y"
        },
        {
         "alignmentgroup": "True",
         "customdata": [
          [
           "402억",
           "502만"
          ]
         ],
         "hovertemplate": "배우=김중기<br>장르=%{x}<br>출연 횟수=%{y}<br>총 매출액=%{customdata[0]}<br>총 관객수=%{customdata[1]}<extra></extra>",
         "legendgroup": "김중기",
         "marker": {
          "color": "#FF6692",
          "pattern": {
           "shape": ""
          }
         },
         "name": "김중기",
         "offsetgroup": "김중기",
         "orientation": "v",
         "showlegend": true,
         "textposition": "auto",
         "type": "bar",
         "x": [
          "드라마"
         ],
         "xaxis": "x",
         "y": [
          3
         ],
         "yaxis": "y"
        },
        {
         "alignmentgroup": "True",
         "customdata": [
          [
           "396억",
           "725만"
          ]
         ],
         "hovertemplate": "배우=이봉규<br>장르=%{x}<br>출연 횟수=%{y}<br>총 매출액=%{customdata[0]}<br>총 관객수=%{customdata[1]}<extra></extra>",
         "legendgroup": "이봉규",
         "marker": {
          "color": "#B6E880",
          "pattern": {
           "shape": ""
          }
         },
         "name": "이봉규",
         "offsetgroup": "이봉규",
         "orientation": "v",
         "showlegend": true,
         "textposition": "auto",
         "type": "bar",
         "x": [
          "드라마"
         ],
         "xaxis": "x",
         "y": [
          3
         ],
         "yaxis": "y"
        },
        {
         "alignmentgroup": "True",
         "customdata": [
          [
           "392억",
           "478만"
          ]
         ],
         "hovertemplate": "배우=임지연<br>장르=%{x}<br>출연 횟수=%{y}<br>총 매출액=%{customdata[0]}<br>총 관객수=%{customdata[1]}<extra></extra>",
         "legendgroup": "임지연",
         "marker": {
          "color": "#FF97FF",
          "pattern": {
           "shape": ""
          }
         },
         "name": "임지연",
         "offsetgroup": "임지연",
         "orientation": "v",
         "showlegend": true,
         "textposition": "auto",
         "type": "bar",
         "x": [
          "드라마"
         ],
         "xaxis": "x",
         "y": [
          3
         ],
         "yaxis": "y"
        },
        {
         "alignmentgroup": "True",
         "customdata": [
          [
           "368억",
           "461만"
          ],
          [
           "445억",
           "568만"
          ]
         ],
         "hovertemplate": "배우=조복래<br>장르=%{x}<br>출연 횟수=%{y}<br>총 매출액=%{customdata[0]}<br>총 관객수=%{customdata[1]}<extra></extra>",
         "legendgroup": "조복래",
         "marker": {
          "color": "#FECB52",
          "pattern": {
           "shape": ""
          }
         },
         "name": "조복래",
         "offsetgroup": "조복래",
         "orientation": "v",
         "showlegend": true,
         "textposition": "auto",
         "type": "bar",
         "x": [
          "드라마",
          "코미디"
         ],
         "xaxis": "x",
         "y": [
          3,
          3
         ],
         "yaxis": "y"
        },
        {
         "alignmentgroup": "True",
         "customdata": [
          [
           "356억",
           "480만"
          ]
         ],
         "hovertemplate": "배우=최희서<br>장르=%{x}<br>출연 횟수=%{y}<br>총 매출액=%{customdata[0]}<br>총 관객수=%{customdata[1]}<extra></extra>",
         "legendgroup": "최희서",
         "marker": {
          "color": "#636efa",
          "pattern": {
           "shape": ""
          }
         },
         "name": "최희서",
         "offsetgroup": "최희서",
         "orientation": "v",
         "showlegend": true,
         "textposition": "auto",
         "type": "bar",
         "x": [
          "드라마"
         ],
         "xaxis": "x",
         "y": [
          3
         ],
         "yaxis": "y"
        },
        {
         "alignmentgroup": "True",
         "customdata": [
          [
           "349억",
           "421만"
          ]
         ],
         "hovertemplate": "배우=박혜수<br>장르=%{x}<br>출연 횟수=%{y}<br>총 매출액=%{customdata[0]}<br>총 관객수=%{customdata[1]}<extra></extra>",
         "legendgroup": "박혜수",
         "marker": {
          "color": "#EF553B",
          "pattern": {
           "shape": ""
          }
         },
         "name": "박혜수",
         "offsetgroup": "박혜수",
         "orientation": "v",
         "showlegend": true,
         "textposition": "auto",
         "type": "bar",
         "x": [
          "드라마"
         ],
         "xaxis": "x",
         "y": [
          3
         ],
         "yaxis": "y"
        },
        {
         "alignmentgroup": "True",
         "customdata": [
          [
           "348억",
           "465만"
          ]
         ],
         "hovertemplate": "배우=손지나<br>장르=%{x}<br>출연 횟수=%{y}<br>총 매출액=%{customdata[0]}<br>총 관객수=%{customdata[1]}<extra></extra>",
         "legendgroup": "손지나",
         "marker": {
          "color": "#00cc96",
          "pattern": {
           "shape": ""
          }
         },
         "name": "손지나",
         "offsetgroup": "손지나",
         "orientation": "v",
         "showlegend": true,
         "textposition": "auto",
         "type": "bar",
         "x": [
          "드라마"
         ],
         "xaxis": "x",
         "y": [
          3
         ],
         "yaxis": "y"
        },
        {
         "alignmentgroup": "True",
         "customdata": [
          [
           "346억",
           "663만"
          ],
          [
           "436억",
           "580만"
          ],
          [
           "",
           "1087만"
          ]
         ],
         "hovertemplate": "배우=류승수<br>장르=%{x}<br>출연 횟수=%{y}<br>총 매출액=%{customdata[0]}<br>총 관객수=%{customdata[1]}<extra></extra>",
         "legendgroup": "류승수",
         "marker": {
          "color": "#ab63fa",
          "pattern": {
           "shape": ""
          }
         },
         "name": "류승수",
         "offsetgroup": "류승수",
         "orientation": "v",
         "showlegend": true,
         "textposition": "auto",
         "type": "bar",
         "x": [
          "드라마",
          "전쟁",
          "코미디"
         ],
         "xaxis": "x",
         "y": [
          3,
          3,
          5
         ],
         "yaxis": "y"
        },
        {
         "alignmentgroup": "True",
         "customdata": [
          [
           "329억",
           "675만"
          ]
         ],
         "hovertemplate": "배우=수애<br>장르=%{x}<br>출연 횟수=%{y}<br>총 매출액=%{customdata[0]}<br>총 관객수=%{customdata[1]}<extra></extra>",
         "legendgroup": "수애",
         "marker": {
          "color": "#FFA15A",
          "pattern": {
           "shape": ""
          }
         },
         "name": "수애",
         "offsetgroup": "수애",
         "orientation": "v",
         "showlegend": true,
         "textposition": "auto",
         "type": "bar",
         "x": [
          "드라마"
         ],
         "xaxis": "x",
         "y": [
          3
         ],
         "yaxis": "y"
        },
        {
         "alignmentgroup": "True",
         "customdata": [
          [
           "328억",
           "593만"
          ]
         ],
         "hovertemplate": "배우=이윤희<br>장르=%{x}<br>출연 횟수=%{y}<br>총 매출액=%{customdata[0]}<br>총 관객수=%{customdata[1]}<extra></extra>",
         "legendgroup": "이윤희",
         "marker": {
          "color": "#19d3f3",
          "pattern": {
           "shape": ""
          }
         },
         "name": "이윤희",
         "offsetgroup": "이윤희",
         "orientation": "v",
         "showlegend": true,
         "textposition": "auto",
         "type": "bar",
         "x": [
          "드라마"
         ],
         "xaxis": "x",
         "y": [
          3
         ],
         "yaxis": "y"
        },
        {
         "alignmentgroup": "True",
         "customdata": [
          [
           "310억",
           "711만"
          ],
          [
           "389억",
           "632만"
          ],
          [
           "412억",
           "720만"
          ]
         ],
         "hovertemplate": "배우=안길강<br>장르=%{x}<br>출연 횟수=%{y}<br>총 매출액=%{customdata[0]}<br>총 관객수=%{customdata[1]}<extra></extra>",
         "legendgroup": "안길강",
         "marker": {
          "color": "#FF6692",
          "pattern": {
           "shape": ""
          }
         },
         "name": "안길강",
         "offsetgroup": "안길강",
         "orientation": "v",
         "showlegend": true,
         "textposition": "auto",
         "type": "bar",
         "x": [
          "드라마",
          "액션",
          "코미디"
         ],
         "xaxis": "x",
         "y": [
          3,
          3,
          4
         ],
         "yaxis": "y"
        },
        {
         "alignmentgroup": "True",
         "customdata": [
          [
           "303억",
           "1244만"
          ]
         ],
         "hovertemplate": "배우=이얼<br>장르=%{x}<br>출연 횟수=%{y}<br>총 매출액=%{customdata[0]}<br>총 관객수=%{customdata[1]}<extra></extra>",
         "legendgroup": "이얼",
         "marker": {
          "color": "#B6E880",
          "pattern": {
           "shape": ""
          }
         },
         "name": "이얼",
         "offsetgroup": "이얼",
         "orientation": "v",
         "showlegend": true,
         "textposition": "auto",
         "type": "bar",
         "x": [
          "드라마"
         ],
         "xaxis": "x",
         "y": [
          3
         ],
         "yaxis": "y"
        },
        {
         "alignmentgroup": "True",
         "customdata": [
          [
           "2792억",
           "3517만"
          ]
         ],
         "hovertemplate": "배우=김동욱<br>장르=%{x}<br>출연 횟수=%{y}<br>총 매출액=%{customdata[0]}<br>총 관객수=%{customdata[1]}<extra></extra>",
         "legendgroup": "김동욱",
         "marker": {
          "color": "#FF97FF",
          "pattern": {
           "shape": ""
          }
         },
         "name": "김동욱",
         "offsetgroup": "김동욱",
         "orientation": "v",
         "showlegend": true,
         "textposition": "auto",
         "type": "bar",
         "x": [
          "드라마"
         ],
         "xaxis": "x",
         "y": [
          3
         ],
         "yaxis": "y"
        },
        {
         "alignmentgroup": "True",
         "customdata": [
          [
           "278억",
           "526만"
          ],
          [
           "251억",
           "494만"
          ],
          [
           "1141억",
           "1543만"
          ]
         ],
         "hovertemplate": "배우=엄지원<br>장르=%{x}<br>출연 횟수=%{y}<br>총 매출액=%{customdata[0]}<br>총 관객수=%{customdata[1]}<extra></extra>",
         "legendgroup": "엄지원",
         "marker": {
          "color": "#FECB52",
          "pattern": {
           "shape": ""
          }
         },
         "name": "엄지원",
         "offsetgroup": "엄지원",
         "orientation": "v",
         "showlegend": true,
         "textposition": "auto",
         "type": "bar",
         "x": [
          "드라마",
          "스릴러",
          "액션"
         ],
         "xaxis": "x",
         "y": [
          3,
          3,
          3
         ],
         "yaxis": "y"
        },
        {
         "alignmentgroup": "True",
         "customdata": [
          [
           "257억",
           "1621만"
          ]
         ],
         "hovertemplate": "배우=고아성<br>장르=%{x}<br>출연 횟수=%{y}<br>총 매출액=%{customdata[0]}<br>총 관객수=%{customdata[1]}<extra></extra>",
         "legendgroup": "고아성",
         "marker": {
          "color": "#636efa",
          "pattern": {
           "shape": ""
          }
         },
         "name": "고아성",
         "offsetgroup": "고아성",
         "orientation": "v",
         "showlegend": true,
         "textposition": "auto",
         "type": "bar",
         "x": [
          "드라마"
         ],
         "xaxis": "x",
         "y": [
          3
         ],
         "yaxis": "y"
        },
        {
         "alignmentgroup": "True",
         "customdata": [
          [
           "245억",
           "1024만"
          ]
         ],
         "hovertemplate": "배우=장원영<br>장르=%{x}<br>출연 횟수=%{y}<br>총 매출액=%{customdata[0]}<br>총 관객수=%{customdata[1]}<extra></extra>",
         "legendgroup": "장원영",
         "marker": {
          "color": "#EF553B",
          "pattern": {
           "shape": ""
          }
         },
         "name": "장원영",
         "offsetgroup": "장원영",
         "orientation": "v",
         "showlegend": true,
         "textposition": "auto",
         "type": "bar",
         "x": [
          "드라마"
         ],
         "xaxis": "x",
         "y": [
          3
         ],
         "yaxis": "y"
        },
        {
         "alignmentgroup": "True",
         "customdata": [
          [
           "238억",
           "510만"
          ]
         ],
         "hovertemplate": "배우=이상훈<br>장르=%{x}<br>출연 횟수=%{y}<br>총 매출액=%{customdata[0]}<br>총 관객수=%{customdata[1]}<extra></extra>",
         "legendgroup": "이상훈",
         "marker": {
          "color": "#00cc96",
          "pattern": {
           "shape": ""
          }
         },
         "name": "이상훈",
         "offsetgroup": "이상훈",
         "orientation": "v",
         "showlegend": true,
         "textposition": "auto",
         "type": "bar",
         "x": [
          "드라마"
         ],
         "xaxis": "x",
         "y": [
          3
         ],
         "yaxis": "y"
        },
        {
         "alignmentgroup": "True",
         "customdata": [
          [
           "2350억",
           "2916만"
          ]
         ],
         "hovertemplate": "배우=박소담<br>장르=%{x}<br>출연 횟수=%{y}<br>총 매출액=%{customdata[0]}<br>총 관객수=%{customdata[1]}<extra></extra>",
         "legendgroup": "박소담",
         "marker": {
          "color": "#ab63fa",
          "pattern": {
           "shape": ""
          }
         },
         "name": "박소담",
         "offsetgroup": "박소담",
         "orientation": "v",
         "showlegend": true,
         "textposition": "auto",
         "type": "bar",
         "x": [
          "드라마"
         ],
         "xaxis": "x",
         "y": [
          3
         ],
         "yaxis": "y"
        },
        {
         "alignmentgroup": "True",
         "customdata": [
          [
           "2269억",
           "2788만"
          ],
          [
           "678억",
           "825만"
          ],
          [
           "2312억",
           "2829만"
          ]
         ],
         "hovertemplate": "배우=정지훈<br>장르=%{x}<br>출연 횟수=%{y}<br>총 매출액=%{customdata[0]}<br>총 관객수=%{customdata[1]}<extra></extra>",
         "legendgroup": "정지훈",
         "marker": {
          "color": "#FFA15A",
          "pattern": {
           "shape": ""
          }
         },
         "name": "정지훈",
         "offsetgroup": "정지훈",
         "orientation": "v",
         "showlegend": true,
         "textposition": "auto",
         "type": "bar",
         "x": [
          "드라마",
          "액션",
          "판타지"
         ],
         "xaxis": "x",
         "y": [
          3,
          3,
          3
         ],
         "yaxis": "y"
        },
        {
         "alignmentgroup": "True",
         "customdata": [
          [
           "210억",
           "863만"
          ],
          [
           "134억",
           "472만"
          ],
          [
           "987억",
           "1907만"
          ]
         ],
         "hovertemplate": "배우=한석규<br>장르=%{x}<br>출연 횟수=%{y}<br>총 매출액=%{customdata[0]}<br>총 관객수=%{customdata[1]}<extra></extra>",
         "legendgroup": "한석규",
         "marker": {
          "color": "#19d3f3",
          "pattern": {
           "shape": ""
          }
         },
         "name": "한석규",
         "offsetgroup": "한석규",
         "orientation": "v",
         "showlegend": true,
         "textposition": "auto",
         "type": "bar",
         "x": [
          "드라마",
          "스릴러",
          "액션"
         ],
         "xaxis": "x",
         "y": [
          3,
          3,
          5
         ],
         "yaxis": "y"
        },
        {
         "alignmentgroup": "True",
         "customdata": [
          [
           "208억",
           "522만"
          ],
          [
           "457억",
           "2835만"
          ]
         ],
         "hovertemplate": "배우=김수미<br>장르=%{x}<br>출연 횟수=%{y}<br>총 매출액=%{customdata[0]}<br>총 관객수=%{customdata[1]}<extra></extra>",
         "legendgroup": "김수미",
         "marker": {
          "color": "#FF6692",
          "pattern": {
           "shape": ""
          }
         },
         "name": "김수미",
         "offsetgroup": "김수미",
         "orientation": "v",
         "showlegend": true,
         "textposition": "auto",
         "type": "bar",
         "x": [
          "드라마",
          "코미디"
         ],
         "xaxis": "x",
         "y": [
          3,
          12
         ],
         "yaxis": "y"
        },
        {
         "alignmentgroup": "True",
         "customdata": [
          [
           "2070억",
           "2241만"
          ]
         ],
         "hovertemplate": "배우=현봉식<br>장르=%{x}<br>출연 횟수=%{y}<br>총 매출액=%{customdata[0]}<br>총 관객수=%{customdata[1]}<extra></extra>",
         "legendgroup": "현봉식",
         "marker": {
          "color": "#B6E880",
          "pattern": {
           "shape": ""
          }
         },
         "name": "현봉식",
         "offsetgroup": "현봉식",
         "orientation": "v",
         "showlegend": true,
         "textposition": "auto",
         "type": "bar",
         "x": [
          "드라마"
         ],
         "xaxis": "x",
         "y": [
          3
         ],
         "yaxis": "y"
        },
        {
         "alignmentgroup": "True",
         "customdata": [
          [
           "2025억",
           "2492만"
          ]
         ],
         "hovertemplate": "배우=이정은<br>장르=%{x}<br>출연 횟수=%{y}<br>총 매출액=%{customdata[0]}<br>총 관객수=%{customdata[1]}<extra></extra>",
         "legendgroup": "이정은",
         "marker": {
          "color": "#FF97FF",
          "pattern": {
           "shape": ""
          }
         },
         "name": "이정은",
         "offsetgroup": "이정은",
         "orientation": "v",
         "showlegend": true,
         "textposition": "auto",
         "type": "bar",
         "x": [
          "드라마"
         ],
         "xaxis": "x",
         "y": [
          3
         ],
         "yaxis": "y"
        },
        {
         "alignmentgroup": "True",
         "customdata": [
          [
           "1959억",
           "2587만"
          ],
          [
           "1260억",
           "1610만"
          ]
         ],
         "hovertemplate": "배우=심희섭<br>장르=%{x}<br>출연 횟수=%{y}<br>총 매출액=%{customdata[0]}<br>총 관객수=%{customdata[1]}<extra></extra>",
         "legendgroup": "심희섭",
         "marker": {
          "color": "#FECB52",
          "pattern": {
           "shape": ""
          }
         },
         "name": "심희섭",
         "offsetgroup": "심희섭",
         "orientation": "v",
         "showlegend": true,
         "textposition": "auto",
         "type": "bar",
         "x": [
          "드라마",
          "액션"
         ],
         "xaxis": "x",
         "y": [
          3,
          3
         ],
         "yaxis": "y"
        },
        {
         "alignmentgroup": "True",
         "customdata": [
          [
           "1797억",
           "2275만"
          ]
         ],
         "hovertemplate": "배우=김수안<br>장르=%{x}<br>출연 횟수=%{y}<br>총 매출액=%{customdata[0]}<br>총 관객수=%{customdata[1]}<extra></extra>",
         "legendgroup": "김수안",
         "marker": {
          "color": "#636efa",
          "pattern": {
           "shape": ""
          }
         },
         "name": "김수안",
         "offsetgroup": "김수안",
         "orientation": "v",
         "showlegend": true,
         "textposition": "auto",
         "type": "bar",
         "x": [
          "드라마"
         ],
         "xaxis": "x",
         "y": [
          3
         ],
         "yaxis": "y"
        },
        {
         "alignmentgroup": "True",
         "customdata": [
          [
           "1751억",
           "2291만"
          ],
          [
           "1211억",
           "1675만"
          ]
         ],
         "hovertemplate": "배우=김시후<br>장르=%{x}<br>출연 횟수=%{y}<br>총 매출액=%{customdata[0]}<br>총 관객수=%{customdata[1]}<extra></extra>",
         "legendgroup": "김시후",
         "marker": {
          "color": "#EF553B",
          "pattern": {
           "shape": ""
          }
         },
         "name": "김시후",
         "offsetgroup": "김시후",
         "orientation": "v",
         "showlegend": true,
         "textposition": "auto",
         "type": "bar",
         "x": [
          "드라마",
          "액션"
         ],
         "xaxis": "x",
         "y": [
          3,
          3
         ],
         "yaxis": "y"
        },
        {
         "alignmentgroup": "True",
         "customdata": [
          [
           "1596억",
           "2010만"
          ],
          [
           "930억",
           "1104만"
          ],
          [
           "2146억",
           "2664만"
          ]
         ],
         "hovertemplate": "배우=오대환<br>장르=%{x}<br>출연 횟수=%{y}<br>총 매출액=%{customdata[0]}<br>총 관객수=%{customdata[1]}<extra></extra>",
         "legendgroup": "오대환",
         "marker": {
          "color": "#00cc96",
          "pattern": {
           "shape": ""
          }
         },
         "name": "오대환",
         "offsetgroup": "오대환",
         "orientation": "v",
         "showlegend": true,
         "textposition": "auto",
         "type": "bar",
         "x": [
          "드라마",
          "범죄",
          "액션"
         ],
         "xaxis": "x",
         "y": [
          3,
          3,
          4
         ],
         "yaxis": "y"
        },
        {
         "alignmentgroup": "True",
         "customdata": [
          [
           "1573억",
           "1663만"
          ]
         ],
         "hovertemplate": "배우=유성주<br>장르=%{x}<br>출연 횟수=%{y}<br>총 매출액=%{customdata[0]}<br>총 관객수=%{customdata[1]}<extra></extra>",
         "legendgroup": "유성주",
         "marker": {
          "color": "#ab63fa",
          "pattern": {
           "shape": ""
          }
         },
         "name": "유성주",
         "offsetgroup": "유성주",
         "orientation": "v",
         "showlegend": true,
         "textposition": "auto",
         "type": "bar",
         "x": [
          "드라마"
         ],
         "xaxis": "x",
         "y": [
          3
         ],
         "yaxis": "y"
        },
        {
         "alignmentgroup": "True",
         "customdata": [
          [
           "1502억",
           "1639만"
          ],
          [
           "1902억",
           "2098만"
          ],
          [
           "2547억",
           "2748만"
          ]
         ],
         "hovertemplate": "배우=김민재<br>장르=%{x}<br>출연 횟수=%{y}<br>총 매출액=%{customdata[0]}<br>총 관객수=%{customdata[1]}<extra></extra>",
         "legendgroup": "김민재",
         "marker": {
          "color": "#FFA15A",
          "pattern": {
           "shape": ""
          }
         },
         "name": "김민재",
         "offsetgroup": "김민재",
         "orientation": "v",
         "showlegend": true,
         "textposition": "auto",
         "type": "bar",
         "x": [
          "드라마",
          "범죄",
          "액션"
         ],
         "xaxis": "x",
         "y": [
          3,
          4,
          5
         ],
         "yaxis": "y"
        },
        {
         "alignmentgroup": "True",
         "customdata": [
          [
           "1466억",
           "1861만"
          ],
          [
           "1780억",
           "2289만"
          ]
         ],
         "hovertemplate": "배우=최우식<br>장르=%{x}<br>출연 횟수=%{y}<br>총 매출액=%{customdata[0]}<br>총 관객수=%{customdata[1]}<extra></extra>",
         "legendgroup": "최우식",
         "marker": {
          "color": "#19d3f3",
          "pattern": {
           "shape": ""
          }
         },
         "name": "최우식",
         "offsetgroup": "최우식",
         "orientation": "v",
         "showlegend": true,
         "textposition": "auto",
         "type": "bar",
         "x": [
          "드라마",
          "액션"
         ],
         "xaxis": "x",
         "y": [
          3,
          4
         ],
         "yaxis": "y"
        },
        {
         "alignmentgroup": "True",
         "customdata": [
          [
           "1390억",
           "1856만"
          ],
          [
           "1955억",
           "2489만"
          ]
         ],
         "hovertemplate": "배우=김명곤<br>장르=%{x}<br>출연 횟수=%{y}<br>총 매출액=%{customdata[0]}<br>총 관객수=%{customdata[1]}<extra></extra>",
         "legendgroup": "김명곤",
         "marker": {
          "color": "#FF6692",
          "pattern": {
           "shape": ""
          }
         },
         "name": "김명곤",
         "offsetgroup": "김명곤",
         "orientation": "v",
         "showlegend": true,
         "textposition": "auto",
         "type": "bar",
         "x": [
          "드라마",
          "액션"
         ],
         "xaxis": "x",
         "y": [
          3,
          4
         ],
         "yaxis": "y"
        },
        {
         "alignmentgroup": "True",
         "customdata": [
          [
           "1384억",
           "1900만"
          ]
         ],
         "hovertemplate": "배우=전국향<br>장르=%{x}<br>출연 횟수=%{y}<br>총 매출액=%{customdata[0]}<br>총 관객수=%{customdata[1]}<extra></extra>",
         "legendgroup": "전국향",
         "marker": {
          "color": "#B6E880",
          "pattern": {
           "shape": ""
          }
         },
         "name": "전국향",
         "offsetgroup": "전국향",
         "orientation": "v",
         "showlegend": true,
         "textposition": "auto",
         "type": "bar",
         "x": [
          "드라마"
         ],
         "xaxis": "x",
         "y": [
          3
         ],
         "yaxis": "y"
        },
        {
         "alignmentgroup": "True",
         "customdata": [
          [
           "1329억",
           "2314만"
          ]
         ],
         "hovertemplate": "배우=김윤진<br>장르=%{x}<br>출연 횟수=%{y}<br>총 매출액=%{customdata[0]}<br>총 관객수=%{customdata[1]}<extra></extra>",
         "legendgroup": "김윤진",
         "marker": {
          "color": "#FF97FF",
          "pattern": {
           "shape": ""
          }
         },
         "name": "김윤진",
         "offsetgroup": "김윤진",
         "orientation": "v",
         "showlegend": true,
         "textposition": "auto",
         "type": "bar",
         "x": [
          "드라마"
         ],
         "xaxis": "x",
         "y": [
          3
         ],
         "yaxis": "y"
        },
        {
         "alignmentgroup": "True",
         "customdata": [
          [
           "1305억",
           "1769만"
          ],
          [
           "1347억",
           "1852만"
          ]
         ],
         "hovertemplate": "배우=박신혜<br>장르=%{x}<br>출연 횟수=%{y}<br>총 매출액=%{customdata[0]}<br>총 관객수=%{customdata[1]}<extra></extra>",
         "legendgroup": "박신혜",
         "marker": {
          "color": "#FECB52",
          "pattern": {
           "shape": ""
          }
         },
         "name": "박신혜",
         "offsetgroup": "박신혜",
         "orientation": "v",
         "showlegend": true,
         "textposition": "auto",
         "type": "bar",
         "x": [
          "드라마",
          "코미디"
         ],
         "xaxis": "x",
         "y": [
          3,
          3
         ],
         "yaxis": "y"
        },
        {
         "alignmentgroup": "True",
         "customdata": [
          [
           "1265억",
           "1627만"
          ],
          [
           "773억",
           "1065만"
          ]
         ],
         "hovertemplate": "배우=이현우<br>장르=%{x}<br>출연 횟수=%{y}<br>총 매출액=%{customdata[0]}<br>총 관객수=%{customdata[1]}<extra></extra>",
         "legendgroup": "이현우",
         "marker": {
          "color": "#636efa",
          "pattern": {
           "shape": ""
          }
         },
         "name": "이현우",
         "offsetgroup": "이현우",
         "orientation": "v",
         "showlegend": true,
         "textposition": "auto",
         "type": "bar",
         "x": [
          "드라마",
          "액션"
         ],
         "xaxis": "x",
         "y": [
          3,
          3
         ],
         "yaxis": "y"
        },
        {
         "alignmentgroup": "True",
         "customdata": [
          [
           "1263억",
           "1454만"
          ]
         ],
         "hovertemplate": "배우=김도윤<br>장르=%{x}<br>출연 횟수=%{y}<br>총 매출액=%{customdata[0]}<br>총 관객수=%{customdata[1]}<extra></extra>",
         "legendgroup": "김도윤",
         "marker": {
          "color": "#EF553B",
          "pattern": {
           "shape": ""
          }
         },
         "name": "김도윤",
         "offsetgroup": "김도윤",
         "orientation": "v",
         "showlegend": true,
         "textposition": "auto",
         "type": "bar",
         "x": [
          "드라마"
         ],
         "xaxis": "x",
         "y": [
          3
         ],
         "yaxis": "y"
        },
        {
         "alignmentgroup": "True",
         "customdata": [
          [
           "1245억",
           "1475만"
          ]
         ],
         "hovertemplate": "배우=박성근<br>장르=%{x}<br>출연 횟수=%{y}<br>총 매출액=%{customdata[0]}<br>총 관객수=%{customdata[1]}<extra></extra>",
         "legendgroup": "박성근",
         "marker": {
          "color": "#00cc96",
          "pattern": {
           "shape": ""
          }
         },
         "name": "박성근",
         "offsetgroup": "박성근",
         "orientation": "v",
         "showlegend": true,
         "textposition": "auto",
         "type": "bar",
         "x": [
          "드라마"
         ],
         "xaxis": "x",
         "y": [
          3
         ],
         "yaxis": "y"
        },
        {
         "alignmentgroup": "True",
         "customdata": [
          [
           "1229억",
           "1520만"
          ],
          [
           "1153억",
           "1353만"
          ]
         ],
         "hovertemplate": "배우=윤경호<br>장르=%{x}<br>출연 횟수=%{y}<br>총 매출액=%{customdata[0]}<br>총 관객수=%{customdata[1]}<extra></extra>",
         "legendgroup": "윤경호",
         "marker": {
          "color": "#ab63fa",
          "pattern": {
           "shape": ""
          }
         },
         "name": "윤경호",
         "offsetgroup": "윤경호",
         "orientation": "v",
         "showlegend": true,
         "textposition": "auto",
         "type": "bar",
         "x": [
          "드라마",
          "코미디"
         ],
         "xaxis": "x",
         "y": [
          3,
          5
         ],
         "yaxis": "y"
        },
        {
         "alignmentgroup": "True",
         "customdata": [
          [
           "1227억",
           "1702만"
          ]
         ],
         "hovertemplate": "배우=송중기<br>장르=%{x}<br>출연 횟수=%{y}<br>총 매출액=%{customdata[0]}<br>총 관객수=%{customdata[1]}<extra></extra>",
         "legendgroup": "송중기",
         "marker": {
          "color": "#FFA15A",
          "pattern": {
           "shape": ""
          }
         },
         "name": "송중기",
         "offsetgroup": "송중기",
         "orientation": "v",
         "showlegend": true,
         "textposition": "auto",
         "type": "bar",
         "x": [
          "드라마"
         ],
         "xaxis": "x",
         "y": [
          3
         ],
         "yaxis": "y"
        },
        {
         "alignmentgroup": "True",
         "customdata": [
          [
           "1209억",
           "1335만"
          ],
          [
           "1953억",
           "2281만"
          ]
         ],
         "hovertemplate": "배우=공정환<br>장르=%{x}<br>출연 횟수=%{y}<br>총 매출액=%{customdata[0]}<br>총 관객수=%{customdata[1]}<extra></extra>",
         "legendgroup": "공정환",
         "marker": {
          "color": "#19d3f3",
          "pattern": {
           "shape": ""
          }
         },
         "name": "공정환",
         "offsetgroup": "공정환",
         "orientation": "v",
         "showlegend": true,
         "textposition": "auto",
         "type": "bar",
         "x": [
          "드라마",
          "액션"
         ],
         "xaxis": "x",
         "y": [
          3,
          4
         ],
         "yaxis": "y"
        },
        {
         "alignmentgroup": "True",
         "customdata": [
          [
           "1202억",
           "1638만"
          ]
         ],
         "hovertemplate": "배우=박혜진<br>장르=%{x}<br>출연 횟수=%{y}<br>총 매출액=%{customdata[0]}<br>총 관객수=%{customdata[1]}<extra></extra>",
         "legendgroup": "박혜진",
         "marker": {
          "color": "#FF6692",
          "pattern": {
           "shape": ""
          }
         },
         "name": "박혜진",
         "offsetgroup": "박혜진",
         "orientation": "v",
         "showlegend": true,
         "textposition": "auto",
         "type": "bar",
         "x": [
          "드라마"
         ],
         "xaxis": "x",
         "y": [
          3
         ],
         "yaxis": "y"
        },
        {
         "alignmentgroup": "True",
         "customdata": [
          [
           "117억",
           "433만"
          ],
          [
           "339억",
           "977만"
          ]
         ],
         "hovertemplate": "배우=김유정<br>장르=%{x}<br>출연 횟수=%{y}<br>총 매출액=%{customdata[0]}<br>총 관객수=%{customdata[1]}<extra></extra>",
         "legendgroup": "김유정",
         "marker": {
          "color": "#B6E880",
          "pattern": {
           "shape": ""
          }
         },
         "name": "김유정",
         "offsetgroup": "김유정",
         "orientation": "v",
         "showlegend": true,
         "textposition": "auto",
         "type": "bar",
         "x": [
          "드라마",
          "스릴러"
         ],
         "xaxis": "x",
         "y": [
          3,
          3
         ],
         "yaxis": "y"
        },
        {
         "alignmentgroup": "True",
         "customdata": [
          [
           "1124억",
           "1566만"
          ],
          [
           "650억",
           "911만"
          ]
         ],
         "hovertemplate": "배우=천보근<br>장르=%{x}<br>출연 횟수=%{y}<br>총 매출액=%{customdata[0]}<br>총 관객수=%{customdata[1]}<extra></extra>",
         "legendgroup": "천보근",
         "marker": {
          "color": "#FF97FF",
          "pattern": {
           "shape": ""
          }
         },
         "name": "천보근",
         "offsetgroup": "천보근",
         "orientation": "v",
         "showlegend": true,
         "textposition": "auto",
         "type": "bar",
         "x": [
          "드라마",
          "코미디"
         ],
         "xaxis": "x",
         "y": [
          3,
          3
         ],
         "yaxis": "y"
        },
        {
         "alignmentgroup": "True",
         "customdata": [
          [
           "1079억",
           "1373만"
          ],
          [
           "1936억",
           "2531만"
          ]
         ],
         "hovertemplate": "배우=김태훈<br>장르=%{x}<br>출연 횟수=%{y}<br>총 매출액=%{customdata[0]}<br>총 관객수=%{customdata[1]}<extra></extra>",
         "legendgroup": "김태훈",
         "marker": {
          "color": "#FECB52",
          "pattern": {
           "shape": ""
          }
         },
         "name": "김태훈",
         "offsetgroup": "김태훈",
         "orientation": "v",
         "showlegend": true,
         "textposition": "auto",
         "type": "bar",
         "x": [
          "드라마",
          "액션"
         ],
         "xaxis": "x",
         "y": [
          3,
          3
         ],
         "yaxis": "y"
        },
        {
         "alignmentgroup": "True",
         "customdata": [
          [
           "1053억",
           "1302만"
          ]
         ],
         "hovertemplate": "배우=김태리<br>장르=%{x}<br>출연 횟수=%{y}<br>총 매출액=%{customdata[0]}<br>총 관객수=%{customdata[1]}<extra></extra>",
         "legendgroup": "김태리",
         "marker": {
          "color": "#636efa",
          "pattern": {
           "shape": ""
          }
         },
         "name": "김태리",
         "offsetgroup": "김태리",
         "orientation": "v",
         "showlegend": true,
         "textposition": "auto",
         "type": "bar",
         "x": [
          "드라마"
         ],
         "xaxis": "x",
         "y": [
          3
         ],
         "yaxis": "y"
        },
        {
         "alignmentgroup": "True",
         "customdata": [
          [
           "",
           "654만"
          ]
         ],
         "hovertemplate": "배우=이승철<br>장르=%{x}<br>출연 횟수=%{y}<br>총 매출액=%{customdata[0]}<br>총 관객수=%{customdata[1]}<extra></extra>",
         "legendgroup": "이승철",
         "marker": {
          "color": "#EF553B",
          "pattern": {
           "shape": ""
          }
         },
         "name": "이승철",
         "offsetgroup": "이승철",
         "orientation": "v",
         "showlegend": true,
         "textposition": "auto",
         "type": "bar",
         "x": [
          "드라마"
         ],
         "xaxis": "x",
         "y": [
          3
         ],
         "yaxis": "y"
        },
        {
         "alignmentgroup": "True",
         "customdata": [
          [
           "",
           "467만"
          ],
          [
           "",
           "1196만"
          ]
         ],
         "hovertemplate": "배우=성지루<br>장르=%{x}<br>출연 횟수=%{y}<br>총 매출액=%{customdata[0]}<br>총 관객수=%{customdata[1]}<extra></extra>",
         "legendgroup": "성지루",
         "marker": {
          "color": "#00cc96",
          "pattern": {
           "shape": ""
          }
         },
         "name": "성지루",
         "offsetgroup": "성지루",
         "orientation": "v",
         "showlegend": true,
         "textposition": "auto",
         "type": "bar",
         "x": [
          "드라마",
          "코미디"
         ],
         "xaxis": "x",
         "y": [
          3,
          7
         ],
         "yaxis": "y"
        },
        {
         "alignmentgroup": "True",
         "customdata": [
          [
           "",
           "1115만"
          ]
         ],
         "hovertemplate": "배우=강혜정<br>장르=%{x}<br>출연 횟수=%{y}<br>총 매출액=%{customdata[0]}<br>총 관객수=%{customdata[1]}<extra></extra>",
         "legendgroup": "강혜정",
         "marker": {
          "color": "#ab63fa",
          "pattern": {
           "shape": ""
          }
         },
         "name": "강혜정",
         "offsetgroup": "강혜정",
         "orientation": "v",
         "showlegend": true,
         "textposition": "auto",
         "type": "bar",
         "x": [
          "드라마"
         ],
         "xaxis": "x",
         "y": [
          3
         ],
         "yaxis": "y"
        },
        {
         "alignmentgroup": "True",
         "customdata": [
          [
           "621억",
           "836만"
          ],
          [
           "621억",
           "836만"
          ]
         ],
         "hovertemplate": "배우=송새벽<br>장르=%{x}<br>출연 횟수=%{y}<br>총 매출액=%{customdata[0]}<br>총 관객수=%{customdata[1]}<extra></extra>",
         "legendgroup": "송새벽",
         "marker": {
          "color": "#FFA15A",
          "pattern": {
           "shape": ""
          }
         },
         "name": "송새벽",
         "offsetgroup": "송새벽",
         "orientation": "v",
         "showlegend": true,
         "textposition": "auto",
         "type": "bar",
         "x": [
          "멜로/로맨스",
          "코미디"
         ],
         "xaxis": "x",
         "y": [
          3,
          3
         ],
         "yaxis": "y"
        },
        {
         "alignmentgroup": "True",
         "customdata": [
          [
           "589억",
           "784만"
          ],
          [
           "589억",
           "784만"
          ]
         ],
         "hovertemplate": "배우=류현경<br>장르=%{x}<br>출연 횟수=%{y}<br>총 매출액=%{customdata[0]}<br>총 관객수=%{customdata[1]}<extra></extra>",
         "legendgroup": "류현경",
         "marker": {
          "color": "#19d3f3",
          "pattern": {
           "shape": ""
          }
         },
         "name": "류현경",
         "offsetgroup": "류현경",
         "orientation": "v",
         "showlegend": true,
         "textposition": "auto",
         "type": "bar",
         "x": [
          "멜로/로맨스",
          "코미디"
         ],
         "xaxis": "x",
         "y": [
          3,
          3
         ],
         "yaxis": "y"
        },
        {
         "alignmentgroup": "True",
         "customdata": [
          [
           "510억",
           "687만"
          ],
          [
           "",
           "766만"
          ]
         ],
         "hovertemplate": "배우=김주혁<br>장르=%{x}<br>출연 횟수=%{y}<br>총 매출액=%{customdata[0]}<br>총 관객수=%{customdata[1]}<extra></extra>",
         "legendgroup": "김주혁",
         "marker": {
          "color": "#FF6692",
          "pattern": {
           "shape": ""
          }
         },
         "name": "김주혁",
         "offsetgroup": "김주혁",
         "orientation": "v",
         "showlegend": true,
         "textposition": "auto",
         "type": "bar",
         "x": [
          "멜로/로맨스",
          "코미디"
         ],
         "xaxis": "x",
         "y": [
          3,
          3
         ],
         "yaxis": "y"
        },
        {
         "alignmentgroup": "True",
         "customdata": [
          [
           "366억",
           "599만"
          ],
          [
           "1029억",
           "1355만"
          ]
         ],
         "hovertemplate": "배우=최무성<br>장르=%{x}<br>출연 횟수=%{y}<br>총 매출액=%{customdata[0]}<br>총 관객수=%{customdata[1]}<extra></extra>",
         "legendgroup": "최무성",
         "marker": {
          "color": "#B6E880",
          "pattern": {
           "shape": ""
          }
         },
         "name": "최무성",
         "offsetgroup": "최무성",
         "orientation": "v",
         "showlegend": true,
         "textposition": "auto",
         "type": "bar",
         "x": [
          "멜로/로맨스",
          "코미디"
         ],
         "xaxis": "x",
         "y": [
          3,
          4
         ],
         "yaxis": "y"
        },
        {
         "alignmentgroup": "True",
         "customdata": [
          [
           "358억",
           "672만"
          ],
          [
           "587억",
           "984만"
          ]
         ],
         "hovertemplate": "배우=이민기<br>장르=%{x}<br>출연 횟수=%{y}<br>총 매출액=%{customdata[0]}<br>총 관객수=%{customdata[1]}<extra></extra>",
         "legendgroup": "이민기",
         "marker": {
          "color": "#FF97FF",
          "pattern": {
           "shape": ""
          }
         },
         "name": "이민기",
         "offsetgroup": "이민기",
         "orientation": "v",
         "showlegend": true,
         "textposition": "auto",
         "type": "bar",
         "x": [
          "멜로/로맨스",
          "코미디"
         ],
         "xaxis": "x",
         "y": [
          3,
          4
         ],
         "yaxis": "y"
        },
        {
         "alignmentgroup": "True",
         "customdata": [
          [
           "261억",
           "561만"
          ]
         ],
         "hovertemplate": "배우=최강희<br>장르=%{x}<br>출연 횟수=%{y}<br>총 매출액=%{customdata[0]}<br>총 관객수=%{customdata[1]}<extra></extra>",
         "legendgroup": "최강희",
         "marker": {
          "color": "#FECB52",
          "pattern": {
           "shape": ""
          }
         },
         "name": "최강희",
         "offsetgroup": "최강희",
         "orientation": "v",
         "showlegend": true,
         "textposition": "auto",
         "type": "bar",
         "x": [
          "멜로/로맨스"
         ],
         "xaxis": "x",
         "y": [
          3
         ],
         "yaxis": "y"
        },
        {
         "alignmentgroup": "True",
         "customdata": [
          [
           "236억",
           "447만"
          ]
         ],
         "hovertemplate": "배우=이동욱<br>장르=%{x}<br>출연 횟수=%{y}<br>총 매출액=%{customdata[0]}<br>총 관객수=%{customdata[1]}<extra></extra>",
         "legendgroup": "이동욱",
         "marker": {
          "color": "#636efa",
          "pattern": {
           "shape": ""
          }
         },
         "name": "이동욱",
         "offsetgroup": "이동욱",
         "orientation": "v",
         "showlegend": true,
         "textposition": "auto",
         "type": "bar",
         "x": [
          "멜로/로맨스"
         ],
         "xaxis": "x",
         "y": [
          3
         ],
         "yaxis": "y"
        },
        {
         "alignmentgroup": "True",
         "customdata": [
          [
           "",
           "688만"
          ]
         ],
         "hovertemplate": "배우=김부선<br>장르=%{x}<br>출연 횟수=%{y}<br>총 매출액=%{customdata[0]}<br>총 관객수=%{customdata[1]}<extra></extra>",
         "legendgroup": "김부선",
         "marker": {
          "color": "#EF553B",
          "pattern": {
           "shape": ""
          }
         },
         "name": "김부선",
         "offsetgroup": "김부선",
         "orientation": "v",
         "showlegend": true,
         "textposition": "auto",
         "type": "bar",
         "x": [
          "멜로/로맨스"
         ],
         "xaxis": "x",
         "y": [
          3
         ],
         "yaxis": "y"
        },
        {
         "alignmentgroup": "True",
         "customdata": [
          [
           "",
           "642만"
          ],
          [
           "658억",
           "793만"
          ],
          [
           "516억",
           "901만"
          ],
          [
           "",
           "1652만"
          ]
         ],
         "hovertemplate": "배우=권상우<br>장르=%{x}<br>출연 횟수=%{y}<br>총 매출액=%{customdata[0]}<br>총 관객수=%{customdata[1]}<extra></extra>",
         "legendgroup": "권상우",
         "marker": {
          "color": "#00cc96",
          "pattern": {
           "shape": ""
          }
         },
         "name": "권상우",
         "offsetgroup": "권상우",
         "orientation": "v",
         "showlegend": true,
         "textposition": "auto",
         "type": "bar",
         "x": [
          "멜로/로맨스",
          "범죄",
          "액션",
          "코미디"
         ],
         "xaxis": "x",
         "y": [
          3,
          3,
          4,
          6
         ],
         "yaxis": "y"
        },
        {
         "alignmentgroup": "True",
         "customdata": [
          [
           "1526억",
           "2117만"
          ],
          [
           "921억",
           "1415만"
          ],
          [
           "1047억",
           "1285만"
          ]
         ],
         "hovertemplate": "배우=박성웅<br>장르=%{x}<br>출연 횟수=%{y}<br>총 매출액=%{customdata[0]}<br>총 관객수=%{customdata[1]}<extra></extra>",
         "legendgroup": "박성웅",
         "marker": {
          "color": "#ab63fa",
          "pattern": {
           "shape": ""
          }
         },
         "name": "박성웅",
         "offsetgroup": "박성웅",
         "orientation": "v",
         "showlegend": true,
         "textposition": "auto",
         "type": "bar",
         "x": [
          "범죄",
          "액션",
          "코미디"
         ],
         "xaxis": "x",
         "y": [
          5,
          5,
          3
         ],
         "yaxis": "y"
        },
        {
         "alignmentgroup": "True",
         "customdata": [
          [
           "813억",
           "1085만"
          ],
          [
           "570억",
           "1019만"
          ]
         ],
         "hovertemplate": "배우=서영희<br>장르=%{x}<br>출연 횟수=%{y}<br>총 매출액=%{customdata[0]}<br>총 관객수=%{customdata[1]}<extra></extra>",
         "legendgroup": "서영희",
         "marker": {
          "color": "#FFA15A",
          "pattern": {
           "shape": ""
          }
         },
         "name": "서영희",
         "offsetgroup": "서영희",
         "orientation": "v",
         "showlegend": true,
         "textposition": "auto",
         "type": "bar",
         "x": [
          "범죄",
          "코미디"
         ],
         "xaxis": "x",
         "y": [
          3,
          4
         ],
         "yaxis": "y"
        },
        {
         "alignmentgroup": "True",
         "customdata": [
          [
           "745억",
           "845만"
          ]
         ],
         "hovertemplate": "배우=이주영<br>장르=%{x}<br>출연 횟수=%{y}<br>총 매출액=%{customdata[0]}<br>총 관객수=%{customdata[1]}<extra></extra>",
         "legendgroup": "이주영",
         "marker": {
          "color": "#19d3f3",
          "pattern": {
           "shape": ""
          }
         },
         "name": "이주영",
         "offsetgroup": "이주영",
         "orientation": "v",
         "showlegend": true,
         "textposition": "auto",
         "type": "bar",
         "x": [
          "범죄"
         ],
         "xaxis": "x",
         "y": [
          3
         ],
         "yaxis": "y"
        },
        {
         "alignmentgroup": "True",
         "customdata": [
          [
           "695억",
           "863만"
          ],
          [
           "293억",
           "689만"
          ]
         ],
         "hovertemplate": "배우=유지태<br>장르=%{x}<br>출연 횟수=%{y}<br>총 매출액=%{customdata[0]}<br>총 관객수=%{customdata[1]}<extra></extra>",
         "legendgroup": "유지태",
         "marker": {
          "color": "#FF6692",
          "pattern": {
           "shape": ""
          }
         },
         "name": "유지태",
         "offsetgroup": "유지태",
         "orientation": "v",
         "showlegend": true,
         "textposition": "auto",
         "type": "bar",
         "x": [
          "범죄",
          "스릴러"
         ],
         "xaxis": "x",
         "y": [
          3,
          3
         ],
         "yaxis": "y"
        },
        {
         "alignmentgroup": "True",
         "customdata": [
          [
           "611억",
           "736만"
          ]
         ],
         "hovertemplate": "배우=김재영<br>장르=%{x}<br>출연 횟수=%{y}<br>총 매출액=%{customdata[0]}<br>총 관객수=%{customdata[1]}<extra></extra>",
         "legendgroup": "김재영",
         "marker": {
          "color": "#B6E880",
          "pattern": {
           "shape": ""
          }
         },
         "name": "김재영",
         "offsetgroup": "김재영",
         "orientation": "v",
         "showlegend": true,
         "textposition": "auto",
         "type": "bar",
         "x": [
          "범죄"
         ],
         "xaxis": "x",
         "y": [
          3
         ],
         "yaxis": "y"
        },
        {
         "alignmentgroup": "True",
         "customdata": [
          [
           "568억",
           "678만"
          ]
         ],
         "hovertemplate": "배우=정인겸<br>장르=%{x}<br>출연 횟수=%{y}<br>총 매출액=%{customdata[0]}<br>총 관객수=%{customdata[1]}<extra></extra>",
         "legendgroup": "정인겸",
         "marker": {
          "color": "#FF97FF",
          "pattern": {
           "shape": ""
          }
         },
         "name": "정인겸",
         "offsetgroup": "정인겸",
         "orientation": "v",
         "showlegend": true,
         "textposition": "auto",
         "type": "bar",
         "x": [
          "범죄"
         ],
         "xaxis": "x",
         "y": [
          3
         ],
         "yaxis": "y"
        },
        {
         "alignmentgroup": "True",
         "customdata": [
          [
           "533억",
           "632만"
          ],
          [
           "989억",
           "1226만"
          ]
         ],
         "hovertemplate": "배우=김무열<br>장르=%{x}<br>출연 횟수=%{y}<br>총 매출액=%{customdata[0]}<br>총 관객수=%{customdata[1]}<extra></extra>",
         "legendgroup": "김무열",
         "marker": {
          "color": "#FECB52",
          "pattern": {
           "shape": ""
          }
         },
         "name": "김무열",
         "offsetgroup": "김무열",
         "orientation": "v",
         "showlegend": true,
         "textposition": "auto",
         "type": "bar",
         "x": [
          "범죄",
          "액션"
         ],
         "xaxis": "x",
         "y": [
          3,
          3
         ],
         "yaxis": "y"
        },
        {
         "alignmentgroup": "True",
         "customdata": [
          [
           "497억",
           "612만"
          ],
          [
           "448억",
           "518만"
          ]
         ],
         "hovertemplate": "배우=이하늬<br>장르=%{x}<br>출연 횟수=%{y}<br>총 매출액=%{customdata[0]}<br>총 관객수=%{customdata[1]}<extra></extra>",
         "legendgroup": "이하늬",
         "marker": {
          "color": "#636efa",
          "pattern": {
           "shape": ""
          }
         },
         "name": "이하늬",
         "offsetgroup": "이하늬",
         "orientation": "v",
         "showlegend": true,
         "textposition": "auto",
         "type": "bar",
         "x": [
          "범죄",
          "액션"
         ],
         "xaxis": "x",
         "y": [
          3,
          3
         ],
         "yaxis": "y"
        },
        {
         "alignmentgroup": "True",
         "customdata": [
          [
           "408억",
           "533만"
          ],
          [
           "418억",
           "529만"
          ]
         ],
         "hovertemplate": "배우=허준석<br>장르=%{x}<br>출연 횟수=%{y}<br>총 매출액=%{customdata[0]}<br>총 관객수=%{customdata[1]}<extra></extra>",
         "legendgroup": "허준석",
         "marker": {
          "color": "#EF553B",
          "pattern": {
           "shape": ""
          }
         },
         "name": "허준석",
         "offsetgroup": "허준석",
         "orientation": "v",
         "showlegend": true,
         "textposition": "auto",
         "type": "bar",
         "x": [
          "범죄",
          "액션"
         ],
         "xaxis": "x",
         "y": [
          3,
          3
         ],
         "yaxis": "y"
        },
        {
         "alignmentgroup": "True",
         "customdata": [
          [
           "2167억",
           "2293만"
          ],
          [
           "2373억",
           "2534만"
          ]
         ],
         "hovertemplate": "배우=허동원<br>장르=%{x}<br>출연 횟수=%{y}<br>총 매출액=%{customdata[0]}<br>총 관객수=%{customdata[1]}<extra></extra>",
         "legendgroup": "허동원",
         "marker": {
          "color": "#00cc96",
          "pattern": {
           "shape": ""
          }
         },
         "name": "허동원",
         "offsetgroup": "허동원",
         "orientation": "v",
         "showlegend": true,
         "textposition": "auto",
         "type": "bar",
         "x": [
          "범죄",
          "액션"
         ],
         "xaxis": "x",
         "y": [
          3,
          4
         ],
         "yaxis": "y"
        },
        {
         "alignmentgroup": "True",
         "customdata": [
          [
           "1123억",
           "1339만"
          ],
          [
           "2041억",
           "2208만"
          ]
         ],
         "hovertemplate": "배우=김성규<br>장르=%{x}<br>출연 횟수=%{y}<br>총 매출액=%{customdata[0]}<br>총 관객수=%{customdata[1]}<extra></extra>",
         "legendgroup": "김성규",
         "marker": {
          "color": "#ab63fa",
          "pattern": {
           "shape": ""
          }
         },
         "name": "김성규",
         "offsetgroup": "김성규",
         "orientation": "v",
         "showlegend": true,
         "textposition": "auto",
         "type": "bar",
         "x": [
          "범죄",
          "액션"
         ],
         "xaxis": "x",
         "y": [
          3,
          4
         ],
         "yaxis": "y"
        },
        {
         "alignmentgroup": "True",
         "customdata": [
          [
           "796억",
           "1068만"
          ]
         ],
         "hovertemplate": "배우=조성하<br>장르=%{x}<br>출연 횟수=%{y}<br>총 매출액=%{customdata[0]}<br>총 관객수=%{customdata[1]}<extra></extra>",
         "legendgroup": "조성하",
         "marker": {
          "color": "#FFA15A",
          "pattern": {
           "shape": ""
          }
         },
         "name": "조성하",
         "offsetgroup": "조성하",
         "orientation": "v",
         "showlegend": true,
         "textposition": "auto",
         "type": "bar",
         "x": [
          "스릴러"
         ],
         "xaxis": "x",
         "y": [
          4
         ],
         "yaxis": "y"
        },
        {
         "alignmentgroup": "True",
         "customdata": [
          [
           "791억",
           "1088만"
          ],
          [
           "1347억",
           "1581만"
          ]
         ],
         "hovertemplate": "배우=손현주<br>장르=%{x}<br>출연 횟수=%{y}<br>총 매출액=%{customdata[0]}<br>총 관객수=%{customdata[1]}<extra></extra>",
         "legendgroup": "손현주",
         "marker": {
          "color": "#19d3f3",
          "pattern": {
           "shape": ""
          }
         },
         "name": "손현주",
         "offsetgroup": "손현주",
         "orientation": "v",
         "showlegend": true,
         "textposition": "auto",
         "type": "bar",
         "x": [
          "스릴러",
          "액션"
         ],
         "xaxis": "x",
         "y": [
          4,
          3
         ],
         "yaxis": "y"
        },
        {
         "alignmentgroup": "True",
         "customdata": [
          [
           "216억",
           "752만"
          ]
         ],
         "hovertemplate": "배우=박용우<br>장르=%{x}<br>출연 횟수=%{y}<br>총 매출액=%{customdata[0]}<br>총 관객수=%{customdata[1]}<extra></extra>",
         "legendgroup": "박용우",
         "marker": {
          "color": "#FF6692",
          "pattern": {
           "shape": ""
          }
         },
         "name": "박용우",
         "offsetgroup": "박용우",
         "orientation": "v",
         "showlegend": true,
         "textposition": "auto",
         "type": "bar",
         "x": [
          "스릴러"
         ],
         "xaxis": "x",
         "y": [
          4
         ],
         "yaxis": "y"
        },
        {
         "alignmentgroup": "True",
         "customdata": [
          [
           "99억",
           "491만"
          ]
         ],
         "hovertemplate": "배우=윤세아<br>장르=%{x}<br>출연 횟수=%{y}<br>총 매출액=%{customdata[0]}<br>총 관객수=%{customdata[1]}<extra></extra>",
         "legendgroup": "윤세아",
         "marker": {
          "color": "#B6E880",
          "pattern": {
           "shape": ""
          }
         },
         "name": "윤세아",
         "offsetgroup": "윤세아",
         "orientation": "v",
         "showlegend": true,
         "textposition": "auto",
         "type": "bar",
         "x": [
          "스릴러"
         ],
         "xaxis": "x",
         "y": [
          3
         ],
         "yaxis": "y"
        },
        {
         "alignmentgroup": "True",
         "customdata": [
          [
           "897억",
           "1206만"
          ]
         ],
         "hovertemplate": "배우=문정희<br>장르=%{x}<br>출연 횟수=%{y}<br>총 매출액=%{customdata[0]}<br>총 관객수=%{customdata[1]}<extra></extra>",
         "legendgroup": "문정희",
         "marker": {
          "color": "#FF97FF",
          "pattern": {
           "shape": ""
          }
         },
         "name": "문정희",
         "offsetgroup": "문정희",
         "orientation": "v",
         "showlegend": true,
         "textposition": "auto",
         "type": "bar",
         "x": [
          "스릴러"
         ],
         "xaxis": "x",
         "y": [
          3
         ],
         "yaxis": "y"
        },
        {
         "alignmentgroup": "True",
         "customdata": [
          [
           "534억",
           "682만"
          ]
         ],
         "hovertemplate": "배우=이상희<br>장르=%{x}<br>출연 횟수=%{y}<br>총 매출액=%{customdata[0]}<br>총 관객수=%{customdata[1]}<extra></extra>",
         "legendgroup": "이상희",
         "marker": {
          "color": "#FECB52",
          "pattern": {
           "shape": ""
          }
         },
         "name": "이상희",
         "offsetgroup": "이상희",
         "orientation": "v",
         "showlegend": true,
         "textposition": "auto",
         "type": "bar",
         "x": [
          "스릴러"
         ],
         "xaxis": "x",
         "y": [
          3
         ],
         "yaxis": "y"
        },
        {
         "alignmentgroup": "True",
         "customdata": [
          [
           "333억",
           "659만"
          ],
          [
           "",
           "718만"
          ]
         ],
         "hovertemplate": "배우=조희봉<br>장르=%{x}<br>출연 횟수=%{y}<br>총 매출액=%{customdata[0]}<br>총 관객수=%{customdata[1]}<extra></extra>",
         "legendgroup": "조희봉",
         "marker": {
          "color": "#636efa",
          "pattern": {
           "shape": ""
          }
         },
         "name": "조희봉",
         "offsetgroup": "조희봉",
         "orientation": "v",
         "showlegend": true,
         "textposition": "auto",
         "type": "bar",
         "x": [
          "스릴러",
          "코미디"
         ],
         "xaxis": "x",
         "y": [
          3,
          4
         ],
         "yaxis": "y"
        },
        {
         "alignmentgroup": "True",
         "customdata": [
          [
           "258억",
           "529만"
          ]
         ],
         "hovertemplate": "배우=신현종<br>장르=%{x}<br>출연 횟수=%{y}<br>총 매출액=%{customdata[0]}<br>총 관객수=%{customdata[1]}<extra></extra>",
         "legendgroup": "신현종",
         "marker": {
          "color": "#EF553B",
          "pattern": {
           "shape": ""
          }
         },
         "name": "신현종",
         "offsetgroup": "신현종",
         "orientation": "v",
         "showlegend": true,
         "textposition": "auto",
         "type": "bar",
         "x": [
          "스릴러"
         ],
         "xaxis": "x",
         "y": [
          3
         ],
         "yaxis": "y"
        },
        {
         "alignmentgroup": "True",
         "customdata": [
          [
           "2768억",
           "3401만"
          ]
         ],
         "hovertemplate": "배우=주석태<br>장르=%{x}<br>출연 횟수=%{y}<br>총 매출액=%{customdata[0]}<br>총 관객수=%{customdata[1]}<extra></extra>",
         "legendgroup": "주석태",
         "marker": {
          "color": "#00cc96",
          "pattern": {
           "shape": ""
          }
         },
         "name": "주석태",
         "offsetgroup": "주석태",
         "orientation": "v",
         "showlegend": true,
         "textposition": "auto",
         "type": "bar",
         "x": [
          "액션"
         ],
         "xaxis": "x",
         "y": [
          5
         ],
         "yaxis": "y"
        },
        {
         "alignmentgroup": "True",
         "customdata": [
          [
           "1334억",
           "1905만"
          ],
          [
           "",
           "1153만"
          ]
         ],
         "hovertemplate": "배우=이범수<br>장르=%{x}<br>출연 횟수=%{y}<br>총 매출액=%{customdata[0]}<br>총 관객수=%{customdata[1]}<extra></extra>",
         "legendgroup": "이범수",
         "marker": {
          "color": "#ab63fa",
          "pattern": {
           "shape": ""
          }
         },
         "name": "이범수",
         "offsetgroup": "이범수",
         "orientation": "v",
         "showlegend": true,
         "textposition": "auto",
         "type": "bar",
         "x": [
          "액션",
          "코미디"
         ],
         "xaxis": "x",
         "y": [
          5,
          5
         ],
         "yaxis": "y"
        },
        {
         "alignmentgroup": "True",
         "customdata": [
          [
           "1317억",
           "2032만"
          ]
         ],
         "hovertemplate": "배우=김동영<br>장르=%{x}<br>출연 횟수=%{y}<br>총 매출액=%{customdata[0]}<br>총 관객수=%{customdata[1]}<extra></extra>",
         "legendgroup": "김동영",
         "marker": {
          "color": "#FFA15A",
          "pattern": {
           "shape": ""
          }
         },
         "name": "김동영",
         "offsetgroup": "김동영",
         "orientation": "v",
         "showlegend": true,
         "textposition": "auto",
         "type": "bar",
         "x": [
          "액션"
         ],
         "xaxis": "x",
         "y": [
          5
         ],
         "yaxis": "y"
        },
        {
         "alignmentgroup": "True",
         "customdata": [
          [
           "3010억",
           "3877만"
          ],
          [
           "",
           "692만"
          ]
         ],
         "hovertemplate": "배우=진경<br>장르=%{x}<br>출연 횟수=%{y}<br>총 매출액=%{customdata[0]}<br>총 관객수=%{customdata[1]}<extra></extra>",
         "legendgroup": "진경",
         "marker": {
          "color": "#19d3f3",
          "pattern": {
           "shape": ""
          }
         },
         "name": "진경",
         "offsetgroup": "진경",
         "orientation": "v",
         "showlegend": true,
         "textposition": "auto",
         "type": "bar",
         "x": [
          "액션",
          "코미디"
         ],
         "xaxis": "x",
         "y": [
          4,
          3
         ],
         "yaxis": "y"
        },
        {
         "alignmentgroup": "True",
         "customdata": [
          [
           "2339억",
           "2401만"
          ]
         ],
         "hovertemplate": "배우=안세호<br>장르=%{x}<br>출연 횟수=%{y}<br>총 매출액=%{customdata[0]}<br>총 관객수=%{customdata[1]}<extra></extra>",
         "legendgroup": "안세호",
         "marker": {
          "color": "#FF6692",
          "pattern": {
           "shape": ""
          }
         },
         "name": "안세호",
         "offsetgroup": "안세호",
         "orientation": "v",
         "showlegend": true,
         "textposition": "auto",
         "type": "bar",
         "x": [
          "액션"
         ],
         "xaxis": "x",
         "y": [
          4
         ],
         "yaxis": "y"
        },
        {
         "alignmentgroup": "True",
         "customdata": [
          [
           "2303억",
           "2924만"
          ]
         ],
         "hovertemplate": "배우=이정현<br>장르=%{x}<br>출연 횟수=%{y}<br>총 매출액=%{customdata[0]}<br>총 관객수=%{customdata[1]}<extra></extra>",
         "legendgroup": "이정현",
         "marker": {
          "color": "#B6E880",
          "pattern": {
           "shape": ""
          }
         },
         "name": "이정현",
         "offsetgroup": "이정현",
         "orientation": "v",
         "showlegend": true,
         "textposition": "auto",
         "type": "bar",
         "x": [
          "액션"
         ],
         "xaxis": "x",
         "y": [
          4
         ],
         "yaxis": "y"
        },
        {
         "alignmentgroup": "True",
         "customdata": [
          [
           "1844억",
           "2511만"
          ],
          [
           "",
           "838만"
          ]
         ],
         "hovertemplate": "배우=공유<br>장르=%{x}<br>출연 횟수=%{y}<br>총 매출액=%{customdata[0]}<br>총 관객수=%{customdata[1]}<extra></extra>",
         "legendgroup": "공유",
         "marker": {
          "color": "#FF97FF",
          "pattern": {
           "shape": ""
          }
         },
         "name": "공유",
         "offsetgroup": "공유",
         "orientation": "v",
         "showlegend": true,
         "textposition": "auto",
         "type": "bar",
         "x": [
          "액션",
          "코미디"
         ],
         "xaxis": "x",
         "y": [
          4,
          3
         ],
         "yaxis": "y"
        },
        {
         "alignmentgroup": "True",
         "customdata": [
          [
           "1525억",
           "2273만"
          ]
         ],
         "hovertemplate": "배우=김수현<br>장르=%{x}<br>출연 횟수=%{y}<br>총 매출액=%{customdata[0]}<br>총 관객수=%{customdata[1]}<extra></extra>",
         "legendgroup": "김수현",
         "marker": {
          "color": "#FECB52",
          "pattern": {
           "shape": ""
          }
         },
         "name": "김수현",
         "offsetgroup": "김수현",
         "orientation": "v",
         "showlegend": true,
         "textposition": "auto",
         "type": "bar",
         "x": [
          "액션"
         ],
         "xaxis": "x",
         "y": [
          4
         ],
         "yaxis": "y"
        },
        {
         "alignmentgroup": "True",
         "customdata": [
          [
           "1520억",
           "1962만"
          ],
          [
           "721억",
           "1675만"
          ]
         ],
         "hovertemplate": "배우=정웅인<br>장르=%{x}<br>출연 횟수=%{y}<br>총 매출액=%{customdata[0]}<br>총 관객수=%{customdata[1]}<extra></extra>",
         "legendgroup": "정웅인",
         "marker": {
          "color": "#636efa",
          "pattern": {
           "shape": ""
          }
         },
         "name": "정웅인",
         "offsetgroup": "정웅인",
         "orientation": "v",
         "showlegend": true,
         "textposition": "auto",
         "type": "bar",
         "x": [
          "액션",
          "코미디"
         ],
         "xaxis": "x",
         "y": [
          4,
          6
         ],
         "yaxis": "y"
        },
        {
         "alignmentgroup": "True",
         "customdata": [
          [
           "134억",
           "1038만"
          ]
         ],
         "hovertemplate": "배우=김혜정<br>장르=%{x}<br>출연 횟수=%{y}<br>총 매출액=%{customdata[0]}<br>총 관객수=%{customdata[1]}<extra></extra>",
         "legendgroup": "김혜정",
         "marker": {
          "color": "#EF553B",
          "pattern": {
           "shape": ""
          }
         },
         "name": "김혜정",
         "offsetgroup": "김혜정",
         "orientation": "v",
         "showlegend": true,
         "textposition": "auto",
         "type": "bar",
         "x": [
          "액션"
         ],
         "xaxis": "x",
         "y": [
          4
         ],
         "yaxis": "y"
        },
        {
         "alignmentgroup": "True",
         "customdata": [
          [
           "1238억",
           "1317만"
          ],
          [
           "431억",
           "455만"
          ]
         ],
         "hovertemplate": "배우=윤병희<br>장르=%{x}<br>출연 횟수=%{y}<br>총 매출액=%{customdata[0]}<br>총 관객수=%{customdata[1]}<extra></extra>",
         "legendgroup": "윤병희",
         "marker": {
          "color": "#00cc96",
          "pattern": {
           "shape": ""
          }
         },
         "name": "윤병희",
         "offsetgroup": "윤병희",
         "orientation": "v",
         "showlegend": true,
         "textposition": "auto",
         "type": "bar",
         "x": [
          "액션",
          "코미디"
         ],
         "xaxis": "x",
         "y": [
          4,
          3
         ],
         "yaxis": "y"
        },
        {
         "alignmentgroup": "True",
         "customdata": [
          [
           "1157억",
           "1422만"
          ]
         ],
         "hovertemplate": "배우=김우빈<br>장르=%{x}<br>출연 횟수=%{y}<br>총 매출액=%{customdata[0]}<br>총 관객수=%{customdata[1]}<extra></extra>",
         "legendgroup": "김우빈",
         "marker": {
          "color": "#ab63fa",
          "pattern": {
           "shape": ""
          }
         },
         "name": "김우빈",
         "offsetgroup": "김우빈",
         "orientation": "v",
         "showlegend": true,
         "textposition": "auto",
         "type": "bar",
         "x": [
          "액션"
         ],
         "xaxis": "x",
         "y": [
          4
         ],
         "yaxis": "y"
        },
        {
         "alignmentgroup": "True",
         "customdata": [
          [
           "976억",
           "1035만"
          ]
         ],
         "hovertemplate": "배우=박명훈<br>장르=%{x}<br>출연 횟수=%{y}<br>총 매출액=%{customdata[0]}<br>총 관객수=%{customdata[1]}<extra></extra>",
         "legendgroup": "박명훈",
         "marker": {
          "color": "#FFA15A",
          "pattern": {
           "shape": ""
          }
         },
         "name": "박명훈",
         "offsetgroup": "박명훈",
         "orientation": "v",
         "showlegend": true,
         "textposition": "auto",
         "type": "bar",
         "x": [
          "액션"
         ],
         "xaxis": "x",
         "y": [
          3
         ],
         "yaxis": "y"
        },
        {
         "alignmentgroup": "True",
         "customdata": [
          [
           "894억",
           "1091만"
          ]
         ],
         "hovertemplate": "배우=우도환<br>장르=%{x}<br>출연 횟수=%{y}<br>총 매출액=%{customdata[0]}<br>총 관객수=%{customdata[1]}<extra></extra>",
         "legendgroup": "우도환",
         "marker": {
          "color": "#19d3f3",
          "pattern": {
           "shape": ""
          }
         },
         "name": "우도환",
         "offsetgroup": "우도환",
         "orientation": "v",
         "showlegend": true,
         "textposition": "auto",
         "type": "bar",
         "x": [
          "액션"
         ],
         "xaxis": "x",
         "y": [
          3
         ],
         "yaxis": "y"
        },
        {
         "alignmentgroup": "True",
         "customdata": [
          [
           "812억",
           "1010만"
          ]
         ],
         "hovertemplate": "배우=지승현<br>장르=%{x}<br>출연 횟수=%{y}<br>총 매출액=%{customdata[0]}<br>총 관객수=%{customdata[1]}<extra></extra>",
         "legendgroup": "지승현",
         "marker": {
          "color": "#FF6692",
          "pattern": {
           "shape": ""
          }
         },
         "name": "지승현",
         "offsetgroup": "지승현",
         "orientation": "v",
         "showlegend": true,
         "textposition": "auto",
         "type": "bar",
         "x": [
          "액션"
         ],
         "xaxis": "x",
         "y": [
          3
         ],
         "yaxis": "y"
        },
        {
         "alignmentgroup": "True",
         "customdata": [
          [
           "729억",
           "922만"
          ]
         ],
         "hovertemplate": "배우=김윤성<br>장르=%{x}<br>출연 횟수=%{y}<br>총 매출액=%{customdata[0]}<br>총 관객수=%{customdata[1]}<extra></extra>",
         "legendgroup": "김윤성",
         "marker": {
          "color": "#B6E880",
          "pattern": {
           "shape": ""
          }
         },
         "name": "김윤성",
         "offsetgroup": "김윤성",
         "orientation": "v",
         "showlegend": true,
         "textposition": "auto",
         "type": "bar",
         "x": [
          "액션"
         ],
         "xaxis": "x",
         "y": [
          3
         ],
         "yaxis": "y"
        },
        {
         "alignmentgroup": "True",
         "customdata": [
          [
           "681억",
           "1072만"
          ]
         ],
         "hovertemplate": "배우=유오성<br>장르=%{x}<br>출연 횟수=%{y}<br>총 매출액=%{customdata[0]}<br>총 관객수=%{customdata[1]}<extra></extra>",
         "legendgroup": "유오성",
         "marker": {
          "color": "#FF97FF",
          "pattern": {
           "shape": ""
          }
         },
         "name": "유오성",
         "offsetgroup": "유오성",
         "orientation": "v",
         "showlegend": true,
         "textposition": "auto",
         "type": "bar",
         "x": [
          "액션"
         ],
         "xaxis": "x",
         "y": [
          3
         ],
         "yaxis": "y"
        },
        {
         "alignmentgroup": "True",
         "customdata": [
          [
           "660억",
           "839만"
          ]
         ],
         "hovertemplate": "배우=박서준<br>장르=%{x}<br>출연 횟수=%{y}<br>총 매출액=%{customdata[0]}<br>총 관객수=%{customdata[1]}<extra></extra>",
         "legendgroup": "박서준",
         "marker": {
          "color": "#FECB52",
          "pattern": {
           "shape": ""
          }
         },
         "name": "박서준",
         "offsetgroup": "박서준",
         "orientation": "v",
         "showlegend": true,
         "textposition": "auto",
         "type": "bar",
         "x": [
          "액션"
         ],
         "xaxis": "x",
         "y": [
          3
         ],
         "yaxis": "y"
        },
        {
         "alignmentgroup": "True",
         "customdata": [
          [
           "653억",
           "708만"
          ]
         ],
         "hovertemplate": "배우=조민수<br>장르=%{x}<br>출연 횟수=%{y}<br>총 매출액=%{customdata[0]}<br>총 관객수=%{customdata[1]}<extra></extra>",
         "legendgroup": "조민수",
         "marker": {
          "color": "#636efa",
          "pattern": {
           "shape": ""
          }
         },
         "name": "조민수",
         "offsetgroup": "조민수",
         "orientation": "v",
         "showlegend": true,
         "textposition": "auto",
         "type": "bar",
         "x": [
          "액션"
         ],
         "xaxis": "x",
         "y": [
          3
         ],
         "yaxis": "y"
        },
        {
         "alignmentgroup": "True",
         "customdata": [
          [
           "593억",
           "1006만"
          ]
         ],
         "hovertemplate": "배우=최종원<br>장르=%{x}<br>출연 횟수=%{y}<br>총 매출액=%{customdata[0]}<br>총 관객수=%{customdata[1]}<extra></extra>",
         "legendgroup": "최종원",
         "marker": {
          "color": "#EF553B",
          "pattern": {
           "shape": ""
          }
         },
         "name": "최종원",
         "offsetgroup": "최종원",
         "orientation": "v",
         "showlegend": true,
         "textposition": "auto",
         "type": "bar",
         "x": [
          "액션"
         ],
         "xaxis": "x",
         "y": [
          3
         ],
         "yaxis": "y"
        },
        {
         "alignmentgroup": "True",
         "customdata": [
          [
           "536억",
           "675만"
          ],
          [
           "627억",
           "831만"
          ]
         ],
         "hovertemplate": "배우=이선균<br>장르=%{x}<br>출연 횟수=%{y}<br>총 매출액=%{customdata[0]}<br>총 관객수=%{customdata[1]}<extra></extra>",
         "legendgroup": "이선균",
         "marker": {
          "color": "#00cc96",
          "pattern": {
           "shape": ""
          }
         },
         "name": "이선균",
         "offsetgroup": "이선균",
         "orientation": "v",
         "showlegend": true,
         "textposition": "auto",
         "type": "bar",
         "x": [
          "액션",
          "코미디"
         ],
         "xaxis": "x",
         "y": [
          3,
          3
         ],
         "yaxis": "y"
        },
        {
         "alignmentgroup": "True",
         "customdata": [
          [
           "481억",
           "889만"
          ]
         ],
         "hovertemplate": "배우=박효준<br>장르=%{x}<br>출연 횟수=%{y}<br>총 매출액=%{customdata[0]}<br>총 관객수=%{customdata[1]}<extra></extra>",
         "legendgroup": "박효준",
         "marker": {
          "color": "#ab63fa",
          "pattern": {
           "shape": ""
          }
         },
         "name": "박효준",
         "offsetgroup": "박효준",
         "orientation": "v",
         "showlegend": true,
         "textposition": "auto",
         "type": "bar",
         "x": [
          "액션"
         ],
         "xaxis": "x",
         "y": [
          3
         ],
         "yaxis": "y"
        },
        {
         "alignmentgroup": "True",
         "customdata": [
          [
           "454억",
           "575만"
          ]
         ],
         "hovertemplate": "배우=조달환<br>장르=%{x}<br>출연 횟수=%{y}<br>총 매출액=%{customdata[0]}<br>총 관객수=%{customdata[1]}<extra></extra>",
         "legendgroup": "조달환",
         "marker": {
          "color": "#FFA15A",
          "pattern": {
           "shape": ""
          }
         },
         "name": "조달환",
         "offsetgroup": "조달환",
         "orientation": "v",
         "showlegend": true,
         "textposition": "auto",
         "type": "bar",
         "x": [
          "액션"
         ],
         "xaxis": "x",
         "y": [
          3
         ],
         "yaxis": "y"
        },
        {
         "alignmentgroup": "True",
         "customdata": [
          [
           "453억",
           "674만"
          ]
         ],
         "hovertemplate": "배우=강지환<br>장르=%{x}<br>출연 횟수=%{y}<br>총 매출액=%{customdata[0]}<br>총 관객수=%{customdata[1]}<extra></extra>",
         "legendgroup": "강지환",
         "marker": {
          "color": "#19d3f3",
          "pattern": {
           "shape": ""
          }
         },
         "name": "강지환",
         "offsetgroup": "강지환",
         "orientation": "v",
         "showlegend": true,
         "textposition": "auto",
         "type": "bar",
         "x": [
          "액션"
         ],
         "xaxis": "x",
         "y": [
          3
         ],
         "yaxis": "y"
        },
        {
         "alignmentgroup": "True",
         "customdata": [
          [
           "2444억",
           "3285만"
          ]
         ],
         "hovertemplate": "배우=전지현<br>장르=%{x}<br>출연 횟수=%{y}<br>총 매출액=%{customdata[0]}<br>총 관객수=%{customdata[1]}<extra></extra>",
         "legendgroup": "전지현",
         "marker": {
          "color": "#FF6692",
          "pattern": {
           "shape": ""
          }
         },
         "name": "전지현",
         "offsetgroup": "전지현",
         "orientation": "v",
         "showlegend": true,
         "textposition": "auto",
         "type": "bar",
         "x": [
          "액션"
         ],
         "xaxis": "x",
         "y": [
          3
         ],
         "yaxis": "y"
        },
        {
         "alignmentgroup": "True",
         "customdata": [
          [
           "2139억",
           "2422만"
          ]
         ],
         "hovertemplate": "배우=임윤아<br>장르=%{x}<br>출연 횟수=%{y}<br>총 매출액=%{customdata[0]}<br>총 관객수=%{customdata[1]}<extra></extra>",
         "legendgroup": "임윤아",
         "marker": {
          "color": "#B6E880",
          "pattern": {
           "shape": ""
          }
         },
         "name": "임윤아",
         "offsetgroup": "임윤아",
         "orientation": "v",
         "showlegend": true,
         "textposition": "auto",
         "type": "bar",
         "x": [
          "액션"
         ],
         "xaxis": "x",
         "y": [
          3
         ],
         "yaxis": "y"
        },
        {
         "alignmentgroup": "True",
         "customdata": [
          [
           "1896억",
           "1882만"
          ]
         ],
         "hovertemplate": "배우=박훈<br>장르=%{x}<br>출연 횟수=%{y}<br>총 매출액=%{customdata[0]}<br>총 관객수=%{customdata[1]}<extra></extra>",
         "legendgroup": "박훈",
         "marker": {
          "color": "#FF97FF",
          "pattern": {
           "shape": ""
          }
         },
         "name": "박훈",
         "offsetgroup": "박훈",
         "orientation": "v",
         "showlegend": true,
         "textposition": "auto",
         "type": "bar",
         "x": [
          "액션"
         ],
         "xaxis": "x",
         "y": [
          3
         ],
         "yaxis": "y"
        },
        {
         "alignmentgroup": "True",
         "customdata": [
          [
           "1725억",
           "2241만"
          ]
         ],
         "hovertemplate": "배우=박보검<br>장르=%{x}<br>출연 횟수=%{y}<br>총 매출액=%{customdata[0]}<br>총 관객수=%{customdata[1]}<extra></extra>",
         "legendgroup": "박보검",
         "marker": {
          "color": "#FECB52",
          "pattern": {
           "shape": ""
          }
         },
         "name": "박보검",
         "offsetgroup": "박보검",
         "orientation": "v",
         "showlegend": true,
         "textposition": "auto",
         "type": "bar",
         "x": [
          "액션"
         ],
         "xaxis": "x",
         "y": [
          3
         ],
         "yaxis": "y"
        },
        {
         "alignmentgroup": "True",
         "customdata": [
          [
           "1479억",
           "1639만"
          ]
         ],
         "hovertemplate": "배우=현빈<br>장르=%{x}<br>출연 횟수=%{y}<br>총 매출액=%{customdata[0]}<br>총 관객수=%{customdata[1]}<extra></extra>",
         "legendgroup": "현빈",
         "marker": {
          "color": "#636efa",
          "pattern": {
           "shape": ""
          }
         },
         "name": "현빈",
         "offsetgroup": "현빈",
         "orientation": "v",
         "showlegend": true,
         "textposition": "auto",
         "type": "bar",
         "x": [
          "액션"
         ],
         "xaxis": "x",
         "y": [
          3
         ],
         "yaxis": "y"
        },
        {
         "alignmentgroup": "True",
         "customdata": [
          [
           "1360억",
           "1628만"
          ]
         ],
         "hovertemplate": "배우=박명신<br>장르=%{x}<br>출연 횟수=%{y}<br>총 매출액=%{customdata[0]}<br>총 관객수=%{customdata[1]}<extra></extra>",
         "legendgroup": "박명신",
         "marker": {
          "color": "#EF553B",
          "pattern": {
           "shape": ""
          }
         },
         "name": "박명신",
         "offsetgroup": "박명신",
         "orientation": "v",
         "showlegend": true,
         "textposition": "auto",
         "type": "bar",
         "x": [
          "액션"
         ],
         "xaxis": "x",
         "y": [
          3
         ],
         "yaxis": "y"
        },
        {
         "alignmentgroup": "True",
         "customdata": [
          [
           "1336억",
           "1500만"
          ]
         ],
         "hovertemplate": "배우=이태형<br>장르=%{x}<br>출연 횟수=%{y}<br>총 매출액=%{customdata[0]}<br>총 관객수=%{customdata[1]}<extra></extra>",
         "legendgroup": "이태형",
         "marker": {
          "color": "#00cc96",
          "pattern": {
           "shape": ""
          }
         },
         "name": "이태형",
         "offsetgroup": "이태형",
         "orientation": "v",
         "showlegend": true,
         "textposition": "auto",
         "type": "bar",
         "x": [
          "액션"
         ],
         "xaxis": "x",
         "y": [
          3
         ],
         "yaxis": "y"
        },
        {
         "alignmentgroup": "True",
         "customdata": [
          [
           "1214억",
           "1554만"
          ]
         ],
         "hovertemplate": "배우=배정남<br>장르=%{x}<br>출연 횟수=%{y}<br>총 매출액=%{customdata[0]}<br>총 관객수=%{customdata[1]}<extra></extra>",
         "legendgroup": "배정남",
         "marker": {
          "color": "#ab63fa",
          "pattern": {
           "shape": ""
          }
         },
         "name": "배정남",
         "offsetgroup": "배정남",
         "orientation": "v",
         "showlegend": true,
         "textposition": "auto",
         "type": "bar",
         "x": [
          "액션"
         ],
         "xaxis": "x",
         "y": [
          3
         ],
         "yaxis": "y"
        },
        {
         "alignmentgroup": "True",
         "customdata": [
          [
           "1028억",
           "1067만"
          ]
         ],
         "hovertemplate": "배우=박경혜<br>장르=%{x}<br>출연 횟수=%{y}<br>총 매출액=%{customdata[0]}<br>총 관객수=%{customdata[1]}<extra></extra>",
         "legendgroup": "박경혜",
         "marker": {
          "color": "#FFA15A",
          "pattern": {
           "shape": ""
          }
         },
         "name": "박경혜",
         "offsetgroup": "박경혜",
         "orientation": "v",
         "showlegend": true,
         "textposition": "auto",
         "type": "bar",
         "x": [
          "액션"
         ],
         "xaxis": "x",
         "y": [
          3
         ],
         "yaxis": "y"
        },
        {
         "alignmentgroup": "True",
         "customdata": [
          [
           "1028억",
           "1067만"
          ]
         ],
         "hovertemplate": "배우=주보비<br>장르=%{x}<br>출연 횟수=%{y}<br>총 매출액=%{customdata[0]}<br>총 관객수=%{customdata[1]}<extra></extra>",
         "legendgroup": "주보비",
         "marker": {
          "color": "#19d3f3",
          "pattern": {
           "shape": ""
          }
         },
         "name": "주보비",
         "offsetgroup": "주보비",
         "orientation": "v",
         "showlegend": true,
         "textposition": "auto",
         "type": "bar",
         "x": [
          "액션"
         ],
         "xaxis": "x",
         "y": [
          3
         ],
         "yaxis": "y"
        },
        {
         "alignmentgroup": "True",
         "customdata": [
          [
           "",
           "726만"
          ]
         ],
         "hovertemplate": "배우=박상욱<br>장르=%{x}<br>출연 횟수=%{y}<br>총 매출액=%{customdata[0]}<br>총 관객수=%{customdata[1]}<extra></extra>",
         "legendgroup": "박상욱",
         "marker": {
          "color": "#FF6692",
          "pattern": {
           "shape": ""
          }
         },
         "name": "박상욱",
         "offsetgroup": "박상욱",
         "orientation": "v",
         "showlegend": true,
         "textposition": "auto",
         "type": "bar",
         "x": [
          "액션"
         ],
         "xaxis": "x",
         "y": [
          3
         ],
         "yaxis": "y"
        },
        {
         "alignmentgroup": "True",
         "customdata": [
          [
           "",
           "642만"
          ]
         ],
         "hovertemplate": "배우=이종혁<br>장르=%{x}<br>출연 횟수=%{y}<br>총 매출액=%{customdata[0]}<br>총 관객수=%{customdata[1]}<extra></extra>",
         "legendgroup": "이종혁",
         "marker": {
          "color": "#B6E880",
          "pattern": {
           "shape": ""
          }
         },
         "name": "이종혁",
         "offsetgroup": "이종혁",
         "orientation": "v",
         "showlegend": true,
         "textposition": "auto",
         "type": "bar",
         "x": [
          "액션"
         ],
         "xaxis": "x",
         "y": [
          3
         ],
         "yaxis": "y"
        },
        {
         "alignmentgroup": "True",
         "customdata": [
          [
           "",
           "559만"
          ]
         ],
         "hovertemplate": "배우=정두홍<br>장르=%{x}<br>출연 횟수=%{y}<br>총 매출액=%{customdata[0]}<br>총 관객수=%{customdata[1]}<extra></extra>",
         "legendgroup": "정두홍",
         "marker": {
          "color": "#FF97FF",
          "pattern": {
           "shape": ""
          }
         },
         "name": "정두홍",
         "offsetgroup": "정두홍",
         "orientation": "v",
         "showlegend": true,
         "textposition": "auto",
         "type": "bar",
         "x": [
          "액션"
         ],
         "xaxis": "x",
         "y": [
          3
         ],
         "yaxis": "y"
        },
        {
         "alignmentgroup": "True",
         "customdata": [
          [
           "",
           "540만"
          ]
         ],
         "hovertemplate": "배우=주현<br>장르=%{x}<br>출연 횟수=%{y}<br>총 매출액=%{customdata[0]}<br>총 관객수=%{customdata[1]}<extra></extra>",
         "legendgroup": "주현",
         "marker": {
          "color": "#FECB52",
          "pattern": {
           "shape": ""
          }
         },
         "name": "주현",
         "offsetgroup": "주현",
         "orientation": "v",
         "showlegend": true,
         "textposition": "auto",
         "type": "bar",
         "x": [
          "액션"
         ],
         "xaxis": "x",
         "y": [
          3
         ],
         "yaxis": "y"
        },
        {
         "alignmentgroup": "True",
         "customdata": [
          [
           "189억",
           "1821만"
          ]
         ],
         "hovertemplate": "배우=임창정<br>장르=%{x}<br>출연 횟수=%{y}<br>총 매출액=%{customdata[0]}<br>총 관객수=%{customdata[1]}<extra></extra>",
         "legendgroup": "임창정",
         "marker": {
          "color": "#636efa",
          "pattern": {
           "shape": ""
          }
         },
         "name": "임창정",
         "offsetgroup": "임창정",
         "orientation": "v",
         "showlegend": true,
         "textposition": "auto",
         "type": "bar",
         "x": [
          "코미디"
         ],
         "xaxis": "x",
         "y": [
          9
         ],
         "yaxis": "y"
        },
        {
         "alignmentgroup": "True",
         "customdata": [
          [
           "5억",
           "1274만"
          ]
         ],
         "hovertemplate": "배우=신이<br>장르=%{x}<br>출연 횟수=%{y}<br>총 매출액=%{customdata[0]}<br>총 관객수=%{customdata[1]}<extra></extra>",
         "legendgroup": "신이",
         "marker": {
          "color": "#EF553B",
          "pattern": {
           "shape": ""
          }
         },
         "name": "신이",
         "offsetgroup": "신이",
         "orientation": "v",
         "showlegend": true,
         "textposition": "auto",
         "type": "bar",
         "x": [
          "코미디"
         ],
         "xaxis": "x",
         "y": [
          6
         ],
         "yaxis": "y"
        },
        {
         "alignmentgroup": "True",
         "customdata": [
          [
           "",
           "1155만"
          ]
         ],
         "hovertemplate": "배우=이문식<br>장르=%{x}<br>출연 횟수=%{y}<br>총 매출액=%{customdata[0]}<br>총 관객수=%{customdata[1]}<extra></extra>",
         "legendgroup": "이문식",
         "marker": {
          "color": "#00cc96",
          "pattern": {
           "shape": ""
          }
         },
         "name": "이문식",
         "offsetgroup": "이문식",
         "orientation": "v",
         "showlegend": true,
         "textposition": "auto",
         "type": "bar",
         "x": [
          "코미디"
         ],
         "xaxis": "x",
         "y": [
          6
         ],
         "yaxis": "y"
        },
        {
         "alignmentgroup": "True",
         "customdata": [
          [
           "685억",
           "1337만"
          ]
         ],
         "hovertemplate": "배우=김서현<br>장르=%{x}<br>출연 횟수=%{y}<br>총 매출액=%{customdata[0]}<br>총 관객수=%{customdata[1]}<extra></extra>",
         "legendgroup": "김서현",
         "marker": {
          "color": "#ab63fa",
          "pattern": {
           "shape": ""
          }
         },
         "name": "김서현",
         "offsetgroup": "김서현",
         "orientation": "v",
         "showlegend": true,
         "textposition": "auto",
         "type": "bar",
         "x": [
          "코미디"
         ],
         "xaxis": "x",
         "y": [
          5
         ],
         "yaxis": "y"
        },
        {
         "alignmentgroup": "True",
         "customdata": [
          [
           "177억",
           "1508만"
          ]
         ],
         "hovertemplate": "배우=신현준<br>장르=%{x}<br>출연 횟수=%{y}<br>총 매출액=%{customdata[0]}<br>총 관객수=%{customdata[1]}<extra></extra>",
         "legendgroup": "신현준",
         "marker": {
          "color": "#FFA15A",
          "pattern": {
           "shape": ""
          }
         },
         "name": "신현준",
         "offsetgroup": "신현준",
         "orientation": "v",
         "showlegend": true,
         "textposition": "auto",
         "type": "bar",
         "x": [
          "코미디"
         ],
         "xaxis": "x",
         "y": [
          5
         ],
         "yaxis": "y"
        },
        {
         "alignmentgroup": "True",
         "customdata": [
          [
           "",
           "851만"
          ]
         ],
         "hovertemplate": "배우=김수로<br>장르=%{x}<br>출연 횟수=%{y}<br>총 매출액=%{customdata[0]}<br>총 관객수=%{customdata[1]}<extra></extra>",
         "legendgroup": "김수로",
         "marker": {
          "color": "#19d3f3",
          "pattern": {
           "shape": ""
          }
         },
         "name": "김수로",
         "offsetgroup": "김수로",
         "orientation": "v",
         "showlegend": true,
         "textposition": "auto",
         "type": "bar",
         "x": [
          "코미디"
         ],
         "xaxis": "x",
         "y": [
          5
         ],
         "yaxis": "y"
        },
        {
         "alignmentgroup": "True",
         "customdata": [
          [
           "",
           "1342만"
          ]
         ],
         "hovertemplate": "배우=김하늘<br>장르=%{x}<br>출연 횟수=%{y}<br>총 매출액=%{customdata[0]}<br>총 관객수=%{customdata[1]}<extra></extra>",
         "legendgroup": "김하늘",
         "marker": {
          "color": "#FF6692",
          "pattern": {
           "shape": ""
          }
         },
         "name": "김하늘",
         "offsetgroup": "김하늘",
         "orientation": "v",
         "showlegend": true,
         "textposition": "auto",
         "type": "bar",
         "x": [
          "코미디"
         ],
         "xaxis": "x",
         "y": [
          5
         ],
         "yaxis": "y"
        },
        {
         "alignmentgroup": "True",
         "customdata": [
          [
           "534억",
           "668만"
          ]
         ],
         "hovertemplate": "배우=안재홍<br>장르=%{x}<br>출연 횟수=%{y}<br>총 매출액=%{customdata[0]}<br>총 관객수=%{customdata[1]}<extra></extra>",
         "legendgroup": "안재홍",
         "marker": {
          "color": "#B6E880",
          "pattern": {
           "shape": ""
          }
         },
         "name": "안재홍",
         "offsetgroup": "안재홍",
         "orientation": "v",
         "showlegend": true,
         "textposition": "auto",
         "type": "bar",
         "x": [
          "코미디"
         ],
         "xaxis": "x",
         "y": [
          4
         ],
         "yaxis": "y"
        },
        {
         "alignmentgroup": "True",
         "customdata": [
          [
           "389억",
           "703만"
          ]
         ],
         "hovertemplate": "배우=이지훈<br>장르=%{x}<br>출연 횟수=%{y}<br>총 매출액=%{customdata[0]}<br>총 관객수=%{customdata[1]}<extra></extra>",
         "legendgroup": "이지훈",
         "marker": {
          "color": "#FF97FF",
          "pattern": {
           "shape": ""
          }
         },
         "name": "이지훈",
         "offsetgroup": "이지훈",
         "orientation": "v",
         "showlegend": true,
         "textposition": "auto",
         "type": "bar",
         "x": [
          "코미디"
         ],
         "xaxis": "x",
         "y": [
          4
         ],
         "yaxis": "y"
        },
        {
         "alignmentgroup": "True",
         "customdata": [
          [
           "263억",
           "699만"
          ]
         ],
         "hovertemplate": "배우=손병욱<br>장르=%{x}<br>출연 횟수=%{y}<br>총 매출액=%{customdata[0]}<br>총 관객수=%{customdata[1]}<extra></extra>",
         "legendgroup": "손병욱",
         "marker": {
          "color": "#FECB52",
          "pattern": {
           "shape": ""
          }
         },
         "name": "손병욱",
         "offsetgroup": "손병욱",
         "orientation": "v",
         "showlegend": true,
         "textposition": "auto",
         "type": "bar",
         "x": [
          "코미디"
         ],
         "xaxis": "x",
         "y": [
          4
         ],
         "yaxis": "y"
        },
        {
         "alignmentgroup": "True",
         "customdata": [
          [
           "177억",
           "1381만"
          ]
         ],
         "hovertemplate": "배우=탁재훈<br>장르=%{x}<br>출연 횟수=%{y}<br>총 매출액=%{customdata[0]}<br>총 관객수=%{customdata[1]}<extra></extra>",
         "legendgroup": "탁재훈",
         "marker": {
          "color": "#636efa",
          "pattern": {
           "shape": ""
          }
         },
         "name": "탁재훈",
         "offsetgroup": "탁재훈",
         "orientation": "v",
         "showlegend": true,
         "textposition": "auto",
         "type": "bar",
         "x": [
          "코미디"
         ],
         "xaxis": "x",
         "y": [
          4
         ],
         "yaxis": "y"
        },
        {
         "alignmentgroup": "True",
         "customdata": [
          [
           "1220억",
           "1684만"
          ]
         ],
         "hovertemplate": "배우=박성일<br>장르=%{x}<br>출연 횟수=%{y}<br>총 매출액=%{customdata[0]}<br>총 관객수=%{customdata[1]}<extra></extra>",
         "legendgroup": "박성일",
         "marker": {
          "color": "#EF553B",
          "pattern": {
           "shape": ""
          }
         },
         "name": "박성일",
         "offsetgroup": "박성일",
         "orientation": "v",
         "showlegend": true,
         "textposition": "auto",
         "type": "bar",
         "x": [
          "코미디"
         ],
         "xaxis": "x",
         "y": [
          4
         ],
         "yaxis": "y"
        },
        {
         "alignmentgroup": "True",
         "customdata": [
          [
           "",
           "846만"
          ]
         ],
         "hovertemplate": "배우=김선아<br>장르=%{x}<br>출연 횟수=%{y}<br>총 매출액=%{customdata[0]}<br>총 관객수=%{customdata[1]}<extra></extra>",
         "legendgroup": "김선아",
         "marker": {
          "color": "#00cc96",
          "pattern": {
           "shape": ""
          }
         },
         "name": "김선아",
         "offsetgroup": "김선아",
         "orientation": "v",
         "showlegend": true,
         "textposition": "auto",
         "type": "bar",
         "x": [
          "코미디"
         ],
         "xaxis": "x",
         "y": [
          4
         ],
         "yaxis": "y"
        },
        {
         "alignmentgroup": "True",
         "customdata": [
          [
           "",
           "828만"
          ]
         ],
         "hovertemplate": "배우=강성진<br>장르=%{x}<br>출연 횟수=%{y}<br>총 매출액=%{customdata[0]}<br>총 관객수=%{customdata[1]}<extra></extra>",
         "legendgroup": "강성진",
         "marker": {
          "color": "#ab63fa",
          "pattern": {
           "shape": ""
          }
         },
         "name": "강성진",
         "offsetgroup": "강성진",
         "orientation": "v",
         "showlegend": true,
         "textposition": "auto",
         "type": "bar",
         "x": [
          "코미디"
         ],
         "xaxis": "x",
         "y": [
          4
         ],
         "yaxis": "y"
        },
        {
         "alignmentgroup": "True",
         "customdata": [
          [
           "",
           "728만"
          ]
         ],
         "hovertemplate": "배우=이원종<br>장르=%{x}<br>출연 횟수=%{y}<br>총 매출액=%{customdata[0]}<br>총 관객수=%{customdata[1]}<extra></extra>",
         "legendgroup": "이원종",
         "marker": {
          "color": "#FFA15A",
          "pattern": {
           "shape": ""
          }
         },
         "name": "이원종",
         "offsetgroup": "이원종",
         "orientation": "v",
         "showlegend": true,
         "textposition": "auto",
         "type": "bar",
         "x": [
          "코미디"
         ],
         "xaxis": "x",
         "y": [
          4
         ],
         "yaxis": "y"
        },
        {
         "alignmentgroup": "True",
         "customdata": [
          [
           "663억",
           "934만"
          ]
         ],
         "hovertemplate": "배우=전혜빈<br>장르=%{x}<br>출연 횟수=%{y}<br>총 매출액=%{customdata[0]}<br>총 관객수=%{customdata[1]}<extra></extra>",
         "legendgroup": "전혜빈",
         "marker": {
          "color": "#19d3f3",
          "pattern": {
           "shape": ""
          }
         },
         "name": "전혜빈",
         "offsetgroup": "전혜빈",
         "orientation": "v",
         "showlegend": true,
         "textposition": "auto",
         "type": "bar",
         "x": [
          "코미디"
         ],
         "xaxis": "x",
         "y": [
          3
         ],
         "yaxis": "y"
        },
        {
         "alignmentgroup": "True",
         "customdata": [
          [
           "5억",
           "802만"
          ]
         ],
         "hovertemplate": "배우=최성국<br>장르=%{x}<br>출연 횟수=%{y}<br>총 매출액=%{customdata[0]}<br>총 관객수=%{customdata[1]}<extra></extra>",
         "legendgroup": "최성국",
         "marker": {
          "color": "#FF6692",
          "pattern": {
           "shape": ""
          }
         },
         "name": "최성국",
         "offsetgroup": "최성국",
         "orientation": "v",
         "showlegend": true,
         "textposition": "auto",
         "type": "bar",
         "x": [
          "코미디"
         ],
         "xaxis": "x",
         "y": [
          3
         ],
         "yaxis": "y"
        },
        {
         "alignmentgroup": "True",
         "customdata": [
          [
           "478억",
           "658만"
          ]
         ],
         "hovertemplate": "배우=오나라<br>장르=%{x}<br>출연 횟수=%{y}<br>총 매출액=%{customdata[0]}<br>총 관객수=%{customdata[1]}<extra></extra>",
         "legendgroup": "오나라",
         "marker": {
          "color": "#B6E880",
          "pattern": {
           "shape": ""
          }
         },
         "name": "오나라",
         "offsetgroup": "오나라",
         "orientation": "v",
         "showlegend": true,
         "textposition": "auto",
         "type": "bar",
         "x": [
          "코미디"
         ],
         "xaxis": "x",
         "y": [
          3
         ],
         "yaxis": "y"
        },
        {
         "alignmentgroup": "True",
         "customdata": [
          [
           "228억",
           "1213만"
          ]
         ],
         "hovertemplate": "배우=공형진<br>장르=%{x}<br>출연 횟수=%{y}<br>총 매출액=%{customdata[0]}<br>총 관객수=%{customdata[1]}<extra></extra>",
         "legendgroup": "공형진",
         "marker": {
          "color": "#FF97FF",
          "pattern": {
           "shape": ""
          }
         },
         "name": "공형진",
         "offsetgroup": "공형진",
         "orientation": "v",
         "showlegend": true,
         "textposition": "auto",
         "type": "bar",
         "x": [
          "코미디"
         ],
         "xaxis": "x",
         "y": [
          3
         ],
         "yaxis": "y"
        },
        {
         "alignmentgroup": "True",
         "customdata": [
          [
           "177억",
           "1146만"
          ]
         ],
         "hovertemplate": "배우=정준하<br>장르=%{x}<br>출연 횟수=%{y}<br>총 매출액=%{customdata[0]}<br>총 관객수=%{customdata[1]}<extra></extra>",
         "legendgroup": "정준하",
         "marker": {
          "color": "#FECB52",
          "pattern": {
           "shape": ""
          }
         },
         "name": "정준하",
         "offsetgroup": "정준하",
         "orientation": "v",
         "showlegend": true,
         "textposition": "auto",
         "type": "bar",
         "x": [
          "코미디"
         ],
         "xaxis": "x",
         "y": [
          3
         ],
         "yaxis": "y"
        },
        {
         "alignmentgroup": "True",
         "customdata": [
          [
           "169억",
           "708만"
          ]
         ],
         "hovertemplate": "배우=김용건<br>장르=%{x}<br>출연 횟수=%{y}<br>총 매출액=%{customdata[0]}<br>총 관객수=%{customdata[1]}<extra></extra>",
         "legendgroup": "김용건",
         "marker": {
          "color": "#636efa",
          "pattern": {
           "shape": ""
          }
         },
         "name": "김용건",
         "offsetgroup": "김용건",
         "orientation": "v",
         "showlegend": true,
         "textposition": "auto",
         "type": "bar",
         "x": [
          "코미디"
         ],
         "xaxis": "x",
         "y": [
          3
         ],
         "yaxis": "y"
        },
        {
         "alignmentgroup": "True",
         "customdata": [
          [
           "138억",
           "1088만"
          ]
         ],
         "hovertemplate": "배우=김아중<br>장르=%{x}<br>출연 횟수=%{y}<br>총 매출액=%{customdata[0]}<br>총 관객수=%{customdata[1]}<extra></extra>",
         "legendgroup": "김아중",
         "marker": {
          "color": "#EF553B",
          "pattern": {
           "shape": ""
          }
         },
         "name": "김아중",
         "offsetgroup": "김아중",
         "orientation": "v",
         "showlegend": true,
         "textposition": "auto",
         "type": "bar",
         "x": [
          "코미디"
         ],
         "xaxis": "x",
         "y": [
          3
         ],
         "yaxis": "y"
        },
        {
         "alignmentgroup": "True",
         "customdata": [
          [
           "120억",
           "612만"
          ]
         ],
         "hovertemplate": "배우=길해연<br>장르=%{x}<br>출연 횟수=%{y}<br>총 매출액=%{customdata[0]}<br>총 관객수=%{customdata[1]}<extra></extra>",
         "legendgroup": "길해연",
         "marker": {
          "color": "#00cc96",
          "pattern": {
           "shape": ""
          }
         },
         "name": "길해연",
         "offsetgroup": "길해연",
         "orientation": "v",
         "showlegend": true,
         "textposition": "auto",
         "type": "bar",
         "x": [
          "코미디"
         ],
         "xaxis": "x",
         "y": [
          3
         ],
         "yaxis": "y"
        },
        {
         "alignmentgroup": "True",
         "customdata": [
          [
           "103억",
           "886만"
          ]
         ],
         "hovertemplate": "배우=강성필<br>장르=%{x}<br>출연 횟수=%{y}<br>총 매출액=%{customdata[0]}<br>총 관객수=%{customdata[1]}<extra></extra>",
         "legendgroup": "강성필",
         "marker": {
          "color": "#ab63fa",
          "pattern": {
           "shape": ""
          }
         },
         "name": "강성필",
         "offsetgroup": "강성필",
         "orientation": "v",
         "showlegend": true,
         "textposition": "auto",
         "type": "bar",
         "x": [
          "코미디"
         ],
         "xaxis": "x",
         "y": [
          3
         ],
         "yaxis": "y"
        },
        {
         "alignmentgroup": "True",
         "customdata": [
          [
           "",
           "690만"
          ]
         ],
         "hovertemplate": "배우=김도연<br>장르=%{x}<br>출연 횟수=%{y}<br>총 매출액=%{customdata[0]}<br>총 관객수=%{customdata[1]}<extra></extra>",
         "legendgroup": "김도연",
         "marker": {
          "color": "#FFA15A",
          "pattern": {
           "shape": ""
          }
         },
         "name": "김도연",
         "offsetgroup": "김도연",
         "orientation": "v",
         "showlegend": true,
         "textposition": "auto",
         "type": "bar",
         "x": [
          "코미디"
         ],
         "xaxis": "x",
         "y": [
          3
         ],
         "yaxis": "y"
        },
        {
         "alignmentgroup": "True",
         "customdata": [
          [
           "",
           "613만"
          ]
         ],
         "hovertemplate": "배우=김인문<br>장르=%{x}<br>출연 횟수=%{y}<br>총 매출액=%{customdata[0]}<br>총 관객수=%{customdata[1]}<extra></extra>",
         "legendgroup": "김인문",
         "marker": {
          "color": "#19d3f3",
          "pattern": {
           "shape": ""
          }
         },
         "name": "김인문",
         "offsetgroup": "김인문",
         "orientation": "v",
         "showlegend": true,
         "textposition": "auto",
         "type": "bar",
         "x": [
          "코미디"
         ],
         "xaxis": "x",
         "y": [
          3
         ],
         "yaxis": "y"
        },
        {
         "alignmentgroup": "True",
         "customdata": [
          [
           "",
           "564만"
          ]
         ],
         "hovertemplate": "배우=김윤태<br>장르=%{x}<br>출연 횟수=%{y}<br>총 매출액=%{customdata[0]}<br>총 관객수=%{customdata[1]}<extra></extra>",
         "legendgroup": "김윤태",
         "marker": {
          "color": "#FF6692",
          "pattern": {
           "shape": ""
          }
         },
         "name": "김윤태",
         "offsetgroup": "김윤태",
         "orientation": "v",
         "showlegend": true,
         "textposition": "auto",
         "type": "bar",
         "x": [
          "코미디"
         ],
         "xaxis": "x",
         "y": [
          3
         ],
         "yaxis": "y"
        },
        {
         "alignmentgroup": "True",
         "customdata": [
          [
           "",
           "551만"
          ]
         ],
         "hovertemplate": "배우=이상윤<br>장르=%{x}<br>출연 횟수=%{y}<br>총 매출액=%{customdata[0]}<br>총 관객수=%{customdata[1]}<extra></extra>",
         "legendgroup": "이상윤",
         "marker": {
          "color": "#B6E880",
          "pattern": {
           "shape": ""
          }
         },
         "name": "이상윤",
         "offsetgroup": "이상윤",
         "orientation": "v",
         "showlegend": true,
         "textposition": "auto",
         "type": "bar",
         "x": [
          "코미디"
         ],
         "xaxis": "x",
         "y": [
          3
         ],
         "yaxis": "y"
        },
        {
         "alignmentgroup": "True",
         "customdata": [
          [
           "",
           "542만"
          ]
         ],
         "hovertemplate": "배우=박준규<br>장르=%{x}<br>출연 횟수=%{y}<br>총 매출액=%{customdata[0]}<br>총 관객수=%{customdata[1]}<extra></extra>",
         "legendgroup": "박준규",
         "marker": {
          "color": "#FF97FF",
          "pattern": {
           "shape": ""
          }
         },
         "name": "박준규",
         "offsetgroup": "박준규",
         "orientation": "v",
         "showlegend": true,
         "textposition": "auto",
         "type": "bar",
         "x": [
          "코미디"
         ],
         "xaxis": "x",
         "y": [
          3
         ],
         "yaxis": "y"
        },
        {
         "alignmentgroup": "True",
         "customdata": [
          [
           "",
           "508만"
          ]
         ],
         "hovertemplate": "배우=이성재<br>장르=%{x}<br>출연 횟수=%{y}<br>총 매출액=%{customdata[0]}<br>총 관객수=%{customdata[1]}<extra></extra>",
         "legendgroup": "이성재",
         "marker": {
          "color": "#FECB52",
          "pattern": {
           "shape": ""
          }
         },
         "name": "이성재",
         "offsetgroup": "이성재",
         "orientation": "v",
         "showlegend": true,
         "textposition": "auto",
         "type": "bar",
         "x": [
          "코미디"
         ],
         "xaxis": "x",
         "y": [
          3
         ],
         "yaxis": "y"
        },
        {
         "alignmentgroup": "True",
         "customdata": [
          [
           "",
           "475만"
          ]
         ],
         "hovertemplate": "배우=최무인<br>장르=%{x}<br>출연 횟수=%{y}<br>총 매출액=%{customdata[0]}<br>총 관객수=%{customdata[1]}<extra></extra>",
         "legendgroup": "최무인",
         "marker": {
          "color": "#636efa",
          "pattern": {
           "shape": ""
          }
         },
         "name": "최무인",
         "offsetgroup": "최무인",
         "orientation": "v",
         "showlegend": true,
         "textposition": "auto",
         "type": "bar",
         "x": [
          "코미디"
         ],
         "xaxis": "x",
         "y": [
          3
         ],
         "yaxis": "y"
        },
        {
         "alignmentgroup": "True",
         "customdata": [
          [
           "",
           "429만"
          ]
         ],
         "hovertemplate": "배우=박상면<br>장르=%{x}<br>출연 횟수=%{y}<br>총 매출액=%{customdata[0]}<br>총 관객수=%{customdata[1]}<extra></extra>",
         "legendgroup": "박상면",
         "marker": {
          "color": "#EF553B",
          "pattern": {
           "shape": ""
          }
         },
         "name": "박상면",
         "offsetgroup": "박상면",
         "orientation": "v",
         "showlegend": true,
         "textposition": "auto",
         "type": "bar",
         "x": [
          "코미디"
         ],
         "xaxis": "x",
         "y": [
          3
         ],
         "yaxis": "y"
        },
        {
         "alignmentgroup": "True",
         "customdata": [
          [
           "",
           "1012만"
          ]
         ],
         "hovertemplate": "배우=서동원<br>장르=%{x}<br>출연 횟수=%{y}<br>총 매출액=%{customdata[0]}<br>총 관객수=%{customdata[1]}<extra></extra>",
         "legendgroup": "서동원",
         "marker": {
          "color": "#00cc96",
          "pattern": {
           "shape": ""
          }
         },
         "name": "서동원",
         "offsetgroup": "서동원",
         "orientation": "v",
         "showlegend": true,
         "textposition": "auto",
         "type": "bar",
         "x": [
          "코미디"
         ],
         "xaxis": "x",
         "y": [
          3
         ],
         "yaxis": "y"
        }
       ],
       "layout": {
        "barmode": "relative",
        "legend": {
         "title": {
          "text": "배우"
         },
         "tracegroupgap": 0
        },
        "showlegend": false,
        "template": {
         "data": {
          "bar": [
           {
            "error_x": {
             "color": "#2a3f5f"
            },
            "error_y": {
             "color": "#2a3f5f"
            },
            "marker": {
             "line": {
              "color": "#E5ECF6",
              "width": 0.5
             },
             "pattern": {
              "fillmode": "overlay",
              "size": 10,
              "solidity": 0.2
             }
            },
            "type": "bar"
           }
          ],
          "barpolar": [
           {
            "marker": {
             "line": {
              "color": "#E5ECF6",
              "width": 0.5
             },
             "pattern": {
              "fillmode": "overlay",
              "size": 10,
              "solidity": 0.2
             }
            },
            "type": "barpolar"
           }
          ],
          "carpet": [
           {
            "aaxis": {
             "endlinecolor": "#2a3f5f",
             "gridcolor": "white",
             "linecolor": "white",
             "minorgridcolor": "white",
             "startlinecolor": "#2a3f5f"
            },
            "baxis": {
             "endlinecolor": "#2a3f5f",
             "gridcolor": "white",
             "linecolor": "white",
             "minorgridcolor": "white",
             "startlinecolor": "#2a3f5f"
            },
            "type": "carpet"
           }
          ],
          "choropleth": [
           {
            "colorbar": {
             "outlinewidth": 0,
             "ticks": ""
            },
            "type": "choropleth"
           }
          ],
          "contour": [
           {
            "colorbar": {
             "outlinewidth": 0,
             "ticks": ""
            },
            "colorscale": [
             [
              0,
              "#0d0887"
             ],
             [
              0.1111111111111111,
              "#46039f"
             ],
             [
              0.2222222222222222,
              "#7201a8"
             ],
             [
              0.3333333333333333,
              "#9c179e"
             ],
             [
              0.4444444444444444,
              "#bd3786"
             ],
             [
              0.5555555555555556,
              "#d8576b"
             ],
             [
              0.6666666666666666,
              "#ed7953"
             ],
             [
              0.7777777777777778,
              "#fb9f3a"
             ],
             [
              0.8888888888888888,
              "#fdca26"
             ],
             [
              1,
              "#f0f921"
             ]
            ],
            "type": "contour"
           }
          ],
          "contourcarpet": [
           {
            "colorbar": {
             "outlinewidth": 0,
             "ticks": ""
            },
            "type": "contourcarpet"
           }
          ],
          "heatmap": [
           {
            "colorbar": {
             "outlinewidth": 0,
             "ticks": ""
            },
            "colorscale": [
             [
              0,
              "#0d0887"
             ],
             [
              0.1111111111111111,
              "#46039f"
             ],
             [
              0.2222222222222222,
              "#7201a8"
             ],
             [
              0.3333333333333333,
              "#9c179e"
             ],
             [
              0.4444444444444444,
              "#bd3786"
             ],
             [
              0.5555555555555556,
              "#d8576b"
             ],
             [
              0.6666666666666666,
              "#ed7953"
             ],
             [
              0.7777777777777778,
              "#fb9f3a"
             ],
             [
              0.8888888888888888,
              "#fdca26"
             ],
             [
              1,
              "#f0f921"
             ]
            ],
            "type": "heatmap"
           }
          ],
          "heatmapgl": [
           {
            "colorbar": {
             "outlinewidth": 0,
             "ticks": ""
            },
            "colorscale": [
             [
              0,
              "#0d0887"
             ],
             [
              0.1111111111111111,
              "#46039f"
             ],
             [
              0.2222222222222222,
              "#7201a8"
             ],
             [
              0.3333333333333333,
              "#9c179e"
             ],
             [
              0.4444444444444444,
              "#bd3786"
             ],
             [
              0.5555555555555556,
              "#d8576b"
             ],
             [
              0.6666666666666666,
              "#ed7953"
             ],
             [
              0.7777777777777778,
              "#fb9f3a"
             ],
             [
              0.8888888888888888,
              "#fdca26"
             ],
             [
              1,
              "#f0f921"
             ]
            ],
            "type": "heatmapgl"
           }
          ],
          "histogram": [
           {
            "marker": {
             "pattern": {
              "fillmode": "overlay",
              "size": 10,
              "solidity": 0.2
             }
            },
            "type": "histogram"
           }
          ],
          "histogram2d": [
           {
            "colorbar": {
             "outlinewidth": 0,
             "ticks": ""
            },
            "colorscale": [
             [
              0,
              "#0d0887"
             ],
             [
              0.1111111111111111,
              "#46039f"
             ],
             [
              0.2222222222222222,
              "#7201a8"
             ],
             [
              0.3333333333333333,
              "#9c179e"
             ],
             [
              0.4444444444444444,
              "#bd3786"
             ],
             [
              0.5555555555555556,
              "#d8576b"
             ],
             [
              0.6666666666666666,
              "#ed7953"
             ],
             [
              0.7777777777777778,
              "#fb9f3a"
             ],
             [
              0.8888888888888888,
              "#fdca26"
             ],
             [
              1,
              "#f0f921"
             ]
            ],
            "type": "histogram2d"
           }
          ],
          "histogram2dcontour": [
           {
            "colorbar": {
             "outlinewidth": 0,
             "ticks": ""
            },
            "colorscale": [
             [
              0,
              "#0d0887"
             ],
             [
              0.1111111111111111,
              "#46039f"
             ],
             [
              0.2222222222222222,
              "#7201a8"
             ],
             [
              0.3333333333333333,
              "#9c179e"
             ],
             [
              0.4444444444444444,
              "#bd3786"
             ],
             [
              0.5555555555555556,
              "#d8576b"
             ],
             [
              0.6666666666666666,
              "#ed7953"
             ],
             [
              0.7777777777777778,
              "#fb9f3a"
             ],
             [
              0.8888888888888888,
              "#fdca26"
             ],
             [
              1,
              "#f0f921"
             ]
            ],
            "type": "histogram2dcontour"
           }
          ],
          "mesh3d": [
           {
            "colorbar": {
             "outlinewidth": 0,
             "ticks": ""
            },
            "type": "mesh3d"
           }
          ],
          "parcoords": [
           {
            "line": {
             "colorbar": {
              "outlinewidth": 0,
              "ticks": ""
             }
            },
            "type": "parcoords"
           }
          ],
          "pie": [
           {
            "automargin": true,
            "type": "pie"
           }
          ],
          "scatter": [
           {
            "fillpattern": {
             "fillmode": "overlay",
             "size": 10,
             "solidity": 0.2
            },
            "type": "scatter"
           }
          ],
          "scatter3d": [
           {
            "line": {
             "colorbar": {
              "outlinewidth": 0,
              "ticks": ""
             }
            },
            "marker": {
             "colorbar": {
              "outlinewidth": 0,
              "ticks": ""
             }
            },
            "type": "scatter3d"
           }
          ],
          "scattercarpet": [
           {
            "marker": {
             "colorbar": {
              "outlinewidth": 0,
              "ticks": ""
             }
            },
            "type": "scattercarpet"
           }
          ],
          "scattergeo": [
           {
            "marker": {
             "colorbar": {
              "outlinewidth": 0,
              "ticks": ""
             }
            },
            "type": "scattergeo"
           }
          ],
          "scattergl": [
           {
            "marker": {
             "colorbar": {
              "outlinewidth": 0,
              "ticks": ""
             }
            },
            "type": "scattergl"
           }
          ],
          "scattermapbox": [
           {
            "marker": {
             "colorbar": {
              "outlinewidth": 0,
              "ticks": ""
             }
            },
            "type": "scattermapbox"
           }
          ],
          "scatterpolar": [
           {
            "marker": {
             "colorbar": {
              "outlinewidth": 0,
              "ticks": ""
             }
            },
            "type": "scatterpolar"
           }
          ],
          "scatterpolargl": [
           {
            "marker": {
             "colorbar": {
              "outlinewidth": 0,
              "ticks": ""
             }
            },
            "type": "scatterpolargl"
           }
          ],
          "scatterternary": [
           {
            "marker": {
             "colorbar": {
              "outlinewidth": 0,
              "ticks": ""
             }
            },
            "type": "scatterternary"
           }
          ],
          "surface": [
           {
            "colorbar": {
             "outlinewidth": 0,
             "ticks": ""
            },
            "colorscale": [
             [
              0,
              "#0d0887"
             ],
             [
              0.1111111111111111,
              "#46039f"
             ],
             [
              0.2222222222222222,
              "#7201a8"
             ],
             [
              0.3333333333333333,
              "#9c179e"
             ],
             [
              0.4444444444444444,
              "#bd3786"
             ],
             [
              0.5555555555555556,
              "#d8576b"
             ],
             [
              0.6666666666666666,
              "#ed7953"
             ],
             [
              0.7777777777777778,
              "#fb9f3a"
             ],
             [
              0.8888888888888888,
              "#fdca26"
             ],
             [
              1,
              "#f0f921"
             ]
            ],
            "type": "surface"
           }
          ],
          "table": [
           {
            "cells": {
             "fill": {
              "color": "#EBF0F8"
             },
             "line": {
              "color": "white"
             }
            },
            "header": {
             "fill": {
              "color": "#C8D4E3"
             },
             "line": {
              "color": "white"
             }
            },
            "type": "table"
           }
          ]
         },
         "layout": {
          "annotationdefaults": {
           "arrowcolor": "#2a3f5f",
           "arrowhead": 0,
           "arrowwidth": 1
          },
          "autotypenumbers": "strict",
          "coloraxis": {
           "colorbar": {
            "outlinewidth": 0,
            "ticks": ""
           }
          },
          "colorscale": {
           "diverging": [
            [
             0,
             "#8e0152"
            ],
            [
             0.1,
             "#c51b7d"
            ],
            [
             0.2,
             "#de77ae"
            ],
            [
             0.3,
             "#f1b6da"
            ],
            [
             0.4,
             "#fde0ef"
            ],
            [
             0.5,
             "#f7f7f7"
            ],
            [
             0.6,
             "#e6f5d0"
            ],
            [
             0.7,
             "#b8e186"
            ],
            [
             0.8,
             "#7fbc41"
            ],
            [
             0.9,
             "#4d9221"
            ],
            [
             1,
             "#276419"
            ]
           ],
           "sequential": [
            [
             0,
             "#0d0887"
            ],
            [
             0.1111111111111111,
             "#46039f"
            ],
            [
             0.2222222222222222,
             "#7201a8"
            ],
            [
             0.3333333333333333,
             "#9c179e"
            ],
            [
             0.4444444444444444,
             "#bd3786"
            ],
            [
             0.5555555555555556,
             "#d8576b"
            ],
            [
             0.6666666666666666,
             "#ed7953"
            ],
            [
             0.7777777777777778,
             "#fb9f3a"
            ],
            [
             0.8888888888888888,
             "#fdca26"
            ],
            [
             1,
             "#f0f921"
            ]
           ],
           "sequentialminus": [
            [
             0,
             "#0d0887"
            ],
            [
             0.1111111111111111,
             "#46039f"
            ],
            [
             0.2222222222222222,
             "#7201a8"
            ],
            [
             0.3333333333333333,
             "#9c179e"
            ],
            [
             0.4444444444444444,
             "#bd3786"
            ],
            [
             0.5555555555555556,
             "#d8576b"
            ],
            [
             0.6666666666666666,
             "#ed7953"
            ],
            [
             0.7777777777777778,
             "#fb9f3a"
            ],
            [
             0.8888888888888888,
             "#fdca26"
            ],
            [
             1,
             "#f0f921"
            ]
           ]
          },
          "colorway": [
           "#636efa",
           "#EF553B",
           "#00cc96",
           "#ab63fa",
           "#FFA15A",
           "#19d3f3",
           "#FF6692",
           "#B6E880",
           "#FF97FF",
           "#FECB52"
          ],
          "font": {
           "color": "#2a3f5f"
          },
          "geo": {
           "bgcolor": "white",
           "lakecolor": "white",
           "landcolor": "#E5ECF6",
           "showlakes": true,
           "showland": true,
           "subunitcolor": "white"
          },
          "hoverlabel": {
           "align": "left"
          },
          "hovermode": "closest",
          "mapbox": {
           "style": "light"
          },
          "paper_bgcolor": "white",
          "plot_bgcolor": "#E5ECF6",
          "polar": {
           "angularaxis": {
            "gridcolor": "white",
            "linecolor": "white",
            "ticks": ""
           },
           "bgcolor": "#E5ECF6",
           "radialaxis": {
            "gridcolor": "white",
            "linecolor": "white",
            "ticks": ""
           }
          },
          "scene": {
           "xaxis": {
            "backgroundcolor": "#E5ECF6",
            "gridcolor": "white",
            "gridwidth": 2,
            "linecolor": "white",
            "showbackground": true,
            "ticks": "",
            "zerolinecolor": "white"
           },
           "yaxis": {
            "backgroundcolor": "#E5ECF6",
            "gridcolor": "white",
            "gridwidth": 2,
            "linecolor": "white",
            "showbackground": true,
            "ticks": "",
            "zerolinecolor": "white"
           },
           "zaxis": {
            "backgroundcolor": "#E5ECF6",
            "gridcolor": "white",
            "gridwidth": 2,
            "linecolor": "white",
            "showbackground": true,
            "ticks": "",
            "zerolinecolor": "white"
           }
          },
          "shapedefaults": {
           "line": {
            "color": "#2a3f5f"
           }
          },
          "ternary": {
           "aaxis": {
            "gridcolor": "white",
            "linecolor": "white",
            "ticks": ""
           },
           "baxis": {
            "gridcolor": "white",
            "linecolor": "white",
            "ticks": ""
           },
           "bgcolor": "#E5ECF6",
           "caxis": {
            "gridcolor": "white",
            "linecolor": "white",
            "ticks": ""
           }
          },
          "title": {
           "x": 0.05
          },
          "xaxis": {
           "automargin": true,
           "gridcolor": "white",
           "linecolor": "white",
           "ticks": "",
           "title": {
            "standoff": 15
           },
           "zerolinecolor": "white",
           "zerolinewidth": 2
          },
          "yaxis": {
           "automargin": true,
           "gridcolor": "white",
           "linecolor": "white",
           "ticks": "",
           "title": {
            "standoff": 15
           },
           "zerolinecolor": "white",
           "zerolinewidth": 2
          }
         }
        },
        "title": {
         "text": "장르별 배우 출연 횟수 (3회 이상 출연한 배우)"
        },
        "xaxis": {
         "anchor": "y",
         "categoryarray": [
          "판타지",
          "코미디",
          "전쟁",
          "어드벤처",
          "액션",
          "스릴러",
          "사극",
          "범죄",
          "미스터리",
          "멜로/로맨스",
          "드라마"
         ],
         "categoryorder": "total descending",
         "domain": [
          0,
          1
         ],
         "title": {
          "text": "장르"
         }
        },
        "yaxis": {
         "anchor": "x",
         "domain": [
          0,
          1
         ],
         "title": {
          "text": "출연 횟수"
         }
        }
       }
      }
     },
     "metadata": {},
     "output_type": "display_data"
    }
   ],
   "source": [
    "data = pd.read_csv('5.2_dataset_forviz_add_gener.csv')\n",
    "\n",
    "# 매출액과 관객수 데이터 형태 처리\n",
    "data['매출액'] = data['매출액'].str.replace(',', '').astype(float)\n",
    "data['관객수'] = data['관객수'].str.replace(',', '').astype(int)\n",
    "\n",
    "# 데이터 형태 확인 및 처리\n",
    "def safe_eval(x):\n",
    "    if isinstance(x, str):\n",
    "        try:\n",
    "            return eval(x)\n",
    "        except:\n",
    "            return []  # 오류 발생시 빈 리스트 반환\n",
    "    return x if isinstance(x, list) else []\n",
    "\n",
    "data['actor_main_name'] = data['actor_main_name'].apply(safe_eval)\n",
    "data['actor_sub_name'] = data['actor_sub_name'].apply(safe_eval)\n",
    "\n",
    "# 숫자를 한글식 표현으로 변환하는 함수\n",
    "def korean_style_number(num, is_revenue=False):\n",
    "    units = ['만', '억', '조', '경']\n",
    "    steps = [10000, 100000000, 1000000000000, 10000000000000000]\n",
    "    result = ''\n",
    "    for i, step in enumerate(steps[::-1]):\n",
    "        if num >= step:\n",
    "            result += str(int(num // step)) + units[::-1][i]\n",
    "            num %= step\n",
    "        if is_revenue and units[::-1][i] == '억':\n",
    "            break\n",
    "    return result\n",
    "\n",
    "# 장르명 정규화 함수\n",
    "def normalize_genre(genre):\n",
    "    genre = genre.strip()  # 공백 제거\n",
    "    genre = genre.replace(' ', '')  # 중간 공백 제거\n",
    "    genre = genre.lower()  # 소문자로 통일\n",
    "    return genre\n",
    "\n",
    "# 장르별로 배우 출연 횟수 및 매출, 관객수 집계\n",
    "genre_actor_stats = {}\n",
    "\n",
    "for index, row in data.iterrows():\n",
    "    genres = [normalize_genre(gen) for gen in row['only_gener'].split(',')]\n",
    "    actors = set(row['actor_main_name'] + row['actor_sub_name'])  # 주연과 조연 합치기\n",
    "    revenue = row['매출액']\n",
    "    audience = row['관객수']\n",
    "    \n",
    "    for genre in genres:\n",
    "        if genre not in genre_actor_stats:\n",
    "            genre_actor_stats[genre] = {}\n",
    "        \n",
    "        for actor in actors:\n",
    "            if actor not in genre_actor_stats[genre]:\n",
    "                genre_actor_stats[genre][actor] = {'Count': 0, 'Total Revenue': 0, 'Total Audience': 0}\n",
    "            genre_actor_stats[genre][actor]['Count'] += 1\n",
    "            genre_actor_stats[genre][actor]['Total Revenue'] += revenue\n",
    "            genre_actor_stats[genre][actor]['Total Audience'] += audience\n",
    "\n",
    "# 데이터 프레임으로 변환 및 한글식 숫자 변환\n",
    "rows = []\n",
    "for genre, actor_stats in genre_actor_stats.items():\n",
    "    for actor, stats in actor_stats.items():\n",
    "        if stats['Count'] >= 3:  # 3회 이상 출연한 배우만 포함\n",
    "            rows.append({\n",
    "                '장르': genre, \n",
    "                '배우': actor, \n",
    "                '출연 횟수': stats['Count'],\n",
    "                '총 매출액': korean_style_number(stats['Total Revenue'], is_revenue=True),\n",
    "                '총 관객수': korean_style_number(stats['Total Audience'])\n",
    "            })\n",
    "\n",
    "df_actor_stats = pd.DataFrame(rows)\n",
    "df_actor_stats.sort_values(by=['장르', '출연 횟수', '총 매출액', '총 관객수'], ascending=[True, False, False, False], inplace=True)\n",
    "\n",
    "# 시각화\n",
    "fig = px.bar(df_actor_stats, x='장르', y='출연 횟수', color='배우', title='장르별 배우 출연 횟수 (3회 이상 출연한 배우)',\n",
    "             hover_data=['총 매출액', '총 관객수'],\n",
    "             category_orders={\"장르\": sorted(df_actor_stats['장르'].unique(), reverse=True)})\n",
    "fig.update_layout(xaxis={'categoryorder':'total descending'}, showlegend=False)\n",
    "fig.show()"
   ]
  },
  {
   "cell_type": "markdown",
   "id": "ed567cd7",
   "metadata": {},
   "source": [
    "## 2000년대"
   ]
  },
  {
   "cell_type": "code",
   "execution_count": 2,
   "id": "6990360d",
   "metadata": {},
   "outputs": [
    {
     "data": {
      "application/vnd.plotly.v1+json": {
       "config": {
        "plotlyServerURL": "https://plot.ly"
       },
       "data": [
        {
         "alignmentgroup": "True",
         "customdata": [
          [
           "368억",
           "2060만"
          ],
          [
           "",
           "983만"
          ],
          [
           "446억",
           "1000만"
          ],
          [
           "446억",
           "1693만"
          ]
         ],
         "hovertemplate": "배우=주진모<br>장르=%{x}<br>출연 횟수=%{y}<br>총 매출액=%{customdata[0]}<br>총 관객수=%{customdata[1]}<extra></extra>",
         "legendgroup": "주진모",
         "marker": {
          "color": "#636efa",
          "pattern": {
           "shape": ""
          }
         },
         "name": "주진모",
         "offsetgroup": "주진모",
         "orientation": "v",
         "showlegend": true,
         "textposition": "auto",
         "type": "bar",
         "x": [
          "드라마",
          "멜로/로맨스",
          "액션",
          "코미디"
         ],
         "xaxis": "x",
         "y": [
          8,
          3,
          3,
          4
         ],
         "yaxis": "y"
        },
        {
         "alignmentgroup": "True",
         "customdata": [
          [
           "608억",
           "2129만"
          ],
          [
           "608억",
           "1411만"
          ],
          [
           "608억",
           "2107만"
          ]
         ],
         "hovertemplate": "배우=이한위<br>장르=%{x}<br>출연 횟수=%{y}<br>총 매출액=%{customdata[0]}<br>총 관객수=%{customdata[1]}<extra></extra>",
         "legendgroup": "이한위",
         "marker": {
          "color": "#EF553B",
          "pattern": {
           "shape": ""
          }
         },
         "name": "이한위",
         "offsetgroup": "이한위",
         "orientation": "v",
         "showlegend": true,
         "textposition": "auto",
         "type": "bar",
         "x": [
          "드라마",
          "액션",
          "코미디"
         ],
         "xaxis": "x",
         "y": [
          6,
          3,
          5
         ],
         "yaxis": "y"
        },
        {
         "alignmentgroup": "True",
         "customdata": [
          [
           "551억",
           "2241만"
          ],
          [
           "551억",
           "1353만"
          ],
          [
           "267억",
           "835만"
          ]
         ],
         "hovertemplate": "배우=강신일<br>장르=%{x}<br>출연 횟수=%{y}<br>총 매출액=%{customdata[0]}<br>총 관객수=%{customdata[1]}<extra></extra>",
         "legendgroup": "강신일",
         "marker": {
          "color": "#00cc96",
          "pattern": {
           "shape": ""
          }
         },
         "name": "강신일",
         "offsetgroup": "강신일",
         "orientation": "v",
         "showlegend": true,
         "textposition": "auto",
         "type": "bar",
         "x": [
          "드라마",
          "액션",
          "코미디"
         ],
         "xaxis": "x",
         "y": [
          6,
          4,
          3
         ],
         "yaxis": "y"
        },
        {
         "alignmentgroup": "True",
         "customdata": [
          [
           "364억",
           "3151만"
          ],
          [
           "446억",
           "1926만"
          ]
         ],
         "hovertemplate": "배우=유해진<br>장르=%{x}<br>출연 횟수=%{y}<br>총 매출액=%{customdata[0]}<br>총 관객수=%{customdata[1]}<extra></extra>",
         "legendgroup": "유해진",
         "marker": {
          "color": "#ab63fa",
          "pattern": {
           "shape": ""
          }
         },
         "name": "유해진",
         "offsetgroup": "유해진",
         "orientation": "v",
         "showlegend": true,
         "textposition": "auto",
         "type": "bar",
         "x": [
          "드라마",
          "코미디"
         ],
         "xaxis": "x",
         "y": [
          6,
          8
         ],
         "yaxis": "y"
        },
        {
         "alignmentgroup": "True",
         "customdata": [
          [
           "1104억",
           "2729만"
          ]
         ],
         "hovertemplate": "배우=설경구<br>장르=%{x}<br>출연 횟수=%{y}<br>총 매출액=%{customdata[0]}<br>총 관객수=%{customdata[1]}<extra></extra>",
         "legendgroup": "설경구",
         "marker": {
          "color": "#FFA15A",
          "pattern": {
           "shape": ""
          }
         },
         "name": "설경구",
         "offsetgroup": "설경구",
         "orientation": "v",
         "showlegend": true,
         "textposition": "auto",
         "type": "bar",
         "x": [
          "드라마"
         ],
         "xaxis": "x",
         "y": [
          6
         ],
         "yaxis": "y"
        },
        {
         "alignmentgroup": "True",
         "customdata": [
          [
           "870억",
           "1991만"
          ],
          [
           "608억",
           "1252만"
          ]
         ],
         "hovertemplate": "배우=김지영<br>장르=%{x}<br>출연 횟수=%{y}<br>총 매출액=%{customdata[0]}<br>총 관객수=%{customdata[1]}<extra></extra>",
         "legendgroup": "김지영",
         "marker": {
          "color": "#19d3f3",
          "pattern": {
           "shape": ""
          }
         },
         "name": "김지영",
         "offsetgroup": "김지영",
         "orientation": "v",
         "showlegend": true,
         "textposition": "auto",
         "type": "bar",
         "x": [
          "드라마",
          "코미디"
         ],
         "xaxis": "x",
         "y": [
          5,
          4
         ],
         "yaxis": "y"
        },
        {
         "alignmentgroup": "True",
         "customdata": [
          [
           "592억",
           "1281만"
          ],
          [
           "592억",
           "1107만"
          ]
         ],
         "hovertemplate": "배우=장영남<br>장르=%{x}<br>출연 횟수=%{y}<br>총 매출액=%{customdata[0]}<br>총 관객수=%{customdata[1]}<extra></extra>",
         "legendgroup": "장영남",
         "marker": {
          "color": "#FF6692",
          "pattern": {
           "shape": ""
          }
         },
         "name": "장영남",
         "offsetgroup": "장영남",
         "orientation": "v",
         "showlegend": true,
         "textposition": "auto",
         "type": "bar",
         "x": [
          "드라마",
          "코미디"
         ],
         "xaxis": "x",
         "y": [
          5,
          4
         ],
         "yaxis": "y"
        },
        {
         "alignmentgroup": "True",
         "customdata": [
          [
           "527억",
           "1997만"
          ],
          [
           "527억",
           "977만"
          ],
          [
           "243억",
           "2281만"
          ]
         ],
         "hovertemplate": "배우=정재영<br>장르=%{x}<br>출연 횟수=%{y}<br>총 매출액=%{customdata[0]}<br>총 관객수=%{customdata[1]}<extra></extra>",
         "legendgroup": "정재영",
         "marker": {
          "color": "#B6E880",
          "pattern": {
           "shape": ""
          }
         },
         "name": "정재영",
         "offsetgroup": "정재영",
         "orientation": "v",
         "showlegend": true,
         "textposition": "auto",
         "type": "bar",
         "x": [
          "드라마",
          "액션",
          "전쟁"
         ],
         "xaxis": "x",
         "y": [
          5,
          3,
          3
         ],
         "yaxis": "y"
        },
        {
         "alignmentgroup": "True",
         "customdata": [
          [
           "368억",
           "1601만"
          ]
         ],
         "hovertemplate": "배우=유승목<br>장르=%{x}<br>출연 횟수=%{y}<br>총 매출액=%{customdata[0]}<br>총 관객수=%{customdata[1]}<extra></extra>",
         "legendgroup": "유승목",
         "marker": {
          "color": "#FF97FF",
          "pattern": {
           "shape": ""
          }
         },
         "name": "유승목",
         "offsetgroup": "유승목",
         "orientation": "v",
         "showlegend": true,
         "textposition": "auto",
         "type": "bar",
         "x": [
          "드라마"
         ],
         "xaxis": "x",
         "y": [
          5
         ],
         "yaxis": "y"
        },
        {
         "alignmentgroup": "True",
         "customdata": [
          [
           "329억",
           "2090만"
          ]
         ],
         "hovertemplate": "배우=권태원<br>장르=%{x}<br>출연 횟수=%{y}<br>총 매출액=%{customdata[0]}<br>총 관객수=%{customdata[1]}<extra></extra>",
         "legendgroup": "권태원",
         "marker": {
          "color": "#FECB52",
          "pattern": {
           "shape": ""
          }
         },
         "name": "권태원",
         "offsetgroup": "권태원",
         "orientation": "v",
         "showlegend": true,
         "textposition": "auto",
         "type": "bar",
         "x": [
          "드라마"
         ],
         "xaxis": "x",
         "y": [
          5
         ],
         "yaxis": "y"
        },
        {
         "alignmentgroup": "True",
         "customdata": [
          [
           "320억",
           "941만"
          ]
         ],
         "hovertemplate": "배우=정경호<br>장르=%{x}<br>출연 횟수=%{y}<br>총 매출액=%{customdata[0]}<br>총 관객수=%{customdata[1]}<extra></extra>",
         "legendgroup": "정경호",
         "marker": {
          "color": "#636efa",
          "pattern": {
           "shape": ""
          }
         },
         "name": "정경호",
         "offsetgroup": "정경호",
         "orientation": "v",
         "showlegend": true,
         "textposition": "auto",
         "type": "bar",
         "x": [
          "드라마"
         ],
         "xaxis": "x",
         "y": [
          5
         ],
         "yaxis": "y"
        },
        {
         "alignmentgroup": "True",
         "customdata": [
          [
           "243억",
           "1884만"
          ],
          [
           "243억",
           "1085만"
          ]
         ],
         "hovertemplate": "배우=안성기<br>장르=%{x}<br>출연 횟수=%{y}<br>총 매출액=%{customdata[0]}<br>총 관객수=%{customdata[1]}<extra></extra>",
         "legendgroup": "안성기",
         "marker": {
          "color": "#EF553B",
          "pattern": {
           "shape": ""
          }
         },
         "name": "안성기",
         "offsetgroup": "안성기",
         "orientation": "v",
         "showlegend": true,
         "textposition": "auto",
         "type": "bar",
         "x": [
          "드라마",
          "액션"
         ],
         "xaxis": "x",
         "y": [
          5,
          4
         ],
         "yaxis": "y"
        },
        {
         "alignmentgroup": "True",
         "customdata": [
          [
           "150억",
           "2145만"
          ]
         ],
         "hovertemplate": "배우=송강호<br>장르=%{x}<br>출연 횟수=%{y}<br>총 매출액=%{customdata[0]}<br>총 관객수=%{customdata[1]}<extra></extra>",
         "legendgroup": "송강호",
         "marker": {
          "color": "#00cc96",
          "pattern": {
           "shape": ""
          }
         },
         "name": "송강호",
         "offsetgroup": "송강호",
         "orientation": "v",
         "showlegend": true,
         "textposition": "auto",
         "type": "bar",
         "x": [
          "드라마"
         ],
         "xaxis": "x",
         "y": [
          5
         ],
         "yaxis": "y"
        },
        {
         "alignmentgroup": "True",
         "customdata": [
          [
           "150억",
           "1771만"
          ]
         ],
         "hovertemplate": "배우=신하균<br>장르=%{x}<br>출연 횟수=%{y}<br>총 매출액=%{customdata[0]}<br>총 관객수=%{customdata[1]}<extra></extra>",
         "legendgroup": "신하균",
         "marker": {
          "color": "#ab63fa",
          "pattern": {
           "shape": ""
          }
         },
         "name": "신하균",
         "offsetgroup": "신하균",
         "orientation": "v",
         "showlegend": true,
         "textposition": "auto",
         "type": "bar",
         "x": [
          "드라마"
         ],
         "xaxis": "x",
         "y": [
          5
         ],
         "yaxis": "y"
        },
        {
         "alignmentgroup": "True",
         "customdata": [
          [
           "",
           "1509만"
          ],
          [
           "",
           "581만"
          ]
         ],
         "hovertemplate": "배우=손병호<br>장르=%{x}<br>출연 횟수=%{y}<br>총 매출액=%{customdata[0]}<br>총 관객수=%{customdata[1]}<extra></extra>",
         "legendgroup": "손병호",
         "marker": {
          "color": "#FFA15A",
          "pattern": {
           "shape": ""
          }
         },
         "name": "손병호",
         "offsetgroup": "손병호",
         "orientation": "v",
         "showlegend": true,
         "textposition": "auto",
         "type": "bar",
         "x": [
          "드라마",
          "코미디"
         ],
         "xaxis": "x",
         "y": [
          5,
          3
         ],
         "yaxis": "y"
        },
        {
         "alignmentgroup": "True",
         "customdata": [
          [
           "",
           "1399만"
          ]
         ],
         "hovertemplate": "배우=김상호<br>장르=%{x}<br>출연 횟수=%{y}<br>총 매출액=%{customdata[0]}<br>총 관객수=%{customdata[1]}<extra></extra>",
         "legendgroup": "김상호",
         "marker": {
          "color": "#19d3f3",
          "pattern": {
           "shape": ""
          }
         },
         "name": "김상호",
         "offsetgroup": "김상호",
         "orientation": "v",
         "showlegend": true,
         "textposition": "auto",
         "type": "bar",
         "x": [
          "드라마"
         ],
         "xaxis": "x",
         "y": [
          5
         ],
         "yaxis": "y"
        },
        {
         "alignmentgroup": "True",
         "customdata": [
          [
           "",
           "1029만"
          ]
         ],
         "hovertemplate": "배우=김정태<br>장르=%{x}<br>출연 횟수=%{y}<br>총 매출액=%{customdata[0]}<br>총 관객수=%{customdata[1]}<extra></extra>",
         "legendgroup": "김정태",
         "marker": {
          "color": "#FF6692",
          "pattern": {
           "shape": ""
          }
         },
         "name": "김정태",
         "offsetgroup": "김정태",
         "orientation": "v",
         "showlegend": true,
         "textposition": "auto",
         "type": "bar",
         "x": [
          "드라마"
         ],
         "xaxis": "x",
         "y": [
          5
         ],
         "yaxis": "y"
        },
        {
         "alignmentgroup": "True",
         "customdata": [
          [
           "976억",
           "1760만"
          ],
          [
           "157억",
           "460만"
          ],
          [
           "",
           "834만"
          ]
         ],
         "hovertemplate": "배우=하지원<br>장르=%{x}<br>출연 횟수=%{y}<br>총 매출액=%{customdata[0]}<br>총 관객수=%{customdata[1]}<extra></extra>",
         "legendgroup": "하지원",
         "marker": {
          "color": "#B6E880",
          "pattern": {
           "shape": ""
          }
         },
         "name": "하지원",
         "offsetgroup": "하지원",
         "orientation": "v",
         "showlegend": true,
         "textposition": "auto",
         "type": "bar",
         "x": [
          "드라마",
          "멜로/로맨스",
          "코미디"
         ],
         "xaxis": "x",
         "y": [
          4,
          3,
          3
         ],
         "yaxis": "y"
        },
        {
         "alignmentgroup": "True",
         "customdata": [
          [
           "819억",
           "1641만"
          ],
          [
           "925억",
           "1461만"
          ]
         ],
         "hovertemplate": "배우=지대한<br>장르=%{x}<br>출연 횟수=%{y}<br>총 매출액=%{customdata[0]}<br>총 관객수=%{customdata[1]}<extra></extra>",
         "legendgroup": "지대한",
         "marker": {
          "color": "#FF97FF",
          "pattern": {
           "shape": ""
          }
         },
         "name": "지대한",
         "offsetgroup": "지대한",
         "orientation": "v",
         "showlegend": true,
         "textposition": "auto",
         "type": "bar",
         "x": [
          "드라마",
          "액션"
         ],
         "xaxis": "x",
         "y": [
          4,
          3
         ],
         "yaxis": "y"
        },
        {
         "alignmentgroup": "True",
         "customdata": [
          [
           "305억",
           "770만"
          ]
         ],
         "hovertemplate": "배우=이주실<br>장르=%{x}<br>출연 횟수=%{y}<br>총 매출액=%{customdata[0]}<br>총 관객수=%{customdata[1]}<extra></extra>",
         "legendgroup": "이주실",
         "marker": {
          "color": "#FECB52",
          "pattern": {
           "shape": ""
          }
         },
         "name": "이주실",
         "offsetgroup": "이주실",
         "orientation": "v",
         "showlegend": true,
         "textposition": "auto",
         "type": "bar",
         "x": [
          "드라마"
         ],
         "xaxis": "x",
         "y": [
          4
         ],
         "yaxis": "y"
        },
        {
         "alignmentgroup": "True",
         "customdata": [
          [
           "266억",
           "1414만"
          ],
          [
           "187억",
           "613만"
          ]
         ],
         "hovertemplate": "배우=임하룡<br>장르=%{x}<br>출연 횟수=%{y}<br>총 매출액=%{customdata[0]}<br>총 관객수=%{customdata[1]}<extra></extra>",
         "legendgroup": "임하룡",
         "marker": {
          "color": "#636efa",
          "pattern": {
           "shape": ""
          }
         },
         "name": "임하룡",
         "offsetgroup": "임하룡",
         "orientation": "v",
         "showlegend": true,
         "textposition": "auto",
         "type": "bar",
         "x": [
          "드라마",
          "코미디"
         ],
         "xaxis": "x",
         "y": [
          4,
          3
         ],
         "yaxis": "y"
        },
        {
         "alignmentgroup": "True",
         "customdata": [
          [
           "261억",
           "1983만"
          ]
         ],
         "hovertemplate": "배우=정석용<br>장르=%{x}<br>출연 횟수=%{y}<br>총 매출액=%{customdata[0]}<br>총 관객수=%{customdata[1]}<extra></extra>",
         "legendgroup": "정석용",
         "marker": {
          "color": "#EF553B",
          "pattern": {
           "shape": ""
          }
         },
         "name": "정석용",
         "offsetgroup": "정석용",
         "orientation": "v",
         "showlegend": true,
         "textposition": "auto",
         "type": "bar",
         "x": [
          "드라마"
         ],
         "xaxis": "x",
         "y": [
          4
         ],
         "yaxis": "y"
        },
        {
         "alignmentgroup": "True",
         "customdata": [
          [
           "201억",
           "1922만"
          ],
          [
           "564억",
           "1053만"
          ]
         ],
         "hovertemplate": "배우=윤제문<br>장르=%{x}<br>출연 횟수=%{y}<br>총 매출액=%{customdata[0]}<br>총 관객수=%{customdata[1]}<extra></extra>",
         "legendgroup": "윤제문",
         "marker": {
          "color": "#00cc96",
          "pattern": {
           "shape": ""
          }
         },
         "name": "윤제문",
         "offsetgroup": "윤제문",
         "orientation": "v",
         "showlegend": true,
         "textposition": "auto",
         "type": "bar",
         "x": [
          "드라마",
          "액션"
         ],
         "xaxis": "x",
         "y": [
          4,
          3
         ],
         "yaxis": "y"
        },
        {
         "alignmentgroup": "True",
         "customdata": [
          [
           "187억",
           "899만"
          ],
          [
           "187억",
           "724만"
          ]
         ],
         "hovertemplate": "배우=이해영<br>장르=%{x}<br>출연 횟수=%{y}<br>총 매출액=%{customdata[0]}<br>총 관객수=%{customdata[1]}<extra></extra>",
         "legendgroup": "이해영",
         "marker": {
          "color": "#ab63fa",
          "pattern": {
           "shape": ""
          }
         },
         "name": "이해영",
         "offsetgroup": "이해영",
         "orientation": "v",
         "showlegend": true,
         "textposition": "auto",
         "type": "bar",
         "x": [
          "드라마",
          "코미디"
         ],
         "xaxis": "x",
         "y": [
          4,
          3
         ],
         "yaxis": "y"
        },
        {
         "alignmentgroup": "True",
         "customdata": [
          [
           "187억",
           "2110만"
          ]
         ],
         "hovertemplate": "배우=장동건<br>장르=%{x}<br>출연 횟수=%{y}<br>총 매출액=%{customdata[0]}<br>총 관객수=%{customdata[1]}<extra></extra>",
         "legendgroup": "장동건",
         "marker": {
          "color": "#FFA15A",
          "pattern": {
           "shape": ""
          }
         },
         "name": "장동건",
         "offsetgroup": "장동건",
         "orientation": "v",
         "showlegend": true,
         "textposition": "auto",
         "type": "bar",
         "x": [
          "드라마"
         ],
         "xaxis": "x",
         "y": [
          4
         ],
         "yaxis": "y"
        },
        {
         "alignmentgroup": "True",
         "customdata": [
          [
           "157억",
           "894만"
          ],
          [
           "157억",
           "926만"
          ]
         ],
         "hovertemplate": "배우=김광규<br>장르=%{x}<br>출연 횟수=%{y}<br>총 매출액=%{customdata[0]}<br>총 관객수=%{customdata[1]}<extra></extra>",
         "legendgroup": "김광규",
         "marker": {
          "color": "#19d3f3",
          "pattern": {
           "shape": ""
          }
         },
         "name": "김광규",
         "offsetgroup": "김광규",
         "orientation": "v",
         "showlegend": true,
         "textposition": "auto",
         "type": "bar",
         "x": [
          "드라마",
          "멜로/로맨스"
         ],
         "xaxis": "x",
         "y": [
          4,
          4
         ],
         "yaxis": "y"
        },
        {
         "alignmentgroup": "True",
         "customdata": [
          [
           "150억",
           "734만"
          ]
         ],
         "hovertemplate": "배우=김해숙<br>장르=%{x}<br>출연 횟수=%{y}<br>총 매출액=%{customdata[0]}<br>총 관객수=%{customdata[1]}<extra></extra>",
         "legendgroup": "김해숙",
         "marker": {
          "color": "#FF6692",
          "pattern": {
           "shape": ""
          }
         },
         "name": "김해숙",
         "offsetgroup": "김해숙",
         "orientation": "v",
         "showlegend": true,
         "textposition": "auto",
         "type": "bar",
         "x": [
          "드라마"
         ],
         "xaxis": "x",
         "y": [
          4
         ],
         "yaxis": "y"
        },
        {
         "alignmentgroup": "True",
         "customdata": [
          [
           "150억",
           "1895만"
          ],
          [
           "128억",
           "883만"
          ]
         ],
         "hovertemplate": "배우=오달수<br>장르=%{x}<br>출연 횟수=%{y}<br>총 매출액=%{customdata[0]}<br>총 관객수=%{customdata[1]}<extra></extra>",
         "legendgroup": "오달수",
         "marker": {
          "color": "#B6E880",
          "pattern": {
           "shape": ""
          }
         },
         "name": "오달수",
         "offsetgroup": "오달수",
         "orientation": "v",
         "showlegend": true,
         "textposition": "auto",
         "type": "bar",
         "x": [
          "드라마",
          "스릴러"
         ],
         "xaxis": "x",
         "y": [
          4,
          3
         ],
         "yaxis": "y"
        },
        {
         "alignmentgroup": "True",
         "customdata": [
          [
           "",
           "731만"
          ],
          [
           "",
           "867만"
          ],
          [
           "128억",
           "579만"
          ]
         ],
         "hovertemplate": "배우=황정민<br>장르=%{x}<br>출연 횟수=%{y}<br>총 매출액=%{customdata[0]}<br>총 관객수=%{customdata[1]}<extra></extra>",
         "legendgroup": "황정민",
         "marker": {
          "color": "#FF97FF",
          "pattern": {
           "shape": ""
          }
         },
         "name": "황정민",
         "offsetgroup": "황정민",
         "orientation": "v",
         "showlegend": true,
         "textposition": "auto",
         "type": "bar",
         "x": [
          "드라마",
          "멜로/로맨스",
          "미스터리"
         ],
         "xaxis": "x",
         "y": [
          4,
          4,
          3
         ],
         "yaxis": "y"
        },
        {
         "alignmentgroup": "True",
         "customdata": [
          [
           "",
           "729만"
          ]
         ],
         "hovertemplate": "배우=윤여정<br>장르=%{x}<br>출연 횟수=%{y}<br>총 매출액=%{customdata[0]}<br>총 관객수=%{customdata[1]}<extra></extra>",
         "legendgroup": "윤여정",
         "marker": {
          "color": "#FECB52",
          "pattern": {
           "shape": ""
          }
         },
         "name": "윤여정",
         "offsetgroup": "윤여정",
         "orientation": "v",
         "showlegend": true,
         "textposition": "auto",
         "type": "bar",
         "x": [
          "드라마"
         ],
         "xaxis": "x",
         "y": [
          4
         ],
         "yaxis": "y"
        },
        {
         "alignmentgroup": "True",
         "customdata": [
          [
           "819억",
           "1527만"
          ]
         ],
         "hovertemplate": "배우=강예원<br>장르=%{x}<br>출연 횟수=%{y}<br>총 매출액=%{customdata[0]}<br>총 관객수=%{customdata[1]}<extra></extra>",
         "legendgroup": "강예원",
         "marker": {
          "color": "#636efa",
          "pattern": {
           "shape": ""
          }
         },
         "name": "강예원",
         "offsetgroup": "강예원",
         "orientation": "v",
         "showlegend": true,
         "textposition": "auto",
         "type": "bar",
         "x": [
          "드라마"
         ],
         "xaxis": "x",
         "y": [
          3
         ],
         "yaxis": "y"
        },
        {
         "alignmentgroup": "True",
         "customdata": [
          [
           "79억",
           "384만"
          ],
          [
           "79억",
           "401만"
          ]
         ],
         "hovertemplate": "배우=김래원<br>장르=%{x}<br>출연 횟수=%{y}<br>총 매출액=%{customdata[0]}<br>총 관객수=%{customdata[1]}<extra></extra>",
         "legendgroup": "김래원",
         "marker": {
          "color": "#EF553B",
          "pattern": {
           "shape": ""
          }
         },
         "name": "김래원",
         "offsetgroup": "김래원",
         "orientation": "v",
         "showlegend": true,
         "textposition": "auto",
         "type": "bar",
         "x": [
          "드라마",
          "액션"
         ],
         "xaxis": "x",
         "y": [
          3,
          3
         ],
         "yaxis": "y"
        },
        {
         "alignmentgroup": "True",
         "customdata": [
          [
           "79억",
           "1025만"
          ]
         ],
         "hovertemplate": "배우=오정세<br>장르=%{x}<br>출연 횟수=%{y}<br>총 매출액=%{customdata[0]}<br>총 관객수=%{customdata[1]}<extra></extra>",
         "legendgroup": "오정세",
         "marker": {
          "color": "#00cc96",
          "pattern": {
           "shape": ""
          }
         },
         "name": "오정세",
         "offsetgroup": "오정세",
         "orientation": "v",
         "showlegend": true,
         "textposition": "auto",
         "type": "bar",
         "x": [
          "드라마"
         ],
         "xaxis": "x",
         "y": [
          3
         ],
         "yaxis": "y"
        },
        {
         "alignmentgroup": "True",
         "customdata": [
          [
           "608억",
           "2348만"
          ]
         ],
         "hovertemplate": "배우=이재응<br>장르=%{x}<br>출연 횟수=%{y}<br>총 매출액=%{customdata[0]}<br>총 관객수=%{customdata[1]}<extra></extra>",
         "legendgroup": "이재응",
         "marker": {
          "color": "#ab63fa",
          "pattern": {
           "shape": ""
          }
         },
         "name": "이재응",
         "offsetgroup": "이재응",
         "orientation": "v",
         "showlegend": true,
         "textposition": "auto",
         "type": "bar",
         "x": [
          "드라마"
         ],
         "xaxis": "x",
         "y": [
          3
         ],
         "yaxis": "y"
        },
        {
         "alignmentgroup": "True",
         "customdata": [
          [
           "451억",
           "866만"
          ]
         ],
         "hovertemplate": "배우=신정근<br>장르=%{x}<br>출연 횟수=%{y}<br>총 매출액=%{customdata[0]}<br>총 관객수=%{customdata[1]}<extra></extra>",
         "legendgroup": "신정근",
         "marker": {
          "color": "#FFA15A",
          "pattern": {
           "shape": ""
          }
         },
         "name": "신정근",
         "offsetgroup": "신정근",
         "orientation": "v",
         "showlegend": true,
         "textposition": "auto",
         "type": "bar",
         "x": [
          "드라마"
         ],
         "xaxis": "x",
         "y": [
          3
         ],
         "yaxis": "y"
        },
        {
         "alignmentgroup": "True",
         "customdata": [
          [
           "261억",
           "772만"
          ]
         ],
         "hovertemplate": "배우=조영진<br>장르=%{x}<br>출연 횟수=%{y}<br>총 매출액=%{customdata[0]}<br>총 관객수=%{customdata[1]}<extra></extra>",
         "legendgroup": "조영진",
         "marker": {
          "color": "#19d3f3",
          "pattern": {
           "shape": ""
          }
         },
         "name": "조영진",
         "offsetgroup": "조영진",
         "orientation": "v",
         "showlegend": true,
         "textposition": "auto",
         "type": "bar",
         "x": [
          "드라마"
         ],
         "xaxis": "x",
         "y": [
          3
         ],
         "yaxis": "y"
        },
        {
         "alignmentgroup": "True",
         "customdata": [
          [
           "208억",
           "1117만"
          ],
          [
           "994억",
           "1426만"
          ]
         ],
         "hovertemplate": "배우=김윤석<br>장르=%{x}<br>출연 횟수=%{y}<br>총 매출액=%{customdata[0]}<br>총 관객수=%{customdata[1]}<extra></extra>",
         "legendgroup": "김윤석",
         "marker": {
          "color": "#FF6692",
          "pattern": {
           "shape": ""
          }
         },
         "name": "김윤석",
         "offsetgroup": "김윤석",
         "orientation": "v",
         "showlegend": true,
         "textposition": "auto",
         "type": "bar",
         "x": [
          "드라마",
          "액션"
         ],
         "xaxis": "x",
         "y": [
          3,
          3
         ],
         "yaxis": "y"
        },
        {
         "alignmentgroup": "True",
         "customdata": [
          [
           "201억",
           "1723만"
          ]
         ],
         "hovertemplate": "배우=원빈<br>장르=%{x}<br>출연 횟수=%{y}<br>총 매출액=%{customdata[0]}<br>총 관객수=%{customdata[1]}<extra></extra>",
         "legendgroup": "원빈",
         "marker": {
          "color": "#B6E880",
          "pattern": {
           "shape": ""
          }
         },
         "name": "원빈",
         "offsetgroup": "원빈",
         "orientation": "v",
         "showlegend": true,
         "textposition": "auto",
         "type": "bar",
         "x": [
          "드라마"
         ],
         "xaxis": "x",
         "y": [
          3
         ],
         "yaxis": "y"
        },
        {
         "alignmentgroup": "True",
         "customdata": [
          [
           "187억",
           "651만"
          ],
          [
           "187억",
           "633만"
          ]
         ],
         "hovertemplate": "배우=이철민<br>장르=%{x}<br>출연 횟수=%{y}<br>총 매출액=%{customdata[0]}<br>총 관객수=%{customdata[1]}<extra></extra>",
         "legendgroup": "이철민",
         "marker": {
          "color": "#FF97FF",
          "pattern": {
           "shape": ""
          }
         },
         "name": "이철민",
         "offsetgroup": "이철민",
         "orientation": "v",
         "showlegend": true,
         "textposition": "auto",
         "type": "bar",
         "x": [
          "드라마",
          "코미디"
         ],
         "xaxis": "x",
         "y": [
          3,
          3
         ],
         "yaxis": "y"
        },
        {
         "alignmentgroup": "True",
         "customdata": [
          [
           "155억",
           "681만"
          ]
         ],
         "hovertemplate": "배우=권병길<br>장르=%{x}<br>출연 횟수=%{y}<br>총 매출액=%{customdata[0]}<br>총 관객수=%{customdata[1]}<extra></extra>",
         "legendgroup": "권병길",
         "marker": {
          "color": "#FECB52",
          "pattern": {
           "shape": ""
          }
         },
         "name": "권병길",
         "offsetgroup": "권병길",
         "orientation": "v",
         "showlegend": true,
         "textposition": "auto",
         "type": "bar",
         "x": [
          "드라마"
         ],
         "xaxis": "x",
         "y": [
          3
         ],
         "yaxis": "y"
        },
        {
         "alignmentgroup": "True",
         "customdata": [
          [
           "112억",
           "1527만"
          ],
          [
           "",
           "529만"
          ]
         ],
         "hovertemplate": "배우=정진영<br>장르=%{x}<br>출연 횟수=%{y}<br>총 매출액=%{customdata[0]}<br>총 관객수=%{customdata[1]}<extra></extra>",
         "legendgroup": "정진영",
         "marker": {
          "color": "#636efa",
          "pattern": {
           "shape": ""
          }
         },
         "name": "정진영",
         "offsetgroup": "정진영",
         "orientation": "v",
         "showlegend": true,
         "textposition": "auto",
         "type": "bar",
         "x": [
          "드라마",
          "코미디"
         ],
         "xaxis": "x",
         "y": [
          3,
          3
         ],
         "yaxis": "y"
        },
        {
         "alignmentgroup": "True",
         "customdata": [
          [
           "101억",
           "607만"
          ]
         ],
         "hovertemplate": "배우=조덕현<br>장르=%{x}<br>출연 횟수=%{y}<br>총 매출액=%{customdata[0]}<br>총 관객수=%{customdata[1]}<extra></extra>",
         "legendgroup": "조덕현",
         "marker": {
          "color": "#EF553B",
          "pattern": {
           "shape": ""
          }
         },
         "name": "조덕현",
         "offsetgroup": "조덕현",
         "orientation": "v",
         "showlegend": true,
         "textposition": "auto",
         "type": "bar",
         "x": [
          "드라마"
         ],
         "xaxis": "x",
         "y": [
          3
         ],
         "yaxis": "y"
        },
        {
         "alignmentgroup": "True",
         "customdata": [
          [
           "",
           "846만"
          ]
         ],
         "hovertemplate": "배우=강동원<br>장르=%{x}<br>출연 횟수=%{y}<br>총 매출액=%{customdata[0]}<br>총 관객수=%{customdata[1]}<extra></extra>",
         "legendgroup": "강동원",
         "marker": {
          "color": "#00cc96",
          "pattern": {
           "shape": ""
          }
         },
         "name": "강동원",
         "offsetgroup": "강동원",
         "orientation": "v",
         "showlegend": true,
         "textposition": "auto",
         "type": "bar",
         "x": [
          "드라마"
         ],
         "xaxis": "x",
         "y": [
          3
         ],
         "yaxis": "y"
        },
        {
         "alignmentgroup": "True",
         "customdata": [
          [
           "",
           "776만"
          ]
         ],
         "hovertemplate": "배우=문소리<br>장르=%{x}<br>출연 횟수=%{y}<br>총 매출액=%{customdata[0]}<br>총 관객수=%{customdata[1]}<extra></extra>",
         "legendgroup": "문소리",
         "marker": {
          "color": "#ab63fa",
          "pattern": {
           "shape": ""
          }
         },
         "name": "문소리",
         "offsetgroup": "문소리",
         "orientation": "v",
         "showlegend": true,
         "textposition": "auto",
         "type": "bar",
         "x": [
          "드라마"
         ],
         "xaxis": "x",
         "y": [
          3
         ],
         "yaxis": "y"
        },
        {
         "alignmentgroup": "True",
         "customdata": [
          [
           "",
           "737만"
          ]
         ],
         "hovertemplate": "배우=조인성<br>장르=%{x}<br>출연 횟수=%{y}<br>총 매출액=%{customdata[0]}<br>총 관객수=%{customdata[1]}<extra></extra>",
         "legendgroup": "조인성",
         "marker": {
          "color": "#FFA15A",
          "pattern": {
           "shape": ""
          }
         },
         "name": "조인성",
         "offsetgroup": "조인성",
         "orientation": "v",
         "showlegend": true,
         "textposition": "auto",
         "type": "bar",
         "x": [
          "드라마"
         ],
         "xaxis": "x",
         "y": [
          3
         ],
         "yaxis": "y"
        },
        {
         "alignmentgroup": "True",
         "customdata": [
          [
           "",
           "692만"
          ]
         ],
         "hovertemplate": "배우=기주봉<br>장르=%{x}<br>출연 횟수=%{y}<br>총 매출액=%{customdata[0]}<br>총 관객수=%{customdata[1]}<extra></extra>",
         "legendgroup": "기주봉",
         "marker": {
          "color": "#19d3f3",
          "pattern": {
           "shape": ""
          }
         },
         "name": "기주봉",
         "offsetgroup": "기주봉",
         "orientation": "v",
         "showlegend": true,
         "textposition": "auto",
         "type": "bar",
         "x": [
          "드라마"
         ],
         "xaxis": "x",
         "y": [
          3
         ],
         "yaxis": "y"
        },
        {
         "alignmentgroup": "True",
         "customdata": [
          [
           "",
           "654만"
          ]
         ],
         "hovertemplate": "배우=이승철<br>장르=%{x}<br>출연 횟수=%{y}<br>총 매출액=%{customdata[0]}<br>총 관객수=%{customdata[1]}<extra></extra>",
         "legendgroup": "이승철",
         "marker": {
          "color": "#FF6692",
          "pattern": {
           "shape": ""
          }
         },
         "name": "이승철",
         "offsetgroup": "이승철",
         "orientation": "v",
         "showlegend": true,
         "textposition": "auto",
         "type": "bar",
         "x": [
          "드라마"
         ],
         "xaxis": "x",
         "y": [
          3
         ],
         "yaxis": "y"
        },
        {
         "alignmentgroup": "True",
         "customdata": [
          [
           "",
           "644만"
          ]
         ],
         "hovertemplate": "배우=이대연<br>장르=%{x}<br>출연 횟수=%{y}<br>총 매출액=%{customdata[0]}<br>총 관객수=%{customdata[1]}<extra></extra>",
         "legendgroup": "이대연",
         "marker": {
          "color": "#B6E880",
          "pattern": {
           "shape": ""
          }
         },
         "name": "이대연",
         "offsetgroup": "이대연",
         "orientation": "v",
         "showlegend": true,
         "textposition": "auto",
         "type": "bar",
         "x": [
          "드라마"
         ],
         "xaxis": "x",
         "y": [
          3
         ],
         "yaxis": "y"
        },
        {
         "alignmentgroup": "True",
         "customdata": [
          [
           "",
           "590만"
          ]
         ],
         "hovertemplate": "배우=윤주상<br>장르=%{x}<br>출연 횟수=%{y}<br>총 매출액=%{customdata[0]}<br>총 관객수=%{customdata[1]}<extra></extra>",
         "legendgroup": "윤주상",
         "marker": {
          "color": "#FF97FF",
          "pattern": {
           "shape": ""
          }
         },
         "name": "윤주상",
         "offsetgroup": "윤주상",
         "orientation": "v",
         "showlegend": true,
         "textposition": "auto",
         "type": "bar",
         "x": [
          "드라마"
         ],
         "xaxis": "x",
         "y": [
          3
         ],
         "yaxis": "y"
        },
        {
         "alignmentgroup": "True",
         "customdata": [
          [
           "",
           "1865만"
          ],
          [
           "",
           "690만"
          ]
         ],
         "hovertemplate": "배우=변희봉<br>장르=%{x}<br>출연 횟수=%{y}<br>총 매출액=%{customdata[0]}<br>총 관객수=%{customdata[1]}<extra></extra>",
         "legendgroup": "변희봉",
         "marker": {
          "color": "#FECB52",
          "pattern": {
           "shape": ""
          }
         },
         "name": "변희봉",
         "offsetgroup": "변희봉",
         "orientation": "v",
         "showlegend": true,
         "textposition": "auto",
         "type": "bar",
         "x": [
          "드라마",
          "코미디"
         ],
         "xaxis": "x",
         "y": [
          3,
          4
         ],
         "yaxis": "y"
        },
        {
         "alignmentgroup": "True",
         "customdata": [
          [
           "",
           "1589만"
          ]
         ],
         "hovertemplate": "배우=박해일<br>장르=%{x}<br>출연 횟수=%{y}<br>총 매출액=%{customdata[0]}<br>총 관객수=%{customdata[1]}<extra></extra>",
         "legendgroup": "박해일",
         "marker": {
          "color": "#636efa",
          "pattern": {
           "shape": ""
          }
         },
         "name": "박해일",
         "offsetgroup": "박해일",
         "orientation": "v",
         "showlegend": true,
         "textposition": "auto",
         "type": "bar",
         "x": [
          "드라마"
         ],
         "xaxis": "x",
         "y": [
          3
         ],
         "yaxis": "y"
        },
        {
         "alignmentgroup": "True",
         "customdata": [
          [
           "",
           "1354만"
          ]
         ],
         "hovertemplate": "배우=조승우<br>장르=%{x}<br>출연 횟수=%{y}<br>총 매출액=%{customdata[0]}<br>총 관객수=%{customdata[1]}<extra></extra>",
         "legendgroup": "조승우",
         "marker": {
          "color": "#EF553B",
          "pattern": {
           "shape": ""
          }
         },
         "name": "조승우",
         "offsetgroup": "조승우",
         "orientation": "v",
         "showlegend": true,
         "textposition": "auto",
         "type": "bar",
         "x": [
          "드라마"
         ],
         "xaxis": "x",
         "y": [
          3
         ],
         "yaxis": "y"
        },
        {
         "alignmentgroup": "True",
         "customdata": [
          [
           "",
           "1115만"
          ]
         ],
         "hovertemplate": "배우=강혜정<br>장르=%{x}<br>출연 횟수=%{y}<br>총 매출액=%{customdata[0]}<br>총 관객수=%{customdata[1]}<extra></extra>",
         "legendgroup": "강혜정",
         "marker": {
          "color": "#00cc96",
          "pattern": {
           "shape": ""
          }
         },
         "name": "강혜정",
         "offsetgroup": "강혜정",
         "orientation": "v",
         "showlegend": true,
         "textposition": "auto",
         "type": "bar",
         "x": [
          "드라마"
         ],
         "xaxis": "x",
         "y": [
          3
         ],
         "yaxis": "y"
        },
        {
         "alignmentgroup": "True",
         "customdata": [
          [
           "",
           "1030만"
          ],
          [
           "101억",
           "703만"
          ]
         ],
         "hovertemplate": "배우=김응수<br>장르=%{x}<br>출연 횟수=%{y}<br>총 매출액=%{customdata[0]}<br>총 관객수=%{customdata[1]}<extra></extra>",
         "legendgroup": "김응수",
         "marker": {
          "color": "#ab63fa",
          "pattern": {
           "shape": ""
          }
         },
         "name": "김응수",
         "offsetgroup": "김응수",
         "orientation": "v",
         "showlegend": true,
         "textposition": "auto",
         "type": "bar",
         "x": [
          "드라마",
          "코미디"
         ],
         "xaxis": "x",
         "y": [
          3,
          4
         ],
         "yaxis": "y"
        },
        {
         "alignmentgroup": "True",
         "customdata": [
          [
           "",
           "688만"
          ]
         ],
         "hovertemplate": "배우=김부선<br>장르=%{x}<br>출연 횟수=%{y}<br>총 매출액=%{customdata[0]}<br>총 관객수=%{customdata[1]}<extra></extra>",
         "legendgroup": "김부선",
         "marker": {
          "color": "#FFA15A",
          "pattern": {
           "shape": ""
          }
         },
         "name": "김부선",
         "offsetgroup": "김부선",
         "orientation": "v",
         "showlegend": true,
         "textposition": "auto",
         "type": "bar",
         "x": [
          "멜로/로맨스"
         ],
         "xaxis": "x",
         "y": [
          3
         ],
         "yaxis": "y"
        },
        {
         "alignmentgroup": "True",
         "customdata": [
          [
           "",
           "642만"
          ]
         ],
         "hovertemplate": "배우=권상우<br>장르=%{x}<br>출연 횟수=%{y}<br>총 매출액=%{customdata[0]}<br>총 관객수=%{customdata[1]}<extra></extra>",
         "legendgroup": "권상우",
         "marker": {
          "color": "#19d3f3",
          "pattern": {
           "shape": ""
          }
         },
         "name": "권상우",
         "offsetgroup": "권상우",
         "orientation": "v",
         "showlegend": true,
         "textposition": "auto",
         "type": "bar",
         "x": [
          "멜로/로맨스"
         ],
         "xaxis": "x",
         "y": [
          3
         ],
         "yaxis": "y"
        },
        {
         "alignmentgroup": "True",
         "customdata": [
          [
           "184억",
           "436만"
          ],
          [
           "184억",
           "555만"
          ]
         ],
         "hovertemplate": "배우=김병옥<br>장르=%{x}<br>출연 횟수=%{y}<br>총 매출액=%{customdata[0]}<br>총 관객수=%{customdata[1]}<extra></extra>",
         "legendgroup": "김병옥",
         "marker": {
          "color": "#FF6692",
          "pattern": {
           "shape": ""
          }
         },
         "name": "김병옥",
         "offsetgroup": "김병옥",
         "orientation": "v",
         "showlegend": true,
         "textposition": "auto",
         "type": "bar",
         "x": [
          "범죄",
          "액션"
         ],
         "xaxis": "x",
         "y": [
          3,
          4
         ],
         "yaxis": "y"
        },
        {
         "alignmentgroup": "True",
         "customdata": [
          [
           "339억",
           "977만"
          ]
         ],
         "hovertemplate": "배우=김유정<br>장르=%{x}<br>출연 횟수=%{y}<br>총 매출액=%{customdata[0]}<br>총 관객수=%{customdata[1]}<extra></extra>",
         "legendgroup": "김유정",
         "marker": {
          "color": "#B6E880",
          "pattern": {
           "shape": ""
          }
         },
         "name": "김유정",
         "offsetgroup": "김유정",
         "orientation": "v",
         "showlegend": true,
         "textposition": "auto",
         "type": "bar",
         "x": [
          "스릴러"
         ],
         "xaxis": "x",
         "y": [
          3
         ],
         "yaxis": "y"
        },
        {
         "alignmentgroup": "True",
         "customdata": [
          [
           "339억",
           "791만"
          ]
         ],
         "hovertemplate": "배우=정인기<br>장르=%{x}<br>출연 횟수=%{y}<br>총 매출액=%{customdata[0]}<br>총 관객수=%{customdata[1]}<extra></extra>",
         "legendgroup": "정인기",
         "marker": {
          "color": "#FF97FF",
          "pattern": {
           "shape": ""
          }
         },
         "name": "정인기",
         "offsetgroup": "정인기",
         "orientation": "v",
         "showlegend": true,
         "textposition": "auto",
         "type": "bar",
         "x": [
          "스릴러"
         ],
         "xaxis": "x",
         "y": [
          3
         ],
         "yaxis": "y"
        },
        {
         "alignmentgroup": "True",
         "customdata": [
          [
           "678억",
           "1074만"
          ]
         ],
         "hovertemplate": "배우=김기천<br>장르=%{x}<br>출연 횟수=%{y}<br>총 매출액=%{customdata[0]}<br>총 관객수=%{customdata[1]}<extra></extra>",
         "legendgroup": "김기천",
         "marker": {
          "color": "#FECB52",
          "pattern": {
           "shape": ""
          }
         },
         "name": "김기천",
         "offsetgroup": "김기천",
         "orientation": "v",
         "showlegend": true,
         "textposition": "auto",
         "type": "bar",
         "x": [
          "액션"
         ],
         "xaxis": "x",
         "y": [
          4
         ],
         "yaxis": "y"
        },
        {
         "alignmentgroup": "True",
         "customdata": [
          [
           "134억",
           "1038만"
          ]
         ],
         "hovertemplate": "배우=김혜정<br>장르=%{x}<br>출연 횟수=%{y}<br>총 매출액=%{customdata[0]}<br>총 관객수=%{customdata[1]}<extra></extra>",
         "legendgroup": "김혜정",
         "marker": {
          "color": "#636efa",
          "pattern": {
           "shape": ""
          }
         },
         "name": "김혜정",
         "offsetgroup": "김혜정",
         "orientation": "v",
         "showlegend": true,
         "textposition": "auto",
         "type": "bar",
         "x": [
          "액션"
         ],
         "xaxis": "x",
         "y": [
          4
         ],
         "yaxis": "y"
        },
        {
         "alignmentgroup": "True",
         "customdata": [
          [
           "1017억",
           "1608만"
          ]
         ],
         "hovertemplate": "배우=송영창<br>장르=%{x}<br>출연 횟수=%{y}<br>총 매출액=%{customdata[0]}<br>총 관객수=%{customdata[1]}<extra></extra>",
         "legendgroup": "송영창",
         "marker": {
          "color": "#EF553B",
          "pattern": {
           "shape": ""
          }
         },
         "name": "송영창",
         "offsetgroup": "송영창",
         "orientation": "v",
         "showlegend": true,
         "textposition": "auto",
         "type": "bar",
         "x": [
          "액션"
         ],
         "xaxis": "x",
         "y": [
          4
         ],
         "yaxis": "y"
        },
        {
         "alignmentgroup": "True",
         "customdata": [
          [
           "948억",
           "1547만"
          ]
         ],
         "hovertemplate": "배우=하정우<br>장르=%{x}<br>출연 횟수=%{y}<br>총 매출액=%{customdata[0]}<br>총 관객수=%{customdata[1]}<extra></extra>",
         "legendgroup": "하정우",
         "marker": {
          "color": "#00cc96",
          "pattern": {
           "shape": ""
          }
         },
         "name": "하정우",
         "offsetgroup": "하정우",
         "orientation": "v",
         "showlegend": true,
         "textposition": "auto",
         "type": "bar",
         "x": [
          "액션"
         ],
         "xaxis": "x",
         "y": [
          3
         ],
         "yaxis": "y"
        },
        {
         "alignmentgroup": "True",
         "customdata": [
          [
           "",
           "642만"
          ]
         ],
         "hovertemplate": "배우=이종혁<br>장르=%{x}<br>출연 횟수=%{y}<br>총 매출액=%{customdata[0]}<br>총 관객수=%{customdata[1]}<extra></extra>",
         "legendgroup": "이종혁",
         "marker": {
          "color": "#ab63fa",
          "pattern": {
           "shape": ""
          }
         },
         "name": "이종혁",
         "offsetgroup": "이종혁",
         "orientation": "v",
         "showlegend": true,
         "textposition": "auto",
         "type": "bar",
         "x": [
          "액션"
         ],
         "xaxis": "x",
         "y": [
          3
         ],
         "yaxis": "y"
        },
        {
         "alignmentgroup": "True",
         "customdata": [
          [
           "",
           "559만"
          ]
         ],
         "hovertemplate": "배우=정두홍<br>장르=%{x}<br>출연 횟수=%{y}<br>총 매출액=%{customdata[0]}<br>총 관객수=%{customdata[1]}<extra></extra>",
         "legendgroup": "정두홍",
         "marker": {
          "color": "#FFA15A",
          "pattern": {
           "shape": ""
          }
         },
         "name": "정두홍",
         "offsetgroup": "정두홍",
         "orientation": "v",
         "showlegend": true,
         "textposition": "auto",
         "type": "bar",
         "x": [
          "액션"
         ],
         "xaxis": "x",
         "y": [
          3
         ],
         "yaxis": "y"
        },
        {
         "alignmentgroup": "True",
         "customdata": [
          [
           "",
           "480만"
          ],
          [
           "",
           "1153만"
          ]
         ],
         "hovertemplate": "배우=이범수<br>장르=%{x}<br>출연 횟수=%{y}<br>총 매출액=%{customdata[0]}<br>총 관객수=%{customdata[1]}<extra></extra>",
         "legendgroup": "이범수",
         "marker": {
          "color": "#19d3f3",
          "pattern": {
           "shape": ""
          }
         },
         "name": "이범수",
         "offsetgroup": "이범수",
         "orientation": "v",
         "showlegend": true,
         "textposition": "auto",
         "type": "bar",
         "x": [
          "액션",
          "코미디"
         ],
         "xaxis": "x",
         "y": [
          3,
          5
         ],
         "yaxis": "y"
        },
        {
         "alignmentgroup": "True",
         "customdata": [
          [
           "",
           "444만"
          ],
          [
           "",
           "1047만"
          ]
         ],
         "hovertemplate": "배우=정준호<br>장르=%{x}<br>출연 횟수=%{y}<br>총 매출액=%{customdata[0]}<br>총 관객수=%{customdata[1]}<extra></extra>",
         "legendgroup": "정준호",
         "marker": {
          "color": "#FF6692",
          "pattern": {
           "shape": ""
          }
         },
         "name": "정준호",
         "offsetgroup": "정준호",
         "orientation": "v",
         "showlegend": true,
         "textposition": "auto",
         "type": "bar",
         "x": [
          "액션",
          "코미디"
         ],
         "xaxis": "x",
         "y": [
          3,
          4
         ],
         "yaxis": "y"
        },
        {
         "alignmentgroup": "True",
         "customdata": [
          [
           "",
           "1121만"
          ]
         ],
         "hovertemplate": "배우=성동일<br>장르=%{x}<br>출연 횟수=%{y}<br>총 매출액=%{customdata[0]}<br>총 관객수=%{customdata[1]}<extra></extra>",
         "legendgroup": "성동일",
         "marker": {
          "color": "#B6E880",
          "pattern": {
           "shape": ""
          }
         },
         "name": "성동일",
         "offsetgroup": "성동일",
         "orientation": "v",
         "showlegend": true,
         "textposition": "auto",
         "type": "bar",
         "x": [
          "액션"
         ],
         "xaxis": "x",
         "y": [
          3
         ],
         "yaxis": "y"
        },
        {
         "alignmentgroup": "True",
         "customdata": [
          [
           "",
           "2216만"
          ]
         ],
         "hovertemplate": "배우=김수미<br>장르=%{x}<br>출연 횟수=%{y}<br>총 매출액=%{customdata[0]}<br>총 관객수=%{customdata[1]}<extra></extra>",
         "legendgroup": "김수미",
         "marker": {
          "color": "#FF97FF",
          "pattern": {
           "shape": ""
          }
         },
         "name": "김수미",
         "offsetgroup": "김수미",
         "orientation": "v",
         "showlegend": true,
         "textposition": "auto",
         "type": "bar",
         "x": [
          "코미디"
         ],
         "xaxis": "x",
         "y": [
          9
         ],
         "yaxis": "y"
        },
        {
         "alignmentgroup": "True",
         "customdata": [
          [
           "101억",
           "1698만"
          ]
         ],
         "hovertemplate": "배우=임창정<br>장르=%{x}<br>출연 횟수=%{y}<br>총 매출액=%{customdata[0]}<br>총 관객수=%{customdata[1]}<extra></extra>",
         "legendgroup": "임창정",
         "marker": {
          "color": "#FECB52",
          "pattern": {
           "shape": ""
          }
         },
         "name": "임창정",
         "offsetgroup": "임창정",
         "orientation": "v",
         "showlegend": true,
         "textposition": "auto",
         "type": "bar",
         "x": [
          "코미디"
         ],
         "xaxis": "x",
         "y": [
          8
         ],
         "yaxis": "y"
        },
        {
         "alignmentgroup": "True",
         "customdata": [
          [
           "5억",
           "1274만"
          ]
         ],
         "hovertemplate": "배우=신이<br>장르=%{x}<br>출연 횟수=%{y}<br>총 매출액=%{customdata[0]}<br>총 관객수=%{customdata[1]}<extra></extra>",
         "legendgroup": "신이",
         "marker": {
          "color": "#636efa",
          "pattern": {
           "shape": ""
          }
         },
         "name": "신이",
         "offsetgroup": "신이",
         "orientation": "v",
         "showlegend": true,
         "textposition": "auto",
         "type": "bar",
         "x": [
          "코미디"
         ],
         "xaxis": "x",
         "y": [
          6
         ],
         "yaxis": "y"
        },
        {
         "alignmentgroup": "True",
         "customdata": [
          [
           "",
           "1381만"
          ]
         ],
         "hovertemplate": "배우=차승원<br>장르=%{x}<br>출연 횟수=%{y}<br>총 매출액=%{customdata[0]}<br>총 관객수=%{customdata[1]}<extra></extra>",
         "legendgroup": "차승원",
         "marker": {
          "color": "#EF553B",
          "pattern": {
           "shape": ""
          }
         },
         "name": "차승원",
         "offsetgroup": "차승원",
         "orientation": "v",
         "showlegend": true,
         "textposition": "auto",
         "type": "bar",
         "x": [
          "코미디"
         ],
         "xaxis": "x",
         "y": [
          6
         ],
         "yaxis": "y"
        },
        {
         "alignmentgroup": "True",
         "customdata": [
          [
           "",
           "1078만"
          ]
         ],
         "hovertemplate": "배우=성지루<br>장르=%{x}<br>출연 횟수=%{y}<br>총 매출액=%{customdata[0]}<br>총 관객수=%{customdata[1]}<extra></extra>",
         "legendgroup": "성지루",
         "marker": {
          "color": "#00cc96",
          "pattern": {
           "shape": ""
          }
         },
         "name": "성지루",
         "offsetgroup": "성지루",
         "orientation": "v",
         "showlegend": true,
         "textposition": "auto",
         "type": "bar",
         "x": [
          "코미디"
         ],
         "xaxis": "x",
         "y": [
          6
         ],
         "yaxis": "y"
        },
        {
         "alignmentgroup": "True",
         "customdata": [
          [
           "",
           "983만"
          ]
         ],
         "hovertemplate": "배우=이문식<br>장르=%{x}<br>출연 횟수=%{y}<br>총 매출액=%{customdata[0]}<br>총 관객수=%{customdata[1]}<extra></extra>",
         "legendgroup": "이문식",
         "marker": {
          "color": "#ab63fa",
          "pattern": {
           "shape": ""
          }
         },
         "name": "이문식",
         "offsetgroup": "이문식",
         "orientation": "v",
         "showlegend": true,
         "textposition": "auto",
         "type": "bar",
         "x": [
          "코미디"
         ],
         "xaxis": "x",
         "y": [
          5
         ],
         "yaxis": "y"
        },
        {
         "alignmentgroup": "True",
         "customdata": [
          [
           "539억",
           "1393만"
          ]
         ],
         "hovertemplate": "배우=차태현<br>장르=%{x}<br>출연 횟수=%{y}<br>총 매출액=%{customdata[0]}<br>총 관객수=%{customdata[1]}<extra></extra>",
         "legendgroup": "차태현",
         "marker": {
          "color": "#FFA15A",
          "pattern": {
           "shape": ""
          }
         },
         "name": "차태현",
         "offsetgroup": "차태현",
         "orientation": "v",
         "showlegend": true,
         "textposition": "auto",
         "type": "bar",
         "x": [
          "코미디"
         ],
         "xaxis": "x",
         "y": [
          4
         ],
         "yaxis": "y"
        },
        {
         "alignmentgroup": "True",
         "customdata": [
          [
           "",
           "846만"
          ]
         ],
         "hovertemplate": "배우=김선아<br>장르=%{x}<br>출연 횟수=%{y}<br>총 매출액=%{customdata[0]}<br>총 관객수=%{customdata[1]}<extra></extra>",
         "legendgroup": "김선아",
         "marker": {
          "color": "#19d3f3",
          "pattern": {
           "shape": ""
          }
         },
         "name": "김선아",
         "offsetgroup": "김선아",
         "orientation": "v",
         "showlegend": true,
         "textposition": "auto",
         "type": "bar",
         "x": [
          "코미디"
         ],
         "xaxis": "x",
         "y": [
          4
         ],
         "yaxis": "y"
        },
        {
         "alignmentgroup": "True",
         "customdata": [
          [
           "",
           "728만"
          ]
         ],
         "hovertemplate": "배우=이원종<br>장르=%{x}<br>출연 횟수=%{y}<br>총 매출액=%{customdata[0]}<br>총 관객수=%{customdata[1]}<extra></extra>",
         "legendgroup": "이원종",
         "marker": {
          "color": "#FF6692",
          "pattern": {
           "shape": ""
          }
         },
         "name": "이원종",
         "offsetgroup": "이원종",
         "orientation": "v",
         "showlegend": true,
         "textposition": "auto",
         "type": "bar",
         "x": [
          "코미디"
         ],
         "xaxis": "x",
         "y": [
          4
         ],
         "yaxis": "y"
        },
        {
         "alignmentgroup": "True",
         "customdata": [
          [
           "",
           "620만"
          ]
         ],
         "hovertemplate": "배우=김수로<br>장르=%{x}<br>출연 횟수=%{y}<br>총 매출액=%{customdata[0]}<br>총 관객수=%{customdata[1]}<extra></extra>",
         "legendgroup": "김수로",
         "marker": {
          "color": "#B6E880",
          "pattern": {
           "shape": ""
          }
         },
         "name": "김수로",
         "offsetgroup": "김수로",
         "orientation": "v",
         "showlegend": true,
         "textposition": "auto",
         "type": "bar",
         "x": [
          "코미디"
         ],
         "xaxis": "x",
         "y": [
          4
         ],
         "yaxis": "y"
        },
        {
         "alignmentgroup": "True",
         "customdata": [
          [
           "",
           "1271만"
          ]
         ],
         "hovertemplate": "배우=신현준<br>장르=%{x}<br>출연 횟수=%{y}<br>총 매출액=%{customdata[0]}<br>총 관객수=%{customdata[1]}<extra></extra>",
         "legendgroup": "신현준",
         "marker": {
          "color": "#FF97FF",
          "pattern": {
           "shape": ""
          }
         },
         "name": "신현준",
         "offsetgroup": "신현준",
         "orientation": "v",
         "showlegend": true,
         "textposition": "auto",
         "type": "bar",
         "x": [
          "코미디"
         ],
         "xaxis": "x",
         "y": [
          4
         ],
         "yaxis": "y"
        },
        {
         "alignmentgroup": "True",
         "customdata": [
          [
           "",
           "1229만"
          ]
         ],
         "hovertemplate": "배우=김하늘<br>장르=%{x}<br>출연 횟수=%{y}<br>총 매출액=%{customdata[0]}<br>총 관객수=%{customdata[1]}<extra></extra>",
         "legendgroup": "김하늘",
         "marker": {
          "color": "#FECB52",
          "pattern": {
           "shape": ""
          }
         },
         "name": "김하늘",
         "offsetgroup": "김하늘",
         "orientation": "v",
         "showlegend": true,
         "textposition": "auto",
         "type": "bar",
         "x": [
          "코미디"
         ],
         "xaxis": "x",
         "y": [
          4
         ],
         "yaxis": "y"
        },
        {
         "alignmentgroup": "True",
         "customdata": [
          [
           "5억",
           "802만"
          ]
         ],
         "hovertemplate": "배우=최성국<br>장르=%{x}<br>출연 횟수=%{y}<br>총 매출액=%{customdata[0]}<br>총 관객수=%{customdata[1]}<extra></extra>",
         "legendgroup": "최성국",
         "marker": {
          "color": "#636efa",
          "pattern": {
           "shape": ""
          }
         },
         "name": "최성국",
         "offsetgroup": "최성국",
         "orientation": "v",
         "showlegend": true,
         "textposition": "auto",
         "type": "bar",
         "x": [
          "코미디"
         ],
         "xaxis": "x",
         "y": [
          3
         ],
         "yaxis": "y"
        },
        {
         "alignmentgroup": "True",
         "customdata": [
          [
           "446억",
           "1064만"
          ]
         ],
         "hovertemplate": "배우=김서현<br>장르=%{x}<br>출연 횟수=%{y}<br>총 매출액=%{customdata[0]}<br>총 관객수=%{customdata[1]}<extra></extra>",
         "legendgroup": "김서현",
         "marker": {
          "color": "#EF553B",
          "pattern": {
           "shape": ""
          }
         },
         "name": "김서현",
         "offsetgroup": "김서현",
         "orientation": "v",
         "showlegend": true,
         "textposition": "auto",
         "type": "bar",
         "x": [
          "코미디"
         ],
         "xaxis": "x",
         "y": [
          3
         ],
         "yaxis": "y"
        },
        {
         "alignmentgroup": "True",
         "customdata": [
          [
           "103억",
           "886만"
          ]
         ],
         "hovertemplate": "배우=정웅인<br>장르=%{x}<br>출연 횟수=%{y}<br>총 매출액=%{customdata[0]}<br>총 관객수=%{customdata[1]}<extra></extra>",
         "legendgroup": "정웅인",
         "marker": {
          "color": "#00cc96",
          "pattern": {
           "shape": ""
          }
         },
         "name": "정웅인",
         "offsetgroup": "정웅인",
         "orientation": "v",
         "showlegend": true,
         "textposition": "auto",
         "type": "bar",
         "x": [
          "코미디"
         ],
         "xaxis": "x",
         "y": [
          3
         ],
         "yaxis": "y"
        },
        {
         "alignmentgroup": "True",
         "customdata": [
          [
           "103억",
           "886만"
          ]
         ],
         "hovertemplate": "배우=강성필<br>장르=%{x}<br>출연 횟수=%{y}<br>총 매출액=%{customdata[0]}<br>총 관객수=%{customdata[1]}<extra></extra>",
         "legendgroup": "강성필",
         "marker": {
          "color": "#ab63fa",
          "pattern": {
           "shape": ""
          }
         },
         "name": "강성필",
         "offsetgroup": "강성필",
         "orientation": "v",
         "showlegend": true,
         "textposition": "auto",
         "type": "bar",
         "x": [
          "코미디"
         ],
         "xaxis": "x",
         "y": [
          3
         ],
         "yaxis": "y"
        },
        {
         "alignmentgroup": "True",
         "customdata": [
          [
           "",
           "838만"
          ]
         ],
         "hovertemplate": "배우=공유<br>장르=%{x}<br>출연 횟수=%{y}<br>총 매출액=%{customdata[0]}<br>총 관객수=%{customdata[1]}<extra></extra>",
         "legendgroup": "공유",
         "marker": {
          "color": "#FFA15A",
          "pattern": {
           "shape": ""
          }
         },
         "name": "공유",
         "offsetgroup": "공유",
         "orientation": "v",
         "showlegend": true,
         "textposition": "auto",
         "type": "bar",
         "x": [
          "코미디"
         ],
         "xaxis": "x",
         "y": [
          3
         ],
         "yaxis": "y"
        },
        {
         "alignmentgroup": "True",
         "customdata": [
          [
           "",
           "717만"
          ]
         ],
         "hovertemplate": "배우=류승수<br>장르=%{x}<br>출연 횟수=%{y}<br>총 매출액=%{customdata[0]}<br>총 관객수=%{customdata[1]}<extra></extra>",
         "legendgroup": "류승수",
         "marker": {
          "color": "#19d3f3",
          "pattern": {
           "shape": ""
          }
         },
         "name": "류승수",
         "offsetgroup": "류승수",
         "orientation": "v",
         "showlegend": true,
         "textposition": "auto",
         "type": "bar",
         "x": [
          "코미디"
         ],
         "xaxis": "x",
         "y": [
          3
         ],
         "yaxis": "y"
        },
        {
         "alignmentgroup": "True",
         "customdata": [
          [
           "",
           "692만"
          ]
         ],
         "hovertemplate": "배우=진경<br>장르=%{x}<br>출연 횟수=%{y}<br>총 매출액=%{customdata[0]}<br>총 관객수=%{customdata[1]}<extra></extra>",
         "legendgroup": "진경",
         "marker": {
          "color": "#FF6692",
          "pattern": {
           "shape": ""
          }
         },
         "name": "진경",
         "offsetgroup": "진경",
         "orientation": "v",
         "showlegend": true,
         "textposition": "auto",
         "type": "bar",
         "x": [
          "코미디"
         ],
         "xaxis": "x",
         "y": [
          3
         ],
         "yaxis": "y"
        },
        {
         "alignmentgroup": "True",
         "customdata": [
          [
           "",
           "690만"
          ]
         ],
         "hovertemplate": "배우=김도연<br>장르=%{x}<br>출연 횟수=%{y}<br>총 매출액=%{customdata[0]}<br>총 관객수=%{customdata[1]}<extra></extra>",
         "legendgroup": "김도연",
         "marker": {
          "color": "#B6E880",
          "pattern": {
           "shape": ""
          }
         },
         "name": "김도연",
         "offsetgroup": "김도연",
         "orientation": "v",
         "showlegend": true,
         "textposition": "auto",
         "type": "bar",
         "x": [
          "코미디"
         ],
         "xaxis": "x",
         "y": [
          3
         ],
         "yaxis": "y"
        },
        {
         "alignmentgroup": "True",
         "customdata": [
          [
           "",
           "690만"
          ]
         ],
         "hovertemplate": "배우=우현<br>장르=%{x}<br>출연 횟수=%{y}<br>총 매출액=%{customdata[0]}<br>총 관객수=%{customdata[1]}<extra></extra>",
         "legendgroup": "우현",
         "marker": {
          "color": "#FF97FF",
          "pattern": {
           "shape": ""
          }
         },
         "name": "우현",
         "offsetgroup": "우현",
         "orientation": "v",
         "showlegend": true,
         "textposition": "auto",
         "type": "bar",
         "x": [
          "코미디"
         ],
         "xaxis": "x",
         "y": [
          3
         ],
         "yaxis": "y"
        },
        {
         "alignmentgroup": "True",
         "customdata": [
          [
           "",
           "613만"
          ]
         ],
         "hovertemplate": "배우=김인문<br>장르=%{x}<br>출연 횟수=%{y}<br>총 매출액=%{customdata[0]}<br>총 관객수=%{customdata[1]}<extra></extra>",
         "legendgroup": "김인문",
         "marker": {
          "color": "#FECB52",
          "pattern": {
           "shape": ""
          }
         },
         "name": "김인문",
         "offsetgroup": "김인문",
         "orientation": "v",
         "showlegend": true,
         "textposition": "auto",
         "type": "bar",
         "x": [
          "코미디"
         ],
         "xaxis": "x",
         "y": [
          3
         ],
         "yaxis": "y"
        },
        {
         "alignmentgroup": "True",
         "customdata": [
          [
           "",
           "597만"
          ]
         ],
         "hovertemplate": "배우=강성진<br>장르=%{x}<br>출연 횟수=%{y}<br>총 매출액=%{customdata[0]}<br>총 관객수=%{customdata[1]}<extra></extra>",
         "legendgroup": "강성진",
         "marker": {
          "color": "#636efa",
          "pattern": {
           "shape": ""
          }
         },
         "name": "강성진",
         "offsetgroup": "강성진",
         "orientation": "v",
         "showlegend": true,
         "textposition": "auto",
         "type": "bar",
         "x": [
          "코미디"
         ],
         "xaxis": "x",
         "y": [
          3
         ],
         "yaxis": "y"
        },
        {
         "alignmentgroup": "True",
         "customdata": [
          [
           "",
           "564만"
          ]
         ],
         "hovertemplate": "배우=김윤태<br>장르=%{x}<br>출연 횟수=%{y}<br>총 매출액=%{customdata[0]}<br>총 관객수=%{customdata[1]}<extra></extra>",
         "legendgroup": "김윤태",
         "marker": {
          "color": "#EF553B",
          "pattern": {
           "shape": ""
          }
         },
         "name": "김윤태",
         "offsetgroup": "김윤태",
         "orientation": "v",
         "showlegend": true,
         "textposition": "auto",
         "type": "bar",
         "x": [
          "코미디"
         ],
         "xaxis": "x",
         "y": [
          3
         ],
         "yaxis": "y"
        },
        {
         "alignmentgroup": "True",
         "customdata": [
          [
           "",
           "545만"
          ]
         ],
         "hovertemplate": "배우=조희봉<br>장르=%{x}<br>출연 횟수=%{y}<br>총 매출액=%{customdata[0]}<br>총 관객수=%{customdata[1]}<extra></extra>",
         "legendgroup": "조희봉",
         "marker": {
          "color": "#00cc96",
          "pattern": {
           "shape": ""
          }
         },
         "name": "조희봉",
         "offsetgroup": "조희봉",
         "orientation": "v",
         "showlegend": true,
         "textposition": "auto",
         "type": "bar",
         "x": [
          "코미디"
         ],
         "xaxis": "x",
         "y": [
          3
         ],
         "yaxis": "y"
        },
        {
         "alignmentgroup": "True",
         "customdata": [
          [
           "",
           "542만"
          ]
         ],
         "hovertemplate": "배우=박준규<br>장르=%{x}<br>출연 횟수=%{y}<br>총 매출액=%{customdata[0]}<br>총 관객수=%{customdata[1]}<extra></extra>",
         "legendgroup": "박준규",
         "marker": {
          "color": "#ab63fa",
          "pattern": {
           "shape": ""
          }
         },
         "name": "박준규",
         "offsetgroup": "박준규",
         "orientation": "v",
         "showlegend": true,
         "textposition": "auto",
         "type": "bar",
         "x": [
          "코미디"
         ],
         "xaxis": "x",
         "y": [
          3
         ],
         "yaxis": "y"
        },
        {
         "alignmentgroup": "True",
         "customdata": [
          [
           "",
           "475만"
          ]
         ],
         "hovertemplate": "배우=최무인<br>장르=%{x}<br>출연 횟수=%{y}<br>총 매출액=%{customdata[0]}<br>총 관객수=%{customdata[1]}<extra></extra>",
         "legendgroup": "최무인",
         "marker": {
          "color": "#FFA15A",
          "pattern": {
           "shape": ""
          }
         },
         "name": "최무인",
         "offsetgroup": "최무인",
         "orientation": "v",
         "showlegend": true,
         "textposition": "auto",
         "type": "bar",
         "x": [
          "코미디"
         ],
         "xaxis": "x",
         "y": [
          3
         ],
         "yaxis": "y"
        },
        {
         "alignmentgroup": "True",
         "customdata": [
          [
           "",
           "456만"
          ]
         ],
         "hovertemplate": "배우=류승범<br>장르=%{x}<br>출연 횟수=%{y}<br>총 매출액=%{customdata[0]}<br>총 관객수=%{customdata[1]}<extra></extra>",
         "legendgroup": "류승범",
         "marker": {
          "color": "#19d3f3",
          "pattern": {
           "shape": ""
          }
         },
         "name": "류승범",
         "offsetgroup": "류승범",
         "orientation": "v",
         "showlegend": true,
         "textposition": "auto",
         "type": "bar",
         "x": [
          "코미디"
         ],
         "xaxis": "x",
         "y": [
          3
         ],
         "yaxis": "y"
        },
        {
         "alignmentgroup": "True",
         "customdata": [
          [
           "",
           "429만"
          ]
         ],
         "hovertemplate": "배우=박상면<br>장르=%{x}<br>출연 횟수=%{y}<br>총 매출액=%{customdata[0]}<br>총 관객수=%{customdata[1]}<extra></extra>",
         "legendgroup": "박상면",
         "marker": {
          "color": "#FF6692",
          "pattern": {
           "shape": ""
          }
         },
         "name": "박상면",
         "offsetgroup": "박상면",
         "orientation": "v",
         "showlegend": true,
         "textposition": "auto",
         "type": "bar",
         "x": [
          "코미디"
         ],
         "xaxis": "x",
         "y": [
          3
         ],
         "yaxis": "y"
        },
        {
         "alignmentgroup": "True",
         "customdata": [
          [
           "",
           "1144만"
          ]
         ],
         "hovertemplate": "배우=탁재훈<br>장르=%{x}<br>출연 횟수=%{y}<br>총 매출액=%{customdata[0]}<br>총 관객수=%{customdata[1]}<extra></extra>",
         "legendgroup": "탁재훈",
         "marker": {
          "color": "#B6E880",
          "pattern": {
           "shape": ""
          }
         },
         "name": "탁재훈",
         "offsetgroup": "탁재훈",
         "orientation": "v",
         "showlegend": true,
         "textposition": "auto",
         "type": "bar",
         "x": [
          "코미디"
         ],
         "xaxis": "x",
         "y": [
          3
         ],
         "yaxis": "y"
        }
       ],
       "layout": {
        "barmode": "relative",
        "legend": {
         "title": {
          "text": "배우"
         },
         "tracegroupgap": 0
        },
        "showlegend": false,
        "template": {
         "data": {
          "bar": [
           {
            "error_x": {
             "color": "#2a3f5f"
            },
            "error_y": {
             "color": "#2a3f5f"
            },
            "marker": {
             "line": {
              "color": "#E5ECF6",
              "width": 0.5
             },
             "pattern": {
              "fillmode": "overlay",
              "size": 10,
              "solidity": 0.2
             }
            },
            "type": "bar"
           }
          ],
          "barpolar": [
           {
            "marker": {
             "line": {
              "color": "#E5ECF6",
              "width": 0.5
             },
             "pattern": {
              "fillmode": "overlay",
              "size": 10,
              "solidity": 0.2
             }
            },
            "type": "barpolar"
           }
          ],
          "carpet": [
           {
            "aaxis": {
             "endlinecolor": "#2a3f5f",
             "gridcolor": "white",
             "linecolor": "white",
             "minorgridcolor": "white",
             "startlinecolor": "#2a3f5f"
            },
            "baxis": {
             "endlinecolor": "#2a3f5f",
             "gridcolor": "white",
             "linecolor": "white",
             "minorgridcolor": "white",
             "startlinecolor": "#2a3f5f"
            },
            "type": "carpet"
           }
          ],
          "choropleth": [
           {
            "colorbar": {
             "outlinewidth": 0,
             "ticks": ""
            },
            "type": "choropleth"
           }
          ],
          "contour": [
           {
            "colorbar": {
             "outlinewidth": 0,
             "ticks": ""
            },
            "colorscale": [
             [
              0,
              "#0d0887"
             ],
             [
              0.1111111111111111,
              "#46039f"
             ],
             [
              0.2222222222222222,
              "#7201a8"
             ],
             [
              0.3333333333333333,
              "#9c179e"
             ],
             [
              0.4444444444444444,
              "#bd3786"
             ],
             [
              0.5555555555555556,
              "#d8576b"
             ],
             [
              0.6666666666666666,
              "#ed7953"
             ],
             [
              0.7777777777777778,
              "#fb9f3a"
             ],
             [
              0.8888888888888888,
              "#fdca26"
             ],
             [
              1,
              "#f0f921"
             ]
            ],
            "type": "contour"
           }
          ],
          "contourcarpet": [
           {
            "colorbar": {
             "outlinewidth": 0,
             "ticks": ""
            },
            "type": "contourcarpet"
           }
          ],
          "heatmap": [
           {
            "colorbar": {
             "outlinewidth": 0,
             "ticks": ""
            },
            "colorscale": [
             [
              0,
              "#0d0887"
             ],
             [
              0.1111111111111111,
              "#46039f"
             ],
             [
              0.2222222222222222,
              "#7201a8"
             ],
             [
              0.3333333333333333,
              "#9c179e"
             ],
             [
              0.4444444444444444,
              "#bd3786"
             ],
             [
              0.5555555555555556,
              "#d8576b"
             ],
             [
              0.6666666666666666,
              "#ed7953"
             ],
             [
              0.7777777777777778,
              "#fb9f3a"
             ],
             [
              0.8888888888888888,
              "#fdca26"
             ],
             [
              1,
              "#f0f921"
             ]
            ],
            "type": "heatmap"
           }
          ],
          "heatmapgl": [
           {
            "colorbar": {
             "outlinewidth": 0,
             "ticks": ""
            },
            "colorscale": [
             [
              0,
              "#0d0887"
             ],
             [
              0.1111111111111111,
              "#46039f"
             ],
             [
              0.2222222222222222,
              "#7201a8"
             ],
             [
              0.3333333333333333,
              "#9c179e"
             ],
             [
              0.4444444444444444,
              "#bd3786"
             ],
             [
              0.5555555555555556,
              "#d8576b"
             ],
             [
              0.6666666666666666,
              "#ed7953"
             ],
             [
              0.7777777777777778,
              "#fb9f3a"
             ],
             [
              0.8888888888888888,
              "#fdca26"
             ],
             [
              1,
              "#f0f921"
             ]
            ],
            "type": "heatmapgl"
           }
          ],
          "histogram": [
           {
            "marker": {
             "pattern": {
              "fillmode": "overlay",
              "size": 10,
              "solidity": 0.2
             }
            },
            "type": "histogram"
           }
          ],
          "histogram2d": [
           {
            "colorbar": {
             "outlinewidth": 0,
             "ticks": ""
            },
            "colorscale": [
             [
              0,
              "#0d0887"
             ],
             [
              0.1111111111111111,
              "#46039f"
             ],
             [
              0.2222222222222222,
              "#7201a8"
             ],
             [
              0.3333333333333333,
              "#9c179e"
             ],
             [
              0.4444444444444444,
              "#bd3786"
             ],
             [
              0.5555555555555556,
              "#d8576b"
             ],
             [
              0.6666666666666666,
              "#ed7953"
             ],
             [
              0.7777777777777778,
              "#fb9f3a"
             ],
             [
              0.8888888888888888,
              "#fdca26"
             ],
             [
              1,
              "#f0f921"
             ]
            ],
            "type": "histogram2d"
           }
          ],
          "histogram2dcontour": [
           {
            "colorbar": {
             "outlinewidth": 0,
             "ticks": ""
            },
            "colorscale": [
             [
              0,
              "#0d0887"
             ],
             [
              0.1111111111111111,
              "#46039f"
             ],
             [
              0.2222222222222222,
              "#7201a8"
             ],
             [
              0.3333333333333333,
              "#9c179e"
             ],
             [
              0.4444444444444444,
              "#bd3786"
             ],
             [
              0.5555555555555556,
              "#d8576b"
             ],
             [
              0.6666666666666666,
              "#ed7953"
             ],
             [
              0.7777777777777778,
              "#fb9f3a"
             ],
             [
              0.8888888888888888,
              "#fdca26"
             ],
             [
              1,
              "#f0f921"
             ]
            ],
            "type": "histogram2dcontour"
           }
          ],
          "mesh3d": [
           {
            "colorbar": {
             "outlinewidth": 0,
             "ticks": ""
            },
            "type": "mesh3d"
           }
          ],
          "parcoords": [
           {
            "line": {
             "colorbar": {
              "outlinewidth": 0,
              "ticks": ""
             }
            },
            "type": "parcoords"
           }
          ],
          "pie": [
           {
            "automargin": true,
            "type": "pie"
           }
          ],
          "scatter": [
           {
            "fillpattern": {
             "fillmode": "overlay",
             "size": 10,
             "solidity": 0.2
            },
            "type": "scatter"
           }
          ],
          "scatter3d": [
           {
            "line": {
             "colorbar": {
              "outlinewidth": 0,
              "ticks": ""
             }
            },
            "marker": {
             "colorbar": {
              "outlinewidth": 0,
              "ticks": ""
             }
            },
            "type": "scatter3d"
           }
          ],
          "scattercarpet": [
           {
            "marker": {
             "colorbar": {
              "outlinewidth": 0,
              "ticks": ""
             }
            },
            "type": "scattercarpet"
           }
          ],
          "scattergeo": [
           {
            "marker": {
             "colorbar": {
              "outlinewidth": 0,
              "ticks": ""
             }
            },
            "type": "scattergeo"
           }
          ],
          "scattergl": [
           {
            "marker": {
             "colorbar": {
              "outlinewidth": 0,
              "ticks": ""
             }
            },
            "type": "scattergl"
           }
          ],
          "scattermapbox": [
           {
            "marker": {
             "colorbar": {
              "outlinewidth": 0,
              "ticks": ""
             }
            },
            "type": "scattermapbox"
           }
          ],
          "scatterpolar": [
           {
            "marker": {
             "colorbar": {
              "outlinewidth": 0,
              "ticks": ""
             }
            },
            "type": "scatterpolar"
           }
          ],
          "scatterpolargl": [
           {
            "marker": {
             "colorbar": {
              "outlinewidth": 0,
              "ticks": ""
             }
            },
            "type": "scatterpolargl"
           }
          ],
          "scatterternary": [
           {
            "marker": {
             "colorbar": {
              "outlinewidth": 0,
              "ticks": ""
             }
            },
            "type": "scatterternary"
           }
          ],
          "surface": [
           {
            "colorbar": {
             "outlinewidth": 0,
             "ticks": ""
            },
            "colorscale": [
             [
              0,
              "#0d0887"
             ],
             [
              0.1111111111111111,
              "#46039f"
             ],
             [
              0.2222222222222222,
              "#7201a8"
             ],
             [
              0.3333333333333333,
              "#9c179e"
             ],
             [
              0.4444444444444444,
              "#bd3786"
             ],
             [
              0.5555555555555556,
              "#d8576b"
             ],
             [
              0.6666666666666666,
              "#ed7953"
             ],
             [
              0.7777777777777778,
              "#fb9f3a"
             ],
             [
              0.8888888888888888,
              "#fdca26"
             ],
             [
              1,
              "#f0f921"
             ]
            ],
            "type": "surface"
           }
          ],
          "table": [
           {
            "cells": {
             "fill": {
              "color": "#EBF0F8"
             },
             "line": {
              "color": "white"
             }
            },
            "header": {
             "fill": {
              "color": "#C8D4E3"
             },
             "line": {
              "color": "white"
             }
            },
            "type": "table"
           }
          ]
         },
         "layout": {
          "annotationdefaults": {
           "arrowcolor": "#2a3f5f",
           "arrowhead": 0,
           "arrowwidth": 1
          },
          "autotypenumbers": "strict",
          "coloraxis": {
           "colorbar": {
            "outlinewidth": 0,
            "ticks": ""
           }
          },
          "colorscale": {
           "diverging": [
            [
             0,
             "#8e0152"
            ],
            [
             0.1,
             "#c51b7d"
            ],
            [
             0.2,
             "#de77ae"
            ],
            [
             0.3,
             "#f1b6da"
            ],
            [
             0.4,
             "#fde0ef"
            ],
            [
             0.5,
             "#f7f7f7"
            ],
            [
             0.6,
             "#e6f5d0"
            ],
            [
             0.7,
             "#b8e186"
            ],
            [
             0.8,
             "#7fbc41"
            ],
            [
             0.9,
             "#4d9221"
            ],
            [
             1,
             "#276419"
            ]
           ],
           "sequential": [
            [
             0,
             "#0d0887"
            ],
            [
             0.1111111111111111,
             "#46039f"
            ],
            [
             0.2222222222222222,
             "#7201a8"
            ],
            [
             0.3333333333333333,
             "#9c179e"
            ],
            [
             0.4444444444444444,
             "#bd3786"
            ],
            [
             0.5555555555555556,
             "#d8576b"
            ],
            [
             0.6666666666666666,
             "#ed7953"
            ],
            [
             0.7777777777777778,
             "#fb9f3a"
            ],
            [
             0.8888888888888888,
             "#fdca26"
            ],
            [
             1,
             "#f0f921"
            ]
           ],
           "sequentialminus": [
            [
             0,
             "#0d0887"
            ],
            [
             0.1111111111111111,
             "#46039f"
            ],
            [
             0.2222222222222222,
             "#7201a8"
            ],
            [
             0.3333333333333333,
             "#9c179e"
            ],
            [
             0.4444444444444444,
             "#bd3786"
            ],
            [
             0.5555555555555556,
             "#d8576b"
            ],
            [
             0.6666666666666666,
             "#ed7953"
            ],
            [
             0.7777777777777778,
             "#fb9f3a"
            ],
            [
             0.8888888888888888,
             "#fdca26"
            ],
            [
             1,
             "#f0f921"
            ]
           ]
          },
          "colorway": [
           "#636efa",
           "#EF553B",
           "#00cc96",
           "#ab63fa",
           "#FFA15A",
           "#19d3f3",
           "#FF6692",
           "#B6E880",
           "#FF97FF",
           "#FECB52"
          ],
          "font": {
           "color": "#2a3f5f"
          },
          "geo": {
           "bgcolor": "white",
           "lakecolor": "white",
           "landcolor": "#E5ECF6",
           "showlakes": true,
           "showland": true,
           "subunitcolor": "white"
          },
          "hoverlabel": {
           "align": "left"
          },
          "hovermode": "closest",
          "mapbox": {
           "style": "light"
          },
          "paper_bgcolor": "white",
          "plot_bgcolor": "#E5ECF6",
          "polar": {
           "angularaxis": {
            "gridcolor": "white",
            "linecolor": "white",
            "ticks": ""
           },
           "bgcolor": "#E5ECF6",
           "radialaxis": {
            "gridcolor": "white",
            "linecolor": "white",
            "ticks": ""
           }
          },
          "scene": {
           "xaxis": {
            "backgroundcolor": "#E5ECF6",
            "gridcolor": "white",
            "gridwidth": 2,
            "linecolor": "white",
            "showbackground": true,
            "ticks": "",
            "zerolinecolor": "white"
           },
           "yaxis": {
            "backgroundcolor": "#E5ECF6",
            "gridcolor": "white",
            "gridwidth": 2,
            "linecolor": "white",
            "showbackground": true,
            "ticks": "",
            "zerolinecolor": "white"
           },
           "zaxis": {
            "backgroundcolor": "#E5ECF6",
            "gridcolor": "white",
            "gridwidth": 2,
            "linecolor": "white",
            "showbackground": true,
            "ticks": "",
            "zerolinecolor": "white"
           }
          },
          "shapedefaults": {
           "line": {
            "color": "#2a3f5f"
           }
          },
          "ternary": {
           "aaxis": {
            "gridcolor": "white",
            "linecolor": "white",
            "ticks": ""
           },
           "baxis": {
            "gridcolor": "white",
            "linecolor": "white",
            "ticks": ""
           },
           "bgcolor": "#E5ECF6",
           "caxis": {
            "gridcolor": "white",
            "linecolor": "white",
            "ticks": ""
           }
          },
          "title": {
           "x": 0.05
          },
          "xaxis": {
           "automargin": true,
           "gridcolor": "white",
           "linecolor": "white",
           "ticks": "",
           "title": {
            "standoff": 15
           },
           "zerolinecolor": "white",
           "zerolinewidth": 2
          },
          "yaxis": {
           "automargin": true,
           "gridcolor": "white",
           "linecolor": "white",
           "ticks": "",
           "title": {
            "standoff": 15
           },
           "zerolinecolor": "white",
           "zerolinewidth": 2
          }
         }
        },
        "title": {
         "text": "2000년대 장르별 배우 출연 횟수 (3회 이상 출연한 배우)"
        },
        "xaxis": {
         "anchor": "y",
         "categoryarray": [
          "코미디",
          "전쟁",
          "액션",
          "스릴러",
          "범죄",
          "미스터리",
          "멜로/로맨스",
          "드라마"
         ],
         "categoryorder": "total descending",
         "domain": [
          0,
          1
         ],
         "title": {
          "text": "장르"
         }
        },
        "yaxis": {
         "anchor": "x",
         "domain": [
          0,
          1
         ],
         "title": {
          "text": "출연 횟수"
         }
        }
       }
      }
     },
     "metadata": {},
     "output_type": "display_data"
    }
   ],
   "source": [
    "data = pd.read_csv('5.2_dataset_forviz_add_gener.csv')\n",
    "\n",
    "# 매출액과 관객수 데이터 형태 처리\n",
    "data['매출액'] = data['매출액'].str.replace(',', '').astype(float)\n",
    "data['관객수'] = data['관객수'].str.replace(',', '').astype(int)\n",
    "\n",
    "# 개봉일에서 연도 추출\n",
    "data['year'] = pd.to_datetime(data['개봉일']).dt.year\n",
    "\n",
    "# 1990년대 영화만 필터링\n",
    "data = data[(data['year'] >= 2000) & (data['year'] < 2010)]\n",
    "\n",
    "\n",
    "# 데이터 형태 확인 및 처리\n",
    "def safe_eval(x):\n",
    "    if isinstance(x, str):\n",
    "        try:\n",
    "            return eval(x)\n",
    "        except:\n",
    "            return []  # 오류 발생시 빈 리스트 반환\n",
    "    return x if isinstance(x, list) else []\n",
    "\n",
    "data['actor_main_name'] = data['actor_main_name'].apply(safe_eval)\n",
    "data['actor_sub_name'] = data['actor_sub_name'].apply(safe_eval)\n",
    "\n",
    "# 숫자를 한글식 표현으로 변환하는 함수\n",
    "def korean_style_number(num, is_revenue=False):\n",
    "    units = ['만', '억', '조', '경']\n",
    "    steps = [10000, 100000000, 1000000000000, 10000000000000000]\n",
    "    result = ''\n",
    "    for i, step in enumerate(steps[::-1]):\n",
    "        if num >= step:\n",
    "            result += str(int(num // step)) + units[::-1][i]\n",
    "            num %= step\n",
    "        if is_revenue and units[::-1][i] == '억':\n",
    "            break\n",
    "    return result\n",
    "\n",
    "# 장르명 정규화 함수\n",
    "def normalize_genre(genre):\n",
    "    genre = genre.strip()  # 공백 제거\n",
    "    genre = genre.replace(' ', '')  # 중간 공백 제거\n",
    "    genre = genre.lower()  # 소문자로 통일\n",
    "    return genre\n",
    "\n",
    "# 장르별로 배우 출연 횟수 및 매출, 관객수 집계\n",
    "genre_actor_stats = {}\n",
    "\n",
    "for index, row in data.iterrows():\n",
    "    genres = [normalize_genre(gen) for gen in row['only_gener'].split(',')]\n",
    "    actors = set(row['actor_main_name'] + row['actor_sub_name'])  # 주연과 조연 합치기\n",
    "    revenue = row['매출액']\n",
    "    audience = row['관객수']\n",
    "    \n",
    "    for genre in genres:\n",
    "        if genre not in genre_actor_stats:\n",
    "            genre_actor_stats[genre] = {}\n",
    "        \n",
    "        for actor in actors:\n",
    "            if actor not in genre_actor_stats[genre]:\n",
    "                genre_actor_stats[genre][actor] = {'Count': 0, 'Total Revenue': 0, 'Total Audience': 0}\n",
    "            genre_actor_stats[genre][actor]['Count'] += 1\n",
    "            genre_actor_stats[genre][actor]['Total Revenue'] += revenue\n",
    "            genre_actor_stats[genre][actor]['Total Audience'] += audience\n",
    "\n",
    "# 데이터 프레임으로 변환 및 한글식 숫자 변환\n",
    "rows = []\n",
    "for genre, actor_stats in genre_actor_stats.items():\n",
    "    for actor, stats in actor_stats.items():\n",
    "        if stats['Count'] >= 3:  # 3회 이상 출연한 배우만 포함\n",
    "            rows.append({\n",
    "                '장르': genre, \n",
    "                '배우': actor, \n",
    "                '출연 횟수': stats['Count'],\n",
    "                '총 매출액': korean_style_number(stats['Total Revenue'], is_revenue=True),\n",
    "                '총 관객수': korean_style_number(stats['Total Audience'])\n",
    "            })\n",
    "\n",
    "df_actor_stats = pd.DataFrame(rows)\n",
    "df_actor_stats.sort_values(by=['장르', '출연 횟수', '총 매출액', '총 관객수'], ascending=[True, False, False, False], inplace=True)\n",
    "\n",
    "# 시각화\n",
    "fig = px.bar(df_actor_stats, x='장르', y='출연 횟수', color='배우', title='2000년대 장르별 배우 출연 횟수 (3회 이상 출연한 배우)',\n",
    "             hover_data=['총 매출액', '총 관객수'],\n",
    "             category_orders={\"장르\": sorted(df_actor_stats['장르'].unique(), reverse=True)})\n",
    "fig.update_layout(xaxis={'categoryorder':'total descending'}, showlegend=False)\n",
    "fig.show()\n",
    "fig.write_html('jh_actor_genre_2000.html')"
   ]
  },
  {
   "cell_type": "markdown",
   "id": "1897c031",
   "metadata": {},
   "source": [
    "## 2010년대"
   ]
  },
  {
   "cell_type": "code",
   "execution_count": 3,
   "id": "c7c85a3e",
   "metadata": {},
   "outputs": [
    {
     "data": {
      "application/vnd.plotly.v1+json": {
       "config": {
        "plotlyServerURL": "https://plot.ly"
       },
       "data": [
        {
         "alignmentgroup": "True",
         "customdata": [
          [
           "5124억",
           "6470만"
          ],
          [
           "2406억",
           "3044만"
          ],
          [
           "1101억",
           "1358만"
          ]
         ],
         "hovertemplate": "배우=유해진<br>장르=%{x}<br>출연 횟수=%{y}<br>총 매출액=%{customdata[0]}<br>총 관객수=%{customdata[1]}<extra></extra>",
         "legendgroup": "유해진",
         "marker": {
          "color": "#636efa",
          "pattern": {
           "shape": ""
          }
         },
         "name": "유해진",
         "offsetgroup": "유해진",
         "orientation": "v",
         "showlegend": true,
         "textposition": "auto",
         "type": "bar",
         "x": [
          "드라마",
          "액션",
          "코미디"
         ],
         "xaxis": "x",
         "y": [
          13,
          5,
          3
         ],
         "yaxis": "y"
        },
        {
         "alignmentgroup": "True",
         "customdata": [
          [
           "5762억",
           "7425만"
          ],
          [
           "484억",
           "642만"
          ],
          [
           "1541억",
           "1975만"
          ],
          [
           "931억",
           "1158만"
          ],
          [
           "2343억",
           "3043만"
          ],
          [
           "1545억",
           "1977만"
          ]
         ],
         "hovertemplate": "배우=황정민<br>장르=%{x}<br>출연 횟수=%{y}<br>총 매출액=%{customdata[0]}<br>총 관객수=%{customdata[1]}<extra></extra>",
         "legendgroup": "황정민",
         "marker": {
          "color": "#EF553B",
          "pattern": {
           "shape": ""
          }
         },
         "name": "황정민",
         "offsetgroup": "황정민",
         "orientation": "v",
         "showlegend": true,
         "textposition": "auto",
         "type": "bar",
         "x": [
          "드라마",
          "멜로/로맨스",
          "범죄",
          "스릴러",
          "액션",
          "코미디"
         ],
         "xaxis": "x",
         "y": [
          12,
          3,
          4,
          3,
          6,
          4
         ],
         "yaxis": "y"
        },
        {
         "alignmentgroup": "True",
         "customdata": [
          [
           "4711억",
           "5937만"
          ],
          [
           "1424억",
           "1833만"
          ],
          [
           "1121억",
           "1488만"
          ],
          [
           "3589억",
           "4724만"
          ]
         ],
         "hovertemplate": "배우=이경영<br>장르=%{x}<br>출연 횟수=%{y}<br>총 매출액=%{customdata[0]}<br>총 관객수=%{customdata[1]}<extra></extra>",
         "legendgroup": "이경영",
         "marker": {
          "color": "#00cc96",
          "pattern": {
           "shape": ""
          }
         },
         "name": "이경영",
         "offsetgroup": "이경영",
         "orientation": "v",
         "showlegend": true,
         "textposition": "auto",
         "type": "bar",
         "x": [
          "드라마",
          "범죄",
          "사극",
          "액션"
         ],
         "xaxis": "x",
         "y": [
          12,
          5,
          3,
          8
         ],
         "yaxis": "y"
        },
        {
         "alignmentgroup": "True",
         "customdata": [
          [
           "3560억",
           "4492만"
          ],
          [
           "1487억",
           "1830만"
          ],
          [
           "898억",
           "1133만"
          ],
          [
           "3593억",
           "4600만"
          ],
          [
           "755억",
           "912만"
          ]
         ],
         "hovertemplate": "배우=조진웅<br>장르=%{x}<br>출연 횟수=%{y}<br>총 매출액=%{customdata[0]}<br>총 관객수=%{customdata[1]}<extra></extra>",
         "legendgroup": "조진웅",
         "marker": {
          "color": "#ab63fa",
          "pattern": {
           "shape": ""
          }
         },
         "name": "조진웅",
         "offsetgroup": "조진웅",
         "orientation": "v",
         "showlegend": true,
         "textposition": "auto",
         "type": "bar",
         "x": [
          "드라마",
          "범죄",
          "스릴러",
          "액션",
          "코미디"
         ],
         "xaxis": "x",
         "y": [
          12,
          5,
          4,
          6,
          3
         ],
         "yaxis": "y"
        },
        {
         "alignmentgroup": "True",
         "customdata": [
          [
           "4314억",
           "5589만"
          ],
          [
           "1375억",
           "1708만"
          ],
          [
           "3106억",
           "4001만"
          ]
         ],
         "hovertemplate": "배우=김의성<br>장르=%{x}<br>출연 횟수=%{y}<br>총 매출액=%{customdata[0]}<br>총 관객수=%{customdata[1]}<extra></extra>",
         "legendgroup": "김의성",
         "marker": {
          "color": "#FFA15A",
          "pattern": {
           "shape": ""
          }
         },
         "name": "김의성",
         "offsetgroup": "김의성",
         "orientation": "v",
         "showlegend": true,
         "textposition": "auto",
         "type": "bar",
         "x": [
          "드라마",
          "범죄",
          "액션"
         ],
         "xaxis": "x",
         "y": [
          11,
          5,
          8
         ],
         "yaxis": "y"
        },
        {
         "alignmentgroup": "True",
         "customdata": [
          [
           "6945억",
           "9065만"
          ],
          [
           "1853억",
           "2443만"
          ],
          [
           "731억",
           "935만"
          ],
          [
           "476억",
           "617만"
          ],
          [
           "4138억",
           "5411만"
          ],
          [
           "1166억",
           "1498만"
          ],
          [
           "2004억",
           "2694만"
          ]
         ],
         "hovertemplate": "배우=오달수<br>장르=%{x}<br>출연 횟수=%{y}<br>총 매출액=%{customdata[0]}<br>총 관객수=%{customdata[1]}<extra></extra>",
         "legendgroup": "오달수",
         "marker": {
          "color": "#19d3f3",
          "pattern": {
           "shape": ""
          }
         },
         "name": "오달수",
         "offsetgroup": "오달수",
         "orientation": "v",
         "showlegend": true,
         "textposition": "auto",
         "type": "bar",
         "x": [
          "드라마",
          "범죄",
          "사극",
          "스릴러",
          "액션",
          "어드벤처",
          "코미디"
         ],
         "xaxis": "x",
         "y": [
          10,
          4,
          3,
          3,
          7,
          3,
          5
         ],
         "yaxis": "y"
        },
        {
         "alignmentgroup": "True",
         "customdata": [
          [
           "2922억",
           "3685만"
          ],
          [
           "1658억",
           "2180만"
          ],
          [
           "1281억",
           "1754만"
          ]
         ],
         "hovertemplate": "배우=김윤석<br>장르=%{x}<br>출연 횟수=%{y}<br>총 매출액=%{customdata[0]}<br>총 관객수=%{customdata[1]}<extra></extra>",
         "legendgroup": "김윤석",
         "marker": {
          "color": "#FF6692",
          "pattern": {
           "shape": ""
          }
         },
         "name": "김윤석",
         "offsetgroup": "김윤석",
         "orientation": "v",
         "showlegend": true,
         "textposition": "auto",
         "type": "bar",
         "x": [
          "드라마",
          "범죄",
          "액션"
         ],
         "xaxis": "x",
         "y": [
          10,
          4,
          3
         ],
         "yaxis": "y"
        },
        {
         "alignmentgroup": "True",
         "customdata": [
          [
           "5820억",
           "7206만"
          ],
          [
           "931억",
           "1247만"
          ],
          [
           "697억",
           "884만"
          ],
          [
           "2185억",
           "2848만"
          ]
         ],
         "hovertemplate": "배우=하정우<br>장르=%{x}<br>출연 횟수=%{y}<br>총 매출액=%{customdata[0]}<br>총 관객수=%{customdata[1]}<extra></extra>",
         "legendgroup": "하정우",
         "marker": {
          "color": "#B6E880",
          "pattern": {
           "shape": ""
          }
         },
         "name": "하정우",
         "offsetgroup": "하정우",
         "orientation": "v",
         "showlegend": true,
         "textposition": "auto",
         "type": "bar",
         "x": [
          "드라마",
          "범죄",
          "스릴러",
          "액션"
         ],
         "xaxis": "x",
         "y": [
          9,
          3,
          3,
          5
         ],
         "yaxis": "y"
        },
        {
         "alignmentgroup": "True",
         "customdata": [
          [
           "2878억",
           "3676만"
          ],
          [
           "2131억",
           "2722만"
          ]
         ],
         "hovertemplate": "배우=김인우<br>장르=%{x}<br>출연 횟수=%{y}<br>총 매출액=%{customdata[0]}<br>총 관객수=%{customdata[1]}<extra></extra>",
         "legendgroup": "김인우",
         "marker": {
          "color": "#FF97FF",
          "pattern": {
           "shape": ""
          }
         },
         "name": "김인우",
         "offsetgroup": "김인우",
         "orientation": "v",
         "showlegend": true,
         "textposition": "auto",
         "type": "bar",
         "x": [
          "드라마",
          "액션"
         ],
         "xaxis": "x",
         "y": [
          9,
          5
         ],
         "yaxis": "y"
        },
        {
         "alignmentgroup": "True",
         "customdata": [
          [
           "2608억",
           "3482만"
          ],
          [
           "1297억",
           "1748만"
          ]
         ],
         "hovertemplate": "배우=정인기<br>장르=%{x}<br>출연 횟수=%{y}<br>총 매출액=%{customdata[0]}<br>총 관객수=%{customdata[1]}<extra></extra>",
         "legendgroup": "정인기",
         "marker": {
          "color": "#FECB52",
          "pattern": {
           "shape": ""
          }
         },
         "name": "정인기",
         "offsetgroup": "정인기",
         "orientation": "v",
         "showlegend": true,
         "textposition": "auto",
         "type": "bar",
         "x": [
          "드라마",
          "액션"
         ],
         "xaxis": "x",
         "y": [
          9,
          6
         ],
         "yaxis": "y"
        },
        {
         "alignmentgroup": "True",
         "customdata": [
          [
           "2040억",
           "2604만"
          ],
          [
           "781억",
           "1032만"
          ]
         ],
         "hovertemplate": "배우=박정민<br>장르=%{x}<br>출연 횟수=%{y}<br>총 매출액=%{customdata[0]}<br>총 관객수=%{customdata[1]}<extra></extra>",
         "legendgroup": "박정민",
         "marker": {
          "color": "#636efa",
          "pattern": {
           "shape": ""
          }
         },
         "name": "박정민",
         "offsetgroup": "박정민",
         "orientation": "v",
         "showlegend": true,
         "textposition": "auto",
         "type": "bar",
         "x": [
          "드라마",
          "코미디"
         ],
         "xaxis": "x",
         "y": [
          9,
          4
         ],
         "yaxis": "y"
        },
        {
         "alignmentgroup": "True",
         "customdata": [
          [
           "2951억",
           "3865만"
          ],
          [
           "421억",
           "568만"
          ],
          [
           "741억",
           "941만"
          ],
          [
           "568억",
           "764만"
          ],
          [
           "1210억",
           "1586만"
          ]
         ],
         "hovertemplate": "배우=라미란<br>장르=%{x}<br>출연 횟수=%{y}<br>총 매출액=%{customdata[0]}<br>총 관객수=%{customdata[1]}<extra></extra>",
         "legendgroup": "라미란",
         "marker": {
          "color": "#EF553B",
          "pattern": {
           "shape": ""
          }
         },
         "name": "라미란",
         "offsetgroup": "라미란",
         "orientation": "v",
         "showlegend": true,
         "textposition": "auto",
         "type": "bar",
         "x": [
          "드라마",
          "멜로/로맨스",
          "사극",
          "액션",
          "코미디"
         ],
         "xaxis": "x",
         "y": [
          8,
          3,
          3,
          4,
          8
         ],
         "yaxis": "y"
        },
        {
         "alignmentgroup": "True",
         "customdata": [
          [
           "4210억",
           "5470만"
          ],
          [
           "1798억",
           "2388만"
          ]
         ],
         "hovertemplate": "배우=장광<br>장르=%{x}<br>출연 횟수=%{y}<br>총 매출액=%{customdata[0]}<br>총 관객수=%{customdata[1]}<extra></extra>",
         "legendgroup": "장광",
         "marker": {
          "color": "#00cc96",
          "pattern": {
           "shape": ""
          }
         },
         "name": "장광",
         "offsetgroup": "장광",
         "orientation": "v",
         "showlegend": true,
         "textposition": "auto",
         "type": "bar",
         "x": [
          "드라마",
          "액션"
         ],
         "xaxis": "x",
         "y": [
          7,
          6
         ],
         "yaxis": "y"
        },
        {
         "alignmentgroup": "True",
         "customdata": [
          [
           "4009억",
           "5199만"
          ],
          [
           "1690억",
           "2235만"
          ]
         ],
         "hovertemplate": "배우=송강호<br>장르=%{x}<br>출연 횟수=%{y}<br>총 매출액=%{customdata[0]}<br>총 관객수=%{customdata[1]}<extra></extra>",
         "legendgroup": "송강호",
         "marker": {
          "color": "#ab63fa",
          "pattern": {
           "shape": ""
          }
         },
         "name": "송강호",
         "offsetgroup": "송강호",
         "orientation": "v",
         "showlegend": true,
         "textposition": "auto",
         "type": "bar",
         "x": [
          "드라마",
          "액션"
         ],
         "xaxis": "x",
         "y": [
          7,
          3
         ],
         "yaxis": "y"
        },
        {
         "alignmentgroup": "True",
         "customdata": [
          [
           "3910억",
           "4785만"
          ],
          [
           "1961억",
           "2389만"
          ],
          [
           "1377억",
           "1732만"
          ],
          [
           "2684억",
           "3275만"
          ],
          [
           "371억",
           "481만"
          ]
         ],
         "hovertemplate": "배우=마동석<br>장르=%{x}<br>출연 횟수=%{y}<br>총 매출액=%{customdata[0]}<br>총 관객수=%{customdata[1]}<extra></extra>",
         "legendgroup": "마동석",
         "marker": {
          "color": "#FFA15A",
          "pattern": {
           "shape": ""
          }
         },
         "name": "마동석",
         "offsetgroup": "마동석",
         "orientation": "v",
         "showlegend": true,
         "textposition": "auto",
         "type": "bar",
         "x": [
          "드라마",
          "범죄",
          "스릴러",
          "액션",
          "코미디"
         ],
         "xaxis": "x",
         "y": [
          7,
          6,
          4,
          6,
          3
         ],
         "yaxis": "y"
        },
        {
         "alignmentgroup": "True",
         "customdata": [
          [
           "3271억",
           "4262만"
          ],
          [
           "772억",
           "1003만"
          ],
          [
           "2087억",
           "2698만"
          ]
         ],
         "hovertemplate": "배우=송영창<br>장르=%{x}<br>출연 횟수=%{y}<br>총 매출액=%{customdata[0]}<br>총 관객수=%{customdata[1]}<extra></extra>",
         "legendgroup": "송영창",
         "marker": {
          "color": "#19d3f3",
          "pattern": {
           "shape": ""
          }
         },
         "name": "송영창",
         "offsetgroup": "송영창",
         "orientation": "v",
         "showlegend": true,
         "textposition": "auto",
         "type": "bar",
         "x": [
          "드라마",
          "사극",
          "액션"
         ],
         "xaxis": "x",
         "y": [
          7,
          3,
          5
         ],
         "yaxis": "y"
        },
        {
         "alignmentgroup": "True",
         "customdata": [
          [
           "3153억",
           "4143만"
          ],
          [
           "1974억",
           "2475만"
          ],
          [
           "637억",
           "813만"
          ],
          [
           "531억",
           "684만"
          ],
          [
           "2290억",
           "2931만"
          ],
          [
           "1185억",
           "1649만"
          ]
         ],
         "hovertemplate": "배우=정만식<br>장르=%{x}<br>출연 횟수=%{y}<br>총 매출액=%{customdata[0]}<br>총 관객수=%{customdata[1]}<extra></extra>",
         "legendgroup": "정만식",
         "marker": {
          "color": "#FF6692",
          "pattern": {
           "shape": ""
          }
         },
         "name": "정만식",
         "offsetgroup": "정만식",
         "orientation": "v",
         "showlegend": true,
         "textposition": "auto",
         "type": "bar",
         "x": [
          "드라마",
          "범죄",
          "사극",
          "스릴러",
          "액션",
          "코미디"
         ],
         "xaxis": "x",
         "y": [
          7,
          8,
          3,
          3,
          7,
          3
         ],
         "yaxis": "y"
        },
        {
         "alignmentgroup": "True",
         "customdata": [
          [
           "3114억",
           "3848만"
          ],
          [
           "430억",
           "579만"
          ],
          [
           "2347억",
           "2860만"
          ]
         ],
         "hovertemplate": "배우=이준혁<br>장르=%{x}<br>출연 횟수=%{y}<br>총 매출액=%{customdata[0]}<br>총 관객수=%{customdata[1]}<extra></extra>",
         "legendgroup": "이준혁",
         "marker": {
          "color": "#B6E880",
          "pattern": {
           "shape": ""
          }
         },
         "name": "이준혁",
         "offsetgroup": "이준혁",
         "orientation": "v",
         "showlegend": true,
         "textposition": "auto",
         "type": "bar",
         "x": [
          "드라마",
          "스릴러",
          "판타지"
         ],
         "xaxis": "x",
         "y": [
          7,
          3,
          3
         ],
         "yaxis": "y"
        },
        {
         "alignmentgroup": "True",
         "customdata": [
          [
           "2681억",
           "3478만"
          ],
          [
           "652억",
           "843만"
          ],
          [
           "1165억",
           "1533만"
          ]
         ],
         "hovertemplate": "배우=곽도원<br>장르=%{x}<br>출연 횟수=%{y}<br>총 매출액=%{customdata[0]}<br>총 관객수=%{customdata[1]}<extra></extra>",
         "legendgroup": "곽도원",
         "marker": {
          "color": "#FF97FF",
          "pattern": {
           "shape": ""
          }
         },
         "name": "곽도원",
         "offsetgroup": "곽도원",
         "orientation": "v",
         "showlegend": true,
         "textposition": "auto",
         "type": "bar",
         "x": [
          "드라마",
          "범죄",
          "액션"
         ],
         "xaxis": "x",
         "y": [
          7,
          3,
          4
         ],
         "yaxis": "y"
        },
        {
         "alignmentgroup": "True",
         "customdata": [
          [
           "2583억",
           "3289만"
          ],
          [
           "440억",
           "563만"
          ],
          [
           "1483억",
           "1849만"
          ],
          [
           "504억",
           "671만"
          ],
          [
           "1931억",
           "2435만"
          ]
         ],
         "hovertemplate": "배우=배성우<br>장르=%{x}<br>출연 횟수=%{y}<br>총 매출액=%{customdata[0]}<br>총 관객수=%{customdata[1]}<extra></extra>",
         "legendgroup": "배성우",
         "marker": {
          "color": "#FECB52",
          "pattern": {
           "shape": ""
          }
         },
         "name": "배성우",
         "offsetgroup": "배성우",
         "orientation": "v",
         "showlegend": true,
         "textposition": "auto",
         "type": "bar",
         "x": [
          "드라마",
          "멜로/로맨스",
          "범죄",
          "스릴러",
          "액션"
         ],
         "xaxis": "x",
         "y": [
          7,
          3,
          4,
          3,
          5
         ],
         "yaxis": "y"
        },
        {
         "alignmentgroup": "True",
         "customdata": [
          [
           "2555억",
           "3331만"
          ],
          [
           "1027억",
           "1269만"
          ],
          [
           "944억",
           "1241만"
          ]
         ],
         "hovertemplate": "배우=정원중<br>장르=%{x}<br>출연 횟수=%{y}<br>총 매출액=%{customdata[0]}<br>총 관객수=%{customdata[1]}<extra></extra>",
         "legendgroup": "정원중",
         "marker": {
          "color": "#636efa",
          "pattern": {
           "shape": ""
          }
         },
         "name": "정원중",
         "offsetgroup": "정원중",
         "orientation": "v",
         "showlegend": true,
         "textposition": "auto",
         "type": "bar",
         "x": [
          "드라마",
          "액션",
          "코미디"
         ],
         "xaxis": "x",
         "y": [
          7,
          3,
          3
         ],
         "yaxis": "y"
        },
        {
         "alignmentgroup": "True",
         "customdata": [
          [
           "2279억",
           "2786만"
          ],
          [
           "1395억",
           "1699만"
          ],
          [
           "850억",
           "1023만"
          ],
          [
           "893억",
           "1083만"
          ]
         ],
         "hovertemplate": "배우=조우진<br>장르=%{x}<br>출연 횟수=%{y}<br>총 매출액=%{customdata[0]}<br>총 관객수=%{customdata[1]}<extra></extra>",
         "legendgroup": "조우진",
         "marker": {
          "color": "#EF553B",
          "pattern": {
           "shape": ""
          }
         },
         "name": "조우진",
         "offsetgroup": "조우진",
         "orientation": "v",
         "showlegend": true,
         "textposition": "auto",
         "type": "bar",
         "x": [
          "드라마",
          "범죄",
          "사극",
          "액션"
         ],
         "xaxis": "x",
         "y": [
          7,
          5,
          3,
          3
         ],
         "yaxis": "y"
        },
        {
         "alignmentgroup": "True",
         "customdata": [
          [
           "1963억",
           "2428만"
          ],
          [
           "2258억",
           "2791만"
          ],
          [
           "420억",
           "546만"
          ],
          [
           "2457억",
           "2962만"
          ]
         ],
         "hovertemplate": "배우=김종수<br>장르=%{x}<br>출연 횟수=%{y}<br>총 매출액=%{customdata[0]}<br>총 관객수=%{customdata[1]}<extra></extra>",
         "legendgroup": "김종수",
         "marker": {
          "color": "#00cc96",
          "pattern": {
           "shape": ""
          }
         },
         "name": "김종수",
         "offsetgroup": "김종수",
         "orientation": "v",
         "showlegend": true,
         "textposition": "auto",
         "type": "bar",
         "x": [
          "드라마",
          "범죄",
          "액션",
          "코미디"
         ],
         "xaxis": "x",
         "y": [
          7,
          7,
          3,
          4
         ],
         "yaxis": "y"
        },
        {
         "alignmentgroup": "True",
         "customdata": [
          [
           "1320억",
           "1662만"
          ]
         ],
         "hovertemplate": "배우=민진웅<br>장르=%{x}<br>출연 횟수=%{y}<br>총 매출액=%{customdata[0]}<br>총 관객수=%{customdata[1]}<extra></extra>",
         "legendgroup": "민진웅",
         "marker": {
          "color": "#ab63fa",
          "pattern": {
           "shape": ""
          }
         },
         "name": "민진웅",
         "offsetgroup": "민진웅",
         "orientation": "v",
         "showlegend": true,
         "textposition": "auto",
         "type": "bar",
         "x": [
          "드라마"
         ],
         "xaxis": "x",
         "y": [
          7
         ],
         "yaxis": "y"
        },
        {
         "alignmentgroup": "True",
         "customdata": [
          [
           "1226억",
           "1641만"
          ],
          [
           "471억",
           "572만"
          ],
          [
           "394억",
           "503만"
          ]
         ],
         "hovertemplate": "배우=김상호<br>장르=%{x}<br>출연 횟수=%{y}<br>총 매출액=%{customdata[0]}<br>총 관객수=%{customdata[1]}<extra></extra>",
         "legendgroup": "김상호",
         "marker": {
          "color": "#FFA15A",
          "pattern": {
           "shape": ""
          }
         },
         "name": "김상호",
         "offsetgroup": "김상호",
         "orientation": "v",
         "showlegend": true,
         "textposition": "auto",
         "type": "bar",
         "x": [
          "드라마",
          "범죄",
          "액션"
         ],
         "xaxis": "x",
         "y": [
          7,
          3,
          3
         ],
         "yaxis": "y"
        },
        {
         "alignmentgroup": "True",
         "customdata": [
          [
           "827억",
           "1078만"
          ],
          [
           "1036억",
           "1355만"
          ]
         ],
         "hovertemplate": "배우=김명민<br>장르=%{x}<br>출연 횟수=%{y}<br>총 매출액=%{customdata[0]}<br>총 관객수=%{customdata[1]}<extra></extra>",
         "legendgroup": "김명민",
         "marker": {
          "color": "#19d3f3",
          "pattern": {
           "shape": ""
          }
         },
         "name": "김명민",
         "offsetgroup": "김명민",
         "orientation": "v",
         "showlegend": true,
         "textposition": "auto",
         "type": "bar",
         "x": [
          "드라마",
          "코미디"
         ],
         "xaxis": "x",
         "y": [
          6,
          5
         ],
         "yaxis": "y"
        },
        {
         "alignmentgroup": "True",
         "customdata": [
          [
           "3104억",
           "3761만"
          ]
         ],
         "hovertemplate": "배우=주지훈<br>장르=%{x}<br>출연 횟수=%{y}<br>총 매출액=%{customdata[0]}<br>총 관객수=%{customdata[1]}<extra></extra>",
         "legendgroup": "주지훈",
         "marker": {
          "color": "#FF6692",
          "pattern": {
           "shape": ""
          }
         },
         "name": "주지훈",
         "offsetgroup": "주지훈",
         "orientation": "v",
         "showlegend": true,
         "textposition": "auto",
         "type": "bar",
         "x": [
          "드라마"
         ],
         "xaxis": "x",
         "y": [
          6
         ],
         "yaxis": "y"
        },
        {
         "alignmentgroup": "True",
         "customdata": [
          [
           "3070억",
           "3873만"
          ],
          [
           "2649억",
           "3334만"
          ]
         ],
         "hovertemplate": "배우=김향기<br>장르=%{x}<br>출연 횟수=%{y}<br>총 매출액=%{customdata[0]}<br>총 관객수=%{customdata[1]}<extra></extra>",
         "legendgroup": "김향기",
         "marker": {
          "color": "#B6E880",
          "pattern": {
           "shape": ""
          }
         },
         "name": "김향기",
         "offsetgroup": "김향기",
         "orientation": "v",
         "showlegend": true,
         "textposition": "auto",
         "type": "bar",
         "x": [
          "드라마",
          "판타지"
         ],
         "xaxis": "x",
         "y": [
          6,
          3
         ],
         "yaxis": "y"
        },
        {
         "alignmentgroup": "True",
         "customdata": [
          [
           "2909억",
           "3699만"
          ],
          [
           "1316억",
           "1630만"
          ]
         ],
         "hovertemplate": "배우=이병헌<br>장르=%{x}<br>출연 횟수=%{y}<br>총 매출액=%{customdata[0]}<br>총 관객수=%{customdata[1]}<extra></extra>",
         "legendgroup": "이병헌",
         "marker": {
          "color": "#FF97FF",
          "pattern": {
           "shape": ""
          }
         },
         "name": "이병헌",
         "offsetgroup": "이병헌",
         "orientation": "v",
         "showlegend": true,
         "textposition": "auto",
         "type": "bar",
         "x": [
          "드라마",
          "범죄"
         ],
         "xaxis": "x",
         "y": [
          6,
          3
         ],
         "yaxis": "y"
        },
        {
         "alignmentgroup": "True",
         "customdata": [
          [
           "2442억",
           "3368만"
          ],
          [
           "2804억",
           "3740만"
          ],
          [
           "2208억",
           "2897만"
          ],
          [
           "2779억",
           "3539만"
          ]
         ],
         "hovertemplate": "배우=류승룡<br>장르=%{x}<br>출연 횟수=%{y}<br>총 매출액=%{customdata[0]}<br>총 관객수=%{customdata[1]}<extra></extra>",
         "legendgroup": "류승룡",
         "marker": {
          "color": "#FECB52",
          "pattern": {
           "shape": ""
          }
         },
         "name": "류승룡",
         "offsetgroup": "류승룡",
         "orientation": "v",
         "showlegend": true,
         "textposition": "auto",
         "type": "bar",
         "x": [
          "드라마",
          "사극",
          "액션",
          "코미디"
         ],
         "xaxis": "x",
         "y": [
          6,
          3,
          4,
          4
         ],
         "yaxis": "y"
        },
        {
         "alignmentgroup": "True",
         "customdata": [
          [
           "2435억",
           "3227만"
          ],
          [
           "982억",
           "1242만"
          ],
          [
           "435억",
           "572만"
          ]
         ],
         "hovertemplate": "배우=장영남<br>장르=%{x}<br>출연 횟수=%{y}<br>총 매출액=%{customdata[0]}<br>총 관객수=%{customdata[1]}<extra></extra>",
         "legendgroup": "장영남",
         "marker": {
          "color": "#636efa",
          "pattern": {
           "shape": ""
          }
         },
         "name": "장영남",
         "offsetgroup": "장영남",
         "orientation": "v",
         "showlegend": true,
         "textposition": "auto",
         "type": "bar",
         "x": [
          "드라마",
          "액션",
          "코미디"
         ],
         "xaxis": "x",
         "y": [
          6,
          3,
          3
         ],
         "yaxis": "y"
        },
        {
         "alignmentgroup": "True",
         "customdata": [
          [
           "2408억",
           "3213만"
          ],
          [
           "447억",
           "598만"
          ]
         ],
         "hovertemplate": "배우=김인권<br>장르=%{x}<br>출연 횟수=%{y}<br>총 매출액=%{customdata[0]}<br>총 관객수=%{customdata[1]}<extra></extra>",
         "legendgroup": "김인권",
         "marker": {
          "color": "#EF553B",
          "pattern": {
           "shape": ""
          }
         },
         "name": "김인권",
         "offsetgroup": "김인권",
         "orientation": "v",
         "showlegend": true,
         "textposition": "auto",
         "type": "bar",
         "x": [
          "드라마",
          "코미디"
         ],
         "xaxis": "x",
         "y": [
          6,
          3
         ],
         "yaxis": "y"
        },
        {
         "alignmentgroup": "True",
         "customdata": [
          [
           "1671억",
           "2189만"
          ]
         ],
         "hovertemplate": "배우=박수영<br>장르=%{x}<br>출연 횟수=%{y}<br>총 매출액=%{customdata[0]}<br>총 관객수=%{customdata[1]}<extra></extra>",
         "legendgroup": "박수영",
         "marker": {
          "color": "#00cc96",
          "pattern": {
           "shape": ""
          }
         },
         "name": "박수영",
         "offsetgroup": "박수영",
         "orientation": "v",
         "showlegend": true,
         "textposition": "auto",
         "type": "bar",
         "x": [
          "드라마"
         ],
         "xaxis": "x",
         "y": [
          6
         ],
         "yaxis": "y"
        },
        {
         "alignmentgroup": "True",
         "customdata": [
          [
           "1595억",
           "1983만"
          ],
          [
           "1410억",
           "1799만"
          ]
         ],
         "hovertemplate": "배우=김대명<br>장르=%{x}<br>출연 횟수=%{y}<br>총 매출액=%{customdata[0]}<br>총 관객수=%{customdata[1]}<extra></extra>",
         "legendgroup": "김대명",
         "marker": {
          "color": "#ab63fa",
          "pattern": {
           "shape": ""
          }
         },
         "name": "김대명",
         "offsetgroup": "김대명",
         "orientation": "v",
         "showlegend": true,
         "textposition": "auto",
         "type": "bar",
         "x": [
          "드라마",
          "범죄"
         ],
         "xaxis": "x",
         "y": [
          6,
          5
         ],
         "yaxis": "y"
        },
        {
         "alignmentgroup": "True",
         "customdata": [
          [
           "1315억",
           "1739만"
          ],
          [
           "813억",
           "1011만"
          ]
         ],
         "hovertemplate": "배우=유승목<br>장르=%{x}<br>출연 횟수=%{y}<br>총 매출액=%{customdata[0]}<br>총 관객수=%{customdata[1]}<extra></extra>",
         "legendgroup": "유승목",
         "marker": {
          "color": "#FFA15A",
          "pattern": {
           "shape": ""
          }
         },
         "name": "유승목",
         "offsetgroup": "유승목",
         "orientation": "v",
         "showlegend": true,
         "textposition": "auto",
         "type": "bar",
         "x": [
          "드라마",
          "액션"
         ],
         "xaxis": "x",
         "y": [
          6,
          4
         ],
         "yaxis": "y"
        },
        {
         "alignmentgroup": "True",
         "customdata": [
          [
           "1171억",
           "1513만"
          ],
          [
           "697억",
           "902만"
          ]
         ],
         "hovertemplate": "배우=강신일<br>장르=%{x}<br>출연 횟수=%{y}<br>총 매출액=%{customdata[0]}<br>총 관객수=%{customdata[1]}<extra></extra>",
         "legendgroup": "강신일",
         "marker": {
          "color": "#19d3f3",
          "pattern": {
           "shape": ""
          }
         },
         "name": "강신일",
         "offsetgroup": "강신일",
         "orientation": "v",
         "showlegend": true,
         "textposition": "auto",
         "type": "bar",
         "x": [
          "드라마",
          "스릴러"
         ],
         "xaxis": "x",
         "y": [
          6,
          3
         ],
         "yaxis": "y"
        },
        {
         "alignmentgroup": "True",
         "customdata": [
          [
           "1086억",
           "1378만"
          ],
          [
           "1264억",
           "1632만"
          ]
         ],
         "hovertemplate": "배우=김응수<br>장르=%{x}<br>출연 횟수=%{y}<br>총 매출액=%{customdata[0]}<br>총 관객수=%{customdata[1]}<extra></extra>",
         "legendgroup": "김응수",
         "marker": {
          "color": "#FF6692",
          "pattern": {
           "shape": ""
          }
         },
         "name": "김응수",
         "offsetgroup": "김응수",
         "orientation": "v",
         "showlegend": true,
         "textposition": "auto",
         "type": "bar",
         "x": [
          "드라마",
          "코미디"
         ],
         "xaxis": "x",
         "y": [
          6,
          5
         ],
         "yaxis": "y"
        },
        {
         "alignmentgroup": "True",
         "customdata": [
          [
           "936억",
           "1266만"
          ],
          [
           "1037억",
           "1345만"
          ],
          [
           "424억",
           "587만"
          ]
         ],
         "hovertemplate": "배우=김희원<br>장르=%{x}<br>출연 횟수=%{y}<br>총 매출액=%{customdata[0]}<br>총 관객수=%{customdata[1]}<extra></extra>",
         "legendgroup": "김희원",
         "marker": {
          "color": "#B6E880",
          "pattern": {
           "shape": ""
          }
         },
         "name": "김희원",
         "offsetgroup": "김희원",
         "orientation": "v",
         "showlegend": true,
         "textposition": "auto",
         "type": "bar",
         "x": [
          "드라마",
          "액션",
          "코미디"
         ],
         "xaxis": "x",
         "y": [
          5,
          5,
          4
         ],
         "yaxis": "y"
        },
        {
         "alignmentgroup": "True",
         "customdata": [
          [
           "936억",
           "1256만"
          ]
         ],
         "hovertemplate": "배우=이제훈<br>장르=%{x}<br>출연 횟수=%{y}<br>총 매출액=%{customdata[0]}<br>총 관객수=%{customdata[1]}<extra></extra>",
         "legendgroup": "이제훈",
         "marker": {
          "color": "#FF97FF",
          "pattern": {
           "shape": ""
          }
         },
         "name": "이제훈",
         "offsetgroup": "이제훈",
         "orientation": "v",
         "showlegend": true,
         "textposition": "auto",
         "type": "bar",
         "x": [
          "드라마"
         ],
         "xaxis": "x",
         "y": [
          5
         ],
         "yaxis": "y"
        },
        {
         "alignmentgroup": "True",
         "customdata": [
          [
           "862억",
           "1117만"
          ],
          [
           "601억",
           "811만"
          ],
          [
           "2114억",
           "2592만"
          ]
         ],
         "hovertemplate": "배우=오정세<br>장르=%{x}<br>출연 횟수=%{y}<br>총 매출액=%{customdata[0]}<br>총 관객수=%{customdata[1]}<extra></extra>",
         "legendgroup": "오정세",
         "marker": {
          "color": "#FECB52",
          "pattern": {
           "shape": ""
          }
         },
         "name": "오정세",
         "offsetgroup": "오정세",
         "orientation": "v",
         "showlegend": true,
         "textposition": "auto",
         "type": "bar",
         "x": [
          "드라마",
          "액션",
          "코미디"
         ],
         "xaxis": "x",
         "y": [
          5,
          4,
          5
         ],
         "yaxis": "y"
        },
        {
         "alignmentgroup": "True",
         "customdata": [
          [
           "779억",
           "1006만"
          ],
          [
           "587억",
           "764만"
          ]
         ],
         "hovertemplate": "배우=강하늘<br>장르=%{x}<br>출연 횟수=%{y}<br>총 매출액=%{customdata[0]}<br>총 관객수=%{customdata[1]}<extra></extra>",
         "legendgroup": "강하늘",
         "marker": {
          "color": "#636efa",
          "pattern": {
           "shape": ""
          }
         },
         "name": "강하늘",
         "offsetgroup": "강하늘",
         "orientation": "v",
         "showlegend": true,
         "textposition": "auto",
         "type": "bar",
         "x": [
          "드라마",
          "코미디"
         ],
         "xaxis": "x",
         "y": [
          5,
          4
         ],
         "yaxis": "y"
        },
        {
         "alignmentgroup": "True",
         "customdata": [
          [
           "579억",
           "728만"
          ]
         ],
         "hovertemplate": "배우=김고은<br>장르=%{x}<br>출연 횟수=%{y}<br>총 매출액=%{customdata[0]}<br>총 관객수=%{customdata[1]}<extra></extra>",
         "legendgroup": "김고은",
         "marker": {
          "color": "#EF553B",
          "pattern": {
           "shape": ""
          }
         },
         "name": "김고은",
         "offsetgroup": "김고은",
         "orientation": "v",
         "showlegend": true,
         "textposition": "auto",
         "type": "bar",
         "x": [
          "드라마"
         ],
         "xaxis": "x",
         "y": [
          5
         ],
         "yaxis": "y"
        },
        {
         "alignmentgroup": "True",
         "customdata": [
          [
           "2341억",
           "2794만"
          ]
         ],
         "hovertemplate": "배우=조한철<br>장르=%{x}<br>출연 횟수=%{y}<br>총 매출액=%{customdata[0]}<br>총 관객수=%{customdata[1]}<extra></extra>",
         "legendgroup": "조한철",
         "marker": {
          "color": "#00cc96",
          "pattern": {
           "shape": ""
          }
         },
         "name": "조한철",
         "offsetgroup": "조한철",
         "orientation": "v",
         "showlegend": true,
         "textposition": "auto",
         "type": "bar",
         "x": [
          "드라마"
         ],
         "xaxis": "x",
         "y": [
          5
         ],
         "yaxis": "y"
        },
        {
         "alignmentgroup": "True",
         "customdata": [
          [
           "2266억",
           "3104만"
          ]
         ],
         "hovertemplate": "배우=심은경<br>장르=%{x}<br>출연 횟수=%{y}<br>총 매출액=%{customdata[0]}<br>총 관객수=%{customdata[1]}<extra></extra>",
         "legendgroup": "심은경",
         "marker": {
          "color": "#ab63fa",
          "pattern": {
           "shape": ""
          }
         },
         "name": "심은경",
         "offsetgroup": "심은경",
         "orientation": "v",
         "showlegend": true,
         "textposition": "auto",
         "type": "bar",
         "x": [
          "드라마"
         ],
         "xaxis": "x",
         "y": [
          5
         ],
         "yaxis": "y"
        },
        {
         "alignmentgroup": "True",
         "customdata": [
          [
           "2105억",
           "2670만"
          ],
          [
           "2256억",
           "2912만"
          ]
         ],
         "hovertemplate": "배우=김홍파<br>장르=%{x}<br>출연 횟수=%{y}<br>총 매출액=%{customdata[0]}<br>총 관객수=%{customdata[1]}<extra></extra>",
         "legendgroup": "김홍파",
         "marker": {
          "color": "#FFA15A",
          "pattern": {
           "shape": ""
          }
         },
         "name": "김홍파",
         "offsetgroup": "김홍파",
         "orientation": "v",
         "showlegend": true,
         "textposition": "auto",
         "type": "bar",
         "x": [
          "드라마",
          "범죄"
         ],
         "xaxis": "x",
         "y": [
          5,
          5
         ],
         "yaxis": "y"
        },
        {
         "alignmentgroup": "True",
         "customdata": [
          [
           "2023억",
           "2576만"
          ]
         ],
         "hovertemplate": "배우=전배수<br>장르=%{x}<br>출연 횟수=%{y}<br>총 매출액=%{customdata[0]}<br>총 관객수=%{customdata[1]}<extra></extra>",
         "legendgroup": "전배수",
         "marker": {
          "color": "#19d3f3",
          "pattern": {
           "shape": ""
          }
         },
         "name": "전배수",
         "offsetgroup": "전배수",
         "orientation": "v",
         "showlegend": true,
         "textposition": "auto",
         "type": "bar",
         "x": [
          "드라마"
         ],
         "xaxis": "x",
         "y": [
          5
         ],
         "yaxis": "y"
        },
        {
         "alignmentgroup": "True",
         "customdata": [
          [
           "1948억",
           "2530만"
          ]
         ],
         "hovertemplate": "배우=유아인<br>장르=%{x}<br>출연 횟수=%{y}<br>총 매출액=%{customdata[0]}<br>총 관객수=%{customdata[1]}<extra></extra>",
         "legendgroup": "유아인",
         "marker": {
          "color": "#FF6692",
          "pattern": {
           "shape": ""
          }
         },
         "name": "유아인",
         "offsetgroup": "유아인",
         "orientation": "v",
         "showlegend": true,
         "textposition": "auto",
         "type": "bar",
         "x": [
          "드라마"
         ],
         "xaxis": "x",
         "y": [
          5
         ],
         "yaxis": "y"
        },
        {
         "alignmentgroup": "True",
         "customdata": [
          [
           "1864억",
           "2397만"
          ],
          [
           "658억",
           "818만"
          ]
         ],
         "hovertemplate": "배우=정진영<br>장르=%{x}<br>출연 횟수=%{y}<br>총 매출액=%{customdata[0]}<br>총 관객수=%{customdata[1]}<extra></extra>",
         "legendgroup": "정진영",
         "marker": {
          "color": "#B6E880",
          "pattern": {
           "shape": ""
          }
         },
         "name": "정진영",
         "offsetgroup": "정진영",
         "orientation": "v",
         "showlegend": true,
         "textposition": "auto",
         "type": "bar",
         "x": [
          "드라마",
          "스릴러"
         ],
         "xaxis": "x",
         "y": [
          5,
          3
         ],
         "yaxis": "y"
        },
        {
         "alignmentgroup": "True",
         "customdata": [
          [
           "1855억",
           "2362만"
          ],
          [
           "1902억",
           "2437만"
          ],
          [
           "1036억",
           "1347만"
          ]
         ],
         "hovertemplate": "배우=김병옥<br>장르=%{x}<br>출연 횟수=%{y}<br>총 매출액=%{customdata[0]}<br>총 관객수=%{customdata[1]}<extra></extra>",
         "legendgroup": "김병옥",
         "marker": {
          "color": "#FF97FF",
          "pattern": {
           "shape": ""
          }
         },
         "name": "김병옥",
         "offsetgroup": "김병옥",
         "orientation": "v",
         "showlegend": true,
         "textposition": "auto",
         "type": "bar",
         "x": [
          "드라마",
          "범죄",
          "액션"
         ],
         "xaxis": "x",
         "y": [
          5,
          4,
          3
         ],
         "yaxis": "y"
        },
        {
         "alignmentgroup": "True",
         "customdata": [
          [
           "1852억",
           "2271만"
          ]
         ],
         "hovertemplate": "배우=이봉련<br>장르=%{x}<br>출연 횟수=%{y}<br>총 매출액=%{customdata[0]}<br>총 관객수=%{customdata[1]}<extra></extra>",
         "legendgroup": "이봉련",
         "marker": {
          "color": "#FECB52",
          "pattern": {
           "shape": ""
          }
         },
         "name": "이봉련",
         "offsetgroup": "이봉련",
         "orientation": "v",
         "showlegend": true,
         "textposition": "auto",
         "type": "bar",
         "x": [
          "드라마"
         ],
         "xaxis": "x",
         "y": [
          5
         ],
         "yaxis": "y"
        },
        {
         "alignmentgroup": "True",
         "customdata": [
          [
           "1581억",
           "2055만"
          ]
         ],
         "hovertemplate": "배우=백윤식<br>장르=%{x}<br>출연 횟수=%{y}<br>총 매출액=%{customdata[0]}<br>총 관객수=%{customdata[1]}<extra></extra>",
         "legendgroup": "백윤식",
         "marker": {
          "color": "#636efa",
          "pattern": {
           "shape": ""
          }
         },
         "name": "백윤식",
         "offsetgroup": "백윤식",
         "orientation": "v",
         "showlegend": true,
         "textposition": "auto",
         "type": "bar",
         "x": [
          "드라마"
         ],
         "xaxis": "x",
         "y": [
          5
         ],
         "yaxis": "y"
        },
        {
         "alignmentgroup": "True",
         "customdata": [
          [
           "1493억",
           "1869만"
          ]
         ],
         "hovertemplate": "배우=남문철<br>장르=%{x}<br>출연 횟수=%{y}<br>총 매출액=%{customdata[0]}<br>총 관객수=%{customdata[1]}<extra></extra>",
         "legendgroup": "남문철",
         "marker": {
          "color": "#EF553B",
          "pattern": {
           "shape": ""
          }
         },
         "name": "남문철",
         "offsetgroup": "남문철",
         "orientation": "v",
         "showlegend": true,
         "textposition": "auto",
         "type": "bar",
         "x": [
          "드라마"
         ],
         "xaxis": "x",
         "y": [
          5
         ],
         "yaxis": "y"
        },
        {
         "alignmentgroup": "True",
         "customdata": [
          [
           "1340억",
           "1620만"
          ],
          [
           "1283억",
           "1633만"
          ]
         ],
         "hovertemplate": "배우=김소진<br>장르=%{x}<br>출연 횟수=%{y}<br>총 매출액=%{customdata[0]}<br>총 관객수=%{customdata[1]}<extra></extra>",
         "legendgroup": "김소진",
         "marker": {
          "color": "#00cc96",
          "pattern": {
           "shape": ""
          }
         },
         "name": "김소진",
         "offsetgroup": "김소진",
         "orientation": "v",
         "showlegend": true,
         "textposition": "auto",
         "type": "bar",
         "x": [
          "드라마",
          "범죄"
         ],
         "xaxis": "x",
         "y": [
          5,
          4
         ],
         "yaxis": "y"
        },
        {
         "alignmentgroup": "True",
         "customdata": [
          [
           "1292억",
           "1645만"
          ]
         ],
         "hovertemplate": "배우=이희준<br>장르=%{x}<br>출연 횟수=%{y}<br>총 매출액=%{customdata[0]}<br>총 관객수=%{customdata[1]}<extra></extra>",
         "legendgroup": "이희준",
         "marker": {
          "color": "#ab63fa",
          "pattern": {
           "shape": ""
          }
         },
         "name": "이희준",
         "offsetgroup": "이희준",
         "orientation": "v",
         "showlegend": true,
         "textposition": "auto",
         "type": "bar",
         "x": [
          "드라마"
         ],
         "xaxis": "x",
         "y": [
          5
         ],
         "yaxis": "y"
        },
        {
         "alignmentgroup": "True",
         "customdata": [
          [
           "1225억",
           "1612만"
          ],
          [
           "1468억",
           "1824만"
          ],
          [
           "1358억",
           "1743만"
          ]
         ],
         "hovertemplate": "배우=강동원<br>장르=%{x}<br>출연 횟수=%{y}<br>총 매출액=%{customdata[0]}<br>총 관객수=%{customdata[1]}<extra></extra>",
         "legendgroup": "강동원",
         "marker": {
          "color": "#FFA15A",
          "pattern": {
           "shape": ""
          }
         },
         "name": "강동원",
         "offsetgroup": "강동원",
         "orientation": "v",
         "showlegend": true,
         "textposition": "auto",
         "type": "bar",
         "x": [
          "드라마",
          "범죄",
          "액션"
         ],
         "xaxis": "x",
         "y": [
          5,
          3,
          3
         ],
         "yaxis": "y"
        },
        {
         "alignmentgroup": "True",
         "customdata": [
          [
           "1222억",
           "1538만"
          ],
          [
           "912억",
           "1094만"
          ]
         ],
         "hovertemplate": "배우=남명렬<br>장르=%{x}<br>출연 횟수=%{y}<br>총 매출액=%{customdata[0]}<br>총 관객수=%{customdata[1]}<extra></extra>",
         "legendgroup": "남명렬",
         "marker": {
          "color": "#19d3f3",
          "pattern": {
           "shape": ""
          }
         },
         "name": "남명렬",
         "offsetgroup": "남명렬",
         "orientation": "v",
         "showlegend": true,
         "textposition": "auto",
         "type": "bar",
         "x": [
          "드라마",
          "범죄"
         ],
         "xaxis": "x",
         "y": [
          5,
          3
         ],
         "yaxis": "y"
        },
        {
         "alignmentgroup": "True",
         "customdata": [
          [
           "1179억",
           "1609만"
          ],
          [
           "1033억",
           "1352만"
          ]
         ],
         "hovertemplate": "배우=권태원<br>장르=%{x}<br>출연 횟수=%{y}<br>총 매출액=%{customdata[0]}<br>총 관객수=%{customdata[1]}<extra></extra>",
         "legendgroup": "권태원",
         "marker": {
          "color": "#FF6692",
          "pattern": {
           "shape": ""
          }
         },
         "name": "권태원",
         "offsetgroup": "권태원",
         "orientation": "v",
         "showlegend": true,
         "textposition": "auto",
         "type": "bar",
         "x": [
          "드라마",
          "범죄"
         ],
         "xaxis": "x",
         "y": [
          5,
          4
         ],
         "yaxis": "y"
        },
        {
         "alignmentgroup": "True",
         "customdata": [
          [
           "1107억",
           "1525만"
          ]
         ],
         "hovertemplate": "배우=이종석<br>장르=%{x}<br>출연 횟수=%{y}<br>총 매출액=%{customdata[0]}<br>총 관객수=%{customdata[1]}<extra></extra>",
         "legendgroup": "이종석",
         "marker": {
          "color": "#B6E880",
          "pattern": {
           "shape": ""
          }
         },
         "name": "이종석",
         "offsetgroup": "이종석",
         "orientation": "v",
         "showlegend": true,
         "textposition": "auto",
         "type": "bar",
         "x": [
          "드라마"
         ],
         "xaxis": "x",
         "y": [
          5
         ],
         "yaxis": "y"
        },
        {
         "alignmentgroup": "True",
         "customdata": [
          [
           "996억",
           "1349만"
          ]
         ],
         "hovertemplate": "배우=박효주<br>장르=%{x}<br>출연 횟수=%{y}<br>총 매출액=%{customdata[0]}<br>총 관객수=%{customdata[1]}<extra></extra>",
         "legendgroup": "박효주",
         "marker": {
          "color": "#FF97FF",
          "pattern": {
           "shape": ""
          }
         },
         "name": "박효주",
         "offsetgroup": "박효주",
         "orientation": "v",
         "showlegend": true,
         "textposition": "auto",
         "type": "bar",
         "x": [
          "드라마"
         ],
         "xaxis": "x",
         "y": [
          4
         ],
         "yaxis": "y"
        },
        {
         "alignmentgroup": "True",
         "customdata": [
          [
           "956억",
           "1221만"
          ],
          [
           "816억",
           "1027만"
          ],
          [
           "434억",
           "577만"
          ]
         ],
         "hovertemplate": "배우=박진우<br>장르=%{x}<br>출연 횟수=%{y}<br>총 매출액=%{customdata[0]}<br>총 관객수=%{customdata[1]}<extra></extra>",
         "legendgroup": "박진우",
         "marker": {
          "color": "#FECB52",
          "pattern": {
           "shape": ""
          }
         },
         "name": "박진우",
         "offsetgroup": "박진우",
         "orientation": "v",
         "showlegend": true,
         "textposition": "auto",
         "type": "bar",
         "x": [
          "드라마",
          "범죄",
          "액션"
         ],
         "xaxis": "x",
         "y": [
          4,
          3,
          4
         ],
         "yaxis": "y"
        },
        {
         "alignmentgroup": "True",
         "customdata": [
          [
           "932억",
           "1272만"
          ],
          [
           "1010억",
           "1230만"
          ],
          [
           "1009억",
           "1316만"
          ]
         ],
         "hovertemplate": "배우=조영진<br>장르=%{x}<br>출연 횟수=%{y}<br>총 매출액=%{customdata[0]}<br>총 관객수=%{customdata[1]}<extra></extra>",
         "legendgroup": "조영진",
         "marker": {
          "color": "#636efa",
          "pattern": {
           "shape": ""
          }
         },
         "name": "조영진",
         "offsetgroup": "조영진",
         "orientation": "v",
         "showlegend": true,
         "textposition": "auto",
         "type": "bar",
         "x": [
          "드라마",
          "범죄",
          "액션"
         ],
         "xaxis": "x",
         "y": [
          4,
          5,
          3
         ],
         "yaxis": "y"
        },
        {
         "alignmentgroup": "True",
         "customdata": [
          [
           "922억",
           "1152만"
          ],
          [
           "475억",
           "580만"
          ],
          [
           "600억",
           "790만"
          ]
         ],
         "hovertemplate": "배우=최병모<br>장르=%{x}<br>출연 횟수=%{y}<br>총 매출액=%{customdata[0]}<br>총 관객수=%{customdata[1]}<extra></extra>",
         "legendgroup": "최병모",
         "marker": {
          "color": "#EF553B",
          "pattern": {
           "shape": ""
          }
         },
         "name": "최병모",
         "offsetgroup": "최병모",
         "orientation": "v",
         "showlegend": true,
         "textposition": "auto",
         "type": "bar",
         "x": [
          "드라마",
          "범죄",
          "액션"
         ],
         "xaxis": "x",
         "y": [
          4,
          3,
          3
         ],
         "yaxis": "y"
        },
        {
         "alignmentgroup": "True",
         "customdata": [
          [
           "898억",
           "1099만"
          ]
         ],
         "hovertemplate": "배우=염정아<br>장르=%{x}<br>출연 횟수=%{y}<br>총 매출액=%{customdata[0]}<br>총 관객수=%{customdata[1]}<extra></extra>",
         "legendgroup": "염정아",
         "marker": {
          "color": "#00cc96",
          "pattern": {
           "shape": ""
          }
         },
         "name": "염정아",
         "offsetgroup": "염정아",
         "orientation": "v",
         "showlegend": true,
         "textposition": "auto",
         "type": "bar",
         "x": [
          "드라마"
         ],
         "xaxis": "x",
         "y": [
          4
         ],
         "yaxis": "y"
        },
        {
         "alignmentgroup": "True",
         "customdata": [
          [
           "895억",
           "1129만"
          ],
          [
           "563억",
           "746만"
          ]
         ],
         "hovertemplate": "배우=윤제문<br>장르=%{x}<br>출연 횟수=%{y}<br>총 매출액=%{customdata[0]}<br>총 관객수=%{customdata[1]}<extra></extra>",
         "legendgroup": "윤제문",
         "marker": {
          "color": "#ab63fa",
          "pattern": {
           "shape": ""
          }
         },
         "name": "윤제문",
         "offsetgroup": "윤제문",
         "orientation": "v",
         "showlegend": true,
         "textposition": "auto",
         "type": "bar",
         "x": [
          "드라마",
          "액션"
         ],
         "xaxis": "x",
         "y": [
          4,
          3
         ],
         "yaxis": "y"
        },
        {
         "alignmentgroup": "True",
         "customdata": [
          [
           "818억",
           "1081만"
          ]
         ],
         "hovertemplate": "배우=고수<br>장르=%{x}<br>출연 횟수=%{y}<br>총 매출액=%{customdata[0]}<br>총 관객수=%{customdata[1]}<extra></extra>",
         "legendgroup": "고수",
         "marker": {
          "color": "#FFA15A",
          "pattern": {
           "shape": ""
          }
         },
         "name": "고수",
         "offsetgroup": "고수",
         "orientation": "v",
         "showlegend": true,
         "textposition": "auto",
         "type": "bar",
         "x": [
          "드라마"
         ],
         "xaxis": "x",
         "y": [
          4
         ],
         "yaxis": "y"
        },
        {
         "alignmentgroup": "True",
         "customdata": [
          [
           "817억",
           "1149만"
          ],
          [
           "1044억",
           "1437만"
          ],
          [
           "1057억",
           "1493만"
          ]
         ],
         "hovertemplate": "배우=신정근<br>장르=%{x}<br>출연 횟수=%{y}<br>총 매출액=%{customdata[0]}<br>총 관객수=%{customdata[1]}<extra></extra>",
         "legendgroup": "신정근",
         "marker": {
          "color": "#19d3f3",
          "pattern": {
           "shape": ""
          }
         },
         "name": "신정근",
         "offsetgroup": "신정근",
         "orientation": "v",
         "showlegend": true,
         "textposition": "auto",
         "type": "bar",
         "x": [
          "드라마",
          "액션",
          "코미디"
         ],
         "xaxis": "x",
         "y": [
          4,
          5,
          4
         ],
         "yaxis": "y"
        },
        {
         "alignmentgroup": "True",
         "customdata": [
          [
           "815억",
           "1062만"
          ]
         ],
         "hovertemplate": "배우=김해숙<br>장르=%{x}<br>출연 횟수=%{y}<br>총 매출액=%{customdata[0]}<br>총 관객수=%{customdata[1]}<extra></extra>",
         "legendgroup": "김해숙",
         "marker": {
          "color": "#FF6692",
          "pattern": {
           "shape": ""
          }
         },
         "name": "김해숙",
         "offsetgroup": "김해숙",
         "orientation": "v",
         "showlegend": true,
         "textposition": "auto",
         "type": "bar",
         "x": [
          "드라마"
         ],
         "xaxis": "x",
         "y": [
          4
         ],
         "yaxis": "y"
        },
        {
         "alignmentgroup": "True",
         "customdata": [
          [
           "763억",
           "1032만"
          ],
          [
           "779억",
           "1081만"
          ]
         ],
         "hovertemplate": "배우=설경구<br>장르=%{x}<br>출연 횟수=%{y}<br>총 매출액=%{customdata[0]}<br>총 관객수=%{customdata[1]}<extra></extra>",
         "legendgroup": "설경구",
         "marker": {
          "color": "#B6E880",
          "pattern": {
           "shape": ""
          }
         },
         "name": "설경구",
         "offsetgroup": "설경구",
         "orientation": "v",
         "showlegend": true,
         "textposition": "auto",
         "type": "bar",
         "x": [
          "드라마",
          "액션"
         ],
         "xaxis": "x",
         "y": [
          4,
          3
         ],
         "yaxis": "y"
        },
        {
         "alignmentgroup": "True",
         "customdata": [
          [
           "694억",
           "919만"
          ],
          [
           "436억",
           "578만"
          ]
         ],
         "hovertemplate": "배우=유준상<br>장르=%{x}<br>출연 횟수=%{y}<br>총 매출액=%{customdata[0]}<br>총 관객수=%{customdata[1]}<extra></extra>",
         "legendgroup": "유준상",
         "marker": {
          "color": "#FF97FF",
          "pattern": {
           "shape": ""
          }
         },
         "name": "유준상",
         "offsetgroup": "유준상",
         "orientation": "v",
         "showlegend": true,
         "textposition": "auto",
         "type": "bar",
         "x": [
          "드라마",
          "액션"
         ],
         "xaxis": "x",
         "y": [
          4,
          3
         ],
         "yaxis": "y"
        },
        {
         "alignmentgroup": "True",
         "customdata": [
          [
           "629억",
           "761만"
          ],
          [
           "1272억",
           "1527만"
          ]
         ],
         "hovertemplate": "배우=진선규<br>장르=%{x}<br>출연 횟수=%{y}<br>총 매출액=%{customdata[0]}<br>총 관객수=%{customdata[1]}<extra></extra>",
         "legendgroup": "진선규",
         "marker": {
          "color": "#FECB52",
          "pattern": {
           "shape": ""
          }
         },
         "name": "진선규",
         "offsetgroup": "진선규",
         "orientation": "v",
         "showlegend": true,
         "textposition": "auto",
         "type": "bar",
         "x": [
          "드라마",
          "범죄"
         ],
         "xaxis": "x",
         "y": [
          4,
          4
         ],
         "yaxis": "y"
        },
        {
         "alignmentgroup": "True",
         "customdata": [
          [
           "604억",
           "779만"
          ]
         ],
         "hovertemplate": "배우=권병길<br>장르=%{x}<br>출연 횟수=%{y}<br>총 매출액=%{customdata[0]}<br>총 관객수=%{customdata[1]}<extra></extra>",
         "legendgroup": "권병길",
         "marker": {
          "color": "#636efa",
          "pattern": {
           "shape": ""
          }
         },
         "name": "권병길",
         "offsetgroup": "권병길",
         "orientation": "v",
         "showlegend": true,
         "textposition": "auto",
         "type": "bar",
         "x": [
          "드라마"
         ],
         "xaxis": "x",
         "y": [
          4
         ],
         "yaxis": "y"
        },
        {
         "alignmentgroup": "True",
         "customdata": [
          [
           "570억",
           "709만"
          ],
          [
           "373억",
           "486만"
          ]
         ],
         "hovertemplate": "배우=권해효<br>장르=%{x}<br>출연 횟수=%{y}<br>총 매출액=%{customdata[0]}<br>총 관객수=%{customdata[1]}<extra></extra>",
         "legendgroup": "권해효",
         "marker": {
          "color": "#EF553B",
          "pattern": {
           "shape": ""
          }
         },
         "name": "권해효",
         "offsetgroup": "권해효",
         "orientation": "v",
         "showlegend": true,
         "textposition": "auto",
         "type": "bar",
         "x": [
          "드라마",
          "코미디"
         ],
         "xaxis": "x",
         "y": [
          4,
          3
         ],
         "yaxis": "y"
        },
        {
         "alignmentgroup": "True",
         "customdata": [
          [
           "468억",
           "575만"
          ],
          [
           "385억",
           "462만"
          ]
         ],
         "hovertemplate": "배우=유재명<br>장르=%{x}<br>출연 횟수=%{y}<br>총 매출액=%{customdata[0]}<br>총 관객수=%{customdata[1]}<extra></extra>",
         "legendgroup": "유재명",
         "marker": {
          "color": "#00cc96",
          "pattern": {
           "shape": ""
          }
         },
         "name": "유재명",
         "offsetgroup": "유재명",
         "orientation": "v",
         "showlegend": true,
         "textposition": "auto",
         "type": "bar",
         "x": [
          "드라마",
          "범죄"
         ],
         "xaxis": "x",
         "y": [
          4,
          3
         ],
         "yaxis": "y"
        },
        {
         "alignmentgroup": "True",
         "customdata": [
          [
           "386억",
           "507만"
          ]
         ],
         "hovertemplate": "배우=김강우<br>장르=%{x}<br>출연 횟수=%{y}<br>총 매출액=%{customdata[0]}<br>총 관객수=%{customdata[1]}<extra></extra>",
         "legendgroup": "김강우",
         "marker": {
          "color": "#ab63fa",
          "pattern": {
           "shape": ""
          }
         },
         "name": "김강우",
         "offsetgroup": "김강우",
         "orientation": "v",
         "showlegend": true,
         "textposition": "auto",
         "type": "bar",
         "x": [
          "드라마"
         ],
         "xaxis": "x",
         "y": [
          4
         ],
         "yaxis": "y"
        },
        {
         "alignmentgroup": "True",
         "customdata": [
          [
           "2535억",
           "3113만"
          ]
         ],
         "hovertemplate": "배우=도경수<br>장르=%{x}<br>출연 횟수=%{y}<br>총 매출액=%{customdata[0]}<br>총 관객수=%{customdata[1]}<extra></extra>",
         "legendgroup": "도경수",
         "marker": {
          "color": "#FFA15A",
          "pattern": {
           "shape": ""
          }
         },
         "name": "도경수",
         "offsetgroup": "도경수",
         "orientation": "v",
         "showlegend": true,
         "textposition": "auto",
         "type": "bar",
         "x": [
          "드라마"
         ],
         "xaxis": "x",
         "y": [
          4
         ],
         "yaxis": "y"
        },
        {
         "alignmentgroup": "True",
         "customdata": [
          [
           "1918억",
           "2379만"
          ],
          [
           "1310억",
           "1559만"
          ],
          [
           "992억",
           "1167만"
          ]
         ],
         "hovertemplate": "배우=류준열<br>장르=%{x}<br>출연 횟수=%{y}<br>총 매출액=%{customdata[0]}<br>총 관객수=%{customdata[1]}<extra></extra>",
         "legendgroup": "류준열",
         "marker": {
          "color": "#19d3f3",
          "pattern": {
           "shape": ""
          }
         },
         "name": "류준열",
         "offsetgroup": "류준열",
         "orientation": "v",
         "showlegend": true,
         "textposition": "auto",
         "type": "bar",
         "x": [
          "드라마",
          "범죄",
          "액션"
         ],
         "xaxis": "x",
         "y": [
          4,
          4,
          3
         ],
         "yaxis": "y"
        },
        {
         "alignmentgroup": "True",
         "customdata": [
          [
           "1743억",
           "2329만"
          ],
          [
           "1536억",
           "1896만"
          ],
          [
           "1101억",
           "1394만"
          ]
         ],
         "hovertemplate": "배우=조재윤<br>장르=%{x}<br>출연 횟수=%{y}<br>총 매출액=%{customdata[0]}<br>총 관객수=%{customdata[1]}<extra></extra>",
         "legendgroup": "조재윤",
         "marker": {
          "color": "#FF6692",
          "pattern": {
           "shape": ""
          }
         },
         "name": "조재윤",
         "offsetgroup": "조재윤",
         "orientation": "v",
         "showlegend": true,
         "textposition": "auto",
         "type": "bar",
         "x": [
          "드라마",
          "범죄",
          "액션"
         ],
         "xaxis": "x",
         "y": [
          4,
          4,
          3
         ],
         "yaxis": "y"
        },
        {
         "alignmentgroup": "True",
         "customdata": [
          [
           "1698억",
           "2170만"
          ],
          [
           "2083억",
           "2673만"
          ],
          [
           "2078억",
           "2473만"
          ]
         ],
         "hovertemplate": "배우=이동휘<br>장르=%{x}<br>출연 횟수=%{y}<br>총 매출액=%{customdata[0]}<br>총 관객수=%{customdata[1]}<extra></extra>",
         "legendgroup": "이동휘",
         "marker": {
          "color": "#B6E880",
          "pattern": {
           "shape": ""
          }
         },
         "name": "이동휘",
         "offsetgroup": "이동휘",
         "orientation": "v",
         "showlegend": true,
         "textposition": "auto",
         "type": "bar",
         "x": [
          "드라마",
          "액션",
          "코미디"
         ],
         "xaxis": "x",
         "y": [
          4,
          3,
          3
         ],
         "yaxis": "y"
        },
        {
         "alignmentgroup": "True",
         "customdata": [
          [
           "1545억",
           "1999만"
          ]
         ],
         "hovertemplate": "배우=박혁권<br>장르=%{x}<br>출연 횟수=%{y}<br>총 매출액=%{customdata[0]}<br>총 관객수=%{customdata[1]}<extra></extra>",
         "legendgroup": "박혁권",
         "marker": {
          "color": "#FF97FF",
          "pattern": {
           "shape": ""
          }
         },
         "name": "박혁권",
         "offsetgroup": "박혁권",
         "orientation": "v",
         "showlegend": true,
         "textposition": "auto",
         "type": "bar",
         "x": [
          "드라마"
         ],
         "xaxis": "x",
         "y": [
          4
         ],
         "yaxis": "y"
        },
        {
         "alignmentgroup": "True",
         "customdata": [
          [
           "1457억",
           "1837만"
          ],
          [
           "2296억",
           "3038만"
          ]
         ],
         "hovertemplate": "배우=예수정<br>장르=%{x}<br>출연 횟수=%{y}<br>총 매출액=%{customdata[0]}<br>총 관객수=%{customdata[1]}<extra></extra>",
         "legendgroup": "예수정",
         "marker": {
          "color": "#FECB52",
          "pattern": {
           "shape": ""
          }
         },
         "name": "예수정",
         "offsetgroup": "예수정",
         "orientation": "v",
         "showlegend": true,
         "textposition": "auto",
         "type": "bar",
         "x": [
          "드라마",
          "액션"
         ],
         "xaxis": "x",
         "y": [
          4,
          4
         ],
         "yaxis": "y"
        },
        {
         "alignmentgroup": "True",
         "customdata": [
          [
           "1355억",
           "1809만"
          ],
          [
           "1189억",
           "1454만"
          ]
         ],
         "hovertemplate": "배우=조정석<br>장르=%{x}<br>출연 횟수=%{y}<br>총 매출액=%{customdata[0]}<br>총 관객수=%{customdata[1]}<extra></extra>",
         "legendgroup": "조정석",
         "marker": {
          "color": "#636efa",
          "pattern": {
           "shape": ""
          }
         },
         "name": "조정석",
         "offsetgroup": "조정석",
         "orientation": "v",
         "showlegend": true,
         "textposition": "auto",
         "type": "bar",
         "x": [
          "드라마",
          "코미디"
         ],
         "xaxis": "x",
         "y": [
          4,
          3
         ],
         "yaxis": "y"
        },
        {
         "alignmentgroup": "True",
         "customdata": [
          [
           "1304억",
           "1657만"
          ]
         ],
         "hovertemplate": "배우=남일우<br>장르=%{x}<br>출연 횟수=%{y}<br>총 매출액=%{customdata[0]}<br>총 관객수=%{customdata[1]}<extra></extra>",
         "legendgroup": "남일우",
         "marker": {
          "color": "#EF553B",
          "pattern": {
           "shape": ""
          }
         },
         "name": "남일우",
         "offsetgroup": "남일우",
         "orientation": "v",
         "showlegend": true,
         "textposition": "auto",
         "type": "bar",
         "x": [
          "드라마"
         ],
         "xaxis": "x",
         "y": [
          4
         ],
         "yaxis": "y"
        },
        {
         "alignmentgroup": "True",
         "customdata": [
          [
           "1257억",
           "1646만"
          ]
         ],
         "hovertemplate": "배우=김혜수<br>장르=%{x}<br>출연 횟수=%{y}<br>총 매출액=%{customdata[0]}<br>총 관객수=%{customdata[1]}<extra></extra>",
         "legendgroup": "김혜수",
         "marker": {
          "color": "#00cc96",
          "pattern": {
           "shape": ""
          }
         },
         "name": "김혜수",
         "offsetgroup": "김혜수",
         "orientation": "v",
         "showlegend": true,
         "textposition": "auto",
         "type": "bar",
         "x": [
          "드라마"
         ],
         "xaxis": "x",
         "y": [
          4
         ],
         "yaxis": "y"
        },
        {
         "alignmentgroup": "True",
         "customdata": [
          [
           "1237억",
           "1556만"
          ]
         ],
         "hovertemplate": "배우=조현철<br>장르=%{x}<br>출연 횟수=%{y}<br>총 매출액=%{customdata[0]}<br>총 관객수=%{customdata[1]}<extra></extra>",
         "legendgroup": "조현철",
         "marker": {
          "color": "#ab63fa",
          "pattern": {
           "shape": ""
          }
         },
         "name": "조현철",
         "offsetgroup": "조현철",
         "orientation": "v",
         "showlegend": true,
         "textposition": "auto",
         "type": "bar",
         "x": [
          "드라마"
         ],
         "xaxis": "x",
         "y": [
          4
         ],
         "yaxis": "y"
        },
        {
         "alignmentgroup": "True",
         "customdata": [
          [
           "1231억",
           "1524만"
          ],
          [
           "1568억",
           "1942만"
          ],
          [
           "1101억",
           "1326만"
          ]
         ],
         "hovertemplate": "배우=박지환<br>장르=%{x}<br>출연 횟수=%{y}<br>총 매출액=%{customdata[0]}<br>총 관객수=%{customdata[1]}<extra></extra>",
         "legendgroup": "박지환",
         "marker": {
          "color": "#FFA15A",
          "pattern": {
           "shape": ""
          }
         },
         "name": "박지환",
         "offsetgroup": "박지환",
         "orientation": "v",
         "showlegend": true,
         "textposition": "auto",
         "type": "bar",
         "x": [
          "드라마",
          "범죄",
          "액션"
         ],
         "xaxis": "x",
         "y": [
          4,
          4,
          3
         ],
         "yaxis": "y"
        },
        {
         "alignmentgroup": "True",
         "customdata": [
          [
           "1217억",
           "1645만"
          ],
          [
           "476억",
           "624만"
          ]
         ],
         "hovertemplate": "배우=한효주<br>장르=%{x}<br>출연 횟수=%{y}<br>총 매출액=%{customdata[0]}<br>총 관객수=%{customdata[1]}<extra></extra>",
         "legendgroup": "한효주",
         "marker": {
          "color": "#19d3f3",
          "pattern": {
           "shape": ""
          }
         },
         "name": "한효주",
         "offsetgroup": "한효주",
         "orientation": "v",
         "showlegend": true,
         "textposition": "auto",
         "type": "bar",
         "x": [
          "드라마",
          "멜로/로맨스"
         ],
         "xaxis": "x",
         "y": [
          4,
          3
         ],
         "yaxis": "y"
        },
        {
         "alignmentgroup": "True",
         "customdata": [
          [
           "1182억",
           "1558만"
          ],
          [
           "586억",
           "796만"
          ],
          [
           "769억",
           "1008만"
          ]
         ],
         "hovertemplate": "배우=박철민<br>장르=%{x}<br>출연 횟수=%{y}<br>총 매출액=%{customdata[0]}<br>총 관객수=%{customdata[1]}<extra></extra>",
         "legendgroup": "박철민",
         "marker": {
          "color": "#FF6692",
          "pattern": {
           "shape": ""
          }
         },
         "name": "박철민",
         "offsetgroup": "박철민",
         "orientation": "v",
         "showlegend": true,
         "textposition": "auto",
         "type": "bar",
         "x": [
          "드라마",
          "멜로/로맨스",
          "코미디"
         ],
         "xaxis": "x",
         "y": [
          4,
          3,
          4
         ],
         "yaxis": "y"
        },
        {
         "alignmentgroup": "True",
         "customdata": [
          [
           "1149억",
           "1461만"
          ],
          [
           "1314억",
           "1691만"
          ]
         ],
         "hovertemplate": "배우=박해일<br>장르=%{x}<br>출연 횟수=%{y}<br>총 매출액=%{customdata[0]}<br>총 관객수=%{customdata[1]}<extra></extra>",
         "legendgroup": "박해일",
         "marker": {
          "color": "#B6E880",
          "pattern": {
           "shape": ""
          }
         },
         "name": "박해일",
         "offsetgroup": "박해일",
         "orientation": "v",
         "showlegend": true,
         "textposition": "auto",
         "type": "bar",
         "x": [
          "드라마",
          "사극"
         ],
         "xaxis": "x",
         "y": [
          4,
          3
         ],
         "yaxis": "y"
        },
        {
         "alignmentgroup": "True",
         "customdata": [
          [
           "1115억",
           "1415만"
          ]
         ],
         "hovertemplate": "배우=김민상<br>장르=%{x}<br>출연 횟수=%{y}<br>총 매출액=%{customdata[0]}<br>총 관객수=%{customdata[1]}<extra></extra>",
         "legendgroup": "김민상",
         "marker": {
          "color": "#FF97FF",
          "pattern": {
           "shape": ""
          }
         },
         "name": "김민상",
         "offsetgroup": "김민상",
         "orientation": "v",
         "showlegend": true,
         "textposition": "auto",
         "type": "bar",
         "x": [
          "드라마"
         ],
         "xaxis": "x",
         "y": [
          4
         ],
         "yaxis": "y"
        },
        {
         "alignmentgroup": "True",
         "customdata": [
          [
           "1081억",
           "1449만"
          ],
          [
           "872억",
           "1085만"
          ],
          [
           "658억",
           "895만"
          ],
          [
           "1633억",
           "2184만"
          ],
          [
           "979억",
           "1344만"
          ]
         ],
         "hovertemplate": "배우=김성균<br>장르=%{x}<br>출연 횟수=%{y}<br>총 매출액=%{customdata[0]}<br>총 관객수=%{customdata[1]}<extra></extra>",
         "legendgroup": "김성균",
         "marker": {
          "color": "#FECB52",
          "pattern": {
           "shape": ""
          }
         },
         "name": "김성균",
         "offsetgroup": "김성균",
         "orientation": "v",
         "showlegend": true,
         "textposition": "auto",
         "type": "bar",
         "x": [
          "드라마",
          "범죄",
          "스릴러",
          "액션",
          "코미디"
         ],
         "xaxis": "x",
         "y": [
          4,
          4,
          3,
          6,
          3
         ],
         "yaxis": "y"
        },
        {
         "alignmentgroup": "True",
         "customdata": [
          [
           "1075억",
           "1337만"
          ],
          [
           "1322억",
           "1698만"
          ],
          [
           "1242억",
           "1612만"
          ]
         ],
         "hovertemplate": "배우=정우성<br>장르=%{x}<br>출연 횟수=%{y}<br>총 매출액=%{customdata[0]}<br>총 관객수=%{customdata[1]}<extra></extra>",
         "legendgroup": "정우성",
         "marker": {
          "color": "#636efa",
          "pattern": {
           "shape": ""
          }
         },
         "name": "정우성",
         "offsetgroup": "정우성",
         "orientation": "v",
         "showlegend": true,
         "textposition": "auto",
         "type": "bar",
         "x": [
          "드라마",
          "범죄",
          "액션"
         ],
         "xaxis": "x",
         "y": [
          4,
          4,
          4
         ],
         "yaxis": "y"
        },
        {
         "alignmentgroup": "True",
         "customdata": [
          [
           "1069억",
           "1423만"
          ],
          [
           "696억",
           "908만"
          ]
         ],
         "hovertemplate": "배우=김성오<br>장르=%{x}<br>출연 횟수=%{y}<br>총 매출액=%{customdata[0]}<br>총 관객수=%{customdata[1]}<extra></extra>",
         "legendgroup": "김성오",
         "marker": {
          "color": "#EF553B",
          "pattern": {
           "shape": ""
          }
         },
         "name": "김성오",
         "offsetgroup": "김성오",
         "orientation": "v",
         "showlegend": true,
         "textposition": "auto",
         "type": "bar",
         "x": [
          "드라마",
          "액션"
         ],
         "xaxis": "x",
         "y": [
          4,
          3
         ],
         "yaxis": "y"
        },
        {
         "alignmentgroup": "True",
         "customdata": [
          [
           "1052억",
           "1283만"
          ]
         ],
         "hovertemplate": "배우=곽자형<br>장르=%{x}<br>출연 횟수=%{y}<br>총 매출액=%{customdata[0]}<br>총 관객수=%{customdata[1]}<extra></extra>",
         "legendgroup": "곽자형",
         "marker": {
          "color": "#00cc96",
          "pattern": {
           "shape": ""
          }
         },
         "name": "곽자형",
         "offsetgroup": "곽자형",
         "orientation": "v",
         "showlegend": true,
         "textposition": "auto",
         "type": "bar",
         "x": [
          "드라마"
         ],
         "xaxis": "x",
         "y": [
          4
         ],
         "yaxis": "y"
        },
        {
         "alignmentgroup": "True",
         "customdata": [
          [
           "1044억",
           "1396만"
          ]
         ],
         "hovertemplate": "배우=송재호<br>장르=%{x}<br>출연 횟수=%{y}<br>총 매출액=%{customdata[0]}<br>총 관객수=%{customdata[1]}<extra></extra>",
         "legendgroup": "송재호",
         "marker": {
          "color": "#ab63fa",
          "pattern": {
           "shape": ""
          }
         },
         "name": "송재호",
         "offsetgroup": "송재호",
         "orientation": "v",
         "showlegend": true,
         "textposition": "auto",
         "type": "bar",
         "x": [
          "드라마"
         ],
         "xaxis": "x",
         "y": [
          4
         ],
         "yaxis": "y"
        },
        {
         "alignmentgroup": "True",
         "customdata": [
          [
           "1023억",
           "1400만"
          ],
          [
           "606억",
           "820만"
          ]
         ],
         "hovertemplate": "배우=이한위<br>장르=%{x}<br>출연 횟수=%{y}<br>총 매출액=%{customdata[0]}<br>총 관객수=%{customdata[1]}<extra></extra>",
         "legendgroup": "이한위",
         "marker": {
          "color": "#FFA15A",
          "pattern": {
           "shape": ""
          }
         },
         "name": "이한위",
         "offsetgroup": "이한위",
         "orientation": "v",
         "showlegend": true,
         "textposition": "auto",
         "type": "bar",
         "x": [
          "드라마",
          "코미디"
         ],
         "xaxis": "x",
         "y": [
          4,
          3
         ],
         "yaxis": "y"
        },
        {
         "alignmentgroup": "True",
         "customdata": [
          [
           "1009억",
           "1402만"
          ],
          [
           "377억",
           "491만"
          ],
          [
           "1247억",
           "1721만"
          ],
          [
           "1274억",
           "1789만"
          ]
         ],
         "hovertemplate": "배우=고창석<br>장르=%{x}<br>출연 횟수=%{y}<br>총 매출액=%{customdata[0]}<br>총 관객수=%{customdata[1]}<extra></extra>",
         "legendgroup": "고창석",
         "marker": {
          "color": "#19d3f3",
          "pattern": {
           "shape": ""
          }
         },
         "name": "고창석",
         "offsetgroup": "고창석",
         "orientation": "v",
         "showlegend": true,
         "textposition": "auto",
         "type": "bar",
         "x": [
          "드라마",
          "범죄",
          "액션",
          "코미디"
         ],
         "xaxis": "x",
         "y": [
          4,
          3,
          5,
          4
         ],
         "yaxis": "y"
        },
        {
         "alignmentgroup": "True",
         "customdata": [
          [
           "997억",
           "1305만"
          ]
         ],
         "hovertemplate": "배우=유선<br>장르=%{x}<br>출연 횟수=%{y}<br>총 매출액=%{customdata[0]}<br>총 관객수=%{customdata[1]}<extra></extra>",
         "legendgroup": "유선",
         "marker": {
          "color": "#FF6692",
          "pattern": {
           "shape": ""
          }
         },
         "name": "유선",
         "offsetgroup": "유선",
         "orientation": "v",
         "showlegend": true,
         "textposition": "auto",
         "type": "bar",
         "x": [
          "드라마"
         ],
         "xaxis": "x",
         "y": [
          3
         ],
         "yaxis": "y"
        },
        {
         "alignmentgroup": "True",
         "customdata": [
          [
           "983억",
           "1311만"
          ]
         ],
         "hovertemplate": "배우=전국환<br>장르=%{x}<br>출연 횟수=%{y}<br>총 매출액=%{customdata[0]}<br>총 관객수=%{customdata[1]}<extra></extra>",
         "legendgroup": "전국환",
         "marker": {
          "color": "#B6E880",
          "pattern": {
           "shape": ""
          }
         },
         "name": "전국환",
         "offsetgroup": "전국환",
         "orientation": "v",
         "showlegend": true,
         "textposition": "auto",
         "type": "bar",
         "x": [
          "드라마"
         ],
         "xaxis": "x",
         "y": [
          3
         ],
         "yaxis": "y"
        },
        {
         "alignmentgroup": "True",
         "customdata": [
          [
           "970억",
           "1258만"
          ]
         ],
         "hovertemplate": "배우=박진주<br>장르=%{x}<br>출연 횟수=%{y}<br>총 매출액=%{customdata[0]}<br>총 관객수=%{customdata[1]}<extra></extra>",
         "legendgroup": "박진주",
         "marker": {
          "color": "#FF97FF",
          "pattern": {
           "shape": ""
          }
         },
         "name": "박진주",
         "offsetgroup": "박진주",
         "orientation": "v",
         "showlegend": true,
         "textposition": "auto",
         "type": "bar",
         "x": [
          "드라마"
         ],
         "xaxis": "x",
         "y": [
          3
         ],
         "yaxis": "y"
        },
        {
         "alignmentgroup": "True",
         "customdata": [
          [
           "943억",
           "1254만"
          ]
         ],
         "hovertemplate": "배우=손예진<br>장르=%{x}<br>출연 횟수=%{y}<br>총 매출액=%{customdata[0]}<br>총 관객수=%{customdata[1]}<extra></extra>",
         "legendgroup": "손예진",
         "marker": {
          "color": "#FECB52",
          "pattern": {
           "shape": ""
          }
         },
         "name": "손예진",
         "offsetgroup": "손예진",
         "orientation": "v",
         "showlegend": true,
         "textposition": "auto",
         "type": "bar",
         "x": [
          "드라마"
         ],
         "xaxis": "x",
         "y": [
          3
         ],
         "yaxis": "y"
        },
        {
         "alignmentgroup": "True",
         "customdata": [
          [
           "934억",
           "1295만"
          ]
         ],
         "hovertemplate": "배우=나문희<br>장르=%{x}<br>출연 횟수=%{y}<br>총 매출액=%{customdata[0]}<br>총 관객수=%{customdata[1]}<extra></extra>",
         "legendgroup": "나문희",
         "marker": {
          "color": "#636efa",
          "pattern": {
           "shape": ""
          }
         },
         "name": "나문희",
         "offsetgroup": "나문희",
         "orientation": "v",
         "showlegend": true,
         "textposition": "auto",
         "type": "bar",
         "x": [
          "드라마"
         ],
         "xaxis": "x",
         "y": [
          3
         ],
         "yaxis": "y"
        },
        {
         "alignmentgroup": "True",
         "customdata": [
          [
           "930억",
           "1189만"
          ]
         ],
         "hovertemplate": "배우=정우<br>장르=%{x}<br>출연 횟수=%{y}<br>총 매출액=%{customdata[0]}<br>총 관객수=%{customdata[1]}<extra></extra>",
         "legendgroup": "정우",
         "marker": {
          "color": "#EF553B",
          "pattern": {
           "shape": ""
          }
         },
         "name": "정우",
         "offsetgroup": "정우",
         "orientation": "v",
         "showlegend": true,
         "textposition": "auto",
         "type": "bar",
         "x": [
          "드라마"
         ],
         "xaxis": "x",
         "y": [
          3
         ],
         "yaxis": "y"
        },
        {
         "alignmentgroup": "True",
         "customdata": [
          [
           "907억",
           "1183만"
          ]
         ],
         "hovertemplate": "배우=김호연<br>장르=%{x}<br>출연 횟수=%{y}<br>총 매출액=%{customdata[0]}<br>총 관객수=%{customdata[1]}<extra></extra>",
         "legendgroup": "김호연",
         "marker": {
          "color": "#00cc96",
          "pattern": {
           "shape": ""
          }
         },
         "name": "김호연",
         "offsetgroup": "김호연",
         "orientation": "v",
         "showlegend": true,
         "textposition": "auto",
         "type": "bar",
         "x": [
          "드라마"
         ],
         "xaxis": "x",
         "y": [
          3
         ],
         "yaxis": "y"
        },
        {
         "alignmentgroup": "True",
         "customdata": [
          [
           "903억",
           "1252만"
          ],
          [
           "929억",
           "1281만"
          ]
         ],
         "hovertemplate": "배우=유연석<br>장르=%{x}<br>출연 횟수=%{y}<br>총 매출액=%{customdata[0]}<br>총 관객수=%{customdata[1]}<extra></extra>",
         "legendgroup": "유연석",
         "marker": {
          "color": "#ab63fa",
          "pattern": {
           "shape": ""
          }
         },
         "name": "유연석",
         "offsetgroup": "유연석",
         "orientation": "v",
         "showlegend": true,
         "textposition": "auto",
         "type": "bar",
         "x": [
          "드라마",
          "멜로/로맨스"
         ],
         "xaxis": "x",
         "y": [
          3,
          3
         ],
         "yaxis": "y"
        },
        {
         "alignmentgroup": "True",
         "customdata": [
          [
           "894억",
           "1218만"
          ]
         ],
         "hovertemplate": "배우=박영서<br>장르=%{x}<br>출연 횟수=%{y}<br>총 매출액=%{customdata[0]}<br>총 관객수=%{customdata[1]}<extra></extra>",
         "legendgroup": "박영서",
         "marker": {
          "color": "#FFA15A",
          "pattern": {
           "shape": ""
          }
         },
         "name": "박영서",
         "offsetgroup": "박영서",
         "orientation": "v",
         "showlegend": true,
         "textposition": "auto",
         "type": "bar",
         "x": [
          "드라마"
         ],
         "xaxis": "x",
         "y": [
          3
         ],
         "yaxis": "y"
        },
        {
         "alignmentgroup": "True",
         "customdata": [
          [
           "872억",
           "1085만"
          ]
         ],
         "hovertemplate": "배우=배두나<br>장르=%{x}<br>출연 횟수=%{y}<br>총 매출액=%{customdata[0]}<br>총 관객수=%{customdata[1]}<extra></extra>",
         "legendgroup": "배두나",
         "marker": {
          "color": "#19d3f3",
          "pattern": {
           "shape": ""
          }
         },
         "name": "배두나",
         "offsetgroup": "배두나",
         "orientation": "v",
         "showlegend": true,
         "textposition": "auto",
         "type": "bar",
         "x": [
          "드라마"
         ],
         "xaxis": "x",
         "y": [
          3
         ],
         "yaxis": "y"
        },
        {
         "alignmentgroup": "True",
         "customdata": [
          [
           "847억",
           "1066만"
          ]
         ],
         "hovertemplate": "배우=조승우<br>장르=%{x}<br>출연 횟수=%{y}<br>총 매출액=%{customdata[0]}<br>총 관객수=%{customdata[1]}<extra></extra>",
         "legendgroup": "조승우",
         "marker": {
          "color": "#FF6692",
          "pattern": {
           "shape": ""
          }
         },
         "name": "조승우",
         "offsetgroup": "조승우",
         "orientation": "v",
         "showlegend": true,
         "textposition": "auto",
         "type": "bar",
         "x": [
          "드라마"
         ],
         "xaxis": "x",
         "y": [
          3
         ],
         "yaxis": "y"
        },
        {
         "alignmentgroup": "True",
         "customdata": [
          [
           "841억",
           "1060만"
          ]
         ],
         "hovertemplate": "배우=엄효섭<br>장르=%{x}<br>출연 횟수=%{y}<br>총 매출액=%{customdata[0]}<br>총 관객수=%{customdata[1]}<extra></extra>",
         "legendgroup": "엄효섭",
         "marker": {
          "color": "#B6E880",
          "pattern": {
           "shape": ""
          }
         },
         "name": "엄효섭",
         "offsetgroup": "엄효섭",
         "orientation": "v",
         "showlegend": true,
         "textposition": "auto",
         "type": "bar",
         "x": [
          "드라마"
         ],
         "xaxis": "x",
         "y": [
          3
         ],
         "yaxis": "y"
        },
        {
         "alignmentgroup": "True",
         "customdata": [
          [
           "819억",
           "1122만"
          ],
          [
           "708억",
           "888만"
          ],
          [
           "378억",
           "473만"
          ],
          [
           "913억",
           "1201만"
          ]
         ],
         "hovertemplate": "배우=성동일<br>장르=%{x}<br>출연 횟수=%{y}<br>총 매출액=%{customdata[0]}<br>총 관객수=%{customdata[1]}<extra></extra>",
         "legendgroup": "성동일",
         "marker": {
          "color": "#FF97FF",
          "pattern": {
           "shape": ""
          }
         },
         "name": "성동일",
         "offsetgroup": "성동일",
         "orientation": "v",
         "showlegend": true,
         "textposition": "auto",
         "type": "bar",
         "x": [
          "드라마",
          "범죄",
          "스릴러",
          "코미디"
         ],
         "xaxis": "x",
         "y": [
          3,
          4,
          3,
          4
         ],
         "yaxis": "y"
        },
        {
         "alignmentgroup": "True",
         "customdata": [
          [
           "805억",
           "1020만"
          ],
          [
           "903억",
           "1132만"
          ]
         ],
         "hovertemplate": "배우=이엘<br>장르=%{x}<br>출연 횟수=%{y}<br>총 매출액=%{customdata[0]}<br>총 관객수=%{customdata[1]}<extra></extra>",
         "legendgroup": "이엘",
         "marker": {
          "color": "#FECB52",
          "pattern": {
           "shape": ""
          }
         },
         "name": "이엘",
         "offsetgroup": "이엘",
         "orientation": "v",
         "showlegend": true,
         "textposition": "auto",
         "type": "bar",
         "x": [
          "드라마",
          "범죄"
         ],
         "xaxis": "x",
         "y": [
          3,
          3
         ],
         "yaxis": "y"
        },
        {
         "alignmentgroup": "True",
         "customdata": [
          [
           "803억",
           "1072만"
          ]
         ],
         "hovertemplate": "배우=진구<br>장르=%{x}<br>출연 횟수=%{y}<br>총 매출액=%{customdata[0]}<br>총 관객수=%{customdata[1]}<extra></extra>",
         "legendgroup": "진구",
         "marker": {
          "color": "#636efa",
          "pattern": {
           "shape": ""
          }
         },
         "name": "진구",
         "offsetgroup": "진구",
         "orientation": "v",
         "showlegend": true,
         "textposition": "auto",
         "type": "bar",
         "x": [
          "드라마"
         ],
         "xaxis": "x",
         "y": [
          3
         ],
         "yaxis": "y"
        },
        {
         "alignmentgroup": "True",
         "customdata": [
          [
           "784억",
           "1050만"
          ],
          [
           "549억",
           "716만"
          ],
          [
           "578억",
           "778만"
          ]
         ],
         "hovertemplate": "배우=이철민<br>장르=%{x}<br>출연 횟수=%{y}<br>총 매출액=%{customdata[0]}<br>총 관객수=%{customdata[1]}<extra></extra>",
         "legendgroup": "이철민",
         "marker": {
          "color": "#EF553B",
          "pattern": {
           "shape": ""
          }
         },
         "name": "이철민",
         "offsetgroup": "이철민",
         "orientation": "v",
         "showlegend": true,
         "textposition": "auto",
         "type": "bar",
         "x": [
          "드라마",
          "스릴러",
          "액션"
         ],
         "xaxis": "x",
         "y": [
          3,
          3,
          4
         ],
         "yaxis": "y"
        },
        {
         "alignmentgroup": "True",
         "customdata": [
          [
           "761억",
           "1025만"
          ]
         ],
         "hovertemplate": "배우=김예원<br>장르=%{x}<br>출연 횟수=%{y}<br>총 매출액=%{customdata[0]}<br>총 관객수=%{customdata[1]}<extra></extra>",
         "legendgroup": "김예원",
         "marker": {
          "color": "#00cc96",
          "pattern": {
           "shape": ""
          }
         },
         "name": "김예원",
         "offsetgroup": "김예원",
         "orientation": "v",
         "showlegend": true,
         "textposition": "auto",
         "type": "bar",
         "x": [
          "드라마"
         ],
         "xaxis": "x",
         "y": [
          3
         ],
         "yaxis": "y"
        },
        {
         "alignmentgroup": "True",
         "customdata": [
          [
           "760억",
           "919만"
          ],
          [
           "1269억",
           "1553만"
          ],
          [
           "1493억",
           "1813만"
          ]
         ],
         "hovertemplate": "배우=허성태<br>장르=%{x}<br>출연 횟수=%{y}<br>총 매출액=%{customdata[0]}<br>총 관객수=%{customdata[1]}<extra></extra>",
         "legendgroup": "허성태",
         "marker": {
          "color": "#ab63fa",
          "pattern": {
           "shape": ""
          }
         },
         "name": "허성태",
         "offsetgroup": "허성태",
         "orientation": "v",
         "showlegend": true,
         "textposition": "auto",
         "type": "bar",
         "x": [
          "드라마",
          "범죄",
          "액션"
         ],
         "xaxis": "x",
         "y": [
          3,
          4,
          4
         ],
         "yaxis": "y"
        },
        {
         "alignmentgroup": "True",
         "customdata": [
          [
           "744억",
           "955만"
          ]
         ],
         "hovertemplate": "배우=정유미<br>장르=%{x}<br>출연 횟수=%{y}<br>총 매출액=%{customdata[0]}<br>총 관객수=%{customdata[1]}<extra></extra>",
         "legendgroup": "정유미",
         "marker": {
          "color": "#FFA15A",
          "pattern": {
           "shape": ""
          }
         },
         "name": "정유미",
         "offsetgroup": "정유미",
         "orientation": "v",
         "showlegend": true,
         "textposition": "auto",
         "type": "bar",
         "x": [
          "드라마"
         ],
         "xaxis": "x",
         "y": [
          3
         ],
         "yaxis": "y"
        },
        {
         "alignmentgroup": "True",
         "customdata": [
          [
           "727억",
           "977만"
          ],
          [
           "727억",
           "977만"
          ]
         ],
         "hovertemplate": "배우=김혜옥<br>장르=%{x}<br>출연 횟수=%{y}<br>총 매출액=%{customdata[0]}<br>총 관객수=%{customdata[1]}<extra></extra>",
         "legendgroup": "김혜옥",
         "marker": {
          "color": "#19d3f3",
          "pattern": {
           "shape": ""
          }
         },
         "name": "김혜옥",
         "offsetgroup": "김혜옥",
         "orientation": "v",
         "showlegend": true,
         "textposition": "auto",
         "type": "bar",
         "x": [
          "드라마",
          "코미디"
         ],
         "xaxis": "x",
         "y": [
          3,
          3
         ],
         "yaxis": "y"
        },
        {
         "alignmentgroup": "True",
         "customdata": [
          [
           "670억",
           "840만"
          ]
         ],
         "hovertemplate": "배우=허준호<br>장르=%{x}<br>출연 횟수=%{y}<br>총 매출액=%{customdata[0]}<br>총 관객수=%{customdata[1]}<extra></extra>",
         "legendgroup": "허준호",
         "marker": {
          "color": "#FF6692",
          "pattern": {
           "shape": ""
          }
         },
         "name": "허준호",
         "offsetgroup": "허준호",
         "orientation": "v",
         "showlegend": true,
         "textposition": "auto",
         "type": "bar",
         "x": [
          "드라마"
         ],
         "xaxis": "x",
         "y": [
          3
         ],
         "yaxis": "y"
        },
        {
         "alignmentgroup": "True",
         "customdata": [
          [
           "630억",
           "776만"
          ]
         ],
         "hovertemplate": "배우=염혜란<br>장르=%{x}<br>출연 횟수=%{y}<br>총 매출액=%{customdata[0]}<br>총 관객수=%{customdata[1]}<extra></extra>",
         "legendgroup": "염혜란",
         "marker": {
          "color": "#B6E880",
          "pattern": {
           "shape": ""
          }
         },
         "name": "염혜란",
         "offsetgroup": "염혜란",
         "orientation": "v",
         "showlegend": true,
         "textposition": "auto",
         "type": "bar",
         "x": [
          "드라마"
         ],
         "xaxis": "x",
         "y": [
          3
         ],
         "yaxis": "y"
        },
        {
         "alignmentgroup": "True",
         "customdata": [
          [
           "622억",
           "770만"
          ],
          [
           "839억",
           "1039만"
          ]
         ],
         "hovertemplate": "배우=성유빈<br>장르=%{x}<br>출연 횟수=%{y}<br>총 매출액=%{customdata[0]}<br>총 관객수=%{customdata[1]}<extra></extra>",
         "legendgroup": "성유빈",
         "marker": {
          "color": "#FF97FF",
          "pattern": {
           "shape": ""
          }
         },
         "name": "성유빈",
         "offsetgroup": "성유빈",
         "orientation": "v",
         "showlegend": true,
         "textposition": "auto",
         "type": "bar",
         "x": [
          "드라마",
          "사극"
         ],
         "xaxis": "x",
         "y": [
          3,
          3
         ],
         "yaxis": "y"
        },
        {
         "alignmentgroup": "True",
         "customdata": [
          [
           "618억",
           "805만"
          ],
          [
           "1199억",
           "1637만"
          ]
         ],
         "hovertemplate": "배우=최진호<br>장르=%{x}<br>출연 횟수=%{y}<br>총 매출액=%{customdata[0]}<br>총 관객수=%{customdata[1]}<extra></extra>",
         "legendgroup": "최진호",
         "marker": {
          "color": "#FECB52",
          "pattern": {
           "shape": ""
          }
         },
         "name": "최진호",
         "offsetgroup": "최진호",
         "orientation": "v",
         "showlegend": true,
         "textposition": "auto",
         "type": "bar",
         "x": [
          "드라마",
          "액션"
         ],
         "xaxis": "x",
         "y": [
          3,
          3
         ],
         "yaxis": "y"
        },
        {
         "alignmentgroup": "True",
         "customdata": [
          [
           "576억",
           "715만"
          ]
         ],
         "hovertemplate": "배우=문소리<br>장르=%{x}<br>출연 횟수=%{y}<br>총 매출액=%{customdata[0]}<br>총 관객수=%{customdata[1]}<extra></extra>",
         "legendgroup": "문소리",
         "marker": {
          "color": "#636efa",
          "pattern": {
           "shape": ""
          }
         },
         "name": "문소리",
         "offsetgroup": "문소리",
         "orientation": "v",
         "showlegend": true,
         "textposition": "auto",
         "type": "bar",
         "x": [
          "드라마"
         ],
         "xaxis": "x",
         "y": [
          3
         ],
         "yaxis": "y"
        },
        {
         "alignmentgroup": "True",
         "customdata": [
          [
           "521억",
           "608만"
          ]
         ],
         "hovertemplate": "배우=정종준<br>장르=%{x}<br>출연 횟수=%{y}<br>총 매출액=%{customdata[0]}<br>총 관객수=%{customdata[1]}<extra></extra>",
         "legendgroup": "정종준",
         "marker": {
          "color": "#EF553B",
          "pattern": {
           "shape": ""
          }
         },
         "name": "정종준",
         "offsetgroup": "정종준",
         "orientation": "v",
         "showlegend": true,
         "textposition": "auto",
         "type": "bar",
         "x": [
          "드라마"
         ],
         "xaxis": "x",
         "y": [
          3
         ],
         "yaxis": "y"
        },
        {
         "alignmentgroup": "True",
         "customdata": [
          [
           "487억",
           "625만"
          ],
          [
           "481억",
           "636만"
          ]
         ],
         "hovertemplate": "배우=정호빈<br>장르=%{x}<br>출연 횟수=%{y}<br>총 매출액=%{customdata[0]}<br>총 관객수=%{customdata[1]}<extra></extra>",
         "legendgroup": "정호빈",
         "marker": {
          "color": "#00cc96",
          "pattern": {
           "shape": ""
          }
         },
         "name": "정호빈",
         "offsetgroup": "정호빈",
         "orientation": "v",
         "showlegend": true,
         "textposition": "auto",
         "type": "bar",
         "x": [
          "드라마",
          "액션"
         ],
         "xaxis": "x",
         "y": [
          3,
          3
         ],
         "yaxis": "y"
        },
        {
         "alignmentgroup": "True",
         "customdata": [
          [
           "455억",
           "575만"
          ]
         ],
         "hovertemplate": "배우=윤여정<br>장르=%{x}<br>출연 횟수=%{y}<br>총 매출액=%{customdata[0]}<br>총 관객수=%{customdata[1]}<extra></extra>",
         "legendgroup": "윤여정",
         "marker": {
          "color": "#ab63fa",
          "pattern": {
           "shape": ""
          }
         },
         "name": "윤여정",
         "offsetgroup": "윤여정",
         "orientation": "v",
         "showlegend": true,
         "textposition": "auto",
         "type": "bar",
         "x": [
          "드라마"
         ],
         "xaxis": "x",
         "y": [
          3
         ],
         "yaxis": "y"
        },
        {
         "alignmentgroup": "True",
         "customdata": [
          [
           "444억",
           "580만"
          ],
          [
           "493억",
           "625만"
          ]
         ],
         "hovertemplate": "배우=정민성<br>장르=%{x}<br>출연 횟수=%{y}<br>총 매출액=%{customdata[0]}<br>총 관객수=%{customdata[1]}<extra></extra>",
         "legendgroup": "정민성",
         "marker": {
          "color": "#FFA15A",
          "pattern": {
           "shape": ""
          }
         },
         "name": "정민성",
         "offsetgroup": "정민성",
         "orientation": "v",
         "showlegend": true,
         "textposition": "auto",
         "type": "bar",
         "x": [
          "드라마",
          "범죄"
         ],
         "xaxis": "x",
         "y": [
          3,
          3
         ],
         "yaxis": "y"
        },
        {
         "alignmentgroup": "True",
         "customdata": [
          [
           "444억",
           "542만"
          ],
          [
           "610억",
           "759만"
          ]
         ],
         "hovertemplate": "배우=이광수<br>장르=%{x}<br>출연 횟수=%{y}<br>총 매출액=%{customdata[0]}<br>총 관객수=%{customdata[1]}<extra></extra>",
         "legendgroup": "이광수",
         "marker": {
          "color": "#19d3f3",
          "pattern": {
           "shape": ""
          }
         },
         "name": "이광수",
         "offsetgroup": "이광수",
         "orientation": "v",
         "showlegend": true,
         "textposition": "auto",
         "type": "bar",
         "x": [
          "드라마",
          "코미디"
         ],
         "xaxis": "x",
         "y": [
          3,
          4
         ],
         "yaxis": "y"
        },
        {
         "alignmentgroup": "True",
         "customdata": [
          [
           "411억",
           "561만"
          ],
          [
           "609억",
           "751만"
          ]
         ],
         "hovertemplate": "배우=차승원<br>장르=%{x}<br>출연 횟수=%{y}<br>총 매출액=%{customdata[0]}<br>총 관객수=%{customdata[1]}<extra></extra>",
         "legendgroup": "차승원",
         "marker": {
          "color": "#FF6692",
          "pattern": {
           "shape": ""
          }
         },
         "name": "차승원",
         "offsetgroup": "차승원",
         "orientation": "v",
         "showlegend": true,
         "textposition": "auto",
         "type": "bar",
         "x": [
          "드라마",
          "액션"
         ],
         "xaxis": "x",
         "y": [
          3,
          3
         ],
         "yaxis": "y"
        },
        {
         "alignmentgroup": "True",
         "customdata": [
          [
           "407억",
           "513만"
          ]
         ],
         "hovertemplate": "배우=박근형<br>장르=%{x}<br>출연 횟수=%{y}<br>총 매출액=%{customdata[0]}<br>총 관객수=%{customdata[1]}<extra></extra>",
         "legendgroup": "박근형",
         "marker": {
          "color": "#B6E880",
          "pattern": {
           "shape": ""
          }
         },
         "name": "박근형",
         "offsetgroup": "박근형",
         "orientation": "v",
         "showlegend": true,
         "textposition": "auto",
         "type": "bar",
         "x": [
          "드라마"
         ],
         "xaxis": "x",
         "y": [
          3
         ],
         "yaxis": "y"
        },
        {
         "alignmentgroup": "True",
         "customdata": [
          [
           "393억",
           "494만"
          ]
         ],
         "hovertemplate": "배우=이수경<br>장르=%{x}<br>출연 횟수=%{y}<br>총 매출액=%{customdata[0]}<br>총 관객수=%{customdata[1]}<extra></extra>",
         "legendgroup": "이수경",
         "marker": {
          "color": "#FF97FF",
          "pattern": {
           "shape": ""
          }
         },
         "name": "이수경",
         "offsetgroup": "이수경",
         "orientation": "v",
         "showlegend": true,
         "textposition": "auto",
         "type": "bar",
         "x": [
          "드라마"
         ],
         "xaxis": "x",
         "y": [
          3
         ],
         "yaxis": "y"
        },
        {
         "alignmentgroup": "True",
         "customdata": [
          [
           "392억",
           "478만"
          ]
         ],
         "hovertemplate": "배우=임지연<br>장르=%{x}<br>출연 횟수=%{y}<br>총 매출액=%{customdata[0]}<br>총 관객수=%{customdata[1]}<extra></extra>",
         "legendgroup": "임지연",
         "marker": {
          "color": "#FECB52",
          "pattern": {
           "shape": ""
          }
         },
         "name": "임지연",
         "offsetgroup": "임지연",
         "orientation": "v",
         "showlegend": true,
         "textposition": "auto",
         "type": "bar",
         "x": [
          "드라마"
         ],
         "xaxis": "x",
         "y": [
          3
         ],
         "yaxis": "y"
        },
        {
         "alignmentgroup": "True",
         "customdata": [
          [
           "368억",
           "461만"
          ],
          [
           "445억",
           "568만"
          ]
         ],
         "hovertemplate": "배우=조복래<br>장르=%{x}<br>출연 횟수=%{y}<br>총 매출액=%{customdata[0]}<br>총 관객수=%{customdata[1]}<extra></extra>",
         "legendgroup": "조복래",
         "marker": {
          "color": "#636efa",
          "pattern": {
           "shape": ""
          }
         },
         "name": "조복래",
         "offsetgroup": "조복래",
         "orientation": "v",
         "showlegend": true,
         "textposition": "auto",
         "type": "bar",
         "x": [
          "드라마",
          "코미디"
         ],
         "xaxis": "x",
         "y": [
          3,
          3
         ],
         "yaxis": "y"
        },
        {
         "alignmentgroup": "True",
         "customdata": [
          [
           "294억",
           "358만"
          ]
         ],
         "hovertemplate": "배우=박해준<br>장르=%{x}<br>출연 횟수=%{y}<br>총 매출액=%{customdata[0]}<br>총 관객수=%{customdata[1]}<extra></extra>",
         "legendgroup": "박해준",
         "marker": {
          "color": "#EF553B",
          "pattern": {
           "shape": ""
          }
         },
         "name": "박해준",
         "offsetgroup": "박해준",
         "orientation": "v",
         "showlegend": true,
         "textposition": "auto",
         "type": "bar",
         "x": [
          "드라마"
         ],
         "xaxis": "x",
         "y": [
          3
         ],
         "yaxis": "y"
        },
        {
         "alignmentgroup": "True",
         "customdata": [
          [
           "2350억",
           "2916만"
          ]
         ],
         "hovertemplate": "배우=박소담<br>장르=%{x}<br>출연 횟수=%{y}<br>총 매출액=%{customdata[0]}<br>총 관객수=%{customdata[1]}<extra></extra>",
         "legendgroup": "박소담",
         "marker": {
          "color": "#00cc96",
          "pattern": {
           "shape": ""
          }
         },
         "name": "박소담",
         "offsetgroup": "박소담",
         "orientation": "v",
         "showlegend": true,
         "textposition": "auto",
         "type": "bar",
         "x": [
          "드라마"
         ],
         "xaxis": "x",
         "y": [
          3
         ],
         "yaxis": "y"
        },
        {
         "alignmentgroup": "True",
         "customdata": [
          [
           "2269억",
           "2788만"
          ],
          [
           "678억",
           "825만"
          ],
          [
           "2312억",
           "2829만"
          ]
         ],
         "hovertemplate": "배우=정지훈<br>장르=%{x}<br>출연 횟수=%{y}<br>총 매출액=%{customdata[0]}<br>총 관객수=%{customdata[1]}<extra></extra>",
         "legendgroup": "정지훈",
         "marker": {
          "color": "#ab63fa",
          "pattern": {
           "shape": ""
          }
         },
         "name": "정지훈",
         "offsetgroup": "정지훈",
         "orientation": "v",
         "showlegend": true,
         "textposition": "auto",
         "type": "bar",
         "x": [
          "드라마",
          "액션",
          "판타지"
         ],
         "xaxis": "x",
         "y": [
          3,
          3,
          3
         ],
         "yaxis": "y"
        },
        {
         "alignmentgroup": "True",
         "customdata": [
          [
           "2195억",
           "2888만"
          ],
          [
           "2359억",
           "3154만"
          ]
         ],
         "hovertemplate": "배우=이정재<br>장르=%{x}<br>출연 횟수=%{y}<br>총 매출액=%{customdata[0]}<br>총 관객수=%{customdata[1]}<extra></extra>",
         "legendgroup": "이정재",
         "marker": {
          "color": "#FFA15A",
          "pattern": {
           "shape": ""
          }
         },
         "name": "이정재",
         "offsetgroup": "이정재",
         "orientation": "v",
         "showlegend": true,
         "textposition": "auto",
         "type": "bar",
         "x": [
          "드라마",
          "액션"
         ],
         "xaxis": "x",
         "y": [
          3,
          4
         ],
         "yaxis": "y"
        },
        {
         "alignmentgroup": "True",
         "customdata": [
          [
           "2025억",
           "2492만"
          ]
         ],
         "hovertemplate": "배우=이정은<br>장르=%{x}<br>출연 횟수=%{y}<br>총 매출액=%{customdata[0]}<br>총 관객수=%{customdata[1]}<extra></extra>",
         "legendgroup": "이정은",
         "marker": {
          "color": "#19d3f3",
          "pattern": {
           "shape": ""
          }
         },
         "name": "이정은",
         "offsetgroup": "이정은",
         "orientation": "v",
         "showlegend": true,
         "textposition": "auto",
         "type": "bar",
         "x": [
          "드라마"
         ],
         "xaxis": "x",
         "y": [
          3
         ],
         "yaxis": "y"
        },
        {
         "alignmentgroup": "True",
         "customdata": [
          [
           "1797억",
           "2275만"
          ]
         ],
         "hovertemplate": "배우=김수안<br>장르=%{x}<br>출연 횟수=%{y}<br>총 매출액=%{customdata[0]}<br>총 관객수=%{customdata[1]}<extra></extra>",
         "legendgroup": "김수안",
         "marker": {
          "color": "#FF6692",
          "pattern": {
           "shape": ""
          }
         },
         "name": "김수안",
         "offsetgroup": "김수안",
         "orientation": "v",
         "showlegend": true,
         "textposition": "auto",
         "type": "bar",
         "x": [
          "드라마"
         ],
         "xaxis": "x",
         "y": [
          3
         ],
         "yaxis": "y"
        },
        {
         "alignmentgroup": "True",
         "customdata": [
          [
           "1751억",
           "2291만"
          ]
         ],
         "hovertemplate": "배우=김시후<br>장르=%{x}<br>출연 횟수=%{y}<br>총 매출액=%{customdata[0]}<br>총 관객수=%{customdata[1]}<extra></extra>",
         "legendgroup": "김시후",
         "marker": {
          "color": "#B6E880",
          "pattern": {
           "shape": ""
          }
         },
         "name": "김시후",
         "offsetgroup": "김시후",
         "orientation": "v",
         "showlegend": true,
         "textposition": "auto",
         "type": "bar",
         "x": [
          "드라마"
         ],
         "xaxis": "x",
         "y": [
          3
         ],
         "yaxis": "y"
        },
        {
         "alignmentgroup": "True",
         "customdata": [
          [
           "1596억",
           "2010만"
          ],
          [
           "1760억",
           "2228만"
          ]
         ],
         "hovertemplate": "배우=오대환<br>장르=%{x}<br>출연 횟수=%{y}<br>총 매출액=%{customdata[0]}<br>총 관객수=%{customdata[1]}<extra></extra>",
         "legendgroup": "오대환",
         "marker": {
          "color": "#FF97FF",
          "pattern": {
           "shape": ""
          }
         },
         "name": "오대환",
         "offsetgroup": "오대환",
         "orientation": "v",
         "showlegend": true,
         "textposition": "auto",
         "type": "bar",
         "x": [
          "드라마",
          "액션"
         ],
         "xaxis": "x",
         "y": [
          3,
          3
         ],
         "yaxis": "y"
        },
        {
         "alignmentgroup": "True",
         "customdata": [
          [
           "1466억",
           "1861만"
          ],
          [
           "1780억",
           "2289만"
          ]
         ],
         "hovertemplate": "배우=최우식<br>장르=%{x}<br>출연 횟수=%{y}<br>총 매출액=%{customdata[0]}<br>총 관객수=%{customdata[1]}<extra></extra>",
         "legendgroup": "최우식",
         "marker": {
          "color": "#FECB52",
          "pattern": {
           "shape": ""
          }
         },
         "name": "최우식",
         "offsetgroup": "최우식",
         "orientation": "v",
         "showlegend": true,
         "textposition": "auto",
         "type": "bar",
         "x": [
          "드라마",
          "액션"
         ],
         "xaxis": "x",
         "y": [
          3,
          4
         ],
         "yaxis": "y"
        },
        {
         "alignmentgroup": "True",
         "customdata": [
          [
           "1449억",
           "1837만"
          ]
         ],
         "hovertemplate": "배우=차태현<br>장르=%{x}<br>출연 횟수=%{y}<br>총 매출액=%{customdata[0]}<br>총 관객수=%{customdata[1]}<extra></extra>",
         "legendgroup": "차태현",
         "marker": {
          "color": "#636efa",
          "pattern": {
           "shape": ""
          }
         },
         "name": "차태현",
         "offsetgroup": "차태현",
         "orientation": "v",
         "showlegend": true,
         "textposition": "auto",
         "type": "bar",
         "x": [
          "드라마"
         ],
         "xaxis": "x",
         "y": [
          3
         ],
         "yaxis": "y"
        },
        {
         "alignmentgroup": "True",
         "customdata": [
          [
           "1384억",
           "1900만"
          ]
         ],
         "hovertemplate": "배우=전국향<br>장르=%{x}<br>출연 횟수=%{y}<br>총 매출액=%{customdata[0]}<br>총 관객수=%{customdata[1]}<extra></extra>",
         "legendgroup": "전국향",
         "marker": {
          "color": "#EF553B",
          "pattern": {
           "shape": ""
          }
         },
         "name": "전국향",
         "offsetgroup": "전국향",
         "orientation": "v",
         "showlegend": true,
         "textposition": "auto",
         "type": "bar",
         "x": [
          "드라마"
         ],
         "xaxis": "x",
         "y": [
          3
         ],
         "yaxis": "y"
        },
        {
         "alignmentgroup": "True",
         "customdata": [
          [
           "1349억",
           "1735만"
          ],
          [
           "1458억",
           "1948만"
          ],
          [
           "3278억",
           "4330만"
          ]
         ],
         "hovertemplate": "배우=최덕문<br>장르=%{x}<br>출연 횟수=%{y}<br>총 매출액=%{customdata[0]}<br>총 관객수=%{customdata[1]}<extra></extra>",
         "legendgroup": "최덕문",
         "marker": {
          "color": "#00cc96",
          "pattern": {
           "shape": ""
          }
         },
         "name": "최덕문",
         "offsetgroup": "최덕문",
         "orientation": "v",
         "showlegend": true,
         "textposition": "auto",
         "type": "bar",
         "x": [
          "드라마",
          "범죄",
          "액션"
         ],
         "xaxis": "x",
         "y": [
          3,
          3,
          3
         ],
         "yaxis": "y"
        },
        {
         "alignmentgroup": "True",
         "customdata": [
          [
           "1348억",
           "1729만"
          ]
         ],
         "hovertemplate": "배우=천호진<br>장르=%{x}<br>출연 횟수=%{y}<br>총 매출액=%{customdata[0]}<br>총 관객수=%{customdata[1]}<extra></extra>",
         "legendgroup": "천호진",
         "marker": {
          "color": "#ab63fa",
          "pattern": {
           "shape": ""
          }
         },
         "name": "천호진",
         "offsetgroup": "천호진",
         "orientation": "v",
         "showlegend": true,
         "textposition": "auto",
         "type": "bar",
         "x": [
          "드라마"
         ],
         "xaxis": "x",
         "y": [
          3
         ],
         "yaxis": "y"
        },
        {
         "alignmentgroup": "True",
         "customdata": [
          [
           "1308억",
           "1802만"
          ]
         ],
         "hovertemplate": "배우=박원상<br>장르=%{x}<br>출연 횟수=%{y}<br>총 매출액=%{customdata[0]}<br>총 관객수=%{customdata[1]}<extra></extra>",
         "legendgroup": "박원상",
         "marker": {
          "color": "#FFA15A",
          "pattern": {
           "shape": ""
          }
         },
         "name": "박원상",
         "offsetgroup": "박원상",
         "orientation": "v",
         "showlegend": true,
         "textposition": "auto",
         "type": "bar",
         "x": [
          "드라마"
         ],
         "xaxis": "x",
         "y": [
          3
         ],
         "yaxis": "y"
        },
        {
         "alignmentgroup": "True",
         "customdata": [
          [
           "1288억",
           "1720만"
          ]
         ],
         "hovertemplate": "배우=김영애<br>장르=%{x}<br>출연 횟수=%{y}<br>총 매출액=%{customdata[0]}<br>총 관객수=%{customdata[1]}<extra></extra>",
         "legendgroup": "김영애",
         "marker": {
          "color": "#19d3f3",
          "pattern": {
           "shape": ""
          }
         },
         "name": "김영애",
         "offsetgroup": "김영애",
         "orientation": "v",
         "showlegend": true,
         "textposition": "auto",
         "type": "bar",
         "x": [
          "드라마"
         ],
         "xaxis": "x",
         "y": [
          3
         ],
         "yaxis": "y"
        },
        {
         "alignmentgroup": "True",
         "customdata": [
          [
           "1238억",
           "1559만"
          ]
         ],
         "hovertemplate": "배우=김승훈<br>장르=%{x}<br>출연 횟수=%{y}<br>총 매출액=%{customdata[0]}<br>총 관객수=%{customdata[1]}<extra></extra>",
         "legendgroup": "김승훈",
         "marker": {
          "color": "#FF6692",
          "pattern": {
           "shape": ""
          }
         },
         "name": "김승훈",
         "offsetgroup": "김승훈",
         "orientation": "v",
         "showlegend": true,
         "textposition": "auto",
         "type": "bar",
         "x": [
          "드라마"
         ],
         "xaxis": "x",
         "y": [
          3
         ],
         "yaxis": "y"
        },
        {
         "alignmentgroup": "True",
         "customdata": [
          [
           "1229억",
           "1520만"
          ],
          [
           "812억",
           "983만"
          ]
         ],
         "hovertemplate": "배우=윤경호<br>장르=%{x}<br>출연 횟수=%{y}<br>총 매출액=%{customdata[0]}<br>총 관객수=%{customdata[1]}<extra></extra>",
         "legendgroup": "윤경호",
         "marker": {
          "color": "#B6E880",
          "pattern": {
           "shape": ""
          }
         },
         "name": "윤경호",
         "offsetgroup": "윤경호",
         "orientation": "v",
         "showlegend": true,
         "textposition": "auto",
         "type": "bar",
         "x": [
          "드라마",
          "코미디"
         ],
         "xaxis": "x",
         "y": [
          3,
          3
         ],
         "yaxis": "y"
        },
        {
         "alignmentgroup": "True",
         "customdata": [
          [
           "1216억",
           "1586만"
          ]
         ],
         "hovertemplate": "배우=천우희<br>장르=%{x}<br>출연 횟수=%{y}<br>총 매출액=%{customdata[0]}<br>총 관객수=%{customdata[1]}<extra></extra>",
         "legendgroup": "천우희",
         "marker": {
          "color": "#FF97FF",
          "pattern": {
           "shape": ""
          }
         },
         "name": "천우희",
         "offsetgroup": "천우희",
         "orientation": "v",
         "showlegend": true,
         "textposition": "auto",
         "type": "bar",
         "x": [
          "드라마"
         ],
         "xaxis": "x",
         "y": [
          3
         ],
         "yaxis": "y"
        },
        {
         "alignmentgroup": "True",
         "customdata": [
          [
           "1210억",
           "1459만"
          ],
          [
           "534억",
           "711만"
          ]
         ],
         "hovertemplate": "배우=조여정<br>장르=%{x}<br>출연 횟수=%{y}<br>총 매출액=%{customdata[0]}<br>총 관객수=%{customdata[1]}<extra></extra>",
         "legendgroup": "조여정",
         "marker": {
          "color": "#FECB52",
          "pattern": {
           "shape": ""
          }
         },
         "name": "조여정",
         "offsetgroup": "조여정",
         "orientation": "v",
         "showlegend": true,
         "textposition": "auto",
         "type": "bar",
         "x": [
          "드라마",
          "멜로/로맨스"
         ],
         "xaxis": "x",
         "y": [
          3,
          3
         ],
         "yaxis": "y"
        },
        {
         "alignmentgroup": "True",
         "customdata": [
          [
           "1202억",
           "1638만"
          ]
         ],
         "hovertemplate": "배우=박혜진<br>장르=%{x}<br>출연 횟수=%{y}<br>총 매출액=%{customdata[0]}<br>총 관객수=%{customdata[1]}<extra></extra>",
         "legendgroup": "박혜진",
         "marker": {
          "color": "#636efa",
          "pattern": {
           "shape": ""
          }
         },
         "name": "박혜진",
         "offsetgroup": "박혜진",
         "orientation": "v",
         "showlegend": true,
         "textposition": "auto",
         "type": "bar",
         "x": [
          "드라마"
         ],
         "xaxis": "x",
         "y": [
          3
         ],
         "yaxis": "y"
        },
        {
         "alignmentgroup": "True",
         "customdata": [
          [
           "1079억",
           "1373만"
          ],
          [
           "1936억",
           "2531만"
          ]
         ],
         "hovertemplate": "배우=김태훈<br>장르=%{x}<br>출연 횟수=%{y}<br>총 매출액=%{customdata[0]}<br>총 관객수=%{customdata[1]}<extra></extra>",
         "legendgroup": "김태훈",
         "marker": {
          "color": "#EF553B",
          "pattern": {
           "shape": ""
          }
         },
         "name": "김태훈",
         "offsetgroup": "김태훈",
         "orientation": "v",
         "showlegend": true,
         "textposition": "auto",
         "type": "bar",
         "x": [
          "드라마",
          "액션"
         ],
         "xaxis": "x",
         "y": [
          3,
          3
         ],
         "yaxis": "y"
        },
        {
         "alignmentgroup": "True",
         "customdata": [
          [
           "1059억",
           "1364만"
          ]
         ],
         "hovertemplate": "배우=김원해<br>장르=%{x}<br>출연 횟수=%{y}<br>총 매출액=%{customdata[0]}<br>총 관객수=%{customdata[1]}<extra></extra>",
         "legendgroup": "김원해",
         "marker": {
          "color": "#00cc96",
          "pattern": {
           "shape": ""
          }
         },
         "name": "김원해",
         "offsetgroup": "김원해",
         "orientation": "v",
         "showlegend": true,
         "textposition": "auto",
         "type": "bar",
         "x": [
          "드라마"
         ],
         "xaxis": "x",
         "y": [
          3
         ],
         "yaxis": "y"
        },
        {
         "alignmentgroup": "True",
         "customdata": [
          [
           "1057억",
           "1360만"
          ]
         ],
         "hovertemplate": "배우=김수진<br>장르=%{x}<br>출연 횟수=%{y}<br>총 매출액=%{customdata[0]}<br>총 관객수=%{customdata[1]}<extra></extra>",
         "legendgroup": "김수진",
         "marker": {
          "color": "#ab63fa",
          "pattern": {
           "shape": ""
          }
         },
         "name": "김수진",
         "offsetgroup": "김수진",
         "orientation": "v",
         "showlegend": true,
         "textposition": "auto",
         "type": "bar",
         "x": [
          "드라마"
         ],
         "xaxis": "x",
         "y": [
          3
         ],
         "yaxis": "y"
        },
        {
         "alignmentgroup": "True",
         "customdata": [
          [
           "1053억",
           "1302만"
          ]
         ],
         "hovertemplate": "배우=김태리<br>장르=%{x}<br>출연 횟수=%{y}<br>총 매출액=%{customdata[0]}<br>총 관객수=%{customdata[1]}<extra></extra>",
         "legendgroup": "김태리",
         "marker": {
          "color": "#FFA15A",
          "pattern": {
           "shape": ""
          }
         },
         "name": "김태리",
         "offsetgroup": "김태리",
         "orientation": "v",
         "showlegend": true,
         "textposition": "auto",
         "type": "bar",
         "x": [
          "드라마"
         ],
         "xaxis": "x",
         "y": [
          3
         ],
         "yaxis": "y"
        },
        {
         "alignmentgroup": "True",
         "customdata": [
          [
           "1003억",
           "1245만"
          ],
          [
           "571억",
           "777만"
          ]
         ],
         "hovertemplate": "배우=박희순<br>장르=%{x}<br>출연 횟수=%{y}<br>총 매출액=%{customdata[0]}<br>총 관객수=%{customdata[1]}<extra></extra>",
         "legendgroup": "박희순",
         "marker": {
          "color": "#19d3f3",
          "pattern": {
           "shape": ""
          }
         },
         "name": "박희순",
         "offsetgroup": "박희순",
         "orientation": "v",
         "showlegend": true,
         "textposition": "auto",
         "type": "bar",
         "x": [
          "드라마",
          "스릴러"
         ],
         "xaxis": "x",
         "y": [
          3,
          3
         ],
         "yaxis": "y"
        },
        {
         "alignmentgroup": "True",
         "customdata": [
          [
           "819억",
           "1115만"
          ]
         ],
         "hovertemplate": "배우=박보영<br>장르=%{x}<br>출연 횟수=%{y}<br>총 매출액=%{customdata[0]}<br>총 관객수=%{customdata[1]}<extra></extra>",
         "legendgroup": "박보영",
         "marker": {
          "color": "#FF6692",
          "pattern": {
           "shape": ""
          }
         },
         "name": "박보영",
         "offsetgroup": "박보영",
         "orientation": "v",
         "showlegend": true,
         "textposition": "auto",
         "type": "bar",
         "x": [
          "멜로/로맨스"
         ],
         "xaxis": "x",
         "y": [
          3
         ],
         "yaxis": "y"
        },
        {
         "alignmentgroup": "True",
         "customdata": [
          [
           "621억",
           "836만"
          ],
          [
           "621억",
           "836만"
          ]
         ],
         "hovertemplate": "배우=송새벽<br>장르=%{x}<br>출연 횟수=%{y}<br>총 매출액=%{customdata[0]}<br>총 관객수=%{customdata[1]}<extra></extra>",
         "legendgroup": "송새벽",
         "marker": {
          "color": "#B6E880",
          "pattern": {
           "shape": ""
          }
         },
         "name": "송새벽",
         "offsetgroup": "송새벽",
         "orientation": "v",
         "showlegend": true,
         "textposition": "auto",
         "type": "bar",
         "x": [
          "멜로/로맨스",
          "코미디"
         ],
         "xaxis": "x",
         "y": [
          3,
          3
         ],
         "yaxis": "y"
        },
        {
         "alignmentgroup": "True",
         "customdata": [
          [
           "589억",
           "784만"
          ],
          [
           "589억",
           "784만"
          ]
         ],
         "hovertemplate": "배우=류현경<br>장르=%{x}<br>출연 횟수=%{y}<br>총 매출액=%{customdata[0]}<br>총 관객수=%{customdata[1]}<extra></extra>",
         "legendgroup": "류현경",
         "marker": {
          "color": "#FF97FF",
          "pattern": {
           "shape": ""
          }
         },
         "name": "류현경",
         "offsetgroup": "류현경",
         "orientation": "v",
         "showlegend": true,
         "textposition": "auto",
         "type": "bar",
         "x": [
          "멜로/로맨스",
          "코미디"
         ],
         "xaxis": "x",
         "y": [
          3,
          3
         ],
         "yaxis": "y"
        },
        {
         "alignmentgroup": "True",
         "customdata": [
          [
           "583억",
           "779만"
          ]
         ],
         "hovertemplate": "배우=이미도<br>장르=%{x}<br>출연 횟수=%{y}<br>총 매출액=%{customdata[0]}<br>총 관객수=%{customdata[1]}<extra></extra>",
         "legendgroup": "이미도",
         "marker": {
          "color": "#FECB52",
          "pattern": {
           "shape": ""
          }
         },
         "name": "이미도",
         "offsetgroup": "이미도",
         "orientation": "v",
         "showlegend": true,
         "textposition": "auto",
         "type": "bar",
         "x": [
          "멜로/로맨스"
         ],
         "xaxis": "x",
         "y": [
          3
         ],
         "yaxis": "y"
        },
        {
         "alignmentgroup": "True",
         "customdata": [
          [
           "289억",
           "376만"
          ]
         ],
         "hovertemplate": "배우=류승범<br>장르=%{x}<br>출연 횟수=%{y}<br>총 매출액=%{customdata[0]}<br>총 관객수=%{customdata[1]}<extra></extra>",
         "legendgroup": "류승범",
         "marker": {
          "color": "#636efa",
          "pattern": {
           "shape": ""
          }
         },
         "name": "류승범",
         "offsetgroup": "류승범",
         "orientation": "v",
         "showlegend": true,
         "textposition": "auto",
         "type": "bar",
         "x": [
          "미스터리"
         ],
         "xaxis": "x",
         "y": [
          3
         ],
         "yaxis": "y"
        },
        {
         "alignmentgroup": "True",
         "customdata": [
          [
           "1526억",
           "1962만"
          ]
         ],
         "hovertemplate": "배우=박성웅<br>장르=%{x}<br>출연 횟수=%{y}<br>총 매출액=%{customdata[0]}<br>총 관객수=%{customdata[1]}<extra></extra>",
         "legendgroup": "박성웅",
         "marker": {
          "color": "#EF553B",
          "pattern": {
           "shape": ""
          }
         },
         "name": "박성웅",
         "offsetgroup": "박성웅",
         "orientation": "v",
         "showlegend": true,
         "textposition": "auto",
         "type": "bar",
         "x": [
          "범죄"
         ],
         "xaxis": "x",
         "y": [
          4
         ],
         "yaxis": "y"
        },
        {
         "alignmentgroup": "True",
         "customdata": [
          [
           "855억",
           "1029만"
          ]
         ],
         "hovertemplate": "배우=김민재<br>장르=%{x}<br>출연 횟수=%{y}<br>총 매출액=%{customdata[0]}<br>총 관객수=%{customdata[1]}<extra></extra>",
         "legendgroup": "김민재",
         "marker": {
          "color": "#00cc96",
          "pattern": {
           "shape": ""
          }
         },
         "name": "김민재",
         "offsetgroup": "김민재",
         "orientation": "v",
         "showlegend": true,
         "textposition": "auto",
         "type": "bar",
         "x": [
          "범죄"
         ],
         "xaxis": "x",
         "y": [
          3
         ],
         "yaxis": "y"
        },
        {
         "alignmentgroup": "True",
         "customdata": [
          [
           "695억",
           "863만"
          ]
         ],
         "hovertemplate": "배우=유지태<br>장르=%{x}<br>출연 횟수=%{y}<br>총 매출액=%{customdata[0]}<br>총 관객수=%{customdata[1]}<extra></extra>",
         "legendgroup": "유지태",
         "marker": {
          "color": "#ab63fa",
          "pattern": {
           "shape": ""
          }
         },
         "name": "유지태",
         "offsetgroup": "유지태",
         "orientation": "v",
         "showlegend": true,
         "textposition": "auto",
         "type": "bar",
         "x": [
          "범죄"
         ],
         "xaxis": "x",
         "y": [
          3
         ],
         "yaxis": "y"
        },
        {
         "alignmentgroup": "True",
         "customdata": [
          [
           "658억",
           "793만"
          ]
         ],
         "hovertemplate": "배우=권상우<br>장르=%{x}<br>출연 횟수=%{y}<br>총 매출액=%{customdata[0]}<br>총 관객수=%{customdata[1]}<extra></extra>",
         "legendgroup": "권상우",
         "marker": {
          "color": "#FFA15A",
          "pattern": {
           "shape": ""
          }
         },
         "name": "권상우",
         "offsetgroup": "권상우",
         "orientation": "v",
         "showlegend": true,
         "textposition": "auto",
         "type": "bar",
         "x": [
          "범죄"
         ],
         "xaxis": "x",
         "y": [
          3
         ],
         "yaxis": "y"
        },
        {
         "alignmentgroup": "True",
         "customdata": [
          [
           "611억",
           "736만"
          ]
         ],
         "hovertemplate": "배우=김재영<br>장르=%{x}<br>출연 횟수=%{y}<br>총 매출액=%{customdata[0]}<br>총 관객수=%{customdata[1]}<extra></extra>",
         "legendgroup": "김재영",
         "marker": {
          "color": "#19d3f3",
          "pattern": {
           "shape": ""
          }
         },
         "name": "김재영",
         "offsetgroup": "김재영",
         "orientation": "v",
         "showlegend": true,
         "textposition": "auto",
         "type": "bar",
         "x": [
          "범죄"
         ],
         "xaxis": "x",
         "y": [
          3
         ],
         "yaxis": "y"
        },
        {
         "alignmentgroup": "True",
         "customdata": [
          [
           "568억",
           "678만"
          ]
         ],
         "hovertemplate": "배우=정인겸<br>장르=%{x}<br>출연 횟수=%{y}<br>총 매출액=%{customdata[0]}<br>총 관객수=%{customdata[1]}<extra></extra>",
         "legendgroup": "정인겸",
         "marker": {
          "color": "#FF6692",
          "pattern": {
           "shape": ""
          }
         },
         "name": "정인겸",
         "offsetgroup": "정인겸",
         "orientation": "v",
         "showlegend": true,
         "textposition": "auto",
         "type": "bar",
         "x": [
          "범죄"
         ],
         "xaxis": "x",
         "y": [
          3
         ],
         "yaxis": "y"
        },
        {
         "alignmentgroup": "True",
         "customdata": [
          [
           "497억",
           "612만"
          ]
         ],
         "hovertemplate": "배우=이하늬<br>장르=%{x}<br>출연 횟수=%{y}<br>총 매출액=%{customdata[0]}<br>총 관객수=%{customdata[1]}<extra></extra>",
         "legendgroup": "이하늬",
         "marker": {
          "color": "#B6E880",
          "pattern": {
           "shape": ""
          }
         },
         "name": "이하늬",
         "offsetgroup": "이하늬",
         "orientation": "v",
         "showlegend": true,
         "textposition": "auto",
         "type": "bar",
         "x": [
          "범죄"
         ],
         "xaxis": "x",
         "y": [
          3
         ],
         "yaxis": "y"
        },
        {
         "alignmentgroup": "True",
         "customdata": [
          [
           "408억",
           "533만"
          ],
          [
           "418억",
           "529만"
          ]
         ],
         "hovertemplate": "배우=허준석<br>장르=%{x}<br>출연 횟수=%{y}<br>총 매출액=%{customdata[0]}<br>총 관객수=%{customdata[1]}<extra></extra>",
         "legendgroup": "허준석",
         "marker": {
          "color": "#FF97FF",
          "pattern": {
           "shape": ""
          }
         },
         "name": "허준석",
         "offsetgroup": "허준석",
         "orientation": "v",
         "showlegend": true,
         "textposition": "auto",
         "type": "bar",
         "x": [
          "범죄",
          "액션"
         ],
         "xaxis": "x",
         "y": [
          3,
          3
         ],
         "yaxis": "y"
        },
        {
         "alignmentgroup": "True",
         "customdata": [
          [
           "1133억",
           "1412만"
          ],
          [
           "611억",
           "777만"
          ],
          [
           "1079억",
           "1349만"
          ]
         ],
         "hovertemplate": "배우=이성민<br>장르=%{x}<br>출연 횟수=%{y}<br>총 매출액=%{customdata[0]}<br>총 관객수=%{customdata[1]}<extra></extra>",
         "legendgroup": "이성민",
         "marker": {
          "color": "#FECB52",
          "pattern": {
           "shape": ""
          }
         },
         "name": "이성민",
         "offsetgroup": "이성민",
         "orientation": "v",
         "showlegend": true,
         "textposition": "auto",
         "type": "bar",
         "x": [
          "범죄",
          "액션",
          "코미디"
         ],
         "xaxis": "x",
         "y": [
          3,
          3,
          3
         ],
         "yaxis": "y"
        },
        {
         "alignmentgroup": "True",
         "customdata": [
          [
           "1123억",
           "1339만"
          ]
         ],
         "hovertemplate": "배우=김성규<br>장르=%{x}<br>출연 횟수=%{y}<br>총 매출액=%{customdata[0]}<br>총 관객수=%{customdata[1]}<extra></extra>",
         "legendgroup": "김성규",
         "marker": {
          "color": "#636efa",
          "pattern": {
           "shape": ""
          }
         },
         "name": "김성규",
         "offsetgroup": "김성규",
         "orientation": "v",
         "showlegend": true,
         "textposition": "auto",
         "type": "bar",
         "x": [
          "범죄"
         ],
         "xaxis": "x",
         "y": [
          3
         ],
         "yaxis": "y"
        },
        {
         "alignmentgroup": "True",
         "customdata": [
          [
           "1657억",
           "2137만"
          ]
         ],
         "hovertemplate": "배우=최민식<br>장르=%{x}<br>출연 횟수=%{y}<br>총 매출액=%{customdata[0]}<br>총 관객수=%{customdata[1]}<extra></extra>",
         "legendgroup": "최민식",
         "marker": {
          "color": "#EF553B",
          "pattern": {
           "shape": ""
          }
         },
         "name": "최민식",
         "offsetgroup": "최민식",
         "orientation": "v",
         "showlegend": true,
         "textposition": "auto",
         "type": "bar",
         "x": [
          "사극"
         ],
         "xaxis": "x",
         "y": [
          3
         ],
         "yaxis": "y"
        },
        {
         "alignmentgroup": "True",
         "customdata": [
          [
           "897억",
           "1206만"
          ]
         ],
         "hovertemplate": "배우=문정희<br>장르=%{x}<br>출연 횟수=%{y}<br>총 매출액=%{customdata[0]}<br>총 관객수=%{customdata[1]}<extra></extra>",
         "legendgroup": "문정희",
         "marker": {
          "color": "#00cc96",
          "pattern": {
           "shape": ""
          }
         },
         "name": "문정희",
         "offsetgroup": "문정희",
         "orientation": "v",
         "showlegend": true,
         "textposition": "auto",
         "type": "bar",
         "x": [
          "스릴러"
         ],
         "xaxis": "x",
         "y": [
          3
         ],
         "yaxis": "y"
        },
        {
         "alignmentgroup": "True",
         "customdata": [
          [
           "692억",
           "939만"
          ]
         ],
         "hovertemplate": "배우=손현주<br>장르=%{x}<br>출연 횟수=%{y}<br>총 매출액=%{customdata[0]}<br>총 관객수=%{customdata[1]}<extra></extra>",
         "legendgroup": "손현주",
         "marker": {
          "color": "#ab63fa",
          "pattern": {
           "shape": ""
          }
         },
         "name": "손현주",
         "offsetgroup": "손현주",
         "orientation": "v",
         "showlegend": true,
         "textposition": "auto",
         "type": "bar",
         "x": [
          "스릴러"
         ],
         "xaxis": "x",
         "y": [
          3
         ],
         "yaxis": "y"
        },
        {
         "alignmentgroup": "True",
         "customdata": [
          [
           "534억",
           "682만"
          ]
         ],
         "hovertemplate": "배우=이상희<br>장르=%{x}<br>출연 횟수=%{y}<br>총 매출액=%{customdata[0]}<br>총 관객수=%{customdata[1]}<extra></extra>",
         "legendgroup": "이상희",
         "marker": {
          "color": "#FFA15A",
          "pattern": {
           "shape": ""
          }
         },
         "name": "이상희",
         "offsetgroup": "이상희",
         "orientation": "v",
         "showlegend": true,
         "textposition": "auto",
         "type": "bar",
         "x": [
          "스릴러"
         ],
         "xaxis": "x",
         "y": [
          3
         ],
         "yaxis": "y"
        },
        {
         "alignmentgroup": "True",
         "customdata": [
          [
           "973억",
           "1282만"
          ]
         ],
         "hovertemplate": "배우=주진모<br>장르=%{x}<br>출연 횟수=%{y}<br>총 매출액=%{customdata[0]}<br>총 관객수=%{customdata[1]}<extra></extra>",
         "legendgroup": "주진모",
         "marker": {
          "color": "#19d3f3",
          "pattern": {
           "shape": ""
          }
         },
         "name": "주진모",
         "offsetgroup": "주진모",
         "orientation": "v",
         "showlegend": true,
         "textposition": "auto",
         "type": "bar",
         "x": [
          "액션"
         ],
         "xaxis": "x",
         "y": [
          5
         ],
         "yaxis": "y"
        },
        {
         "alignmentgroup": "True",
         "customdata": [
          [
           "716억",
           "929만"
          ]
         ],
         "hovertemplate": "배우=조은지<br>장르=%{x}<br>출연 횟수=%{y}<br>총 매출액=%{customdata[0]}<br>총 관객수=%{customdata[1]}<extra></extra>",
         "legendgroup": "조은지",
         "marker": {
          "color": "#FF6692",
          "pattern": {
           "shape": ""
          }
         },
         "name": "조은지",
         "offsetgroup": "조은지",
         "orientation": "v",
         "showlegend": true,
         "textposition": "auto",
         "type": "bar",
         "x": [
          "액션"
         ],
         "xaxis": "x",
         "y": [
          5
         ],
         "yaxis": "y"
        },
        {
         "alignmentgroup": "True",
         "customdata": [
          [
           "3010억",
           "3877만"
          ]
         ],
         "hovertemplate": "배우=진경<br>장르=%{x}<br>출연 횟수=%{y}<br>총 매출액=%{customdata[0]}<br>총 관객수=%{customdata[1]}<extra></extra>",
         "legendgroup": "진경",
         "marker": {
          "color": "#B6E880",
          "pattern": {
           "shape": ""
          }
         },
         "name": "진경",
         "offsetgroup": "진경",
         "orientation": "v",
         "showlegend": true,
         "textposition": "auto",
         "type": "bar",
         "x": [
          "액션"
         ],
         "xaxis": "x",
         "y": [
          4
         ],
         "yaxis": "y"
        },
        {
         "alignmentgroup": "True",
         "customdata": [
          [
           "997억",
           "1268만"
          ]
         ],
         "hovertemplate": "배우=김우빈<br>장르=%{x}<br>출연 횟수=%{y}<br>총 매출액=%{customdata[0]}<br>총 관객수=%{customdata[1]}<extra></extra>",
         "legendgroup": "김우빈",
         "marker": {
          "color": "#FF97FF",
          "pattern": {
           "shape": ""
          }
         },
         "name": "김우빈",
         "offsetgroup": "김우빈",
         "orientation": "v",
         "showlegend": true,
         "textposition": "auto",
         "type": "bar",
         "x": [
          "액션"
         ],
         "xaxis": "x",
         "y": [
          3
         ],
         "yaxis": "y"
        },
        {
         "alignmentgroup": "True",
         "customdata": [
          [
           "894억",
           "1091만"
          ]
         ],
         "hovertemplate": "배우=우도환<br>장르=%{x}<br>출연 횟수=%{y}<br>총 매출액=%{customdata[0]}<br>총 관객수=%{customdata[1]}<extra></extra>",
         "legendgroup": "우도환",
         "marker": {
          "color": "#FECB52",
          "pattern": {
           "shape": ""
          }
         },
         "name": "우도환",
         "offsetgroup": "우도환",
         "orientation": "v",
         "showlegend": true,
         "textposition": "auto",
         "type": "bar",
         "x": [
          "액션"
         ],
         "xaxis": "x",
         "y": [
          3
         ],
         "yaxis": "y"
        },
        {
         "alignmentgroup": "True",
         "customdata": [
          [
           "853억",
           "1119만"
          ]
         ],
         "hovertemplate": "배우=한석규<br>장르=%{x}<br>출연 횟수=%{y}<br>총 매출액=%{customdata[0]}<br>총 관객수=%{customdata[1]}<extra></extra>",
         "legendgroup": "한석규",
         "marker": {
          "color": "#636efa",
          "pattern": {
           "shape": ""
          }
         },
         "name": "한석규",
         "offsetgroup": "한석규",
         "orientation": "v",
         "showlegend": true,
         "textposition": "auto",
         "type": "bar",
         "x": [
          "액션"
         ],
         "xaxis": "x",
         "y": [
          3
         ],
         "yaxis": "y"
        },
        {
         "alignmentgroup": "True",
         "customdata": [
          [
           "812억",
           "1010만"
          ]
         ],
         "hovertemplate": "배우=지승현<br>장르=%{x}<br>출연 횟수=%{y}<br>총 매출액=%{customdata[0]}<br>총 관객수=%{customdata[1]}<extra></extra>",
         "legendgroup": "지승현",
         "marker": {
          "color": "#EF553B",
          "pattern": {
           "shape": ""
          }
         },
         "name": "지승현",
         "offsetgroup": "지승현",
         "orientation": "v",
         "showlegend": true,
         "textposition": "auto",
         "type": "bar",
         "x": [
          "액션"
         ],
         "xaxis": "x",
         "y": [
          3
         ],
         "yaxis": "y"
        },
        {
         "alignmentgroup": "True",
         "customdata": [
          [
           "773억",
           "1065만"
          ]
         ],
         "hovertemplate": "배우=이현우<br>장르=%{x}<br>출연 횟수=%{y}<br>총 매출액=%{customdata[0]}<br>총 관객수=%{customdata[1]}<extra></extra>",
         "legendgroup": "이현우",
         "marker": {
          "color": "#00cc96",
          "pattern": {
           "shape": ""
          }
         },
         "name": "이현우",
         "offsetgroup": "이현우",
         "orientation": "v",
         "showlegend": true,
         "textposition": "auto",
         "type": "bar",
         "x": [
          "액션"
         ],
         "xaxis": "x",
         "y": [
          3
         ],
         "yaxis": "y"
        },
        {
         "alignmentgroup": "True",
         "customdata": [
          [
           "729억",
           "922만"
          ]
         ],
         "hovertemplate": "배우=김윤성<br>장르=%{x}<br>출연 횟수=%{y}<br>총 매출액=%{customdata[0]}<br>총 관객수=%{customdata[1]}<extra></extra>",
         "legendgroup": "김윤성",
         "marker": {
          "color": "#ab63fa",
          "pattern": {
           "shape": ""
          }
         },
         "name": "김윤성",
         "offsetgroup": "김윤성",
         "orientation": "v",
         "showlegend": true,
         "textposition": "auto",
         "type": "bar",
         "x": [
          "액션"
         ],
         "xaxis": "x",
         "y": [
          3
         ],
         "yaxis": "y"
        },
        {
         "alignmentgroup": "True",
         "customdata": [
          [
           "660억",
           "839만"
          ]
         ],
         "hovertemplate": "배우=박서준<br>장르=%{x}<br>출연 횟수=%{y}<br>총 매출액=%{customdata[0]}<br>총 관객수=%{customdata[1]}<extra></extra>",
         "legendgroup": "박서준",
         "marker": {
          "color": "#FFA15A",
          "pattern": {
           "shape": ""
          }
         },
         "name": "박서준",
         "offsetgroup": "박서준",
         "orientation": "v",
         "showlegend": true,
         "textposition": "auto",
         "type": "bar",
         "x": [
          "액션"
         ],
         "xaxis": "x",
         "y": [
          3
         ],
         "yaxis": "y"
        },
        {
         "alignmentgroup": "True",
         "customdata": [
          [
           "611억",
           "741만"
          ]
         ],
         "hovertemplate": "배우=안성기<br>장르=%{x}<br>출연 횟수=%{y}<br>총 매출액=%{customdata[0]}<br>총 관객수=%{customdata[1]}<extra></extra>",
         "legendgroup": "안성기",
         "marker": {
          "color": "#19d3f3",
          "pattern": {
           "shape": ""
          }
         },
         "name": "안성기",
         "offsetgroup": "안성기",
         "orientation": "v",
         "showlegend": true,
         "textposition": "auto",
         "type": "bar",
         "x": [
          "액션"
         ],
         "xaxis": "x",
         "y": [
          3
         ],
         "yaxis": "y"
        },
        {
         "alignmentgroup": "True",
         "customdata": [
          [
           "601억",
           "821만"
          ]
         ],
         "hovertemplate": "배우=기주봉<br>장르=%{x}<br>출연 횟수=%{y}<br>총 매출액=%{customdata[0]}<br>총 관객수=%{customdata[1]}<extra></extra>",
         "legendgroup": "기주봉",
         "marker": {
          "color": "#FF6692",
          "pattern": {
           "shape": ""
          }
         },
         "name": "기주봉",
         "offsetgroup": "기주봉",
         "orientation": "v",
         "showlegend": true,
         "textposition": "auto",
         "type": "bar",
         "x": [
          "액션"
         ],
         "xaxis": "x",
         "y": [
          3
         ],
         "yaxis": "y"
        },
        {
         "alignmentgroup": "True",
         "customdata": [
          [
           "536억",
           "675만"
          ],
          [
           "627억",
           "831만"
          ]
         ],
         "hovertemplate": "배우=이선균<br>장르=%{x}<br>출연 횟수=%{y}<br>총 매출액=%{customdata[0]}<br>총 관객수=%{customdata[1]}<extra></extra>",
         "legendgroup": "이선균",
         "marker": {
          "color": "#B6E880",
          "pattern": {
           "shape": ""
          }
         },
         "name": "이선균",
         "offsetgroup": "이선균",
         "orientation": "v",
         "showlegend": true,
         "textposition": "auto",
         "type": "bar",
         "x": [
          "액션",
          "코미디"
         ],
         "xaxis": "x",
         "y": [
          3,
          3
         ],
         "yaxis": "y"
        },
        {
         "alignmentgroup": "True",
         "customdata": [
          [
           "454억",
           "575만"
          ]
         ],
         "hovertemplate": "배우=조달환<br>장르=%{x}<br>출연 횟수=%{y}<br>총 매출액=%{customdata[0]}<br>총 관객수=%{customdata[1]}<extra></extra>",
         "legendgroup": "조달환",
         "marker": {
          "color": "#FF97FF",
          "pattern": {
           "shape": ""
          }
         },
         "name": "조달환",
         "offsetgroup": "조달환",
         "orientation": "v",
         "showlegend": true,
         "textposition": "auto",
         "type": "bar",
         "x": [
          "액션"
         ],
         "xaxis": "x",
         "y": [
          3
         ],
         "yaxis": "y"
        },
        {
         "alignmentgroup": "True",
         "customdata": [
          [
           "287억",
           "380만"
          ],
          [
           "1715억",
           "2036만"
          ]
         ],
         "hovertemplate": "배우=신하균<br>장르=%{x}<br>출연 횟수=%{y}<br>총 매출액=%{customdata[0]}<br>총 관객수=%{customdata[1]}<extra></extra>",
         "legendgroup": "신하균",
         "marker": {
          "color": "#FECB52",
          "pattern": {
           "shape": ""
          }
         },
         "name": "신하균",
         "offsetgroup": "신하균",
         "orientation": "v",
         "showlegend": true,
         "textposition": "auto",
         "type": "bar",
         "x": [
          "액션",
          "코미디"
         ],
         "xaxis": "x",
         "y": [
          3,
          4
         ],
         "yaxis": "y"
        },
        {
         "alignmentgroup": "True",
         "customdata": [
          [
           "2444억",
           "3285만"
          ]
         ],
         "hovertemplate": "배우=전지현<br>장르=%{x}<br>출연 횟수=%{y}<br>총 매출액=%{customdata[0]}<br>총 관객수=%{customdata[1]}<extra></extra>",
         "legendgroup": "전지현",
         "marker": {
          "color": "#636efa",
          "pattern": {
           "shape": ""
          }
         },
         "name": "전지현",
         "offsetgroup": "전지현",
         "orientation": "v",
         "showlegend": true,
         "textposition": "auto",
         "type": "bar",
         "x": [
          "액션"
         ],
         "xaxis": "x",
         "y": [
          3
         ],
         "yaxis": "y"
        },
        {
         "alignmentgroup": "True",
         "customdata": [
          [
           "2208억",
           "2821만"
          ]
         ],
         "hovertemplate": "배우=주석태<br>장르=%{x}<br>출연 횟수=%{y}<br>총 매출액=%{customdata[0]}<br>총 관객수=%{customdata[1]}<extra></extra>",
         "legendgroup": "주석태",
         "marker": {
          "color": "#EF553B",
          "pattern": {
           "shape": ""
          }
         },
         "name": "주석태",
         "offsetgroup": "주석태",
         "orientation": "v",
         "showlegend": true,
         "textposition": "auto",
         "type": "bar",
         "x": [
          "액션"
         ],
         "xaxis": "x",
         "y": [
          3
         ],
         "yaxis": "y"
        },
        {
         "alignmentgroup": "True",
         "customdata": [
          [
           "2099억",
           "2683만"
          ]
         ],
         "hovertemplate": "배우=이해영<br>장르=%{x}<br>출연 횟수=%{y}<br>총 매출액=%{customdata[0]}<br>총 관객수=%{customdata[1]}<extra></extra>",
         "legendgroup": "이해영",
         "marker": {
          "color": "#00cc96",
          "pattern": {
           "shape": ""
          }
         },
         "name": "이해영",
         "offsetgroup": "이해영",
         "orientation": "v",
         "showlegend": true,
         "textposition": "auto",
         "type": "bar",
         "x": [
          "액션"
         ],
         "xaxis": "x",
         "y": [
          3
         ],
         "yaxis": "y"
        },
        {
         "alignmentgroup": "True",
         "customdata": [
          [
           "1844억",
           "2319만"
          ]
         ],
         "hovertemplate": "배우=공유<br>장르=%{x}<br>출연 횟수=%{y}<br>총 매출액=%{customdata[0]}<br>총 관객수=%{customdata[1]}<extra></extra>",
         "legendgroup": "공유",
         "marker": {
          "color": "#ab63fa",
          "pattern": {
           "shape": ""
          }
         },
         "name": "공유",
         "offsetgroup": "공유",
         "orientation": "v",
         "showlegend": true,
         "textposition": "auto",
         "type": "bar",
         "x": [
          "액션"
         ],
         "xaxis": "x",
         "y": [
          3
         ],
         "yaxis": "y"
        },
        {
         "alignmentgroup": "True",
         "customdata": [
          [
           "1808억",
           "2310만"
          ]
         ],
         "hovertemplate": "배우=김명곤<br>장르=%{x}<br>출연 횟수=%{y}<br>총 매출액=%{customdata[0]}<br>총 관객수=%{customdata[1]}<extra></extra>",
         "legendgroup": "김명곤",
         "marker": {
          "color": "#FFA15A",
          "pattern": {
           "shape": ""
          }
         },
         "name": "김명곤",
         "offsetgroup": "김명곤",
         "orientation": "v",
         "showlegend": true,
         "textposition": "auto",
         "type": "bar",
         "x": [
          "액션"
         ],
         "xaxis": "x",
         "y": [
          3
         ],
         "yaxis": "y"
        },
        {
         "alignmentgroup": "True",
         "customdata": [
          [
           "1725억",
           "2241만"
          ]
         ],
         "hovertemplate": "배우=박보검<br>장르=%{x}<br>출연 횟수=%{y}<br>총 매출액=%{customdata[0]}<br>총 관객수=%{customdata[1]}<extra></extra>",
         "legendgroup": "박보검",
         "marker": {
          "color": "#19d3f3",
          "pattern": {
           "shape": ""
          }
         },
         "name": "박보검",
         "offsetgroup": "박보검",
         "orientation": "v",
         "showlegend": true,
         "textposition": "auto",
         "type": "bar",
         "x": [
          "액션"
         ],
         "xaxis": "x",
         "y": [
          3
         ],
         "yaxis": "y"
        },
        {
         "alignmentgroup": "True",
         "customdata": [
          [
           "1417억",
           "1809만"
          ],
          [
           "618억",
           "788만"
          ]
         ],
         "hovertemplate": "배우=정웅인<br>장르=%{x}<br>출연 횟수=%{y}<br>총 매출액=%{customdata[0]}<br>총 관객수=%{customdata[1]}<extra></extra>",
         "legendgroup": "정웅인",
         "marker": {
          "color": "#FF6692",
          "pattern": {
           "shape": ""
          }
         },
         "name": "정웅인",
         "offsetgroup": "정웅인",
         "orientation": "v",
         "showlegend": true,
         "textposition": "auto",
         "type": "bar",
         "x": [
          "액션",
          "코미디"
         ],
         "xaxis": "x",
         "y": [
          3,
          3
         ],
         "yaxis": "y"
        },
        {
         "alignmentgroup": "True",
         "customdata": [
          [
           "1317억",
           "1601만"
          ]
         ],
         "hovertemplate": "배우=김동영<br>장르=%{x}<br>출연 횟수=%{y}<br>총 매출액=%{customdata[0]}<br>총 관객수=%{customdata[1]}<extra></extra>",
         "legendgroup": "김동영",
         "marker": {
          "color": "#B6E880",
          "pattern": {
           "shape": ""
          }
         },
         "name": "김동영",
         "offsetgroup": "김동영",
         "orientation": "v",
         "showlegend": true,
         "textposition": "auto",
         "type": "bar",
         "x": [
          "액션"
         ],
         "xaxis": "x",
         "y": [
          3
         ],
         "yaxis": "y"
        },
        {
         "alignmentgroup": "True",
         "customdata": [
          [
           "436억",
           "580만"
          ]
         ],
         "hovertemplate": "배우=류승수<br>장르=%{x}<br>출연 횟수=%{y}<br>총 매출액=%{customdata[0]}<br>총 관객수=%{customdata[1]}<extra></extra>",
         "legendgroup": "류승수",
         "marker": {
          "color": "#FF97FF",
          "pattern": {
           "shape": ""
          }
         },
         "name": "류승수",
         "offsetgroup": "류승수",
         "orientation": "v",
         "showlegend": true,
         "textposition": "auto",
         "type": "bar",
         "x": [
          "전쟁"
         ],
         "xaxis": "x",
         "y": [
          3
         ],
         "yaxis": "y"
        },
        {
         "alignmentgroup": "True",
         "customdata": [
          [
           "1029억",
           "1355만"
          ]
         ],
         "hovertemplate": "배우=최무성<br>장르=%{x}<br>출연 횟수=%{y}<br>총 매출액=%{customdata[0]}<br>총 관객수=%{customdata[1]}<extra></extra>",
         "legendgroup": "최무성",
         "marker": {
          "color": "#FECB52",
          "pattern": {
           "shape": ""
          }
         },
         "name": "최무성",
         "offsetgroup": "최무성",
         "orientation": "v",
         "showlegend": true,
         "textposition": "auto",
         "type": "bar",
         "x": [
          "코미디"
         ],
         "xaxis": "x",
         "y": [
          4
         ],
         "yaxis": "y"
        },
        {
         "alignmentgroup": "True",
         "customdata": [
          [
           "650억",
           "911만"
          ]
         ],
         "hovertemplate": "배우=천보근<br>장르=%{x}<br>출연 횟수=%{y}<br>총 매출액=%{customdata[0]}<br>총 관객수=%{customdata[1]}<extra></extra>",
         "legendgroup": "천보근",
         "marker": {
          "color": "#636efa",
          "pattern": {
           "shape": ""
          }
         },
         "name": "천보근",
         "offsetgroup": "천보근",
         "orientation": "v",
         "showlegend": true,
         "textposition": "auto",
         "type": "bar",
         "x": [
          "코미디"
         ],
         "xaxis": "x",
         "y": [
          3
         ],
         "yaxis": "y"
        },
        {
         "alignmentgroup": "True",
         "customdata": [
          [
           "587억",
           "799만"
          ]
         ],
         "hovertemplate": "배우=이민기<br>장르=%{x}<br>출연 횟수=%{y}<br>총 매출액=%{customdata[0]}<br>총 관객수=%{customdata[1]}<extra></extra>",
         "legendgroup": "이민기",
         "marker": {
          "color": "#EF553B",
          "pattern": {
           "shape": ""
          }
         },
         "name": "이민기",
         "offsetgroup": "이민기",
         "orientation": "v",
         "showlegend": true,
         "textposition": "auto",
         "type": "bar",
         "x": [
          "코미디"
         ],
         "xaxis": "x",
         "y": [
          3
         ],
         "yaxis": "y"
        },
        {
         "alignmentgroup": "True",
         "customdata": [
          [
           "478억",
           "658만"
          ]
         ],
         "hovertemplate": "배우=오나라<br>장르=%{x}<br>출연 횟수=%{y}<br>총 매출액=%{customdata[0]}<br>총 관객수=%{customdata[1]}<extra></extra>",
         "legendgroup": "오나라",
         "marker": {
          "color": "#00cc96",
          "pattern": {
           "shape": ""
          }
         },
         "name": "오나라",
         "offsetgroup": "오나라",
         "orientation": "v",
         "showlegend": true,
         "textposition": "auto",
         "type": "bar",
         "x": [
          "코미디"
         ],
         "xaxis": "x",
         "y": [
          3
         ],
         "yaxis": "y"
        },
        {
         "alignmentgroup": "True",
         "customdata": [
          [
           "457억",
           "619만"
          ]
         ],
         "hovertemplate": "배우=김수미<br>장르=%{x}<br>출연 횟수=%{y}<br>총 매출액=%{customdata[0]}<br>총 관객수=%{customdata[1]}<extra></extra>",
         "legendgroup": "김수미",
         "marker": {
          "color": "#ab63fa",
          "pattern": {
           "shape": ""
          }
         },
         "name": "김수미",
         "offsetgroup": "김수미",
         "orientation": "v",
         "showlegend": true,
         "textposition": "auto",
         "type": "bar",
         "x": [
          "코미디"
         ],
         "xaxis": "x",
         "y": [
          3
         ],
         "yaxis": "y"
        },
        {
         "alignmentgroup": "True",
         "customdata": [
          [
           "431억",
           "545만"
          ]
         ],
         "hovertemplate": "배우=안재홍<br>장르=%{x}<br>출연 횟수=%{y}<br>총 매출액=%{customdata[0]}<br>총 관객수=%{customdata[1]}<extra></extra>",
         "legendgroup": "안재홍",
         "marker": {
          "color": "#FFA15A",
          "pattern": {
           "shape": ""
          }
         },
         "name": "안재홍",
         "offsetgroup": "안재홍",
         "orientation": "v",
         "showlegend": true,
         "textposition": "auto",
         "type": "bar",
         "x": [
          "코미디"
         ],
         "xaxis": "x",
         "y": [
          3
         ],
         "yaxis": "y"
        },
        {
         "alignmentgroup": "True",
         "customdata": [
          [
           "1347억",
           "1852만"
          ]
         ],
         "hovertemplate": "배우=박신혜<br>장르=%{x}<br>출연 횟수=%{y}<br>총 매출액=%{customdata[0]}<br>총 관객수=%{customdata[1]}<extra></extra>",
         "legendgroup": "박신혜",
         "marker": {
          "color": "#19d3f3",
          "pattern": {
           "shape": ""
          }
         },
         "name": "박신혜",
         "offsetgroup": "박신혜",
         "orientation": "v",
         "showlegend": true,
         "textposition": "auto",
         "type": "bar",
         "x": [
          "코미디"
         ],
         "xaxis": "x",
         "y": [
          3
         ],
         "yaxis": "y"
        },
        {
         "alignmentgroup": "True",
         "customdata": [
          [
           "1291억",
           "1795만"
          ]
         ],
         "hovertemplate": "배우=김정태<br>장르=%{x}<br>출연 횟수=%{y}<br>총 매출액=%{customdata[0]}<br>총 관객수=%{customdata[1]}<extra></extra>",
         "legendgroup": "김정태",
         "marker": {
          "color": "#FF6692",
          "pattern": {
           "shape": ""
          }
         },
         "name": "김정태",
         "offsetgroup": "김정태",
         "orientation": "v",
         "showlegend": true,
         "textposition": "auto",
         "type": "bar",
         "x": [
          "코미디"
         ],
         "xaxis": "x",
         "y": [
          3
         ],
         "yaxis": "y"
        },
        {
         "alignmentgroup": "True",
         "customdata": [
          [
           "1220억",
           "1465만"
          ]
         ],
         "hovertemplate": "배우=박성일<br>장르=%{x}<br>출연 횟수=%{y}<br>총 매출액=%{customdata[0]}<br>총 관객수=%{customdata[1]}<extra></extra>",
         "legendgroup": "박성일",
         "marker": {
          "color": "#B6E880",
          "pattern": {
           "shape": ""
          }
         },
         "name": "박성일",
         "offsetgroup": "박성일",
         "orientation": "v",
         "showlegend": true,
         "textposition": "auto",
         "type": "bar",
         "x": [
          "코미디"
         ],
         "xaxis": "x",
         "y": [
          3
         ],
         "yaxis": "y"
        }
       ],
       "layout": {
        "barmode": "relative",
        "legend": {
         "title": {
          "text": "배우"
         },
         "tracegroupgap": 0
        },
        "showlegend": false,
        "template": {
         "data": {
          "bar": [
           {
            "error_x": {
             "color": "#2a3f5f"
            },
            "error_y": {
             "color": "#2a3f5f"
            },
            "marker": {
             "line": {
              "color": "#E5ECF6",
              "width": 0.5
             },
             "pattern": {
              "fillmode": "overlay",
              "size": 10,
              "solidity": 0.2
             }
            },
            "type": "bar"
           }
          ],
          "barpolar": [
           {
            "marker": {
             "line": {
              "color": "#E5ECF6",
              "width": 0.5
             },
             "pattern": {
              "fillmode": "overlay",
              "size": 10,
              "solidity": 0.2
             }
            },
            "type": "barpolar"
           }
          ],
          "carpet": [
           {
            "aaxis": {
             "endlinecolor": "#2a3f5f",
             "gridcolor": "white",
             "linecolor": "white",
             "minorgridcolor": "white",
             "startlinecolor": "#2a3f5f"
            },
            "baxis": {
             "endlinecolor": "#2a3f5f",
             "gridcolor": "white",
             "linecolor": "white",
             "minorgridcolor": "white",
             "startlinecolor": "#2a3f5f"
            },
            "type": "carpet"
           }
          ],
          "choropleth": [
           {
            "colorbar": {
             "outlinewidth": 0,
             "ticks": ""
            },
            "type": "choropleth"
           }
          ],
          "contour": [
           {
            "colorbar": {
             "outlinewidth": 0,
             "ticks": ""
            },
            "colorscale": [
             [
              0,
              "#0d0887"
             ],
             [
              0.1111111111111111,
              "#46039f"
             ],
             [
              0.2222222222222222,
              "#7201a8"
             ],
             [
              0.3333333333333333,
              "#9c179e"
             ],
             [
              0.4444444444444444,
              "#bd3786"
             ],
             [
              0.5555555555555556,
              "#d8576b"
             ],
             [
              0.6666666666666666,
              "#ed7953"
             ],
             [
              0.7777777777777778,
              "#fb9f3a"
             ],
             [
              0.8888888888888888,
              "#fdca26"
             ],
             [
              1,
              "#f0f921"
             ]
            ],
            "type": "contour"
           }
          ],
          "contourcarpet": [
           {
            "colorbar": {
             "outlinewidth": 0,
             "ticks": ""
            },
            "type": "contourcarpet"
           }
          ],
          "heatmap": [
           {
            "colorbar": {
             "outlinewidth": 0,
             "ticks": ""
            },
            "colorscale": [
             [
              0,
              "#0d0887"
             ],
             [
              0.1111111111111111,
              "#46039f"
             ],
             [
              0.2222222222222222,
              "#7201a8"
             ],
             [
              0.3333333333333333,
              "#9c179e"
             ],
             [
              0.4444444444444444,
              "#bd3786"
             ],
             [
              0.5555555555555556,
              "#d8576b"
             ],
             [
              0.6666666666666666,
              "#ed7953"
             ],
             [
              0.7777777777777778,
              "#fb9f3a"
             ],
             [
              0.8888888888888888,
              "#fdca26"
             ],
             [
              1,
              "#f0f921"
             ]
            ],
            "type": "heatmap"
           }
          ],
          "heatmapgl": [
           {
            "colorbar": {
             "outlinewidth": 0,
             "ticks": ""
            },
            "colorscale": [
             [
              0,
              "#0d0887"
             ],
             [
              0.1111111111111111,
              "#46039f"
             ],
             [
              0.2222222222222222,
              "#7201a8"
             ],
             [
              0.3333333333333333,
              "#9c179e"
             ],
             [
              0.4444444444444444,
              "#bd3786"
             ],
             [
              0.5555555555555556,
              "#d8576b"
             ],
             [
              0.6666666666666666,
              "#ed7953"
             ],
             [
              0.7777777777777778,
              "#fb9f3a"
             ],
             [
              0.8888888888888888,
              "#fdca26"
             ],
             [
              1,
              "#f0f921"
             ]
            ],
            "type": "heatmapgl"
           }
          ],
          "histogram": [
           {
            "marker": {
             "pattern": {
              "fillmode": "overlay",
              "size": 10,
              "solidity": 0.2
             }
            },
            "type": "histogram"
           }
          ],
          "histogram2d": [
           {
            "colorbar": {
             "outlinewidth": 0,
             "ticks": ""
            },
            "colorscale": [
             [
              0,
              "#0d0887"
             ],
             [
              0.1111111111111111,
              "#46039f"
             ],
             [
              0.2222222222222222,
              "#7201a8"
             ],
             [
              0.3333333333333333,
              "#9c179e"
             ],
             [
              0.4444444444444444,
              "#bd3786"
             ],
             [
              0.5555555555555556,
              "#d8576b"
             ],
             [
              0.6666666666666666,
              "#ed7953"
             ],
             [
              0.7777777777777778,
              "#fb9f3a"
             ],
             [
              0.8888888888888888,
              "#fdca26"
             ],
             [
              1,
              "#f0f921"
             ]
            ],
            "type": "histogram2d"
           }
          ],
          "histogram2dcontour": [
           {
            "colorbar": {
             "outlinewidth": 0,
             "ticks": ""
            },
            "colorscale": [
             [
              0,
              "#0d0887"
             ],
             [
              0.1111111111111111,
              "#46039f"
             ],
             [
              0.2222222222222222,
              "#7201a8"
             ],
             [
              0.3333333333333333,
              "#9c179e"
             ],
             [
              0.4444444444444444,
              "#bd3786"
             ],
             [
              0.5555555555555556,
              "#d8576b"
             ],
             [
              0.6666666666666666,
              "#ed7953"
             ],
             [
              0.7777777777777778,
              "#fb9f3a"
             ],
             [
              0.8888888888888888,
              "#fdca26"
             ],
             [
              1,
              "#f0f921"
             ]
            ],
            "type": "histogram2dcontour"
           }
          ],
          "mesh3d": [
           {
            "colorbar": {
             "outlinewidth": 0,
             "ticks": ""
            },
            "type": "mesh3d"
           }
          ],
          "parcoords": [
           {
            "line": {
             "colorbar": {
              "outlinewidth": 0,
              "ticks": ""
             }
            },
            "type": "parcoords"
           }
          ],
          "pie": [
           {
            "automargin": true,
            "type": "pie"
           }
          ],
          "scatter": [
           {
            "fillpattern": {
             "fillmode": "overlay",
             "size": 10,
             "solidity": 0.2
            },
            "type": "scatter"
           }
          ],
          "scatter3d": [
           {
            "line": {
             "colorbar": {
              "outlinewidth": 0,
              "ticks": ""
             }
            },
            "marker": {
             "colorbar": {
              "outlinewidth": 0,
              "ticks": ""
             }
            },
            "type": "scatter3d"
           }
          ],
          "scattercarpet": [
           {
            "marker": {
             "colorbar": {
              "outlinewidth": 0,
              "ticks": ""
             }
            },
            "type": "scattercarpet"
           }
          ],
          "scattergeo": [
           {
            "marker": {
             "colorbar": {
              "outlinewidth": 0,
              "ticks": ""
             }
            },
            "type": "scattergeo"
           }
          ],
          "scattergl": [
           {
            "marker": {
             "colorbar": {
              "outlinewidth": 0,
              "ticks": ""
             }
            },
            "type": "scattergl"
           }
          ],
          "scattermapbox": [
           {
            "marker": {
             "colorbar": {
              "outlinewidth": 0,
              "ticks": ""
             }
            },
            "type": "scattermapbox"
           }
          ],
          "scatterpolar": [
           {
            "marker": {
             "colorbar": {
              "outlinewidth": 0,
              "ticks": ""
             }
            },
            "type": "scatterpolar"
           }
          ],
          "scatterpolargl": [
           {
            "marker": {
             "colorbar": {
              "outlinewidth": 0,
              "ticks": ""
             }
            },
            "type": "scatterpolargl"
           }
          ],
          "scatterternary": [
           {
            "marker": {
             "colorbar": {
              "outlinewidth": 0,
              "ticks": ""
             }
            },
            "type": "scatterternary"
           }
          ],
          "surface": [
           {
            "colorbar": {
             "outlinewidth": 0,
             "ticks": ""
            },
            "colorscale": [
             [
              0,
              "#0d0887"
             ],
             [
              0.1111111111111111,
              "#46039f"
             ],
             [
              0.2222222222222222,
              "#7201a8"
             ],
             [
              0.3333333333333333,
              "#9c179e"
             ],
             [
              0.4444444444444444,
              "#bd3786"
             ],
             [
              0.5555555555555556,
              "#d8576b"
             ],
             [
              0.6666666666666666,
              "#ed7953"
             ],
             [
              0.7777777777777778,
              "#fb9f3a"
             ],
             [
              0.8888888888888888,
              "#fdca26"
             ],
             [
              1,
              "#f0f921"
             ]
            ],
            "type": "surface"
           }
          ],
          "table": [
           {
            "cells": {
             "fill": {
              "color": "#EBF0F8"
             },
             "line": {
              "color": "white"
             }
            },
            "header": {
             "fill": {
              "color": "#C8D4E3"
             },
             "line": {
              "color": "white"
             }
            },
            "type": "table"
           }
          ]
         },
         "layout": {
          "annotationdefaults": {
           "arrowcolor": "#2a3f5f",
           "arrowhead": 0,
           "arrowwidth": 1
          },
          "autotypenumbers": "strict",
          "coloraxis": {
           "colorbar": {
            "outlinewidth": 0,
            "ticks": ""
           }
          },
          "colorscale": {
           "diverging": [
            [
             0,
             "#8e0152"
            ],
            [
             0.1,
             "#c51b7d"
            ],
            [
             0.2,
             "#de77ae"
            ],
            [
             0.3,
             "#f1b6da"
            ],
            [
             0.4,
             "#fde0ef"
            ],
            [
             0.5,
             "#f7f7f7"
            ],
            [
             0.6,
             "#e6f5d0"
            ],
            [
             0.7,
             "#b8e186"
            ],
            [
             0.8,
             "#7fbc41"
            ],
            [
             0.9,
             "#4d9221"
            ],
            [
             1,
             "#276419"
            ]
           ],
           "sequential": [
            [
             0,
             "#0d0887"
            ],
            [
             0.1111111111111111,
             "#46039f"
            ],
            [
             0.2222222222222222,
             "#7201a8"
            ],
            [
             0.3333333333333333,
             "#9c179e"
            ],
            [
             0.4444444444444444,
             "#bd3786"
            ],
            [
             0.5555555555555556,
             "#d8576b"
            ],
            [
             0.6666666666666666,
             "#ed7953"
            ],
            [
             0.7777777777777778,
             "#fb9f3a"
            ],
            [
             0.8888888888888888,
             "#fdca26"
            ],
            [
             1,
             "#f0f921"
            ]
           ],
           "sequentialminus": [
            [
             0,
             "#0d0887"
            ],
            [
             0.1111111111111111,
             "#46039f"
            ],
            [
             0.2222222222222222,
             "#7201a8"
            ],
            [
             0.3333333333333333,
             "#9c179e"
            ],
            [
             0.4444444444444444,
             "#bd3786"
            ],
            [
             0.5555555555555556,
             "#d8576b"
            ],
            [
             0.6666666666666666,
             "#ed7953"
            ],
            [
             0.7777777777777778,
             "#fb9f3a"
            ],
            [
             0.8888888888888888,
             "#fdca26"
            ],
            [
             1,
             "#f0f921"
            ]
           ]
          },
          "colorway": [
           "#636efa",
           "#EF553B",
           "#00cc96",
           "#ab63fa",
           "#FFA15A",
           "#19d3f3",
           "#FF6692",
           "#B6E880",
           "#FF97FF",
           "#FECB52"
          ],
          "font": {
           "color": "#2a3f5f"
          },
          "geo": {
           "bgcolor": "white",
           "lakecolor": "white",
           "landcolor": "#E5ECF6",
           "showlakes": true,
           "showland": true,
           "subunitcolor": "white"
          },
          "hoverlabel": {
           "align": "left"
          },
          "hovermode": "closest",
          "mapbox": {
           "style": "light"
          },
          "paper_bgcolor": "white",
          "plot_bgcolor": "#E5ECF6",
          "polar": {
           "angularaxis": {
            "gridcolor": "white",
            "linecolor": "white",
            "ticks": ""
           },
           "bgcolor": "#E5ECF6",
           "radialaxis": {
            "gridcolor": "white",
            "linecolor": "white",
            "ticks": ""
           }
          },
          "scene": {
           "xaxis": {
            "backgroundcolor": "#E5ECF6",
            "gridcolor": "white",
            "gridwidth": 2,
            "linecolor": "white",
            "showbackground": true,
            "ticks": "",
            "zerolinecolor": "white"
           },
           "yaxis": {
            "backgroundcolor": "#E5ECF6",
            "gridcolor": "white",
            "gridwidth": 2,
            "linecolor": "white",
            "showbackground": true,
            "ticks": "",
            "zerolinecolor": "white"
           },
           "zaxis": {
            "backgroundcolor": "#E5ECF6",
            "gridcolor": "white",
            "gridwidth": 2,
            "linecolor": "white",
            "showbackground": true,
            "ticks": "",
            "zerolinecolor": "white"
           }
          },
          "shapedefaults": {
           "line": {
            "color": "#2a3f5f"
           }
          },
          "ternary": {
           "aaxis": {
            "gridcolor": "white",
            "linecolor": "white",
            "ticks": ""
           },
           "baxis": {
            "gridcolor": "white",
            "linecolor": "white",
            "ticks": ""
           },
           "bgcolor": "#E5ECF6",
           "caxis": {
            "gridcolor": "white",
            "linecolor": "white",
            "ticks": ""
           }
          },
          "title": {
           "x": 0.05
          },
          "xaxis": {
           "automargin": true,
           "gridcolor": "white",
           "linecolor": "white",
           "ticks": "",
           "title": {
            "standoff": 15
           },
           "zerolinecolor": "white",
           "zerolinewidth": 2
          },
          "yaxis": {
           "automargin": true,
           "gridcolor": "white",
           "linecolor": "white",
           "ticks": "",
           "title": {
            "standoff": 15
           },
           "zerolinecolor": "white",
           "zerolinewidth": 2
          }
         }
        },
        "title": {
         "text": "2010년대 장르별 배우 출연 횟수 (3회 이상 출연한 배우)"
        },
        "xaxis": {
         "anchor": "y",
         "categoryarray": [
          "판타지",
          "코미디",
          "전쟁",
          "어드벤처",
          "액션",
          "스릴러",
          "사극",
          "범죄",
          "미스터리",
          "멜로/로맨스",
          "드라마"
         ],
         "categoryorder": "total descending",
         "domain": [
          0,
          1
         ],
         "title": {
          "text": "장르"
         }
        },
        "yaxis": {
         "anchor": "x",
         "domain": [
          0,
          1
         ],
         "title": {
          "text": "출연 횟수"
         }
        }
       }
      }
     },
     "metadata": {},
     "output_type": "display_data"
    }
   ],
   "source": [
    "data = pd.read_csv('5.2_dataset_forviz_add_gener.csv')\n",
    "\n",
    "# 매출액과 관객수 데이터 형태 처리\n",
    "data['매출액'] = data['매출액'].str.replace(',', '').astype(float)\n",
    "data['관객수'] = data['관객수'].str.replace(',', '').astype(int)\n",
    "\n",
    "# 개봉일에서 연도 추출\n",
    "data['year'] = pd.to_datetime(data['개봉일']).dt.year\n",
    "\n",
    "# 1990년대 영화만 필터링\n",
    "data = data[(data['year'] >= 2010) & (data['year'] < 2020)]\n",
    "\n",
    "\n",
    "# 데이터 형태 확인 및 처리\n",
    "def safe_eval(x):\n",
    "    if isinstance(x, str):\n",
    "        try:\n",
    "            return eval(x)\n",
    "        except:\n",
    "            return []  # 오류 발생시 빈 리스트 반환\n",
    "    return x if isinstance(x, list) else []\n",
    "\n",
    "data['actor_main_name'] = data['actor_main_name'].apply(safe_eval)\n",
    "data['actor_sub_name'] = data['actor_sub_name'].apply(safe_eval)\n",
    "\n",
    "# 숫자를 한글식 표현으로 변환하는 함수\n",
    "def korean_style_number(num, is_revenue=False):\n",
    "    units = ['만', '억', '조', '경']\n",
    "    steps = [10000, 100000000, 1000000000000, 10000000000000000]\n",
    "    result = ''\n",
    "    for i, step in enumerate(steps[::-1]):\n",
    "        if num >= step:\n",
    "            result += str(int(num // step)) + units[::-1][i]\n",
    "            num %= step\n",
    "        if is_revenue and units[::-1][i] == '억':\n",
    "            break\n",
    "    return result\n",
    "\n",
    "# 장르명 정규화 함수\n",
    "def normalize_genre(genre):\n",
    "    genre = genre.strip()  # 공백 제거\n",
    "    genre = genre.replace(' ', '')  # 중간 공백 제거\n",
    "    genre = genre.lower()  # 소문자로 통일\n",
    "    return genre\n",
    "\n",
    "# 장르별로 배우 출연 횟수 및 매출, 관객수 집계\n",
    "genre_actor_stats = {}\n",
    "\n",
    "for index, row in data.iterrows():\n",
    "    genres = [normalize_genre(gen) for gen in row['only_gener'].split(',')]\n",
    "    actors = set(row['actor_main_name'] + row['actor_sub_name'])  # 주연과 조연 합치기\n",
    "    revenue = row['매출액']\n",
    "    audience = row['관객수']\n",
    "    \n",
    "    for genre in genres:\n",
    "        if genre not in genre_actor_stats:\n",
    "            genre_actor_stats[genre] = {}\n",
    "        \n",
    "        for actor in actors:\n",
    "            if actor not in genre_actor_stats[genre]:\n",
    "                genre_actor_stats[genre][actor] = {'Count': 0, 'Total Revenue': 0, 'Total Audience': 0}\n",
    "            genre_actor_stats[genre][actor]['Count'] += 1\n",
    "            genre_actor_stats[genre][actor]['Total Revenue'] += revenue\n",
    "            genre_actor_stats[genre][actor]['Total Audience'] += audience\n",
    "\n",
    "# 데이터 프레임으로 변환 및 한글식 숫자 변환\n",
    "rows = []\n",
    "for genre, actor_stats in genre_actor_stats.items():\n",
    "    for actor, stats in actor_stats.items():\n",
    "        if stats['Count'] >= 3:  # 3회 이상 출연한 배우만 포함\n",
    "            rows.append({\n",
    "                '장르': genre, \n",
    "                '배우': actor, \n",
    "                '출연 횟수': stats['Count'],\n",
    "                '총 매출액': korean_style_number(stats['Total Revenue'], is_revenue=True),\n",
    "                '총 관객수': korean_style_number(stats['Total Audience'])\n",
    "            })\n",
    "\n",
    "df_actor_stats = pd.DataFrame(rows)\n",
    "df_actor_stats.sort_values(by=['장르', '출연 횟수', '총 매출액', '총 관객수'], ascending=[True, False, False, False], inplace=True)\n",
    "\n",
    "# 시각화\n",
    "fig = px.bar(df_actor_stats, x='장르', y='출연 횟수', color='배우', title='2010년대 장르별 배우 출연 횟수 (3회 이상 출연한 배우)',\n",
    "             hover_data=['총 매출액', '총 관객수'],\n",
    "             category_orders={\"장르\": sorted(df_actor_stats['장르'].unique(), reverse=True)})\n",
    "fig.update_layout(xaxis={'categoryorder':'total descending'}, showlegend=False)\n",
    "fig.show()\n",
    "fig.write_html('jh_actor_genre_2010.html')"
   ]
  },
  {
   "cell_type": "markdown",
   "id": "b7787ea0",
   "metadata": {},
   "source": [
    "## 2020년대 (배우수가 적여 2회 이상 출연으로)"
   ]
  },
  {
   "cell_type": "code",
   "execution_count": 4,
   "id": "d9cc4110",
   "metadata": {},
   "outputs": [
    {
     "data": {
      "application/vnd.plotly.v1+json": {
       "config": {
        "plotlyServerURL": "https://plot.ly"
       },
       "data": [
        {
         "alignmentgroup": "True",
         "customdata": [
          [
           "995억",
           "1065만"
          ]
         ],
         "hovertemplate": "배우=이병헌<br>장르=%{x}<br>출연 횟수=%{y}<br>총 매출액=%{customdata[0]}<br>총 관객수=%{customdata[1]}<extra></extra>",
         "legendgroup": "이병헌",
         "marker": {
          "color": "#636efa",
          "pattern": {
           "shape": ""
          }
         },
         "name": "이병헌",
         "offsetgroup": "이병헌",
         "orientation": "v",
         "showlegend": true,
         "textposition": "auto",
         "type": "bar",
         "x": [
          "드라마"
         ],
         "xaxis": "x",
         "y": [
          3
         ],
         "yaxis": "y"
        },
        {
         "alignmentgroup": "True",
         "customdata": [
          [
           "967억",
           "1042만"
          ]
         ],
         "hovertemplate": "배우=김소진<br>장르=%{x}<br>출연 횟수=%{y}<br>총 매출액=%{customdata[0]}<br>총 관객수=%{customdata[1]}<extra></extra>",
         "legendgroup": "김소진",
         "marker": {
          "color": "#EF553B",
          "pattern": {
           "shape": ""
          }
         },
         "name": "김소진",
         "offsetgroup": "김소진",
         "orientation": "v",
         "showlegend": true,
         "textposition": "auto",
         "type": "bar",
         "x": [
          "드라마"
         ],
         "xaxis": "x",
         "y": [
          3
         ],
         "yaxis": "y"
        },
        {
         "alignmentgroup": "True",
         "customdata": [
          [
           "437억",
           "437만"
          ]
         ],
         "hovertemplate": "배우=송강호<br>장르=%{x}<br>출연 횟수=%{y}<br>총 매출액=%{customdata[0]}<br>총 관객수=%{customdata[1]}<extra></extra>",
         "legendgroup": "송강호",
         "marker": {
          "color": "#00cc96",
          "pattern": {
           "shape": ""
          }
         },
         "name": "송강호",
         "offsetgroup": "송강호",
         "orientation": "v",
         "showlegend": true,
         "textposition": "auto",
         "type": "bar",
         "x": [
          "드라마"
         ],
         "xaxis": "x",
         "y": [
          3
         ],
         "yaxis": "y"
        },
        {
         "alignmentgroup": "True",
         "customdata": [
          [
           "1871억",
           "1927만"
          ],
          [
           "592억",
           "614만"
          ]
         ],
         "hovertemplate": "배우=정우성<br>장르=%{x}<br>출연 횟수=%{y}<br>총 매출액=%{customdata[0]}<br>총 관객수=%{customdata[1]}<extra></extra>",
         "legendgroup": "정우성",
         "marker": {
          "color": "#ab63fa",
          "pattern": {
           "shape": ""
          }
         },
         "name": "정우성",
         "offsetgroup": "정우성",
         "orientation": "v",
         "showlegend": true,
         "textposition": "auto",
         "type": "bar",
         "x": [
          "드라마",
          "액션"
         ],
         "xaxis": "x",
         "y": [
          3,
          2
         ],
         "yaxis": "y"
        },
        {
         "alignmentgroup": "True",
         "customdata": [
          [
           "1573억",
           "1663만"
          ],
          [
           "596억",
           "636만"
          ]
         ],
         "hovertemplate": "배우=유성주<br>장르=%{x}<br>출연 횟수=%{y}<br>총 매출액=%{customdata[0]}<br>총 관객수=%{customdata[1]}<extra></extra>",
         "legendgroup": "유성주",
         "marker": {
          "color": "#FFA15A",
          "pattern": {
           "shape": ""
          }
         },
         "name": "유성주",
         "offsetgroup": "유성주",
         "orientation": "v",
         "showlegend": true,
         "textposition": "auto",
         "type": "bar",
         "x": [
          "드라마",
          "액션"
         ],
         "xaxis": "x",
         "y": [
          3,
          2
         ],
         "yaxis": "y"
        },
        {
         "alignmentgroup": "True",
         "customdata": [
          [
           "898억",
           "897만"
          ]
         ],
         "hovertemplate": "배우=공명<br>장르=%{x}<br>출연 횟수=%{y}<br>총 매출액=%{customdata[0]}<br>총 관객수=%{customdata[1]}<extra></extra>",
         "legendgroup": "공명",
         "marker": {
          "color": "#19d3f3",
          "pattern": {
           "shape": ""
          }
         },
         "name": "공명",
         "offsetgroup": "공명",
         "orientation": "v",
         "showlegend": true,
         "textposition": "auto",
         "type": "bar",
         "x": [
          "드라마"
         ],
         "xaxis": "x",
         "y": [
          2
         ],
         "yaxis": "y"
        },
        {
         "alignmentgroup": "True",
         "customdata": [
          [
           "858억",
           "910만"
          ]
         ],
         "hovertemplate": "배우=이도국<br>장르=%{x}<br>출연 횟수=%{y}<br>총 매출액=%{customdata[0]}<br>총 관객수=%{customdata[1]}<extra></extra>",
         "legendgroup": "이도국",
         "marker": {
          "color": "#FF6692",
          "pattern": {
           "shape": ""
          }
         },
         "name": "이도국",
         "offsetgroup": "이도국",
         "orientation": "v",
         "showlegend": true,
         "textposition": "auto",
         "type": "bar",
         "x": [
          "드라마"
         ],
         "xaxis": "x",
         "y": [
          2
         ],
         "yaxis": "y"
        },
        {
         "alignmentgroup": "True",
         "customdata": [
          [
           "858억",
           "910만"
          ],
          [
           "942억",
           "949만"
          ]
         ],
         "hovertemplate": "배우=이태형<br>장르=%{x}<br>출연 횟수=%{y}<br>총 매출액=%{customdata[0]}<br>총 관객수=%{customdata[1]}<extra></extra>",
         "legendgroup": "이태형",
         "marker": {
          "color": "#B6E880",
          "pattern": {
           "shape": ""
          }
         },
         "name": "이태형",
         "offsetgroup": "이태형",
         "orientation": "v",
         "showlegend": true,
         "textposition": "auto",
         "type": "bar",
         "x": [
          "드라마",
          "액션"
         ],
         "xaxis": "x",
         "y": [
          2,
          2
         ],
         "yaxis": "y"
        },
        {
         "alignmentgroup": "True",
         "customdata": [
          [
           "838억",
           "832만"
          ]
         ],
         "hovertemplate": "배우=윤제문<br>장르=%{x}<br>출연 횟수=%{y}<br>총 매출액=%{customdata[0]}<br>총 관객수=%{customdata[1]}<extra></extra>",
         "legendgroup": "윤제문",
         "marker": {
          "color": "#FF97FF",
          "pattern": {
           "shape": ""
          }
         },
         "name": "윤제문",
         "offsetgroup": "윤제문",
         "orientation": "v",
         "showlegend": true,
         "textposition": "auto",
         "type": "bar",
         "x": [
          "드라마"
         ],
         "xaxis": "x",
         "y": [
          2
         ],
         "yaxis": "y"
        },
        {
         "alignmentgroup": "True",
         "customdata": [
          [
           "791억",
           "796만"
          ],
          [
           "791억",
           "796만"
          ]
         ],
         "hovertemplate": "배우=정만식<br>장르=%{x}<br>출연 횟수=%{y}<br>총 매출액=%{customdata[0]}<br>총 관객수=%{customdata[1]}<extra></extra>",
         "legendgroup": "정만식",
         "marker": {
          "color": "#FECB52",
          "pattern": {
           "shape": ""
          }
         },
         "name": "정만식",
         "offsetgroup": "정만식",
         "orientation": "v",
         "showlegend": true,
         "textposition": "auto",
         "type": "bar",
         "x": [
          "드라마",
          "액션"
         ],
         "xaxis": "x",
         "y": [
          2,
          2
         ],
         "yaxis": "y"
        },
        {
         "alignmentgroup": "True",
         "customdata": [
          [
           "704억",
           "766만"
          ]
         ],
         "hovertemplate": "배우=김도윤<br>장르=%{x}<br>출연 횟수=%{y}<br>총 매출액=%{customdata[0]}<br>총 관객수=%{customdata[1]}<extra></extra>",
         "legendgroup": "김도윤",
         "marker": {
          "color": "#636efa",
          "pattern": {
           "shape": ""
          }
         },
         "name": "김도윤",
         "offsetgroup": "김도윤",
         "orientation": "v",
         "showlegend": true,
         "textposition": "auto",
         "type": "bar",
         "x": [
          "드라마"
         ],
         "xaxis": "x",
         "y": [
          2
         ],
         "yaxis": "y"
        },
        {
         "alignmentgroup": "True",
         "customdata": [
          [
           "676억",
           "742만"
          ],
          [
           "676억",
           "742만"
          ]
         ],
         "hovertemplate": "배우=구교환<br>장르=%{x}<br>출연 횟수=%{y}<br>총 매출액=%{customdata[0]}<br>총 관객수=%{customdata[1]}<extra></extra>",
         "legendgroup": "구교환",
         "marker": {
          "color": "#EF553B",
          "pattern": {
           "shape": ""
          }
         },
         "name": "구교환",
         "offsetgroup": "구교환",
         "orientation": "v",
         "showlegend": true,
         "textposition": "auto",
         "type": "bar",
         "x": [
          "드라마",
          "액션"
         ],
         "xaxis": "x",
         "y": [
          2,
          2
         ],
         "yaxis": "y"
        },
        {
         "alignmentgroup": "True",
         "customdata": [
          [
           "655억",
           "641만"
          ]
         ],
         "hovertemplate": "배우=임형국<br>장르=%{x}<br>출연 횟수=%{y}<br>총 매출액=%{customdata[0]}<br>총 관객수=%{customdata[1]}<extra></extra>",
         "legendgroup": "임형국",
         "marker": {
          "color": "#00cc96",
          "pattern": {
           "shape": ""
          }
         },
         "name": "임형국",
         "offsetgroup": "임형국",
         "orientation": "v",
         "showlegend": true,
         "textposition": "auto",
         "type": "bar",
         "x": [
          "드라마"
         ],
         "xaxis": "x",
         "y": [
          2
         ],
         "yaxis": "y"
        },
        {
         "alignmentgroup": "True",
         "customdata": [
          [
           "655억",
           "641만"
          ],
          [
           "1155억",
           "1133만"
          ]
         ],
         "hovertemplate": "배우=임성재<br>장르=%{x}<br>출연 횟수=%{y}<br>총 매출액=%{customdata[0]}<br>총 관객수=%{customdata[1]}<extra></extra>",
         "legendgroup": "임성재",
         "marker": {
          "color": "#ab63fa",
          "pattern": {
           "shape": ""
          }
         },
         "name": "임성재",
         "offsetgroup": "임성재",
         "orientation": "v",
         "showlegend": true,
         "textposition": "auto",
         "type": "bar",
         "x": [
          "드라마",
          "액션"
         ],
         "xaxis": "x",
         "y": [
          2,
          2
         ],
         "yaxis": "y"
        },
        {
         "alignmentgroup": "True",
         "customdata": [
          [
           "605억",
           "625만"
          ]
         ],
         "hovertemplate": "배우=김학선<br>장르=%{x}<br>출연 횟수=%{y}<br>총 매출액=%{customdata[0]}<br>총 관객수=%{customdata[1]}<extra></extra>",
         "legendgroup": "김학선",
         "marker": {
          "color": "#FFA15A",
          "pattern": {
           "shape": ""
          }
         },
         "name": "김학선",
         "offsetgroup": "김학선",
         "orientation": "v",
         "showlegend": true,
         "textposition": "auto",
         "type": "bar",
         "x": [
          "드라마"
         ],
         "xaxis": "x",
         "y": [
          2
         ],
         "yaxis": "y"
        },
        {
         "alignmentgroup": "True",
         "customdata": [
          [
           "585억",
           "592만"
          ],
          [
           "1129억",
           "1141만"
          ]
         ],
         "hovertemplate": "배우=김종수<br>장르=%{x}<br>출연 횟수=%{y}<br>총 매출액=%{customdata[0]}<br>총 관객수=%{customdata[1]}<extra></extra>",
         "legendgroup": "김종수",
         "marker": {
          "color": "#19d3f3",
          "pattern": {
           "shape": ""
          }
         },
         "name": "김종수",
         "offsetgroup": "김종수",
         "orientation": "v",
         "showlegend": true,
         "textposition": "auto",
         "type": "bar",
         "x": [
          "드라마",
          "액션"
         ],
         "xaxis": "x",
         "y": [
          2,
          3
         ],
         "yaxis": "y"
        },
        {
         "alignmentgroup": "True",
         "customdata": [
          [
           "558억",
           "654만"
          ]
         ],
         "hovertemplate": "배우=곽도원<br>장르=%{x}<br>출연 횟수=%{y}<br>총 매출액=%{customdata[0]}<br>총 관객수=%{customdata[1]}<extra></extra>",
         "legendgroup": "곽도원",
         "marker": {
          "color": "#FF6692",
          "pattern": {
           "shape": ""
          }
         },
         "name": "곽도원",
         "offsetgroup": "곽도원",
         "orientation": "v",
         "showlegend": true,
         "textposition": "auto",
         "type": "bar",
         "x": [
          "드라마"
         ],
         "xaxis": "x",
         "y": [
          2
         ],
         "yaxis": "y"
        },
        {
         "alignmentgroup": "True",
         "customdata": [
          [
           "505억",
           "551만"
          ],
          [
           "1028억",
           "1067만"
          ]
         ],
         "hovertemplate": "배우=주보비<br>장르=%{x}<br>출연 횟수=%{y}<br>총 매출액=%{customdata[0]}<br>총 관객수=%{customdata[1]}<extra></extra>",
         "legendgroup": "주보비",
         "marker": {
          "color": "#B6E880",
          "pattern": {
           "shape": ""
          }
         },
         "name": "주보비",
         "offsetgroup": "주보비",
         "orientation": "v",
         "showlegend": true,
         "textposition": "auto",
         "type": "bar",
         "x": [
          "드라마",
          "액션"
         ],
         "xaxis": "x",
         "y": [
          2,
          3
         ],
         "yaxis": "y"
        },
        {
         "alignmentgroup": "True",
         "customdata": [
          [
           "499억",
           "511만"
          ]
         ],
         "hovertemplate": "배우=김선영<br>장르=%{x}<br>출연 횟수=%{y}<br>총 매출액=%{customdata[0]}<br>총 관객수=%{customdata[1]}<extra></extra>",
         "legendgroup": "김선영",
         "marker": {
          "color": "#FF97FF",
          "pattern": {
           "shape": ""
          }
         },
         "name": "김선영",
         "offsetgroup": "김선영",
         "orientation": "v",
         "showlegend": true,
         "textposition": "auto",
         "type": "bar",
         "x": [
          "드라마"
         ],
         "xaxis": "x",
         "y": [
          2
         ],
         "yaxis": "y"
        },
        {
         "alignmentgroup": "True",
         "customdata": [
          [
           "493억",
           "533만"
          ],
          [
           "842억",
           "875만"
          ]
         ],
         "hovertemplate": "배우=김재화<br>장르=%{x}<br>출연 횟수=%{y}<br>총 매출액=%{customdata[0]}<br>총 관객수=%{customdata[1]}<extra></extra>",
         "legendgroup": "김재화",
         "marker": {
          "color": "#FECB52",
          "pattern": {
           "shape": ""
          }
         },
         "name": "김재화",
         "offsetgroup": "김재화",
         "orientation": "v",
         "showlegend": true,
         "textposition": "auto",
         "type": "bar",
         "x": [
          "드라마",
          "액션"
         ],
         "xaxis": "x",
         "y": [
          2,
          2
         ],
         "yaxis": "y"
        },
        {
         "alignmentgroup": "True",
         "customdata": [
          [
           "492억",
           "540만"
          ],
          [
           "492억",
           "540만"
          ]
         ],
         "hovertemplate": "배우=유연석<br>장르=%{x}<br>출연 횟수=%{y}<br>총 매출액=%{customdata[0]}<br>총 관객수=%{customdata[1]}<extra></extra>",
         "legendgroup": "유연석",
         "marker": {
          "color": "#636efa",
          "pattern": {
           "shape": ""
          }
         },
         "name": "유연석",
         "offsetgroup": "유연석",
         "orientation": "v",
         "showlegend": true,
         "textposition": "auto",
         "type": "bar",
         "x": [
          "드라마",
          "액션"
         ],
         "xaxis": "x",
         "y": [
          2,
          2
         ],
         "yaxis": "y"
        },
        {
         "alignmentgroup": "True",
         "customdata": [
          [
           "456억",
           "507만"
          ],
          [
           "517억",
           "572만"
          ]
         ],
         "hovertemplate": "배우=강동원<br>장르=%{x}<br>출연 횟수=%{y}<br>총 매출액=%{customdata[0]}<br>총 관객수=%{customdata[1]}<extra></extra>",
         "legendgroup": "강동원",
         "marker": {
          "color": "#EF553B",
          "pattern": {
           "shape": ""
          }
         },
         "name": "강동원",
         "offsetgroup": "강동원",
         "orientation": "v",
         "showlegend": true,
         "textposition": "auto",
         "type": "bar",
         "x": [
          "드라마",
          "액션"
         ],
         "xaxis": "x",
         "y": [
          2,
          2
         ],
         "yaxis": "y"
        },
        {
         "alignmentgroup": "True",
         "customdata": [
          [
           "318억",
           "332만"
          ]
         ],
         "hovertemplate": "배우=김남길<br>장르=%{x}<br>출연 횟수=%{y}<br>총 매출액=%{customdata[0]}<br>총 관객수=%{customdata[1]}<extra></extra>",
         "legendgroup": "김남길",
         "marker": {
          "color": "#00cc96",
          "pattern": {
           "shape": ""
          }
         },
         "name": "김남길",
         "offsetgroup": "김남길",
         "orientation": "v",
         "showlegend": true,
         "textposition": "auto",
         "type": "bar",
         "x": [
          "드라마"
         ],
         "xaxis": "x",
         "y": [
          2
         ],
         "yaxis": "y"
        },
        {
         "alignmentgroup": "True",
         "customdata": [
          [
           "294억",
           "351만"
          ]
         ],
         "hovertemplate": "배우=이재용<br>장르=%{x}<br>출연 횟수=%{y}<br>총 매출액=%{customdata[0]}<br>총 관객수=%{customdata[1]}<extra></extra>",
         "legendgroup": "이재용",
         "marker": {
          "color": "#ab63fa",
          "pattern": {
           "shape": ""
          }
         },
         "name": "이재용",
         "offsetgroup": "이재용",
         "orientation": "v",
         "showlegend": true,
         "textposition": "auto",
         "type": "bar",
         "x": [
          "드라마"
         ],
         "xaxis": "x",
         "y": [
          2
         ],
         "yaxis": "y"
        },
        {
         "alignmentgroup": "True",
         "customdata": [
          [
           "286억",
           "296만"
          ]
         ],
         "hovertemplate": "배우=이무생<br>장르=%{x}<br>출연 횟수=%{y}<br>총 매출액=%{customdata[0]}<br>총 관객수=%{customdata[1]}<extra></extra>",
         "legendgroup": "이무생",
         "marker": {
          "color": "#FFA15A",
          "pattern": {
           "shape": ""
          }
         },
         "name": "이무생",
         "offsetgroup": "이무생",
         "orientation": "v",
         "showlegend": true,
         "textposition": "auto",
         "type": "bar",
         "x": [
          "드라마"
         ],
         "xaxis": "x",
         "y": [
          2
         ],
         "yaxis": "y"
        },
        {
         "alignmentgroup": "True",
         "customdata": [
          [
           "265억",
           "283만"
          ]
         ],
         "hovertemplate": "배우=백현진<br>장르=%{x}<br>출연 횟수=%{y}<br>총 매출액=%{customdata[0]}<br>총 관객수=%{customdata[1]}<extra></extra>",
         "legendgroup": "백현진",
         "marker": {
          "color": "#19d3f3",
          "pattern": {
           "shape": ""
          }
         },
         "name": "백현진",
         "offsetgroup": "백현진",
         "orientation": "v",
         "showlegend": true,
         "textposition": "auto",
         "type": "bar",
         "x": [
          "드라마"
         ],
         "xaxis": "x",
         "y": [
          2
         ],
         "yaxis": "y"
        },
        {
         "alignmentgroup": "True",
         "customdata": [
          [
           "2016억",
           "2039만"
          ]
         ],
         "hovertemplate": "배우=김성균<br>장르=%{x}<br>출연 횟수=%{y}<br>총 매출액=%{customdata[0]}<br>총 관객수=%{customdata[1]}<extra></extra>",
         "legendgroup": "김성균",
         "marker": {
          "color": "#FF6692",
          "pattern": {
           "shape": ""
          }
         },
         "name": "김성균",
         "offsetgroup": "김성균",
         "orientation": "v",
         "showlegend": true,
         "textposition": "auto",
         "type": "bar",
         "x": [
          "드라마"
         ],
         "xaxis": "x",
         "y": [
          2
         ],
         "yaxis": "y"
        },
        {
         "alignmentgroup": "True",
         "customdata": [
          [
           "2016억",
           "2039만"
          ],
          [
           "1896억",
           "1882만"
          ]
         ],
         "hovertemplate": "배우=박훈<br>장르=%{x}<br>출연 횟수=%{y}<br>총 매출액=%{customdata[0]}<br>총 관객수=%{customdata[1]}<extra></extra>",
         "legendgroup": "박훈",
         "marker": {
          "color": "#B6E880",
          "pattern": {
           "shape": ""
          }
         },
         "name": "박훈",
         "offsetgroup": "박훈",
         "orientation": "v",
         "showlegend": true,
         "textposition": "auto",
         "type": "bar",
         "x": [
          "드라마",
          "액션"
         ],
         "xaxis": "x",
         "y": [
          2,
          3
         ],
         "yaxis": "y"
        },
        {
         "alignmentgroup": "True",
         "customdata": [
          [
           "1725억",
           "1748만"
          ]
         ],
         "hovertemplate": "배우=박민이<br>장르=%{x}<br>출연 횟수=%{y}<br>총 매출액=%{customdata[0]}<br>총 관객수=%{customdata[1]}<extra></extra>",
         "legendgroup": "박민이",
         "marker": {
          "color": "#FF97FF",
          "pattern": {
           "shape": ""
          }
         },
         "name": "박민이",
         "offsetgroup": "박민이",
         "orientation": "v",
         "showlegend": true,
         "textposition": "auto",
         "type": "bar",
         "x": [
          "드라마"
         ],
         "xaxis": "x",
         "y": [
          2
         ],
         "yaxis": "y"
        },
        {
         "alignmentgroup": "True",
         "customdata": [
          [
           "1725억",
           "1748만"
          ]
         ],
         "hovertemplate": "배우=차래형<br>장르=%{x}<br>출연 횟수=%{y}<br>총 매출액=%{customdata[0]}<br>총 관객수=%{customdata[1]}<extra></extra>",
         "legendgroup": "차래형",
         "marker": {
          "color": "#FECB52",
          "pattern": {
           "shape": ""
          }
         },
         "name": "차래형",
         "offsetgroup": "차래형",
         "orientation": "v",
         "showlegend": true,
         "textposition": "auto",
         "type": "bar",
         "x": [
          "드라마"
         ],
         "xaxis": "x",
         "y": [
          2
         ],
         "yaxis": "y"
        },
        {
         "alignmentgroup": "True",
         "customdata": [
          [
           "1691억",
           "1787만"
          ]
         ],
         "hovertemplate": "배우=이성민<br>장르=%{x}<br>출연 횟수=%{y}<br>총 매출액=%{customdata[0]}<br>총 관객수=%{customdata[1]}<extra></extra>",
         "legendgroup": "이성민",
         "marker": {
          "color": "#636efa",
          "pattern": {
           "shape": ""
          }
         },
         "name": "이성민",
         "offsetgroup": "이성민",
         "orientation": "v",
         "showlegend": true,
         "textposition": "auto",
         "type": "bar",
         "x": [
          "드라마"
         ],
         "xaxis": "x",
         "y": [
          2
         ],
         "yaxis": "y"
        },
        {
         "alignmentgroup": "True",
         "customdata": [
          [
           "1624억",
           "1674만"
          ],
          [
           "2339억",
           "2401만"
          ]
         ],
         "hovertemplate": "배우=안세호<br>장르=%{x}<br>출연 횟수=%{y}<br>총 매출액=%{customdata[0]}<br>총 관객수=%{customdata[1]}<extra></extra>",
         "legendgroup": "안세호",
         "marker": {
          "color": "#EF553B",
          "pattern": {
           "shape": ""
          }
         },
         "name": "안세호",
         "offsetgroup": "안세호",
         "orientation": "v",
         "showlegend": true,
         "textposition": "auto",
         "type": "bar",
         "x": [
          "드라마",
          "액션"
         ],
         "xaxis": "x",
         "y": [
          2,
          4
         ],
         "yaxis": "y"
        },
        {
         "alignmentgroup": "True",
         "customdata": [
          [
           "1488억",
           "1518만"
          ]
         ],
         "hovertemplate": "배우=박해준<br>장르=%{x}<br>출연 횟수=%{y}<br>총 매출액=%{customdata[0]}<br>총 관객수=%{customdata[1]}<extra></extra>",
         "legendgroup": "박해준",
         "marker": {
          "color": "#00cc96",
          "pattern": {
           "shape": ""
          }
         },
         "name": "박해준",
         "offsetgroup": "박해준",
         "orientation": "v",
         "showlegend": true,
         "textposition": "auto",
         "type": "bar",
         "x": [
          "드라마"
         ],
         "xaxis": "x",
         "y": [
          2
         ],
         "yaxis": "y"
        },
        {
         "alignmentgroup": "True",
         "customdata": [
          [
           "1488억",
           "1518만"
          ]
         ],
         "hovertemplate": "배우=우미화<br>장르=%{x}<br>출연 횟수=%{y}<br>총 매출액=%{customdata[0]}<br>총 관객수=%{customdata[1]}<extra></extra>",
         "legendgroup": "우미화",
         "marker": {
          "color": "#ab63fa",
          "pattern": {
           "shape": ""
          }
         },
         "name": "우미화",
         "offsetgroup": "우미화",
         "orientation": "v",
         "showlegend": true,
         "textposition": "auto",
         "type": "bar",
         "x": [
          "드라마"
         ],
         "xaxis": "x",
         "y": [
          2
         ],
         "yaxis": "y"
        },
        {
         "alignmentgroup": "True",
         "customdata": [
          [
           "1488억",
           "1518만"
          ]
         ],
         "hovertemplate": "배우=현봉식<br>장르=%{x}<br>출연 횟수=%{y}<br>총 매출액=%{customdata[0]}<br>총 관객수=%{customdata[1]}<extra></extra>",
         "legendgroup": "현봉식",
         "marker": {
          "color": "#FFA15A",
          "pattern": {
           "shape": ""
          }
         },
         "name": "현봉식",
         "offsetgroup": "현봉식",
         "orientation": "v",
         "showlegend": true,
         "textposition": "auto",
         "type": "bar",
         "x": [
          "드라마"
         ],
         "xaxis": "x",
         "y": [
          2
         ],
         "yaxis": "y"
        },
        {
         "alignmentgroup": "True",
         "customdata": [
          [
           "1453억",
           "1484만"
          ],
          [
           "541억",
           "599만"
          ]
         ],
         "hovertemplate": "배우=황정민<br>장르=%{x}<br>출연 횟수=%{y}<br>총 매출액=%{customdata[0]}<br>총 관객수=%{customdata[1]}<extra></extra>",
         "legendgroup": "황정민",
         "marker": {
          "color": "#19d3f3",
          "pattern": {
           "shape": ""
          }
         },
         "name": "황정민",
         "offsetgroup": "황정민",
         "orientation": "v",
         "showlegend": true,
         "textposition": "auto",
         "type": "bar",
         "x": [
          "드라마",
          "액션"
         ],
         "xaxis": "x",
         "y": [
          2,
          2
         ],
         "yaxis": "y"
        },
        {
         "alignmentgroup": "True",
         "customdata": [
          [
           "1425억",
           "1491만"
          ]
         ],
         "hovertemplate": "배우=안내상<br>장르=%{x}<br>출연 횟수=%{y}<br>총 매출액=%{customdata[0]}<br>총 관객수=%{customdata[1]}<extra></extra>",
         "legendgroup": "안내상",
         "marker": {
          "color": "#FF6692",
          "pattern": {
           "shape": ""
          }
         },
         "name": "안내상",
         "offsetgroup": "안내상",
         "orientation": "v",
         "showlegend": true,
         "textposition": "auto",
         "type": "bar",
         "x": [
          "드라마"
         ],
         "xaxis": "x",
         "y": [
          2
         ],
         "yaxis": "y"
        },
        {
         "alignmentgroup": "True",
         "customdata": [
          [
           "1183억",
           "1161만"
          ],
          [
           "1183억",
           "1161만"
          ]
         ],
         "hovertemplate": "배우=손경원<br>장르=%{x}<br>출연 횟수=%{y}<br>총 매출액=%{customdata[0]}<br>총 관객수=%{customdata[1]}<extra></extra>",
         "legendgroup": "손경원",
         "marker": {
          "color": "#B6E880",
          "pattern": {
           "shape": ""
          }
         },
         "name": "손경원",
         "offsetgroup": "손경원",
         "orientation": "v",
         "showlegend": true,
         "textposition": "auto",
         "type": "bar",
         "x": [
          "드라마",
          "액션"
         ],
         "xaxis": "x",
         "y": [
          2,
          2
         ],
         "yaxis": "y"
        },
        {
         "alignmentgroup": "True",
         "customdata": [
          [
           "1067억",
           "1107만"
          ],
          [
           "2114억",
           "2175만"
          ]
         ],
         "hovertemplate": "배우=김민재<br>장르=%{x}<br>출연 횟수=%{y}<br>총 매출액=%{customdata[0]}<br>총 관객수=%{customdata[1]}<extra></extra>",
         "legendgroup": "김민재",
         "marker": {
          "color": "#FF97FF",
          "pattern": {
           "shape": ""
          }
         },
         "name": "김민재",
         "offsetgroup": "김민재",
         "orientation": "v",
         "showlegend": true,
         "textposition": "auto",
         "type": "bar",
         "x": [
          "드라마",
          "액션"
         ],
         "xaxis": "x",
         "y": [
          2,
          3
         ],
         "yaxis": "y"
        },
        {
         "alignmentgroup": "True",
         "customdata": [
          [
           "1059억",
           "1053만"
          ],
          [
           "877억",
           "869만"
          ]
         ],
         "hovertemplate": "배우=조재윤<br>장르=%{x}<br>출연 횟수=%{y}<br>총 매출액=%{customdata[0]}<br>총 관객수=%{customdata[1]}<extra></extra>",
         "legendgroup": "조재윤",
         "marker": {
          "color": "#FECB52",
          "pattern": {
           "shape": ""
          }
         },
         "name": "조재윤",
         "offsetgroup": "조재윤",
         "orientation": "v",
         "showlegend": true,
         "textposition": "auto",
         "type": "bar",
         "x": [
          "드라마",
          "액션"
         ],
         "xaxis": "x",
         "y": [
          2,
          2
         ],
         "yaxis": "y"
        },
        {
         "alignmentgroup": "True",
         "customdata": [
          [
           "526억",
           "578만"
          ],
          [
           "976억",
           "1035만"
          ]
         ],
         "hovertemplate": "배우=박명훈<br>장르=%{x}<br>출연 횟수=%{y}<br>총 매출액=%{customdata[0]}<br>총 관객수=%{customdata[1]}<extra></extra>",
         "legendgroup": "박명훈",
         "marker": {
          "color": "#636efa",
          "pattern": {
           "shape": ""
          }
         },
         "name": "박명훈",
         "offsetgroup": "박명훈",
         "orientation": "v",
         "showlegend": true,
         "textposition": "auto",
         "type": "bar",
         "x": [
          "범죄",
          "액션"
         ],
         "xaxis": "x",
         "y": [
          2,
          3
         ],
         "yaxis": "y"
        },
        {
         "alignmentgroup": "True",
         "customdata": [
          [
           "2359억",
           "2337만"
          ],
          [
           "2359억",
           "2337만"
          ]
         ],
         "hovertemplate": "배우=마동석<br>장르=%{x}<br>출연 횟수=%{y}<br>총 매출액=%{customdata[0]}<br>총 관객수=%{customdata[1]}<extra></extra>",
         "legendgroup": "마동석",
         "marker": {
          "color": "#EF553B",
          "pattern": {
           "shape": ""
          }
         },
         "name": "마동석",
         "offsetgroup": "마동석",
         "orientation": "v",
         "showlegend": true,
         "textposition": "auto",
         "type": "bar",
         "x": [
          "범죄",
          "액션"
         ],
         "xaxis": "x",
         "y": [
          2,
          2
         ],
         "yaxis": "y"
        },
        {
         "alignmentgroup": "True",
         "customdata": [
          [
           "1432억",
           "1504만"
          ],
          [
           "1432억",
           "1504만"
          ]
         ],
         "hovertemplate": "배우=심영은<br>장르=%{x}<br>출연 횟수=%{y}<br>총 매출액=%{customdata[0]}<br>총 관객수=%{customdata[1]}<extra></extra>",
         "legendgroup": "심영은",
         "marker": {
          "color": "#00cc96",
          "pattern": {
           "shape": ""
          }
         },
         "name": "심영은",
         "offsetgroup": "심영은",
         "orientation": "v",
         "showlegend": true,
         "textposition": "auto",
         "type": "bar",
         "x": [
          "범죄",
          "액션"
         ],
         "xaxis": "x",
         "y": [
          2,
          2
         ],
         "yaxis": "y"
        },
        {
         "alignmentgroup": "True",
         "customdata": [
          [
           "981억",
           "1010만"
          ]
         ],
         "hovertemplate": "배우=허준호<br>장르=%{x}<br>출연 횟수=%{y}<br>총 매출액=%{customdata[0]}<br>총 관객수=%{customdata[1]}<extra></extra>",
         "legendgroup": "허준호",
         "marker": {
          "color": "#ab63fa",
          "pattern": {
           "shape": ""
          }
         },
         "name": "허준호",
         "offsetgroup": "허준호",
         "orientation": "v",
         "showlegend": true,
         "textposition": "auto",
         "type": "bar",
         "x": [
          "액션"
         ],
         "xaxis": "x",
         "y": [
          3
         ],
         "yaxis": "y"
        },
        {
         "alignmentgroup": "True",
         "customdata": [
          [
           "843억",
           "859만"
          ],
          [
           "332억",
           "336만"
          ],
          [
           "346억",
           "345만"
          ]
         ],
         "hovertemplate": "배우=윤병희<br>장르=%{x}<br>출연 횟수=%{y}<br>총 매출액=%{customdata[0]}<br>총 관객수=%{customdata[1]}<extra></extra>",
         "legendgroup": "윤병희",
         "marker": {
          "color": "#FFA15A",
          "pattern": {
           "shape": ""
          }
         },
         "name": "윤병희",
         "offsetgroup": "윤병희",
         "orientation": "v",
         "showlegend": true,
         "textposition": "auto",
         "type": "bar",
         "x": [
          "액션",
          "코미디",
          "판타지"
         ],
         "xaxis": "x",
         "y": [
          3,
          2,
          2
         ],
         "yaxis": "y"
        },
        {
         "alignmentgroup": "True",
         "customdata": [
          [
           "803억",
           "847만"
          ]
         ],
         "hovertemplate": "배우=염정아<br>장르=%{x}<br>출연 횟수=%{y}<br>총 매출액=%{customdata[0]}<br>총 관객수=%{customdata[1]}<extra></extra>",
         "legendgroup": "염정아",
         "marker": {
          "color": "#19d3f3",
          "pattern": {
           "shape": ""
          }
         },
         "name": "염정아",
         "offsetgroup": "염정아",
         "orientation": "v",
         "showlegend": true,
         "textposition": "auto",
         "type": "bar",
         "x": [
          "액션"
         ],
         "xaxis": "x",
         "y": [
          3
         ],
         "yaxis": "y"
        },
        {
         "alignmentgroup": "True",
         "customdata": [
          [
           "2175억",
           "2129만"
          ]
         ],
         "hovertemplate": "배우=박지환<br>장르=%{x}<br>출연 횟수=%{y}<br>총 매출액=%{customdata[0]}<br>총 관객수=%{customdata[1]}<extra></extra>",
         "legendgroup": "박지환",
         "marker": {
          "color": "#FF6692",
          "pattern": {
           "shape": ""
          }
         },
         "name": "박지환",
         "offsetgroup": "박지환",
         "orientation": "v",
         "showlegend": true,
         "textposition": "auto",
         "type": "bar",
         "x": [
          "액션"
         ],
         "xaxis": "x",
         "y": [
          3
         ],
         "yaxis": "y"
        },
        {
         "alignmentgroup": "True",
         "customdata": [
          [
           "1990억",
           "2035만"
          ],
          [
           "538억",
           "577만"
          ]
         ],
         "hovertemplate": "배우=이준혁<br>장르=%{x}<br>출연 횟수=%{y}<br>총 매출액=%{customdata[0]}<br>총 관객수=%{customdata[1]}<extra></extra>",
         "legendgroup": "이준혁",
         "marker": {
          "color": "#B6E880",
          "pattern": {
           "shape": ""
          }
         },
         "name": "이준혁",
         "offsetgroup": "이준혁",
         "orientation": "v",
         "showlegend": true,
         "textposition": "auto",
         "type": "bar",
         "x": [
          "액션",
          "코미디"
         ],
         "xaxis": "x",
         "y": [
          3,
          3
         ],
         "yaxis": "y"
        },
        {
         "alignmentgroup": "True",
         "customdata": [
          [
           "1028억",
           "1067만"
          ]
         ],
         "hovertemplate": "배우=박경혜<br>장르=%{x}<br>출연 횟수=%{y}<br>총 매출액=%{customdata[0]}<br>총 관객수=%{customdata[1]}<extra></extra>",
         "legendgroup": "박경혜",
         "marker": {
          "color": "#FF97FF",
          "pattern": {
           "shape": ""
          }
         },
         "name": "박경혜",
         "offsetgroup": "박경혜",
         "orientation": "v",
         "showlegend": true,
         "textposition": "auto",
         "type": "bar",
         "x": [
          "액션"
         ],
         "xaxis": "x",
         "y": [
          3
         ],
         "yaxis": "y"
        },
        {
         "alignmentgroup": "True",
         "customdata": [
          [
           "942억",
           "949만"
          ]
         ],
         "hovertemplate": "배우=윤대열<br>장르=%{x}<br>출연 횟수=%{y}<br>총 매출액=%{customdata[0]}<br>총 관객수=%{customdata[1]}<extra></extra>",
         "legendgroup": "윤대열",
         "marker": {
          "color": "#FECB52",
          "pattern": {
           "shape": ""
          }
         },
         "name": "윤대열",
         "offsetgroup": "윤대열",
         "orientation": "v",
         "showlegend": true,
         "textposition": "auto",
         "type": "bar",
         "x": [
          "액션"
         ],
         "xaxis": "x",
         "y": [
          2
         ],
         "yaxis": "y"
        },
        {
         "alignmentgroup": "True",
         "customdata": [
          [
           "896억",
           "880만"
          ]
         ],
         "hovertemplate": "배우=김대명<br>장르=%{x}<br>출연 횟수=%{y}<br>총 매출액=%{customdata[0]}<br>총 관객수=%{customdata[1]}<extra></extra>",
         "legendgroup": "김대명",
         "marker": {
          "color": "#636efa",
          "pattern": {
           "shape": ""
          }
         },
         "name": "김대명",
         "offsetgroup": "김대명",
         "orientation": "v",
         "showlegend": true,
         "textposition": "auto",
         "type": "bar",
         "x": [
          "액션"
         ],
         "xaxis": "x",
         "y": [
          2
         ],
         "yaxis": "y"
        },
        {
         "alignmentgroup": "True",
         "customdata": [
          [
           "882억",
           "950만"
          ]
         ],
         "hovertemplate": "배우=박정민<br>장르=%{x}<br>출연 횟수=%{y}<br>총 매출액=%{customdata[0]}<br>총 관객수=%{customdata[1]}<extra></extra>",
         "legendgroup": "박정민",
         "marker": {
          "color": "#EF553B",
          "pattern": {
           "shape": ""
          }
         },
         "name": "박정민",
         "offsetgroup": "박정민",
         "orientation": "v",
         "showlegend": true,
         "textposition": "auto",
         "type": "bar",
         "x": [
          "액션"
         ],
         "xaxis": "x",
         "y": [
          2
         ],
         "yaxis": "y"
        },
        {
         "alignmentgroup": "True",
         "customdata": [
          [
           "877억",
           "869만"
          ]
         ],
         "hovertemplate": "배우=변요한<br>장르=%{x}<br>출연 횟수=%{y}<br>총 매출액=%{customdata[0]}<br>총 관객수=%{customdata[1]}<extra></extra>",
         "legendgroup": "변요한",
         "marker": {
          "color": "#00cc96",
          "pattern": {
           "shape": ""
          }
         },
         "name": "변요한",
         "offsetgroup": "변요한",
         "orientation": "v",
         "showlegend": true,
         "textposition": "auto",
         "type": "bar",
         "x": [
          "액션"
         ],
         "xaxis": "x",
         "y": [
          2
         ],
         "yaxis": "y"
        },
        {
         "alignmentgroup": "True",
         "customdata": [
          [
           "877억",
           "869만"
          ]
         ],
         "hovertemplate": "배우=이운산<br>장르=%{x}<br>출연 횟수=%{y}<br>총 매출액=%{customdata[0]}<br>총 관객수=%{customdata[1]}<extra></extra>",
         "legendgroup": "이운산",
         "marker": {
          "color": "#ab63fa",
          "pattern": {
           "shape": ""
          }
         },
         "name": "이운산",
         "offsetgroup": "이운산",
         "orientation": "v",
         "showlegend": true,
         "textposition": "auto",
         "type": "bar",
         "x": [
          "액션"
         ],
         "xaxis": "x",
         "y": [
          2
         ],
         "yaxis": "y"
        },
        {
         "alignmentgroup": "True",
         "customdata": [
          [
           "842억",
           "875만"
          ]
         ],
         "hovertemplate": "배우=조인성<br>장르=%{x}<br>출연 횟수=%{y}<br>총 매출액=%{customdata[0]}<br>총 관객수=%{customdata[1]}<extra></extra>",
         "legendgroup": "조인성",
         "marker": {
          "color": "#FFA15A",
          "pattern": {
           "shape": ""
          }
         },
         "name": "조인성",
         "offsetgroup": "조인성",
         "orientation": "v",
         "showlegend": true,
         "textposition": "auto",
         "type": "bar",
         "x": [
          "액션"
         ],
         "xaxis": "x",
         "y": [
          2
         ],
         "yaxis": "y"
        },
        {
         "alignmentgroup": "True",
         "customdata": [
          [
           "842억",
           "875만"
          ]
         ],
         "hovertemplate": "배우=이진희<br>장르=%{x}<br>출연 횟수=%{y}<br>총 매출액=%{customdata[0]}<br>총 관객수=%{customdata[1]}<extra></extra>",
         "legendgroup": "이진희",
         "marker": {
          "color": "#19d3f3",
          "pattern": {
           "shape": ""
          }
         },
         "name": "이진희",
         "offsetgroup": "이진희",
         "orientation": "v",
         "showlegend": true,
         "textposition": "auto",
         "type": "bar",
         "x": [
          "액션"
         ],
         "xaxis": "x",
         "y": [
          2
         ],
         "yaxis": "y"
        },
        {
         "alignmentgroup": "True",
         "customdata": [
          [
           "832억",
           "871만"
          ]
         ],
         "hovertemplate": "배우=이정재<br>장르=%{x}<br>출연 횟수=%{y}<br>총 매출액=%{customdata[0]}<br>총 관객수=%{customdata[1]}<extra></extra>",
         "legendgroup": "이정재",
         "marker": {
          "color": "#FF6692",
          "pattern": {
           "shape": ""
          }
         },
         "name": "이정재",
         "offsetgroup": "이정재",
         "orientation": "v",
         "showlegend": true,
         "textposition": "auto",
         "type": "bar",
         "x": [
          "액션"
         ],
         "xaxis": "x",
         "y": [
          2
         ],
         "yaxis": "y"
        },
        {
         "alignmentgroup": "True",
         "customdata": [
          [
           "832억",
           "871만"
          ]
         ],
         "hovertemplate": "배우=송영창<br>장르=%{x}<br>출연 횟수=%{y}<br>총 매출액=%{customdata[0]}<br>총 관객수=%{customdata[1]}<extra></extra>",
         "legendgroup": "송영창",
         "marker": {
          "color": "#B6E880",
          "pattern": {
           "shape": ""
          }
         },
         "name": "송영창",
         "offsetgroup": "송영창",
         "orientation": "v",
         "showlegend": true,
         "textposition": "auto",
         "type": "bar",
         "x": [
          "액션"
         ],
         "xaxis": "x",
         "y": [
          2
         ],
         "yaxis": "y"
        },
        {
         "alignmentgroup": "True",
         "customdata": [
          [
           "795억",
           "818만"
          ]
         ],
         "hovertemplate": "배우=김윤석<br>장르=%{x}<br>출연 횟수=%{y}<br>총 매출액=%{customdata[0]}<br>총 관객수=%{customdata[1]}<extra></extra>",
         "legendgroup": "김윤석",
         "marker": {
          "color": "#FF97FF",
          "pattern": {
           "shape": ""
          }
         },
         "name": "김윤석",
         "offsetgroup": "김윤석",
         "orientation": "v",
         "showlegend": true,
         "textposition": "auto",
         "type": "bar",
         "x": [
          "액션"
         ],
         "xaxis": "x",
         "y": [
          2
         ],
         "yaxis": "y"
        },
        {
         "alignmentgroup": "True",
         "customdata": [
          [
           "683억",
           "705만"
          ]
         ],
         "hovertemplate": "배우=김원해<br>장르=%{x}<br>출연 횟수=%{y}<br>총 매출액=%{customdata[0]}<br>총 관객수=%{customdata[1]}<extra></extra>",
         "legendgroup": "김원해",
         "marker": {
          "color": "#FECB52",
          "pattern": {
           "shape": ""
          }
         },
         "name": "김원해",
         "offsetgroup": "김원해",
         "orientation": "v",
         "showlegend": true,
         "textposition": "auto",
         "type": "bar",
         "x": [
          "액션"
         ],
         "xaxis": "x",
         "y": [
          2
         ],
         "yaxis": "y"
        },
        {
         "alignmentgroup": "True",
         "customdata": [
          [
           "656억",
           "668만"
          ]
         ],
         "hovertemplate": "배우=김기천<br>장르=%{x}<br>출연 횟수=%{y}<br>총 매출액=%{customdata[0]}<br>총 관객수=%{customdata[1]}<extra></extra>",
         "legendgroup": "김기천",
         "marker": {
          "color": "#636efa",
          "pattern": {
           "shape": ""
          }
         },
         "name": "김기천",
         "offsetgroup": "김기천",
         "orientation": "v",
         "showlegend": true,
         "textposition": "auto",
         "type": "bar",
         "x": [
          "액션"
         ],
         "xaxis": "x",
         "y": [
          2
         ],
         "yaxis": "y"
        },
        {
         "alignmentgroup": "True",
         "customdata": [
          [
           "652억",
           "678만"
          ]
         ],
         "hovertemplate": "배우=정재원<br>장르=%{x}<br>출연 횟수=%{y}<br>총 매출액=%{customdata[0]}<br>총 관객수=%{customdata[1]}<extra></extra>",
         "legendgroup": "정재원",
         "marker": {
          "color": "#EF553B",
          "pattern": {
           "shape": ""
          }
         },
         "name": "정재원",
         "offsetgroup": "정재원",
         "orientation": "v",
         "showlegend": true,
         "textposition": "auto",
         "type": "bar",
         "x": [
          "액션"
         ],
         "xaxis": "x",
         "y": [
          2
         ],
         "yaxis": "y"
        },
        {
         "alignmentgroup": "True",
         "customdata": [
          [
           "652억",
           "678만"
          ]
         ],
         "hovertemplate": "배우=백주희<br>장르=%{x}<br>출연 횟수=%{y}<br>총 매출액=%{customdata[0]}<br>총 관객수=%{customdata[1]}<extra></extra>",
         "legendgroup": "백주희",
         "marker": {
          "color": "#00cc96",
          "pattern": {
           "shape": ""
          }
         },
         "name": "백주희",
         "offsetgroup": "백주희",
         "orientation": "v",
         "showlegend": true,
         "textposition": "auto",
         "type": "bar",
         "x": [
          "액션"
         ],
         "xaxis": "x",
         "y": [
          2
         ],
         "yaxis": "y"
        },
        {
         "alignmentgroup": "True",
         "customdata": [
          [
           "652억",
           "675만"
          ]
         ],
         "hovertemplate": "배우=허성태<br>장르=%{x}<br>출연 횟수=%{y}<br>총 매출액=%{customdata[0]}<br>총 관객수=%{customdata[1]}<extra></extra>",
         "legendgroup": "허성태",
         "marker": {
          "color": "#ab63fa",
          "pattern": {
           "shape": ""
          }
         },
         "name": "허성태",
         "offsetgroup": "허성태",
         "orientation": "v",
         "showlegend": true,
         "textposition": "auto",
         "type": "bar",
         "x": [
          "액션"
         ],
         "xaxis": "x",
         "y": [
          2
         ],
         "yaxis": "y"
        },
        {
         "alignmentgroup": "True",
         "customdata": [
          [
           "596억",
           "636만"
          ]
         ],
         "hovertemplate": "배우=김중희<br>장르=%{x}<br>출연 횟수=%{y}<br>총 매출액=%{customdata[0]}<br>총 관객수=%{customdata[1]}<extra></extra>",
         "legendgroup": "김중희",
         "marker": {
          "color": "#FFA15A",
          "pattern": {
           "shape": ""
          }
         },
         "name": "김중희",
         "offsetgroup": "김중희",
         "orientation": "v",
         "showlegend": true,
         "textposition": "auto",
         "type": "bar",
         "x": [
          "액션"
         ],
         "xaxis": "x",
         "y": [
          2
         ],
         "yaxis": "y"
        },
        {
         "alignmentgroup": "True",
         "customdata": [
          [
           "572억",
           "627만"
          ]
         ],
         "hovertemplate": "배우=박소이<br>장르=%{x}<br>출연 횟수=%{y}<br>총 매출액=%{customdata[0]}<br>총 관객수=%{customdata[1]}<extra></extra>",
         "legendgroup": "박소이",
         "marker": {
          "color": "#19d3f3",
          "pattern": {
           "shape": ""
          }
         },
         "name": "박소이",
         "offsetgroup": "박소이",
         "orientation": "v",
         "showlegend": true,
         "textposition": "auto",
         "type": "bar",
         "x": [
          "액션"
         ],
         "xaxis": "x",
         "y": [
          2
         ],
         "yaxis": "y"
        },
        {
         "alignmentgroup": "True",
         "customdata": [
          [
           "559억",
           "580만"
          ]
         ],
         "hovertemplate": "배우=주석태<br>장르=%{x}<br>출연 횟수=%{y}<br>총 매출액=%{customdata[0]}<br>총 관객수=%{customdata[1]}<extra></extra>",
         "legendgroup": "주석태",
         "marker": {
          "color": "#FF6692",
          "pattern": {
           "shape": ""
          }
         },
         "name": "주석태",
         "offsetgroup": "주석태",
         "orientation": "v",
         "showlegend": true,
         "textposition": "auto",
         "type": "bar",
         "x": [
          "액션"
         ],
         "xaxis": "x",
         "y": [
          2
         ],
         "yaxis": "y"
        },
        {
         "alignmentgroup": "True",
         "customdata": [
          [
           "440억",
           "504만"
          ]
         ],
         "hovertemplate": "배우=이정현<br>장르=%{x}<br>출연 횟수=%{y}<br>총 매출액=%{customdata[0]}<br>총 관객수=%{customdata[1]}<extra></extra>",
         "legendgroup": "이정현",
         "marker": {
          "color": "#B6E880",
          "pattern": {
           "shape": ""
          }
         },
         "name": "이정현",
         "offsetgroup": "이정현",
         "orientation": "v",
         "showlegend": true,
         "textposition": "auto",
         "type": "bar",
         "x": [
          "액션"
         ],
         "xaxis": "x",
         "y": [
          2
         ],
         "yaxis": "y"
        },
        {
         "alignmentgroup": "True",
         "customdata": [
          [
           "331억",
           "374만"
          ],
          [
           "331억",
           "374만"
          ]
         ],
         "hovertemplate": "배우=권상우<br>장르=%{x}<br>출연 횟수=%{y}<br>총 매출액=%{customdata[0]}<br>총 관객수=%{customdata[1]}<extra></extra>",
         "legendgroup": "권상우",
         "marker": {
          "color": "#FF97FF",
          "pattern": {
           "shape": ""
          }
         },
         "name": "권상우",
         "offsetgroup": "권상우",
         "orientation": "v",
         "showlegend": true,
         "textposition": "auto",
         "type": "bar",
         "x": [
          "액션",
          "코미디"
         ],
         "xaxis": "x",
         "y": [
          2,
          2
         ],
         "yaxis": "y"
        },
        {
         "alignmentgroup": "True",
         "customdata": [
          [
           "306억",
           "332만"
          ]
         ],
         "hovertemplate": "배우=신정근<br>장르=%{x}<br>출연 횟수=%{y}<br>총 매출액=%{customdata[0]}<br>총 관객수=%{customdata[1]}<extra></extra>",
         "legendgroup": "신정근",
         "marker": {
          "color": "#FECB52",
          "pattern": {
           "shape": ""
          }
         },
         "name": "신정근",
         "offsetgroup": "신정근",
         "orientation": "v",
         "showlegend": true,
         "textposition": "auto",
         "type": "bar",
         "x": [
          "액션"
         ],
         "xaxis": "x",
         "y": [
          2
         ],
         "yaxis": "y"
        },
        {
         "alignmentgroup": "True",
         "customdata": [
          [
           "1758억",
           "1704만"
          ]
         ],
         "hovertemplate": "배우=김찬형<br>장르=%{x}<br>출연 횟수=%{y}<br>총 매출액=%{customdata[0]}<br>총 관객수=%{customdata[1]}<extra></extra>",
         "legendgroup": "김찬형",
         "marker": {
          "color": "#636efa",
          "pattern": {
           "shape": ""
          }
         },
         "name": "김찬형",
         "offsetgroup": "김찬형",
         "orientation": "v",
         "showlegend": true,
         "textposition": "auto",
         "type": "bar",
         "x": [
          "액션"
         ],
         "xaxis": "x",
         "y": [
          2
         ],
         "yaxis": "y"
        },
        {
         "alignmentgroup": "True",
         "customdata": [
          [
           "1519억",
           "1509만"
          ]
         ],
         "hovertemplate": "배우=허동원<br>장르=%{x}<br>출연 횟수=%{y}<br>총 매출액=%{customdata[0]}<br>총 관객수=%{customdata[1]}<extra></extra>",
         "legendgroup": "허동원",
         "marker": {
          "color": "#EF553B",
          "pattern": {
           "shape": ""
          }
         },
         "name": "허동원",
         "offsetgroup": "허동원",
         "orientation": "v",
         "showlegend": true,
         "textposition": "auto",
         "type": "bar",
         "x": [
          "액션"
         ],
         "xaxis": "x",
         "y": [
          2
         ],
         "yaxis": "y"
        },
        {
         "alignmentgroup": "True",
         "customdata": [
          [
           "1496억",
           "1525만"
          ]
         ],
         "hovertemplate": "배우=최광제<br>장르=%{x}<br>출연 횟수=%{y}<br>총 매출액=%{customdata[0]}<br>총 관객수=%{customdata[1]}<extra></extra>",
         "legendgroup": "최광제",
         "marker": {
          "color": "#00cc96",
          "pattern": {
           "shape": ""
          }
         },
         "name": "최광제",
         "offsetgroup": "최광제",
         "orientation": "v",
         "showlegend": true,
         "textposition": "auto",
         "type": "bar",
         "x": [
          "액션"
         ],
         "xaxis": "x",
         "y": [
          2
         ],
         "yaxis": "y"
        },
        {
         "alignmentgroup": "True",
         "customdata": [
          [
           "1492억",
           "1503만"
          ]
         ],
         "hovertemplate": "배우=최우준<br>장르=%{x}<br>출연 횟수=%{y}<br>총 매출액=%{customdata[0]}<br>총 관객수=%{customdata[1]}<extra></extra>",
         "legendgroup": "최우준",
         "marker": {
          "color": "#ab63fa",
          "pattern": {
           "shape": ""
          }
         },
         "name": "최우준",
         "offsetgroup": "최우준",
         "orientation": "v",
         "showlegend": true,
         "textposition": "auto",
         "type": "bar",
         "x": [
          "액션"
         ],
         "xaxis": "x",
         "y": [
          2
         ],
         "yaxis": "y"
        },
        {
         "alignmentgroup": "True",
         "customdata": [
          [
           "1468억",
           "1433만"
          ]
         ],
         "hovertemplate": "배우=이규원<br>장르=%{x}<br>출연 횟수=%{y}<br>총 매출액=%{customdata[0]}<br>총 관객수=%{customdata[1]}<extra></extra>",
         "legendgroup": "이규원",
         "marker": {
          "color": "#FFA15A",
          "pattern": {
           "shape": ""
          }
         },
         "name": "이규원",
         "offsetgroup": "이규원",
         "orientation": "v",
         "showlegend": true,
         "textposition": "auto",
         "type": "bar",
         "x": [
          "액션"
         ],
         "xaxis": "x",
         "y": [
          2
         ],
         "yaxis": "y"
        },
        {
         "alignmentgroup": "True",
         "customdata": [
          [
           "1202억",
           "1232만"
          ]
         ],
         "hovertemplate": "배우=류성현<br>장르=%{x}<br>출연 횟수=%{y}<br>총 매출액=%{customdata[0]}<br>총 관객수=%{customdata[1]}<extra></extra>",
         "legendgroup": "류성현",
         "marker": {
          "color": "#19d3f3",
          "pattern": {
           "shape": ""
          }
         },
         "name": "류성현",
         "offsetgroup": "류성현",
         "orientation": "v",
         "showlegend": true,
         "textposition": "auto",
         "type": "bar",
         "x": [
          "액션"
         ],
         "xaxis": "x",
         "y": [
          2
         ],
         "yaxis": "y"
        },
        {
         "alignmentgroup": "True",
         "customdata": [
          [
           "1202억",
           "1232만"
          ]
         ],
         "hovertemplate": "배우=한규원<br>장르=%{x}<br>출연 횟수=%{y}<br>총 매출액=%{customdata[0]}<br>총 관객수=%{customdata[1]}<extra></extra>",
         "legendgroup": "한규원",
         "marker": {
          "color": "#FF6692",
          "pattern": {
           "shape": ""
          }
         },
         "name": "한규원",
         "offsetgroup": "한규원",
         "orientation": "v",
         "showlegend": true,
         "textposition": "auto",
         "type": "bar",
         "x": [
          "액션"
         ],
         "xaxis": "x",
         "y": [
          2
         ],
         "yaxis": "y"
        },
        {
         "alignmentgroup": "True",
         "customdata": [
          [
           "1187억",
           "1183만"
          ]
         ],
         "hovertemplate": "배우=김성규<br>장르=%{x}<br>출연 횟수=%{y}<br>총 매출액=%{customdata[0]}<br>총 관객수=%{customdata[1]}<extra></extra>",
         "legendgroup": "김성규",
         "marker": {
          "color": "#B6E880",
          "pattern": {
           "shape": ""
          }
         },
         "name": "김성규",
         "offsetgroup": "김성규",
         "orientation": "v",
         "showlegend": true,
         "textposition": "auto",
         "type": "bar",
         "x": [
          "액션"
         ],
         "xaxis": "x",
         "y": [
          2
         ],
         "yaxis": "y"
        },
        {
         "alignmentgroup": "True",
         "customdata": [
          [
           "1187억",
           "1183만"
          ]
         ],
         "hovertemplate": "배우=안성봉<br>장르=%{x}<br>출연 횟수=%{y}<br>총 매출액=%{customdata[0]}<br>총 관객수=%{customdata[1]}<extra></extra>",
         "legendgroup": "안성봉",
         "marker": {
          "color": "#FF97FF",
          "pattern": {
           "shape": ""
          }
         },
         "name": "안성봉",
         "offsetgroup": "안성봉",
         "orientation": "v",
         "showlegend": true,
         "textposition": "auto",
         "type": "bar",
         "x": [
          "액션"
         ],
         "xaxis": "x",
         "y": [
          2
         ],
         "yaxis": "y"
        },
        {
         "alignmentgroup": "True",
         "customdata": [
          [
           "843억",
           "837만"
          ]
         ],
         "hovertemplate": "배우=진선규<br>장르=%{x}<br>출연 횟수=%{y}<br>총 매출액=%{customdata[0]}<br>총 관객수=%{customdata[1]}<extra></extra>",
         "legendgroup": "진선규",
         "marker": {
          "color": "#FECB52",
          "pattern": {
           "shape": ""
          }
         },
         "name": "진선규",
         "offsetgroup": "진선규",
         "orientation": "v",
         "showlegend": true,
         "textposition": "auto",
         "type": "bar",
         "x": [
          "코미디"
         ],
         "xaxis": "x",
         "y": [
          2
         ],
         "yaxis": "y"
        },
        {
         "alignmentgroup": "True",
         "customdata": [
          [
           "843억",
           "837만"
          ]
         ],
         "hovertemplate": "배우=유해진<br>장르=%{x}<br>출연 횟수=%{y}<br>총 매출액=%{customdata[0]}<br>총 관객수=%{customdata[1]}<extra></extra>",
         "legendgroup": "유해진",
         "marker": {
          "color": "#636efa",
          "pattern": {
           "shape": ""
          }
         },
         "name": "유해진",
         "offsetgroup": "유해진",
         "orientation": "v",
         "showlegend": true,
         "textposition": "auto",
         "type": "bar",
         "x": [
          "코미디"
         ],
         "xaxis": "x",
         "y": [
          2
         ],
         "yaxis": "y"
        },
        {
         "alignmentgroup": "True",
         "customdata": [
          [
           "404억",
           "438만"
          ]
         ],
         "hovertemplate": "배우=이이경<br>장르=%{x}<br>출연 횟수=%{y}<br>총 매출액=%{customdata[0]}<br>총 관객수=%{customdata[1]}<extra></extra>",
         "legendgroup": "이이경",
         "marker": {
          "color": "#EF553B",
          "pattern": {
           "shape": ""
          }
         },
         "name": "이이경",
         "offsetgroup": "이이경",
         "orientation": "v",
         "showlegend": true,
         "textposition": "auto",
         "type": "bar",
         "x": [
          "코미디"
         ],
         "xaxis": "x",
         "y": [
          2
         ],
         "yaxis": "y"
        },
        {
         "alignmentgroup": "True",
         "customdata": [
          [
           "340억",
           "370만"
          ]
         ],
         "hovertemplate": "배우=윤경호<br>장르=%{x}<br>출연 횟수=%{y}<br>총 매출액=%{customdata[0]}<br>총 관객수=%{customdata[1]}<extra></extra>",
         "legendgroup": "윤경호",
         "marker": {
          "color": "#00cc96",
          "pattern": {
           "shape": ""
          }
         },
         "name": "윤경호",
         "offsetgroup": "윤경호",
         "orientation": "v",
         "showlegend": true,
         "textposition": "auto",
         "type": "bar",
         "x": [
          "코미디"
         ],
         "xaxis": "x",
         "y": [
          2
         ],
         "yaxis": "y"
        },
        {
         "alignmentgroup": "True",
         "customdata": [
          [
           "339억",
           "353만"
          ]
         ],
         "hovertemplate": "배우=이광수<br>장르=%{x}<br>출연 횟수=%{y}<br>총 매출액=%{customdata[0]}<br>총 관객수=%{customdata[1]}<extra></extra>",
         "legendgroup": "이광수",
         "marker": {
          "color": "#ab63fa",
          "pattern": {
           "shape": ""
          }
         },
         "name": "이광수",
         "offsetgroup": "이광수",
         "orientation": "v",
         "showlegend": true,
         "textposition": "auto",
         "type": "bar",
         "x": [
          "코미디"
         ],
         "xaxis": "x",
         "y": [
          2
         ],
         "yaxis": "y"
        },
        {
         "alignmentgroup": "True",
         "customdata": [
          [
           "337억",
           "350만"
          ]
         ],
         "hovertemplate": "배우=강하늘<br>장르=%{x}<br>출연 횟수=%{y}<br>총 매출액=%{customdata[0]}<br>총 관객수=%{customdata[1]}<extra></extra>",
         "legendgroup": "강하늘",
         "marker": {
          "color": "#FFA15A",
          "pattern": {
           "shape": ""
          }
         },
         "name": "강하늘",
         "offsetgroup": "강하늘",
         "orientation": "v",
         "showlegend": true,
         "textposition": "auto",
         "type": "bar",
         "x": [
          "코미디"
         ],
         "xaxis": "x",
         "y": [
          2
         ],
         "yaxis": "y"
        },
        {
         "alignmentgroup": "True",
         "customdata": [
          [
           "228억",
           "256만"
          ]
         ],
         "hovertemplate": "배우=김성오<br>장르=%{x}<br>출연 횟수=%{y}<br>총 매출액=%{customdata[0]}<br>총 관객수=%{customdata[1]}<extra></extra>",
         "legendgroup": "김성오",
         "marker": {
          "color": "#19d3f3",
          "pattern": {
           "shape": ""
          }
         },
         "name": "김성오",
         "offsetgroup": "김성오",
         "orientation": "v",
         "showlegend": true,
         "textposition": "auto",
         "type": "bar",
         "x": [
          "코미디"
         ],
         "xaxis": "x",
         "y": [
          2
         ],
         "yaxis": "y"
        }
       ],
       "layout": {
        "barmode": "relative",
        "legend": {
         "title": {
          "text": "배우"
         },
         "tracegroupgap": 0
        },
        "showlegend": false,
        "template": {
         "data": {
          "bar": [
           {
            "error_x": {
             "color": "#2a3f5f"
            },
            "error_y": {
             "color": "#2a3f5f"
            },
            "marker": {
             "line": {
              "color": "#E5ECF6",
              "width": 0.5
             },
             "pattern": {
              "fillmode": "overlay",
              "size": 10,
              "solidity": 0.2
             }
            },
            "type": "bar"
           }
          ],
          "barpolar": [
           {
            "marker": {
             "line": {
              "color": "#E5ECF6",
              "width": 0.5
             },
             "pattern": {
              "fillmode": "overlay",
              "size": 10,
              "solidity": 0.2
             }
            },
            "type": "barpolar"
           }
          ],
          "carpet": [
           {
            "aaxis": {
             "endlinecolor": "#2a3f5f",
             "gridcolor": "white",
             "linecolor": "white",
             "minorgridcolor": "white",
             "startlinecolor": "#2a3f5f"
            },
            "baxis": {
             "endlinecolor": "#2a3f5f",
             "gridcolor": "white",
             "linecolor": "white",
             "minorgridcolor": "white",
             "startlinecolor": "#2a3f5f"
            },
            "type": "carpet"
           }
          ],
          "choropleth": [
           {
            "colorbar": {
             "outlinewidth": 0,
             "ticks": ""
            },
            "type": "choropleth"
           }
          ],
          "contour": [
           {
            "colorbar": {
             "outlinewidth": 0,
             "ticks": ""
            },
            "colorscale": [
             [
              0,
              "#0d0887"
             ],
             [
              0.1111111111111111,
              "#46039f"
             ],
             [
              0.2222222222222222,
              "#7201a8"
             ],
             [
              0.3333333333333333,
              "#9c179e"
             ],
             [
              0.4444444444444444,
              "#bd3786"
             ],
             [
              0.5555555555555556,
              "#d8576b"
             ],
             [
              0.6666666666666666,
              "#ed7953"
             ],
             [
              0.7777777777777778,
              "#fb9f3a"
             ],
             [
              0.8888888888888888,
              "#fdca26"
             ],
             [
              1,
              "#f0f921"
             ]
            ],
            "type": "contour"
           }
          ],
          "contourcarpet": [
           {
            "colorbar": {
             "outlinewidth": 0,
             "ticks": ""
            },
            "type": "contourcarpet"
           }
          ],
          "heatmap": [
           {
            "colorbar": {
             "outlinewidth": 0,
             "ticks": ""
            },
            "colorscale": [
             [
              0,
              "#0d0887"
             ],
             [
              0.1111111111111111,
              "#46039f"
             ],
             [
              0.2222222222222222,
              "#7201a8"
             ],
             [
              0.3333333333333333,
              "#9c179e"
             ],
             [
              0.4444444444444444,
              "#bd3786"
             ],
             [
              0.5555555555555556,
              "#d8576b"
             ],
             [
              0.6666666666666666,
              "#ed7953"
             ],
             [
              0.7777777777777778,
              "#fb9f3a"
             ],
             [
              0.8888888888888888,
              "#fdca26"
             ],
             [
              1,
              "#f0f921"
             ]
            ],
            "type": "heatmap"
           }
          ],
          "heatmapgl": [
           {
            "colorbar": {
             "outlinewidth": 0,
             "ticks": ""
            },
            "colorscale": [
             [
              0,
              "#0d0887"
             ],
             [
              0.1111111111111111,
              "#46039f"
             ],
             [
              0.2222222222222222,
              "#7201a8"
             ],
             [
              0.3333333333333333,
              "#9c179e"
             ],
             [
              0.4444444444444444,
              "#bd3786"
             ],
             [
              0.5555555555555556,
              "#d8576b"
             ],
             [
              0.6666666666666666,
              "#ed7953"
             ],
             [
              0.7777777777777778,
              "#fb9f3a"
             ],
             [
              0.8888888888888888,
              "#fdca26"
             ],
             [
              1,
              "#f0f921"
             ]
            ],
            "type": "heatmapgl"
           }
          ],
          "histogram": [
           {
            "marker": {
             "pattern": {
              "fillmode": "overlay",
              "size": 10,
              "solidity": 0.2
             }
            },
            "type": "histogram"
           }
          ],
          "histogram2d": [
           {
            "colorbar": {
             "outlinewidth": 0,
             "ticks": ""
            },
            "colorscale": [
             [
              0,
              "#0d0887"
             ],
             [
              0.1111111111111111,
              "#46039f"
             ],
             [
              0.2222222222222222,
              "#7201a8"
             ],
             [
              0.3333333333333333,
              "#9c179e"
             ],
             [
              0.4444444444444444,
              "#bd3786"
             ],
             [
              0.5555555555555556,
              "#d8576b"
             ],
             [
              0.6666666666666666,
              "#ed7953"
             ],
             [
              0.7777777777777778,
              "#fb9f3a"
             ],
             [
              0.8888888888888888,
              "#fdca26"
             ],
             [
              1,
              "#f0f921"
             ]
            ],
            "type": "histogram2d"
           }
          ],
          "histogram2dcontour": [
           {
            "colorbar": {
             "outlinewidth": 0,
             "ticks": ""
            },
            "colorscale": [
             [
              0,
              "#0d0887"
             ],
             [
              0.1111111111111111,
              "#46039f"
             ],
             [
              0.2222222222222222,
              "#7201a8"
             ],
             [
              0.3333333333333333,
              "#9c179e"
             ],
             [
              0.4444444444444444,
              "#bd3786"
             ],
             [
              0.5555555555555556,
              "#d8576b"
             ],
             [
              0.6666666666666666,
              "#ed7953"
             ],
             [
              0.7777777777777778,
              "#fb9f3a"
             ],
             [
              0.8888888888888888,
              "#fdca26"
             ],
             [
              1,
              "#f0f921"
             ]
            ],
            "type": "histogram2dcontour"
           }
          ],
          "mesh3d": [
           {
            "colorbar": {
             "outlinewidth": 0,
             "ticks": ""
            },
            "type": "mesh3d"
           }
          ],
          "parcoords": [
           {
            "line": {
             "colorbar": {
              "outlinewidth": 0,
              "ticks": ""
             }
            },
            "type": "parcoords"
           }
          ],
          "pie": [
           {
            "automargin": true,
            "type": "pie"
           }
          ],
          "scatter": [
           {
            "fillpattern": {
             "fillmode": "overlay",
             "size": 10,
             "solidity": 0.2
            },
            "type": "scatter"
           }
          ],
          "scatter3d": [
           {
            "line": {
             "colorbar": {
              "outlinewidth": 0,
              "ticks": ""
             }
            },
            "marker": {
             "colorbar": {
              "outlinewidth": 0,
              "ticks": ""
             }
            },
            "type": "scatter3d"
           }
          ],
          "scattercarpet": [
           {
            "marker": {
             "colorbar": {
              "outlinewidth": 0,
              "ticks": ""
             }
            },
            "type": "scattercarpet"
           }
          ],
          "scattergeo": [
           {
            "marker": {
             "colorbar": {
              "outlinewidth": 0,
              "ticks": ""
             }
            },
            "type": "scattergeo"
           }
          ],
          "scattergl": [
           {
            "marker": {
             "colorbar": {
              "outlinewidth": 0,
              "ticks": ""
             }
            },
            "type": "scattergl"
           }
          ],
          "scattermapbox": [
           {
            "marker": {
             "colorbar": {
              "outlinewidth": 0,
              "ticks": ""
             }
            },
            "type": "scattermapbox"
           }
          ],
          "scatterpolar": [
           {
            "marker": {
             "colorbar": {
              "outlinewidth": 0,
              "ticks": ""
             }
            },
            "type": "scatterpolar"
           }
          ],
          "scatterpolargl": [
           {
            "marker": {
             "colorbar": {
              "outlinewidth": 0,
              "ticks": ""
             }
            },
            "type": "scatterpolargl"
           }
          ],
          "scatterternary": [
           {
            "marker": {
             "colorbar": {
              "outlinewidth": 0,
              "ticks": ""
             }
            },
            "type": "scatterternary"
           }
          ],
          "surface": [
           {
            "colorbar": {
             "outlinewidth": 0,
             "ticks": ""
            },
            "colorscale": [
             [
              0,
              "#0d0887"
             ],
             [
              0.1111111111111111,
              "#46039f"
             ],
             [
              0.2222222222222222,
              "#7201a8"
             ],
             [
              0.3333333333333333,
              "#9c179e"
             ],
             [
              0.4444444444444444,
              "#bd3786"
             ],
             [
              0.5555555555555556,
              "#d8576b"
             ],
             [
              0.6666666666666666,
              "#ed7953"
             ],
             [
              0.7777777777777778,
              "#fb9f3a"
             ],
             [
              0.8888888888888888,
              "#fdca26"
             ],
             [
              1,
              "#f0f921"
             ]
            ],
            "type": "surface"
           }
          ],
          "table": [
           {
            "cells": {
             "fill": {
              "color": "#EBF0F8"
             },
             "line": {
              "color": "white"
             }
            },
            "header": {
             "fill": {
              "color": "#C8D4E3"
             },
             "line": {
              "color": "white"
             }
            },
            "type": "table"
           }
          ]
         },
         "layout": {
          "annotationdefaults": {
           "arrowcolor": "#2a3f5f",
           "arrowhead": 0,
           "arrowwidth": 1
          },
          "autotypenumbers": "strict",
          "coloraxis": {
           "colorbar": {
            "outlinewidth": 0,
            "ticks": ""
           }
          },
          "colorscale": {
           "diverging": [
            [
             0,
             "#8e0152"
            ],
            [
             0.1,
             "#c51b7d"
            ],
            [
             0.2,
             "#de77ae"
            ],
            [
             0.3,
             "#f1b6da"
            ],
            [
             0.4,
             "#fde0ef"
            ],
            [
             0.5,
             "#f7f7f7"
            ],
            [
             0.6,
             "#e6f5d0"
            ],
            [
             0.7,
             "#b8e186"
            ],
            [
             0.8,
             "#7fbc41"
            ],
            [
             0.9,
             "#4d9221"
            ],
            [
             1,
             "#276419"
            ]
           ],
           "sequential": [
            [
             0,
             "#0d0887"
            ],
            [
             0.1111111111111111,
             "#46039f"
            ],
            [
             0.2222222222222222,
             "#7201a8"
            ],
            [
             0.3333333333333333,
             "#9c179e"
            ],
            [
             0.4444444444444444,
             "#bd3786"
            ],
            [
             0.5555555555555556,
             "#d8576b"
            ],
            [
             0.6666666666666666,
             "#ed7953"
            ],
            [
             0.7777777777777778,
             "#fb9f3a"
            ],
            [
             0.8888888888888888,
             "#fdca26"
            ],
            [
             1,
             "#f0f921"
            ]
           ],
           "sequentialminus": [
            [
             0,
             "#0d0887"
            ],
            [
             0.1111111111111111,
             "#46039f"
            ],
            [
             0.2222222222222222,
             "#7201a8"
            ],
            [
             0.3333333333333333,
             "#9c179e"
            ],
            [
             0.4444444444444444,
             "#bd3786"
            ],
            [
             0.5555555555555556,
             "#d8576b"
            ],
            [
             0.6666666666666666,
             "#ed7953"
            ],
            [
             0.7777777777777778,
             "#fb9f3a"
            ],
            [
             0.8888888888888888,
             "#fdca26"
            ],
            [
             1,
             "#f0f921"
            ]
           ]
          },
          "colorway": [
           "#636efa",
           "#EF553B",
           "#00cc96",
           "#ab63fa",
           "#FFA15A",
           "#19d3f3",
           "#FF6692",
           "#B6E880",
           "#FF97FF",
           "#FECB52"
          ],
          "font": {
           "color": "#2a3f5f"
          },
          "geo": {
           "bgcolor": "white",
           "lakecolor": "white",
           "landcolor": "#E5ECF6",
           "showlakes": true,
           "showland": true,
           "subunitcolor": "white"
          },
          "hoverlabel": {
           "align": "left"
          },
          "hovermode": "closest",
          "mapbox": {
           "style": "light"
          },
          "paper_bgcolor": "white",
          "plot_bgcolor": "#E5ECF6",
          "polar": {
           "angularaxis": {
            "gridcolor": "white",
            "linecolor": "white",
            "ticks": ""
           },
           "bgcolor": "#E5ECF6",
           "radialaxis": {
            "gridcolor": "white",
            "linecolor": "white",
            "ticks": ""
           }
          },
          "scene": {
           "xaxis": {
            "backgroundcolor": "#E5ECF6",
            "gridcolor": "white",
            "gridwidth": 2,
            "linecolor": "white",
            "showbackground": true,
            "ticks": "",
            "zerolinecolor": "white"
           },
           "yaxis": {
            "backgroundcolor": "#E5ECF6",
            "gridcolor": "white",
            "gridwidth": 2,
            "linecolor": "white",
            "showbackground": true,
            "ticks": "",
            "zerolinecolor": "white"
           },
           "zaxis": {
            "backgroundcolor": "#E5ECF6",
            "gridcolor": "white",
            "gridwidth": 2,
            "linecolor": "white",
            "showbackground": true,
            "ticks": "",
            "zerolinecolor": "white"
           }
          },
          "shapedefaults": {
           "line": {
            "color": "#2a3f5f"
           }
          },
          "ternary": {
           "aaxis": {
            "gridcolor": "white",
            "linecolor": "white",
            "ticks": ""
           },
           "baxis": {
            "gridcolor": "white",
            "linecolor": "white",
            "ticks": ""
           },
           "bgcolor": "#E5ECF6",
           "caxis": {
            "gridcolor": "white",
            "linecolor": "white",
            "ticks": ""
           }
          },
          "title": {
           "x": 0.05
          },
          "xaxis": {
           "automargin": true,
           "gridcolor": "white",
           "linecolor": "white",
           "ticks": "",
           "title": {
            "standoff": 15
           },
           "zerolinecolor": "white",
           "zerolinewidth": 2
          },
          "yaxis": {
           "automargin": true,
           "gridcolor": "white",
           "linecolor": "white",
           "ticks": "",
           "title": {
            "standoff": 15
           },
           "zerolinecolor": "white",
           "zerolinewidth": 2
          }
         }
        },
        "title": {
         "text": "2020년대 장르별 배우 출연 횟수 (2회 이상 출연한 배우)"
        },
        "xaxis": {
         "anchor": "y",
         "categoryarray": [
          "판타지",
          "코미디",
          "액션",
          "범죄",
          "드라마"
         ],
         "categoryorder": "total descending",
         "domain": [
          0,
          1
         ],
         "title": {
          "text": "장르"
         }
        },
        "yaxis": {
         "anchor": "x",
         "domain": [
          0,
          1
         ],
         "title": {
          "text": "출연 횟수"
         }
        }
       }
      }
     },
     "metadata": {},
     "output_type": "display_data"
    }
   ],
   "source": [
    "data = pd.read_csv('5.2_dataset_forviz_add_gener.csv')\n",
    "\n",
    "# 매출액과 관객수 데이터 형태 처리\n",
    "data['매출액'] = data['매출액'].str.replace(',', '').astype(float)\n",
    "data['관객수'] = data['관객수'].str.replace(',', '').astype(int)\n",
    "\n",
    "# 개봉일에서 연도 추출\n",
    "data['year'] = pd.to_datetime(data['개봉일']).dt.year\n",
    "\n",
    "# 1990년대 영화만 필터링\n",
    "data = data[(data['year'] >= 2020) ]\n",
    "\n",
    "\n",
    "# 데이터 형태 확인 및 처리\n",
    "def safe_eval(x):\n",
    "    if isinstance(x, str):\n",
    "        try:\n",
    "            return eval(x)\n",
    "        except:\n",
    "            return []  # 오류 발생시 빈 리스트 반환\n",
    "    return x if isinstance(x, list) else []\n",
    "\n",
    "data['actor_main_name'] = data['actor_main_name'].apply(safe_eval)\n",
    "data['actor_sub_name'] = data['actor_sub_name'].apply(safe_eval)\n",
    "\n",
    "# 숫자를 한글식 표현으로 변환하는 함수\n",
    "def korean_style_number(num, is_revenue=False):\n",
    "    units = ['만', '억', '조', '경']\n",
    "    steps = [10000, 100000000, 1000000000000, 10000000000000000]\n",
    "    result = ''\n",
    "    for i, step in enumerate(steps[::-1]):\n",
    "        if num >= step:\n",
    "            result += str(int(num // step)) + units[::-1][i]\n",
    "            num %= step\n",
    "        if is_revenue and units[::-1][i] == '억':\n",
    "            break\n",
    "    return result\n",
    "\n",
    "# 장르명 정규화 함수\n",
    "def normalize_genre(genre):\n",
    "    genre = genre.strip()  # 공백 제거\n",
    "    genre = genre.replace(' ', '')  # 중간 공백 제거\n",
    "    genre = genre.lower()  # 소문자로 통일\n",
    "    return genre\n",
    "\n",
    "# 장르별로 배우 출연 횟수 및 매출, 관객수 집계\n",
    "genre_actor_stats = {}\n",
    "\n",
    "for index, row in data.iterrows():\n",
    "    genres = [normalize_genre(gen) for gen in row['only_gener'].split(',')]\n",
    "    actors = set(row['actor_main_name'] + row['actor_sub_name'])  # 주연과 조연 합치기\n",
    "    revenue = row['매출액']\n",
    "    audience = row['관객수']\n",
    "    \n",
    "    for genre in genres:\n",
    "        if genre not in genre_actor_stats:\n",
    "            genre_actor_stats[genre] = {}\n",
    "        \n",
    "        for actor in actors:\n",
    "            if actor not in genre_actor_stats[genre]:\n",
    "                genre_actor_stats[genre][actor] = {'Count': 0, 'Total Revenue': 0, 'Total Audience': 0}\n",
    "            genre_actor_stats[genre][actor]['Count'] += 1\n",
    "            genre_actor_stats[genre][actor]['Total Revenue'] += revenue\n",
    "            genre_actor_stats[genre][actor]['Total Audience'] += audience\n",
    "\n",
    "# 데이터 프레임으로 변환 및 한글식 숫자 변환\n",
    "rows = []\n",
    "for genre, actor_stats in genre_actor_stats.items():\n",
    "    for actor, stats in actor_stats.items():\n",
    "        if stats['Count'] >= 2:  # 3회 이상 출연한 배우만 포함\n",
    "            rows.append({\n",
    "                '장르': genre, \n",
    "                '배우': actor, \n",
    "                '출연 횟수': stats['Count'],\n",
    "                '총 매출액': korean_style_number(stats['Total Revenue'], is_revenue=True),\n",
    "                '총 관객수': korean_style_number(stats['Total Audience'])\n",
    "            })\n",
    "\n",
    "df_actor_stats = pd.DataFrame(rows)\n",
    "df_actor_stats.sort_values(by=['장르', '출연 횟수', '총 매출액', '총 관객수'], ascending=[True, False, False, False], inplace=True)\n",
    "\n",
    "# 시각화\n",
    "fig = px.bar(df_actor_stats, x='장르', y='출연 횟수', color='배우', title='2020년대 장르별 배우 출연 횟수 (2회 이상 출연한 배우)',\n",
    "             hover_data=['총 매출액', '총 관객수'],\n",
    "             category_orders={\"장르\": sorted(df_actor_stats['장르'].unique(), reverse=True)})\n",
    "fig.update_layout(xaxis={'categoryorder':'total descending'}, showlegend=False)\n",
    "fig.show()\n",
    "fig.write_html('jh_actor_genre_2020.html')"
   ]
  },
  {
   "cell_type": "code",
   "execution_count": null,
   "id": "c529353e",
   "metadata": {},
   "outputs": [],
   "source": []
  }
 ],
 "metadata": {
  "kernelspec": {
   "display_name": "Python 3 (ipykernel)",
   "language": "python",
   "name": "python3"
  },
  "language_info": {
   "codemirror_mode": {
    "name": "ipython",
    "version": 3
   },
   "file_extension": ".py",
   "mimetype": "text/x-python",
   "name": "python",
   "nbconvert_exporter": "python",
   "pygments_lexer": "ipython3",
   "version": "3.11.5"
  }
 },
 "nbformat": 4,
 "nbformat_minor": 5
}
