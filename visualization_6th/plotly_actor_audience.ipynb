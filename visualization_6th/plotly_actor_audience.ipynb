{
 "cells": [
  {
   "cell_type": "code",
   "execution_count": 1,
   "id": "0906b8d6",
   "metadata": {},
   "outputs": [],
   "source": [
    "import pandas as pd\n",
    "import matplotlib.pyplot as plt\n",
    "import numpy as np\n",
    "import ast\n",
    "import itertools\n",
    "import networkx as nx\n",
    "import matplotlib.font_manager as fm\n",
    "import plotly.express as px"
   ]
  },
  {
   "cell_type": "code",
   "execution_count": null,
   "id": "1ad37db4",
   "metadata": {},
   "outputs": [],
   "source": []
  },
  {
   "cell_type": "markdown",
   "id": "34060df0",
   "metadata": {},
   "source": [
    "## 1. 연도별 최고 관객수 동원 배우"
   ]
  },
  {
   "cell_type": "code",
   "execution_count": 2,
   "id": "fefb1c8f",
   "metadata": {},
   "outputs": [
    {
     "data": {
      "application/vnd.plotly.v1+json": {
       "config": {
        "plotlyServerURL": "https://plot.ly"
       },
       "data": [
        {
         "alignmentgroup": "True",
         "customdata": [
          [
           "1761만 3682",
           "1357.0억",
           "명량"
          ]
         ],
         "hovertemplate": "배우=%{text}<br>연도=%{x}<br>총 관객수=%{y}<br>최고 히트작 관객수=%{customdata[0]}<br>최고 히트작 매출액=%{customdata[1]}<br>최고 히트작=%{customdata[2]}<extra></extra>",
         "legendgroup": "조진웅",
         "marker": {
          "color": "#636efa",
          "pattern": {
           "shape": ""
          }
         },
         "name": "조진웅",
         "offsetgroup": "조진웅",
         "orientation": "v",
         "showlegend": true,
         "text": [
          "조진웅"
         ],
         "textposition": "outside",
         "type": "bar",
         "x": [
          2014
         ],
         "xaxis": "x",
         "y": [
          25838882
         ],
         "yaxis": "y"
        },
        {
         "alignmentgroup": "True",
         "customdata": [
          [
           "825만 2669",
           "698.0억",
           "백두산"
          ],
          [
           "1068만 2813",
           "1046.0억",
           "범죄도시3"
          ],
          [
           "1269만 3175",
           "1312.0억",
           "범죄도시2"
          ]
         ],
         "hovertemplate": "배우=%{text}<br>연도=%{x}<br>총 관객수=%{y}<br>최고 히트작 관객수=%{customdata[0]}<br>최고 히트작 매출액=%{customdata[1]}<br>최고 히트작=%{customdata[2]}<extra></extra>",
         "legendgroup": "마동석",
         "marker": {
          "color": "#EF553B",
          "pattern": {
           "shape": ""
          }
         },
         "name": "마동석",
         "offsetgroup": "마동석",
         "orientation": "v",
         "showlegend": true,
         "text": [
          "마동석",
          "마동석",
          "마동석"
         ],
         "textposition": "outside",
         "type": "bar",
         "x": [
          2019,
          2023,
          2022
         ],
         "xaxis": "x",
         "y": [
          19507969,
          21365626,
          12693175
         ],
         "yaxis": "y"
        },
        {
         "alignmentgroup": "True",
         "customdata": [
          [
           "1441만 754",
           "1156.0억",
           "신과함께-죄와 벌"
          ]
         ],
         "hovertemplate": "배우=%{text}<br>연도=%{x}<br>총 관객수=%{y}<br>최고 히트작 관객수=%{customdata[0]}<br>최고 히트작 매출액=%{customdata[1]}<br>최고 히트작=%{customdata[2]}<extra></extra>",
         "legendgroup": "하정우",
         "marker": {
          "color": "#00cc96",
          "pattern": {
           "shape": ""
          }
         },
         "name": "하정우",
         "offsetgroup": "하정우",
         "orientation": "v",
         "showlegend": true,
         "text": [
          "하정우"
         ],
         "textposition": "outside",
         "type": "bar",
         "x": [
          2017
         ],
         "xaxis": "x",
         "y": [
          21642392
         ],
         "yaxis": "y"
        },
        {
         "alignmentgroup": "True",
         "customdata": [
          [
           "1341만 4009",
           "1051.0억",
           "베테랑"
          ],
          [
           "970만 7158",
           "773.0억",
           "검사외전"
          ]
         ],
         "hovertemplate": "배우=%{text}<br>연도=%{x}<br>총 관객수=%{y}<br>최고 히트작 관객수=%{customdata[0]}<br>최고 히트작 매출액=%{customdata[1]}<br>최고 히트작=%{customdata[2]}<extra></extra>",
         "legendgroup": "황정민",
         "marker": {
          "color": "#ab63fa",
          "pattern": {
           "shape": ""
          }
         },
         "name": "황정민",
         "offsetgroup": "황정민",
         "orientation": "v",
         "showlegend": true,
         "text": [
          "황정민",
          "황정민"
         ],
         "textposition": "outside",
         "type": "bar",
         "x": [
          2015,
          2016
         ],
         "xaxis": "x",
         "y": [
          21173482,
          19181094
         ],
         "yaxis": "y"
        },
        {
         "alignmentgroup": "True",
         "customdata": [
          [
           "1301만 9740",
           "0.0",
           "괴물"
          ],
          [
           "1137만 4610",
           "828.0억",
           "변호인"
          ],
          [
           "251만 3540",
           "0.0",
           "공동경비구역 JSA"
          ]
         ],
         "hovertemplate": "배우=%{text}<br>연도=%{x}<br>총 관객수=%{y}<br>최고 히트작 관객수=%{customdata[0]}<br>최고 히트작 매출액=%{customdata[1]}<br>최고 히트작=%{customdata[2]}<extra></extra>",
         "legendgroup": "송강호",
         "marker": {
          "color": "#FFA15A",
          "pattern": {
           "shape": ""
          }
         },
         "name": "송강호",
         "offsetgroup": "송강호",
         "orientation": "v",
         "showlegend": true,
         "text": [
          "송강호",
          "송강호",
          "송강호"
         ],
         "textposition": "outside",
         "type": "bar",
         "x": [
          2006,
          2013,
          2000
         ],
         "xaxis": "x",
         "y": [
          13019740,
          29859187,
          2513540
         ],
         "yaxis": "y"
        },
        {
         "alignmentgroup": "True",
         "customdata": [
          [
           "1231만 9542",
           "889.0억",
           "광해, 왕이 된 남자"
          ],
          [
           "747만 633",
           "558.0억",
           "최종병기 활"
          ]
         ],
         "hovertemplate": "배우=%{text}<br>연도=%{x}<br>총 관객수=%{y}<br>최고 히트작 관객수=%{customdata[0]}<br>최고 히트작 매출액=%{customdata[1]}<br>최고 히트작=%{customdata[2]}<extra></extra>",
         "legendgroup": "류승룡",
         "marker": {
          "color": "#19d3f3",
          "pattern": {
           "shape": ""
          }
         },
         "name": "류승룡",
         "offsetgroup": "류승룡",
         "orientation": "v",
         "showlegend": true,
         "text": [
          "류승룡",
          "류승룡"
         ],
         "textposition": "outside",
         "type": "bar",
         "x": [
          2012,
          2011
         ],
         "xaxis": "x",
         "y": [
          16918125,
          14001185
         ],
         "yaxis": "y"
        },
        {
         "alignmentgroup": "True",
         "customdata": [
          [
           "1230만 2831",
           "0.0",
           "왕의 남자"
          ]
         ],
         "hovertemplate": "배우=%{text}<br>연도=%{x}<br>총 관객수=%{y}<br>최고 히트작 관객수=%{customdata[0]}<br>최고 히트작 매출액=%{customdata[1]}<br>최고 히트작=%{customdata[2]}<extra></extra>",
         "legendgroup": "유해진",
         "marker": {
          "color": "#FF6692",
          "pattern": {
           "shape": ""
          }
         },
         "name": "유해진",
         "offsetgroup": "유해진",
         "orientation": "v",
         "showlegend": true,
         "text": [
          "유해진"
         ],
         "textposition": "outside",
         "type": "bar",
         "x": [
          2005
         ],
         "xaxis": "x",
         "y": [
          16214187
         ],
         "yaxis": "y"
        },
        {
         "alignmentgroup": "True",
         "customdata": [
          [
           "1227만 4996",
           "1026.0억",
           "신과함께-인과 연"
          ]
         ],
         "hovertemplate": "배우=%{text}<br>연도=%{x}<br>총 관객수=%{y}<br>최고 히트작 관객수=%{customdata[0]}<br>최고 히트작 매출액=%{customdata[1]}<br>최고 히트작=%{customdata[2]}<extra></extra>",
         "legendgroup": "주지훈",
         "marker": {
          "color": "#B6E880",
          "pattern": {
           "shape": ""
          }
         },
         "name": "주지훈",
         "offsetgroup": "주지훈",
         "orientation": "v",
         "showlegend": true,
         "text": [
          "주지훈"
         ],
         "textposition": "outside",
         "type": "bar",
         "x": [
          2018
         ],
         "xaxis": "x",
         "y": [
          21038829
         ],
         "yaxis": "y"
        },
        {
         "alignmentgroup": "True",
         "customdata": [
          [
           "1174만 6135",
           "0.0",
           "태극기 휘날리며"
          ]
         ],
         "hovertemplate": "배우=%{text}<br>연도=%{x}<br>총 관객수=%{y}<br>최고 히트작 관객수=%{customdata[0]}<br>최고 히트작 매출액=%{customdata[1]}<br>최고 히트작=%{customdata[2]}<extra></extra>",
         "legendgroup": "원빈",
         "marker": {
          "color": "#FF97FF",
          "pattern": {
           "shape": ""
          }
         },
         "name": "원빈",
         "offsetgroup": "원빈",
         "orientation": "v",
         "showlegend": true,
         "text": [
          "원빈"
         ],
         "textposition": "outside",
         "type": "bar",
         "x": [
          2004
         ],
         "xaxis": "x",
         "y": [
          14225720
         ],
         "yaxis": "y"
        },
        {
         "alignmentgroup": "True",
         "customdata": [
          [
           "1145만 3338",
           "819.0억",
           "해운대"
          ]
         ],
         "hovertemplate": "배우=%{text}<br>연도=%{x}<br>총 관객수=%{y}<br>최고 히트작 관객수=%{customdata[0]}<br>최고 히트작 매출액=%{customdata[1]}<br>최고 히트작=%{customdata[2]}<extra></extra>",
         "legendgroup": "하지원",
         "marker": {
          "color": "#FECB52",
          "pattern": {
           "shape": ""
          }
         },
         "name": "하지원",
         "offsetgroup": "하지원",
         "orientation": "v",
         "showlegend": true,
         "text": [
          "하지원"
         ],
         "textposition": "outside",
         "type": "bar",
         "x": [
          2009
         ],
         "xaxis": "x",
         "y": [
          13613603
         ],
         "yaxis": "y"
        },
        {
         "alignmentgroup": "True",
         "customdata": [
          [
           "1108만 1000",
           "0.0",
           "실미도"
          ]
         ],
         "hovertemplate": "배우=%{text}<br>연도=%{x}<br>총 관객수=%{y}<br>최고 히트작 관객수=%{customdata[0]}<br>최고 히트작 매출액=%{customdata[1]}<br>최고 히트작=%{customdata[2]}<extra></extra>",
         "legendgroup": "설경구",
         "marker": {
          "color": "#636efa",
          "pattern": {
           "shape": ""
          }
         },
         "name": "설경구",
         "offsetgroup": "설경구",
         "orientation": "v",
         "showlegend": true,
         "text": [
          "설경구"
         ],
         "textposition": "outside",
         "type": "bar",
         "x": [
          2003
         ],
         "xaxis": "x",
         "y": [
          11081000
         ],
         "yaxis": "y"
        },
        {
         "alignmentgroup": "True",
         "customdata": [
          [
           "1095만 7317",
           "1057.0억",
           "파묘"
          ]
         ],
         "hovertemplate": "배우=%{text}<br>연도=%{x}<br>총 관객수=%{y}<br>최고 히트작 관객수=%{customdata[0]}<br>최고 히트작 매출액=%{customdata[1]}<br>최고 히트작=%{customdata[2]}<extra></extra>",
         "legendgroup": "최민식",
         "marker": {
          "color": "#EF553B",
          "pattern": {
           "shape": ""
          }
         },
         "name": "최민식",
         "offsetgroup": "최민식",
         "orientation": "v",
         "showlegend": true,
         "text": [
          "최민식"
         ],
         "textposition": "outside",
         "type": "bar",
         "x": [
          2024
         ],
         "xaxis": "x",
         "y": [
          10957317
         ],
         "yaxis": "y"
        },
        {
         "alignmentgroup": "True",
         "customdata": [
          [
           "842만 6973",
           "0.0",
           "디워"
          ]
         ],
         "hovertemplate": "배우=%{text}<br>연도=%{x}<br>총 관객수=%{y}<br>최고 히트작 관객수=%{customdata[0]}<br>최고 히트작 매출액=%{customdata[1]}<br>최고 히트작=%{customdata[2]}<extra></extra>",
         "legendgroup": "브룩스아만다",
         "marker": {
          "color": "#00cc96",
          "pattern": {
           "shape": ""
          }
         },
         "name": "브룩스아만다",
         "offsetgroup": "브룩스아만다",
         "orientation": "v",
         "showlegend": true,
         "text": [
          "브룩스아만다"
         ],
         "textposition": "outside",
         "type": "bar",
         "x": [
          2007
         ],
         "xaxis": "x",
         "y": [
          8426973
         ],
         "yaxis": "y"
        },
        {
         "alignmentgroup": "True",
         "customdata": [
          [
           "824만 5523",
           "539.0억",
           "과속스캔들"
          ]
         ],
         "hovertemplate": "배우=%{text}<br>연도=%{x}<br>총 관객수=%{y}<br>최고 히트작 관객수=%{customdata[0]}<br>최고 히트작 매출액=%{customdata[1]}<br>최고 히트작=%{customdata[2]}<extra></extra>",
         "legendgroup": "차태현",
         "marker": {
          "color": "#ab63fa",
          "pattern": {
           "shape": ""
          }
         },
         "name": "차태현",
         "offsetgroup": "차태현",
         "orientation": "v",
         "showlegend": true,
         "text": [
          "차태현"
         ],
         "textposition": "outside",
         "type": "bar",
         "x": [
          2008
         ],
         "xaxis": "x",
         "y": [
          8245523
         ],
         "yaxis": "y"
        },
        {
         "alignmentgroup": "True",
         "customdata": [
          [
           "550만 7106",
           "408.0억",
           "의형제"
          ]
         ],
         "hovertemplate": "배우=%{text}<br>연도=%{x}<br>총 관객수=%{y}<br>최고 히트작 관객수=%{customdata[0]}<br>최고 히트작 매출액=%{customdata[1]}<br>최고 히트작=%{customdata[2]}<extra></extra>",
         "legendgroup": "강동원",
         "marker": {
          "color": "#FFA15A",
          "pattern": {
           "shape": ""
          }
         },
         "name": "강동원",
         "offsetgroup": "강동원",
         "orientation": "v",
         "showlegend": true,
         "text": [
          "강동원"
         ],
         "textposition": "outside",
         "type": "bar",
         "x": [
          2010
         ],
         "xaxis": "x",
         "y": [
          7671911
         ],
         "yaxis": "y"
        },
        {
         "alignmentgroup": "True",
         "customdata": [
          [
           "582만",
           "0.0",
           "쉬리"
          ]
         ],
         "hovertemplate": "배우=%{text}<br>연도=%{x}<br>총 관객수=%{y}<br>최고 히트작 관객수=%{customdata[0]}<br>최고 히트작 매출액=%{customdata[1]}<br>최고 히트작=%{customdata[2]}<extra></extra>",
         "legendgroup": "한석규",
         "marker": {
          "color": "#19d3f3",
          "pattern": {
           "shape": ""
          }
         },
         "name": "한석규",
         "offsetgroup": "한석규",
         "orientation": "v",
         "showlegend": true,
         "text": [
          "한석규"
         ],
         "textposition": "outside",
         "type": "bar",
         "x": [
          1999
         ],
         "xaxis": "x",
         "y": [
          7050000
         ],
         "yaxis": "y"
        },
        {
         "alignmentgroup": "True",
         "customdata": [
          [
           "475만 104",
           "412.0억",
           "남산의 부장들"
          ]
         ],
         "hovertemplate": "배우=%{text}<br>연도=%{x}<br>총 관객수=%{y}<br>최고 히트작 관객수=%{customdata[0]}<br>최고 히트작 매출액=%{customdata[1]}<br>최고 히트작=%{customdata[2]}<extra></extra>",
         "legendgroup": "곽도원",
         "marker": {
          "color": "#FF6692",
          "pattern": {
           "shape": ""
          }
         },
         "name": "곽도원",
         "offsetgroup": "곽도원",
         "orientation": "v",
         "showlegend": true,
         "text": [
          "곽도원"
         ],
         "textposition": "outside",
         "type": "bar",
         "x": [
          2020
         ],
         "xaxis": "x",
         "y": [
          6540901
         ],
         "yaxis": "y"
        },
        {
         "alignmentgroup": "True",
         "customdata": [
          [
           "408만 2797",
           "0.0",
           "색즉시공"
          ]
         ],
         "hovertemplate": "배우=%{text}<br>연도=%{x}<br>총 관객수=%{y}<br>최고 히트작 관객수=%{customdata[0]}<br>최고 히트작 매출액=%{customdata[1]}<br>최고 히트작=%{customdata[2]}<extra></extra>",
         "legendgroup": "임창정",
         "marker": {
          "color": "#B6E880",
          "pattern": {
           "shape": ""
          }
         },
         "name": "임창정",
         "offsetgroup": "임창정",
         "orientation": "v",
         "showlegend": true,
         "text": [
          "임창정"
         ],
         "textposition": "outside",
         "type": "bar",
         "x": [
          2002
         ],
         "xaxis": "x",
         "y": [
          4082797
         ],
         "yaxis": "y"
        },
        {
         "alignmentgroup": "True",
         "customdata": [
          [
           "361만 3984",
           "345.0억",
           "모가디슈"
          ]
         ],
         "hovertemplate": "배우=%{text}<br>연도=%{x}<br>총 관객수=%{y}<br>최고 히트작 관객수=%{customdata[0]}<br>최고 히트작 매출액=%{customdata[1]}<br>최고 히트작=%{customdata[2]}<extra></extra>",
         "legendgroup": "김윤석",
         "marker": {
          "color": "#FF97FF",
          "pattern": {
           "shape": ""
          }
         },
         "name": "김윤석",
         "offsetgroup": "김윤석",
         "orientation": "v",
         "showlegend": true,
         "text": [
          "김윤석"
         ],
         "textposition": "outside",
         "type": "bar",
         "x": [
          2021
         ],
         "xaxis": "x",
         "y": [
          3613984
         ],
         "yaxis": "y"
        },
        {
         "alignmentgroup": "True",
         "customdata": [
          [
           "267만 8846",
           "0.0",
           "친구"
          ]
         ],
         "hovertemplate": "배우=%{text}<br>연도=%{x}<br>총 관객수=%{y}<br>최고 히트작 관객수=%{customdata[0]}<br>최고 히트작 매출액=%{customdata[1]}<br>최고 히트작=%{customdata[2]}<extra></extra>",
         "legendgroup": "정운택",
         "marker": {
          "color": "#FECB52",
          "pattern": {
           "shape": ""
          }
         },
         "name": "정운택",
         "offsetgroup": "정운택",
         "orientation": "v",
         "showlegend": true,
         "text": [
          "정운택"
         ],
         "textposition": "outside",
         "type": "bar",
         "x": [
          2001
         ],
         "xaxis": "x",
         "y": [
          3906988
         ],
         "yaxis": "y"
        },
        {
         "alignmentgroup": "True",
         "customdata": [
          [
           "103만 5741",
           "0.0",
           "서편제"
          ]
         ],
         "hovertemplate": "배우=%{text}<br>연도=%{x}<br>총 관객수=%{y}<br>최고 히트작 관객수=%{customdata[0]}<br>최고 히트작 매출액=%{customdata[1]}<br>최고 히트작=%{customdata[2]}<extra></extra>",
         "legendgroup": "김명민",
         "marker": {
          "color": "#636efa",
          "pattern": {
           "shape": ""
          }
         },
         "name": "김명민",
         "offsetgroup": "김명민",
         "orientation": "v",
         "showlegend": true,
         "text": [
          "김명민"
         ],
         "textposition": "outside",
         "type": "bar",
         "x": [
          1993
         ],
         "xaxis": "x",
         "y": [
          1035741
         ],
         "yaxis": "y"
        }
       ],
       "layout": {
        "barmode": "relative",
        "legend": {
         "title": {
          "text": "배우"
         },
         "tracegroupgap": 0
        },
        "template": {
         "data": {
          "bar": [
           {
            "error_x": {
             "color": "#2a3f5f"
            },
            "error_y": {
             "color": "#2a3f5f"
            },
            "marker": {
             "line": {
              "color": "#E5ECF6",
              "width": 0.5
             },
             "pattern": {
              "fillmode": "overlay",
              "size": 10,
              "solidity": 0.2
             }
            },
            "type": "bar"
           }
          ],
          "barpolar": [
           {
            "marker": {
             "line": {
              "color": "#E5ECF6",
              "width": 0.5
             },
             "pattern": {
              "fillmode": "overlay",
              "size": 10,
              "solidity": 0.2
             }
            },
            "type": "barpolar"
           }
          ],
          "carpet": [
           {
            "aaxis": {
             "endlinecolor": "#2a3f5f",
             "gridcolor": "white",
             "linecolor": "white",
             "minorgridcolor": "white",
             "startlinecolor": "#2a3f5f"
            },
            "baxis": {
             "endlinecolor": "#2a3f5f",
             "gridcolor": "white",
             "linecolor": "white",
             "minorgridcolor": "white",
             "startlinecolor": "#2a3f5f"
            },
            "type": "carpet"
           }
          ],
          "choropleth": [
           {
            "colorbar": {
             "outlinewidth": 0,
             "ticks": ""
            },
            "type": "choropleth"
           }
          ],
          "contour": [
           {
            "colorbar": {
             "outlinewidth": 0,
             "ticks": ""
            },
            "colorscale": [
             [
              0,
              "#0d0887"
             ],
             [
              0.1111111111111111,
              "#46039f"
             ],
             [
              0.2222222222222222,
              "#7201a8"
             ],
             [
              0.3333333333333333,
              "#9c179e"
             ],
             [
              0.4444444444444444,
              "#bd3786"
             ],
             [
              0.5555555555555556,
              "#d8576b"
             ],
             [
              0.6666666666666666,
              "#ed7953"
             ],
             [
              0.7777777777777778,
              "#fb9f3a"
             ],
             [
              0.8888888888888888,
              "#fdca26"
             ],
             [
              1,
              "#f0f921"
             ]
            ],
            "type": "contour"
           }
          ],
          "contourcarpet": [
           {
            "colorbar": {
             "outlinewidth": 0,
             "ticks": ""
            },
            "type": "contourcarpet"
           }
          ],
          "heatmap": [
           {
            "colorbar": {
             "outlinewidth": 0,
             "ticks": ""
            },
            "colorscale": [
             [
              0,
              "#0d0887"
             ],
             [
              0.1111111111111111,
              "#46039f"
             ],
             [
              0.2222222222222222,
              "#7201a8"
             ],
             [
              0.3333333333333333,
              "#9c179e"
             ],
             [
              0.4444444444444444,
              "#bd3786"
             ],
             [
              0.5555555555555556,
              "#d8576b"
             ],
             [
              0.6666666666666666,
              "#ed7953"
             ],
             [
              0.7777777777777778,
              "#fb9f3a"
             ],
             [
              0.8888888888888888,
              "#fdca26"
             ],
             [
              1,
              "#f0f921"
             ]
            ],
            "type": "heatmap"
           }
          ],
          "heatmapgl": [
           {
            "colorbar": {
             "outlinewidth": 0,
             "ticks": ""
            },
            "colorscale": [
             [
              0,
              "#0d0887"
             ],
             [
              0.1111111111111111,
              "#46039f"
             ],
             [
              0.2222222222222222,
              "#7201a8"
             ],
             [
              0.3333333333333333,
              "#9c179e"
             ],
             [
              0.4444444444444444,
              "#bd3786"
             ],
             [
              0.5555555555555556,
              "#d8576b"
             ],
             [
              0.6666666666666666,
              "#ed7953"
             ],
             [
              0.7777777777777778,
              "#fb9f3a"
             ],
             [
              0.8888888888888888,
              "#fdca26"
             ],
             [
              1,
              "#f0f921"
             ]
            ],
            "type": "heatmapgl"
           }
          ],
          "histogram": [
           {
            "marker": {
             "pattern": {
              "fillmode": "overlay",
              "size": 10,
              "solidity": 0.2
             }
            },
            "type": "histogram"
           }
          ],
          "histogram2d": [
           {
            "colorbar": {
             "outlinewidth": 0,
             "ticks": ""
            },
            "colorscale": [
             [
              0,
              "#0d0887"
             ],
             [
              0.1111111111111111,
              "#46039f"
             ],
             [
              0.2222222222222222,
              "#7201a8"
             ],
             [
              0.3333333333333333,
              "#9c179e"
             ],
             [
              0.4444444444444444,
              "#bd3786"
             ],
             [
              0.5555555555555556,
              "#d8576b"
             ],
             [
              0.6666666666666666,
              "#ed7953"
             ],
             [
              0.7777777777777778,
              "#fb9f3a"
             ],
             [
              0.8888888888888888,
              "#fdca26"
             ],
             [
              1,
              "#f0f921"
             ]
            ],
            "type": "histogram2d"
           }
          ],
          "histogram2dcontour": [
           {
            "colorbar": {
             "outlinewidth": 0,
             "ticks": ""
            },
            "colorscale": [
             [
              0,
              "#0d0887"
             ],
             [
              0.1111111111111111,
              "#46039f"
             ],
             [
              0.2222222222222222,
              "#7201a8"
             ],
             [
              0.3333333333333333,
              "#9c179e"
             ],
             [
              0.4444444444444444,
              "#bd3786"
             ],
             [
              0.5555555555555556,
              "#d8576b"
             ],
             [
              0.6666666666666666,
              "#ed7953"
             ],
             [
              0.7777777777777778,
              "#fb9f3a"
             ],
             [
              0.8888888888888888,
              "#fdca26"
             ],
             [
              1,
              "#f0f921"
             ]
            ],
            "type": "histogram2dcontour"
           }
          ],
          "mesh3d": [
           {
            "colorbar": {
             "outlinewidth": 0,
             "ticks": ""
            },
            "type": "mesh3d"
           }
          ],
          "parcoords": [
           {
            "line": {
             "colorbar": {
              "outlinewidth": 0,
              "ticks": ""
             }
            },
            "type": "parcoords"
           }
          ],
          "pie": [
           {
            "automargin": true,
            "type": "pie"
           }
          ],
          "scatter": [
           {
            "fillpattern": {
             "fillmode": "overlay",
             "size": 10,
             "solidity": 0.2
            },
            "type": "scatter"
           }
          ],
          "scatter3d": [
           {
            "line": {
             "colorbar": {
              "outlinewidth": 0,
              "ticks": ""
             }
            },
            "marker": {
             "colorbar": {
              "outlinewidth": 0,
              "ticks": ""
             }
            },
            "type": "scatter3d"
           }
          ],
          "scattercarpet": [
           {
            "marker": {
             "colorbar": {
              "outlinewidth": 0,
              "ticks": ""
             }
            },
            "type": "scattercarpet"
           }
          ],
          "scattergeo": [
           {
            "marker": {
             "colorbar": {
              "outlinewidth": 0,
              "ticks": ""
             }
            },
            "type": "scattergeo"
           }
          ],
          "scattergl": [
           {
            "marker": {
             "colorbar": {
              "outlinewidth": 0,
              "ticks": ""
             }
            },
            "type": "scattergl"
           }
          ],
          "scattermapbox": [
           {
            "marker": {
             "colorbar": {
              "outlinewidth": 0,
              "ticks": ""
             }
            },
            "type": "scattermapbox"
           }
          ],
          "scatterpolar": [
           {
            "marker": {
             "colorbar": {
              "outlinewidth": 0,
              "ticks": ""
             }
            },
            "type": "scatterpolar"
           }
          ],
          "scatterpolargl": [
           {
            "marker": {
             "colorbar": {
              "outlinewidth": 0,
              "ticks": ""
             }
            },
            "type": "scatterpolargl"
           }
          ],
          "scatterternary": [
           {
            "marker": {
             "colorbar": {
              "outlinewidth": 0,
              "ticks": ""
             }
            },
            "type": "scatterternary"
           }
          ],
          "surface": [
           {
            "colorbar": {
             "outlinewidth": 0,
             "ticks": ""
            },
            "colorscale": [
             [
              0,
              "#0d0887"
             ],
             [
              0.1111111111111111,
              "#46039f"
             ],
             [
              0.2222222222222222,
              "#7201a8"
             ],
             [
              0.3333333333333333,
              "#9c179e"
             ],
             [
              0.4444444444444444,
              "#bd3786"
             ],
             [
              0.5555555555555556,
              "#d8576b"
             ],
             [
              0.6666666666666666,
              "#ed7953"
             ],
             [
              0.7777777777777778,
              "#fb9f3a"
             ],
             [
              0.8888888888888888,
              "#fdca26"
             ],
             [
              1,
              "#f0f921"
             ]
            ],
            "type": "surface"
           }
          ],
          "table": [
           {
            "cells": {
             "fill": {
              "color": "#EBF0F8"
             },
             "line": {
              "color": "white"
             }
            },
            "header": {
             "fill": {
              "color": "#C8D4E3"
             },
             "line": {
              "color": "white"
             }
            },
            "type": "table"
           }
          ]
         },
         "layout": {
          "annotationdefaults": {
           "arrowcolor": "#2a3f5f",
           "arrowhead": 0,
           "arrowwidth": 1
          },
          "autotypenumbers": "strict",
          "coloraxis": {
           "colorbar": {
            "outlinewidth": 0,
            "ticks": ""
           }
          },
          "colorscale": {
           "diverging": [
            [
             0,
             "#8e0152"
            ],
            [
             0.1,
             "#c51b7d"
            ],
            [
             0.2,
             "#de77ae"
            ],
            [
             0.3,
             "#f1b6da"
            ],
            [
             0.4,
             "#fde0ef"
            ],
            [
             0.5,
             "#f7f7f7"
            ],
            [
             0.6,
             "#e6f5d0"
            ],
            [
             0.7,
             "#b8e186"
            ],
            [
             0.8,
             "#7fbc41"
            ],
            [
             0.9,
             "#4d9221"
            ],
            [
             1,
             "#276419"
            ]
           ],
           "sequential": [
            [
             0,
             "#0d0887"
            ],
            [
             0.1111111111111111,
             "#46039f"
            ],
            [
             0.2222222222222222,
             "#7201a8"
            ],
            [
             0.3333333333333333,
             "#9c179e"
            ],
            [
             0.4444444444444444,
             "#bd3786"
            ],
            [
             0.5555555555555556,
             "#d8576b"
            ],
            [
             0.6666666666666666,
             "#ed7953"
            ],
            [
             0.7777777777777778,
             "#fb9f3a"
            ],
            [
             0.8888888888888888,
             "#fdca26"
            ],
            [
             1,
             "#f0f921"
            ]
           ],
           "sequentialminus": [
            [
             0,
             "#0d0887"
            ],
            [
             0.1111111111111111,
             "#46039f"
            ],
            [
             0.2222222222222222,
             "#7201a8"
            ],
            [
             0.3333333333333333,
             "#9c179e"
            ],
            [
             0.4444444444444444,
             "#bd3786"
            ],
            [
             0.5555555555555556,
             "#d8576b"
            ],
            [
             0.6666666666666666,
             "#ed7953"
            ],
            [
             0.7777777777777778,
             "#fb9f3a"
            ],
            [
             0.8888888888888888,
             "#fdca26"
            ],
            [
             1,
             "#f0f921"
            ]
           ]
          },
          "colorway": [
           "#636efa",
           "#EF553B",
           "#00cc96",
           "#ab63fa",
           "#FFA15A",
           "#19d3f3",
           "#FF6692",
           "#B6E880",
           "#FF97FF",
           "#FECB52"
          ],
          "font": {
           "color": "#2a3f5f"
          },
          "geo": {
           "bgcolor": "white",
           "lakecolor": "white",
           "landcolor": "#E5ECF6",
           "showlakes": true,
           "showland": true,
           "subunitcolor": "white"
          },
          "hoverlabel": {
           "align": "left"
          },
          "hovermode": "closest",
          "mapbox": {
           "style": "light"
          },
          "paper_bgcolor": "white",
          "plot_bgcolor": "#E5ECF6",
          "polar": {
           "angularaxis": {
            "gridcolor": "white",
            "linecolor": "white",
            "ticks": ""
           },
           "bgcolor": "#E5ECF6",
           "radialaxis": {
            "gridcolor": "white",
            "linecolor": "white",
            "ticks": ""
           }
          },
          "scene": {
           "xaxis": {
            "backgroundcolor": "#E5ECF6",
            "gridcolor": "white",
            "gridwidth": 2,
            "linecolor": "white",
            "showbackground": true,
            "ticks": "",
            "zerolinecolor": "white"
           },
           "yaxis": {
            "backgroundcolor": "#E5ECF6",
            "gridcolor": "white",
            "gridwidth": 2,
            "linecolor": "white",
            "showbackground": true,
            "ticks": "",
            "zerolinecolor": "white"
           },
           "zaxis": {
            "backgroundcolor": "#E5ECF6",
            "gridcolor": "white",
            "gridwidth": 2,
            "linecolor": "white",
            "showbackground": true,
            "ticks": "",
            "zerolinecolor": "white"
           }
          },
          "shapedefaults": {
           "line": {
            "color": "#2a3f5f"
           }
          },
          "ternary": {
           "aaxis": {
            "gridcolor": "white",
            "linecolor": "white",
            "ticks": ""
           },
           "baxis": {
            "gridcolor": "white",
            "linecolor": "white",
            "ticks": ""
           },
           "bgcolor": "#E5ECF6",
           "caxis": {
            "gridcolor": "white",
            "linecolor": "white",
            "ticks": ""
           }
          },
          "title": {
           "x": 0.05
          },
          "xaxis": {
           "automargin": true,
           "gridcolor": "white",
           "linecolor": "white",
           "ticks": "",
           "title": {
            "standoff": 15
           },
           "zerolinecolor": "white",
           "zerolinewidth": 2
          },
          "yaxis": {
           "automargin": true,
           "gridcolor": "white",
           "linecolor": "white",
           "ticks": "",
           "title": {
            "standoff": 15
           },
           "zerolinecolor": "white",
           "zerolinewidth": 2
          }
         }
        },
        "title": {
         "text": "연도별 가장 많은 관객을 동원한 배우"
        },
        "xaxis": {
         "anchor": "y",
         "domain": [
          0,
          1
         ],
         "title": {
          "text": "연도"
         }
        },
        "yaxis": {
         "anchor": "x",
         "domain": [
          0,
          1
         ],
         "title": {
          "text": "총 관객수"
         }
        }
       }
      }
     },
     "metadata": {},
     "output_type": "display_data"
    }
   ],
   "source": [
    "# 데이터 로드\n",
    "df = pd.read_csv('5.2_dataset_forviz_add_gener.csv')\n",
    "\n",
    "# 매출액과 관객수 데이터 형태 처리\n",
    "df['매출액'] = df['매출액'].str.replace(',', '').astype(float)\n",
    "df['관객수'] = df['관객수'].str.replace(',', '').astype(int)\n",
    "df['개봉일'] = pd.to_datetime(df['개봉일'])\n",
    "df['연도'] = df['개봉일'].dt.year\n",
    "\n",
    "# 배우 데이터 정리\n",
    "def safe_eval(x):\n",
    "    try:\n",
    "        return eval(x)\n",
    "    except:\n",
    "        return []\n",
    "df['actor_main_name'] = df['actor_main_name'].apply(safe_eval)\n",
    "\n",
    "# 연도별 배우의 총 관객수 및 최대 히트작 정보 계산\n",
    "actor_audience = {}\n",
    "for index, row in df.iterrows():\n",
    "    year = row['연도']\n",
    "    audience = row['관객수']\n",
    "    revenue = row['매출액']\n",
    "    movie_name = row['영화명']\n",
    "    actors = row['actor_main_name']\n",
    "    for actor in actors:\n",
    "        if year not in actor_audience:\n",
    "            actor_audience[year] = {}\n",
    "        if actor not in actor_audience[year]:\n",
    "            actor_audience[year][actor] = {'Total Audience': 0, 'Top Movie Audience': 0, 'Top Movie Revenue': 0, 'Top Movie': ''}\n",
    "        actor_audience[year][actor]['Total Audience'] += audience\n",
    "        if audience > actor_audience[year][actor]['Top Movie Audience']:\n",
    "            actor_audience[year][actor]['Top Movie Audience'] = audience\n",
    "            actor_audience[year][actor]['Top Movie Revenue'] = revenue\n",
    "            actor_audience[year][actor]['Top Movie'] = movie_name\n",
    "\n",
    "# 결과 데이터프레임 생성\n",
    "results = []\n",
    "for year, actors in actor_audience.items():\n",
    "    top_actor = max(actors, key=lambda x: actors[x]['Total Audience'])\n",
    "    actor_info = actors[top_actor]\n",
    "    results.append({\n",
    "        'Year': year,\n",
    "        'Actor': top_actor,\n",
    "        'Total Audience': actor_info['Total Audience'],\n",
    "        'Top Movie Audience': actor_info['Top Movie Audience'],\n",
    "        'Top Movie Revenue': actor_info['Top Movie Revenue'],\n",
    "        'Top Movie': actor_info['Top Movie']\n",
    "    })\n",
    "result_df = pd.DataFrame(results)\n",
    "\n",
    "# 한국 숫자 단위로 변환하는 함수 정의 및 적용\n",
    "def korean_number_format(num):\n",
    "    if num < 10000:\n",
    "        return str(num)\n",
    "    elif num < 100000000:\n",
    "        return f'{num // 10000}만 {num % 10000}' if num % 10000 != 0 else f'{num // 10000}만'\n",
    "    else:\n",
    "        billions = num // 100000000\n",
    "        return f'{billions}억'\n",
    "\n",
    "result_df['Top Movie Audience'] = result_df['Top Movie Audience'].apply(korean_number_format)\n",
    "result_df['Top Movie Revenue'] = result_df['Top Movie Revenue'].apply(korean_number_format)\n",
    "\n",
    "# 시각화\n",
    "fig = px.bar(result_df, x='Year', y='Total Audience', color='Actor', text='Actor',\n",
    "             title='연도별 가장 많은 관객을 동원한 배우',\n",
    "             hover_data={'Top Movie Audience': True, 'Top Movie Revenue': True, 'Top Movie': True},\n",
    "             labels={\n",
    "                 'Year': '연도',\n",
    "                 'Actor': '배우',\n",
    "                 'Total Audience': '총 관객수',\n",
    "                 'Top Movie Audience': '최고 히트작 관객수',\n",
    "                 'Top Movie Revenue': '최고 히트작 매출액',\n",
    "                 'Top Movie': '최고 히트작'\n",
    "             })\n",
    "fig.update_traces(textposition='outside')\n",
    "fig.show()\n",
    "fig.write_html('jh_actor_audience_year.html')"
   ]
  },
  {
   "cell_type": "code",
   "execution_count": null,
   "id": "6e3a17ca",
   "metadata": {},
   "outputs": [],
   "source": []
  }
 ],
 "metadata": {
  "kernelspec": {
   "display_name": "Python 3 (ipykernel)",
   "language": "python",
   "name": "python3"
  },
  "language_info": {
   "codemirror_mode": {
    "name": "ipython",
    "version": 3
   },
   "file_extension": ".py",
   "mimetype": "text/x-python",
   "name": "python",
   "nbconvert_exporter": "python",
   "pygments_lexer": "ipython3",
   "version": "3.11.5"
  }
 },
 "nbformat": 4,
 "nbformat_minor": 5
}
