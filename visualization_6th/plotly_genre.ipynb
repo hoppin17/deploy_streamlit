{
 "cells": [
  {
   "cell_type": "markdown",
   "metadata": {},
   "source": [
    "# 데이터 불러오기"
   ]
  },
  {
   "cell_type": "code",
   "execution_count": 2,
   "metadata": {},
   "outputs": [],
   "source": [
    "import pandas as pd\n",
    "import networkx as nx\n",
    "import matplotlib.pyplot as plt\n",
    "import ast\n",
    "import plotly.graph_objects as go\n",
    "import plotly.express as px\n",
    "from pyvis.network import Network\n",
    "import plotly.colors\n",
    "\n",
    "import dash\n",
    "from dash import html, dcc\n",
    "import plotly.express as px\n",
    "from dash.dependencies import Input, Output\n"
   ]
  },
  {
   "cell_type": "code",
   "execution_count": 3,
   "metadata": {},
   "outputs": [],
   "source": [
    "df = pd.read_excel('5.5_viz_dataset.xlsx')"
   ]
  },
  {
   "cell_type": "code",
   "execution_count": 5,
   "metadata": {},
   "outputs": [],
   "source": [
    "# 리스트 형태의 문자열을 실제 리스트로 변환\n",
    "df['actor_main_name'] = df['actor_main_name'].apply(lambda x: ast.literal_eval(x) if pd.notna(x) else [])\n",
    "df['actor_sub_name'] = df['actor_sub_name'].apply(lambda x: ast.literal_eval(x) if pd.notna(x) else [])\n",
    "df['actor_cameo_name'] = df['actor_cameo_name'].apply(lambda x: ast.literal_eval(x) if pd.notna(x) else [])"
   ]
  },
  {
   "cell_type": "code",
   "execution_count": 6,
   "metadata": {},
   "outputs": [],
   "source": [
    "df.drop(columns='Unnamed: 0', axis=1, inplace=True)"
   ]
  },
  {
   "cell_type": "code",
   "execution_count": 7,
   "metadata": {},
   "outputs": [],
   "source": [
    "# 매출액 및 스크린수 데이터 정제 (숫자 형태로 변환)\n",
    "df['매출액'] = df['매출액'].replace(',', '', regex=True).astype(float)\n",
    "df['스크린수'] = df['스크린수'].replace(',', '', regex=True).astype(int)\n",
    "\n",
    "# 개봉일을 datetime 객체로 변환\n",
    "df['개봉일'] = pd.to_datetime(df['개봉일'], format='%Y.%m.%d')\n",
    "\n",
    "# 개봉일에서 년, 월, 일 추출하여 새로운 열 생성\n",
    "df['년도'] = df['개봉일'].dt.year\n",
    "df['월'] = df['개봉일'].dt.month\n",
    "df['일'] = df['개봉일'].dt.day\n"
   ]
  },
  {
   "cell_type": "code",
   "execution_count": 8,
   "metadata": {},
   "outputs": [],
   "source": [
    "# 새로운 열인 '년대' 생성\n",
    "# '년대' 열은 주어진 '년도' 열을 기반으로 1990년대, 2000년대, 2010년대, 2020년대로 나눕니다.\n",
    "def assign_decade(year):\n",
    "    if year < 2000:\n",
    "        return '1990년대'\n",
    "    elif 2000 <= year < 2010:\n",
    "        return '2000년대'\n",
    "    elif 2010 <= year < 2020:\n",
    "        return '2010년대'\n",
    "    elif year >= 2020:\n",
    "        return '2020년대'\n",
    "\n",
    "df['년대'] = df['년도'].apply(assign_decade)"
   ]
  },
  {
   "cell_type": "code",
   "execution_count": 9,
   "metadata": {},
   "outputs": [
    {
     "name": "stdout",
     "output_type": "stream",
     "text": [
      "<class 'pandas.core.frame.DataFrame'>\n",
      "RangeIndex: 499 entries, 0 to 498\n",
      "Data columns (total 19 columns):\n",
      " #   Column            Non-Null Count  Dtype         \n",
      "---  ------            --------------  -----         \n",
      " 0   순위                499 non-null    int64         \n",
      " 1   영화명               499 non-null    object        \n",
      " 2   개봉일               499 non-null    datetime64[ns]\n",
      " 3   매출액               488 non-null    float64       \n",
      " 4   관객수               499 non-null    int64         \n",
      " 5   스크린수              499 non-null    int64         \n",
      " 6   배급사               493 non-null    object        \n",
      " 7   coach             499 non-null    object        \n",
      " 8   actor_main_name   499 non-null    object        \n",
      " 9   actor_sub_name    499 non-null    object        \n",
      " 10  actor_cameo_name  499 non-null    object        \n",
      " 11  maker             499 non-null    object        \n",
      " 12  only_gener        499 non-null    object        \n",
      " 13  genre_one         499 non-null    object        \n",
      " 14  year              499 non-null    int64         \n",
      " 15  년도                499 non-null    int32         \n",
      " 16  월                 499 non-null    int32         \n",
      " 17  일                 499 non-null    int32         \n",
      " 18  년대                499 non-null    object        \n",
      "dtypes: datetime64[ns](1), float64(1), int32(3), int64(4), object(10)\n",
      "memory usage: 68.4+ KB\n"
     ]
    }
   ],
   "source": [
    "df.info()"
   ]
  },
  {
   "cell_type": "markdown",
   "metadata": {},
   "source": [
    "# 동은님 요청 사항 : \n",
    "1. 연도별로 매출 및 관객 그래프(각 장르별로 얼마나 차지하는지도 포함)\n",
    "이유. : 어느 해에 관객이 많았는지, 관객이 적었음에도 충분히 매출이 나올 수 있을지.\n",
    "2. 월별 장르별 총 관객수, 월별 각 장르의 영화 출품 수\n",
    "어느 월에 어떤 장르의 영화가 잘 먹히는지(실제로 그 월에 잘 내고 있는지 확인)\n"
   ]
  },
  {
   "cell_type": "markdown",
   "metadata": {},
   "source": [
    "#### 각 장르에 대한 색상 코드 지정\n",
    "genre_colors = {\n",
    "    '사극': '#E6194B', '코미디': '#3CB44B', '판타지': '#FFE119', '드라마': '#4363D8',\n",
    "    '액션': '#F58231', 'SF': '#911EB4', '범죄': '#46F0F0', '전쟁': '#F032E6',\n",
    "    '미스터리': '#BCF60C', '어드벤처': '#FABEBE', '서부극(웨스턴)': '#008080',\n",
    "    '멜로/로맨스': '#E6BEFF', '스릴러': '#9A6324', '다큐멘터리': '#FFFAC8',\n",
    "    '공포(호러)': '#800000', '애니메이션': '#AAFFC3', '기타': '#808000', '뮤지컬': '#FFD8B1'\n",
    "}\n",
    "\n",
    "#### 예시 출력을 위해 색상 코드를 출력\n",
    "for genre, color in genre_colors.items():\n",
    "    print(f\"{genre}: {color}\")\n"
   ]
  },
  {
   "cell_type": "markdown",
   "metadata": {},
   "source": [
    "# 5/6 그래프 그리기"
   ]
  },
  {
   "cell_type": "markdown",
   "metadata": {},
   "source": [
    "\n",
    "내가 그리고 싶은 그래프 요청 사항이야\n",
    "1) 연도별로 매출 및 관객 그래프(색상에는 각 장르별 정보를 담아줘)\n",
    "원하는 정보 : 어느 해에 관객이 많았는지, 관객이 적었음에도 충분히 매출이 나올 수 있을지.\n",
    "2) 월별 장르별 총 관객수, 월별 각 장르의 영화 출품 수(색상에는 각 장르별 정보를 담아줘)\n",
    "원하는 정보 : 어느 월에 어떤 장르의 영화가 잘 먹히는지(실제로 그 월에 잘 내고 있는지 확인)\n",
    "\n",
    "그래프 그리기 전에 어떤 그래프 그리면 좋을지 너가 후보지를 결정해서 나한테 물어봐줘"
   ]
  },
  {
   "cell_type": "markdown",
   "metadata": {},
   "source": [
    "## 1. 연도별로 매출 및 관객 그래프(각 장르별로 얼마나 차지하는지도 포함)\n",
    "이유. : 어느 해에 관객이 많았는지, 관객이 적었음에도 충분히 매출이 나올 수 있을지."
   ]
  },
  {
   "cell_type": "markdown",
   "metadata": {},
   "source": [
    "### 기본 그래프"
   ]
  },
  {
   "cell_type": "code",
   "execution_count": 10,
   "metadata": {},
   "outputs": [
    {
     "data": {
      "application/vnd.plotly.v1+json": {
       "config": {
        "plotlyServerURL": "https://plot.ly"
       },
       "data": [
        {
         "marker": {
          "color": "blue"
         },
         "type": "bar",
         "x": [
          1993,
          1999,
          2000,
          2001,
          2002,
          2003,
          2004,
          2005,
          2006,
          2007,
          2008,
          2009,
          2010,
          2011,
          2012,
          2013,
          2014,
          2015,
          2016,
          2017,
          2018,
          2019,
          2020,
          2021,
          2022,
          2023,
          2024
         ],
         "y": [
          1035741,
          9360000,
          2513540,
          9923938,
          13223552,
          57373057,
          59192391,
          87401871,
          76151856,
          58101187,
          53645567,
          61432095,
          57684461,
          66814312,
          104357401,
          120444116,
          96338357,
          92493663,
          101241064,
          111117201,
          85106914,
          105479381,
          29117412,
          8874463,
          51950998,
          48223577,
          14092661
         ]
        }
       ],
       "layout": {
        "template": {
         "data": {
          "bar": [
           {
            "error_x": {
             "color": "#2a3f5f"
            },
            "error_y": {
             "color": "#2a3f5f"
            },
            "marker": {
             "line": {
              "color": "#E5ECF6",
              "width": 0.5
             },
             "pattern": {
              "fillmode": "overlay",
              "size": 10,
              "solidity": 0.2
             }
            },
            "type": "bar"
           }
          ],
          "barpolar": [
           {
            "marker": {
             "line": {
              "color": "#E5ECF6",
              "width": 0.5
             },
             "pattern": {
              "fillmode": "overlay",
              "size": 10,
              "solidity": 0.2
             }
            },
            "type": "barpolar"
           }
          ],
          "carpet": [
           {
            "aaxis": {
             "endlinecolor": "#2a3f5f",
             "gridcolor": "white",
             "linecolor": "white",
             "minorgridcolor": "white",
             "startlinecolor": "#2a3f5f"
            },
            "baxis": {
             "endlinecolor": "#2a3f5f",
             "gridcolor": "white",
             "linecolor": "white",
             "minorgridcolor": "white",
             "startlinecolor": "#2a3f5f"
            },
            "type": "carpet"
           }
          ],
          "choropleth": [
           {
            "colorbar": {
             "outlinewidth": 0,
             "ticks": ""
            },
            "type": "choropleth"
           }
          ],
          "contour": [
           {
            "colorbar": {
             "outlinewidth": 0,
             "ticks": ""
            },
            "colorscale": [
             [
              0,
              "#0d0887"
             ],
             [
              0.1111111111111111,
              "#46039f"
             ],
             [
              0.2222222222222222,
              "#7201a8"
             ],
             [
              0.3333333333333333,
              "#9c179e"
             ],
             [
              0.4444444444444444,
              "#bd3786"
             ],
             [
              0.5555555555555556,
              "#d8576b"
             ],
             [
              0.6666666666666666,
              "#ed7953"
             ],
             [
              0.7777777777777778,
              "#fb9f3a"
             ],
             [
              0.8888888888888888,
              "#fdca26"
             ],
             [
              1,
              "#f0f921"
             ]
            ],
            "type": "contour"
           }
          ],
          "contourcarpet": [
           {
            "colorbar": {
             "outlinewidth": 0,
             "ticks": ""
            },
            "type": "contourcarpet"
           }
          ],
          "heatmap": [
           {
            "colorbar": {
             "outlinewidth": 0,
             "ticks": ""
            },
            "colorscale": [
             [
              0,
              "#0d0887"
             ],
             [
              0.1111111111111111,
              "#46039f"
             ],
             [
              0.2222222222222222,
              "#7201a8"
             ],
             [
              0.3333333333333333,
              "#9c179e"
             ],
             [
              0.4444444444444444,
              "#bd3786"
             ],
             [
              0.5555555555555556,
              "#d8576b"
             ],
             [
              0.6666666666666666,
              "#ed7953"
             ],
             [
              0.7777777777777778,
              "#fb9f3a"
             ],
             [
              0.8888888888888888,
              "#fdca26"
             ],
             [
              1,
              "#f0f921"
             ]
            ],
            "type": "heatmap"
           }
          ],
          "heatmapgl": [
           {
            "colorbar": {
             "outlinewidth": 0,
             "ticks": ""
            },
            "colorscale": [
             [
              0,
              "#0d0887"
             ],
             [
              0.1111111111111111,
              "#46039f"
             ],
             [
              0.2222222222222222,
              "#7201a8"
             ],
             [
              0.3333333333333333,
              "#9c179e"
             ],
             [
              0.4444444444444444,
              "#bd3786"
             ],
             [
              0.5555555555555556,
              "#d8576b"
             ],
             [
              0.6666666666666666,
              "#ed7953"
             ],
             [
              0.7777777777777778,
              "#fb9f3a"
             ],
             [
              0.8888888888888888,
              "#fdca26"
             ],
             [
              1,
              "#f0f921"
             ]
            ],
            "type": "heatmapgl"
           }
          ],
          "histogram": [
           {
            "marker": {
             "pattern": {
              "fillmode": "overlay",
              "size": 10,
              "solidity": 0.2
             }
            },
            "type": "histogram"
           }
          ],
          "histogram2d": [
           {
            "colorbar": {
             "outlinewidth": 0,
             "ticks": ""
            },
            "colorscale": [
             [
              0,
              "#0d0887"
             ],
             [
              0.1111111111111111,
              "#46039f"
             ],
             [
              0.2222222222222222,
              "#7201a8"
             ],
             [
              0.3333333333333333,
              "#9c179e"
             ],
             [
              0.4444444444444444,
              "#bd3786"
             ],
             [
              0.5555555555555556,
              "#d8576b"
             ],
             [
              0.6666666666666666,
              "#ed7953"
             ],
             [
              0.7777777777777778,
              "#fb9f3a"
             ],
             [
              0.8888888888888888,
              "#fdca26"
             ],
             [
              1,
              "#f0f921"
             ]
            ],
            "type": "histogram2d"
           }
          ],
          "histogram2dcontour": [
           {
            "colorbar": {
             "outlinewidth": 0,
             "ticks": ""
            },
            "colorscale": [
             [
              0,
              "#0d0887"
             ],
             [
              0.1111111111111111,
              "#46039f"
             ],
             [
              0.2222222222222222,
              "#7201a8"
             ],
             [
              0.3333333333333333,
              "#9c179e"
             ],
             [
              0.4444444444444444,
              "#bd3786"
             ],
             [
              0.5555555555555556,
              "#d8576b"
             ],
             [
              0.6666666666666666,
              "#ed7953"
             ],
             [
              0.7777777777777778,
              "#fb9f3a"
             ],
             [
              0.8888888888888888,
              "#fdca26"
             ],
             [
              1,
              "#f0f921"
             ]
            ],
            "type": "histogram2dcontour"
           }
          ],
          "mesh3d": [
           {
            "colorbar": {
             "outlinewidth": 0,
             "ticks": ""
            },
            "type": "mesh3d"
           }
          ],
          "parcoords": [
           {
            "line": {
             "colorbar": {
              "outlinewidth": 0,
              "ticks": ""
             }
            },
            "type": "parcoords"
           }
          ],
          "pie": [
           {
            "automargin": true,
            "type": "pie"
           }
          ],
          "scatter": [
           {
            "fillpattern": {
             "fillmode": "overlay",
             "size": 10,
             "solidity": 0.2
            },
            "type": "scatter"
           }
          ],
          "scatter3d": [
           {
            "line": {
             "colorbar": {
              "outlinewidth": 0,
              "ticks": ""
             }
            },
            "marker": {
             "colorbar": {
              "outlinewidth": 0,
              "ticks": ""
             }
            },
            "type": "scatter3d"
           }
          ],
          "scattercarpet": [
           {
            "marker": {
             "colorbar": {
              "outlinewidth": 0,
              "ticks": ""
             }
            },
            "type": "scattercarpet"
           }
          ],
          "scattergeo": [
           {
            "marker": {
             "colorbar": {
              "outlinewidth": 0,
              "ticks": ""
             }
            },
            "type": "scattergeo"
           }
          ],
          "scattergl": [
           {
            "marker": {
             "colorbar": {
              "outlinewidth": 0,
              "ticks": ""
             }
            },
            "type": "scattergl"
           }
          ],
          "scattermapbox": [
           {
            "marker": {
             "colorbar": {
              "outlinewidth": 0,
              "ticks": ""
             }
            },
            "type": "scattermapbox"
           }
          ],
          "scatterpolar": [
           {
            "marker": {
             "colorbar": {
              "outlinewidth": 0,
              "ticks": ""
             }
            },
            "type": "scatterpolar"
           }
          ],
          "scatterpolargl": [
           {
            "marker": {
             "colorbar": {
              "outlinewidth": 0,
              "ticks": ""
             }
            },
            "type": "scatterpolargl"
           }
          ],
          "scatterternary": [
           {
            "marker": {
             "colorbar": {
              "outlinewidth": 0,
              "ticks": ""
             }
            },
            "type": "scatterternary"
           }
          ],
          "surface": [
           {
            "colorbar": {
             "outlinewidth": 0,
             "ticks": ""
            },
            "colorscale": [
             [
              0,
              "#0d0887"
             ],
             [
              0.1111111111111111,
              "#46039f"
             ],
             [
              0.2222222222222222,
              "#7201a8"
             ],
             [
              0.3333333333333333,
              "#9c179e"
             ],
             [
              0.4444444444444444,
              "#bd3786"
             ],
             [
              0.5555555555555556,
              "#d8576b"
             ],
             [
              0.6666666666666666,
              "#ed7953"
             ],
             [
              0.7777777777777778,
              "#fb9f3a"
             ],
             [
              0.8888888888888888,
              "#fdca26"
             ],
             [
              1,
              "#f0f921"
             ]
            ],
            "type": "surface"
           }
          ],
          "table": [
           {
            "cells": {
             "fill": {
              "color": "#EBF0F8"
             },
             "line": {
              "color": "white"
             }
            },
            "header": {
             "fill": {
              "color": "#C8D4E3"
             },
             "line": {
              "color": "white"
             }
            },
            "type": "table"
           }
          ]
         },
         "layout": {
          "annotationdefaults": {
           "arrowcolor": "#2a3f5f",
           "arrowhead": 0,
           "arrowwidth": 1
          },
          "autotypenumbers": "strict",
          "coloraxis": {
           "colorbar": {
            "outlinewidth": 0,
            "ticks": ""
           }
          },
          "colorscale": {
           "diverging": [
            [
             0,
             "#8e0152"
            ],
            [
             0.1,
             "#c51b7d"
            ],
            [
             0.2,
             "#de77ae"
            ],
            [
             0.3,
             "#f1b6da"
            ],
            [
             0.4,
             "#fde0ef"
            ],
            [
             0.5,
             "#f7f7f7"
            ],
            [
             0.6,
             "#e6f5d0"
            ],
            [
             0.7,
             "#b8e186"
            ],
            [
             0.8,
             "#7fbc41"
            ],
            [
             0.9,
             "#4d9221"
            ],
            [
             1,
             "#276419"
            ]
           ],
           "sequential": [
            [
             0,
             "#0d0887"
            ],
            [
             0.1111111111111111,
             "#46039f"
            ],
            [
             0.2222222222222222,
             "#7201a8"
            ],
            [
             0.3333333333333333,
             "#9c179e"
            ],
            [
             0.4444444444444444,
             "#bd3786"
            ],
            [
             0.5555555555555556,
             "#d8576b"
            ],
            [
             0.6666666666666666,
             "#ed7953"
            ],
            [
             0.7777777777777778,
             "#fb9f3a"
            ],
            [
             0.8888888888888888,
             "#fdca26"
            ],
            [
             1,
             "#f0f921"
            ]
           ],
           "sequentialminus": [
            [
             0,
             "#0d0887"
            ],
            [
             0.1111111111111111,
             "#46039f"
            ],
            [
             0.2222222222222222,
             "#7201a8"
            ],
            [
             0.3333333333333333,
             "#9c179e"
            ],
            [
             0.4444444444444444,
             "#bd3786"
            ],
            [
             0.5555555555555556,
             "#d8576b"
            ],
            [
             0.6666666666666666,
             "#ed7953"
            ],
            [
             0.7777777777777778,
             "#fb9f3a"
            ],
            [
             0.8888888888888888,
             "#fdca26"
            ],
            [
             1,
             "#f0f921"
            ]
           ]
          },
          "colorway": [
           "#636efa",
           "#EF553B",
           "#00cc96",
           "#ab63fa",
           "#FFA15A",
           "#19d3f3",
           "#FF6692",
           "#B6E880",
           "#FF97FF",
           "#FECB52"
          ],
          "font": {
           "color": "#2a3f5f"
          },
          "geo": {
           "bgcolor": "white",
           "lakecolor": "white",
           "landcolor": "#E5ECF6",
           "showlakes": true,
           "showland": true,
           "subunitcolor": "white"
          },
          "hoverlabel": {
           "align": "left"
          },
          "hovermode": "closest",
          "mapbox": {
           "style": "light"
          },
          "paper_bgcolor": "white",
          "plot_bgcolor": "#E5ECF6",
          "polar": {
           "angularaxis": {
            "gridcolor": "white",
            "linecolor": "white",
            "ticks": ""
           },
           "bgcolor": "#E5ECF6",
           "radialaxis": {
            "gridcolor": "white",
            "linecolor": "white",
            "ticks": ""
           }
          },
          "scene": {
           "xaxis": {
            "backgroundcolor": "#E5ECF6",
            "gridcolor": "white",
            "gridwidth": 2,
            "linecolor": "white",
            "showbackground": true,
            "ticks": "",
            "zerolinecolor": "white"
           },
           "yaxis": {
            "backgroundcolor": "#E5ECF6",
            "gridcolor": "white",
            "gridwidth": 2,
            "linecolor": "white",
            "showbackground": true,
            "ticks": "",
            "zerolinecolor": "white"
           },
           "zaxis": {
            "backgroundcolor": "#E5ECF6",
            "gridcolor": "white",
            "gridwidth": 2,
            "linecolor": "white",
            "showbackground": true,
            "ticks": "",
            "zerolinecolor": "white"
           }
          },
          "shapedefaults": {
           "line": {
            "color": "#2a3f5f"
           }
          },
          "ternary": {
           "aaxis": {
            "gridcolor": "white",
            "linecolor": "white",
            "ticks": ""
           },
           "baxis": {
            "gridcolor": "white",
            "linecolor": "white",
            "ticks": ""
           },
           "bgcolor": "#E5ECF6",
           "caxis": {
            "gridcolor": "white",
            "linecolor": "white",
            "ticks": ""
           }
          },
          "title": {
           "x": 0.05
          },
          "xaxis": {
           "automargin": true,
           "gridcolor": "white",
           "linecolor": "white",
           "ticks": "",
           "title": {
            "standoff": 15
           },
           "zerolinecolor": "white",
           "zerolinewidth": 2
          },
          "yaxis": {
           "automargin": true,
           "gridcolor": "white",
           "linecolor": "white",
           "ticks": "",
           "title": {
            "standoff": 15
           },
           "zerolinecolor": "white",
           "zerolinewidth": 2
          }
         }
        },
        "title": {
         "text": "연도별 총 관객 수"
        },
        "xaxis": {
         "tickangle": -45,
         "title": {
          "text": "년도"
         }
        },
        "yaxis": {
         "title": {
          "text": "관객 수"
         }
        }
       }
      }
     },
     "metadata": {},
     "output_type": "display_data"
    }
   ],
   "source": [
    "import plotly.graph_objects as go\n",
    "import pandas as pd\n",
    "\n",
    "# 데이터 준비\n",
    "df['년도'] = pd.to_datetime(df['개봉일']).dt.year  # '개봉일'이 datetime 타입인지 확인\n",
    "\n",
    "# 연도별 관객 수 계산\n",
    "yearly_audience = df.groupby('년도')['관객수'].sum().reset_index()\n",
    "\n",
    "# 그래프 생성\n",
    "fig = go.Figure()\n",
    "\n",
    "# 막대 그래프 추가\n",
    "fig.add_trace(go.Bar(\n",
    "    x=yearly_audience['년도'],\n",
    "    y=yearly_audience['관객수'],\n",
    "    marker_color='blue'  # 막대 색상 설정\n",
    "))\n",
    "\n",
    "# 레이아웃 설정\n",
    "fig.update_layout(\n",
    "    title='연도별 총 관객 수',\n",
    "    xaxis=dict(title='년도'),\n",
    "    yaxis=dict(title='관객 수'),\n",
    "    xaxis_tickangle=-45  # X축 레이블 각도 조정\n",
    ")\n",
    "\n",
    "# 그래프 표시\n",
    "fig.show()"
   ]
  },
  {
   "cell_type": "code",
   "execution_count": 11,
   "metadata": {},
   "outputs": [
    {
     "data": {
      "application/vnd.plotly.v1+json": {
       "config": {
        "plotlyServerURL": "https://plot.ly"
       },
       "data": [
        {
         "marker": {
          "color": "red"
         },
         "type": "bar",
         "x": [
          1993,
          1999,
          2000,
          2001,
          2002,
          2003,
          2004,
          2005,
          2006,
          2007,
          2008,
          2009,
          2010,
          2011,
          2012,
          2013,
          2014,
          2015,
          2016,
          2017,
          2018,
          2019,
          2020,
          2021,
          2022,
          2023,
          2024
         ],
         "y": [
          0,
          0,
          0,
          0,
          0,
          0,
          0,
          0,
          0,
          549434500,
          353066326097,
          430417099070,
          430165535524,
          496872120000,
          763865224789,
          863761517870,
          740644866461,
          723078015267,
          809721603860,
          885414724735,
          712937354411,
          891327891696,
          251898755830,
          85564742010,
          526983282411,
          470415639042,
          135691316642
         ]
        }
       ],
       "layout": {
        "template": {
         "data": {
          "bar": [
           {
            "error_x": {
             "color": "#2a3f5f"
            },
            "error_y": {
             "color": "#2a3f5f"
            },
            "marker": {
             "line": {
              "color": "#E5ECF6",
              "width": 0.5
             },
             "pattern": {
              "fillmode": "overlay",
              "size": 10,
              "solidity": 0.2
             }
            },
            "type": "bar"
           }
          ],
          "barpolar": [
           {
            "marker": {
             "line": {
              "color": "#E5ECF6",
              "width": 0.5
             },
             "pattern": {
              "fillmode": "overlay",
              "size": 10,
              "solidity": 0.2
             }
            },
            "type": "barpolar"
           }
          ],
          "carpet": [
           {
            "aaxis": {
             "endlinecolor": "#2a3f5f",
             "gridcolor": "white",
             "linecolor": "white",
             "minorgridcolor": "white",
             "startlinecolor": "#2a3f5f"
            },
            "baxis": {
             "endlinecolor": "#2a3f5f",
             "gridcolor": "white",
             "linecolor": "white",
             "minorgridcolor": "white",
             "startlinecolor": "#2a3f5f"
            },
            "type": "carpet"
           }
          ],
          "choropleth": [
           {
            "colorbar": {
             "outlinewidth": 0,
             "ticks": ""
            },
            "type": "choropleth"
           }
          ],
          "contour": [
           {
            "colorbar": {
             "outlinewidth": 0,
             "ticks": ""
            },
            "colorscale": [
             [
              0,
              "#0d0887"
             ],
             [
              0.1111111111111111,
              "#46039f"
             ],
             [
              0.2222222222222222,
              "#7201a8"
             ],
             [
              0.3333333333333333,
              "#9c179e"
             ],
             [
              0.4444444444444444,
              "#bd3786"
             ],
             [
              0.5555555555555556,
              "#d8576b"
             ],
             [
              0.6666666666666666,
              "#ed7953"
             ],
             [
              0.7777777777777778,
              "#fb9f3a"
             ],
             [
              0.8888888888888888,
              "#fdca26"
             ],
             [
              1,
              "#f0f921"
             ]
            ],
            "type": "contour"
           }
          ],
          "contourcarpet": [
           {
            "colorbar": {
             "outlinewidth": 0,
             "ticks": ""
            },
            "type": "contourcarpet"
           }
          ],
          "heatmap": [
           {
            "colorbar": {
             "outlinewidth": 0,
             "ticks": ""
            },
            "colorscale": [
             [
              0,
              "#0d0887"
             ],
             [
              0.1111111111111111,
              "#46039f"
             ],
             [
              0.2222222222222222,
              "#7201a8"
             ],
             [
              0.3333333333333333,
              "#9c179e"
             ],
             [
              0.4444444444444444,
              "#bd3786"
             ],
             [
              0.5555555555555556,
              "#d8576b"
             ],
             [
              0.6666666666666666,
              "#ed7953"
             ],
             [
              0.7777777777777778,
              "#fb9f3a"
             ],
             [
              0.8888888888888888,
              "#fdca26"
             ],
             [
              1,
              "#f0f921"
             ]
            ],
            "type": "heatmap"
           }
          ],
          "heatmapgl": [
           {
            "colorbar": {
             "outlinewidth": 0,
             "ticks": ""
            },
            "colorscale": [
             [
              0,
              "#0d0887"
             ],
             [
              0.1111111111111111,
              "#46039f"
             ],
             [
              0.2222222222222222,
              "#7201a8"
             ],
             [
              0.3333333333333333,
              "#9c179e"
             ],
             [
              0.4444444444444444,
              "#bd3786"
             ],
             [
              0.5555555555555556,
              "#d8576b"
             ],
             [
              0.6666666666666666,
              "#ed7953"
             ],
             [
              0.7777777777777778,
              "#fb9f3a"
             ],
             [
              0.8888888888888888,
              "#fdca26"
             ],
             [
              1,
              "#f0f921"
             ]
            ],
            "type": "heatmapgl"
           }
          ],
          "histogram": [
           {
            "marker": {
             "pattern": {
              "fillmode": "overlay",
              "size": 10,
              "solidity": 0.2
             }
            },
            "type": "histogram"
           }
          ],
          "histogram2d": [
           {
            "colorbar": {
             "outlinewidth": 0,
             "ticks": ""
            },
            "colorscale": [
             [
              0,
              "#0d0887"
             ],
             [
              0.1111111111111111,
              "#46039f"
             ],
             [
              0.2222222222222222,
              "#7201a8"
             ],
             [
              0.3333333333333333,
              "#9c179e"
             ],
             [
              0.4444444444444444,
              "#bd3786"
             ],
             [
              0.5555555555555556,
              "#d8576b"
             ],
             [
              0.6666666666666666,
              "#ed7953"
             ],
             [
              0.7777777777777778,
              "#fb9f3a"
             ],
             [
              0.8888888888888888,
              "#fdca26"
             ],
             [
              1,
              "#f0f921"
             ]
            ],
            "type": "histogram2d"
           }
          ],
          "histogram2dcontour": [
           {
            "colorbar": {
             "outlinewidth": 0,
             "ticks": ""
            },
            "colorscale": [
             [
              0,
              "#0d0887"
             ],
             [
              0.1111111111111111,
              "#46039f"
             ],
             [
              0.2222222222222222,
              "#7201a8"
             ],
             [
              0.3333333333333333,
              "#9c179e"
             ],
             [
              0.4444444444444444,
              "#bd3786"
             ],
             [
              0.5555555555555556,
              "#d8576b"
             ],
             [
              0.6666666666666666,
              "#ed7953"
             ],
             [
              0.7777777777777778,
              "#fb9f3a"
             ],
             [
              0.8888888888888888,
              "#fdca26"
             ],
             [
              1,
              "#f0f921"
             ]
            ],
            "type": "histogram2dcontour"
           }
          ],
          "mesh3d": [
           {
            "colorbar": {
             "outlinewidth": 0,
             "ticks": ""
            },
            "type": "mesh3d"
           }
          ],
          "parcoords": [
           {
            "line": {
             "colorbar": {
              "outlinewidth": 0,
              "ticks": ""
             }
            },
            "type": "parcoords"
           }
          ],
          "pie": [
           {
            "automargin": true,
            "type": "pie"
           }
          ],
          "scatter": [
           {
            "fillpattern": {
             "fillmode": "overlay",
             "size": 10,
             "solidity": 0.2
            },
            "type": "scatter"
           }
          ],
          "scatter3d": [
           {
            "line": {
             "colorbar": {
              "outlinewidth": 0,
              "ticks": ""
             }
            },
            "marker": {
             "colorbar": {
              "outlinewidth": 0,
              "ticks": ""
             }
            },
            "type": "scatter3d"
           }
          ],
          "scattercarpet": [
           {
            "marker": {
             "colorbar": {
              "outlinewidth": 0,
              "ticks": ""
             }
            },
            "type": "scattercarpet"
           }
          ],
          "scattergeo": [
           {
            "marker": {
             "colorbar": {
              "outlinewidth": 0,
              "ticks": ""
             }
            },
            "type": "scattergeo"
           }
          ],
          "scattergl": [
           {
            "marker": {
             "colorbar": {
              "outlinewidth": 0,
              "ticks": ""
             }
            },
            "type": "scattergl"
           }
          ],
          "scattermapbox": [
           {
            "marker": {
             "colorbar": {
              "outlinewidth": 0,
              "ticks": ""
             }
            },
            "type": "scattermapbox"
           }
          ],
          "scatterpolar": [
           {
            "marker": {
             "colorbar": {
              "outlinewidth": 0,
              "ticks": ""
             }
            },
            "type": "scatterpolar"
           }
          ],
          "scatterpolargl": [
           {
            "marker": {
             "colorbar": {
              "outlinewidth": 0,
              "ticks": ""
             }
            },
            "type": "scatterpolargl"
           }
          ],
          "scatterternary": [
           {
            "marker": {
             "colorbar": {
              "outlinewidth": 0,
              "ticks": ""
             }
            },
            "type": "scatterternary"
           }
          ],
          "surface": [
           {
            "colorbar": {
             "outlinewidth": 0,
             "ticks": ""
            },
            "colorscale": [
             [
              0,
              "#0d0887"
             ],
             [
              0.1111111111111111,
              "#46039f"
             ],
             [
              0.2222222222222222,
              "#7201a8"
             ],
             [
              0.3333333333333333,
              "#9c179e"
             ],
             [
              0.4444444444444444,
              "#bd3786"
             ],
             [
              0.5555555555555556,
              "#d8576b"
             ],
             [
              0.6666666666666666,
              "#ed7953"
             ],
             [
              0.7777777777777778,
              "#fb9f3a"
             ],
             [
              0.8888888888888888,
              "#fdca26"
             ],
             [
              1,
              "#f0f921"
             ]
            ],
            "type": "surface"
           }
          ],
          "table": [
           {
            "cells": {
             "fill": {
              "color": "#EBF0F8"
             },
             "line": {
              "color": "white"
             }
            },
            "header": {
             "fill": {
              "color": "#C8D4E3"
             },
             "line": {
              "color": "white"
             }
            },
            "type": "table"
           }
          ]
         },
         "layout": {
          "annotationdefaults": {
           "arrowcolor": "#2a3f5f",
           "arrowhead": 0,
           "arrowwidth": 1
          },
          "autotypenumbers": "strict",
          "coloraxis": {
           "colorbar": {
            "outlinewidth": 0,
            "ticks": ""
           }
          },
          "colorscale": {
           "diverging": [
            [
             0,
             "#8e0152"
            ],
            [
             0.1,
             "#c51b7d"
            ],
            [
             0.2,
             "#de77ae"
            ],
            [
             0.3,
             "#f1b6da"
            ],
            [
             0.4,
             "#fde0ef"
            ],
            [
             0.5,
             "#f7f7f7"
            ],
            [
             0.6,
             "#e6f5d0"
            ],
            [
             0.7,
             "#b8e186"
            ],
            [
             0.8,
             "#7fbc41"
            ],
            [
             0.9,
             "#4d9221"
            ],
            [
             1,
             "#276419"
            ]
           ],
           "sequential": [
            [
             0,
             "#0d0887"
            ],
            [
             0.1111111111111111,
             "#46039f"
            ],
            [
             0.2222222222222222,
             "#7201a8"
            ],
            [
             0.3333333333333333,
             "#9c179e"
            ],
            [
             0.4444444444444444,
             "#bd3786"
            ],
            [
             0.5555555555555556,
             "#d8576b"
            ],
            [
             0.6666666666666666,
             "#ed7953"
            ],
            [
             0.7777777777777778,
             "#fb9f3a"
            ],
            [
             0.8888888888888888,
             "#fdca26"
            ],
            [
             1,
             "#f0f921"
            ]
           ],
           "sequentialminus": [
            [
             0,
             "#0d0887"
            ],
            [
             0.1111111111111111,
             "#46039f"
            ],
            [
             0.2222222222222222,
             "#7201a8"
            ],
            [
             0.3333333333333333,
             "#9c179e"
            ],
            [
             0.4444444444444444,
             "#bd3786"
            ],
            [
             0.5555555555555556,
             "#d8576b"
            ],
            [
             0.6666666666666666,
             "#ed7953"
            ],
            [
             0.7777777777777778,
             "#fb9f3a"
            ],
            [
             0.8888888888888888,
             "#fdca26"
            ],
            [
             1,
             "#f0f921"
            ]
           ]
          },
          "colorway": [
           "#636efa",
           "#EF553B",
           "#00cc96",
           "#ab63fa",
           "#FFA15A",
           "#19d3f3",
           "#FF6692",
           "#B6E880",
           "#FF97FF",
           "#FECB52"
          ],
          "font": {
           "color": "#2a3f5f"
          },
          "geo": {
           "bgcolor": "white",
           "lakecolor": "white",
           "landcolor": "#E5ECF6",
           "showlakes": true,
           "showland": true,
           "subunitcolor": "white"
          },
          "hoverlabel": {
           "align": "left"
          },
          "hovermode": "closest",
          "mapbox": {
           "style": "light"
          },
          "paper_bgcolor": "white",
          "plot_bgcolor": "#E5ECF6",
          "polar": {
           "angularaxis": {
            "gridcolor": "white",
            "linecolor": "white",
            "ticks": ""
           },
           "bgcolor": "#E5ECF6",
           "radialaxis": {
            "gridcolor": "white",
            "linecolor": "white",
            "ticks": ""
           }
          },
          "scene": {
           "xaxis": {
            "backgroundcolor": "#E5ECF6",
            "gridcolor": "white",
            "gridwidth": 2,
            "linecolor": "white",
            "showbackground": true,
            "ticks": "",
            "zerolinecolor": "white"
           },
           "yaxis": {
            "backgroundcolor": "#E5ECF6",
            "gridcolor": "white",
            "gridwidth": 2,
            "linecolor": "white",
            "showbackground": true,
            "ticks": "",
            "zerolinecolor": "white"
           },
           "zaxis": {
            "backgroundcolor": "#E5ECF6",
            "gridcolor": "white",
            "gridwidth": 2,
            "linecolor": "white",
            "showbackground": true,
            "ticks": "",
            "zerolinecolor": "white"
           }
          },
          "shapedefaults": {
           "line": {
            "color": "#2a3f5f"
           }
          },
          "ternary": {
           "aaxis": {
            "gridcolor": "white",
            "linecolor": "white",
            "ticks": ""
           },
           "baxis": {
            "gridcolor": "white",
            "linecolor": "white",
            "ticks": ""
           },
           "bgcolor": "#E5ECF6",
           "caxis": {
            "gridcolor": "white",
            "linecolor": "white",
            "ticks": ""
           }
          },
          "title": {
           "x": 0.05
          },
          "xaxis": {
           "automargin": true,
           "gridcolor": "white",
           "linecolor": "white",
           "ticks": "",
           "title": {
            "standoff": 15
           },
           "zerolinecolor": "white",
           "zerolinewidth": 2
          },
          "yaxis": {
           "automargin": true,
           "gridcolor": "white",
           "linecolor": "white",
           "ticks": "",
           "title": {
            "standoff": 15
           },
           "zerolinecolor": "white",
           "zerolinewidth": 2
          }
         }
        },
        "title": {
         "text": "연도별 매출액"
        },
        "xaxis": {
         "tickangle": -45,
         "title": {
          "text": "년도"
         }
        },
        "yaxis": {
         "title": {
          "text": "매출액 (원)"
         }
        }
       }
      }
     },
     "metadata": {},
     "output_type": "display_data"
    }
   ],
   "source": [
    "import plotly.graph_objects as go\n",
    "import pandas as pd\n",
    "\n",
    "# 데이터 준비\n",
    "df['년도'] = pd.to_datetime(df['개봉일']).dt.year  # '개봉일'이 datetime 타입인지 확인\n",
    "\n",
    "# 연도별 매출액 계산\n",
    "yearly_revenue = df.groupby('년도')['매출액'].sum().reset_index()\n",
    "\n",
    "# 그래프 생성\n",
    "fig = go.Figure()\n",
    "\n",
    "# 막대 그래프 추가\n",
    "fig.add_trace(go.Bar(\n",
    "    x=yearly_revenue['년도'],\n",
    "    y=yearly_revenue['매출액'],\n",
    "    marker_color='red'  # 막대 색상 변경\n",
    "))\n",
    "\n",
    "# 레이아웃 설정\n",
    "fig.update_layout(\n",
    "    title='연도별 매출액',\n",
    "    xaxis=dict(title='년도'),\n",
    "    yaxis=dict(title='매출액 (원)'),\n",
    "    xaxis_tickangle=-45  # X축 레이블 각도 조정\n",
    ")\n",
    "\n",
    "# 그래프 표시\n",
    "fig.show()\n"
   ]
  },
  {
   "cell_type": "markdown",
   "metadata": {},
   "source": [
    "### 더 복합적 정보가 들어간 그래프"
   ]
  },
  {
   "cell_type": "code",
   "execution_count": 12,
   "metadata": {},
   "outputs": [
    {
     "data": {
      "text/plain": [
       "['#AA0DFE',\n",
       " '#3283FE',\n",
       " '#85660D',\n",
       " '#782AB6',\n",
       " '#565656',\n",
       " '#1C8356',\n",
       " '#16FF32',\n",
       " '#F7E1A0',\n",
       " '#E2E2E2',\n",
       " '#1CBE4F',\n",
       " '#C4451C',\n",
       " '#DEA0FD',\n",
       " '#FE00FA',\n",
       " '#325A9B',\n",
       " '#FEAF16',\n",
       " '#F8A19F',\n",
       " '#90AD1C',\n",
       " '#F6222E',\n",
       " '#1CFFCE',\n",
       " '#2ED9FF',\n",
       " '#B10DA1',\n",
       " '#C075A6',\n",
       " '#FC1CBF',\n",
       " '#B00068',\n",
       " '#FBE426',\n",
       " '#FA0087']"
      ]
     },
     "execution_count": 12,
     "metadata": {},
     "output_type": "execute_result"
    }
   ],
   "source": [
    "colors = plotly.colors.qualitative.Alphabet\n",
    "colors"
   ]
  },
  {
   "cell_type": "code",
   "execution_count": 13,
   "metadata": {},
   "outputs": [
    {
     "data": {
      "text/plain": [
       "{'사극': '#AA0DFE',\n",
       " '코미디': '#3283FE',\n",
       " '판타지': '#85660D',\n",
       " '드라마': '#FA0087',\n",
       " '액션': '#565656',\n",
       " 'SF': '#1C8356',\n",
       " '범죄': '#16FF32',\n",
       " '전쟁': '#F7E1A0',\n",
       " '미스터리': '#FBE426',\n",
       " '어드벤처': '#1CBE4F',\n",
       " '서부극(웨스턴)': '#C4451C',\n",
       " '멜로/로맨스': '#DEA0FD',\n",
       " '스릴러': '#FE00FA',\n",
       " '다큐멘터리': '#325A9B',\n",
       " '공포(호러)': '#FEAF16',\n",
       " '애니메이션': '#F8A19F',\n",
       " '기타': '#90AD1C',\n",
       " '뮤지컬': '#F6222E'}"
      ]
     },
     "execution_count": 13,
     "metadata": {},
     "output_type": "execute_result"
    }
   ],
   "source": [
    "# 장르 목록\n",
    "# df['genre_one'].unique()\n",
    "genres = ['사극', '코미디', '판타지', '드라마', '액션', 'SF', '범죄', '전쟁', '미스터리', '어드벤처',\n",
    "          '서부극(웨스턴)', '멜로/로맨스', '스릴러', '다큐멘터리', '공포(호러)', '애니메이션', '기타',\n",
    "          '뮤지컬']\n",
    "\n",
    "# Plotly의 Alphabet 컬러 팔레트\n",
    "colors = plotly.colors.qualitative.Alphabet\n",
    "\n",
    "# 각 장르에 색상 코드 할당\n",
    "genre_colors = {genre: color for genre, color in zip(genres, colors)}\n",
    "\n",
    "# '드라마' 장르 색상 변경 - Alphabet 팔레트의 다른 색상 사용\n",
    "# 예를 들어 Alphabet 팔레트의 다음 색상을 사용\n",
    "additional_color = '#FA0087'\n",
    "\n",
    "# '드라마' 장르의 색상 변경\n",
    "genre_colors['드라마'] = additional_color\n",
    "genre_colors['미스터리'] = '#FBE426'\n",
    "genre_colors\n"
   ]
  },
  {
   "cell_type": "markdown",
   "metadata": {},
   "source": [
    "- 아래 코드는 모든 연도를 통틀어 장르별 총 관객 수를 계산하여 장르를 정렬하고, 각 장르를 하나의 trace로 추가했다. 이렇게 하면 범례에 각 장르가 한 번씩만 나타나며, 모든 연도에 대해 같은 순서로 막대를 stack할 수 있다.\n",
    "- 각 막대마다 장르순으로 stack하는 건 너무 많은 문제가 생겨서 포기"
   ]
  },
  {
   "cell_type": "code",
   "execution_count": 14,
   "metadata": {},
   "outputs": [
    {
     "data": {
      "application/vnd.plotly.v1+json": {
       "config": {
        "plotlyServerURL": "https://plot.ly"
       },
       "data": [
        {
         "hoverinfo": "text",
         "hovertext": [
          "1993년 <br>관객수 = 1,035,741<br>장르 = 드라마 (1개)",
          "1999년 <br>관객수 = 0<br>장르 = 드라마 (0개)",
          "2000년 <br>관객수 = 2,513,540<br>장르 = 드라마 (1개)",
          "2001년 <br>관객수 = 2,678,846<br>장르 = 드라마 (1개)",
          "2002년 <br>관객수 = 4,678,843<br>장르 = 드라마 (2개)",
          "2003년 <br>관객수 = 4,687,365<br>장르 = 드라마 (3개)",
          "2004년 <br>관객수 = 14,081,630<br>장르 = 드라마 (8개)",
          "2005년 <br>관객수 = 35,803,805<br>장르 = 드라마 (10개)",
          "2006년 <br>관객수 = 23,779,776<br>장르 = 드라마 (9개)",
          "2007년 <br>관객수 = 26,074,390<br>장르 = 드라마 (11개)",
          "2008년 <br>관객수 = 15,004,691<br>장르 = 드라마 (5개)",
          "2009년 <br>관객수 = 21,128,029<br>장르 = 드라마 (7개)",
          "2010년 <br>관객수 = 17,971,217<br>장르 = 드라마 (6개)",
          "2011년 <br>관객수 = 25,321,246<br>장르 = 드라마 (7개)",
          "2012년 <br>관객수 = 12,990,388<br>장르 = 드라마 (5개)",
          "2013년 <br>관객수 = 24,870,928<br>장르 = 드라마 (8개)",
          "2014년 <br>관객수 = 34,572,677<br>장르 = 드라마 (8개)",
          "2015년 <br>관객수 = 16,664,043<br>장르 = 드라마 (3개)",
          "2016년 <br>관객수 = 18,960,519<br>장르 = 드라마 (6개)",
          "2017년 <br>관객수 = 25,561,141<br>장르 = 드라마 (5개)",
          "2018년 <br>관객수 = 18,129,195<br>장르 = 드라마 (6개)",
          "2019년 <br>관객수 = 26,541,795<br>장르 = 드라마 (8개)",
          "2020년 <br>관객수 = 11,735,970<br>장르 = 드라마 (5개)",
          "2021년 <br>관객수 = 0<br>장르 = 드라마 (0개)",
          "2022년 <br>관객수 = 6,593,664<br>장르 = 드라마 (3개)",
          "2023년 <br>관객수 = 19,756,624<br>장르 = 드라마 (4개)",
          "2024년 <br>관객수 = 1,705,223<br>장르 = 드라마 (1개)"
         ],
         "marker": {
          "color": "#FA0087"
         },
         "name": "드라마",
         "type": "bar",
         "x": [
          1993,
          1999,
          2000,
          2001,
          2002,
          2003,
          2004,
          2005,
          2006,
          2007,
          2008,
          2009,
          2010,
          2011,
          2012,
          2013,
          2014,
          2015,
          2016,
          2017,
          2018,
          2019,
          2020,
          2021,
          2022,
          2023,
          2024
         ],
         "y": [
          1035741,
          0,
          2513540,
          2678846,
          4678843,
          4687365,
          14081630,
          35803805,
          23779776,
          26074390,
          15004691,
          21128029,
          17971217,
          25321246,
          12990388,
          24870928,
          34572677,
          16664043,
          18960519,
          25561141,
          18129195,
          26541795,
          11735970,
          0,
          6593664,
          19756624,
          1705223
         ]
        },
        {
         "hoverinfo": "text",
         "hovertext": [
          "1993년 <br>관객수 = 0<br>장르 = 코미디 (0개)",
          "1999년 <br>관객수 = 2,310,000<br>장르 = 코미디 (1개)",
          "2000년 <br>관객수 = 0<br>장르 = 코미디 (0개)",
          "2001년 <br>관객수 = 7,245,092<br>장르 = 코미디 (5개)",
          "2002년 <br>관객수 = 7,383,209<br>장르 = 코미디 (3개)",
          "2003년 <br>관객수 = 21,196,865<br>장르 = 코미디 (8개)",
          "2004년 <br>관객수 = 14,723,300<br>장르 = 코미디 (8개)",
          "2005년 <br>관객수 = 22,434,845<br>장르 = 코미디 (10개)",
          "2006년 <br>관객수 = 16,633,518<br>장르 = 코미디 (6개)",
          "2007년 <br>관객수 = 12,949,070<br>장르 = 코미디 (8개)",
          "2008년 <br>관객수 = 8,245,523<br>장르 = 코미디 (1개)",
          "2009년 <br>관객수 = 8,207,004<br>장르 = 코미디 (3개)",
          "2010년 <br>관객수 = 8,527,732<br>장르 = 코미디 (4개)",
          "2011년 <br>관객수 = 13,934,570<br>장르 = 코미디 (5개)",
          "2012년 <br>관객수 = 17,319,026<br>장르 = 코미디 (6개)",
          "2013년 <br>관객수 = 18,038,065<br>장르 = 코미디 (3개)",
          "2014년 <br>관객수 = 1,676,040<br>장르 = 코미디 (1개)",
          "2015년 <br>관객수 = 5,669,820<br>장르 = 코미디 (2개)",
          "2016년 <br>관객수 = 12,065,585<br>장르 = 코미디 (3개)",
          "2017년 <br>관객수 = 6,407,549<br>장르 = 코미디 (3개)",
          "2018년 <br>관객수 = 9,105,261<br>장르 = 코미디 (4개)",
          "2019년 <br>관객수 = 29,741,940<br>장르 = 코미디 (5개)",
          "2020년 <br>관객수 = 6,395,273<br>장르 = 코미디 (4개)",
          "2021년 <br>관객수 = 2,195,683<br>장르 = 코미디 (1개)",
          "2022년 <br>관객수 = 1,980,769<br>장르 = 코미디 (1개)",
          "2023년 <br>관객수 = 4,681,747<br>장르 = 코미디 (3개)",
          "2024년 <br>관객수 = 0<br>장르 = 코미디 (0개)"
         ],
         "marker": {
          "color": "#3283FE"
         },
         "name": "코미디",
         "type": "bar",
         "x": [
          1993,
          1999,
          2000,
          2001,
          2002,
          2003,
          2004,
          2005,
          2006,
          2007,
          2008,
          2009,
          2010,
          2011,
          2012,
          2013,
          2014,
          2015,
          2016,
          2017,
          2018,
          2019,
          2020,
          2021,
          2022,
          2023,
          2024
         ],
         "y": [
          0,
          2310000,
          0,
          7245092,
          7383209,
          21196865,
          14723300,
          22434845,
          16633518,
          12949070,
          8245523,
          8207004,
          8527732,
          13934570,
          17319026,
          18038065,
          1676040,
          5669820,
          12065585,
          6407549,
          9105261,
          29741940,
          6395273,
          2195683,
          1980769,
          4681747,
          0
         ]
        },
        {
         "hoverinfo": "text",
         "hovertext": [
          "1993년 <br>관객수 = 0<br>장르 = 액션 (0개)",
          "1999년 <br>관객수 = 5,820,000<br>장르 = 액션 (1개)",
          "2000년 <br>관객수 = 0<br>장르 = 액션 (0개)",
          "2001년 <br>관객수 = 0<br>장르 = 액션 (0개)",
          "2002년 <br>관객수 = 0<br>장르 = 액션 (0개)",
          "2003년 <br>관객수 = 1,858,077<br>장르 = 액션 (1개)",
          "2004년 <br>관객수 = 7,512,213<br>장르 = 액션 (3개)",
          "2005년 <br>관객수 = 3,766,552<br>장르 = 액션 (3개)",
          "2006년 <br>관객수 = 10,114,158<br>장르 = 액션 (6개)",
          "2007년 <br>관객수 = 8,426,973<br>장르 = 액션 (1개)",
          "2008년 <br>관객수 = 2,870,174<br>장르 = 액션 (2개)",
          "2009년 <br>관객수 = 19,389,622<br>장르 = 액션 (3개)",
          "2010년 <br>관객수 = 8,156,101<br>장르 = 액션 (2개)",
          "2011년 <br>관객수 = 1,118,258<br>장르 = 액션 (1개)",
          "2012년 <br>관객수 = 20,989,054<br>장르 = 액션 (5개)",
          "2013년 <br>관객수 = 29,529,396<br>장르 = 액션 (8개)",
          "2014년 <br>관객수 = 7,469,531<br>장르 = 액션 (3개)",
          "2015년 <br>관객수 = 28,311,881<br>장르 = 액션 (3개)",
          "2016년 <br>관객수 = 26,216,440<br>장르 = 액션 (3개)",
          "2017년 <br>관객수 = 25,723,688<br>장르 = 액션 (5개)",
          "2018년 <br>관객수 = 1,671,548<br>장르 = 액션 (1개)",
          "2019년 <br>관객수 = 1,094,404<br>장르 = 액션 (1개)",
          "2020년 <br>관객수 = 3,812,250<br>장르 = 액션 (1개)",
          "2021년 <br>관객수 = 5,252,423<br>장르 = 액션 (2개)",
          "2022년 <br>관객수 = 22,945,169<br>장르 = 액션 (5개)",
          "2023년 <br>관객수 = 5,143,219<br>장르 = 액션 (1개)",
          "2024년 <br>관객수 = 0<br>장르 = 액션 (0개)"
         ],
         "marker": {
          "color": "#565656"
         },
         "name": "액션",
         "type": "bar",
         "x": [
          1993,
          1999,
          2000,
          2001,
          2002,
          2003,
          2004,
          2005,
          2006,
          2007,
          2008,
          2009,
          2010,
          2011,
          2012,
          2013,
          2014,
          2015,
          2016,
          2017,
          2018,
          2019,
          2020,
          2021,
          2022,
          2023,
          2024
         ],
         "y": [
          0,
          5820000,
          0,
          0,
          0,
          1858077,
          7512213,
          3766552,
          10114158,
          8426973,
          2870174,
          19389622,
          8156101,
          1118258,
          20989054,
          29529396,
          7469531,
          28311881,
          26216440,
          25723688,
          1671548,
          1094404,
          3812250,
          5252423,
          22945169,
          5143219,
          0
         ]
        },
        {
         "hoverinfo": "text",
         "hovertext": [
          "1993년 <br>관객수 = 0<br>장르 = 범죄 (0개)",
          "1999년 <br>관객수 = 0<br>장르 = 범죄 (0개)",
          "2000년 <br>관객수 = 0<br>장르 = 범죄 (0개)",
          "2001년 <br>관객수 = 0<br>장르 = 범죄 (0개)",
          "2002년 <br>관객수 = 1,161,500<br>장르 = 범죄 (1개)",
          "2003년 <br>관객수 = 1,571,931<br>장르 = 범죄 (1개)",
          "2004년 <br>관객수 = 0<br>장르 = 범죄 (0개)",
          "2005년 <br>관객수 = 0<br>장르 = 범죄 (0개)",
          "2006년 <br>관객수 = 0<br>장르 = 범죄 (0개)",
          "2007년 <br>관객수 = 0<br>장르 = 범죄 (0개)",
          "2008년 <br>관객수 = 8,744,111<br>장르 = 범죄 (3개)",
          "2009년 <br>관객수 = 1,534,407<br>장르 = 범죄 (1개)",
          "2010년 <br>관객수 = 3,910,674<br>장르 = 범죄 (2개)",
          "2011년 <br>관객수 = 1,867,849<br>장르 = 범죄 (1개)",
          "2012년 <br>관객수 = 7,978,568<br>장르 = 범죄 (3개)",
          "2013년 <br>관객수 = 15,774,105<br>장르 = 범죄 (3개)",
          "2014년 <br>관객수 = 7,352,096<br>장르 = 범죄 (3개)",
          "2015년 <br>관객수 = 11,756,314<br>장르 = 범죄 (4개)",
          "2016년 <br>관객수 = 13,543,085<br>장르 = 범죄 (3개)",
          "2017년 <br>관객수 = 28,281,869<br>장르 = 범죄 (8개)",
          "2018년 <br>관객수 = 15,665,632<br>장르 = 범죄 (6개)",
          "2019년 <br>관객수 = 20,020,351<br>장르 = 범죄 (7개)",
          "2020년 <br>관객수 = 5,903,084<br>장르 = 범죄 (2개)",
          "2021년 <br>관객수 = 1,426,357<br>장르 = 범죄 (1개)",
          "2022년 <br>관객수 = 12,693,175<br>장르 = 범죄 (1개)",
          "2023년 <br>관객수 = 10,682,813<br>장르 = 범죄 (1개)",
          "2024년 <br>관객수 = 0<br>장르 = 범죄 (0개)"
         ],
         "marker": {
          "color": "#16FF32"
         },
         "name": "범죄",
         "type": "bar",
         "x": [
          1993,
          1999,
          2000,
          2001,
          2002,
          2003,
          2004,
          2005,
          2006,
          2007,
          2008,
          2009,
          2010,
          2011,
          2012,
          2013,
          2014,
          2015,
          2016,
          2017,
          2018,
          2019,
          2020,
          2021,
          2022,
          2023,
          2024
         ],
         "y": [
          0,
          0,
          0,
          0,
          1161500,
          1571931,
          0,
          0,
          0,
          0,
          8744111,
          1534407,
          3910674,
          1867849,
          7978568,
          15774105,
          7352096,
          11756314,
          13543085,
          28281869,
          15665632,
          20020351,
          5903084,
          1426357,
          12693175,
          10682813,
          0
         ]
        },
        {
         "hoverinfo": "text",
         "hovertext": [
          "1993년 <br>관객수 = 0<br>장르 = 사극 (0개)",
          "1999년 <br>관객수 = 0<br>장르 = 사극 (0개)",
          "2000년 <br>관객수 = 0<br>장르 = 사극 (0개)",
          "2001년 <br>관객수 = 0<br>장르 = 사극 (0개)",
          "2002년 <br>관객수 = 0<br>장르 = 사극 (0개)",
          "2003년 <br>관객수 = 3,522,747<br>장르 = 사극 (1개)",
          "2004년 <br>관객수 = 0<br>장르 = 사극 (0개)",
          "2005년 <br>관객수 = 0<br>장르 = 사극 (0개)",
          "2006년 <br>관객수 = 2,576,022<br>장르 = 사극 (1개)",
          "2007년 <br>관객수 = 0<br>장르 = 사극 (0개)",
          "2008년 <br>관객수 = 6,051,849<br>장르 = 사극 (2개)",
          "2009년 <br>관객수 = 0<br>장르 = 사극 (0개)",
          "2010년 <br>관객수 = 4,442,797<br>장르 = 사극 (2개)",
          "2011년 <br>관객수 = 7,470,633<br>장르 = 사극 (1개)",
          "2012년 <br>관객수 = 14,955,862<br>장르 = 사극 (2개)",
          "2013년 <br>관객수 = 9,134,586<br>장르 = 사극 (1개)",
          "2014년 <br>관객수 = 26,238,010<br>장르 = 사극 (3개)",
          "2015년 <br>관객수 = 12,991,852<br>장르 = 사극 (4개)",
          "2016년 <br>관객수 = 7,650,506<br>장르 = 사극 (2개)",
          "2017년 <br>관객수 = 3,849,087<br>장르 = 사극 (1개)",
          "2018년 <br>관객수 = 11,571,073<br>장르 = 사극 (4개)",
          "2019년 <br>관객수 = 6,788,028<br>장르 = 사극 (2개)",
          "2020년 <br>관객수 = 0<br>장르 = 사극 (0개)",
          "2021년 <br>관객수 = 0<br>장르 = 사극 (0개)",
          "2022년 <br>관객수 = 0<br>장르 = 사극 (0개)",
          "2023년 <br>관객수 = 4,572,386<br>장르 = 사극 (1개)",
          "2024년 <br>관객수 = 0<br>장르 = 사극 (0개)"
         ],
         "marker": {
          "color": "#AA0DFE"
         },
         "name": "사극",
         "type": "bar",
         "x": [
          1993,
          1999,
          2000,
          2001,
          2002,
          2003,
          2004,
          2005,
          2006,
          2007,
          2008,
          2009,
          2010,
          2011,
          2012,
          2013,
          2014,
          2015,
          2016,
          2017,
          2018,
          2019,
          2020,
          2021,
          2022,
          2023,
          2024
         ],
         "y": [
          0,
          0,
          0,
          0,
          0,
          3522747,
          0,
          0,
          2576022,
          0,
          6051849,
          0,
          4442797,
          7470633,
          14955862,
          9134586,
          26238010,
          12991852,
          7650506,
          3849087,
          11571073,
          6788028,
          0,
          0,
          0,
          4572386,
          0
         ]
        },
        {
         "hoverinfo": "text",
         "hovertext": [
          "1993년 <br>관객수 = 0<br>장르 = 멜로/로맨스 (0개)",
          "1999년 <br>관객수 = 0<br>장르 = 멜로/로맨스 (0개)",
          "2000년 <br>관객수 = 0<br>장르 = 멜로/로맨스 (0개)",
          "2001년 <br>관객수 = 0<br>장르 = 멜로/로맨스 (0개)",
          "2002년 <br>관객수 = 0<br>장르 = 멜로/로맨스 (0개)",
          "2003년 <br>관객수 = 0<br>장르 = 멜로/로맨스 (0개)",
          "2004년 <br>관객수 = 4,764,437<br>장르 = 멜로/로맨스 (2개)",
          "2005년 <br>관객수 = 7,950,657<br>장르 = 멜로/로맨스 (4개)",
          "2006년 <br>관객수 = 6,619,498<br>장르 = 멜로/로맨스 (1개)",
          "2007년 <br>관객수 = 3,423,089<br>장르 = 멜로/로맨스 (2개)",
          "2008년 <br>관객수 = 2,912,042<br>장르 = 멜로/로맨스 (2개)",
          "2009년 <br>관객수 = 3,011,299<br>장르 = 멜로/로맨스 (2개)",
          "2010년 <br>관객수 = 3,862,466<br>장르 = 멜로/로맨스 (2개)",
          "2011년 <br>관객수 = 1,027,622<br>장르 = 멜로/로맨스 (1개)",
          "2012년 <br>관객수 = 18,145,480<br>장르 = 멜로/로맨스 (6개)",
          "2013년 <br>관객수 = 3,080,031<br>장르 = 멜로/로맨스 (2개)",
          "2014년 <br>관객수 = 5,562,430<br>장르 = 멜로/로맨스 (3개)",
          "2015년 <br>관객수 = 4,770,371<br>장르 = 멜로/로맨스 (3개)",
          "2016년 <br>관객수 = 0<br>장르 = 멜로/로맨스 (0개)",
          "2017년 <br>관객수 = 0<br>장르 = 멜로/로맨스 (0개)",
          "2018년 <br>관객수 = 5,423,242<br>장르 = 멜로/로맨스 (2개)",
          "2019년 <br>관객수 = 4,170,095<br>장르 = 멜로/로맨스 (2개)",
          "2020년 <br>관객수 = 0<br>장르 = 멜로/로맨스 (0개)",
          "2021년 <br>관객수 = 0<br>장르 = 멜로/로맨스 (0개)",
          "2022년 <br>관객수 = 0<br>장르 = 멜로/로맨스 (0개)",
          "2023년 <br>관객수 = 0<br>장르 = 멜로/로맨스 (0개)",
          "2024년 <br>관객수 = 0<br>장르 = 멜로/로맨스 (0개)"
         ],
         "marker": {
          "color": "#DEA0FD"
         },
         "name": "멜로/로맨스",
         "type": "bar",
         "x": [
          1993,
          1999,
          2000,
          2001,
          2002,
          2003,
          2004,
          2005,
          2006,
          2007,
          2008,
          2009,
          2010,
          2011,
          2012,
          2013,
          2014,
          2015,
          2016,
          2017,
          2018,
          2019,
          2020,
          2021,
          2022,
          2023,
          2024
         ],
         "y": [
          0,
          0,
          0,
          0,
          0,
          0,
          4764437,
          7950657,
          6619498,
          3423089,
          2912042,
          3011299,
          3862466,
          1027622,
          18145480,
          3080031,
          5562430,
          4770371,
          0,
          0,
          5423242,
          4170095,
          0,
          0,
          0,
          0,
          0
         ]
        },
        {
         "hoverinfo": "text",
         "hovertext": [
          "1993년 <br>관객수 = 0<br>장르 = 스릴러 (0개)",
          "1999년 <br>관객수 = 1,230,000<br>장르 = 스릴러 (1개)",
          "2000년 <br>관객수 = 0<br>장르 = 스릴러 (0개)",
          "2001년 <br>관객수 = 0<br>장르 = 스릴러 (0개)",
          "2002년 <br>관객수 = 0<br>장르 = 스릴러 (0개)",
          "2003년 <br>관객수 = 8,524,376<br>장르 = 스릴러 (2개)",
          "2004년 <br>관객수 = 3,566,907<br>장르 = 스릴러 (2개)",
          "2005년 <br>관객수 = 6,982,306<br>장르 = 스릴러 (3개)",
          "2006년 <br>관객수 = 2,286,745<br>장르 = 스릴러 (1개)",
          "2007년 <br>관객수 = 3,529,623<br>장르 = 스릴러 (2개)",
          "2008년 <br>관객수 = 1,496,214<br>장르 = 스릴러 (1개)",
          "2009년 <br>관객수 = 1,046,787<br>장르 = 스릴러 (1개)",
          "2010년 <br>관객수 = 7,549,004<br>장르 = 스릴러 (4개)",
          "2011년 <br>관객수 = 4,760,358<br>장르 = 스릴러 (2개)",
          "2012년 <br>관객수 = 2,434,099<br>장르 = 스릴러 (1개)",
          "2013년 <br>관객수 = 9,465,981<br>장르 = 스릴러 (3개)",
          "2014년 <br>관객수 = 0<br>장르 = 스릴러 (0개)",
          "2015년 <br>관객수 = 4,832,532<br>장르 = 스릴러 (3개)",
          "2016년 <br>관객수 = 5,490,223<br>장르 = 스릴러 (2개)",
          "2017년 <br>관객수 = 2,334,209<br>장르 = 스릴러 (2개)",
          "2018년 <br>관객수 = 5,401,317<br>장르 = 스릴러 (3개)",
          "2019년 <br>관객수 = 0<br>장르 = 스릴러 (0개)",
          "2020년 <br>관객수 = 0<br>장르 = 스릴러 (0개)",
          "2021년 <br>관객수 = 0<br>장르 = 스릴러 (0개)",
          "2022년 <br>관객수 = 3,329,547<br>장르 = 스릴러 (1개)",
          "2023년 <br>관객수 = 0<br>장르 = 스릴러 (0개)",
          "2024년 <br>관객수 = 0<br>장르 = 스릴러 (0개)"
         ],
         "marker": {
          "color": "#FE00FA"
         },
         "name": "스릴러",
         "type": "bar",
         "x": [
          1993,
          1999,
          2000,
          2001,
          2002,
          2003,
          2004,
          2005,
          2006,
          2007,
          2008,
          2009,
          2010,
          2011,
          2012,
          2013,
          2014,
          2015,
          2016,
          2017,
          2018,
          2019,
          2020,
          2021,
          2022,
          2023,
          2024
         ],
         "y": [
          0,
          1230000,
          0,
          0,
          0,
          8524376,
          3566907,
          6982306,
          2286745,
          3529623,
          1496214,
          1046787,
          7549004,
          4760358,
          2434099,
          9465981,
          0,
          4832532,
          5490223,
          2334209,
          5401317,
          0,
          0,
          0,
          3329547,
          0,
          0
         ]
        },
        {
         "hoverinfo": "text",
         "hovertext": [
          "1993년 <br>관객수 = 0<br>장르 = 미스터리 (0개)",
          "1999년 <br>관객수 = 0<br>장르 = 미스터리 (0개)",
          "2000년 <br>관객수 = 0<br>장르 = 미스터리 (0개)",
          "2001년 <br>관객수 = 0<br>장르 = 미스터리 (0개)",
          "2002년 <br>관객수 = 0<br>장르 = 미스터리 (0개)",
          "2003년 <br>관객수 = 0<br>장르 = 미스터리 (0개)",
          "2004년 <br>관객수 = 0<br>장르 = 미스터리 (0개)",
          "2005년 <br>관객수 = 1,083,962<br>장르 = 미스터리 (1개)",
          "2006년 <br>관객수 = 0<br>장르 = 미스터리 (0개)",
          "2007년 <br>관객수 = 1,438,531<br>장르 = 미스터리 (1개)",
          "2008년 <br>관객수 = 0<br>장르 = 미스터리 (0개)",
          "2009년 <br>관객수 = 1,914,779<br>장르 = 미스터리 (1개)",
          "2010년 <br>관객수 = 1,099,665<br>장르 = 미스터리 (1개)",
          "2011년 <br>관객수 = 0<br>장르 = 미스터리 (0개)",
          "2012년 <br>관객수 = 3,988,455<br>장르 = 미스터리 (2개)",
          "2013년 <br>관객수 = 0<br>장르 = 미스터리 (0개)",
          "2014년 <br>관객수 = 0<br>장르 = 미스터리 (0개)",
          "2015년 <br>관객수 = 5,442,553<br>장르 = 미스터리 (1개)",
          "2016년 <br>관객수 = 9,096,438<br>장르 = 미스터리 (3개)",
          "2017년 <br>관객수 = 2,694,037<br>장르 = 미스터리 (2개)",
          "2018년 <br>관객수 = 3,189,091<br>장르 = 미스터리 (1개)",
          "2019년 <br>관객수 = 4,008,256<br>장르 = 미스터리 (2개)",
          "2020년 <br>관객수 = 1,270,835<br>장르 = 미스터리 (1개)",
          "2021년 <br>관객수 = 0<br>장르 = 미스터리 (0개)",
          "2022년 <br>관객수 = 1,897,784<br>장르 = 미스터리 (1개)",
          "2023년 <br>관객수 = 1,470,359<br>장르 = 미스터리 (1개)",
          "2024년 <br>관객수 = 10,957,317<br>장르 = 미스터리 (1개)"
         ],
         "marker": {
          "color": "#FBE426"
         },
         "name": "미스터리",
         "type": "bar",
         "x": [
          1993,
          1999,
          2000,
          2001,
          2002,
          2003,
          2004,
          2005,
          2006,
          2007,
          2008,
          2009,
          2010,
          2011,
          2012,
          2013,
          2014,
          2015,
          2016,
          2017,
          2018,
          2019,
          2020,
          2021,
          2022,
          2023,
          2024
         ],
         "y": [
          0,
          0,
          0,
          0,
          0,
          0,
          0,
          1083962,
          0,
          1438531,
          0,
          1914779,
          1099665,
          0,
          3988455,
          0,
          0,
          5442553,
          9096438,
          2694037,
          3189091,
          4008256,
          1270835,
          0,
          1897784,
          1470359,
          10957317
         ]
        },
        {
         "hoverinfo": "text",
         "hovertext": [
          "1993년 <br>관객수 = 0<br>장르 = 전쟁 (0개)",
          "1999년 <br>관객수 = 0<br>장르 = 전쟁 (0개)",
          "2000년 <br>관객수 = 0<br>장르 = 전쟁 (0개)",
          "2001년 <br>관객수 = 0<br>장르 = 전쟁 (0개)",
          "2002년 <br>관객수 = 0<br>장르 = 전쟁 (0개)",
          "2003년 <br>관객수 = 11,081,000<br>장르 = 전쟁 (1개)",
          "2004년 <br>관객수 = 13,435,135<br>장르 = 전쟁 (2개)",
          "2005년 <br>관객수 = 8,008,622<br>장르 = 전쟁 (1개)",
          "2006년 <br>관객수 = 0<br>장르 = 전쟁 (0개)",
          "2007년 <br>관객수 = 0<br>장르 = 전쟁 (0개)",
          "2008년 <br>관객수 = 0<br>장르 = 전쟁 (0개)",
          "2009년 <br>관객수 = 0<br>장르 = 전쟁 (0개)",
          "2010년 <br>관객수 = 0<br>장르 = 전쟁 (0개)",
          "2011년 <br>관객수 = 3,860,188<br>장르 = 전쟁 (2개)",
          "2012년 <br>관객수 = 0<br>장르 = 전쟁 (0개)",
          "2013년 <br>관객수 = 0<br>장르 = 전쟁 (0개)",
          "2014년 <br>관객수 = 0<br>장르 = 전쟁 (0개)",
          "2015년 <br>관객수 = 0<br>장르 = 전쟁 (0개)",
          "2016년 <br>관객수 = 7,049,643<br>장르 = 전쟁 (1개)",
          "2017년 <br>관객수 = 0<br>장르 = 전쟁 (0개)",
          "2018년 <br>관객수 = 0<br>장르 = 전쟁 (0개)",
          "2019년 <br>관객수 = 1,140,876<br>장르 = 전쟁 (1개)",
          "2020년 <br>관객수 = 0<br>장르 = 전쟁 (0개)",
          "2021년 <br>관객수 = 0<br>장르 = 전쟁 (0개)",
          "2022년 <br>관객수 = 0<br>장르 = 전쟁 (0개)",
          "2023년 <br>관객수 = 0<br>장르 = 전쟁 (0개)",
          "2024년 <br>관객수 = 0<br>장르 = 전쟁 (0개)"
         ],
         "marker": {
          "color": "#F7E1A0"
         },
         "name": "전쟁",
         "type": "bar",
         "x": [
          1993,
          1999,
          2000,
          2001,
          2002,
          2003,
          2004,
          2005,
          2006,
          2007,
          2008,
          2009,
          2010,
          2011,
          2012,
          2013,
          2014,
          2015,
          2016,
          2017,
          2018,
          2019,
          2020,
          2021,
          2022,
          2023,
          2024
         ],
         "y": [
          0,
          0,
          0,
          0,
          0,
          11081000,
          13435135,
          8008622,
          0,
          0,
          0,
          0,
          0,
          3860188,
          0,
          0,
          0,
          0,
          7049643,
          0,
          0,
          1140876,
          0,
          0,
          0,
          0,
          0
         ]
        },
        {
         "hoverinfo": "text",
         "hovertext": [
          "1993년 <br>관객수 = 0<br>장르 = 판타지 (0개)",
          "1999년 <br>관객수 = 0<br>장르 = 판타지 (0개)",
          "2000년 <br>관객수 = 0<br>장르 = 판타지 (0개)",
          "2001년 <br>관객수 = 0<br>장르 = 판타지 (0개)",
          "2002년 <br>관객수 = 0<br>장르 = 판타지 (0개)",
          "2003년 <br>관객수 = 0<br>장르 = 판타지 (0개)",
          "2004년 <br>관객수 = 0<br>장르 = 판타지 (0개)",
          "2005년 <br>관객수 = 0<br>장르 = 판타지 (0개)",
          "2006년 <br>관객수 = 0<br>장르 = 판타지 (0개)",
          "2007년 <br>관객수 = 0<br>장르 = 판타지 (0개)",
          "2008년 <br>관객수 = 0<br>장르 = 판타지 (0개)",
          "2009년 <br>관객수 = 0<br>장르 = 판타지 (0개)",
          "2010년 <br>관객수 = 0<br>장르 = 판타지 (0개)",
          "2011년 <br>관객수 = 0<br>장르 = 판타지 (0개)",
          "2012년 <br>관객수 = 0<br>장르 = 판타지 (0개)",
          "2013년 <br>관객수 = 0<br>장르 = 판타지 (0개)",
          "2014년 <br>관객수 = 0<br>장르 = 판타지 (0개)",
          "2015년 <br>관객수 = 2,054,297<br>장르 = 판타지 (1개)",
          "2016년 <br>관객수 = 1,168,625<br>장르 = 판타지 (1개)",
          "2017년 <br>관객수 = 14,410,754<br>장르 = 판타지 (1개)",
          "2018년 <br>관객수 = 12,274,996<br>장르 = 판타지 (1개)",
          "2019년 <br>관객수 = 1,916,855<br>장르 = 판타지 (1개)",
          "2020년 <br>관객수 = 0<br>장르 = 판타지 (0개)",
          "2021년 <br>관객수 = 0<br>장르 = 판타지 (0개)",
          "2022년 <br>관객수 = 0<br>장르 = 판타지 (0개)",
          "2023년 <br>관객수 = 1,916,429<br>장르 = 판타지 (1개)",
          "2024년 <br>관객수 = 0<br>장르 = 판타지 (0개)"
         ],
         "marker": {
          "color": "#85660D"
         },
         "name": "판타지",
         "type": "bar",
         "x": [
          1993,
          1999,
          2000,
          2001,
          2002,
          2003,
          2004,
          2005,
          2006,
          2007,
          2008,
          2009,
          2010,
          2011,
          2012,
          2013,
          2014,
          2015,
          2016,
          2017,
          2018,
          2019,
          2020,
          2021,
          2022,
          2023,
          2024
         ],
         "y": [
          0,
          0,
          0,
          0,
          0,
          0,
          0,
          0,
          0,
          0,
          0,
          0,
          0,
          0,
          0,
          0,
          0,
          2054297,
          1168625,
          14410754,
          12274996,
          1916855,
          0,
          0,
          0,
          1916429,
          0
         ]
        },
        {
         "hoverinfo": "text",
         "hovertext": [
          "1993년 <br>관객수 = 0<br>장르 = 공포(호러) (0개)",
          "1999년 <br>관객수 = 0<br>장르 = 공포(호러) (0개)",
          "2000년 <br>관객수 = 0<br>장르 = 공포(호러) (0개)",
          "2001년 <br>관객수 = 0<br>장르 = 공포(호러) (0개)",
          "2002년 <br>관객수 = 0<br>장르 = 공포(호러) (0개)",
          "2003년 <br>관객수 = 4,930,696<br>장르 = 공포(호러) (2개)",
          "2004년 <br>관객수 = 1,108,769<br>장르 = 공포(호러) (1개)",
          "2005년 <br>관객수 = 1,371,122<br>장르 = 공포(호러) (1개)",
          "2006년 <br>관객수 = 1,122,399<br>장르 = 공포(호러) (1개)",
          "2007년 <br>관객수 = 2,259,511<br>장르 = 공포(호러) (1개)",
          "2008년 <br>관객수 = 1,634,051<br>장르 = 공포(호러) (1개)",
          "2009년 <br>관객수 = 2,237,271<br>장르 = 공포(호러) (1개)",
          "2010년 <br>관객수 = 0<br>장르 = 공포(호러) (0개)",
          "2011년 <br>관객수 = 3,009,356<br>장르 = 공포(호러) (1개)",
          "2012년 <br>관객수 = 4,515,833<br>장르 = 공포(호러) (1개)",
          "2013년 <br>관객수 = 1,201,033<br>장르 = 공포(호러) (1개)",
          "2014년 <br>관객수 = 0<br>장르 = 공포(호러) (0개)",
          "2015년 <br>관객수 = 0<br>장르 = 공포(호러) (0개)",
          "2016년 <br>관객수 = 0<br>장르 = 공포(호러) (0개)",
          "2017년 <br>관객수 = 0<br>장르 = 공포(호러) (0개)",
          "2018년 <br>관객수 = 2,675,559<br>장르 = 공포(호러) (1개)",
          "2019년 <br>관객수 = 1,804,112<br>장르 = 공포(호러) (1개)",
          "2020년 <br>관객수 = 0<br>장르 = 공포(호러) (0개)",
          "2021년 <br>관객수 = 0<br>장르 = 공포(호러) (0개)",
          "2022년 <br>관객수 = 0<br>장르 = 공포(호러) (0개)",
          "2023년 <br>관객수 = 0<br>장르 = 공포(호러) (0개)",
          "2024년 <br>관객수 = 0<br>장르 = 공포(호러) (0개)"
         ],
         "marker": {
          "color": "#FEAF16"
         },
         "name": "공포(호러)",
         "type": "bar",
         "x": [
          1993,
          1999,
          2000,
          2001,
          2002,
          2003,
          2004,
          2005,
          2006,
          2007,
          2008,
          2009,
          2010,
          2011,
          2012,
          2013,
          2014,
          2015,
          2016,
          2017,
          2018,
          2019,
          2020,
          2021,
          2022,
          2023,
          2024
         ],
         "y": [
          0,
          0,
          0,
          0,
          0,
          4930696,
          1108769,
          1371122,
          1122399,
          2259511,
          1634051,
          2237271,
          0,
          3009356,
          4515833,
          1201033,
          0,
          0,
          0,
          0,
          2675559,
          1804112,
          0,
          0,
          0,
          0,
          0
         ]
        },
        {
         "hoverinfo": "text",
         "hovertext": [
          "1993년 <br>관객수 = 0<br>장르 = SF (0개)",
          "1999년 <br>관객수 = 0<br>장르 = SF (0개)",
          "2000년 <br>관객수 = 0<br>장르 = SF (0개)",
          "2001년 <br>관객수 = 0<br>장르 = SF (0개)",
          "2002년 <br>관객수 = 0<br>장르 = SF (0개)",
          "2003년 <br>관객수 = 0<br>장르 = SF (0개)",
          "2004년 <br>관객수 = 0<br>장르 = SF (0개)",
          "2005년 <br>관객수 = 0<br>장르 = SF (0개)",
          "2006년 <br>관객수 = 13,019,740<br>장르 = SF (1개)",
          "2007년 <br>관객수 = 0<br>장르 = SF (0개)",
          "2008년 <br>관객수 = 0<br>장르 = SF (0개)",
          "2009년 <br>관객수 = 0<br>장르 = SF (0개)",
          "2010년 <br>관객수 = 2,164,805<br>장르 = SF (1개)",
          "2011년 <br>관객수 = 2,242,510<br>장르 = SF (1개)",
          "2012년 <br>관객수 = 0<br>장르 = SF (0개)",
          "2013년 <br>관객수 = 9,349,991<br>장르 = SF (1개)",
          "2014년 <br>관객수 = 0<br>장르 = SF (0개)",
          "2015년 <br>관객수 = 0<br>장르 = SF (0개)",
          "2016년 <br>관객수 = 0<br>장르 = SF (0개)",
          "2017년 <br>관객수 = 0<br>장르 = SF (0개)",
          "2018년 <br>관객수 = 0<br>장르 = SF (0개)",
          "2019년 <br>관객수 = 0<br>장르 = SF (0개)",
          "2020년 <br>관객수 = 0<br>장르 = SF (0개)",
          "2021년 <br>관객수 = 0<br>장르 = SF (0개)",
          "2022년 <br>관객수 = 0<br>장르 = SF (0개)",
          "2023년 <br>관객수 = 0<br>장르 = SF (0개)",
          "2024년 <br>관객수 = 0<br>장르 = SF (0개)"
         ],
         "marker": {
          "color": "#1C8356"
         },
         "name": "SF",
         "type": "bar",
         "x": [
          1993,
          1999,
          2000,
          2001,
          2002,
          2003,
          2004,
          2005,
          2006,
          2007,
          2008,
          2009,
          2010,
          2011,
          2012,
          2013,
          2014,
          2015,
          2016,
          2017,
          2018,
          2019,
          2020,
          2021,
          2022,
          2023,
          2024
         ],
         "y": [
          0,
          0,
          0,
          0,
          0,
          0,
          0,
          0,
          13019740,
          0,
          0,
          0,
          2164805,
          2242510,
          0,
          9349991,
          0,
          0,
          0,
          0,
          0,
          0,
          0,
          0,
          0,
          0,
          0
         ]
        },
        {
         "hoverinfo": "text",
         "hovertext": [
          "1993년 <br>관객수 = 0<br>장르 = 어드벤처 (0개)",
          "1999년 <br>관객수 = 0<br>장르 = 어드벤처 (0개)",
          "2000년 <br>관객수 = 0<br>장르 = 어드벤처 (0개)",
          "2001년 <br>관객수 = 0<br>장르 = 어드벤처 (0개)",
          "2002년 <br>관객수 = 0<br>장르 = 어드벤처 (0개)",
          "2003년 <br>관객수 = 0<br>장르 = 어드벤처 (0개)",
          "2004년 <br>관객수 = 0<br>장르 = 어드벤처 (0개)",
          "2005년 <br>관객수 = 0<br>장르 = 어드벤처 (0개)",
          "2006년 <br>관객수 = 0<br>장르 = 어드벤처 (0개)",
          "2007년 <br>관객수 = 0<br>장르 = 어드벤처 (0개)",
          "2008년 <br>관객수 = 0<br>장르 = 어드벤처 (0개)",
          "2009년 <br>관객수 = 0<br>장르 = 어드벤처 (0개)",
          "2010년 <br>관객수 = 0<br>장르 = 어드벤처 (0개)",
          "2011년 <br>관객수 = 0<br>장르 = 어드벤처 (0개)",
          "2012년 <br>관객수 = 0<br>장르 = 어드벤처 (0개)",
          "2013년 <br>관객수 = 0<br>장르 = 어드벤처 (0개)",
          "2014년 <br>관객수 = 8,666,046<br>장르 = 어드벤처 (1개)",
          "2015년 <br>관객수 = 0<br>장르 = 어드벤처 (0개)",
          "2016년 <br>관객수 = 0<br>장르 = 어드벤처 (0개)",
          "2017년 <br>관객수 = 0<br>장르 = 어드벤처 (0개)",
          "2018년 <br>관객수 = 0<br>장르 = 어드벤처 (0개)",
          "2019년 <br>관객수 = 8,252,669<br>장르 = 어드벤처 (1개)",
          "2020년 <br>관객수 = 0<br>장르 = 어드벤처 (0개)",
          "2021년 <br>관객수 = 0<br>장르 = 어드벤처 (0개)",
          "2022년 <br>관객수 = 1,339,242<br>장르 = 어드벤처 (1개)",
          "2023년 <br>관객수 = 0<br>장르 = 어드벤처 (0개)",
          "2024년 <br>관객수 = 0<br>장르 = 어드벤처 (0개)"
         ],
         "marker": {
          "color": "#1CBE4F"
         },
         "name": "어드벤처",
         "type": "bar",
         "x": [
          1993,
          1999,
          2000,
          2001,
          2002,
          2003,
          2004,
          2005,
          2006,
          2007,
          2008,
          2009,
          2010,
          2011,
          2012,
          2013,
          2014,
          2015,
          2016,
          2017,
          2018,
          2019,
          2020,
          2021,
          2022,
          2023,
          2024
         ],
         "y": [
          0,
          0,
          0,
          0,
          0,
          0,
          0,
          0,
          0,
          0,
          0,
          0,
          0,
          0,
          0,
          0,
          8666046,
          0,
          0,
          0,
          0,
          8252669,
          0,
          0,
          1339242,
          0,
          0
         ]
        },
        {
         "hoverinfo": "text",
         "hovertext": [
          "1993년 <br>관객수 = 0<br>장르 = 다큐멘터리 (0개)",
          "1999년 <br>관객수 = 0<br>장르 = 다큐멘터리 (0개)",
          "2000년 <br>관객수 = 0<br>장르 = 다큐멘터리 (0개)",
          "2001년 <br>관객수 = 0<br>장르 = 다큐멘터리 (0개)",
          "2002년 <br>관객수 = 0<br>장르 = 다큐멘터리 (0개)",
          "2003년 <br>관객수 = 0<br>장르 = 다큐멘터리 (0개)",
          "2004년 <br>관객수 = 0<br>장르 = 다큐멘터리 (0개)",
          "2005년 <br>관객수 = 0<br>장르 = 다큐멘터리 (0개)",
          "2006년 <br>관객수 = 0<br>장르 = 다큐멘터리 (0개)",
          "2007년 <br>관객수 = 0<br>장르 = 다큐멘터리 (0개)",
          "2008년 <br>관객수 = 0<br>장르 = 다큐멘터리 (0개)",
          "2009년 <br>관객수 = 2,962,897<br>장르 = 다큐멘터리 (1개)",
          "2010년 <br>관객수 = 0<br>장르 = 다큐멘터리 (0개)",
          "2011년 <br>관객수 = 0<br>장르 = 다큐멘터리 (0개)",
          "2012년 <br>관객수 = 0<br>장르 = 다큐멘터리 (0개)",
          "2013년 <br>관객수 = 0<br>장르 = 다큐멘터리 (0개)",
          "2014년 <br>관객수 = 4,801,527<br>장르 = 다큐멘터리 (1개)",
          "2015년 <br>관객수 = 0<br>장르 = 다큐멘터리 (0개)",
          "2016년 <br>관객수 = 0<br>장르 = 다큐멘터리 (0개)",
          "2017년 <br>관객수 = 1,854,867<br>장르 = 다큐멘터리 (1개)",
          "2018년 <br>관객수 = 0<br>장르 = 다큐멘터리 (0개)",
          "2019년 <br>관객수 = 0<br>장르 = 다큐멘터리 (0개)",
          "2020년 <br>관객수 = 0<br>장르 = 다큐멘터리 (0개)",
          "2021년 <br>관객수 = 0<br>장르 = 다큐멘터리 (0개)",
          "2022년 <br>관객수 = 0<br>장르 = 다큐멘터리 (0개)",
          "2023년 <br>관객수 = 0<br>장르 = 다큐멘터리 (0개)",
          "2024년 <br>관객수 = 0<br>장르 = 다큐멘터리 (0개)"
         ],
         "marker": {
          "color": "#325A9B"
         },
         "name": "다큐멘터리",
         "type": "bar",
         "x": [
          1993,
          1999,
          2000,
          2001,
          2002,
          2003,
          2004,
          2005,
          2006,
          2007,
          2008,
          2009,
          2010,
          2011,
          2012,
          2013,
          2014,
          2015,
          2016,
          2017,
          2018,
          2019,
          2020,
          2021,
          2022,
          2023,
          2024
         ],
         "y": [
          0,
          0,
          0,
          0,
          0,
          0,
          0,
          0,
          0,
          0,
          0,
          2962897,
          0,
          0,
          0,
          0,
          4801527,
          0,
          0,
          1854867,
          0,
          0,
          0,
          0,
          0,
          0,
          0
         ]
        },
        {
         "hoverinfo": "text",
         "hovertext": [
          "1993년 <br>관객수 = 0<br>장르 = 서부극(웨스턴) (0개)",
          "1999년 <br>관객수 = 0<br>장르 = 서부극(웨스턴) (0개)",
          "2000년 <br>관객수 = 0<br>장르 = 서부극(웨스턴) (0개)",
          "2001년 <br>관객수 = 0<br>장르 = 서부극(웨스턴) (0개)",
          "2002년 <br>관객수 = 0<br>장르 = 서부극(웨스턴) (0개)",
          "2003년 <br>관객수 = 0<br>장르 = 서부극(웨스턴) (0개)",
          "2004년 <br>관객수 = 0<br>장르 = 서부극(웨스턴) (0개)",
          "2005년 <br>관객수 = 0<br>장르 = 서부극(웨스턴) (0개)",
          "2006년 <br>관객수 = 0<br>장르 = 서부극(웨스턴) (0개)",
          "2007년 <br>관객수 = 0<br>장르 = 서부극(웨스턴) (0개)",
          "2008년 <br>관객수 = 6,686,912<br>장르 = 서부극(웨스턴) (1개)",
          "2009년 <br>관객수 = 0<br>장르 = 서부극(웨스턴) (0개)",
          "2010년 <br>관객수 = 0<br>장르 = 서부극(웨스턴) (0개)",
          "2011년 <br>관객수 = 0<br>장르 = 서부극(웨스턴) (0개)",
          "2012년 <br>관객수 = 0<br>장르 = 서부극(웨스턴) (0개)",
          "2013년 <br>관객수 = 0<br>장르 = 서부극(웨스턴) (0개)",
          "2014년 <br>관객수 = 0<br>장르 = 서부극(웨스턴) (0개)",
          "2015년 <br>관객수 = 0<br>장르 = 서부극(웨스턴) (0개)",
          "2016년 <br>관객수 = 0<br>장르 = 서부극(웨스턴) (0개)",
          "2017년 <br>관객수 = 0<br>장르 = 서부극(웨스턴) (0개)",
          "2018년 <br>관객수 = 0<br>장르 = 서부극(웨스턴) (0개)",
          "2019년 <br>관객수 = 0<br>장르 = 서부극(웨스턴) (0개)",
          "2020년 <br>관객수 = 0<br>장르 = 서부극(웨스턴) (0개)",
          "2021년 <br>관객수 = 0<br>장르 = 서부극(웨스턴) (0개)",
          "2022년 <br>관객수 = 0<br>장르 = 서부극(웨스턴) (0개)",
          "2023년 <br>관객수 = 0<br>장르 = 서부극(웨스턴) (0개)",
          "2024년 <br>관객수 = 0<br>장르 = 서부극(웨스턴) (0개)"
         ],
         "marker": {
          "color": "#C4451C"
         },
         "name": "서부극(웨스턴)",
         "type": "bar",
         "x": [
          1993,
          1999,
          2000,
          2001,
          2002,
          2003,
          2004,
          2005,
          2006,
          2007,
          2008,
          2009,
          2010,
          2011,
          2012,
          2013,
          2014,
          2015,
          2016,
          2017,
          2018,
          2019,
          2020,
          2021,
          2022,
          2023,
          2024
         ],
         "y": [
          0,
          0,
          0,
          0,
          0,
          0,
          0,
          0,
          0,
          0,
          6686912,
          0,
          0,
          0,
          0,
          0,
          0,
          0,
          0,
          0,
          0,
          0,
          0,
          0,
          0,
          0,
          0
         ]
        },
        {
         "hoverinfo": "text",
         "hovertext": [
          "1993년 <br>관객수 = 0<br>장르 = 애니메이션 (0개)",
          "1999년 <br>관객수 = 0<br>장르 = 애니메이션 (0개)",
          "2000년 <br>관객수 = 0<br>장르 = 애니메이션 (0개)",
          "2001년 <br>관객수 = 0<br>장르 = 애니메이션 (0개)",
          "2002년 <br>관객수 = 0<br>장르 = 애니메이션 (0개)",
          "2003년 <br>관객수 = 0<br>장르 = 애니메이션 (0개)",
          "2004년 <br>관객수 = 0<br>장르 = 애니메이션 (0개)",
          "2005년 <br>관객수 = 0<br>장르 = 애니메이션 (0개)",
          "2006년 <br>관객수 = 0<br>장르 = 애니메이션 (0개)",
          "2007년 <br>관객수 = 0<br>장르 = 애니메이션 (0개)",
          "2008년 <br>관객수 = 0<br>장르 = 애니메이션 (0개)",
          "2009년 <br>관객수 = 0<br>장르 = 애니메이션 (0개)",
          "2010년 <br>관객수 = 0<br>장르 = 애니메이션 (0개)",
          "2011년 <br>관객수 = 2,201,722<br>장르 = 애니메이션 (1개)",
          "2012년 <br>관객수 = 1,040,636<br>장르 = 애니메이션 (1개)",
          "2013년 <br>관객수 = 0<br>장르 = 애니메이션 (0개)",
          "2014년 <br>관객수 = 0<br>장르 = 애니메이션 (0개)",
          "2015년 <br>관객수 = 0<br>장르 = 애니메이션 (0개)",
          "2016년 <br>관객수 = 0<br>장르 = 애니메이션 (0개)",
          "2017년 <br>관객수 = 0<br>장르 = 애니메이션 (0개)",
          "2018년 <br>관객수 = 0<br>장르 = 애니메이션 (0개)",
          "2019년 <br>관객수 = 0<br>장르 = 애니메이션 (0개)",
          "2020년 <br>관객수 = 0<br>장르 = 애니메이션 (0개)",
          "2021년 <br>관객수 = 0<br>장르 = 애니메이션 (0개)",
          "2022년 <br>관객수 = 0<br>장르 = 애니메이션 (0개)",
          "2023년 <br>관객수 = 0<br>장르 = 애니메이션 (0개)",
          "2024년 <br>관객수 = 0<br>장르 = 애니메이션 (0개)"
         ],
         "marker": {
          "color": "#F8A19F"
         },
         "name": "애니메이션",
         "type": "bar",
         "x": [
          1993,
          1999,
          2000,
          2001,
          2002,
          2003,
          2004,
          2005,
          2006,
          2007,
          2008,
          2009,
          2010,
          2011,
          2012,
          2013,
          2014,
          2015,
          2016,
          2017,
          2018,
          2019,
          2020,
          2021,
          2022,
          2023,
          2024
         ],
         "y": [
          0,
          0,
          0,
          0,
          0,
          0,
          0,
          0,
          0,
          0,
          0,
          0,
          0,
          2201722,
          1040636,
          0,
          0,
          0,
          0,
          0,
          0,
          0,
          0,
          0,
          0,
          0,
          0
         ]
        },
        {
         "hoverinfo": "text",
         "hovertext": [
          "1993년 <br>관객수 = 0<br>장르 = 기타 (0개)",
          "1999년 <br>관객수 = 0<br>장르 = 기타 (0개)",
          "2000년 <br>관객수 = 0<br>장르 = 기타 (0개)",
          "2001년 <br>관객수 = 0<br>장르 = 기타 (0개)",
          "2002년 <br>관객수 = 0<br>장르 = 기타 (0개)",
          "2003년 <br>관객수 = 0<br>장르 = 기타 (0개)",
          "2004년 <br>관객수 = 0<br>장르 = 기타 (0개)",
          "2005년 <br>관객수 = 0<br>장르 = 기타 (0개)",
          "2006년 <br>관객수 = 0<br>장르 = 기타 (0개)",
          "2007년 <br>관객수 = 0<br>장르 = 기타 (0개)",
          "2008년 <br>관객수 = 0<br>장르 = 기타 (0개)",
          "2009년 <br>관객수 = 0<br>장르 = 기타 (0개)",
          "2010년 <br>관객수 = 0<br>장르 = 기타 (0개)",
          "2011년 <br>관객수 = 0<br>장르 = 기타 (0개)",
          "2012년 <br>관객수 = 0<br>장르 = 기타 (0개)",
          "2013년 <br>관객수 = 0<br>장르 = 기타 (0개)",
          "2014년 <br>관객수 = 0<br>장르 = 기타 (0개)",
          "2015년 <br>관객수 = 0<br>장르 = 기타 (0개)",
          "2016년 <br>관객수 = 0<br>장르 = 기타 (0개)",
          "2017년 <br>관객수 = 0<br>장르 = 기타 (0개)",
          "2018년 <br>관객수 = 0<br>장르 = 기타 (0개)",
          "2019년 <br>관객수 = 0<br>장르 = 기타 (0개)",
          "2020년 <br>관객수 = 0<br>장르 = 기타 (0개)",
          "2021년 <br>관객수 = 0<br>장르 = 기타 (0개)",
          "2022년 <br>관객수 = 0<br>장르 = 기타 (0개)",
          "2023년 <br>관객수 = 0<br>장르 = 기타 (0개)",
          "2024년 <br>관객수 = 1,430,121<br>장르 = 기타 (1개)"
         ],
         "marker": {
          "color": "#90AD1C"
         },
         "name": "기타",
         "type": "bar",
         "x": [
          1993,
          1999,
          2000,
          2001,
          2002,
          2003,
          2004,
          2005,
          2006,
          2007,
          2008,
          2009,
          2010,
          2011,
          2012,
          2013,
          2014,
          2015,
          2016,
          2017,
          2018,
          2019,
          2020,
          2021,
          2022,
          2023,
          2024
         ],
         "y": [
          0,
          0,
          0,
          0,
          0,
          0,
          0,
          0,
          0,
          0,
          0,
          0,
          0,
          0,
          0,
          0,
          0,
          0,
          0,
          0,
          0,
          0,
          0,
          0,
          0,
          0,
          1430121
         ]
        },
        {
         "hoverinfo": "text",
         "hovertext": [
          "1993년 <br>관객수 = 0<br>장르 = 뮤지컬 (0개)",
          "1999년 <br>관객수 = 0<br>장르 = 뮤지컬 (0개)",
          "2000년 <br>관객수 = 0<br>장르 = 뮤지컬 (0개)",
          "2001년 <br>관객수 = 0<br>장르 = 뮤지컬 (0개)",
          "2002년 <br>관객수 = 0<br>장르 = 뮤지컬 (0개)",
          "2003년 <br>관객수 = 0<br>장르 = 뮤지컬 (0개)",
          "2004년 <br>관객수 = 0<br>장르 = 뮤지컬 (0개)",
          "2005년 <br>관객수 = 0<br>장르 = 뮤지컬 (0개)",
          "2006년 <br>관객수 = 0<br>장르 = 뮤지컬 (0개)",
          "2007년 <br>관객수 = 0<br>장르 = 뮤지컬 (0개)",
          "2008년 <br>관객수 = 0<br>장르 = 뮤지컬 (0개)",
          "2009년 <br>관객수 = 0<br>장르 = 뮤지컬 (0개)",
          "2010년 <br>관객수 = 0<br>장르 = 뮤지컬 (0개)",
          "2011년 <br>관객수 = 0<br>장르 = 뮤지컬 (0개)",
          "2012년 <br>관객수 = 0<br>장르 = 뮤지컬 (0개)",
          "2013년 <br>관객수 = 0<br>장르 = 뮤지컬 (0개)",
          "2014년 <br>관객수 = 0<br>장르 = 뮤지컬 (0개)",
          "2015년 <br>관객수 = 0<br>장르 = 뮤지컬 (0개)",
          "2016년 <br>관객수 = 0<br>장르 = 뮤지컬 (0개)",
          "2017년 <br>관객수 = 0<br>장르 = 뮤지컬 (0개)",
          "2018년 <br>관객수 = 0<br>장르 = 뮤지컬 (0개)",
          "2019년 <br>관객수 = 0<br>장르 = 뮤지컬 (0개)",
          "2020년 <br>관객수 = 0<br>장르 = 뮤지컬 (0개)",
          "2021년 <br>관객수 = 0<br>장르 = 뮤지컬 (0개)",
          "2022년 <br>관객수 = 1,171,648<br>장르 = 뮤지컬 (1개)",
          "2023년 <br>관객수 = 0<br>장르 = 뮤지컬 (0개)",
          "2024년 <br>관객수 = 0<br>장르 = 뮤지컬 (0개)"
         ],
         "marker": {
          "color": "#F6222E"
         },
         "name": "뮤지컬",
         "type": "bar",
         "x": [
          1993,
          1999,
          2000,
          2001,
          2002,
          2003,
          2004,
          2005,
          2006,
          2007,
          2008,
          2009,
          2010,
          2011,
          2012,
          2013,
          2014,
          2015,
          2016,
          2017,
          2018,
          2019,
          2020,
          2021,
          2022,
          2023,
          2024
         ],
         "y": [
          0,
          0,
          0,
          0,
          0,
          0,
          0,
          0,
          0,
          0,
          0,
          0,
          0,
          0,
          0,
          0,
          0,
          0,
          0,
          0,
          0,
          0,
          0,
          0,
          1171648,
          0,
          0
         ]
        }
       ],
       "layout": {
        "barmode": "stack",
        "legend": {
         "title": {
          "text": "장르"
         }
        },
        "template": {
         "data": {
          "bar": [
           {
            "error_x": {
             "color": "#2a3f5f"
            },
            "error_y": {
             "color": "#2a3f5f"
            },
            "marker": {
             "line": {
              "color": "#E5ECF6",
              "width": 0.5
             },
             "pattern": {
              "fillmode": "overlay",
              "size": 10,
              "solidity": 0.2
             }
            },
            "type": "bar"
           }
          ],
          "barpolar": [
           {
            "marker": {
             "line": {
              "color": "#E5ECF6",
              "width": 0.5
             },
             "pattern": {
              "fillmode": "overlay",
              "size": 10,
              "solidity": 0.2
             }
            },
            "type": "barpolar"
           }
          ],
          "carpet": [
           {
            "aaxis": {
             "endlinecolor": "#2a3f5f",
             "gridcolor": "white",
             "linecolor": "white",
             "minorgridcolor": "white",
             "startlinecolor": "#2a3f5f"
            },
            "baxis": {
             "endlinecolor": "#2a3f5f",
             "gridcolor": "white",
             "linecolor": "white",
             "minorgridcolor": "white",
             "startlinecolor": "#2a3f5f"
            },
            "type": "carpet"
           }
          ],
          "choropleth": [
           {
            "colorbar": {
             "outlinewidth": 0,
             "ticks": ""
            },
            "type": "choropleth"
           }
          ],
          "contour": [
           {
            "colorbar": {
             "outlinewidth": 0,
             "ticks": ""
            },
            "colorscale": [
             [
              0,
              "#0d0887"
             ],
             [
              0.1111111111111111,
              "#46039f"
             ],
             [
              0.2222222222222222,
              "#7201a8"
             ],
             [
              0.3333333333333333,
              "#9c179e"
             ],
             [
              0.4444444444444444,
              "#bd3786"
             ],
             [
              0.5555555555555556,
              "#d8576b"
             ],
             [
              0.6666666666666666,
              "#ed7953"
             ],
             [
              0.7777777777777778,
              "#fb9f3a"
             ],
             [
              0.8888888888888888,
              "#fdca26"
             ],
             [
              1,
              "#f0f921"
             ]
            ],
            "type": "contour"
           }
          ],
          "contourcarpet": [
           {
            "colorbar": {
             "outlinewidth": 0,
             "ticks": ""
            },
            "type": "contourcarpet"
           }
          ],
          "heatmap": [
           {
            "colorbar": {
             "outlinewidth": 0,
             "ticks": ""
            },
            "colorscale": [
             [
              0,
              "#0d0887"
             ],
             [
              0.1111111111111111,
              "#46039f"
             ],
             [
              0.2222222222222222,
              "#7201a8"
             ],
             [
              0.3333333333333333,
              "#9c179e"
             ],
             [
              0.4444444444444444,
              "#bd3786"
             ],
             [
              0.5555555555555556,
              "#d8576b"
             ],
             [
              0.6666666666666666,
              "#ed7953"
             ],
             [
              0.7777777777777778,
              "#fb9f3a"
             ],
             [
              0.8888888888888888,
              "#fdca26"
             ],
             [
              1,
              "#f0f921"
             ]
            ],
            "type": "heatmap"
           }
          ],
          "heatmapgl": [
           {
            "colorbar": {
             "outlinewidth": 0,
             "ticks": ""
            },
            "colorscale": [
             [
              0,
              "#0d0887"
             ],
             [
              0.1111111111111111,
              "#46039f"
             ],
             [
              0.2222222222222222,
              "#7201a8"
             ],
             [
              0.3333333333333333,
              "#9c179e"
             ],
             [
              0.4444444444444444,
              "#bd3786"
             ],
             [
              0.5555555555555556,
              "#d8576b"
             ],
             [
              0.6666666666666666,
              "#ed7953"
             ],
             [
              0.7777777777777778,
              "#fb9f3a"
             ],
             [
              0.8888888888888888,
              "#fdca26"
             ],
             [
              1,
              "#f0f921"
             ]
            ],
            "type": "heatmapgl"
           }
          ],
          "histogram": [
           {
            "marker": {
             "pattern": {
              "fillmode": "overlay",
              "size": 10,
              "solidity": 0.2
             }
            },
            "type": "histogram"
           }
          ],
          "histogram2d": [
           {
            "colorbar": {
             "outlinewidth": 0,
             "ticks": ""
            },
            "colorscale": [
             [
              0,
              "#0d0887"
             ],
             [
              0.1111111111111111,
              "#46039f"
             ],
             [
              0.2222222222222222,
              "#7201a8"
             ],
             [
              0.3333333333333333,
              "#9c179e"
             ],
             [
              0.4444444444444444,
              "#bd3786"
             ],
             [
              0.5555555555555556,
              "#d8576b"
             ],
             [
              0.6666666666666666,
              "#ed7953"
             ],
             [
              0.7777777777777778,
              "#fb9f3a"
             ],
             [
              0.8888888888888888,
              "#fdca26"
             ],
             [
              1,
              "#f0f921"
             ]
            ],
            "type": "histogram2d"
           }
          ],
          "histogram2dcontour": [
           {
            "colorbar": {
             "outlinewidth": 0,
             "ticks": ""
            },
            "colorscale": [
             [
              0,
              "#0d0887"
             ],
             [
              0.1111111111111111,
              "#46039f"
             ],
             [
              0.2222222222222222,
              "#7201a8"
             ],
             [
              0.3333333333333333,
              "#9c179e"
             ],
             [
              0.4444444444444444,
              "#bd3786"
             ],
             [
              0.5555555555555556,
              "#d8576b"
             ],
             [
              0.6666666666666666,
              "#ed7953"
             ],
             [
              0.7777777777777778,
              "#fb9f3a"
             ],
             [
              0.8888888888888888,
              "#fdca26"
             ],
             [
              1,
              "#f0f921"
             ]
            ],
            "type": "histogram2dcontour"
           }
          ],
          "mesh3d": [
           {
            "colorbar": {
             "outlinewidth": 0,
             "ticks": ""
            },
            "type": "mesh3d"
           }
          ],
          "parcoords": [
           {
            "line": {
             "colorbar": {
              "outlinewidth": 0,
              "ticks": ""
             }
            },
            "type": "parcoords"
           }
          ],
          "pie": [
           {
            "automargin": true,
            "type": "pie"
           }
          ],
          "scatter": [
           {
            "fillpattern": {
             "fillmode": "overlay",
             "size": 10,
             "solidity": 0.2
            },
            "type": "scatter"
           }
          ],
          "scatter3d": [
           {
            "line": {
             "colorbar": {
              "outlinewidth": 0,
              "ticks": ""
             }
            },
            "marker": {
             "colorbar": {
              "outlinewidth": 0,
              "ticks": ""
             }
            },
            "type": "scatter3d"
           }
          ],
          "scattercarpet": [
           {
            "marker": {
             "colorbar": {
              "outlinewidth": 0,
              "ticks": ""
             }
            },
            "type": "scattercarpet"
           }
          ],
          "scattergeo": [
           {
            "marker": {
             "colorbar": {
              "outlinewidth": 0,
              "ticks": ""
             }
            },
            "type": "scattergeo"
           }
          ],
          "scattergl": [
           {
            "marker": {
             "colorbar": {
              "outlinewidth": 0,
              "ticks": ""
             }
            },
            "type": "scattergl"
           }
          ],
          "scattermapbox": [
           {
            "marker": {
             "colorbar": {
              "outlinewidth": 0,
              "ticks": ""
             }
            },
            "type": "scattermapbox"
           }
          ],
          "scatterpolar": [
           {
            "marker": {
             "colorbar": {
              "outlinewidth": 0,
              "ticks": ""
             }
            },
            "type": "scatterpolar"
           }
          ],
          "scatterpolargl": [
           {
            "marker": {
             "colorbar": {
              "outlinewidth": 0,
              "ticks": ""
             }
            },
            "type": "scatterpolargl"
           }
          ],
          "scatterternary": [
           {
            "marker": {
             "colorbar": {
              "outlinewidth": 0,
              "ticks": ""
             }
            },
            "type": "scatterternary"
           }
          ],
          "surface": [
           {
            "colorbar": {
             "outlinewidth": 0,
             "ticks": ""
            },
            "colorscale": [
             [
              0,
              "#0d0887"
             ],
             [
              0.1111111111111111,
              "#46039f"
             ],
             [
              0.2222222222222222,
              "#7201a8"
             ],
             [
              0.3333333333333333,
              "#9c179e"
             ],
             [
              0.4444444444444444,
              "#bd3786"
             ],
             [
              0.5555555555555556,
              "#d8576b"
             ],
             [
              0.6666666666666666,
              "#ed7953"
             ],
             [
              0.7777777777777778,
              "#fb9f3a"
             ],
             [
              0.8888888888888888,
              "#fdca26"
             ],
             [
              1,
              "#f0f921"
             ]
            ],
            "type": "surface"
           }
          ],
          "table": [
           {
            "cells": {
             "fill": {
              "color": "#EBF0F8"
             },
             "line": {
              "color": "white"
             }
            },
            "header": {
             "fill": {
              "color": "#C8D4E3"
             },
             "line": {
              "color": "white"
             }
            },
            "type": "table"
           }
          ]
         },
         "layout": {
          "annotationdefaults": {
           "arrowcolor": "#2a3f5f",
           "arrowhead": 0,
           "arrowwidth": 1
          },
          "autotypenumbers": "strict",
          "coloraxis": {
           "colorbar": {
            "outlinewidth": 0,
            "ticks": ""
           }
          },
          "colorscale": {
           "diverging": [
            [
             0,
             "#8e0152"
            ],
            [
             0.1,
             "#c51b7d"
            ],
            [
             0.2,
             "#de77ae"
            ],
            [
             0.3,
             "#f1b6da"
            ],
            [
             0.4,
             "#fde0ef"
            ],
            [
             0.5,
             "#f7f7f7"
            ],
            [
             0.6,
             "#e6f5d0"
            ],
            [
             0.7,
             "#b8e186"
            ],
            [
             0.8,
             "#7fbc41"
            ],
            [
             0.9,
             "#4d9221"
            ],
            [
             1,
             "#276419"
            ]
           ],
           "sequential": [
            [
             0,
             "#0d0887"
            ],
            [
             0.1111111111111111,
             "#46039f"
            ],
            [
             0.2222222222222222,
             "#7201a8"
            ],
            [
             0.3333333333333333,
             "#9c179e"
            ],
            [
             0.4444444444444444,
             "#bd3786"
            ],
            [
             0.5555555555555556,
             "#d8576b"
            ],
            [
             0.6666666666666666,
             "#ed7953"
            ],
            [
             0.7777777777777778,
             "#fb9f3a"
            ],
            [
             0.8888888888888888,
             "#fdca26"
            ],
            [
             1,
             "#f0f921"
            ]
           ],
           "sequentialminus": [
            [
             0,
             "#0d0887"
            ],
            [
             0.1111111111111111,
             "#46039f"
            ],
            [
             0.2222222222222222,
             "#7201a8"
            ],
            [
             0.3333333333333333,
             "#9c179e"
            ],
            [
             0.4444444444444444,
             "#bd3786"
            ],
            [
             0.5555555555555556,
             "#d8576b"
            ],
            [
             0.6666666666666666,
             "#ed7953"
            ],
            [
             0.7777777777777778,
             "#fb9f3a"
            ],
            [
             0.8888888888888888,
             "#fdca26"
            ],
            [
             1,
             "#f0f921"
            ]
           ]
          },
          "colorway": [
           "#636efa",
           "#EF553B",
           "#00cc96",
           "#ab63fa",
           "#FFA15A",
           "#19d3f3",
           "#FF6692",
           "#B6E880",
           "#FF97FF",
           "#FECB52"
          ],
          "font": {
           "color": "#2a3f5f"
          },
          "geo": {
           "bgcolor": "white",
           "lakecolor": "white",
           "landcolor": "#E5ECF6",
           "showlakes": true,
           "showland": true,
           "subunitcolor": "white"
          },
          "hoverlabel": {
           "align": "left"
          },
          "hovermode": "closest",
          "mapbox": {
           "style": "light"
          },
          "paper_bgcolor": "white",
          "plot_bgcolor": "#E5ECF6",
          "polar": {
           "angularaxis": {
            "gridcolor": "white",
            "linecolor": "white",
            "ticks": ""
           },
           "bgcolor": "#E5ECF6",
           "radialaxis": {
            "gridcolor": "white",
            "linecolor": "white",
            "ticks": ""
           }
          },
          "scene": {
           "xaxis": {
            "backgroundcolor": "#E5ECF6",
            "gridcolor": "white",
            "gridwidth": 2,
            "linecolor": "white",
            "showbackground": true,
            "ticks": "",
            "zerolinecolor": "white"
           },
           "yaxis": {
            "backgroundcolor": "#E5ECF6",
            "gridcolor": "white",
            "gridwidth": 2,
            "linecolor": "white",
            "showbackground": true,
            "ticks": "",
            "zerolinecolor": "white"
           },
           "zaxis": {
            "backgroundcolor": "#E5ECF6",
            "gridcolor": "white",
            "gridwidth": 2,
            "linecolor": "white",
            "showbackground": true,
            "ticks": "",
            "zerolinecolor": "white"
           }
          },
          "shapedefaults": {
           "line": {
            "color": "#2a3f5f"
           }
          },
          "ternary": {
           "aaxis": {
            "gridcolor": "white",
            "linecolor": "white",
            "ticks": ""
           },
           "baxis": {
            "gridcolor": "white",
            "linecolor": "white",
            "ticks": ""
           },
           "bgcolor": "#E5ECF6",
           "caxis": {
            "gridcolor": "white",
            "linecolor": "white",
            "ticks": ""
           }
          },
          "title": {
           "x": 0.05
          },
          "xaxis": {
           "automargin": true,
           "gridcolor": "white",
           "linecolor": "white",
           "ticks": "",
           "title": {
            "standoff": 15
           },
           "zerolinecolor": "white",
           "zerolinewidth": 2
          },
          "yaxis": {
           "automargin": true,
           "gridcolor": "white",
           "linecolor": "white",
           "ticks": "",
           "title": {
            "standoff": 15
           },
           "zerolinecolor": "white",
           "zerolinewidth": 2
          }
         }
        },
        "title": {
         "text": "연도별/장르별 총 관객 수"
        },
        "xaxis": {
         "title": {
          "text": "연도"
         }
        },
        "yaxis": {
         "tickformat": ",",
         "title": {
          "text": "관객 수"
         }
        }
       }
      }
     },
     "metadata": {},
     "output_type": "display_data"
    }
   ],
   "source": [
    "import plotly.graph_objects as go\n",
    "import pandas as pd\n",
    "\n",
    "# 데이터셋 로드 (다음 코드는 예제 데이터와 설정을 기반으로 함)\n",
    "# df['개봉일'] = pd.to_datetime(df['개봉일'], format='%Y-%m-%d')\n",
    "# df['년도'] = df['개봉일'].dt.year\n",
    "\n",
    "# 연도별, 장르별 관객 수 및 영화 수 계산\n",
    "grouped = df.groupby(['년도', 'genre_one'])\n",
    "genre_yearly_data = grouped['관객수'].agg(['sum', 'count']).unstack(fill_value=0)\n",
    "\n",
    "# 모든 연도를 통틀어 장르별 총 관객 수를 계산하여 장르를 정렬\n",
    "overall_genre_order = genre_yearly_data['sum'].sum(axis=0).sort_values(ascending=False).index\n",
    "\n",
    "# 그래프 객체 생성\n",
    "fig = go.Figure()\n",
    "\n",
    "# 정렬된 순서대로 막대 그래프 추가\n",
    "for genre in overall_genre_order:\n",
    "    fig.add_trace(go.Bar(\n",
    "        x=genre_yearly_data['sum'].index,\n",
    "        y=genre_yearly_data['sum'][genre],\n",
    "        name=genre,\n",
    "        marker_color=genre_colors.get(genre, '#000'),  # 색상 설정\n",
    "        hoverinfo='text',  # 호버 정보 설정\n",
    "        hovertext=[\n",
    "            f\"{year}년 <br>관객수 = {audience:,.0f}<br>장르 = {genre} ({genre_yearly_data['count'].loc[year, genre]}개)\" \n",
    "            for year, audience in zip(genre_yearly_data['sum'].index, genre_yearly_data['sum'][genre])\n",
    "        ]\n",
    "    ))\n",
    "\n",
    "# 레이아웃 업데이트\n",
    "fig.update_layout(\n",
    "    barmode='stack',\n",
    "    title='연도별/장르별 총 관객 수',\n",
    "    xaxis_title='연도',\n",
    "    yaxis_title='관객 수',\n",
    "    yaxis=dict(tickformat=','),\n",
    "    legend_title='장르'\n",
    ")\n",
    "\n",
    "# 그래프 표시\n",
    "fig.show()\n",
    "fig.write_html('yj_year_genre.html')"
   ]
  },
  {
   "cell_type": "markdown",
   "metadata": {},
   "source": []
  },
  {
   "cell_type": "markdown",
   "metadata": {},
   "source": [
    "## 2. 월별 장르별 총 관객수, 월별 각 장르의 영화 출품 수\n",
    "어느 월에 어떤 장르의 영화가 잘 먹히는지(실제로 그 월에 잘 내고 있는지 확인)"
   ]
  },
  {
   "cell_type": "code",
   "execution_count": 15,
   "metadata": {},
   "outputs": [
    {
     "data": {
      "text/html": [
       "<div>\n",
       "<style scoped>\n",
       "    .dataframe tbody tr th:only-of-type {\n",
       "        vertical-align: middle;\n",
       "    }\n",
       "\n",
       "    .dataframe tbody tr th {\n",
       "        vertical-align: top;\n",
       "    }\n",
       "\n",
       "    .dataframe thead th {\n",
       "        text-align: right;\n",
       "    }\n",
       "</style>\n",
       "<table border=\"1\" class=\"dataframe\">\n",
       "  <thead>\n",
       "    <tr style=\"text-align: right;\">\n",
       "      <th></th>\n",
       "      <th>순위</th>\n",
       "      <th>영화명</th>\n",
       "      <th>개봉일</th>\n",
       "      <th>매출액</th>\n",
       "      <th>관객수</th>\n",
       "      <th>스크린수</th>\n",
       "      <th>배급사</th>\n",
       "      <th>coach</th>\n",
       "      <th>actor_main_name</th>\n",
       "      <th>actor_sub_name</th>\n",
       "      <th>actor_cameo_name</th>\n",
       "      <th>maker</th>\n",
       "      <th>only_gener</th>\n",
       "      <th>genre_one</th>\n",
       "      <th>year</th>\n",
       "      <th>년도</th>\n",
       "      <th>월</th>\n",
       "      <th>일</th>\n",
       "      <th>년대</th>\n",
       "    </tr>\n",
       "  </thead>\n",
       "  <tbody>\n",
       "    <tr>\n",
       "      <th>67</th>\n",
       "      <td>68</td>\n",
       "      <td>더 테러 라이브</td>\n",
       "      <td>2013-07-31</td>\n",
       "      <td>3.986671e+10</td>\n",
       "      <td>5583596</td>\n",
       "      <td>743</td>\n",
       "      <td>롯데쇼핑㈜롯데엔터테인먼트</td>\n",
       "      <td>김병우</td>\n",
       "      <td>[하정우, 이경영, 전혜진, 이다윗]</td>\n",
       "      <td>[김홍파, 김대명, 최진호, 김소진, 강진아, 강신철, 한성천]</td>\n",
       "      <td>[]</td>\n",
       "      <td>['씨네이천   2000']</td>\n",
       "      <td>범죄, 기타</td>\n",
       "      <td>범죄</td>\n",
       "      <td>2013</td>\n",
       "      <td>2013</td>\n",
       "      <td>7</td>\n",
       "      <td>31</td>\n",
       "      <td>2010년대</td>\n",
       "    </tr>\n",
       "    <tr>\n",
       "      <th>116</th>\n",
       "      <td>117</td>\n",
       "      <td>콘크리트 유토피아</td>\n",
       "      <td>2023-08-09</td>\n",
       "      <td>3.741280e+10</td>\n",
       "      <td>3849242</td>\n",
       "      <td>1731</td>\n",
       "      <td>롯데컬처웍스롯데엔터테인먼트</td>\n",
       "      <td>엄태화</td>\n",
       "      <td>[이병헌, 박서준, 박보영]</td>\n",
       "      <td>[김선영, 김도윤, 박지후]</td>\n",
       "      <td>[김학선, 공민정, 엄태구, 정영기, 오희준, 김준배]</td>\n",
       "      <td>['클라이맥스 스튜디오', '비에이치 엔터테인먼트']</td>\n",
       "      <td>드라마, 기타</td>\n",
       "      <td>드라마</td>\n",
       "      <td>2023</td>\n",
       "      <td>2023</td>\n",
       "      <td>8</td>\n",
       "      <td>9</td>\n",
       "      <td>2020년대</td>\n",
       "    </tr>\n",
       "    <tr>\n",
       "      <th>381</th>\n",
       "      <td>382</td>\n",
       "      <td>외계+인 2부</td>\n",
       "      <td>2024-01-10</td>\n",
       "      <td>1.379233e+10</td>\n",
       "      <td>1430121</td>\n",
       "      <td>1390</td>\n",
       "      <td>씨제이이엔엠</td>\n",
       "      <td>최동훈</td>\n",
       "      <td>[류준열, 김태리, 김우빈, 이하늬, 염정아, 조우진, 김의성, 진선규]</td>\n",
       "      <td>[신정근, 윤경호, 이시훈]</td>\n",
       "      <td>[]</td>\n",
       "      <td>['케이퍼필름']</td>\n",
       "      <td>기타</td>\n",
       "      <td>기타</td>\n",
       "      <td>2024</td>\n",
       "      <td>2024</td>\n",
       "      <td>1</td>\n",
       "      <td>10</td>\n",
       "      <td>2020년대</td>\n",
       "    </tr>\n",
       "  </tbody>\n",
       "</table>\n",
       "</div>"
      ],
      "text/plain": [
       "      순위        영화명        개봉일           매출액      관객수  스크린수             배급사  \\\n",
       "67    68   더 테러 라이브 2013-07-31  3.986671e+10  5583596   743   롯데쇼핑㈜롯데엔터테인먼트   \n",
       "116  117  콘크리트 유토피아 2023-08-09  3.741280e+10  3849242  1731  롯데컬처웍스롯데엔터테인먼트   \n",
       "381  382    외계+인 2부 2024-01-10  1.379233e+10  1430121  1390          씨제이이엔엠   \n",
       "\n",
       "    coach                           actor_main_name  \\\n",
       "67    김병우                      [하정우, 이경영, 전혜진, 이다윗]   \n",
       "116   엄태화                           [이병헌, 박서준, 박보영]   \n",
       "381   최동훈  [류준열, 김태리, 김우빈, 이하늬, 염정아, 조우진, 김의성, 진선규]   \n",
       "\n",
       "                          actor_sub_name                actor_cameo_name  \\\n",
       "67   [김홍파, 김대명, 최진호, 김소진, 강진아, 강신철, 한성천]                              []   \n",
       "116                      [김선영, 김도윤, 박지후]  [김학선, 공민정, 엄태구, 정영기, 오희준, 김준배]   \n",
       "381                      [신정근, 윤경호, 이시훈]                              []   \n",
       "\n",
       "                             maker only_gener genre_one  year    년도  월   일  \\\n",
       "67                 ['씨네이천   2000']    범죄, 기타         범죄  2013  2013  7  31   \n",
       "116  ['클라이맥스 스튜디오', '비에이치 엔터테인먼트']   드라마, 기타        드라마  2023  2023  8   9   \n",
       "381                      ['케이퍼필름']        기타         기타  2024  2024  1  10   \n",
       "\n",
       "         년대  \n",
       "67   2010년대  \n",
       "116  2020년대  \n",
       "381  2020년대  "
      ]
     },
     "execution_count": 15,
     "metadata": {},
     "output_type": "execute_result"
    }
   ],
   "source": [
    "# 'only_gener' 열에서 쉼표가 포함된 값들만 필터링하고 유니크한 값들을 가져오기\n",
    "filtered_df = df[df['only_gener'].str.contains('기타')]\n",
    "\n",
    "# 결과 출력\n",
    "filtered_df"
   ]
  },
  {
   "cell_type": "code",
   "execution_count": 16,
   "metadata": {},
   "outputs": [
    {
     "data": {
      "application/vnd.plotly.v1+json": {
       "config": {
        "plotlyServerURL": "https://plot.ly"
       },
       "data": [
        {
         "hoverinfo": "text",
         "hovertext": [
          "2월 <br>관객수 = 5,820,000<br>장르 = 액션 (1개)",
          "4월 <br>관객수 = 0<br>장르 = 액션 (0개)",
          "10월 <br>관객수 = 0<br>장르 = 액션 (0개)",
          "11월 <br>관객수 = 0<br>장르 = 액션 (0개)"
         ],
         "marker": {
          "color": "#565656"
         },
         "name": "액션",
         "type": "bar",
         "x": [
          2,
          4,
          10,
          11
         ],
         "y": [
          5820000,
          0,
          0,
          0
         ]
        },
        {
         "hoverinfo": "text",
         "hovertext": [
          "2월 <br>관객수 = 0<br>장르 = 코미디 (0개)",
          "4월 <br>관객수 = 0<br>장르 = 코미디 (0개)",
          "10월 <br>관객수 = 2,310,000<br>장르 = 코미디 (1개)",
          "11월 <br>관객수 = 0<br>장르 = 코미디 (0개)"
         ],
         "marker": {
          "color": "#3283FE"
         },
         "name": "코미디",
         "type": "bar",
         "x": [
          2,
          4,
          10,
          11
         ],
         "y": [
          0,
          0,
          2310000,
          0
         ]
        },
        {
         "hoverinfo": "text",
         "hovertext": [
          "2월 <br>관객수 = 0<br>장르 = 스릴러 (0개)",
          "4월 <br>관객수 = 0<br>장르 = 스릴러 (0개)",
          "10월 <br>관객수 = 0<br>장르 = 스릴러 (0개)",
          "11월 <br>관객수 = 1,230,000<br>장르 = 스릴러 (1개)"
         ],
         "marker": {
          "color": "#FE00FA"
         },
         "name": "스릴러",
         "type": "bar",
         "x": [
          2,
          4,
          10,
          11
         ],
         "y": [
          0,
          0,
          0,
          1230000
         ]
        },
        {
         "hoverinfo": "text",
         "hovertext": [
          "2월 <br>관객수 = 0<br>장르 = 드라마 (0개)",
          "4월 <br>관객수 = 1,035,741<br>장르 = 드라마 (1개)",
          "10월 <br>관객수 = 0<br>장르 = 드라마 (0개)",
          "11월 <br>관객수 = 0<br>장르 = 드라마 (0개)"
         ],
         "marker": {
          "color": "#FA0087"
         },
         "name": "드라마",
         "type": "bar",
         "x": [
          2,
          4,
          10,
          11
         ],
         "y": [
          0,
          1035741,
          0,
          0
         ]
        }
       ],
       "layout": {
        "barmode": "stack",
        "legend": {
         "title": {
          "text": "장르"
         }
        },
        "template": {
         "data": {
          "bar": [
           {
            "error_x": {
             "color": "#2a3f5f"
            },
            "error_y": {
             "color": "#2a3f5f"
            },
            "marker": {
             "line": {
              "color": "#E5ECF6",
              "width": 0.5
             },
             "pattern": {
              "fillmode": "overlay",
              "size": 10,
              "solidity": 0.2
             }
            },
            "type": "bar"
           }
          ],
          "barpolar": [
           {
            "marker": {
             "line": {
              "color": "#E5ECF6",
              "width": 0.5
             },
             "pattern": {
              "fillmode": "overlay",
              "size": 10,
              "solidity": 0.2
             }
            },
            "type": "barpolar"
           }
          ],
          "carpet": [
           {
            "aaxis": {
             "endlinecolor": "#2a3f5f",
             "gridcolor": "white",
             "linecolor": "white",
             "minorgridcolor": "white",
             "startlinecolor": "#2a3f5f"
            },
            "baxis": {
             "endlinecolor": "#2a3f5f",
             "gridcolor": "white",
             "linecolor": "white",
             "minorgridcolor": "white",
             "startlinecolor": "#2a3f5f"
            },
            "type": "carpet"
           }
          ],
          "choropleth": [
           {
            "colorbar": {
             "outlinewidth": 0,
             "ticks": ""
            },
            "type": "choropleth"
           }
          ],
          "contour": [
           {
            "colorbar": {
             "outlinewidth": 0,
             "ticks": ""
            },
            "colorscale": [
             [
              0,
              "#0d0887"
             ],
             [
              0.1111111111111111,
              "#46039f"
             ],
             [
              0.2222222222222222,
              "#7201a8"
             ],
             [
              0.3333333333333333,
              "#9c179e"
             ],
             [
              0.4444444444444444,
              "#bd3786"
             ],
             [
              0.5555555555555556,
              "#d8576b"
             ],
             [
              0.6666666666666666,
              "#ed7953"
             ],
             [
              0.7777777777777778,
              "#fb9f3a"
             ],
             [
              0.8888888888888888,
              "#fdca26"
             ],
             [
              1,
              "#f0f921"
             ]
            ],
            "type": "contour"
           }
          ],
          "contourcarpet": [
           {
            "colorbar": {
             "outlinewidth": 0,
             "ticks": ""
            },
            "type": "contourcarpet"
           }
          ],
          "heatmap": [
           {
            "colorbar": {
             "outlinewidth": 0,
             "ticks": ""
            },
            "colorscale": [
             [
              0,
              "#0d0887"
             ],
             [
              0.1111111111111111,
              "#46039f"
             ],
             [
              0.2222222222222222,
              "#7201a8"
             ],
             [
              0.3333333333333333,
              "#9c179e"
             ],
             [
              0.4444444444444444,
              "#bd3786"
             ],
             [
              0.5555555555555556,
              "#d8576b"
             ],
             [
              0.6666666666666666,
              "#ed7953"
             ],
             [
              0.7777777777777778,
              "#fb9f3a"
             ],
             [
              0.8888888888888888,
              "#fdca26"
             ],
             [
              1,
              "#f0f921"
             ]
            ],
            "type": "heatmap"
           }
          ],
          "heatmapgl": [
           {
            "colorbar": {
             "outlinewidth": 0,
             "ticks": ""
            },
            "colorscale": [
             [
              0,
              "#0d0887"
             ],
             [
              0.1111111111111111,
              "#46039f"
             ],
             [
              0.2222222222222222,
              "#7201a8"
             ],
             [
              0.3333333333333333,
              "#9c179e"
             ],
             [
              0.4444444444444444,
              "#bd3786"
             ],
             [
              0.5555555555555556,
              "#d8576b"
             ],
             [
              0.6666666666666666,
              "#ed7953"
             ],
             [
              0.7777777777777778,
              "#fb9f3a"
             ],
             [
              0.8888888888888888,
              "#fdca26"
             ],
             [
              1,
              "#f0f921"
             ]
            ],
            "type": "heatmapgl"
           }
          ],
          "histogram": [
           {
            "marker": {
             "pattern": {
              "fillmode": "overlay",
              "size": 10,
              "solidity": 0.2
             }
            },
            "type": "histogram"
           }
          ],
          "histogram2d": [
           {
            "colorbar": {
             "outlinewidth": 0,
             "ticks": ""
            },
            "colorscale": [
             [
              0,
              "#0d0887"
             ],
             [
              0.1111111111111111,
              "#46039f"
             ],
             [
              0.2222222222222222,
              "#7201a8"
             ],
             [
              0.3333333333333333,
              "#9c179e"
             ],
             [
              0.4444444444444444,
              "#bd3786"
             ],
             [
              0.5555555555555556,
              "#d8576b"
             ],
             [
              0.6666666666666666,
              "#ed7953"
             ],
             [
              0.7777777777777778,
              "#fb9f3a"
             ],
             [
              0.8888888888888888,
              "#fdca26"
             ],
             [
              1,
              "#f0f921"
             ]
            ],
            "type": "histogram2d"
           }
          ],
          "histogram2dcontour": [
           {
            "colorbar": {
             "outlinewidth": 0,
             "ticks": ""
            },
            "colorscale": [
             [
              0,
              "#0d0887"
             ],
             [
              0.1111111111111111,
              "#46039f"
             ],
             [
              0.2222222222222222,
              "#7201a8"
             ],
             [
              0.3333333333333333,
              "#9c179e"
             ],
             [
              0.4444444444444444,
              "#bd3786"
             ],
             [
              0.5555555555555556,
              "#d8576b"
             ],
             [
              0.6666666666666666,
              "#ed7953"
             ],
             [
              0.7777777777777778,
              "#fb9f3a"
             ],
             [
              0.8888888888888888,
              "#fdca26"
             ],
             [
              1,
              "#f0f921"
             ]
            ],
            "type": "histogram2dcontour"
           }
          ],
          "mesh3d": [
           {
            "colorbar": {
             "outlinewidth": 0,
             "ticks": ""
            },
            "type": "mesh3d"
           }
          ],
          "parcoords": [
           {
            "line": {
             "colorbar": {
              "outlinewidth": 0,
              "ticks": ""
             }
            },
            "type": "parcoords"
           }
          ],
          "pie": [
           {
            "automargin": true,
            "type": "pie"
           }
          ],
          "scatter": [
           {
            "fillpattern": {
             "fillmode": "overlay",
             "size": 10,
             "solidity": 0.2
            },
            "type": "scatter"
           }
          ],
          "scatter3d": [
           {
            "line": {
             "colorbar": {
              "outlinewidth": 0,
              "ticks": ""
             }
            },
            "marker": {
             "colorbar": {
              "outlinewidth": 0,
              "ticks": ""
             }
            },
            "type": "scatter3d"
           }
          ],
          "scattercarpet": [
           {
            "marker": {
             "colorbar": {
              "outlinewidth": 0,
              "ticks": ""
             }
            },
            "type": "scattercarpet"
           }
          ],
          "scattergeo": [
           {
            "marker": {
             "colorbar": {
              "outlinewidth": 0,
              "ticks": ""
             }
            },
            "type": "scattergeo"
           }
          ],
          "scattergl": [
           {
            "marker": {
             "colorbar": {
              "outlinewidth": 0,
              "ticks": ""
             }
            },
            "type": "scattergl"
           }
          ],
          "scattermapbox": [
           {
            "marker": {
             "colorbar": {
              "outlinewidth": 0,
              "ticks": ""
             }
            },
            "type": "scattermapbox"
           }
          ],
          "scatterpolar": [
           {
            "marker": {
             "colorbar": {
              "outlinewidth": 0,
              "ticks": ""
             }
            },
            "type": "scatterpolar"
           }
          ],
          "scatterpolargl": [
           {
            "marker": {
             "colorbar": {
              "outlinewidth": 0,
              "ticks": ""
             }
            },
            "type": "scatterpolargl"
           }
          ],
          "scatterternary": [
           {
            "marker": {
             "colorbar": {
              "outlinewidth": 0,
              "ticks": ""
             }
            },
            "type": "scatterternary"
           }
          ],
          "surface": [
           {
            "colorbar": {
             "outlinewidth": 0,
             "ticks": ""
            },
            "colorscale": [
             [
              0,
              "#0d0887"
             ],
             [
              0.1111111111111111,
              "#46039f"
             ],
             [
              0.2222222222222222,
              "#7201a8"
             ],
             [
              0.3333333333333333,
              "#9c179e"
             ],
             [
              0.4444444444444444,
              "#bd3786"
             ],
             [
              0.5555555555555556,
              "#d8576b"
             ],
             [
              0.6666666666666666,
              "#ed7953"
             ],
             [
              0.7777777777777778,
              "#fb9f3a"
             ],
             [
              0.8888888888888888,
              "#fdca26"
             ],
             [
              1,
              "#f0f921"
             ]
            ],
            "type": "surface"
           }
          ],
          "table": [
           {
            "cells": {
             "fill": {
              "color": "#EBF0F8"
             },
             "line": {
              "color": "white"
             }
            },
            "header": {
             "fill": {
              "color": "#C8D4E3"
             },
             "line": {
              "color": "white"
             }
            },
            "type": "table"
           }
          ]
         },
         "layout": {
          "annotationdefaults": {
           "arrowcolor": "#2a3f5f",
           "arrowhead": 0,
           "arrowwidth": 1
          },
          "autotypenumbers": "strict",
          "coloraxis": {
           "colorbar": {
            "outlinewidth": 0,
            "ticks": ""
           }
          },
          "colorscale": {
           "diverging": [
            [
             0,
             "#8e0152"
            ],
            [
             0.1,
             "#c51b7d"
            ],
            [
             0.2,
             "#de77ae"
            ],
            [
             0.3,
             "#f1b6da"
            ],
            [
             0.4,
             "#fde0ef"
            ],
            [
             0.5,
             "#f7f7f7"
            ],
            [
             0.6,
             "#e6f5d0"
            ],
            [
             0.7,
             "#b8e186"
            ],
            [
             0.8,
             "#7fbc41"
            ],
            [
             0.9,
             "#4d9221"
            ],
            [
             1,
             "#276419"
            ]
           ],
           "sequential": [
            [
             0,
             "#0d0887"
            ],
            [
             0.1111111111111111,
             "#46039f"
            ],
            [
             0.2222222222222222,
             "#7201a8"
            ],
            [
             0.3333333333333333,
             "#9c179e"
            ],
            [
             0.4444444444444444,
             "#bd3786"
            ],
            [
             0.5555555555555556,
             "#d8576b"
            ],
            [
             0.6666666666666666,
             "#ed7953"
            ],
            [
             0.7777777777777778,
             "#fb9f3a"
            ],
            [
             0.8888888888888888,
             "#fdca26"
            ],
            [
             1,
             "#f0f921"
            ]
           ],
           "sequentialminus": [
            [
             0,
             "#0d0887"
            ],
            [
             0.1111111111111111,
             "#46039f"
            ],
            [
             0.2222222222222222,
             "#7201a8"
            ],
            [
             0.3333333333333333,
             "#9c179e"
            ],
            [
             0.4444444444444444,
             "#bd3786"
            ],
            [
             0.5555555555555556,
             "#d8576b"
            ],
            [
             0.6666666666666666,
             "#ed7953"
            ],
            [
             0.7777777777777778,
             "#fb9f3a"
            ],
            [
             0.8888888888888888,
             "#fdca26"
            ],
            [
             1,
             "#f0f921"
            ]
           ]
          },
          "colorway": [
           "#636efa",
           "#EF553B",
           "#00cc96",
           "#ab63fa",
           "#FFA15A",
           "#19d3f3",
           "#FF6692",
           "#B6E880",
           "#FF97FF",
           "#FECB52"
          ],
          "font": {
           "color": "#2a3f5f"
          },
          "geo": {
           "bgcolor": "white",
           "lakecolor": "white",
           "landcolor": "#E5ECF6",
           "showlakes": true,
           "showland": true,
           "subunitcolor": "white"
          },
          "hoverlabel": {
           "align": "left"
          },
          "hovermode": "closest",
          "mapbox": {
           "style": "light"
          },
          "paper_bgcolor": "white",
          "plot_bgcolor": "#E5ECF6",
          "polar": {
           "angularaxis": {
            "gridcolor": "white",
            "linecolor": "white",
            "ticks": ""
           },
           "bgcolor": "#E5ECF6",
           "radialaxis": {
            "gridcolor": "white",
            "linecolor": "white",
            "ticks": ""
           }
          },
          "scene": {
           "xaxis": {
            "backgroundcolor": "#E5ECF6",
            "gridcolor": "white",
            "gridwidth": 2,
            "linecolor": "white",
            "showbackground": true,
            "ticks": "",
            "zerolinecolor": "white"
           },
           "yaxis": {
            "backgroundcolor": "#E5ECF6",
            "gridcolor": "white",
            "gridwidth": 2,
            "linecolor": "white",
            "showbackground": true,
            "ticks": "",
            "zerolinecolor": "white"
           },
           "zaxis": {
            "backgroundcolor": "#E5ECF6",
            "gridcolor": "white",
            "gridwidth": 2,
            "linecolor": "white",
            "showbackground": true,
            "ticks": "",
            "zerolinecolor": "white"
           }
          },
          "shapedefaults": {
           "line": {
            "color": "#2a3f5f"
           }
          },
          "ternary": {
           "aaxis": {
            "gridcolor": "white",
            "linecolor": "white",
            "ticks": ""
           },
           "baxis": {
            "gridcolor": "white",
            "linecolor": "white",
            "ticks": ""
           },
           "bgcolor": "#E5ECF6",
           "caxis": {
            "gridcolor": "white",
            "linecolor": "white",
            "ticks": ""
           }
          },
          "title": {
           "x": 0.05
          },
          "xaxis": {
           "automargin": true,
           "gridcolor": "white",
           "linecolor": "white",
           "ticks": "",
           "title": {
            "standoff": 15
           },
           "zerolinecolor": "white",
           "zerolinewidth": 2
          },
          "yaxis": {
           "automargin": true,
           "gridcolor": "white",
           "linecolor": "white",
           "ticks": "",
           "title": {
            "standoff": 15
           },
           "zerolinecolor": "white",
           "zerolinewidth": 2
          }
         }
        },
        "title": {
         "text": "월별/장르별 총 관객 수(1990년대)"
        },
        "xaxis": {
         "tickmode": "array",
         "ticktext": [
          "1월",
          "2월",
          "3월",
          "4월",
          "5월",
          "6월",
          "7월",
          "8월",
          "9월",
          "10월",
          "11월",
          "12월"
         ],
         "tickvals": [
          1,
          2,
          3,
          4,
          5,
          6,
          7,
          8,
          9,
          10,
          11,
          12
         ],
         "title": {
          "text": "월"
         }
        },
        "yaxis": {
         "tickformat": ",",
         "title": {
          "text": "관객 수"
         }
        }
       }
      }
     },
     "metadata": {},
     "output_type": "display_data"
    },
    {
     "data": {
      "application/vnd.plotly.v1+json": {
       "config": {
        "plotlyServerURL": "https://plot.ly"
       },
       "data": [
        {
         "hoverinfo": "text",
         "hovertext": [
          "1월 <br>관객수 = 17,514,162<br>장르 = 드라마 (6개)",
          "2월 <br>관객수 = 9,537,279<br>장르 = 드라마 (4개)",
          "3월 <br>관객수 = 2,678,846<br>장르 = 드라마 (1개)",
          "4월 <br>관객수 = 9,056,387<br>장르 = 드라마 (5개)",
          "5월 <br>관객수 = 7,839,400<br>장르 = 드라마 (4개)",
          "6월 <br>관객수 = 10,367,103<br>장르 = 드라마 (4개)",
          "7월 <br>관객수 = 27,327,580<br>장르 = 드라마 (8개)",
          "8월 <br>관객수 = 8,007,964<br>장르 = 드라마 (5개)",
          "9월 <br>관객수 = 21,652,176<br>장르 = 드라마 (8개)",
          "10월 <br>관객수 = 7,572,982<br>장르 = 드라마 (5개)",
          "11월 <br>관객수 = 7,314,078<br>장르 = 드라마 (3개)",
          "12월 <br>관객수 = 21,562,958<br>장르 = 드라마 (4개)"
         ],
         "marker": {
          "color": "#FA0087"
         },
         "name": "드라마",
         "type": "bar",
         "x": [
          1,
          2,
          3,
          4,
          5,
          6,
          7,
          8,
          9,
          10,
          11,
          12
         ],
         "y": [
          17514162,
          9537279,
          2678846,
          9056387,
          7839400,
          10367103,
          27327580,
          8007964,
          21652176,
          7572982,
          7314078,
          21562958
         ]
        },
        {
         "hoverinfo": "text",
         "hovertext": [
          "1월 <br>관객수 = 13,216,181<br>장르 = 코미디 (6개)",
          "2월 <br>관객수 = 14,114,859<br>장르 = 코미디 (7개)",
          "3월 <br>관객수 = 10,813,039<br>장르 = 코미디 (5개)",
          "4월 <br>관객수 = 8,311,529<br>장르 = 코미디 (3개)",
          "5월 <br>관객수 = 1,304,431<br>장르 = 코미디 (1개)",
          "6월 <br>관객수 = 5,540,659<br>장르 = 코미디 (3개)",
          "7월 <br>관객수 = 5,210,734<br>장르 = 코미디 (3개)",
          "8월 <br>관객수 = 3,293,814<br>장르 = 코미디 (2개)",
          "9월 <br>관객수 = 19,783,467<br>장르 = 코미디 (7개)",
          "10월 <br>관객수 = 12,889,393<br>장르 = 코미디 (6개)",
          "11월 <br>관객수 = 4,858,855<br>장르 = 코미디 (3개)",
          "12월 <br>관객수 = 19,681,465<br>장르 = 코미디 (6개)"
         ],
         "marker": {
          "color": "#3283FE"
         },
         "name": "코미디",
         "type": "bar",
         "x": [
          1,
          2,
          3,
          4,
          5,
          6,
          7,
          8,
          9,
          10,
          11,
          12
         ],
         "y": [
          13216181,
          14114859,
          10813039,
          8311529,
          1304431,
          5540659,
          5210734,
          3293814,
          19783467,
          12889393,
          4858855,
          19681465
         ]
        },
        {
         "hoverinfo": "text",
         "hovertext": [
          "1월 <br>관객수 = 4,678,253<br>장르 = 액션 (2개)",
          "2월 <br>관객수 = 0<br>장르 = 액션 (0개)",
          "3월 <br>관객수 = 0<br>장르 = 액션 (0개)",
          "4월 <br>관객수 = 5,426,311<br>장르 = 액션 (3개)",
          "5월 <br>관객수 = 1,196,520<br>장르 = 액션 (1개)",
          "6월 <br>관객수 = 2,047,808<br>장르 = 액션 (1개)",
          "7월 <br>관객수 = 14,485,686<br>장르 = 액션 (3개)",
          "8월 <br>관객수 = 10,773,419<br>장르 = 액션 (2개)",
          "9월 <br>관객수 = 3,165,765<br>장르 = 액션 (2개)",
          "10월 <br>관객수 = 0<br>장르 = 액션 (0개)",
          "11월 <br>관객수 = 2,805,394<br>장르 = 액션 (2개)",
          "12월 <br>관객수 = 9,358,613<br>장르 = 액션 (3개)"
         ],
         "marker": {
          "color": "#565656"
         },
         "name": "액션",
         "type": "bar",
         "x": [
          1,
          2,
          3,
          4,
          5,
          6,
          7,
          8,
          9,
          10,
          11,
          12
         ],
         "y": [
          4678253,
          0,
          0,
          5426311,
          1196520,
          2047808,
          14485686,
          10773419,
          3165765,
          0,
          2805394,
          9358613
         ]
        },
        {
         "hoverinfo": "text",
         "hovertext": [
          "1월 <br>관객수 = 0<br>장르 = 전쟁 (0개)",
          "2월 <br>관객수 = 11,746,135<br>장르 = 전쟁 (1개)",
          "3월 <br>관객수 = 0<br>장르 = 전쟁 (0개)",
          "4월 <br>관객수 = 0<br>장르 = 전쟁 (0개)",
          "5월 <br>관객수 = 0<br>장르 = 전쟁 (0개)",
          "6월 <br>관객수 = 0<br>장르 = 전쟁 (0개)",
          "7월 <br>관객수 = 0<br>장르 = 전쟁 (0개)",
          "8월 <br>관객수 = 9,697,622<br>장르 = 전쟁 (2개)",
          "9월 <br>관객수 = 0<br>장르 = 전쟁 (0개)",
          "10월 <br>관객수 = 0<br>장르 = 전쟁 (0개)",
          "11월 <br>관객수 = 0<br>장르 = 전쟁 (0개)",
          "12월 <br>관객수 = 11,081,000<br>장르 = 전쟁 (1개)"
         ],
         "marker": {
          "color": "#F7E1A0"
         },
         "name": "전쟁",
         "type": "bar",
         "x": [
          1,
          2,
          3,
          4,
          5,
          6,
          7,
          8,
          9,
          10,
          11,
          12
         ],
         "y": [
          0,
          11746135,
          0,
          0,
          0,
          0,
          0,
          9697622,
          0,
          0,
          0,
          11081000
         ]
        },
        {
         "hoverinfo": "text",
         "hovertext": [
          "1월 <br>관객수 = 1,299,274<br>장르 = 멜로/로맨스 (1개)",
          "2월 <br>관객수 = 1,123,294<br>장르 = 멜로/로맨스 (1개)",
          "3월 <br>관객수 = 0<br>장르 = 멜로/로맨스 (0개)",
          "4월 <br>관객수 = 0<br>장르 = 멜로/로맨스 (0개)",
          "5월 <br>관객수 = 1,163,274<br>장르 = 멜로/로맨스 (1개)",
          "6월 <br>관객수 = 2,199,359<br>장르 = 멜로/로맨스 (1개)",
          "7월 <br>관객수 = 0<br>장르 = 멜로/로맨스 (0개)",
          "8월 <br>관객수 = 0<br>장르 = 멜로/로맨스 (0개)",
          "9월 <br>관객수 = 8,068,389<br>장르 = 멜로/로맨스 (4개)",
          "10월 <br>관객수 = 4,321,851<br>장르 = 멜로/로맨스 (2개)",
          "11월 <br>관객수 = 3,886,083<br>장르 = 멜로/로맨스 (2개)",
          "12월 <br>관객수 = 6,619,498<br>장르 = 멜로/로맨스 (1개)"
         ],
         "marker": {
          "color": "#DEA0FD"
         },
         "name": "멜로/로맨스",
         "type": "bar",
         "x": [
          1,
          2,
          3,
          4,
          5,
          6,
          7,
          8,
          9,
          10,
          11,
          12
         ],
         "y": [
          1299274,
          1123294,
          0,
          0,
          1163274,
          2199359,
          0,
          0,
          8068389,
          4321851,
          3886083,
          6619498
         ]
        },
        {
         "hoverinfo": "text",
         "hovertext": [
          "1월 <br>관객수 = 1,496,214<br>장르 = 스릴러 (1개)",
          "2월 <br>관객수 = 0<br>장르 = 스릴러 (0개)",
          "3월 <br>관객수 = 0<br>장르 = 스릴러 (0개)",
          "4월 <br>관객수 = 9,671,479<br>장르 = 스릴러 (3개)",
          "5월 <br>관객수 = 3,332,306<br>장르 = 스릴러 (2개)",
          "6월 <br>관객수 = 1,408,882<br>장르 = 스릴러 (1개)",
          "7월 <br>관객수 = 3,650,000<br>장르 = 스릴러 (1개)",
          "8월 <br>관객수 = 0<br>장르 = 스릴러 (0개)",
          "9월 <br>관객수 = 0<br>장르 = 스릴러 (0개)",
          "10월 <br>관객수 = 1,437,549<br>장르 = 스릴러 (1개)",
          "11월 <br>관객수 = 5,389,741<br>장르 = 스릴러 (2개)",
          "12월 <br>관객수 = 1,046,787<br>장르 = 스릴러 (1개)"
         ],
         "marker": {
          "color": "#FE00FA"
         },
         "name": "스릴러",
         "type": "bar",
         "x": [
          1,
          2,
          3,
          4,
          5,
          6,
          7,
          8,
          9,
          10,
          11,
          12
         ],
         "y": [
          1496214,
          0,
          0,
          9671479,
          3332306,
          1408882,
          3650000,
          0,
          0,
          1437549,
          5389741,
          1046787
         ]
        },
        {
         "hoverinfo": "text",
         "hovertext": [
          "1월 <br>관객수 = 0<br>장르 = 공포(호러) (0개)",
          "2월 <br>관객수 = 0<br>장르 = 공포(호러) (0개)",
          "3월 <br>관객수 = 0<br>장르 = 공포(호러) (0개)",
          "4월 <br>관객수 = 4,496,782<br>장르 = 공포(호러) (2개)",
          "5월 <br>관객수 = 0<br>장르 = 공포(호러) (0개)",
          "6월 <br>관객수 = 6,748,507<br>장르 = 공포(호러) (4개)",
          "7월 <br>관객수 = 0<br>장르 = 공포(호러) (0개)",
          "8월 <br>관객수 = 3,418,530<br>장르 = 공포(호러) (2개)",
          "9월 <br>관객수 = 0<br>장르 = 공포(호러) (0개)",
          "10월 <br>관객수 = 0<br>장르 = 공포(호러) (0개)",
          "11월 <br>관객수 = 0<br>장르 = 공포(호러) (0개)",
          "12월 <br>관객수 = 0<br>장르 = 공포(호러) (0개)"
         ],
         "marker": {
          "color": "#FEAF16"
         },
         "name": "공포(호러)",
         "type": "bar",
         "x": [
          1,
          2,
          3,
          4,
          5,
          6,
          7,
          8,
          9,
          10,
          11,
          12
         ],
         "y": [
          0,
          0,
          0,
          4496782,
          0,
          6748507,
          0,
          3418530,
          0,
          0,
          0,
          0
         ]
        },
        {
         "hoverinfo": "text",
         "hovertext": [
          "1월 <br>관객수 = 0<br>장르 = SF (0개)",
          "2월 <br>관객수 = 0<br>장르 = SF (0개)",
          "3월 <br>관객수 = 0<br>장르 = SF (0개)",
          "4월 <br>관객수 = 0<br>장르 = SF (0개)",
          "5월 <br>관객수 = 0<br>장르 = SF (0개)",
          "6월 <br>관객수 = 0<br>장르 = SF (0개)",
          "7월 <br>관객수 = 13,019,740<br>장르 = SF (1개)",
          "8월 <br>관객수 = 0<br>장르 = SF (0개)",
          "9월 <br>관객수 = 0<br>장르 = SF (0개)",
          "10월 <br>관객수 = 0<br>장르 = SF (0개)",
          "11월 <br>관객수 = 0<br>장르 = SF (0개)",
          "12월 <br>관객수 = 0<br>장르 = SF (0개)"
         ],
         "marker": {
          "color": "#1C8356"
         },
         "name": "SF",
         "type": "bar",
         "x": [
          1,
          2,
          3,
          4,
          5,
          6,
          7,
          8,
          9,
          10,
          11,
          12
         ],
         "y": [
          0,
          0,
          0,
          0,
          0,
          0,
          13019740,
          0,
          0,
          0,
          0,
          0
         ]
        },
        {
         "hoverinfo": "text",
         "hovertext": [
          "1월 <br>관객수 = 2,775,228<br>장르 = 범죄 (2개)",
          "2월 <br>관객수 = 6,606,026<br>장르 = 범죄 (2개)",
          "3월 <br>관객수 = 0<br>장르 = 범죄 (0개)",
          "4월 <br>관객수 = 0<br>장르 = 범죄 (0개)",
          "5월 <br>관객수 = 1,571,931<br>장르 = 범죄 (1개)",
          "6월 <br>관객수 = 0<br>장르 = 범죄 (0개)",
          "7월 <br>관객수 = 2,058,764<br>장르 = 범죄 (1개)",
          "8월 <br>관객수 = 0<br>장르 = 범죄 (0개)",
          "9월 <br>관객수 = 0<br>장르 = 범죄 (0개)",
          "10월 <br>관객수 = 0<br>장르 = 범죄 (0개)",
          "11월 <br>관객수 = 0<br>장르 = 범죄 (0개)",
          "12월 <br>관객수 = 0<br>장르 = 범죄 (0개)"
         ],
         "marker": {
          "color": "#16FF32"
         },
         "name": "범죄",
         "type": "bar",
         "x": [
          1,
          2,
          3,
          4,
          5,
          6,
          7,
          8,
          9,
          10,
          11,
          12
         ],
         "y": [
          2775228,
          6606026,
          0,
          0,
          1571931,
          0,
          2058764,
          0,
          0,
          0,
          0,
          0
         ]
        },
        {
         "hoverinfo": "text",
         "hovertext": [
          "1월 <br>관객수 = 0<br>장르 = 사극 (0개)",
          "2월 <br>관객수 = 2,576,022<br>장르 = 사극 (1개)",
          "3월 <br>관객수 = 0<br>장르 = 사극 (0개)",
          "4월 <br>관객수 = 0<br>장르 = 사극 (0개)",
          "5월 <br>관객수 = 0<br>장르 = 사극 (0개)",
          "6월 <br>관객수 = 0<br>장르 = 사극 (0개)",
          "7월 <br>관객수 = 0<br>장르 = 사극 (0개)",
          "8월 <br>관객수 = 0<br>장르 = 사극 (0개)",
          "9월 <br>관객수 = 3,726,134<br>장르 = 사극 (1개)",
          "10월 <br>관객수 = 3,522,747<br>장르 = 사극 (1개)",
          "11월 <br>관객수 = 2,325,715<br>장르 = 사극 (1개)",
          "12월 <br>관객수 = 0<br>장르 = 사극 (0개)"
         ],
         "marker": {
          "color": "#AA0DFE"
         },
         "name": "사극",
         "type": "bar",
         "x": [
          1,
          2,
          3,
          4,
          5,
          6,
          7,
          8,
          9,
          10,
          11,
          12
         ],
         "y": [
          0,
          2576022,
          0,
          0,
          0,
          0,
          0,
          0,
          3726134,
          3522747,
          2325715,
          0
         ]
        },
        {
         "hoverinfo": "text",
         "hovertext": [
          "1월 <br>관객수 = 0<br>장르 = 서부극(웨스턴) (0개)",
          "2월 <br>관객수 = 0<br>장르 = 서부극(웨스턴) (0개)",
          "3월 <br>관객수 = 0<br>장르 = 서부극(웨스턴) (0개)",
          "4월 <br>관객수 = 0<br>장르 = 서부극(웨스턴) (0개)",
          "5월 <br>관객수 = 0<br>장르 = 서부극(웨스턴) (0개)",
          "6월 <br>관객수 = 0<br>장르 = 서부극(웨스턴) (0개)",
          "7월 <br>관객수 = 6,686,912<br>장르 = 서부극(웨스턴) (1개)",
          "8월 <br>관객수 = 0<br>장르 = 서부극(웨스턴) (0개)",
          "9월 <br>관객수 = 0<br>장르 = 서부극(웨스턴) (0개)",
          "10월 <br>관객수 = 0<br>장르 = 서부극(웨스턴) (0개)",
          "11월 <br>관객수 = 0<br>장르 = 서부극(웨스턴) (0개)",
          "12월 <br>관객수 = 0<br>장르 = 서부극(웨스턴) (0개)"
         ],
         "marker": {
          "color": "#C4451C"
         },
         "name": "서부극(웨스턴)",
         "type": "bar",
         "x": [
          1,
          2,
          3,
          4,
          5,
          6,
          7,
          8,
          9,
          10,
          11,
          12
         ],
         "y": [
          0,
          0,
          0,
          0,
          0,
          0,
          6686912,
          0,
          0,
          0,
          0,
          0
         ]
        },
        {
         "hoverinfo": "text",
         "hovertext": [
          "1월 <br>관객수 = 0<br>장르 = 미스터리 (0개)",
          "2월 <br>관객수 = 1,083,962<br>장르 = 미스터리 (1개)",
          "3월 <br>관객수 = 0<br>장르 = 미스터리 (0개)",
          "4월 <br>관객수 = 1,914,779<br>장르 = 미스터리 (1개)",
          "5월 <br>관객수 = 0<br>장르 = 미스터리 (0개)",
          "6월 <br>관객수 = 0<br>장르 = 미스터리 (0개)",
          "7월 <br>관객수 = 0<br>장르 = 미스터리 (0개)",
          "8월 <br>관객수 = 0<br>장르 = 미스터리 (0개)",
          "9월 <br>관객수 = 0<br>장르 = 미스터리 (0개)",
          "10월 <br>관객수 = 1,438,531<br>장르 = 미스터리 (1개)",
          "11월 <br>관객수 = 0<br>장르 = 미스터리 (0개)",
          "12월 <br>관객수 = 0<br>장르 = 미스터리 (0개)"
         ],
         "marker": {
          "color": "#FBE426"
         },
         "name": "미스터리",
         "type": "bar",
         "x": [
          1,
          2,
          3,
          4,
          5,
          6,
          7,
          8,
          9,
          10,
          11,
          12
         ],
         "y": [
          0,
          1083962,
          0,
          1914779,
          0,
          0,
          0,
          0,
          0,
          1438531,
          0,
          0
         ]
        },
        {
         "hoverinfo": "text",
         "hovertext": [
          "1월 <br>관객수 = 2,962,897<br>장르 = 다큐멘터리 (1개)",
          "2월 <br>관객수 = 0<br>장르 = 다큐멘터리 (0개)",
          "3월 <br>관객수 = 0<br>장르 = 다큐멘터리 (0개)",
          "4월 <br>관객수 = 0<br>장르 = 다큐멘터리 (0개)",
          "5월 <br>관객수 = 0<br>장르 = 다큐멘터리 (0개)",
          "6월 <br>관객수 = 0<br>장르 = 다큐멘터리 (0개)",
          "7월 <br>관객수 = 0<br>장르 = 다큐멘터리 (0개)",
          "8월 <br>관객수 = 0<br>장르 = 다큐멘터리 (0개)",
          "9월 <br>관객수 = 0<br>장르 = 다큐멘터리 (0개)",
          "10월 <br>관객수 = 0<br>장르 = 다큐멘터리 (0개)",
          "11월 <br>관객수 = 0<br>장르 = 다큐멘터리 (0개)",
          "12월 <br>관객수 = 0<br>장르 = 다큐멘터리 (0개)"
         ],
         "marker": {
          "color": "#325A9B"
         },
         "name": "다큐멘터리",
         "type": "bar",
         "x": [
          1,
          2,
          3,
          4,
          5,
          6,
          7,
          8,
          9,
          10,
          11,
          12
         ],
         "y": [
          2962897,
          0,
          0,
          0,
          0,
          0,
          0,
          0,
          0,
          0,
          0,
          0
         ]
        }
       ],
       "layout": {
        "barmode": "stack",
        "legend": {
         "title": {
          "text": "장르"
         }
        },
        "template": {
         "data": {
          "bar": [
           {
            "error_x": {
             "color": "#2a3f5f"
            },
            "error_y": {
             "color": "#2a3f5f"
            },
            "marker": {
             "line": {
              "color": "#E5ECF6",
              "width": 0.5
             },
             "pattern": {
              "fillmode": "overlay",
              "size": 10,
              "solidity": 0.2
             }
            },
            "type": "bar"
           }
          ],
          "barpolar": [
           {
            "marker": {
             "line": {
              "color": "#E5ECF6",
              "width": 0.5
             },
             "pattern": {
              "fillmode": "overlay",
              "size": 10,
              "solidity": 0.2
             }
            },
            "type": "barpolar"
           }
          ],
          "carpet": [
           {
            "aaxis": {
             "endlinecolor": "#2a3f5f",
             "gridcolor": "white",
             "linecolor": "white",
             "minorgridcolor": "white",
             "startlinecolor": "#2a3f5f"
            },
            "baxis": {
             "endlinecolor": "#2a3f5f",
             "gridcolor": "white",
             "linecolor": "white",
             "minorgridcolor": "white",
             "startlinecolor": "#2a3f5f"
            },
            "type": "carpet"
           }
          ],
          "choropleth": [
           {
            "colorbar": {
             "outlinewidth": 0,
             "ticks": ""
            },
            "type": "choropleth"
           }
          ],
          "contour": [
           {
            "colorbar": {
             "outlinewidth": 0,
             "ticks": ""
            },
            "colorscale": [
             [
              0,
              "#0d0887"
             ],
             [
              0.1111111111111111,
              "#46039f"
             ],
             [
              0.2222222222222222,
              "#7201a8"
             ],
             [
              0.3333333333333333,
              "#9c179e"
             ],
             [
              0.4444444444444444,
              "#bd3786"
             ],
             [
              0.5555555555555556,
              "#d8576b"
             ],
             [
              0.6666666666666666,
              "#ed7953"
             ],
             [
              0.7777777777777778,
              "#fb9f3a"
             ],
             [
              0.8888888888888888,
              "#fdca26"
             ],
             [
              1,
              "#f0f921"
             ]
            ],
            "type": "contour"
           }
          ],
          "contourcarpet": [
           {
            "colorbar": {
             "outlinewidth": 0,
             "ticks": ""
            },
            "type": "contourcarpet"
           }
          ],
          "heatmap": [
           {
            "colorbar": {
             "outlinewidth": 0,
             "ticks": ""
            },
            "colorscale": [
             [
              0,
              "#0d0887"
             ],
             [
              0.1111111111111111,
              "#46039f"
             ],
             [
              0.2222222222222222,
              "#7201a8"
             ],
             [
              0.3333333333333333,
              "#9c179e"
             ],
             [
              0.4444444444444444,
              "#bd3786"
             ],
             [
              0.5555555555555556,
              "#d8576b"
             ],
             [
              0.6666666666666666,
              "#ed7953"
             ],
             [
              0.7777777777777778,
              "#fb9f3a"
             ],
             [
              0.8888888888888888,
              "#fdca26"
             ],
             [
              1,
              "#f0f921"
             ]
            ],
            "type": "heatmap"
           }
          ],
          "heatmapgl": [
           {
            "colorbar": {
             "outlinewidth": 0,
             "ticks": ""
            },
            "colorscale": [
             [
              0,
              "#0d0887"
             ],
             [
              0.1111111111111111,
              "#46039f"
             ],
             [
              0.2222222222222222,
              "#7201a8"
             ],
             [
              0.3333333333333333,
              "#9c179e"
             ],
             [
              0.4444444444444444,
              "#bd3786"
             ],
             [
              0.5555555555555556,
              "#d8576b"
             ],
             [
              0.6666666666666666,
              "#ed7953"
             ],
             [
              0.7777777777777778,
              "#fb9f3a"
             ],
             [
              0.8888888888888888,
              "#fdca26"
             ],
             [
              1,
              "#f0f921"
             ]
            ],
            "type": "heatmapgl"
           }
          ],
          "histogram": [
           {
            "marker": {
             "pattern": {
              "fillmode": "overlay",
              "size": 10,
              "solidity": 0.2
             }
            },
            "type": "histogram"
           }
          ],
          "histogram2d": [
           {
            "colorbar": {
             "outlinewidth": 0,
             "ticks": ""
            },
            "colorscale": [
             [
              0,
              "#0d0887"
             ],
             [
              0.1111111111111111,
              "#46039f"
             ],
             [
              0.2222222222222222,
              "#7201a8"
             ],
             [
              0.3333333333333333,
              "#9c179e"
             ],
             [
              0.4444444444444444,
              "#bd3786"
             ],
             [
              0.5555555555555556,
              "#d8576b"
             ],
             [
              0.6666666666666666,
              "#ed7953"
             ],
             [
              0.7777777777777778,
              "#fb9f3a"
             ],
             [
              0.8888888888888888,
              "#fdca26"
             ],
             [
              1,
              "#f0f921"
             ]
            ],
            "type": "histogram2d"
           }
          ],
          "histogram2dcontour": [
           {
            "colorbar": {
             "outlinewidth": 0,
             "ticks": ""
            },
            "colorscale": [
             [
              0,
              "#0d0887"
             ],
             [
              0.1111111111111111,
              "#46039f"
             ],
             [
              0.2222222222222222,
              "#7201a8"
             ],
             [
              0.3333333333333333,
              "#9c179e"
             ],
             [
              0.4444444444444444,
              "#bd3786"
             ],
             [
              0.5555555555555556,
              "#d8576b"
             ],
             [
              0.6666666666666666,
              "#ed7953"
             ],
             [
              0.7777777777777778,
              "#fb9f3a"
             ],
             [
              0.8888888888888888,
              "#fdca26"
             ],
             [
              1,
              "#f0f921"
             ]
            ],
            "type": "histogram2dcontour"
           }
          ],
          "mesh3d": [
           {
            "colorbar": {
             "outlinewidth": 0,
             "ticks": ""
            },
            "type": "mesh3d"
           }
          ],
          "parcoords": [
           {
            "line": {
             "colorbar": {
              "outlinewidth": 0,
              "ticks": ""
             }
            },
            "type": "parcoords"
           }
          ],
          "pie": [
           {
            "automargin": true,
            "type": "pie"
           }
          ],
          "scatter": [
           {
            "fillpattern": {
             "fillmode": "overlay",
             "size": 10,
             "solidity": 0.2
            },
            "type": "scatter"
           }
          ],
          "scatter3d": [
           {
            "line": {
             "colorbar": {
              "outlinewidth": 0,
              "ticks": ""
             }
            },
            "marker": {
             "colorbar": {
              "outlinewidth": 0,
              "ticks": ""
             }
            },
            "type": "scatter3d"
           }
          ],
          "scattercarpet": [
           {
            "marker": {
             "colorbar": {
              "outlinewidth": 0,
              "ticks": ""
             }
            },
            "type": "scattercarpet"
           }
          ],
          "scattergeo": [
           {
            "marker": {
             "colorbar": {
              "outlinewidth": 0,
              "ticks": ""
             }
            },
            "type": "scattergeo"
           }
          ],
          "scattergl": [
           {
            "marker": {
             "colorbar": {
              "outlinewidth": 0,
              "ticks": ""
             }
            },
            "type": "scattergl"
           }
          ],
          "scattermapbox": [
           {
            "marker": {
             "colorbar": {
              "outlinewidth": 0,
              "ticks": ""
             }
            },
            "type": "scattermapbox"
           }
          ],
          "scatterpolar": [
           {
            "marker": {
             "colorbar": {
              "outlinewidth": 0,
              "ticks": ""
             }
            },
            "type": "scatterpolar"
           }
          ],
          "scatterpolargl": [
           {
            "marker": {
             "colorbar": {
              "outlinewidth": 0,
              "ticks": ""
             }
            },
            "type": "scatterpolargl"
           }
          ],
          "scatterternary": [
           {
            "marker": {
             "colorbar": {
              "outlinewidth": 0,
              "ticks": ""
             }
            },
            "type": "scatterternary"
           }
          ],
          "surface": [
           {
            "colorbar": {
             "outlinewidth": 0,
             "ticks": ""
            },
            "colorscale": [
             [
              0,
              "#0d0887"
             ],
             [
              0.1111111111111111,
              "#46039f"
             ],
             [
              0.2222222222222222,
              "#7201a8"
             ],
             [
              0.3333333333333333,
              "#9c179e"
             ],
             [
              0.4444444444444444,
              "#bd3786"
             ],
             [
              0.5555555555555556,
              "#d8576b"
             ],
             [
              0.6666666666666666,
              "#ed7953"
             ],
             [
              0.7777777777777778,
              "#fb9f3a"
             ],
             [
              0.8888888888888888,
              "#fdca26"
             ],
             [
              1,
              "#f0f921"
             ]
            ],
            "type": "surface"
           }
          ],
          "table": [
           {
            "cells": {
             "fill": {
              "color": "#EBF0F8"
             },
             "line": {
              "color": "white"
             }
            },
            "header": {
             "fill": {
              "color": "#C8D4E3"
             },
             "line": {
              "color": "white"
             }
            },
            "type": "table"
           }
          ]
         },
         "layout": {
          "annotationdefaults": {
           "arrowcolor": "#2a3f5f",
           "arrowhead": 0,
           "arrowwidth": 1
          },
          "autotypenumbers": "strict",
          "coloraxis": {
           "colorbar": {
            "outlinewidth": 0,
            "ticks": ""
           }
          },
          "colorscale": {
           "diverging": [
            [
             0,
             "#8e0152"
            ],
            [
             0.1,
             "#c51b7d"
            ],
            [
             0.2,
             "#de77ae"
            ],
            [
             0.3,
             "#f1b6da"
            ],
            [
             0.4,
             "#fde0ef"
            ],
            [
             0.5,
             "#f7f7f7"
            ],
            [
             0.6,
             "#e6f5d0"
            ],
            [
             0.7,
             "#b8e186"
            ],
            [
             0.8,
             "#7fbc41"
            ],
            [
             0.9,
             "#4d9221"
            ],
            [
             1,
             "#276419"
            ]
           ],
           "sequential": [
            [
             0,
             "#0d0887"
            ],
            [
             0.1111111111111111,
             "#46039f"
            ],
            [
             0.2222222222222222,
             "#7201a8"
            ],
            [
             0.3333333333333333,
             "#9c179e"
            ],
            [
             0.4444444444444444,
             "#bd3786"
            ],
            [
             0.5555555555555556,
             "#d8576b"
            ],
            [
             0.6666666666666666,
             "#ed7953"
            ],
            [
             0.7777777777777778,
             "#fb9f3a"
            ],
            [
             0.8888888888888888,
             "#fdca26"
            ],
            [
             1,
             "#f0f921"
            ]
           ],
           "sequentialminus": [
            [
             0,
             "#0d0887"
            ],
            [
             0.1111111111111111,
             "#46039f"
            ],
            [
             0.2222222222222222,
             "#7201a8"
            ],
            [
             0.3333333333333333,
             "#9c179e"
            ],
            [
             0.4444444444444444,
             "#bd3786"
            ],
            [
             0.5555555555555556,
             "#d8576b"
            ],
            [
             0.6666666666666666,
             "#ed7953"
            ],
            [
             0.7777777777777778,
             "#fb9f3a"
            ],
            [
             0.8888888888888888,
             "#fdca26"
            ],
            [
             1,
             "#f0f921"
            ]
           ]
          },
          "colorway": [
           "#636efa",
           "#EF553B",
           "#00cc96",
           "#ab63fa",
           "#FFA15A",
           "#19d3f3",
           "#FF6692",
           "#B6E880",
           "#FF97FF",
           "#FECB52"
          ],
          "font": {
           "color": "#2a3f5f"
          },
          "geo": {
           "bgcolor": "white",
           "lakecolor": "white",
           "landcolor": "#E5ECF6",
           "showlakes": true,
           "showland": true,
           "subunitcolor": "white"
          },
          "hoverlabel": {
           "align": "left"
          },
          "hovermode": "closest",
          "mapbox": {
           "style": "light"
          },
          "paper_bgcolor": "white",
          "plot_bgcolor": "#E5ECF6",
          "polar": {
           "angularaxis": {
            "gridcolor": "white",
            "linecolor": "white",
            "ticks": ""
           },
           "bgcolor": "#E5ECF6",
           "radialaxis": {
            "gridcolor": "white",
            "linecolor": "white",
            "ticks": ""
           }
          },
          "scene": {
           "xaxis": {
            "backgroundcolor": "#E5ECF6",
            "gridcolor": "white",
            "gridwidth": 2,
            "linecolor": "white",
            "showbackground": true,
            "ticks": "",
            "zerolinecolor": "white"
           },
           "yaxis": {
            "backgroundcolor": "#E5ECF6",
            "gridcolor": "white",
            "gridwidth": 2,
            "linecolor": "white",
            "showbackground": true,
            "ticks": "",
            "zerolinecolor": "white"
           },
           "zaxis": {
            "backgroundcolor": "#E5ECF6",
            "gridcolor": "white",
            "gridwidth": 2,
            "linecolor": "white",
            "showbackground": true,
            "ticks": "",
            "zerolinecolor": "white"
           }
          },
          "shapedefaults": {
           "line": {
            "color": "#2a3f5f"
           }
          },
          "ternary": {
           "aaxis": {
            "gridcolor": "white",
            "linecolor": "white",
            "ticks": ""
           },
           "baxis": {
            "gridcolor": "white",
            "linecolor": "white",
            "ticks": ""
           },
           "bgcolor": "#E5ECF6",
           "caxis": {
            "gridcolor": "white",
            "linecolor": "white",
            "ticks": ""
           }
          },
          "title": {
           "x": 0.05
          },
          "xaxis": {
           "automargin": true,
           "gridcolor": "white",
           "linecolor": "white",
           "ticks": "",
           "title": {
            "standoff": 15
           },
           "zerolinecolor": "white",
           "zerolinewidth": 2
          },
          "yaxis": {
           "automargin": true,
           "gridcolor": "white",
           "linecolor": "white",
           "ticks": "",
           "title": {
            "standoff": 15
           },
           "zerolinecolor": "white",
           "zerolinewidth": 2
          }
         }
        },
        "title": {
         "text": "월별/장르별 총 관객 수(2000년대)"
        },
        "xaxis": {
         "tickmode": "array",
         "ticktext": [
          "1월",
          "2월",
          "3월",
          "4월",
          "5월",
          "6월",
          "7월",
          "8월",
          "9월",
          "10월",
          "11월",
          "12월"
         ],
         "tickvals": [
          1,
          2,
          3,
          4,
          5,
          6,
          7,
          8,
          9,
          10,
          11,
          12
         ],
         "title": {
          "text": "월"
         }
        },
        "yaxis": {
         "tickformat": ",",
         "title": {
          "text": "관객 수"
         }
        }
       }
      }
     },
     "metadata": {},
     "output_type": "display_data"
    },
    {
     "data": {
      "application/vnd.plotly.v1+json": {
       "config": {
        "plotlyServerURL": "https://plot.ly"
       },
       "data": [
        {
         "hoverinfo": "text",
         "hovertext": [
          "1월 <br>관객수 = 21,008,277<br>장르 = 드라마 (6개)",
          "2월 <br>관객수 = 19,526,849<br>장르 = 드라마 (8개)",
          "3월 <br>관객수 = 3,335,417<br>장르 = 드라마 (2개)",
          "4월 <br>관객수 = 4,303,913<br>장르 = 드라마 (3개)",
          "5월 <br>관객수 = 25,893,070<br>장르 = 드라마 (8개)",
          "6월 <br>관객수 = 14,649,450<br>장르 = 드라마 (4개)",
          "7월 <br>관객수 = 7,383,566<br>장르 = 드라마 (3개)",
          "8월 <br>관객수 = 28,876,199<br>장르 = 드라마 (5개)",
          "9월 <br>관객수 = 13,185,111<br>장르 = 드라마 (5개)",
          "10월 <br>관객수 = 21,128,825<br>장르 = 드라마 (7개)",
          "11월 <br>관객수 = 3,754,983<br>장르 = 드라마 (1개)",
          "12월 <br>관객수 = 58,537,489<br>장르 = 드라마 (10개)"
         ],
         "marker": {
          "color": "#FA0087"
         },
         "name": "드라마",
         "type": "bar",
         "x": [
          1,
          2,
          3,
          4,
          5,
          6,
          7,
          8,
          9,
          10,
          11,
          12
         ],
         "y": [
          21008277,
          19526849,
          3335417,
          4303913,
          25893070,
          14649450,
          7383566,
          28876199,
          13185111,
          21128825,
          3754983,
          58537489
         ]
        },
        {
         "hoverinfo": "text",
         "hovertext": [
          "1월 <br>관객수 = 17,175,817<br>장르 = 액션 (3개)",
          "2월 <br>관객수 = 0<br>장르 = 액션 (0개)",
          "3월 <br>관객수 = 0<br>장르 = 액션 (0개)",
          "4월 <br>관객수 = 4,264,632<br>장르 = 액션 (2개)",
          "5월 <br>관객수 = 3,450,305<br>장르 = 액션 (1개)",
          "6월 <br>관객수 = 9,261,568<br>장르 = 액션 (3개)",
          "7월 <br>관객수 = 43,846,660<br>장르 = 액션 (4개)",
          "8월 <br>관객수 = 26,551,997<br>장르 = 액션 (4개)",
          "9월 <br>관객수 = 12,809,548<br>장르 = 액션 (3개)",
          "10월 <br>관객수 = 3,504,989<br>장르 = 액션 (2개)",
          "11월 <br>관객수 = 12,008,708<br>장르 = 액션 (6개)",
          "12월 <br>관객수 = 17,406,077<br>장르 = 액션 (4개)"
         ],
         "marker": {
          "color": "#565656"
         },
         "name": "액션",
         "type": "bar",
         "x": [
          1,
          2,
          3,
          4,
          5,
          6,
          7,
          8,
          9,
          10,
          11,
          12
         ],
         "y": [
          17175817,
          0,
          0,
          4264632,
          3450305,
          9261568,
          43846660,
          26551997,
          12809548,
          3504989,
          12008708,
          17406077
         ]
        },
        {
         "hoverinfo": "text",
         "hovertext": [
          "1월 <br>관객수 = 8,287,277<br>장르 = 범죄 (3개)",
          "2월 <br>관객수 = 27,713,796<br>장르 = 범죄 (8개)",
          "3월 <br>관객수 = 6,320,932<br>장르 = 범죄 (2개)",
          "4월 <br>관객수 = 1,472,006<br>장르 = 범죄 (1개)",
          "5월 <br>관객수 = 11,016,597<br>장르 = 범죄 (3개)",
          "6월 <br>관객수 = 1,241,899<br>장르 = 범죄 (1개)",
          "7월 <br>관객수 = 14,657,949<br>장르 = 범죄 (3개)",
          "8월 <br>관객수 = 3,019,458<br>장르 = 범죄 (2개)",
          "9월 <br>관객수 = 14,023,479<br>장르 = 범죄 (5개)",
          "10월 <br>관객수 = 14,563,886<br>장르 = 범죄 (4개)",
          "11월 <br>관객수 = 17,320,849<br>장르 = 범죄 (5개)",
          "12월 <br>관객수 = 6,512,415<br>장르 = 범죄 (3개)"
         ],
         "marker": {
          "color": "#16FF32"
         },
         "name": "범죄",
         "type": "bar",
         "x": [
          1,
          2,
          3,
          4,
          5,
          6,
          7,
          8,
          9,
          10,
          11,
          12
         ],
         "y": [
          8287277,
          27713796,
          6320932,
          1472006,
          11016597,
          1241899,
          14657949,
          3019458,
          14023479,
          14563886,
          17320849,
          6512415
         ]
        },
        {
         "hoverinfo": "text",
         "hovertext": [
          "1월 <br>관객수 = 46,912,007<br>장르 = 코미디 (7개)",
          "2월 <br>관객수 = 1,340,117<br>장르 = 코미디 (1개)",
          "3월 <br>관객수 = 6,873,341<br>장르 = 코미디 (3개)",
          "4월 <br>관객수 = 5,134,167<br>장르 = 코미디 (4개)",
          "5월 <br>관객수 = 7,574,300<br>장르 = 코미디 (3개)",
          "6월 <br>관객수 = 5,261,145<br>장르 = 코미디 (2개)",
          "7월 <br>관객수 = 13,880,010<br>장르 = 코미디 (3개)",
          "8월 <br>관객수 = 4,909,937<br>장르 = 코미디 (1개)",
          "9월 <br>관객수 = 9,456,156<br>장르 = 코미디 (4개)",
          "10월 <br>관객수 = 8,215,312<br>장르 = 코미디 (2개)",
          "11월 <br>관객수 = 4,474,925<br>장르 = 코미디 (2개)",
          "12월 <br>관객수 = 8,454,171<br>장르 = 코미디 (4개)"
         ],
         "marker": {
          "color": "#3283FE"
         },
         "name": "코미디",
         "type": "bar",
         "x": [
          1,
          2,
          3,
          4,
          5,
          6,
          7,
          8,
          9,
          10,
          11,
          12
         ],
         "y": [
          46912007,
          1340117,
          6873341,
          5134167,
          7574300,
          5261145,
          13880010,
          4909937,
          9456156,
          8215312,
          4474925,
          8454171
         ]
        },
        {
         "hoverinfo": "text",
         "hovertext": [
          "1월 <br>관객수 = 0<br>장르 = 사극 (0개)",
          "2월 <br>관객수 = 6,316,138<br>장르 = 사극 (2개)",
          "3월 <br>관객수 = 0<br>장르 = 사극 (0개)",
          "4월 <br>관객수 = 5,257,114<br>장르 = 사극 (2개)",
          "5월 <br>관객수 = 1,110,246<br>장르 = 사극 (1개)",
          "6월 <br>관객수 = 5,671,436<br>장르 = 사극 (2개)",
          "7월 <br>관객수 = 24,439,854<br>장르 = 사극 (3개)",
          "8월 <br>관객수 = 17,857,400<br>장르 = 사극 (3개)",
          "9월 <br>관객수 = 35,228,637<br>장르 = 사극 (5개)",
          "10월 <br>관객수 = 5,448,377<br>장르 = 사극 (2개)",
          "11월 <br>관객수 = 0<br>장르 = 사극 (0개)",
          "12월 <br>관객수 = 3,763,232<br>장르 = 사극 (2개)"
         ],
         "marker": {
          "color": "#AA0DFE"
         },
         "name": "사극",
         "type": "bar",
         "x": [
          1,
          2,
          3,
          4,
          5,
          6,
          7,
          8,
          9,
          10,
          11,
          12
         ],
         "y": [
          0,
          6316138,
          0,
          5257114,
          1110246,
          5671436,
          24439854,
          17857400,
          35228637,
          5448377,
          0,
          3763232
         ]
        },
        {
         "hoverinfo": "text",
         "hovertext": [
          "1월 <br>관객수 = 3,871,304<br>장르 = 멜로/로맨스 (2개)",
          "2월 <br>관객수 = 3,441,005<br>장르 = 멜로/로맨스 (2개)",
          "3월 <br>관객수 = 8,578,113<br>장르 = 멜로/로맨스 (3개)",
          "4월 <br>관객수 = 2,509,849<br>장르 = 멜로/로맨스 (2개)",
          "5월 <br>관객수 = 1,441,964<br>장르 = 멜로/로맨스 (1개)",
          "6월 <br>관객수 = 0<br>장르 = 멜로/로맨스 (0개)",
          "7월 <br>관객수 = 0<br>장르 = 멜로/로맨스 (0개)",
          "8월 <br>관객수 = 4,066,501<br>장르 = 멜로/로맨스 (2개)",
          "9월 <br>관객수 = 2,731,828<br>장르 = 멜로/로맨스 (1개)",
          "10월 <br>관객수 = 12,748,177<br>장르 = 멜로/로맨스 (4개)",
          "11월 <br>관객수 = 1,214,836<br>장르 = 멜로/로맨스 (1개)",
          "12월 <br>관객수 = 5,438,160<br>장르 = 멜로/로맨스 (3개)"
         ],
         "marker": {
          "color": "#DEA0FD"
         },
         "name": "멜로/로맨스",
         "type": "bar",
         "x": [
          1,
          2,
          3,
          4,
          5,
          6,
          7,
          8,
          9,
          10,
          11,
          12
         ],
         "y": [
          3871304,
          3441005,
          8578113,
          2509849,
          1441964,
          0,
          0,
          4066501,
          2731828,
          12748177,
          1214836,
          5438160
         ]
        },
        {
         "hoverinfo": "text",
         "hovertext": [
          "1월 <br>관객수 = 0<br>장르 = 스릴러 (0개)",
          "2월 <br>관객수 = 0<br>장르 = 스릴러 (0개)",
          "3월 <br>관객수 = 2,520,326<br>장르 = 스릴러 (2개)",
          "4월 <br>관객수 = 1,202,384<br>장르 = 스릴러 (1개)",
          "5월 <br>관객수 = 6,592,604<br>장르 = 스릴러 (3개)",
          "6월 <br>관객수 = 5,417,448<br>장르 = 스릴러 (2개)",
          "7월 <br>관객수 = 0<br>장르 = 스릴러 (0개)",
          "8월 <br>관객수 = 14,778,226<br>장르 = 스릴러 (5개)",
          "9월 <br>관객수 = 2,393,086<br>장르 = 스릴러 (1개)",
          "10월 <br>관객수 = 5,634,965<br>장르 = 스릴러 (4개)",
          "11월 <br>관객수 = 0<br>장르 = 스릴러 (0개)",
          "12월 <br>관객수 = 3,728,684<br>장르 = 스릴러 (2개)"
         ],
         "marker": {
          "color": "#FE00FA"
         },
         "name": "스릴러",
         "type": "bar",
         "x": [
          1,
          2,
          3,
          4,
          5,
          6,
          7,
          8,
          9,
          10,
          11,
          12
         ],
         "y": [
          0,
          0,
          2520326,
          1202384,
          6592604,
          5417448,
          0,
          14778226,
          2393086,
          5634965,
          0,
          3728684
         ]
        },
        {
         "hoverinfo": "text",
         "hovertext": [
          "1월 <br>관객수 = 1,916,855<br>장르 = 판타지 (1개)",
          "2월 <br>관객수 = 0<br>장르 = 판타지 (0개)",
          "3월 <br>관객수 = 0<br>장르 = 판타지 (0개)",
          "4월 <br>관객수 = 0<br>장르 = 판타지 (0개)",
          "5월 <br>관객수 = 0<br>장르 = 판타지 (0개)",
          "6월 <br>관객수 = 0<br>장르 = 판타지 (0개)",
          "7월 <br>관객수 = 0<br>장르 = 판타지 (0개)",
          "8월 <br>관객수 = 14,329,293<br>장르 = 판타지 (2개)",
          "9월 <br>관객수 = 0<br>장르 = 판타지 (0개)",
          "10월 <br>관객수 = 0<br>장르 = 판타지 (0개)",
          "11월 <br>관객수 = 0<br>장르 = 판타지 (0개)",
          "12월 <br>관객수 = 15,579,379<br>장르 = 판타지 (2개)"
         ],
         "marker": {
          "color": "#85660D"
         },
         "name": "판타지",
         "type": "bar",
         "x": [
          1,
          2,
          3,
          4,
          5,
          6,
          7,
          8,
          9,
          10,
          11,
          12
         ],
         "y": [
          1916855,
          0,
          0,
          0,
          0,
          0,
          0,
          14329293,
          0,
          0,
          0,
          15579379
         ]
        },
        {
         "hoverinfo": "text",
         "hovertext": [
          "1월 <br>관객수 = 0<br>장르 = 미스터리 (0개)",
          "2월 <br>관객수 = 2,398,519<br>장르 = 미스터리 (1개)",
          "3월 <br>관객수 = 2,436,400<br>장르 = 미스터리 (1개)",
          "4월 <br>관객수 = 2,163,086<br>장르 = 미스터리 (2개)",
          "5월 <br>관객수 = 6,879,908<br>장르 = 미스터리 (1개)",
          "6월 <br>관객수 = 3,189,091<br>장르 = 미스터리 (1개)",
          "7월 <br>관객수 = 1,609,737<br>장르 = 미스터리 (1개)",
          "8월 <br>관객수 = 1,306,438<br>장르 = 미스터리 (1개)",
          "9월 <br>관객수 = 0<br>장르 = 미스터리 (0개)",
          "10월 <br>관객수 = 1,552,055<br>장르 = 미스터리 (1개)",
          "11월 <br>관객수 = 7,983,261<br>장르 = 미스터리 (3개)",
          "12월 <br>관객수 = 0<br>장르 = 미스터리 (0개)"
         ],
         "marker": {
          "color": "#FBE426"
         },
         "name": "미스터리",
         "type": "bar",
         "x": [
          1,
          2,
          3,
          4,
          5,
          6,
          7,
          8,
          9,
          10,
          11,
          12
         ],
         "y": [
          0,
          2398519,
          2436400,
          2163086,
          6879908,
          3189091,
          1609737,
          1306438,
          0,
          1552055,
          7983261,
          0
         ]
        },
        {
         "hoverinfo": "text",
         "hovertext": [
          "1월 <br>관객수 = 0<br>장르 = 어드벤처 (0개)",
          "2월 <br>관객수 = 0<br>장르 = 어드벤처 (0개)",
          "3월 <br>관객수 = 0<br>장르 = 어드벤처 (0개)",
          "4월 <br>관객수 = 0<br>장르 = 어드벤처 (0개)",
          "5월 <br>관객수 = 0<br>장르 = 어드벤처 (0개)",
          "6월 <br>관객수 = 0<br>장르 = 어드벤처 (0개)",
          "7월 <br>관객수 = 0<br>장르 = 어드벤처 (0개)",
          "8월 <br>관객수 = 8,666,046<br>장르 = 어드벤처 (1개)",
          "9월 <br>관객수 = 0<br>장르 = 어드벤처 (0개)",
          "10월 <br>관객수 = 0<br>장르 = 어드벤처 (0개)",
          "11월 <br>관객수 = 0<br>장르 = 어드벤처 (0개)",
          "12월 <br>관객수 = 8,252,669<br>장르 = 어드벤처 (1개)"
         ],
         "marker": {
          "color": "#1CBE4F"
         },
         "name": "어드벤처",
         "type": "bar",
         "x": [
          1,
          2,
          3,
          4,
          5,
          6,
          7,
          8,
          9,
          10,
          11,
          12
         ],
         "y": [
          0,
          0,
          0,
          0,
          0,
          0,
          0,
          8666046,
          0,
          0,
          0,
          8252669
         ]
        },
        {
         "hoverinfo": "text",
         "hovertext": [
          "1월 <br>관객수 = 0<br>장르 = SF (0개)",
          "2월 <br>관객수 = 0<br>장르 = SF (0개)",
          "3월 <br>관객수 = 0<br>장르 = SF (0개)",
          "4월 <br>관객수 = 0<br>장르 = SF (0개)",
          "5월 <br>관객수 = 0<br>장르 = SF (0개)",
          "6월 <br>관객수 = 0<br>장르 = SF (0개)",
          "7월 <br>관객수 = 0<br>장르 = SF (0개)",
          "8월 <br>관객수 = 11,592,501<br>장르 = SF (2개)",
          "9월 <br>관객수 = 0<br>장르 = SF (0개)",
          "10월 <br>관객수 = 0<br>장르 = SF (0개)",
          "11월 <br>관객수 = 2,164,805<br>장르 = SF (1개)",
          "12월 <br>관객수 = 0<br>장르 = SF (0개)"
         ],
         "marker": {
          "color": "#1C8356"
         },
         "name": "SF",
         "type": "bar",
         "x": [
          1,
          2,
          3,
          4,
          5,
          6,
          7,
          8,
          9,
          10,
          11,
          12
         ],
         "y": [
          0,
          0,
          0,
          0,
          0,
          0,
          0,
          11592501,
          0,
          0,
          2164805,
          0
         ]
        },
        {
         "hoverinfo": "text",
         "hovertext": [
          "1월 <br>관객수 = 0<br>장르 = 공포(호러) (0개)",
          "2월 <br>관객수 = 0<br>장르 = 공포(호러) (0개)",
          "3월 <br>관객수 = 2,675,559<br>장르 = 공포(호러) (1개)",
          "4월 <br>관객수 = 0<br>장르 = 공포(호러) (0개)",
          "5월 <br>관객수 = 0<br>장르 = 공포(호러) (0개)",
          "6월 <br>관객수 = 1,201,033<br>장르 = 공포(호러) (1개)",
          "7월 <br>관객수 = 4,515,833<br>장르 = 공포(호러) (1개)",
          "8월 <br>관객수 = 1,804,112<br>장르 = 공포(호러) (1개)",
          "9월 <br>관객수 = 0<br>장르 = 공포(호러) (0개)",
          "10월 <br>관객수 = 0<br>장르 = 공포(호러) (0개)",
          "11월 <br>관객수 = 0<br>장르 = 공포(호러) (0개)",
          "12월 <br>관객수 = 3,009,356<br>장르 = 공포(호러) (1개)"
         ],
         "marker": {
          "color": "#FEAF16"
         },
         "name": "공포(호러)",
         "type": "bar",
         "x": [
          1,
          2,
          3,
          4,
          5,
          6,
          7,
          8,
          9,
          10,
          11,
          12
         ],
         "y": [
          0,
          0,
          2675559,
          0,
          0,
          1201033,
          4515833,
          1804112,
          0,
          0,
          0,
          3009356
         ]
        },
        {
         "hoverinfo": "text",
         "hovertext": [
          "1월 <br>관객수 = 1,717,566<br>장르 = 전쟁 (1개)",
          "2월 <br>관객수 = 0<br>장르 = 전쟁 (0개)",
          "3월 <br>관객수 = 0<br>장르 = 전쟁 (0개)",
          "4월 <br>관객수 = 0<br>장르 = 전쟁 (0개)",
          "5월 <br>관객수 = 0<br>장르 = 전쟁 (0개)",
          "6월 <br>관객수 = 0<br>장르 = 전쟁 (0개)",
          "7월 <br>관객수 = 7,049,643<br>장르 = 전쟁 (1개)",
          "8월 <br>관객수 = 0<br>장르 = 전쟁 (0개)",
          "9월 <br>관객수 = 1,140,876<br>장르 = 전쟁 (1개)",
          "10월 <br>관객수 = 0<br>장르 = 전쟁 (0개)",
          "11월 <br>관객수 = 0<br>장르 = 전쟁 (0개)",
          "12월 <br>관객수 = 2,142,622<br>장르 = 전쟁 (1개)"
         ],
         "marker": {
          "color": "#F7E1A0"
         },
         "name": "전쟁",
         "type": "bar",
         "x": [
          1,
          2,
          3,
          4,
          5,
          6,
          7,
          8,
          9,
          10,
          11,
          12
         ],
         "y": [
          1717566,
          0,
          0,
          0,
          0,
          0,
          7049643,
          0,
          1140876,
          0,
          0,
          2142622
         ]
        },
        {
         "hoverinfo": "text",
         "hovertext": [
          "1월 <br>관객수 = 0<br>장르 = 다큐멘터리 (0개)",
          "2월 <br>관객수 = 0<br>장르 = 다큐멘터리 (0개)",
          "3월 <br>관객수 = 0<br>장르 = 다큐멘터리 (0개)",
          "4월 <br>관객수 = 0<br>장르 = 다큐멘터리 (0개)",
          "5월 <br>관객수 = 1,854,867<br>장르 = 다큐멘터리 (1개)",
          "6월 <br>관객수 = 0<br>장르 = 다큐멘터리 (0개)",
          "7월 <br>관객수 = 0<br>장르 = 다큐멘터리 (0개)",
          "8월 <br>관객수 = 0<br>장르 = 다큐멘터리 (0개)",
          "9월 <br>관객수 = 0<br>장르 = 다큐멘터리 (0개)",
          "10월 <br>관객수 = 0<br>장르 = 다큐멘터리 (0개)",
          "11월 <br>관객수 = 4,801,527<br>장르 = 다큐멘터리 (1개)",
          "12월 <br>관객수 = 0<br>장르 = 다큐멘터리 (0개)"
         ],
         "marker": {
          "color": "#325A9B"
         },
         "name": "다큐멘터리",
         "type": "bar",
         "x": [
          1,
          2,
          3,
          4,
          5,
          6,
          7,
          8,
          9,
          10,
          11,
          12
         ],
         "y": [
          0,
          0,
          0,
          0,
          1854867,
          0,
          0,
          0,
          0,
          0,
          4801527,
          0
         ]
        },
        {
         "hoverinfo": "text",
         "hovertext": [
          "1월 <br>관객수 = 1,040,636<br>장르 = 애니메이션 (1개)",
          "2월 <br>관객수 = 0<br>장르 = 애니메이션 (0개)",
          "3월 <br>관객수 = 0<br>장르 = 애니메이션 (0개)",
          "4월 <br>관객수 = 0<br>장르 = 애니메이션 (0개)",
          "5월 <br>관객수 = 0<br>장르 = 애니메이션 (0개)",
          "6월 <br>관객수 = 0<br>장르 = 애니메이션 (0개)",
          "7월 <br>관객수 = 2,201,722<br>장르 = 애니메이션 (1개)",
          "8월 <br>관객수 = 0<br>장르 = 애니메이션 (0개)",
          "9월 <br>관객수 = 0<br>장르 = 애니메이션 (0개)",
          "10월 <br>관객수 = 0<br>장르 = 애니메이션 (0개)",
          "11월 <br>관객수 = 0<br>장르 = 애니메이션 (0개)",
          "12월 <br>관객수 = 0<br>장르 = 애니메이션 (0개)"
         ],
         "marker": {
          "color": "#F8A19F"
         },
         "name": "애니메이션",
         "type": "bar",
         "x": [
          1,
          2,
          3,
          4,
          5,
          6,
          7,
          8,
          9,
          10,
          11,
          12
         ],
         "y": [
          1040636,
          0,
          0,
          0,
          0,
          0,
          2201722,
          0,
          0,
          0,
          0,
          0
         ]
        }
       ],
       "layout": {
        "barmode": "stack",
        "legend": {
         "title": {
          "text": "장르"
         }
        },
        "template": {
         "data": {
          "bar": [
           {
            "error_x": {
             "color": "#2a3f5f"
            },
            "error_y": {
             "color": "#2a3f5f"
            },
            "marker": {
             "line": {
              "color": "#E5ECF6",
              "width": 0.5
             },
             "pattern": {
              "fillmode": "overlay",
              "size": 10,
              "solidity": 0.2
             }
            },
            "type": "bar"
           }
          ],
          "barpolar": [
           {
            "marker": {
             "line": {
              "color": "#E5ECF6",
              "width": 0.5
             },
             "pattern": {
              "fillmode": "overlay",
              "size": 10,
              "solidity": 0.2
             }
            },
            "type": "barpolar"
           }
          ],
          "carpet": [
           {
            "aaxis": {
             "endlinecolor": "#2a3f5f",
             "gridcolor": "white",
             "linecolor": "white",
             "minorgridcolor": "white",
             "startlinecolor": "#2a3f5f"
            },
            "baxis": {
             "endlinecolor": "#2a3f5f",
             "gridcolor": "white",
             "linecolor": "white",
             "minorgridcolor": "white",
             "startlinecolor": "#2a3f5f"
            },
            "type": "carpet"
           }
          ],
          "choropleth": [
           {
            "colorbar": {
             "outlinewidth": 0,
             "ticks": ""
            },
            "type": "choropleth"
           }
          ],
          "contour": [
           {
            "colorbar": {
             "outlinewidth": 0,
             "ticks": ""
            },
            "colorscale": [
             [
              0,
              "#0d0887"
             ],
             [
              0.1111111111111111,
              "#46039f"
             ],
             [
              0.2222222222222222,
              "#7201a8"
             ],
             [
              0.3333333333333333,
              "#9c179e"
             ],
             [
              0.4444444444444444,
              "#bd3786"
             ],
             [
              0.5555555555555556,
              "#d8576b"
             ],
             [
              0.6666666666666666,
              "#ed7953"
             ],
             [
              0.7777777777777778,
              "#fb9f3a"
             ],
             [
              0.8888888888888888,
              "#fdca26"
             ],
             [
              1,
              "#f0f921"
             ]
            ],
            "type": "contour"
           }
          ],
          "contourcarpet": [
           {
            "colorbar": {
             "outlinewidth": 0,
             "ticks": ""
            },
            "type": "contourcarpet"
           }
          ],
          "heatmap": [
           {
            "colorbar": {
             "outlinewidth": 0,
             "ticks": ""
            },
            "colorscale": [
             [
              0,
              "#0d0887"
             ],
             [
              0.1111111111111111,
              "#46039f"
             ],
             [
              0.2222222222222222,
              "#7201a8"
             ],
             [
              0.3333333333333333,
              "#9c179e"
             ],
             [
              0.4444444444444444,
              "#bd3786"
             ],
             [
              0.5555555555555556,
              "#d8576b"
             ],
             [
              0.6666666666666666,
              "#ed7953"
             ],
             [
              0.7777777777777778,
              "#fb9f3a"
             ],
             [
              0.8888888888888888,
              "#fdca26"
             ],
             [
              1,
              "#f0f921"
             ]
            ],
            "type": "heatmap"
           }
          ],
          "heatmapgl": [
           {
            "colorbar": {
             "outlinewidth": 0,
             "ticks": ""
            },
            "colorscale": [
             [
              0,
              "#0d0887"
             ],
             [
              0.1111111111111111,
              "#46039f"
             ],
             [
              0.2222222222222222,
              "#7201a8"
             ],
             [
              0.3333333333333333,
              "#9c179e"
             ],
             [
              0.4444444444444444,
              "#bd3786"
             ],
             [
              0.5555555555555556,
              "#d8576b"
             ],
             [
              0.6666666666666666,
              "#ed7953"
             ],
             [
              0.7777777777777778,
              "#fb9f3a"
             ],
             [
              0.8888888888888888,
              "#fdca26"
             ],
             [
              1,
              "#f0f921"
             ]
            ],
            "type": "heatmapgl"
           }
          ],
          "histogram": [
           {
            "marker": {
             "pattern": {
              "fillmode": "overlay",
              "size": 10,
              "solidity": 0.2
             }
            },
            "type": "histogram"
           }
          ],
          "histogram2d": [
           {
            "colorbar": {
             "outlinewidth": 0,
             "ticks": ""
            },
            "colorscale": [
             [
              0,
              "#0d0887"
             ],
             [
              0.1111111111111111,
              "#46039f"
             ],
             [
              0.2222222222222222,
              "#7201a8"
             ],
             [
              0.3333333333333333,
              "#9c179e"
             ],
             [
              0.4444444444444444,
              "#bd3786"
             ],
             [
              0.5555555555555556,
              "#d8576b"
             ],
             [
              0.6666666666666666,
              "#ed7953"
             ],
             [
              0.7777777777777778,
              "#fb9f3a"
             ],
             [
              0.8888888888888888,
              "#fdca26"
             ],
             [
              1,
              "#f0f921"
             ]
            ],
            "type": "histogram2d"
           }
          ],
          "histogram2dcontour": [
           {
            "colorbar": {
             "outlinewidth": 0,
             "ticks": ""
            },
            "colorscale": [
             [
              0,
              "#0d0887"
             ],
             [
              0.1111111111111111,
              "#46039f"
             ],
             [
              0.2222222222222222,
              "#7201a8"
             ],
             [
              0.3333333333333333,
              "#9c179e"
             ],
             [
              0.4444444444444444,
              "#bd3786"
             ],
             [
              0.5555555555555556,
              "#d8576b"
             ],
             [
              0.6666666666666666,
              "#ed7953"
             ],
             [
              0.7777777777777778,
              "#fb9f3a"
             ],
             [
              0.8888888888888888,
              "#fdca26"
             ],
             [
              1,
              "#f0f921"
             ]
            ],
            "type": "histogram2dcontour"
           }
          ],
          "mesh3d": [
           {
            "colorbar": {
             "outlinewidth": 0,
             "ticks": ""
            },
            "type": "mesh3d"
           }
          ],
          "parcoords": [
           {
            "line": {
             "colorbar": {
              "outlinewidth": 0,
              "ticks": ""
             }
            },
            "type": "parcoords"
           }
          ],
          "pie": [
           {
            "automargin": true,
            "type": "pie"
           }
          ],
          "scatter": [
           {
            "fillpattern": {
             "fillmode": "overlay",
             "size": 10,
             "solidity": 0.2
            },
            "type": "scatter"
           }
          ],
          "scatter3d": [
           {
            "line": {
             "colorbar": {
              "outlinewidth": 0,
              "ticks": ""
             }
            },
            "marker": {
             "colorbar": {
              "outlinewidth": 0,
              "ticks": ""
             }
            },
            "type": "scatter3d"
           }
          ],
          "scattercarpet": [
           {
            "marker": {
             "colorbar": {
              "outlinewidth": 0,
              "ticks": ""
             }
            },
            "type": "scattercarpet"
           }
          ],
          "scattergeo": [
           {
            "marker": {
             "colorbar": {
              "outlinewidth": 0,
              "ticks": ""
             }
            },
            "type": "scattergeo"
           }
          ],
          "scattergl": [
           {
            "marker": {
             "colorbar": {
              "outlinewidth": 0,
              "ticks": ""
             }
            },
            "type": "scattergl"
           }
          ],
          "scattermapbox": [
           {
            "marker": {
             "colorbar": {
              "outlinewidth": 0,
              "ticks": ""
             }
            },
            "type": "scattermapbox"
           }
          ],
          "scatterpolar": [
           {
            "marker": {
             "colorbar": {
              "outlinewidth": 0,
              "ticks": ""
             }
            },
            "type": "scatterpolar"
           }
          ],
          "scatterpolargl": [
           {
            "marker": {
             "colorbar": {
              "outlinewidth": 0,
              "ticks": ""
             }
            },
            "type": "scatterpolargl"
           }
          ],
          "scatterternary": [
           {
            "marker": {
             "colorbar": {
              "outlinewidth": 0,
              "ticks": ""
             }
            },
            "type": "scatterternary"
           }
          ],
          "surface": [
           {
            "colorbar": {
             "outlinewidth": 0,
             "ticks": ""
            },
            "colorscale": [
             [
              0,
              "#0d0887"
             ],
             [
              0.1111111111111111,
              "#46039f"
             ],
             [
              0.2222222222222222,
              "#7201a8"
             ],
             [
              0.3333333333333333,
              "#9c179e"
             ],
             [
              0.4444444444444444,
              "#bd3786"
             ],
             [
              0.5555555555555556,
              "#d8576b"
             ],
             [
              0.6666666666666666,
              "#ed7953"
             ],
             [
              0.7777777777777778,
              "#fb9f3a"
             ],
             [
              0.8888888888888888,
              "#fdca26"
             ],
             [
              1,
              "#f0f921"
             ]
            ],
            "type": "surface"
           }
          ],
          "table": [
           {
            "cells": {
             "fill": {
              "color": "#EBF0F8"
             },
             "line": {
              "color": "white"
             }
            },
            "header": {
             "fill": {
              "color": "#C8D4E3"
             },
             "line": {
              "color": "white"
             }
            },
            "type": "table"
           }
          ]
         },
         "layout": {
          "annotationdefaults": {
           "arrowcolor": "#2a3f5f",
           "arrowhead": 0,
           "arrowwidth": 1
          },
          "autotypenumbers": "strict",
          "coloraxis": {
           "colorbar": {
            "outlinewidth": 0,
            "ticks": ""
           }
          },
          "colorscale": {
           "diverging": [
            [
             0,
             "#8e0152"
            ],
            [
             0.1,
             "#c51b7d"
            ],
            [
             0.2,
             "#de77ae"
            ],
            [
             0.3,
             "#f1b6da"
            ],
            [
             0.4,
             "#fde0ef"
            ],
            [
             0.5,
             "#f7f7f7"
            ],
            [
             0.6,
             "#e6f5d0"
            ],
            [
             0.7,
             "#b8e186"
            ],
            [
             0.8,
             "#7fbc41"
            ],
            [
             0.9,
             "#4d9221"
            ],
            [
             1,
             "#276419"
            ]
           ],
           "sequential": [
            [
             0,
             "#0d0887"
            ],
            [
             0.1111111111111111,
             "#46039f"
            ],
            [
             0.2222222222222222,
             "#7201a8"
            ],
            [
             0.3333333333333333,
             "#9c179e"
            ],
            [
             0.4444444444444444,
             "#bd3786"
            ],
            [
             0.5555555555555556,
             "#d8576b"
            ],
            [
             0.6666666666666666,
             "#ed7953"
            ],
            [
             0.7777777777777778,
             "#fb9f3a"
            ],
            [
             0.8888888888888888,
             "#fdca26"
            ],
            [
             1,
             "#f0f921"
            ]
           ],
           "sequentialminus": [
            [
             0,
             "#0d0887"
            ],
            [
             0.1111111111111111,
             "#46039f"
            ],
            [
             0.2222222222222222,
             "#7201a8"
            ],
            [
             0.3333333333333333,
             "#9c179e"
            ],
            [
             0.4444444444444444,
             "#bd3786"
            ],
            [
             0.5555555555555556,
             "#d8576b"
            ],
            [
             0.6666666666666666,
             "#ed7953"
            ],
            [
             0.7777777777777778,
             "#fb9f3a"
            ],
            [
             0.8888888888888888,
             "#fdca26"
            ],
            [
             1,
             "#f0f921"
            ]
           ]
          },
          "colorway": [
           "#636efa",
           "#EF553B",
           "#00cc96",
           "#ab63fa",
           "#FFA15A",
           "#19d3f3",
           "#FF6692",
           "#B6E880",
           "#FF97FF",
           "#FECB52"
          ],
          "font": {
           "color": "#2a3f5f"
          },
          "geo": {
           "bgcolor": "white",
           "lakecolor": "white",
           "landcolor": "#E5ECF6",
           "showlakes": true,
           "showland": true,
           "subunitcolor": "white"
          },
          "hoverlabel": {
           "align": "left"
          },
          "hovermode": "closest",
          "mapbox": {
           "style": "light"
          },
          "paper_bgcolor": "white",
          "plot_bgcolor": "#E5ECF6",
          "polar": {
           "angularaxis": {
            "gridcolor": "white",
            "linecolor": "white",
            "ticks": ""
           },
           "bgcolor": "#E5ECF6",
           "radialaxis": {
            "gridcolor": "white",
            "linecolor": "white",
            "ticks": ""
           }
          },
          "scene": {
           "xaxis": {
            "backgroundcolor": "#E5ECF6",
            "gridcolor": "white",
            "gridwidth": 2,
            "linecolor": "white",
            "showbackground": true,
            "ticks": "",
            "zerolinecolor": "white"
           },
           "yaxis": {
            "backgroundcolor": "#E5ECF6",
            "gridcolor": "white",
            "gridwidth": 2,
            "linecolor": "white",
            "showbackground": true,
            "ticks": "",
            "zerolinecolor": "white"
           },
           "zaxis": {
            "backgroundcolor": "#E5ECF6",
            "gridcolor": "white",
            "gridwidth": 2,
            "linecolor": "white",
            "showbackground": true,
            "ticks": "",
            "zerolinecolor": "white"
           }
          },
          "shapedefaults": {
           "line": {
            "color": "#2a3f5f"
           }
          },
          "ternary": {
           "aaxis": {
            "gridcolor": "white",
            "linecolor": "white",
            "ticks": ""
           },
           "baxis": {
            "gridcolor": "white",
            "linecolor": "white",
            "ticks": ""
           },
           "bgcolor": "#E5ECF6",
           "caxis": {
            "gridcolor": "white",
            "linecolor": "white",
            "ticks": ""
           }
          },
          "title": {
           "x": 0.05
          },
          "xaxis": {
           "automargin": true,
           "gridcolor": "white",
           "linecolor": "white",
           "ticks": "",
           "title": {
            "standoff": 15
           },
           "zerolinecolor": "white",
           "zerolinewidth": 2
          },
          "yaxis": {
           "automargin": true,
           "gridcolor": "white",
           "linecolor": "white",
           "ticks": "",
           "title": {
            "standoff": 15
           },
           "zerolinecolor": "white",
           "zerolinewidth": 2
          }
         }
        },
        "title": {
         "text": "월별/장르별 총 관객 수(2010년대)"
        },
        "xaxis": {
         "tickmode": "array",
         "ticktext": [
          "1월",
          "2월",
          "3월",
          "4월",
          "5월",
          "6월",
          "7월",
          "8월",
          "9월",
          "10월",
          "11월",
          "12월"
         ],
         "tickvals": [
          1,
          2,
          3,
          4,
          5,
          6,
          7,
          8,
          9,
          10,
          11,
          12
         ],
         "title": {
          "text": "월"
         }
        },
        "yaxis": {
         "tickformat": ",",
         "title": {
          "text": "관객 수"
         }
        }
       }
      }
     },
     "metadata": {},
     "output_type": "display_data"
    },
    {
     "data": {
      "application/vnd.plotly.v1+json": {
       "config": {
        "plotlyServerURL": "https://plot.ly"
       },
       "data": [
        {
         "hoverinfo": "text",
         "hovertext": [
          "1월 <br>관객수 = 8,176,427<br>장르 = 드라마 (3개)",
          "2월 <br>관객수 = 0<br>장르 = 드라마 (0개)",
          "4월 <br>관객수 = 0<br>장르 = 드라마 (0개)",
          "5월 <br>관객수 = 0<br>장르 = 드라마 (0개)",
          "6월 <br>관객수 = 3,164,834<br>장르 = 드라마 (2개)",
          "7월 <br>관객수 = 1,790,797<br>장르 = 드라마 (1개)",
          "8월 <br>관객수 = 6,966,649<br>장르 = 드라마 (3개)",
          "9월 <br>관객수 = 1,719,592<br>장르 = 드라마 (1개)",
          "10월 <br>관객수 = 1,571,774<br>장르 = 드라마 (1개)",
          "11월 <br>관객수 = 13,127,637<br>장르 = 드라마 (1개)",
          "12월 <br>관객수 = 3,273,771<br>장르 = 드라마 (1개)"
         ],
         "marker": {
          "color": "#FA0087"
         },
         "name": "드라마",
         "type": "bar",
         "x": [
          1,
          2,
          4,
          5,
          6,
          7,
          8,
          9,
          10,
          11,
          12
         ],
         "y": [
          8176427,
          0,
          0,
          0,
          3164834,
          1790797,
          6966649,
          1719592,
          1571774,
          13127637,
          3273771
         ]
        },
        {
         "hoverinfo": "text",
         "hovertext": [
          "1월 <br>관객수 = 0<br>장르 = 액션 (0개)",
          "2월 <br>관객수 = 0<br>장르 = 액션 (0개)",
          "4월 <br>관객수 = 0<br>장르 = 액션 (0개)",
          "5월 <br>관객수 = 0<br>장르 = 액션 (0개)",
          "6월 <br>관객수 = 2,806,501<br>장르 = 액션 (1개)",
          "7월 <br>관객수 = 21,372,891<br>장르 = 액션 (5개)",
          "8월 <br>관객수 = 5,990,829<br>장르 = 액션 (2개)",
          "9월 <br>관객수 = 6,982,840<br>장르 = 액션 (1개)",
          "10월 <br>관객수 = 0<br>장르 = 액션 (0개)",
          "11월 <br>관객수 = 0<br>장르 = 액션 (0개)",
          "12월 <br>관객수 = 0<br>장르 = 액션 (0개)"
         ],
         "marker": {
          "color": "#565656"
         },
         "name": "액션",
         "type": "bar",
         "x": [
          1,
          2,
          4,
          5,
          6,
          7,
          8,
          9,
          10,
          11,
          12
         ],
         "y": [
          0,
          0,
          0,
          0,
          2806501,
          21372891,
          5990829,
          6982840,
          0,
          0,
          0
         ]
        },
        {
         "hoverinfo": "text",
         "hovertext": [
          "1월 <br>관객수 = 0<br>장르 = 범죄 (0개)",
          "2월 <br>관객수 = 0<br>장르 = 범죄 (0개)",
          "4월 <br>관객수 = 0<br>장르 = 범죄 (0개)",
          "5월 <br>관객수 = 23,375,988<br>장르 = 범죄 (2개)",
          "6월 <br>관객수 = 0<br>장르 = 범죄 (0개)",
          "7월 <br>관객수 = 0<br>장르 = 범죄 (0개)",
          "8월 <br>관객수 = 4,357,803<br>장르 = 범죄 (1개)",
          "9월 <br>관객수 = 1,426,357<br>장르 = 범죄 (1개)",
          "10월 <br>관객수 = 0<br>장르 = 범죄 (0개)",
          "11월 <br>관객수 = 1,545,281<br>장르 = 범죄 (1개)",
          "12월 <br>관객수 = 0<br>장르 = 범죄 (0개)"
         ],
         "marker": {
          "color": "#16FF32"
         },
         "name": "범죄",
         "type": "bar",
         "x": [
          1,
          2,
          4,
          5,
          6,
          7,
          8,
          9,
          10,
          11,
          12
         ],
         "y": [
          0,
          0,
          0,
          23375988,
          0,
          0,
          4357803,
          1426357,
          0,
          1545281,
          0
         ]
        },
        {
         "hoverinfo": "text",
         "hovertext": [
          "1월 <br>관객수 = 0<br>장르 = 미스터리 (0개)",
          "2월 <br>관객수 = 12,228,152<br>장르 = 미스터리 (2개)",
          "4월 <br>관객수 = 0<br>장르 = 미스터리 (0개)",
          "5월 <br>관객수 = 0<br>장르 = 미스터리 (0개)",
          "6월 <br>관객수 = 1,897,784<br>장르 = 미스터리 (1개)",
          "7월 <br>관객수 = 0<br>장르 = 미스터리 (0개)",
          "8월 <br>관객수 = 0<br>장르 = 미스터리 (0개)",
          "9월 <br>관객수 = 1,470,359<br>장르 = 미스터리 (1개)",
          "10월 <br>관객수 = 0<br>장르 = 미스터리 (0개)",
          "11월 <br>관객수 = 0<br>장르 = 미스터리 (0개)",
          "12월 <br>관객수 = 0<br>장르 = 미스터리 (0개)"
         ],
         "marker": {
          "color": "#FBE426"
         },
         "name": "미스터리",
         "type": "bar",
         "x": [
          1,
          2,
          4,
          5,
          6,
          7,
          8,
          9,
          10,
          11,
          12
         ],
         "y": [
          0,
          12228152,
          0,
          0,
          1897784,
          0,
          0,
          1470359,
          0,
          0,
          0
         ]
        },
        {
         "hoverinfo": "text",
         "hovertext": [
          "1월 <br>관객수 = 3,630,958<br>장르 = 코미디 (2개)",
          "2월 <br>관객수 = 1,535,630<br>장르 = 코미디 (1개)",
          "4월 <br>관객수 = 1,128,080<br>장르 = 코미디 (1개)",
          "5월 <br>관객수 = 0<br>장르 = 코미디 (0개)",
          "6월 <br>관객수 = 0<br>장르 = 코미디 (0개)",
          "7월 <br>관객수 = 0<br>장르 = 코미디 (0개)",
          "8월 <br>관객수 = 6,793,446<br>장르 = 코미디 (4개)",
          "9월 <br>관객수 = 0<br>장르 = 코미디 (0개)",
          "10월 <br>관객수 = 2,165,358<br>장르 = 코미디 (1개)",
          "11월 <br>관객수 = 0<br>장르 = 코미디 (0개)",
          "12월 <br>관객수 = 0<br>장르 = 코미디 (0개)"
         ],
         "marker": {
          "color": "#3283FE"
         },
         "name": "코미디",
         "type": "bar",
         "x": [
          1,
          2,
          4,
          5,
          6,
          7,
          8,
          9,
          10,
          11,
          12
         ],
         "y": [
          3630958,
          1535630,
          1128080,
          0,
          0,
          0,
          6793446,
          0,
          2165358,
          0,
          0
         ]
        },
        {
         "hoverinfo": "text",
         "hovertext": [
          "1월 <br>관객수 = 0<br>장르 = 사극 (0개)",
          "2월 <br>관객수 = 0<br>장르 = 사극 (0개)",
          "4월 <br>관객수 = 0<br>장르 = 사극 (0개)",
          "5월 <br>관객수 = 0<br>장르 = 사극 (0개)",
          "6월 <br>관객수 = 0<br>장르 = 사극 (0개)",
          "7월 <br>관객수 = 0<br>장르 = 사극 (0개)",
          "8월 <br>관객수 = 0<br>장르 = 사극 (0개)",
          "9월 <br>관객수 = 0<br>장르 = 사극 (0개)",
          "10월 <br>관객수 = 0<br>장르 = 사극 (0개)",
          "11월 <br>관객수 = 0<br>장르 = 사극 (0개)",
          "12월 <br>관객수 = 4,572,386<br>장르 = 사극 (1개)"
         ],
         "marker": {
          "color": "#AA0DFE"
         },
         "name": "사극",
         "type": "bar",
         "x": [
          1,
          2,
          4,
          5,
          6,
          7,
          8,
          9,
          10,
          11,
          12
         ],
         "y": [
          0,
          0,
          0,
          0,
          0,
          0,
          0,
          0,
          0,
          0,
          4572386
         ]
        },
        {
         "hoverinfo": "text",
         "hovertext": [
          "1월 <br>관객수 = 0<br>장르 = 스릴러 (0개)",
          "2월 <br>관객수 = 0<br>장르 = 스릴러 (0개)",
          "4월 <br>관객수 = 0<br>장르 = 스릴러 (0개)",
          "5월 <br>관객수 = 0<br>장르 = 스릴러 (0개)",
          "6월 <br>관객수 = 0<br>장르 = 스릴러 (0개)",
          "7월 <br>관객수 = 0<br>장르 = 스릴러 (0개)",
          "8월 <br>관객수 = 0<br>장르 = 스릴러 (0개)",
          "9월 <br>관객수 = 0<br>장르 = 스릴러 (0개)",
          "10월 <br>관객수 = 0<br>장르 = 스릴러 (0개)",
          "11월 <br>관객수 = 3,329,547<br>장르 = 스릴러 (1개)",
          "12월 <br>관객수 = 0<br>장르 = 스릴러 (0개)"
         ],
         "marker": {
          "color": "#FE00FA"
         },
         "name": "스릴러",
         "type": "bar",
         "x": [
          1,
          2,
          4,
          5,
          6,
          7,
          8,
          9,
          10,
          11,
          12
         ],
         "y": [
          0,
          0,
          0,
          0,
          0,
          0,
          0,
          0,
          0,
          3329547,
          0
         ]
        },
        {
         "hoverinfo": "text",
         "hovertext": [
          "1월 <br>관객수 = 0<br>장르 = 판타지 (0개)",
          "2월 <br>관객수 = 0<br>장르 = 판타지 (0개)",
          "4월 <br>관객수 = 0<br>장르 = 판타지 (0개)",
          "5월 <br>관객수 = 0<br>장르 = 판타지 (0개)",
          "6월 <br>관객수 = 0<br>장르 = 판타지 (0개)",
          "7월 <br>관객수 = 0<br>장르 = 판타지 (0개)",
          "8월 <br>관객수 = 0<br>장르 = 판타지 (0개)",
          "9월 <br>관객수 = 1,916,429<br>장르 = 판타지 (1개)",
          "10월 <br>관객수 = 0<br>장르 = 판타지 (0개)",
          "11월 <br>관객수 = 0<br>장르 = 판타지 (0개)",
          "12월 <br>관객수 = 0<br>장르 = 판타지 (0개)"
         ],
         "marker": {
          "color": "#85660D"
         },
         "name": "판타지",
         "type": "bar",
         "x": [
          1,
          2,
          4,
          5,
          6,
          7,
          8,
          9,
          10,
          11,
          12
         ],
         "y": [
          0,
          0,
          0,
          0,
          0,
          0,
          0,
          1916429,
          0,
          0,
          0
         ]
        },
        {
         "hoverinfo": "text",
         "hovertext": [
          "1월 <br>관객수 = 1,430,121<br>장르 = 기타 (1개)",
          "2월 <br>관객수 = 0<br>장르 = 기타 (0개)",
          "4월 <br>관객수 = 0<br>장르 = 기타 (0개)",
          "5월 <br>관객수 = 0<br>장르 = 기타 (0개)",
          "6월 <br>관객수 = 0<br>장르 = 기타 (0개)",
          "7월 <br>관객수 = 0<br>장르 = 기타 (0개)",
          "8월 <br>관객수 = 0<br>장르 = 기타 (0개)",
          "9월 <br>관객수 = 0<br>장르 = 기타 (0개)",
          "10월 <br>관객수 = 0<br>장르 = 기타 (0개)",
          "11월 <br>관객수 = 0<br>장르 = 기타 (0개)",
          "12월 <br>관객수 = 0<br>장르 = 기타 (0개)"
         ],
         "marker": {
          "color": "#90AD1C"
         },
         "name": "기타",
         "type": "bar",
         "x": [
          1,
          2,
          4,
          5,
          6,
          7,
          8,
          9,
          10,
          11,
          12
         ],
         "y": [
          1430121,
          0,
          0,
          0,
          0,
          0,
          0,
          0,
          0,
          0,
          0
         ]
        },
        {
         "hoverinfo": "text",
         "hovertext": [
          "1월 <br>관객수 = 1,339,242<br>장르 = 어드벤처 (1개)",
          "2월 <br>관객수 = 0<br>장르 = 어드벤처 (0개)",
          "4월 <br>관객수 = 0<br>장르 = 어드벤처 (0개)",
          "5월 <br>관객수 = 0<br>장르 = 어드벤처 (0개)",
          "6월 <br>관객수 = 0<br>장르 = 어드벤처 (0개)",
          "7월 <br>관객수 = 0<br>장르 = 어드벤처 (0개)",
          "8월 <br>관객수 = 0<br>장르 = 어드벤처 (0개)",
          "9월 <br>관객수 = 0<br>장르 = 어드벤처 (0개)",
          "10월 <br>관객수 = 0<br>장르 = 어드벤처 (0개)",
          "11월 <br>관객수 = 0<br>장르 = 어드벤처 (0개)",
          "12월 <br>관객수 = 0<br>장르 = 어드벤처 (0개)"
         ],
         "marker": {
          "color": "#1CBE4F"
         },
         "name": "어드벤처",
         "type": "bar",
         "x": [
          1,
          2,
          4,
          5,
          6,
          7,
          8,
          9,
          10,
          11,
          12
         ],
         "y": [
          1339242,
          0,
          0,
          0,
          0,
          0,
          0,
          0,
          0,
          0,
          0
         ]
        },
        {
         "hoverinfo": "text",
         "hovertext": [
          "1월 <br>관객수 = 0<br>장르 = 뮤지컬 (0개)",
          "2월 <br>관객수 = 0<br>장르 = 뮤지컬 (0개)",
          "4월 <br>관객수 = 0<br>장르 = 뮤지컬 (0개)",
          "5월 <br>관객수 = 0<br>장르 = 뮤지컬 (0개)",
          "6월 <br>관객수 = 0<br>장르 = 뮤지컬 (0개)",
          "7월 <br>관객수 = 0<br>장르 = 뮤지컬 (0개)",
          "8월 <br>관객수 = 0<br>장르 = 뮤지컬 (0개)",
          "9월 <br>관객수 = 1,171,648<br>장르 = 뮤지컬 (1개)",
          "10월 <br>관객수 = 0<br>장르 = 뮤지컬 (0개)",
          "11월 <br>관객수 = 0<br>장르 = 뮤지컬 (0개)",
          "12월 <br>관객수 = 0<br>장르 = 뮤지컬 (0개)"
         ],
         "marker": {
          "color": "#F6222E"
         },
         "name": "뮤지컬",
         "type": "bar",
         "x": [
          1,
          2,
          4,
          5,
          6,
          7,
          8,
          9,
          10,
          11,
          12
         ],
         "y": [
          0,
          0,
          0,
          0,
          0,
          0,
          0,
          1171648,
          0,
          0,
          0
         ]
        }
       ],
       "layout": {
        "barmode": "stack",
        "legend": {
         "title": {
          "text": "장르"
         }
        },
        "template": {
         "data": {
          "bar": [
           {
            "error_x": {
             "color": "#2a3f5f"
            },
            "error_y": {
             "color": "#2a3f5f"
            },
            "marker": {
             "line": {
              "color": "#E5ECF6",
              "width": 0.5
             },
             "pattern": {
              "fillmode": "overlay",
              "size": 10,
              "solidity": 0.2
             }
            },
            "type": "bar"
           }
          ],
          "barpolar": [
           {
            "marker": {
             "line": {
              "color": "#E5ECF6",
              "width": 0.5
             },
             "pattern": {
              "fillmode": "overlay",
              "size": 10,
              "solidity": 0.2
             }
            },
            "type": "barpolar"
           }
          ],
          "carpet": [
           {
            "aaxis": {
             "endlinecolor": "#2a3f5f",
             "gridcolor": "white",
             "linecolor": "white",
             "minorgridcolor": "white",
             "startlinecolor": "#2a3f5f"
            },
            "baxis": {
             "endlinecolor": "#2a3f5f",
             "gridcolor": "white",
             "linecolor": "white",
             "minorgridcolor": "white",
             "startlinecolor": "#2a3f5f"
            },
            "type": "carpet"
           }
          ],
          "choropleth": [
           {
            "colorbar": {
             "outlinewidth": 0,
             "ticks": ""
            },
            "type": "choropleth"
           }
          ],
          "contour": [
           {
            "colorbar": {
             "outlinewidth": 0,
             "ticks": ""
            },
            "colorscale": [
             [
              0,
              "#0d0887"
             ],
             [
              0.1111111111111111,
              "#46039f"
             ],
             [
              0.2222222222222222,
              "#7201a8"
             ],
             [
              0.3333333333333333,
              "#9c179e"
             ],
             [
              0.4444444444444444,
              "#bd3786"
             ],
             [
              0.5555555555555556,
              "#d8576b"
             ],
             [
              0.6666666666666666,
              "#ed7953"
             ],
             [
              0.7777777777777778,
              "#fb9f3a"
             ],
             [
              0.8888888888888888,
              "#fdca26"
             ],
             [
              1,
              "#f0f921"
             ]
            ],
            "type": "contour"
           }
          ],
          "contourcarpet": [
           {
            "colorbar": {
             "outlinewidth": 0,
             "ticks": ""
            },
            "type": "contourcarpet"
           }
          ],
          "heatmap": [
           {
            "colorbar": {
             "outlinewidth": 0,
             "ticks": ""
            },
            "colorscale": [
             [
              0,
              "#0d0887"
             ],
             [
              0.1111111111111111,
              "#46039f"
             ],
             [
              0.2222222222222222,
              "#7201a8"
             ],
             [
              0.3333333333333333,
              "#9c179e"
             ],
             [
              0.4444444444444444,
              "#bd3786"
             ],
             [
              0.5555555555555556,
              "#d8576b"
             ],
             [
              0.6666666666666666,
              "#ed7953"
             ],
             [
              0.7777777777777778,
              "#fb9f3a"
             ],
             [
              0.8888888888888888,
              "#fdca26"
             ],
             [
              1,
              "#f0f921"
             ]
            ],
            "type": "heatmap"
           }
          ],
          "heatmapgl": [
           {
            "colorbar": {
             "outlinewidth": 0,
             "ticks": ""
            },
            "colorscale": [
             [
              0,
              "#0d0887"
             ],
             [
              0.1111111111111111,
              "#46039f"
             ],
             [
              0.2222222222222222,
              "#7201a8"
             ],
             [
              0.3333333333333333,
              "#9c179e"
             ],
             [
              0.4444444444444444,
              "#bd3786"
             ],
             [
              0.5555555555555556,
              "#d8576b"
             ],
             [
              0.6666666666666666,
              "#ed7953"
             ],
             [
              0.7777777777777778,
              "#fb9f3a"
             ],
             [
              0.8888888888888888,
              "#fdca26"
             ],
             [
              1,
              "#f0f921"
             ]
            ],
            "type": "heatmapgl"
           }
          ],
          "histogram": [
           {
            "marker": {
             "pattern": {
              "fillmode": "overlay",
              "size": 10,
              "solidity": 0.2
             }
            },
            "type": "histogram"
           }
          ],
          "histogram2d": [
           {
            "colorbar": {
             "outlinewidth": 0,
             "ticks": ""
            },
            "colorscale": [
             [
              0,
              "#0d0887"
             ],
             [
              0.1111111111111111,
              "#46039f"
             ],
             [
              0.2222222222222222,
              "#7201a8"
             ],
             [
              0.3333333333333333,
              "#9c179e"
             ],
             [
              0.4444444444444444,
              "#bd3786"
             ],
             [
              0.5555555555555556,
              "#d8576b"
             ],
             [
              0.6666666666666666,
              "#ed7953"
             ],
             [
              0.7777777777777778,
              "#fb9f3a"
             ],
             [
              0.8888888888888888,
              "#fdca26"
             ],
             [
              1,
              "#f0f921"
             ]
            ],
            "type": "histogram2d"
           }
          ],
          "histogram2dcontour": [
           {
            "colorbar": {
             "outlinewidth": 0,
             "ticks": ""
            },
            "colorscale": [
             [
              0,
              "#0d0887"
             ],
             [
              0.1111111111111111,
              "#46039f"
             ],
             [
              0.2222222222222222,
              "#7201a8"
             ],
             [
              0.3333333333333333,
              "#9c179e"
             ],
             [
              0.4444444444444444,
              "#bd3786"
             ],
             [
              0.5555555555555556,
              "#d8576b"
             ],
             [
              0.6666666666666666,
              "#ed7953"
             ],
             [
              0.7777777777777778,
              "#fb9f3a"
             ],
             [
              0.8888888888888888,
              "#fdca26"
             ],
             [
              1,
              "#f0f921"
             ]
            ],
            "type": "histogram2dcontour"
           }
          ],
          "mesh3d": [
           {
            "colorbar": {
             "outlinewidth": 0,
             "ticks": ""
            },
            "type": "mesh3d"
           }
          ],
          "parcoords": [
           {
            "line": {
             "colorbar": {
              "outlinewidth": 0,
              "ticks": ""
             }
            },
            "type": "parcoords"
           }
          ],
          "pie": [
           {
            "automargin": true,
            "type": "pie"
           }
          ],
          "scatter": [
           {
            "fillpattern": {
             "fillmode": "overlay",
             "size": 10,
             "solidity": 0.2
            },
            "type": "scatter"
           }
          ],
          "scatter3d": [
           {
            "line": {
             "colorbar": {
              "outlinewidth": 0,
              "ticks": ""
             }
            },
            "marker": {
             "colorbar": {
              "outlinewidth": 0,
              "ticks": ""
             }
            },
            "type": "scatter3d"
           }
          ],
          "scattercarpet": [
           {
            "marker": {
             "colorbar": {
              "outlinewidth": 0,
              "ticks": ""
             }
            },
            "type": "scattercarpet"
           }
          ],
          "scattergeo": [
           {
            "marker": {
             "colorbar": {
              "outlinewidth": 0,
              "ticks": ""
             }
            },
            "type": "scattergeo"
           }
          ],
          "scattergl": [
           {
            "marker": {
             "colorbar": {
              "outlinewidth": 0,
              "ticks": ""
             }
            },
            "type": "scattergl"
           }
          ],
          "scattermapbox": [
           {
            "marker": {
             "colorbar": {
              "outlinewidth": 0,
              "ticks": ""
             }
            },
            "type": "scattermapbox"
           }
          ],
          "scatterpolar": [
           {
            "marker": {
             "colorbar": {
              "outlinewidth": 0,
              "ticks": ""
             }
            },
            "type": "scatterpolar"
           }
          ],
          "scatterpolargl": [
           {
            "marker": {
             "colorbar": {
              "outlinewidth": 0,
              "ticks": ""
             }
            },
            "type": "scatterpolargl"
           }
          ],
          "scatterternary": [
           {
            "marker": {
             "colorbar": {
              "outlinewidth": 0,
              "ticks": ""
             }
            },
            "type": "scatterternary"
           }
          ],
          "surface": [
           {
            "colorbar": {
             "outlinewidth": 0,
             "ticks": ""
            },
            "colorscale": [
             [
              0,
              "#0d0887"
             ],
             [
              0.1111111111111111,
              "#46039f"
             ],
             [
              0.2222222222222222,
              "#7201a8"
             ],
             [
              0.3333333333333333,
              "#9c179e"
             ],
             [
              0.4444444444444444,
              "#bd3786"
             ],
             [
              0.5555555555555556,
              "#d8576b"
             ],
             [
              0.6666666666666666,
              "#ed7953"
             ],
             [
              0.7777777777777778,
              "#fb9f3a"
             ],
             [
              0.8888888888888888,
              "#fdca26"
             ],
             [
              1,
              "#f0f921"
             ]
            ],
            "type": "surface"
           }
          ],
          "table": [
           {
            "cells": {
             "fill": {
              "color": "#EBF0F8"
             },
             "line": {
              "color": "white"
             }
            },
            "header": {
             "fill": {
              "color": "#C8D4E3"
             },
             "line": {
              "color": "white"
             }
            },
            "type": "table"
           }
          ]
         },
         "layout": {
          "annotationdefaults": {
           "arrowcolor": "#2a3f5f",
           "arrowhead": 0,
           "arrowwidth": 1
          },
          "autotypenumbers": "strict",
          "coloraxis": {
           "colorbar": {
            "outlinewidth": 0,
            "ticks": ""
           }
          },
          "colorscale": {
           "diverging": [
            [
             0,
             "#8e0152"
            ],
            [
             0.1,
             "#c51b7d"
            ],
            [
             0.2,
             "#de77ae"
            ],
            [
             0.3,
             "#f1b6da"
            ],
            [
             0.4,
             "#fde0ef"
            ],
            [
             0.5,
             "#f7f7f7"
            ],
            [
             0.6,
             "#e6f5d0"
            ],
            [
             0.7,
             "#b8e186"
            ],
            [
             0.8,
             "#7fbc41"
            ],
            [
             0.9,
             "#4d9221"
            ],
            [
             1,
             "#276419"
            ]
           ],
           "sequential": [
            [
             0,
             "#0d0887"
            ],
            [
             0.1111111111111111,
             "#46039f"
            ],
            [
             0.2222222222222222,
             "#7201a8"
            ],
            [
             0.3333333333333333,
             "#9c179e"
            ],
            [
             0.4444444444444444,
             "#bd3786"
            ],
            [
             0.5555555555555556,
             "#d8576b"
            ],
            [
             0.6666666666666666,
             "#ed7953"
            ],
            [
             0.7777777777777778,
             "#fb9f3a"
            ],
            [
             0.8888888888888888,
             "#fdca26"
            ],
            [
             1,
             "#f0f921"
            ]
           ],
           "sequentialminus": [
            [
             0,
             "#0d0887"
            ],
            [
             0.1111111111111111,
             "#46039f"
            ],
            [
             0.2222222222222222,
             "#7201a8"
            ],
            [
             0.3333333333333333,
             "#9c179e"
            ],
            [
             0.4444444444444444,
             "#bd3786"
            ],
            [
             0.5555555555555556,
             "#d8576b"
            ],
            [
             0.6666666666666666,
             "#ed7953"
            ],
            [
             0.7777777777777778,
             "#fb9f3a"
            ],
            [
             0.8888888888888888,
             "#fdca26"
            ],
            [
             1,
             "#f0f921"
            ]
           ]
          },
          "colorway": [
           "#636efa",
           "#EF553B",
           "#00cc96",
           "#ab63fa",
           "#FFA15A",
           "#19d3f3",
           "#FF6692",
           "#B6E880",
           "#FF97FF",
           "#FECB52"
          ],
          "font": {
           "color": "#2a3f5f"
          },
          "geo": {
           "bgcolor": "white",
           "lakecolor": "white",
           "landcolor": "#E5ECF6",
           "showlakes": true,
           "showland": true,
           "subunitcolor": "white"
          },
          "hoverlabel": {
           "align": "left"
          },
          "hovermode": "closest",
          "mapbox": {
           "style": "light"
          },
          "paper_bgcolor": "white",
          "plot_bgcolor": "#E5ECF6",
          "polar": {
           "angularaxis": {
            "gridcolor": "white",
            "linecolor": "white",
            "ticks": ""
           },
           "bgcolor": "#E5ECF6",
           "radialaxis": {
            "gridcolor": "white",
            "linecolor": "white",
            "ticks": ""
           }
          },
          "scene": {
           "xaxis": {
            "backgroundcolor": "#E5ECF6",
            "gridcolor": "white",
            "gridwidth": 2,
            "linecolor": "white",
            "showbackground": true,
            "ticks": "",
            "zerolinecolor": "white"
           },
           "yaxis": {
            "backgroundcolor": "#E5ECF6",
            "gridcolor": "white",
            "gridwidth": 2,
            "linecolor": "white",
            "showbackground": true,
            "ticks": "",
            "zerolinecolor": "white"
           },
           "zaxis": {
            "backgroundcolor": "#E5ECF6",
            "gridcolor": "white",
            "gridwidth": 2,
            "linecolor": "white",
            "showbackground": true,
            "ticks": "",
            "zerolinecolor": "white"
           }
          },
          "shapedefaults": {
           "line": {
            "color": "#2a3f5f"
           }
          },
          "ternary": {
           "aaxis": {
            "gridcolor": "white",
            "linecolor": "white",
            "ticks": ""
           },
           "baxis": {
            "gridcolor": "white",
            "linecolor": "white",
            "ticks": ""
           },
           "bgcolor": "#E5ECF6",
           "caxis": {
            "gridcolor": "white",
            "linecolor": "white",
            "ticks": ""
           }
          },
          "title": {
           "x": 0.05
          },
          "xaxis": {
           "automargin": true,
           "gridcolor": "white",
           "linecolor": "white",
           "ticks": "",
           "title": {
            "standoff": 15
           },
           "zerolinecolor": "white",
           "zerolinewidth": 2
          },
          "yaxis": {
           "automargin": true,
           "gridcolor": "white",
           "linecolor": "white",
           "ticks": "",
           "title": {
            "standoff": 15
           },
           "zerolinecolor": "white",
           "zerolinewidth": 2
          }
         }
        },
        "title": {
         "text": "월별/장르별 총 관객 수(2020년대)"
        },
        "xaxis": {
         "tickmode": "array",
         "ticktext": [
          "1월",
          "2월",
          "3월",
          "4월",
          "5월",
          "6월",
          "7월",
          "8월",
          "9월",
          "10월",
          "11월",
          "12월"
         ],
         "tickvals": [
          1,
          2,
          3,
          4,
          5,
          6,
          7,
          8,
          9,
          10,
          11,
          12
         ],
         "title": {
          "text": "월"
         }
        },
        "yaxis": {
         "tickformat": ",",
         "title": {
          "text": "관객 수"
         }
        }
       }
      }
     },
     "metadata": {},
     "output_type": "display_data"
    }
   ],
   "source": [
    "import plotly.graph_objects as go\n",
    "import pandas as pd\n",
    "\n",
    "# 데이터셋 로드 (예시 데이터셋 설정에 따라 로드)\n",
    "# df['개봉일'] = pd.to_datetime(df['개봉일'], format='%Y-%m-%d')\n",
    "# df['년도'] = df['개봉일'].dt.year\n",
    "\n",
    "# 연대별로 데이터 필터링 및 그래프 생성\n",
    "decades = {\n",
    "    '1990년대': (1990, 1999),\n",
    "    '2000년대': (2000, 2009),\n",
    "    '2010년대': (2010, 2019),\n",
    "    '2020년대': (2020, 2029)\n",
    "}\n",
    "\n",
    "for decade, (start_year, end_year) in decades.items():\n",
    "    filtered_df = df[(df['년도'] >= start_year) & (df['년도'] <= end_year)]\n",
    "    \n",
    "    # 월별, 장르별 관객 수 계산\n",
    "    grouped = filtered_df.groupby(['월', 'genre_one'])\n",
    "    monthly_genre_data = grouped['관객수'].agg(['sum', 'count']).unstack(fill_value=0)\n",
    "\n",
    "    # 모든 월을 통틀어 장르별 총 관객 수를 계산하여 장르를 정렬\n",
    "    overall_genre_order = monthly_genre_data['sum'].sum(axis=0).sort_values(ascending=False).index\n",
    "\n",
    "    # 그래프 객체 생성\n",
    "    fig = go.Figure()\n",
    "\n",
    "    # 정렬된 순서대로 막대 그래프 추가\n",
    "    for genre in overall_genre_order:\n",
    "        fig.add_trace(go.Bar(\n",
    "            x=monthly_genre_data['sum'].index,\n",
    "            y=monthly_genre_data['sum'][genre],\n",
    "            name=genre,\n",
    "            marker_color=genre_colors.get(genre, '#000'),  # 색상 설정\n",
    "            hoverinfo='text',  # 호버 정보 설정\n",
    "            hovertext=[\n",
    "                f\"{month}월 <br>관객수 = {audience:,.0f}<br>장르 = {genre} ({monthly_genre_data['count'][genre][month]}개)\" \n",
    "                for month, audience in zip(monthly_genre_data['sum'].index, monthly_genre_data['sum'][genre])\n",
    "            ]\n",
    "        ))\n",
    "\n",
    "    # 레이아웃 업데이트\n",
    "    fig.update_layout(\n",
    "        barmode='stack',\n",
    "        title=f'월별/장르별 총 관객 수({decade})',\n",
    "        xaxis_title='월',\n",
    "        yaxis_title='관객 수',\n",
    "        yaxis=dict(tickformat=','),\n",
    "        legend_title='장르',\n",
    "        xaxis=dict(\n",
    "            tickmode='array',\n",
    "            tickvals=list(range(1, 13)),\n",
    "            ticktext=[f\"{m}월\" for m in range(1, 13)]\n",
    "        )\n",
    "    )  \n",
    "\n",
    "    # 그래프 표시\n",
    "    fig.show()\n",
    "    fig.write_html(f'yj_decade{decade}_genre.html')\n"
   ]
  },
  {
   "cell_type": "markdown",
   "metadata": {},
   "source": [
    "# 다른 그래프 형태"
   ]
  },
  {
   "cell_type": "markdown",
   "metadata": {},
   "source": [
    "## 트리맵 :\n",
    "연도를 골랐을 때 그해에 영화별로 관객수가 얼마나 차지하는지 볼 수 있으면 좋겠습니다!"
   ]
  },
  {
   "cell_type": "markdown",
   "metadata": {},
   "source": [
    "## 트리맵 URL 연결"
   ]
  },
  {
   "cell_type": "code",
   "execution_count": 17,
   "metadata": {},
   "outputs": [
    {
     "data": {
      "text/html": [
       "\n",
       "        <iframe\n",
       "            width=\"100%\"\n",
       "            height=\"650\"\n",
       "            src=\"http://127.0.0.1:8050/\"\n",
       "            frameborder=\"0\"\n",
       "            allowfullscreen\n",
       "            \n",
       "        ></iframe>\n",
       "        "
      ],
      "text/plain": [
       "<IPython.lib.display.IFrame at 0x15acda790>"
      ]
     },
     "metadata": {},
     "output_type": "display_data"
    }
   ],
   "source": [
    "# 년도 및 년대별로 가장 인기 있는 장르 계산\n",
    "popular_genre_by_year = df.groupby(['년도', 'genre_one'])['관객수'].sum().unstack().idxmax(axis=1)\n",
    "popular_genre_by_decade = df.groupby(['년대', 'genre_one'])['관객수'].sum().unstack().idxmax(axis=1)\n",
    "\n",
    "# 년도별 색상을 가장 인기 있는 장르의 색상으로 지정\n",
    "year_color = {year: genre_colors[genre] for year, genre in popular_genre_by_year.items()}\n",
    "decade_color = {decade: genre_colors[genre] for decade, genre in popular_genre_by_decade.items()}\n",
    "\n",
    "# URL 매핑 생성\n",
    "urls = {}\n",
    "for x in range(len(df)):\n",
    "    name = df['영화명'].iloc[x]\n",
    "    urls[name] = f'https://search.naver.com/search.naver?where=nexearch&sm=top_hty&fbm=0&ie=utf8&query={name}+영화'\n",
    "\n",
    "# 트리맵 생성\n",
    "fig = px.treemap(df, path=['년대', '년도', 'genre_one', '영화명'], values='관객수',\n",
    "                 color='년도',  # '년도'로 색상 지정\n",
    "                 color_discrete_map={**year_color, **decade_color, **genre_colors},  # 색상 매핑\n",
    "                 hover_data=['영화명'])\n",
    "\n",
    "# 커스텀 호버 템플릿 설정\n",
    "fig.update_traces(hovertemplate=\"<b>%{label}</b><br>영화정보=%{id}<br>관객수=%{value}<extra></extra><br>영화명 %{customdata[0]}\")\n",
    "\n",
    "# 그래프 레이아웃 설정\n",
    "fig.update_layout(\n",
    "    autosize=False,\n",
    "    width=1000,  # Adjust width as needed\n",
    "    height=600   # Adjust height as needed\n",
    ")\n",
    "\n",
    "# fig에서 데이터 확인하여 영화명 순서 가져오기\n",
    "temp = []\n",
    "\n",
    "for label in fig.data[0].labels:\n",
    "    temp.append(label)\n",
    "\n",
    "\n",
    "# 영화명 순서에 맞게 URL 매핑하기\n",
    "text_list = []\n",
    "for movie_name in temp[:499]:\n",
    "    if movie_name in urls:\n",
    "        text_list.append(f'<a href=\"{urls[movie_name]}\" target=\"_blank\"><span style=\"color:white; font-size:10px;\">Movie Link</span></a>')\n",
    "    else:\n",
    "        text_list.append(movie_name)\n",
    "fig.update_traces(text=text_list)\n",
    "\n",
    "\n",
    "app = dash.Dash(__name__)\n",
    "app.layout = html.Div([\n",
    "    dcc.Graph(id='treemap', figure=fig)\n",
    "])\n",
    "\n",
    "if __name__ == '__main__':\n",
    "    app.run_server(debug=True)\n",
    "\n",
    "fig.write_html('yj_treemap.html')\n"
   ]
  },
  {
   "cell_type": "code",
   "execution_count": null,
   "metadata": {},
   "outputs": [],
   "source": []
  }
 ],
 "metadata": {
  "kernelspec": {
   "display_name": "base",
   "language": "python",
   "name": "python3"
  },
  "language_info": {
   "codemirror_mode": {
    "name": "ipython",
    "version": 3
   },
   "file_extension": ".py",
   "mimetype": "text/x-python",
   "name": "python",
   "nbconvert_exporter": "python",
   "pygments_lexer": "ipython3",
   "version": "3.11.5"
  }
 },
 "nbformat": 4,
 "nbformat_minor": 2
}
