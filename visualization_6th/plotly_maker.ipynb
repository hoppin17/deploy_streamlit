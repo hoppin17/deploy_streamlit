{
 "cells": [
  {
   "cell_type": "code",
   "execution_count": 4,
   "id": "7ae76319",
   "metadata": {},
   "outputs": [
    {
     "name": "stderr",
     "output_type": "stream",
     "text": [
      "/var/folders/19/klzzjsv901qcj2xxsvpj2jqw0000gn/T/ipykernel_71265/1057743479.py:22: FutureWarning:\n",
      "\n",
      "The default value of numeric_only in DataFrameGroupBy.sum is deprecated. In a future version, numeric_only will default to False. Either specify numeric_only or select only columns which should be valid for the function.\n",
      "\n",
      "/var/folders/19/klzzjsv901qcj2xxsvpj2jqw0000gn/T/ipykernel_71265/1057743479.py:25: FutureWarning:\n",
      "\n",
      "The default value of numeric_only in DataFrameGroupBy.sum is deprecated. In a future version, numeric_only will default to False. Either specify numeric_only or select only columns which should be valid for the function.\n",
      "\n"
     ]
    },
    {
     "data": {
      "application/vnd.plotly.v1+json": {
       "config": {
        "plotlyServerURL": "https://plot.ly"
       },
       "data": [
        {
         "alignmentgroup": "True",
         "hovertemplate": "배급사=시네마서비스<br>연도=%{x}<br>매출액=%{y}<extra></extra>",
         "legendgroup": "시네마서비스",
         "marker": {
          "color": "#AA0DFE",
          "pattern": {
           "shape": ""
          }
         },
         "name": "시네마서비스",
         "offsetgroup": "시네마서비스",
         "orientation": "v",
         "showlegend": true,
         "textposition": "auto",
         "type": "bar",
         "x": [
          1999,
          2001,
          2002,
          2003,
          2004,
          2005,
          2006,
          2007,
          2010
         ],
         "xaxis": "x",
         "y": [
          0,
          0,
          0,
          0,
          0,
          0,
          0,
          0,
          8737627361
         ],
         "yaxis": "y"
        },
        {
         "alignmentgroup": "True",
         "hovertemplate": "배급사=씨제이이엔엠<br>연도=%{x}<br>매출액=%{y}<extra></extra>",
         "legendgroup": "씨제이이엔엠",
         "marker": {
          "color": "#3283FE",
          "pattern": {
           "shape": ""
          }
         },
         "name": "씨제이이엔엠",
         "offsetgroup": "씨제이이엔엠",
         "orientation": "v",
         "showlegend": true,
         "textposition": "auto",
         "type": "bar",
         "x": [
          2000,
          2001,
          2003,
          2004,
          2005,
          2006,
          2007,
          2008,
          2009,
          2010,
          2011,
          2012,
          2013,
          2014,
          2015,
          2016,
          2017,
          2018,
          2019,
          2020,
          2021,
          2022,
          2023,
          2024
         ],
         "xaxis": "x",
         "y": [
          0,
          0,
          0,
          0,
          0,
          0,
          511288500,
          106202025921,
          227408027253,
          176820665071,
          214206116400,
          313781806716,
          207309382254,
          353017596810,
          291523441742,
          229559187396,
          236470050741,
          180983057899,
          398178976275,
          78284689490,
          14025546720,
          151463125392,
          18635492555,
          13792326337
         ],
         "yaxis": "y"
        },
        {
         "alignmentgroup": "True",
         "hovertemplate": "배급사=이언픽쳐스,시네마서비스<br>연도=%{x}<br>매출액=%{y}<extra></extra>",
         "legendgroup": "이언픽쳐스,시네마서비스",
         "marker": {
          "color": "#85660D",
          "pattern": {
           "shape": ""
          }
         },
         "name": "이언픽쳐스,시네마서비스",
         "offsetgroup": "이언픽쳐스,시네마서비스",
         "orientation": "v",
         "showlegend": true,
         "textposition": "auto",
         "type": "bar",
         "x": [
          2001
         ],
         "xaxis": "x",
         "y": [
          0
         ],
         "yaxis": "y"
        },
        {
         "alignmentgroup": "True",
         "hovertemplate": "배급사=쇼박스<br>연도=%{x}<br>매출액=%{y}<extra></extra>",
         "legendgroup": "쇼박스",
         "marker": {
          "color": "#782AB6",
          "pattern": {
           "shape": ""
          }
         },
         "name": "쇼박스",
         "offsetgroup": "쇼박스",
         "orientation": "v",
         "showlegend": true,
         "textposition": "auto",
         "type": "bar",
         "x": [
          2002,
          2003,
          2004,
          2005,
          2006,
          2007,
          2008,
          2009,
          2010,
          2011,
          2012,
          2013,
          2014,
          2015,
          2016,
          2017,
          2018,
          2019,
          2020,
          2021,
          2022,
          2023,
          2024
         ],
         "xaxis": "x",
         "y": [
          0,
          0,
          0,
          0,
          0,
          0,
          70771003449,
          104399918899,
          54949804627,
          83198378100,
          168274317500,
          218992686403,
          92805981355,
          291442437438,
          208206097132,
          182829639368,
          103718915135,
          94992427218,
          41223596650,
          21395652690,
          20926361328,
          10192141216,
          121898990305
         ],
         "yaxis": "y"
        },
        {
         "alignmentgroup": "True",
         "hovertemplate": "배급사=영화사청어람<br>연도=%{x}<br>매출액=%{y}<extra></extra>",
         "legendgroup": "영화사청어람",
         "marker": {
          "color": "#565656",
          "pattern": {
           "shape": ""
          }
         },
         "name": "영화사청어람",
         "offsetgroup": "영화사청어람",
         "orientation": "v",
         "showlegend": true,
         "textposition": "auto",
         "type": "bar",
         "x": [
          2002,
          2003,
          2004
         ],
         "xaxis": "x",
         "y": [
          0,
          0,
          0
         ],
         "yaxis": "y"
        },
        {
         "alignmentgroup": "True",
         "hovertemplate": "배급사=쇼이스트<br>연도=%{x}<br>매출액=%{y}<extra></extra>",
         "legendgroup": "쇼이스트",
         "marker": {
          "color": "#1C8356",
          "pattern": {
           "shape": ""
          }
         },
         "name": "쇼이스트",
         "offsetgroup": "쇼이스트",
         "orientation": "v",
         "showlegend": true,
         "textposition": "auto",
         "type": "bar",
         "x": [
          2003,
          2005,
          2006
         ],
         "xaxis": "x",
         "y": [
          0,
          0,
          0
         ],
         "yaxis": "y"
        },
        {
         "alignmentgroup": "True",
         "hovertemplate": "배급사=쇼이스트,씨제이이엔엠<br>연도=%{x}<br>매출액=%{y}<extra></extra>",
         "legendgroup": "쇼이스트,씨제이이엔엠",
         "marker": {
          "color": "#16FF32",
          "pattern": {
           "shape": ""
          }
         },
         "name": "쇼이스트,씨제이이엔엠",
         "offsetgroup": "쇼이스트,씨제이이엔엠",
         "orientation": "v",
         "showlegend": true,
         "textposition": "auto",
         "type": "bar",
         "x": [
          2003
         ],
         "xaxis": "x",
         "y": [
          0
         ],
         "yaxis": "y"
        },
        {
         "alignmentgroup": "True",
         "hovertemplate": "배급사=다자인소프트,쇼박스<br>연도=%{x}<br>매출액=%{y}<extra></extra>",
         "legendgroup": "다자인소프트,쇼박스",
         "marker": {
          "color": "#F7E1A0",
          "pattern": {
           "shape": ""
          }
         },
         "name": "다자인소프트,쇼박스",
         "offsetgroup": "다자인소프트,쇼박스",
         "orientation": "v",
         "showlegend": true,
         "textposition": "auto",
         "type": "bar",
         "x": [
          2004
         ],
         "xaxis": "x",
         "y": [
          0
         ],
         "yaxis": "y"
        },
        {
         "alignmentgroup": "True",
         "hovertemplate": "배급사=씨제이이엔엠,아이러브시네마<br>연도=%{x}<br>매출액=%{y}<extra></extra>",
         "legendgroup": "씨제이이엔엠,아이러브시네마",
         "marker": {
          "color": "#E2E2E2",
          "pattern": {
           "shape": ""
          }
         },
         "name": "씨제이이엔엠,아이러브시네마",
         "offsetgroup": "씨제이이엔엠,아이러브시네마",
         "orientation": "v",
         "showlegend": true,
         "textposition": "auto",
         "type": "bar",
         "x": [
          2004
         ],
         "xaxis": "x",
         "y": [
          0
         ],
         "yaxis": "y"
        },
        {
         "alignmentgroup": "True",
         "hovertemplate": "배급사=코리아픽쳐스<br>연도=%{x}<br>매출액=%{y}<extra></extra>",
         "legendgroup": "코리아픽쳐스",
         "marker": {
          "color": "#1CBE4F",
          "pattern": {
           "shape": ""
          }
         },
         "name": "코리아픽쳐스",
         "offsetgroup": "코리아픽쳐스",
         "orientation": "v",
         "showlegend": true,
         "textposition": "auto",
         "type": "bar",
         "x": [
          2004,
          2005
         ],
         "xaxis": "x",
         "y": [
          0,
          0
         ],
         "yaxis": "y"
        },
        {
         "alignmentgroup": "True",
         "hovertemplate": "배급사=튜브엔터테인먼트<br>연도=%{x}<br>매출액=%{y}<extra></extra>",
         "legendgroup": "튜브엔터테인먼트",
         "marker": {
          "color": "#C4451C",
          "pattern": {
           "shape": ""
          }
         },
         "name": "튜브엔터테인먼트",
         "offsetgroup": "튜브엔터테인먼트",
         "orientation": "v",
         "showlegend": true,
         "textposition": "auto",
         "type": "bar",
         "x": [
          2004
         ],
         "xaxis": "x",
         "y": [
          0
         ],
         "yaxis": "y"
        },
        {
         "alignmentgroup": "True",
         "hovertemplate": "배급사=롯데쇼핑㈜롯데엔터테인먼트<br>연도=%{x}<br>매출액=%{y}<extra></extra>",
         "legendgroup": "롯데쇼핑㈜롯데엔터테인먼트",
         "marker": {
          "color": "#DEA0FD",
          "pattern": {
           "shape": ""
          }
         },
         "name": "롯데쇼핑㈜롯데엔터테인먼트",
         "offsetgroup": "롯데쇼핑㈜롯데엔터테인먼트",
         "orientation": "v",
         "showlegend": true,
         "textposition": "auto",
         "type": "bar",
         "x": [
          2005,
          2006,
          2007,
          2008,
          2009,
          2010,
          2011,
          2012,
          2013,
          2014,
          2015,
          2016,
          2017,
          2018
         ],
         "xaxis": "x",
         "y": [
          0,
          0,
          0,
          67354125034,
          39378263000,
          78403863396,
          127157339000,
          95202164369,
          94000056940,
          127846661267,
          8946842910,
          53754961757,
          190829616884,
          20800916128
         ],
         "yaxis": "y"
        },
        {
         "alignmentgroup": "True",
         "hovertemplate": "배급사=롯데쇼핑㈜롯데엔터테인먼트,아이러브시네마<br>연도=%{x}<br>매출액=%{y}<extra></extra>",
         "legendgroup": "롯데쇼핑㈜롯데엔터테인먼트,아이러브시네마",
         "marker": {
          "color": "#FE00FA",
          "pattern": {
           "shape": ""
          }
         },
         "name": "롯데쇼핑㈜롯데엔터테인먼트,아이러브시네마",
         "offsetgroup": "롯데쇼핑㈜롯데엔터테인먼트,아이러브시네마",
         "orientation": "v",
         "showlegend": true,
         "textposition": "auto",
         "type": "bar",
         "x": [
          2005
         ],
         "xaxis": "x",
         "y": [
          0
         ],
         "yaxis": "y"
        },
        {
         "alignmentgroup": "True",
         "hovertemplate": "배급사=엠케이픽처스<br>연도=%{x}<br>매출액=%{y}<extra></extra>",
         "legendgroup": "엠케이픽처스",
         "marker": {
          "color": "#325A9B",
          "pattern": {
           "shape": ""
          }
         },
         "name": "엠케이픽처스",
         "offsetgroup": "엠케이픽처스",
         "orientation": "v",
         "showlegend": true,
         "textposition": "auto",
         "type": "bar",
         "x": [
          2005
         ],
         "xaxis": "x",
         "y": [
          0
         ],
         "yaxis": "y"
        },
        {
         "alignmentgroup": "True",
         "hovertemplate": "배급사=프라임엔터테인먼트<br>연도=%{x}<br>매출액=%{y}<extra></extra>",
         "legendgroup": "프라임엔터테인먼트",
         "marker": {
          "color": "#FEAF16",
          "pattern": {
           "shape": ""
          }
         },
         "name": "프라임엔터테인먼트",
         "offsetgroup": "프라임엔터테인먼트",
         "orientation": "v",
         "showlegend": true,
         "textposition": "auto",
         "type": "bar",
         "x": [
          2006,
          2007
         ],
         "xaxis": "x",
         "y": [
          0,
          38146000
         ],
         "yaxis": "y"
        },
        {
         "alignmentgroup": "True",
         "hovertemplate": "배급사=㈜스튜디오이쩜영<br>연도=%{x}<br>매출액=%{y}<extra></extra>",
         "legendgroup": "㈜스튜디오이쩜영",
         "marker": {
          "color": "#F8A19F",
          "pattern": {
           "shape": ""
          }
         },
         "name": "㈜스튜디오이쩜영",
         "offsetgroup": "㈜스튜디오이쩜영",
         "orientation": "v",
         "showlegend": true,
         "textposition": "auto",
         "type": "bar",
         "x": [
          2007,
          2008
         ],
         "xaxis": "x",
         "y": [
          0,
          8943849000
         ],
         "yaxis": "y"
        },
        {
         "alignmentgroup": "True",
         "hovertemplate": "배급사=엠케이픽처스 ,두엔터테인먼트<br>연도=%{x}<br>매출액=%{y}<extra></extra>",
         "legendgroup": "엠케이픽처스 ,두엔터테인먼트",
         "marker": {
          "color": "#90AD1C",
          "pattern": {
           "shape": ""
          }
         },
         "name": "엠케이픽처스 ,두엔터테인먼트",
         "offsetgroup": "엠케이픽처스 ,두엔터테인먼트",
         "orientation": "v",
         "showlegend": true,
         "textposition": "auto",
         "type": "bar",
         "x": [
          2007
         ],
         "xaxis": "x",
         "y": [
          0
         ],
         "yaxis": "y"
        },
        {
         "alignmentgroup": "True",
         "hovertemplate": "배급사=씨제이이엔엠,시네마서비스<br>연도=%{x}<br>매출액=%{y}<extra></extra>",
         "legendgroup": "씨제이이엔엠,시네마서비스",
         "marker": {
          "color": "#F6222E",
          "pattern": {
           "shape": ""
          }
         },
         "name": "씨제이이엔엠,시네마서비스",
         "offsetgroup": "씨제이이엔엠,시네마서비스",
         "orientation": "v",
         "showlegend": true,
         "textposition": "auto",
         "type": "bar",
         "x": [
          2008
         ],
         "xaxis": "x",
         "y": [
          28465757767
         ],
         "yaxis": "y"
        },
        {
         "alignmentgroup": "True",
         "hovertemplate": "배급사=싸이더스<br>연도=%{x}<br>매출액=%{y}<extra></extra>",
         "legendgroup": "싸이더스",
         "marker": {
          "color": "#1CFFCE",
          "pattern": {
           "shape": ""
          }
         },
         "name": "싸이더스",
         "offsetgroup": "싸이더스",
         "orientation": "v",
         "showlegend": true,
         "textposition": "auto",
         "type": "bar",
         "x": [
          2008,
          2010
         ],
         "xaxis": "x",
         "y": [
          26151780425,
          17310669976
         ],
         "yaxis": "y"
        },
        {
         "alignmentgroup": "True",
         "hovertemplate": "배급사=에스케이텔레콤<br>연도=%{x}<br>매출액=%{y}<extra></extra>",
         "legendgroup": "에스케이텔레콤",
         "marker": {
          "color": "#2ED9FF",
          "pattern": {
           "shape": ""
          }
         },
         "name": "에스케이텔레콤",
         "offsetgroup": "에스케이텔레콤",
         "orientation": "v",
         "showlegend": true,
         "textposition": "auto",
         "type": "bar",
         "x": [
          2008,
          2009,
          2010
         ],
         "xaxis": "x",
         "y": [
          10299976000,
          7900084842,
          10408565262
         ],
         "yaxis": "y"
        },
        {
         "alignmentgroup": "True",
         "hovertemplate": "배급사=(유)씨에이치엔터테인먼트<br>연도=%{x}<br>매출액=%{y}<extra></extra>",
         "legendgroup": "(유)씨에이치엔터테인먼트",
         "marker": {
          "color": "#B10DA1",
          "pattern": {
           "shape": ""
          }
         },
         "name": "(유)씨에이치엔터테인먼트",
         "offsetgroup": "(유)씨에이치엔터테인먼트",
         "orientation": "v",
         "showlegend": true,
         "textposition": "auto",
         "type": "bar",
         "x": [
          2008
         ],
         "xaxis": "x",
         "y": [
          10180143111
         ],
         "yaxis": "y"
        },
        {
         "alignmentgroup": "True",
         "hovertemplate": "배급사=스튜디오210<br>연도=%{x}<br>매출액=%{y}<extra></extra>",
         "legendgroup": "스튜디오210",
         "marker": {
          "color": "#C075A6",
          "pattern": {
           "shape": ""
          }
         },
         "name": "스튜디오210",
         "offsetgroup": "스튜디오210",
         "orientation": "v",
         "showlegend": true,
         "textposition": "auto",
         "type": "bar",
         "x": [
          2008
         ],
         "xaxis": "x",
         "y": [
          7460438000
         ],
         "yaxis": "y"
        },
        {
         "alignmentgroup": "True",
         "hovertemplate": "배급사=오퍼스픽쳐스(유),쇼박스<br>연도=%{x}<br>매출액=%{y}<extra></extra>",
         "legendgroup": "오퍼스픽쳐스(유),쇼박스",
         "marker": {
          "color": "#FC1CBF",
          "pattern": {
           "shape": ""
          }
         },
         "name": "오퍼스픽쳐스(유),쇼박스",
         "offsetgroup": "오퍼스픽쳐스(유),쇼박스",
         "orientation": "v",
         "showlegend": true,
         "textposition": "auto",
         "type": "bar",
         "x": [
          2008
         ],
         "xaxis": "x",
         "y": [
          7367880833
         ],
         "yaxis": "y"
        },
        {
         "alignmentgroup": "True",
         "hovertemplate": "배급사=㈜인디스토리<br>연도=%{x}<br>매출액=%{y}<extra></extra>",
         "legendgroup": "㈜인디스토리",
         "marker": {
          "color": "#B00068",
          "pattern": {
           "shape": ""
          }
         },
         "name": "㈜인디스토리",
         "offsetgroup": "㈜인디스토리",
         "orientation": "v",
         "showlegend": true,
         "textposition": "auto",
         "type": "bar",
         "x": [
          2009
         ],
         "xaxis": "x",
         "y": [
          19259975032
         ],
         "yaxis": "y"
        },
        {
         "alignmentgroup": "True",
         "hovertemplate": "배급사=넥스트엔터테인먼트월드(NEW)<br>연도=%{x}<br>매출액=%{y}<extra></extra>",
         "legendgroup": "넥스트엔터테인먼트월드(NEW)",
         "marker": {
          "color": "#FBE426",
          "pattern": {
           "shape": ""
          }
         },
         "name": "넥스트엔터테인먼트월드(NEW)",
         "offsetgroup": "넥스트엔터테인먼트월드(NEW)",
         "orientation": "v",
         "showlegend": true,
         "textposition": "auto",
         "type": "bar",
         "x": [
          2009,
          2010,
          2011,
          2012,
          2013,
          2014,
          2015,
          2016,
          2017,
          2018,
          2019,
          2020,
          2021,
          2022,
          2023
         ],
         "xaxis": "x",
         "y": [
          18284950605,
          36773092737,
          48219431000,
          125885262948,
          303170613054,
          46453608797,
          111077081347,
          147231548464,
          99057100228,
          146695421293,
          84876637610,
          45907389810,
          15585244870,
          61782908794,
          49685009003
         ],
         "yaxis": "y"
        },
        {
         "alignmentgroup": "True",
         "hovertemplate": "배급사=시너지하우스 (시너지)<br>연도=%{x}<br>매출액=%{y}<extra></extra>",
         "legendgroup": "시너지하우스 (시너지)",
         "marker": {
          "color": "#FA0087",
          "pattern": {
           "shape": ""
          }
         },
         "name": "시너지하우스 (시너지)",
         "offsetgroup": "시너지하우스 (시너지)",
         "orientation": "v",
         "showlegend": true,
         "textposition": "auto",
         "type": "bar",
         "x": [
          2009,
          2010
         ],
         "xaxis": "x",
         "y": [
          13785879439,
          15931363295
         ],
         "yaxis": "y"
        },
        {
         "alignmentgroup": "True",
         "hovertemplate": "배급사=쇼박스,이십세기폭스코리아<br>연도=%{x}<br>매출액=%{y}<extra></extra>",
         "legendgroup": "쇼박스,이십세기폭스코리아",
         "marker": {
          "color": "#AA0DFE",
          "pattern": {
           "shape": ""
          }
         },
         "name": "쇼박스,이십세기폭스코리아",
         "offsetgroup": "쇼박스,이십세기폭스코리아",
         "orientation": "v",
         "showlegend": true,
         "textposition": "auto",
         "type": "bar",
         "x": [
          2010
         ],
         "xaxis": "x",
         "y": [
          16765970362
         ],
         "yaxis": "y"
        },
        {
         "alignmentgroup": "True",
         "hovertemplate": "배급사=넥스트엔터테인먼트월드(NEW),에스비에스콘텐츠허브<br>연도=%{x}<br>매출액=%{y}<extra></extra>",
         "legendgroup": "넥스트엔터테인먼트월드(NEW),에스비에스콘텐츠허브",
         "marker": {
          "color": "#3283FE",
          "pattern": {
           "shape": ""
          }
         },
         "name": "넥스트엔터테인먼트월드(NEW),에스비에스콘텐츠허브",
         "offsetgroup": "넥스트엔터테인먼트월드(NEW),에스비에스콘텐츠허브",
         "orientation": "v",
         "showlegend": true,
         "textposition": "auto",
         "type": "bar",
         "x": [
          2010
         ],
         "xaxis": "x",
         "y": [
          14063913437
         ],
         "yaxis": "y"
        },
        {
         "alignmentgroup": "True",
         "hovertemplate": "배급사=에스케이플래닛,씨제이이엔엠<br>연도=%{x}<br>매출액=%{y}<extra></extra>",
         "legendgroup": "에스케이플래닛,씨제이이엔엠",
         "marker": {
          "color": "#85660D",
          "pattern": {
           "shape": ""
          }
         },
         "name": "에스케이플래닛,씨제이이엔엠",
         "offsetgroup": "에스케이플래닛,씨제이이엔엠",
         "orientation": "v",
         "showlegend": true,
         "textposition": "auto",
         "type": "bar",
         "x": [
          2011
         ],
         "xaxis": "x",
         "y": [
          15994803000
         ],
         "yaxis": "y"
        },
        {
         "alignmentgroup": "True",
         "hovertemplate": "배급사=시너지하우스 (시너지),롯데쇼핑㈜롯데엔터테인먼트<br>연도=%{x}<br>매출액=%{y}<extra></extra>",
         "legendgroup": "시너지하우스 (시너지),롯데쇼핑㈜롯데엔터테인먼트",
         "marker": {
          "color": "#782AB6",
          "pattern": {
           "shape": ""
          }
         },
         "name": "시너지하우스 (시너지),롯데쇼핑㈜롯데엔터테인먼트",
         "offsetgroup": "시너지하우스 (시너지),롯데쇼핑㈜롯데엔터테인먼트",
         "orientation": "v",
         "showlegend": true,
         "textposition": "auto",
         "type": "bar",
         "x": [
          2011,
          2012
         ],
         "xaxis": "x",
         "y": [
          8096052500,
          8780178611
         ],
         "yaxis": "y"
        },
        {
         "alignmentgroup": "True",
         "hovertemplate": "배급사=인벤트스톤,영화사청어람<br>연도=%{x}<br>매출액=%{y}<extra></extra>",
         "legendgroup": "인벤트스톤,영화사청어람",
         "marker": {
          "color": "#565656",
          "pattern": {
           "shape": ""
          }
         },
         "name": "인벤트스톤,영화사청어람",
         "offsetgroup": "인벤트스톤,영화사청어람",
         "orientation": "v",
         "showlegend": true,
         "textposition": "auto",
         "type": "bar",
         "x": [
          2012
         ],
         "xaxis": "x",
         "y": [
          21241327145
         ],
         "yaxis": "y"
        },
        {
         "alignmentgroup": "True",
         "hovertemplate": "배급사=필라멘트픽쳐스<br>연도=%{x}<br>매출액=%{y}<extra></extra>",
         "legendgroup": "필라멘트픽쳐스",
         "marker": {
          "color": "#1C8356",
          "pattern": {
           "shape": ""
          }
         },
         "name": "필라멘트픽쳐스",
         "offsetgroup": "필라멘트픽쳐스",
         "orientation": "v",
         "showlegend": true,
         "textposition": "auto",
         "type": "bar",
         "x": [
          2012
         ],
         "xaxis": "x",
         "y": [
          18459203000
         ],
         "yaxis": "y"
        },
        {
         "alignmentgroup": "True",
         "hovertemplate": "배급사=씨너스엔터테인먼트,타임스토리그룹<br>연도=%{x}<br>매출액=%{y}<extra></extra>",
         "legendgroup": "씨너스엔터테인먼트,타임스토리그룹",
         "marker": {
          "color": "#16FF32",
          "pattern": {
           "shape": ""
          }
         },
         "name": "씨너스엔터테인먼트,타임스토리그룹",
         "offsetgroup": "씨너스엔터테인먼트,타임스토리그룹",
         "orientation": "v",
         "showlegend": true,
         "textposition": "auto",
         "type": "bar",
         "x": [
          2012
         ],
         "xaxis": "x",
         "y": [
          12240964500
         ],
         "yaxis": "y"
        },
        {
         "alignmentgroup": "True",
         "hovertemplate": "배급사=아이러브시네마<br>연도=%{x}<br>매출액=%{y}<extra></extra>",
         "legendgroup": "아이러브시네마",
         "marker": {
          "color": "#F7E1A0",
          "pattern": {
           "shape": ""
          }
         },
         "name": "아이러브시네마",
         "offsetgroup": "아이러브시네마",
         "orientation": "v",
         "showlegend": true,
         "textposition": "auto",
         "type": "bar",
         "x": [
          2013
         ],
         "xaxis": "x",
         "y": [
          21784202000
         ],
         "yaxis": "y"
        },
        {
         "alignmentgroup": "True",
         "hovertemplate": "배급사=이십세기폭스코리아<br>연도=%{x}<br>매출액=%{y}<extra></extra>",
         "legendgroup": "이십세기폭스코리아",
         "marker": {
          "color": "#E2E2E2",
          "pattern": {
           "shape": ""
          }
         },
         "name": "이십세기폭스코리아",
         "offsetgroup": "이십세기폭스코리아",
         "orientation": "v",
         "showlegend": true,
         "textposition": "auto",
         "type": "bar",
         "x": [
          2013,
          2014,
          2016
         ],
         "xaxis": "x",
         "y": [
          10060239500,
          8913092219,
          55863520382
         ],
         "yaxis": "y"
        },
        {
         "alignmentgroup": "True",
         "hovertemplate": "배급사=씨너스엔터테인먼트<br>연도=%{x}<br>매출액=%{y}<extra></extra>",
         "legendgroup": "씨너스엔터테인먼트",
         "marker": {
          "color": "#1CBE4F",
          "pattern": {
           "shape": ""
          }
         },
         "name": "씨너스엔터테인먼트",
         "offsetgroup": "씨너스엔터테인먼트",
         "orientation": "v",
         "showlegend": true,
         "textposition": "auto",
         "type": "bar",
         "x": [
          2013
         ],
         "xaxis": "x",
         "y": [
          8444337719
         ],
         "yaxis": "y"
        },
        {
         "alignmentgroup": "True",
         "hovertemplate": "배급사=CGV아트하우스,대명문화공장<br>연도=%{x}<br>매출액=%{y}<extra></extra>",
         "legendgroup": "CGV아트하우스,대명문화공장",
         "marker": {
          "color": "#C4451C",
          "pattern": {
           "shape": ""
          }
         },
         "name": "CGV아트하우스,대명문화공장",
         "offsetgroup": "CGV아트하우스,대명문화공장",
         "orientation": "v",
         "showlegend": true,
         "textposition": "auto",
         "type": "bar",
         "x": [
          2014
         ],
         "xaxis": "x",
         "y": [
          37355277679
         ],
         "yaxis": "y"
        },
        {
         "alignmentgroup": "True",
         "hovertemplate": "배급사=롯데쇼핑㈜롯데엔터테인먼트,싸이더스<br>연도=%{x}<br>매출액=%{y}<extra></extra>",
         "legendgroup": "롯데쇼핑㈜롯데엔터테인먼트,싸이더스",
         "marker": {
          "color": "#DEA0FD",
          "pattern": {
           "shape": ""
          }
         },
         "name": "롯데쇼핑㈜롯데엔터테인먼트,싸이더스",
         "offsetgroup": "롯데쇼핑㈜롯데엔터테인먼트,싸이더스",
         "orientation": "v",
         "showlegend": true,
         "textposition": "auto",
         "type": "bar",
         "x": [
          2014
         ],
         "xaxis": "x",
         "y": [
          32373120927
         ],
         "yaxis": "y"
        },
        {
         "alignmentgroup": "True",
         "hovertemplate": "배급사=씨네그루다우기술<br>연도=%{x}<br>매출액=%{y}<extra></extra>",
         "legendgroup": "씨네그루다우기술",
         "marker": {
          "color": "#FE00FA",
          "pattern": {
           "shape": ""
          }
         },
         "name": "씨네그루다우기술",
         "offsetgroup": "씨네그루다우기술",
         "orientation": "v",
         "showlegend": true,
         "textposition": "auto",
         "type": "bar",
         "x": [
          2014
         ],
         "xaxis": "x",
         "y": [
          16636404305
         ],
         "yaxis": "y"
        },
        {
         "alignmentgroup": "True",
         "hovertemplate": "배급사=플러스엠 엔터테인먼트<br>연도=%{x}<br>매출액=%{y}<extra></extra>",
         "legendgroup": "플러스엠 엔터테인먼트",
         "marker": {
          "color": "#325A9B",
          "pattern": {
           "shape": ""
          }
         },
         "name": "플러스엠 엔터테인먼트",
         "offsetgroup": "플러스엠 엔터테인먼트",
         "orientation": "v",
         "showlegend": true,
         "textposition": "auto",
         "type": "bar",
         "x": [
          2014,
          2016,
          2017,
          2018,
          2020,
          2022,
          2023
         ],
         "xaxis": "x",
         "y": [
          13515762802,
          26587798908,
          29876653793,
          66304995564,
          10979887910,
          44600858153,
          156204360890
         ],
         "yaxis": "y"
        },
        {
         "alignmentgroup": "True",
         "hovertemplate": "배급사=CGV아트하우스<br>연도=%{x}<br>매출액=%{y}<extra></extra>",
         "legendgroup": "CGV아트하우스",
         "marker": {
          "color": "#FEAF16",
          "pattern": {
           "shape": ""
          }
         },
         "name": "CGV아트하우스",
         "offsetgroup": "CGV아트하우스",
         "orientation": "v",
         "showlegend": true,
         "textposition": "auto",
         "type": "bar",
         "x": [
          2014,
          2015,
          2019
         ],
         "xaxis": "x",
         "y": [
          11727360300,
          20088211830,
          10233455040
         ],
         "yaxis": "y"
        },
        {
         "alignmentgroup": "True",
         "hovertemplate": "배급사=워너브러더스 코리아<br>연도=%{x}<br>매출액=%{y}<extra></extra>",
         "legendgroup": "워너브러더스 코리아",
         "marker": {
          "color": "#F8A19F",
          "pattern": {
           "shape": ""
          }
         },
         "name": "워너브러더스 코리아",
         "offsetgroup": "워너브러더스 코리아",
         "orientation": "v",
         "showlegend": true,
         "textposition": "auto",
         "type": "bar",
         "x": [
          2016,
          2017,
          2018
         ],
         "xaxis": "x",
         "y": [
          61269783831,
          10956621835,
          36713167693
         ],
         "yaxis": "y"
        },
        {
         "alignmentgroup": "True",
         "hovertemplate": "배급사=와우픽쳐스<br>연도=%{x}<br>매출액=%{y}<extra></extra>",
         "legendgroup": "와우픽쳐스",
         "marker": {
          "color": "#90AD1C",
          "pattern": {
           "shape": ""
          }
         },
         "name": "와우픽쳐스",
         "offsetgroup": "와우픽쳐스",
         "orientation": "v",
         "showlegend": true,
         "textposition": "auto",
         "type": "bar",
         "x": [
          2016
         ],
         "xaxis": "x",
         "y": [
          27248705990
         ],
         "yaxis": "y"
        },
        {
         "alignmentgroup": "True",
         "hovertemplate": "배급사=플러스엠 엔터테인먼트,키위미디어그룹<br>연도=%{x}<br>매출액=%{y}<extra></extra>",
         "legendgroup": "플러스엠 엔터테인먼트,키위미디어그룹",
         "marker": {
          "color": "#F6222E",
          "pattern": {
           "shape": ""
          }
         },
         "name": "플러스엠 엔터테인먼트,키위미디어그룹",
         "offsetgroup": "플러스엠 엔터테인먼트,키위미디어그룹",
         "orientation": "v",
         "showlegend": true,
         "textposition": "auto",
         "type": "bar",
         "x": [
          2017
         ],
         "xaxis": "x",
         "y": [
          56318014149
         ],
         "yaxis": "y"
        },
        {
         "alignmentgroup": "True",
         "hovertemplate": "배급사=롯데쇼핑㈜롯데엔터테인먼트,리틀빅픽쳐스<br>연도=%{x}<br>매출액=%{y}<extra></extra>",
         "legendgroup": "롯데쇼핑㈜롯데엔터테인먼트,리틀빅픽쳐스",
         "marker": {
          "color": "#1CFFCE",
          "pattern": {
           "shape": ""
          }
         },
         "name": "롯데쇼핑㈜롯데엔터테인먼트,리틀빅픽쳐스",
         "offsetgroup": "롯데쇼핑㈜롯데엔터테인먼트,리틀빅픽쳐스",
         "orientation": "v",
         "showlegend": true,
         "textposition": "auto",
         "type": "bar",
         "x": [
          2017
         ],
         "xaxis": "x",
         "y": [
          25532214986
         ],
         "yaxis": "y"
        },
        {
         "alignmentgroup": "True",
         "hovertemplate": "배급사=오퍼스픽쳐스(유),CGV아트하우스<br>연도=%{x}<br>매출액=%{y}<extra></extra>",
         "legendgroup": "오퍼스픽쳐스(유),CGV아트하우스",
         "marker": {
          "color": "#2ED9FF",
          "pattern": {
           "shape": ""
          }
         },
         "name": "오퍼스픽쳐스(유),CGV아트하우스",
         "offsetgroup": "오퍼스픽쳐스(유),CGV아트하우스",
         "orientation": "v",
         "showlegend": true,
         "textposition": "auto",
         "type": "bar",
         "x": [
          2017
         ],
         "xaxis": "x",
         "y": [
          19264792637
         ],
         "yaxis": "y"
        },
        {
         "alignmentgroup": "True",
         "hovertemplate": "배급사=CGV아트하우스,영화사 풀<br>연도=%{x}<br>매출액=%{y}<extra></extra>",
         "legendgroup": "CGV아트하우스,영화사 풀",
         "marker": {
          "color": "#B10DA1",
          "pattern": {
           "shape": ""
          }
         },
         "name": "CGV아트하우스,영화사 풀",
         "offsetgroup": "CGV아트하우스,영화사 풀",
         "orientation": "v",
         "showlegend": true,
         "textposition": "auto",
         "type": "bar",
         "x": [
          2017
         ],
         "xaxis": "x",
         "y": [
          14554935612
         ],
         "yaxis": "y"
        },
        {
         "alignmentgroup": "True",
         "hovertemplate": "배급사=롯데컬처웍스롯데엔터테인먼트<br>연도=%{x}<br>매출액=%{y}<extra></extra>",
         "legendgroup": "롯데컬처웍스롯데엔터테인먼트",
         "marker": {
          "color": "#C075A6",
          "pattern": {
           "shape": ""
          }
         },
         "name": "롯데컬처웍스롯데엔터테인먼트",
         "offsetgroup": "롯데컬처웍스롯데엔터테인먼트",
         "orientation": "v",
         "showlegend": true,
         "textposition": "auto",
         "type": "bar",
         "x": [
          2018,
          2019,
          2020,
          2021,
          2022,
          2023
         ],
         "xaxis": "x",
         "y": [
          147022899383,
          133167095641,
          65220859880,
          34558297730,
          97123182386,
          51307061165
         ],
         "yaxis": "y"
        },
        {
         "alignmentgroup": "True",
         "hovertemplate": "배급사=키다리이엔티<br>연도=%{x}<br>매출액=%{y}<extra></extra>",
         "legendgroup": "키다리이엔티",
         "marker": {
          "color": "#FC1CBF",
          "pattern": {
           "shape": ""
          }
         },
         "name": "키다리이엔티",
         "offsetgroup": "키다리이엔티",
         "orientation": "v",
         "showlegend": true,
         "textposition": "auto",
         "type": "bar",
         "x": [
          2018
         ],
         "xaxis": "x",
         "y": [
          10697981316
         ],
         "yaxis": "y"
        },
        {
         "alignmentgroup": "True",
         "hovertemplate": "배급사=씨제이이엔엠,덱스터스튜디오<br>연도=%{x}<br>매출액=%{y}<extra></extra>",
         "legendgroup": "씨제이이엔엠,덱스터스튜디오",
         "marker": {
          "color": "#B00068",
          "pattern": {
           "shape": ""
          }
         },
         "name": "씨제이이엔엠,덱스터스튜디오",
         "offsetgroup": "씨제이이엔엠,덱스터스튜디오",
         "orientation": "v",
         "showlegend": true,
         "textposition": "auto",
         "type": "bar",
         "x": [
          2019
         ],
         "xaxis": "x",
         "y": [
          69825366300
         ],
         "yaxis": "y"
        },
        {
         "alignmentgroup": "True",
         "hovertemplate": "배급사=에이스메이커무비웍스<br>연도=%{x}<br>매출액=%{y}<extra></extra>",
         "legendgroup": "에이스메이커무비웍스",
         "marker": {
          "color": "#FBE426",
          "pattern": {
           "shape": ""
          }
         },
         "name": "에이스메이커무비웍스",
         "offsetgroup": "에이스메이커무비웍스",
         "orientation": "v",
         "showlegend": true,
         "textposition": "auto",
         "type": "bar",
         "x": [
          2019,
          2020
         ],
         "xaxis": "x",
         "y": [
          36284556935,
          10282332090
         ],
         "yaxis": "y"
        },
        {
         "alignmentgroup": "True",
         "hovertemplate": "배급사=에이스메이커무비웍스,키위미디어그룹<br>연도=%{x}<br>매출액=%{y}<extra></extra>",
         "legendgroup": "에이스메이커무비웍스,키위미디어그룹",
         "marker": {
          "color": "#FA0087",
          "pattern": {
           "shape": ""
          }
         },
         "name": "에이스메이커무비웍스,키위미디어그룹",
         "offsetgroup": "에이스메이커무비웍스,키위미디어그룹",
         "orientation": "v",
         "showlegend": true,
         "textposition": "auto",
         "type": "bar",
         "x": [
          2019
         ],
         "xaxis": "x",
         "y": [
          29130540150
         ],
         "yaxis": "y"
        },
        {
         "alignmentgroup": "True",
         "hovertemplate": "배급사=메리크리스마스,TCO더콘텐츠온<br>연도=%{x}<br>매출액=%{y}<extra></extra>",
         "legendgroup": "메리크리스마스,TCO더콘텐츠온",
         "marker": {
          "color": "#AA0DFE",
          "pattern": {
           "shape": ""
          }
         },
         "name": "메리크리스마스,TCO더콘텐츠온",
         "offsetgroup": "메리크리스마스,TCO더콘텐츠온",
         "orientation": "v",
         "showlegend": true,
         "textposition": "auto",
         "type": "bar",
         "x": [
          2019
         ],
         "xaxis": "x",
         "y": [
          16412116567
         ],
         "yaxis": "y"
        },
        {
         "alignmentgroup": "True",
         "hovertemplate": "배급사=플러스엠 엔터테인먼트,콘텐츠지오<br>연도=%{x}<br>매출액=%{y}<extra></extra>",
         "legendgroup": "플러스엠 엔터테인먼트,콘텐츠지오",
         "marker": {
          "color": "#3283FE",
          "pattern": {
           "shape": ""
          }
         },
         "name": "플러스엠 엔터테인먼트,콘텐츠지오",
         "offsetgroup": "플러스엠 엔터테인먼트,콘텐츠지오",
         "orientation": "v",
         "showlegend": true,
         "textposition": "auto",
         "type": "bar",
         "x": [
          2019
         ],
         "xaxis": "x",
         "y": [
          9228798910
         ],
         "yaxis": "y"
        },
        {
         "alignmentgroup": "True",
         "hovertemplate": "배급사=주식회사 에이비오엔터테인먼트,플러스엠 엔터테인먼트<br>연도=%{x}<br>매출액=%{y}<extra></extra>",
         "legendgroup": "주식회사 에이비오엔터테인먼트,플러스엠 엔터테인먼트",
         "marker": {
          "color": "#85660D",
          "pattern": {
           "shape": ""
          }
         },
         "name": "주식회사 에이비오엔터테인먼트,플러스엠 엔터테인먼트",
         "offsetgroup": "주식회사 에이비오엔터테인먼트,플러스엠 엔터테인먼트",
         "orientation": "v",
         "showlegend": true,
         "textposition": "auto",
         "type": "bar",
         "x": [
          2022,
          2023
         ],
         "xaxis": "x",
         "y": [
          131295679478,
          104687737771
         ],
         "yaxis": "y"
        },
        {
         "alignmentgroup": "True",
         "hovertemplate": "배급사=홈초이스,싸이더스<br>연도=%{x}<br>매출액=%{y}<extra></extra>",
         "legendgroup": "홈초이스,싸이더스",
         "marker": {
          "color": "#782AB6",
          "pattern": {
           "shape": ""
          }
         },
         "name": "홈초이스,싸이더스",
         "offsetgroup": "홈초이스,싸이더스",
         "orientation": "v",
         "showlegend": true,
         "textposition": "auto",
         "type": "bar",
         "x": [
          2022
         ],
         "xaxis": "x",
         "y": [
          19791166880
         ],
         "yaxis": "y"
        },
        {
         "alignmentgroup": "True",
         "hovertemplate": "배급사=롯데컬처웍스롯데엔터테인먼트,에이스메이커무비웍스<br>연도=%{x}<br>매출액=%{y}<extra></extra>",
         "legendgroup": "롯데컬처웍스롯데엔터테인먼트,에이스메이커무비웍스",
         "marker": {
          "color": "#565656",
          "pattern": {
           "shape": ""
          }
         },
         "name": "롯데컬처웍스롯데엔터테인먼트,에이스메이커무비웍스",
         "offsetgroup": "롯데컬처웍스롯데엔터테인먼트,에이스메이커무비웍스",
         "orientation": "v",
         "showlegend": true,
         "textposition": "auto",
         "type": "bar",
         "x": [
          2023
         ],
         "xaxis": "x",
         "y": [
          45001435027
         ],
         "yaxis": "y"
        },
        {
         "alignmentgroup": "True",
         "hovertemplate": "배급사=마인드마크<br>연도=%{x}<br>매출액=%{y}<extra></extra>",
         "legendgroup": "마인드마크",
         "marker": {
          "color": "#1C8356",
          "pattern": {
           "shape": ""
          }
         },
         "name": "마인드마크",
         "offsetgroup": "마인드마크",
         "orientation": "v",
         "showlegend": true,
         "textposition": "auto",
         "type": "bar",
         "x": [
          2023
         ],
         "xaxis": "x",
         "y": [
          34702401415
         ],
         "yaxis": "y"
        }
       ],
       "layout": {
        "barmode": "relative",
        "legend": {
         "title": {
          "text": "배급사"
         },
         "tracegroupgap": 0
        },
        "template": {
         "data": {
          "bar": [
           {
            "error_x": {
             "color": "#2a3f5f"
            },
            "error_y": {
             "color": "#2a3f5f"
            },
            "marker": {
             "line": {
              "color": "#E5ECF6",
              "width": 0.5
             },
             "pattern": {
              "fillmode": "overlay",
              "size": 10,
              "solidity": 0.2
             }
            },
            "type": "bar"
           }
          ],
          "barpolar": [
           {
            "marker": {
             "line": {
              "color": "#E5ECF6",
              "width": 0.5
             },
             "pattern": {
              "fillmode": "overlay",
              "size": 10,
              "solidity": 0.2
             }
            },
            "type": "barpolar"
           }
          ],
          "carpet": [
           {
            "aaxis": {
             "endlinecolor": "#2a3f5f",
             "gridcolor": "white",
             "linecolor": "white",
             "minorgridcolor": "white",
             "startlinecolor": "#2a3f5f"
            },
            "baxis": {
             "endlinecolor": "#2a3f5f",
             "gridcolor": "white",
             "linecolor": "white",
             "minorgridcolor": "white",
             "startlinecolor": "#2a3f5f"
            },
            "type": "carpet"
           }
          ],
          "choropleth": [
           {
            "colorbar": {
             "outlinewidth": 0,
             "ticks": ""
            },
            "type": "choropleth"
           }
          ],
          "contour": [
           {
            "colorbar": {
             "outlinewidth": 0,
             "ticks": ""
            },
            "colorscale": [
             [
              0,
              "#0d0887"
             ],
             [
              0.1111111111111111,
              "#46039f"
             ],
             [
              0.2222222222222222,
              "#7201a8"
             ],
             [
              0.3333333333333333,
              "#9c179e"
             ],
             [
              0.4444444444444444,
              "#bd3786"
             ],
             [
              0.5555555555555556,
              "#d8576b"
             ],
             [
              0.6666666666666666,
              "#ed7953"
             ],
             [
              0.7777777777777778,
              "#fb9f3a"
             ],
             [
              0.8888888888888888,
              "#fdca26"
             ],
             [
              1,
              "#f0f921"
             ]
            ],
            "type": "contour"
           }
          ],
          "contourcarpet": [
           {
            "colorbar": {
             "outlinewidth": 0,
             "ticks": ""
            },
            "type": "contourcarpet"
           }
          ],
          "heatmap": [
           {
            "colorbar": {
             "outlinewidth": 0,
             "ticks": ""
            },
            "colorscale": [
             [
              0,
              "#0d0887"
             ],
             [
              0.1111111111111111,
              "#46039f"
             ],
             [
              0.2222222222222222,
              "#7201a8"
             ],
             [
              0.3333333333333333,
              "#9c179e"
             ],
             [
              0.4444444444444444,
              "#bd3786"
             ],
             [
              0.5555555555555556,
              "#d8576b"
             ],
             [
              0.6666666666666666,
              "#ed7953"
             ],
             [
              0.7777777777777778,
              "#fb9f3a"
             ],
             [
              0.8888888888888888,
              "#fdca26"
             ],
             [
              1,
              "#f0f921"
             ]
            ],
            "type": "heatmap"
           }
          ],
          "heatmapgl": [
           {
            "colorbar": {
             "outlinewidth": 0,
             "ticks": ""
            },
            "colorscale": [
             [
              0,
              "#0d0887"
             ],
             [
              0.1111111111111111,
              "#46039f"
             ],
             [
              0.2222222222222222,
              "#7201a8"
             ],
             [
              0.3333333333333333,
              "#9c179e"
             ],
             [
              0.4444444444444444,
              "#bd3786"
             ],
             [
              0.5555555555555556,
              "#d8576b"
             ],
             [
              0.6666666666666666,
              "#ed7953"
             ],
             [
              0.7777777777777778,
              "#fb9f3a"
             ],
             [
              0.8888888888888888,
              "#fdca26"
             ],
             [
              1,
              "#f0f921"
             ]
            ],
            "type": "heatmapgl"
           }
          ],
          "histogram": [
           {
            "marker": {
             "pattern": {
              "fillmode": "overlay",
              "size": 10,
              "solidity": 0.2
             }
            },
            "type": "histogram"
           }
          ],
          "histogram2d": [
           {
            "colorbar": {
             "outlinewidth": 0,
             "ticks": ""
            },
            "colorscale": [
             [
              0,
              "#0d0887"
             ],
             [
              0.1111111111111111,
              "#46039f"
             ],
             [
              0.2222222222222222,
              "#7201a8"
             ],
             [
              0.3333333333333333,
              "#9c179e"
             ],
             [
              0.4444444444444444,
              "#bd3786"
             ],
             [
              0.5555555555555556,
              "#d8576b"
             ],
             [
              0.6666666666666666,
              "#ed7953"
             ],
             [
              0.7777777777777778,
              "#fb9f3a"
             ],
             [
              0.8888888888888888,
              "#fdca26"
             ],
             [
              1,
              "#f0f921"
             ]
            ],
            "type": "histogram2d"
           }
          ],
          "histogram2dcontour": [
           {
            "colorbar": {
             "outlinewidth": 0,
             "ticks": ""
            },
            "colorscale": [
             [
              0,
              "#0d0887"
             ],
             [
              0.1111111111111111,
              "#46039f"
             ],
             [
              0.2222222222222222,
              "#7201a8"
             ],
             [
              0.3333333333333333,
              "#9c179e"
             ],
             [
              0.4444444444444444,
              "#bd3786"
             ],
             [
              0.5555555555555556,
              "#d8576b"
             ],
             [
              0.6666666666666666,
              "#ed7953"
             ],
             [
              0.7777777777777778,
              "#fb9f3a"
             ],
             [
              0.8888888888888888,
              "#fdca26"
             ],
             [
              1,
              "#f0f921"
             ]
            ],
            "type": "histogram2dcontour"
           }
          ],
          "mesh3d": [
           {
            "colorbar": {
             "outlinewidth": 0,
             "ticks": ""
            },
            "type": "mesh3d"
           }
          ],
          "parcoords": [
           {
            "line": {
             "colorbar": {
              "outlinewidth": 0,
              "ticks": ""
             }
            },
            "type": "parcoords"
           }
          ],
          "pie": [
           {
            "automargin": true,
            "type": "pie"
           }
          ],
          "scatter": [
           {
            "fillpattern": {
             "fillmode": "overlay",
             "size": 10,
             "solidity": 0.2
            },
            "type": "scatter"
           }
          ],
          "scatter3d": [
           {
            "line": {
             "colorbar": {
              "outlinewidth": 0,
              "ticks": ""
             }
            },
            "marker": {
             "colorbar": {
              "outlinewidth": 0,
              "ticks": ""
             }
            },
            "type": "scatter3d"
           }
          ],
          "scattercarpet": [
           {
            "marker": {
             "colorbar": {
              "outlinewidth": 0,
              "ticks": ""
             }
            },
            "type": "scattercarpet"
           }
          ],
          "scattergeo": [
           {
            "marker": {
             "colorbar": {
              "outlinewidth": 0,
              "ticks": ""
             }
            },
            "type": "scattergeo"
           }
          ],
          "scattergl": [
           {
            "marker": {
             "colorbar": {
              "outlinewidth": 0,
              "ticks": ""
             }
            },
            "type": "scattergl"
           }
          ],
          "scattermapbox": [
           {
            "marker": {
             "colorbar": {
              "outlinewidth": 0,
              "ticks": ""
             }
            },
            "type": "scattermapbox"
           }
          ],
          "scatterpolar": [
           {
            "marker": {
             "colorbar": {
              "outlinewidth": 0,
              "ticks": ""
             }
            },
            "type": "scatterpolar"
           }
          ],
          "scatterpolargl": [
           {
            "marker": {
             "colorbar": {
              "outlinewidth": 0,
              "ticks": ""
             }
            },
            "type": "scatterpolargl"
           }
          ],
          "scatterternary": [
           {
            "marker": {
             "colorbar": {
              "outlinewidth": 0,
              "ticks": ""
             }
            },
            "type": "scatterternary"
           }
          ],
          "surface": [
           {
            "colorbar": {
             "outlinewidth": 0,
             "ticks": ""
            },
            "colorscale": [
             [
              0,
              "#0d0887"
             ],
             [
              0.1111111111111111,
              "#46039f"
             ],
             [
              0.2222222222222222,
              "#7201a8"
             ],
             [
              0.3333333333333333,
              "#9c179e"
             ],
             [
              0.4444444444444444,
              "#bd3786"
             ],
             [
              0.5555555555555556,
              "#d8576b"
             ],
             [
              0.6666666666666666,
              "#ed7953"
             ],
             [
              0.7777777777777778,
              "#fb9f3a"
             ],
             [
              0.8888888888888888,
              "#fdca26"
             ],
             [
              1,
              "#f0f921"
             ]
            ],
            "type": "surface"
           }
          ],
          "table": [
           {
            "cells": {
             "fill": {
              "color": "#EBF0F8"
             },
             "line": {
              "color": "white"
             }
            },
            "header": {
             "fill": {
              "color": "#C8D4E3"
             },
             "line": {
              "color": "white"
             }
            },
            "type": "table"
           }
          ]
         },
         "layout": {
          "annotationdefaults": {
           "arrowcolor": "#2a3f5f",
           "arrowhead": 0,
           "arrowwidth": 1
          },
          "autotypenumbers": "strict",
          "coloraxis": {
           "colorbar": {
            "outlinewidth": 0,
            "ticks": ""
           }
          },
          "colorscale": {
           "diverging": [
            [
             0,
             "#8e0152"
            ],
            [
             0.1,
             "#c51b7d"
            ],
            [
             0.2,
             "#de77ae"
            ],
            [
             0.3,
             "#f1b6da"
            ],
            [
             0.4,
             "#fde0ef"
            ],
            [
             0.5,
             "#f7f7f7"
            ],
            [
             0.6,
             "#e6f5d0"
            ],
            [
             0.7,
             "#b8e186"
            ],
            [
             0.8,
             "#7fbc41"
            ],
            [
             0.9,
             "#4d9221"
            ],
            [
             1,
             "#276419"
            ]
           ],
           "sequential": [
            [
             0,
             "#0d0887"
            ],
            [
             0.1111111111111111,
             "#46039f"
            ],
            [
             0.2222222222222222,
             "#7201a8"
            ],
            [
             0.3333333333333333,
             "#9c179e"
            ],
            [
             0.4444444444444444,
             "#bd3786"
            ],
            [
             0.5555555555555556,
             "#d8576b"
            ],
            [
             0.6666666666666666,
             "#ed7953"
            ],
            [
             0.7777777777777778,
             "#fb9f3a"
            ],
            [
             0.8888888888888888,
             "#fdca26"
            ],
            [
             1,
             "#f0f921"
            ]
           ],
           "sequentialminus": [
            [
             0,
             "#0d0887"
            ],
            [
             0.1111111111111111,
             "#46039f"
            ],
            [
             0.2222222222222222,
             "#7201a8"
            ],
            [
             0.3333333333333333,
             "#9c179e"
            ],
            [
             0.4444444444444444,
             "#bd3786"
            ],
            [
             0.5555555555555556,
             "#d8576b"
            ],
            [
             0.6666666666666666,
             "#ed7953"
            ],
            [
             0.7777777777777778,
             "#fb9f3a"
            ],
            [
             0.8888888888888888,
             "#fdca26"
            ],
            [
             1,
             "#f0f921"
            ]
           ]
          },
          "colorway": [
           "#636efa",
           "#EF553B",
           "#00cc96",
           "#ab63fa",
           "#FFA15A",
           "#19d3f3",
           "#FF6692",
           "#B6E880",
           "#FF97FF",
           "#FECB52"
          ],
          "font": {
           "color": "#2a3f5f"
          },
          "geo": {
           "bgcolor": "white",
           "lakecolor": "white",
           "landcolor": "#E5ECF6",
           "showlakes": true,
           "showland": true,
           "subunitcolor": "white"
          },
          "hoverlabel": {
           "align": "left"
          },
          "hovermode": "closest",
          "mapbox": {
           "style": "light"
          },
          "paper_bgcolor": "white",
          "plot_bgcolor": "#E5ECF6",
          "polar": {
           "angularaxis": {
            "gridcolor": "white",
            "linecolor": "white",
            "ticks": ""
           },
           "bgcolor": "#E5ECF6",
           "radialaxis": {
            "gridcolor": "white",
            "linecolor": "white",
            "ticks": ""
           }
          },
          "scene": {
           "xaxis": {
            "backgroundcolor": "#E5ECF6",
            "gridcolor": "white",
            "gridwidth": 2,
            "linecolor": "white",
            "showbackground": true,
            "ticks": "",
            "zerolinecolor": "white"
           },
           "yaxis": {
            "backgroundcolor": "#E5ECF6",
            "gridcolor": "white",
            "gridwidth": 2,
            "linecolor": "white",
            "showbackground": true,
            "ticks": "",
            "zerolinecolor": "white"
           },
           "zaxis": {
            "backgroundcolor": "#E5ECF6",
            "gridcolor": "white",
            "gridwidth": 2,
            "linecolor": "white",
            "showbackground": true,
            "ticks": "",
            "zerolinecolor": "white"
           }
          },
          "shapedefaults": {
           "line": {
            "color": "#2a3f5f"
           }
          },
          "ternary": {
           "aaxis": {
            "gridcolor": "white",
            "linecolor": "white",
            "ticks": ""
           },
           "baxis": {
            "gridcolor": "white",
            "linecolor": "white",
            "ticks": ""
           },
           "bgcolor": "#E5ECF6",
           "caxis": {
            "gridcolor": "white",
            "linecolor": "white",
            "ticks": ""
           }
          },
          "title": {
           "x": 0.05
          },
          "xaxis": {
           "automargin": true,
           "gridcolor": "white",
           "linecolor": "white",
           "ticks": "",
           "title": {
            "standoff": 15
           },
           "zerolinecolor": "white",
           "zerolinewidth": 2
          },
          "yaxis": {
           "automargin": true,
           "gridcolor": "white",
           "linecolor": "white",
           "ticks": "",
           "title": {
            "standoff": 15
           },
           "zerolinecolor": "white",
           "zerolinewidth": 2
          }
         }
        },
        "title": {
         "text": "연도별 상위 10개 배급사의 매출액"
        },
        "xaxis": {
         "anchor": "y",
         "domain": [
          0,
          1
         ],
         "title": {
          "text": "연도"
         }
        },
        "yaxis": {
         "anchor": "x",
         "domain": [
          0,
          1
         ],
         "tickformat": ",.0f",
         "title": {
          "text": "매출액"
         }
        }
       }
      }
     },
     "metadata": {},
     "output_type": "display_data"
    },
    {
     "data": {
      "application/vnd.plotly.v1+json": {
       "config": {
        "plotlyServerURL": "https://plot.ly"
       },
       "data": [
        {
         "alignmentgroup": "True",
         "hovertemplate": "배급사=시네마서비스<br>연도=%{x}<br>관객수=%{y}<extra></extra>",
         "legendgroup": "시네마서비스",
         "marker": {
          "color": "#AA0DFE",
          "pattern": {
           "shape": ""
          }
         },
         "name": "시네마서비스",
         "offsetgroup": "시네마서비스",
         "orientation": "v",
         "showlegend": true,
         "textposition": "auto",
         "type": "bar",
         "x": [
          1999,
          2001,
          2002,
          2003,
          2004,
          2005,
          2006,
          2007,
          2010
         ],
         "xaxis": "x",
         "y": [
          3540000,
          1608211,
          3101900,
          20322185,
          10618000,
          22107609,
          1879501,
          8981723,
          1144238
         ],
         "yaxis": "y"
        },
        {
         "alignmentgroup": "True",
         "hovertemplate": "배급사=씨제이이엔엠<br>연도=%{x}<br>관객수=%{y}<extra></extra>",
         "legendgroup": "씨제이이엔엠",
         "marker": {
          "color": "#3283FE",
          "pattern": {
           "shape": ""
          }
         },
         "name": "씨제이이엔엠",
         "offsetgroup": "씨제이이엔엠",
         "orientation": "v",
         "showlegend": true,
         "textposition": "auto",
         "type": "bar",
         "x": [
          2000,
          2001,
          2003,
          2004,
          2005,
          2006,
          2007,
          2008,
          2009,
          2010,
          2011,
          2012,
          2013,
          2014,
          2015,
          2016,
          2017,
          2018,
          2019,
          2020,
          2021,
          2022,
          2023,
          2024
         ],
         "xaxis": "x",
         "y": [
          2513540,
          1228142,
          2251491,
          11805745,
          21783095,
          33081771,
          26021105,
          16141237,
          32081096,
          23579183,
          28660184,
          43187121,
          28869104,
          46215003,
          37332905,
          28748400,
          29639668,
          21667304,
          46762902,
          8893511,
          1426357,
          14954030,
          1916429,
          1430121
         ],
         "yaxis": "y"
        },
        {
         "alignmentgroup": "True",
         "hovertemplate": "배급사=이언픽쳐스,시네마서비스<br>연도=%{x}<br>관객수=%{y}<extra></extra>",
         "legendgroup": "이언픽쳐스,시네마서비스",
         "marker": {
          "color": "#85660D",
          "pattern": {
           "shape": ""
          }
         },
         "name": "이언픽쳐스,시네마서비스",
         "offsetgroup": "이언픽쳐스,시네마서비스",
         "orientation": "v",
         "showlegend": true,
         "textposition": "auto",
         "type": "bar",
         "x": [
          2001
         ],
         "xaxis": "x",
         "y": [
          1735692
         ],
         "yaxis": "y"
        },
        {
         "alignmentgroup": "True",
         "hovertemplate": "배급사=쇼박스<br>연도=%{x}<br>관객수=%{y}<extra></extra>",
         "legendgroup": "쇼박스",
         "marker": {
          "color": "#782AB6",
          "pattern": {
           "shape": ""
          }
         },
         "name": "쇼박스",
         "offsetgroup": "쇼박스",
         "orientation": "v",
         "showlegend": true,
         "textposition": "auto",
         "type": "bar",
         "x": [
          2002,
          2003,
          2004,
          2005,
          2006,
          2007,
          2008,
          2009,
          2010,
          2011,
          2012,
          2013,
          2014,
          2015,
          2016,
          2017,
          2018,
          2019,
          2020,
          2021,
          2022,
          2023,
          2024
         ],
         "xaxis": "x",
         "y": [
          4082797,
          3148748,
          10824886,
          29864828,
          33618301,
          13678669,
          10557748,
          14772407,
          7355524,
          11152104,
          22789718,
          30610951,
          11791536,
          37033542,
          25911229,
          23158145,
          12366465,
          11243309,
          4750104,
          2195683,
          2058762,
          1058645,
          12662540
         ],
         "yaxis": "y"
        },
        {
         "alignmentgroup": "True",
         "hovertemplate": "배급사=영화사청어람<br>연도=%{x}<br>관객수=%{y}<extra></extra>",
         "legendgroup": "영화사청어람",
         "marker": {
          "color": "#565656",
          "pattern": {
           "shape": ""
          }
         },
         "name": "영화사청어람",
         "offsetgroup": "영화사청어람",
         "orientation": "v",
         "showlegend": true,
         "textposition": "auto",
         "type": "bar",
         "x": [
          2002,
          2003,
          2004
         ],
         "xaxis": "x",
         "y": [
          1694637,
          3146217,
          2346446
         ],
         "yaxis": "y"
        },
        {
         "alignmentgroup": "True",
         "hovertemplate": "배급사=쇼이스트,씨제이이엔엠<br>연도=%{x}<br>관객수=%{y}<extra></extra>",
         "legendgroup": "쇼이스트,씨제이이엔엠",
         "marker": {
          "color": "#1C8356",
          "pattern": {
           "shape": ""
          }
         },
         "name": "쇼이스트,씨제이이엔엠",
         "offsetgroup": "쇼이스트,씨제이이엔엠",
         "orientation": "v",
         "showlegend": true,
         "textposition": "auto",
         "type": "bar",
         "x": [
          2003
         ],
         "xaxis": "x",
         "y": [
          3269000
         ],
         "yaxis": "y"
        },
        {
         "alignmentgroup": "True",
         "hovertemplate": "배급사=쇼이스트<br>연도=%{x}<br>관객수=%{y}<extra></extra>",
         "legendgroup": "쇼이스트",
         "marker": {
          "color": "#16FF32",
          "pattern": {
           "shape": ""
          }
         },
         "name": "쇼이스트",
         "offsetgroup": "쇼이스트",
         "orientation": "v",
         "showlegend": true,
         "textposition": "auto",
         "type": "bar",
         "x": [
          2003,
          2005,
          2006
         ],
         "xaxis": "x",
         "y": [
          1394000,
          3926032,
          1858668
         ],
         "yaxis": "y"
        },
        {
         "alignmentgroup": "True",
         "hovertemplate": "배급사=다자인소프트,쇼박스<br>연도=%{x}<br>관객수=%{y}<extra></extra>",
         "legendgroup": "다자인소프트,쇼박스",
         "marker": {
          "color": "#F7E1A0",
          "pattern": {
           "shape": ""
          }
         },
         "name": "다자인소프트,쇼박스",
         "offsetgroup": "다자인소프트,쇼박스",
         "orientation": "v",
         "showlegend": true,
         "textposition": "auto",
         "type": "bar",
         "x": [
          2004
         ],
         "xaxis": "x",
         "y": [
          11746135
         ],
         "yaxis": "y"
        },
        {
         "alignmentgroup": "True",
         "hovertemplate": "배급사=코리아픽쳐스<br>연도=%{x}<br>관객수=%{y}<extra></extra>",
         "legendgroup": "코리아픽쳐스",
         "marker": {
          "color": "#E2E2E2",
          "pattern": {
           "shape": ""
          }
         },
         "name": "코리아픽쳐스",
         "offsetgroup": "코리아픽쳐스",
         "orientation": "v",
         "showlegend": true,
         "textposition": "auto",
         "type": "bar",
         "x": [
          2004,
          2005
         ],
         "xaxis": "x",
         "y": [
          6187676,
          1203146
         ],
         "yaxis": "y"
        },
        {
         "alignmentgroup": "True",
         "hovertemplate": "배급사=씨제이이엔엠,아이러브시네마<br>연도=%{x}<br>관객수=%{y}<extra></extra>",
         "legendgroup": "씨제이이엔엠,아이러브시네마",
         "marker": {
          "color": "#1CBE4F",
          "pattern": {
           "shape": ""
          }
         },
         "name": "씨제이이엔엠,아이러브시네마",
         "offsetgroup": "씨제이이엔엠,아이러브시네마",
         "orientation": "v",
         "showlegend": true,
         "textposition": "auto",
         "type": "bar",
         "x": [
          2004
         ],
         "xaxis": "x",
         "y": [
          3731199
         ],
         "yaxis": "y"
        },
        {
         "alignmentgroup": "True",
         "hovertemplate": "배급사=튜브엔터테인먼트<br>연도=%{x}<br>관객수=%{y}<extra></extra>",
         "legendgroup": "튜브엔터테인먼트",
         "marker": {
          "color": "#C4451C",
          "pattern": {
           "shape": ""
          }
         },
         "name": "튜브엔터테인먼트",
         "offsetgroup": "튜브엔터테인먼트",
         "orientation": "v",
         "showlegend": true,
         "textposition": "auto",
         "type": "bar",
         "x": [
          2004
         ],
         "xaxis": "x",
         "y": [
          1932304
         ],
         "yaxis": "y"
        },
        {
         "alignmentgroup": "True",
         "hovertemplate": "배급사=롯데쇼핑㈜롯데엔터테인먼트<br>연도=%{x}<br>관객수=%{y}<extra></extra>",
         "legendgroup": "롯데쇼핑㈜롯데엔터테인먼트",
         "marker": {
          "color": "#DEA0FD",
          "pattern": {
           "shape": ""
          }
         },
         "name": "롯데쇼핑㈜롯데엔터테인먼트",
         "offsetgroup": "롯데쇼핑㈜롯데엔터테인먼트",
         "orientation": "v",
         "showlegend": true,
         "textposition": "auto",
         "type": "bar",
         "x": [
          2005,
          2006,
          2007,
          2008,
          2009,
          2010,
          2011,
          2012,
          2013,
          2014,
          2015,
          2016,
          2017,
          2018
         ],
         "xaxis": "x",
         "y": [
          3936234,
          2581295,
          3428246,
          10304287,
          5888155,
          10660363,
          17360479,
          12998254,
          13131337,
          16755859,
          1110246,
          6767854,
          23857241,
          2602273
         ],
         "yaxis": "y"
        },
        {
         "alignmentgroup": "True",
         "hovertemplate": "배급사=엠케이픽처스<br>연도=%{x}<br>관객수=%{y}<extra></extra>",
         "legendgroup": "엠케이픽처스",
         "marker": {
          "color": "#FE00FA",
          "pattern": {
           "shape": ""
          }
         },
         "name": "엠케이픽처스",
         "offsetgroup": "엠케이픽처스",
         "orientation": "v",
         "showlegend": true,
         "textposition": "auto",
         "type": "bar",
         "x": [
          2005
         ],
         "xaxis": "x",
         "y": [
          3514162
         ],
         "yaxis": "y"
        },
        {
         "alignmentgroup": "True",
         "hovertemplate": "배급사=롯데쇼핑㈜롯데엔터테인먼트,아이러브시네마<br>연도=%{x}<br>관객수=%{y}<extra></extra>",
         "legendgroup": "롯데쇼핑㈜롯데엔터테인먼트,아이러브시네마",
         "marker": {
          "color": "#325A9B",
          "pattern": {
           "shape": ""
          }
         },
         "name": "롯데쇼핑㈜롯데엔터테인먼트,아이러브시네마",
         "offsetgroup": "롯데쇼핑㈜롯데엔터테인먼트,아이러브시네마",
         "orientation": "v",
         "showlegend": true,
         "textposition": "auto",
         "type": "bar",
         "x": [
          2005
         ],
         "xaxis": "x",
         "y": [
          1066765
         ],
         "yaxis": "y"
        },
        {
         "alignmentgroup": "True",
         "hovertemplate": "배급사=프라임엔터테인먼트<br>연도=%{x}<br>관객수=%{y}<extra></extra>",
         "legendgroup": "프라임엔터테인먼트",
         "marker": {
          "color": "#FEAF16",
          "pattern": {
           "shape": ""
          }
         },
         "name": "프라임엔터테인먼트",
         "offsetgroup": "프라임엔터테인먼트",
         "orientation": "v",
         "showlegend": true,
         "textposition": "auto",
         "type": "bar",
         "x": [
          2006,
          2007
         ],
         "xaxis": "x",
         "y": [
          3132320,
          2120741
         ],
         "yaxis": "y"
        },
        {
         "alignmentgroup": "True",
         "hovertemplate": "배급사=엠케이픽처스 ,두엔터테인먼트<br>연도=%{x}<br>관객수=%{y}<extra></extra>",
         "legendgroup": "엠케이픽처스 ,두엔터테인먼트",
         "marker": {
          "color": "#F8A19F",
          "pattern": {
           "shape": ""
          }
         },
         "name": "엠케이픽처스 ,두엔터테인먼트",
         "offsetgroup": "엠케이픽처스 ,두엔터테인먼트",
         "orientation": "v",
         "showlegend": true,
         "textposition": "auto",
         "type": "bar",
         "x": [
          2007
         ],
         "xaxis": "x",
         "y": [
          2259511
         ],
         "yaxis": "y"
        },
        {
         "alignmentgroup": "True",
         "hovertemplate": "배급사=㈜스튜디오이쩜영<br>연도=%{x}<br>관객수=%{y}<extra></extra>",
         "legendgroup": "㈜스튜디오이쩜영",
         "marker": {
          "color": "#90AD1C",
          "pattern": {
           "shape": ""
          }
         },
         "name": "㈜스튜디오이쩜영",
         "offsetgroup": "㈜스튜디오이쩜영",
         "orientation": "v",
         "showlegend": true,
         "textposition": "auto",
         "type": "bar",
         "x": [
          2007,
          2008
         ],
         "xaxis": "x",
         "y": [
          1611192,
          1307688
         ],
         "yaxis": "y"
        },
        {
         "alignmentgroup": "True",
         "hovertemplate": "배급사=씨제이이엔엠,시네마서비스<br>연도=%{x}<br>관객수=%{y}<extra></extra>",
         "legendgroup": "씨제이이엔엠,시네마서비스",
         "marker": {
          "color": "#F6222E",
          "pattern": {
           "shape": ""
          }
         },
         "name": "씨제이이엔엠,시네마서비스",
         "offsetgroup": "씨제이이엔엠,시네마서비스",
         "orientation": "v",
         "showlegend": true,
         "textposition": "auto",
         "type": "bar",
         "x": [
          2008
         ],
         "xaxis": "x",
         "y": [
          4300670
         ],
         "yaxis": "y"
        },
        {
         "alignmentgroup": "True",
         "hovertemplate": "배급사=싸이더스<br>연도=%{x}<br>관객수=%{y}<extra></extra>",
         "legendgroup": "싸이더스",
         "marker": {
          "color": "#1CFFCE",
          "pattern": {
           "shape": ""
          }
         },
         "name": "싸이더스",
         "offsetgroup": "싸이더스",
         "orientation": "v",
         "showlegend": true,
         "textposition": "auto",
         "type": "bar",
         "x": [
          2008,
          2010
         ],
         "xaxis": "x",
         "y": [
          4044582,
          2304487
         ],
         "yaxis": "y"
        },
        {
         "alignmentgroup": "True",
         "hovertemplate": "배급사=에스케이텔레콤<br>연도=%{x}<br>관객수=%{y}<extra></extra>",
         "legendgroup": "에스케이텔레콤",
         "marker": {
          "color": "#2ED9FF",
          "pattern": {
           "shape": ""
          }
         },
         "name": "에스케이텔레콤",
         "offsetgroup": "에스케이텔레콤",
         "orientation": "v",
         "showlegend": true,
         "textposition": "auto",
         "type": "bar",
         "x": [
          2008,
          2009,
          2010
         ],
         "xaxis": "x",
         "y": [
          1634051,
          1206101,
          1407681
         ],
         "yaxis": "y"
        },
        {
         "alignmentgroup": "True",
         "hovertemplate": "배급사=(유)씨에이치엔터테인먼트<br>연도=%{x}<br>관객수=%{y}<extra></extra>",
         "legendgroup": "(유)씨에이치엔터테인먼트",
         "marker": {
          "color": "#B10DA1",
          "pattern": {
           "shape": ""
          }
         },
         "name": "(유)씨에이치엔터테인먼트",
         "offsetgroup": "(유)씨에이치엔터테인먼트",
         "orientation": "v",
         "showlegend": true,
         "textposition": "auto",
         "type": "bar",
         "x": [
          2008
         ],
         "xaxis": "x",
         "y": [
          1562486
         ],
         "yaxis": "y"
        },
        {
         "alignmentgroup": "True",
         "hovertemplate": "배급사=오퍼스픽쳐스(유),쇼박스<br>연도=%{x}<br>관객수=%{y}<extra></extra>",
         "legendgroup": "오퍼스픽쳐스(유),쇼박스",
         "marker": {
          "color": "#C075A6",
          "pattern": {
           "shape": ""
          }
         },
         "name": "오퍼스픽쳐스(유),쇼박스",
         "offsetgroup": "오퍼스픽쳐스(유),쇼박스",
         "orientation": "v",
         "showlegend": true,
         "textposition": "auto",
         "type": "bar",
         "x": [
          2008
         ],
         "xaxis": "x",
         "y": [
          1173310
         ],
         "yaxis": "y"
        },
        {
         "alignmentgroup": "True",
         "hovertemplate": "배급사=스튜디오210<br>연도=%{x}<br>관객수=%{y}<extra></extra>",
         "legendgroup": "스튜디오210",
         "marker": {
          "color": "#FC1CBF",
          "pattern": {
           "shape": ""
          }
         },
         "name": "스튜디오210",
         "offsetgroup": "스튜디오210",
         "orientation": "v",
         "showlegend": true,
         "textposition": "auto",
         "type": "bar",
         "x": [
          2008
         ],
         "xaxis": "x",
         "y": [
          1123294
         ],
         "yaxis": "y"
        },
        {
         "alignmentgroup": "True",
         "hovertemplate": "배급사=㈜인디스토리<br>연도=%{x}<br>관객수=%{y}<extra></extra>",
         "legendgroup": "㈜인디스토리",
         "marker": {
          "color": "#B00068",
          "pattern": {
           "shape": ""
          }
         },
         "name": "㈜인디스토리",
         "offsetgroup": "㈜인디스토리",
         "orientation": "v",
         "showlegend": true,
         "textposition": "auto",
         "type": "bar",
         "x": [
          2009
         ],
         "xaxis": "x",
         "y": [
          2962897
         ],
         "yaxis": "y"
        },
        {
         "alignmentgroup": "True",
         "hovertemplate": "배급사=넥스트엔터테인먼트월드(NEW)<br>연도=%{x}<br>관객수=%{y}<extra></extra>",
         "legendgroup": "넥스트엔터테인먼트월드(NEW)",
         "marker": {
          "color": "#FBE426",
          "pattern": {
           "shape": ""
          }
         },
         "name": "넥스트엔터테인먼트월드(NEW)",
         "offsetgroup": "넥스트엔터테인먼트월드(NEW)",
         "orientation": "v",
         "showlegend": true,
         "textposition": "auto",
         "type": "bar",
         "x": [
          2009,
          2010,
          2011,
          2012,
          2013,
          2014,
          2015,
          2016,
          2017,
          2018,
          2019,
          2020,
          2021,
          2022,
          2023
         ],
         "xaxis": "x",
         "y": [
          2598805,
          5062282,
          6380665,
          17170299,
          42076021,
          6074185,
          14498651,
          18460459,
          12283584,
          17292905,
          10098411,
          5347880,
          1638439,
          6136048,
          5143219
         ],
         "yaxis": "y"
        },
        {
         "alignmentgroup": "True",
         "hovertemplate": "배급사=시너지하우스 (시너지)<br>연도=%{x}<br>관객수=%{y}<extra></extra>",
         "legendgroup": "시너지하우스 (시너지)",
         "marker": {
          "color": "#FA0087",
          "pattern": {
           "shape": ""
          }
         },
         "name": "시너지하우스 (시너지)",
         "offsetgroup": "시너지하우스 (시너지)",
         "orientation": "v",
         "showlegend": true,
         "textposition": "auto",
         "type": "bar",
         "x": [
          2009,
          2010
         ],
         "xaxis": "x",
         "y": [
          1922634,
          2129950
         ],
         "yaxis": "y"
        },
        {
         "alignmentgroup": "True",
         "hovertemplate": "배급사=쇼박스,이십세기폭스코리아<br>연도=%{x}<br>관객수=%{y}<extra></extra>",
         "legendgroup": "쇼박스,이십세기폭스코리아",
         "marker": {
          "color": "#AA0DFE",
          "pattern": {
           "shape": ""
          }
         },
         "name": "쇼박스,이십세기폭스코리아",
         "offsetgroup": "쇼박스,이십세기폭스코리아",
         "orientation": "v",
         "showlegend": true,
         "textposition": "auto",
         "type": "bar",
         "x": [
          2010
         ],
         "xaxis": "x",
         "y": [
          2167426
         ],
         "yaxis": "y"
        },
        {
         "alignmentgroup": "True",
         "hovertemplate": "배급사=넥스트엔터테인먼트월드(NEW),에스비에스콘텐츠허브<br>연도=%{x}<br>관객수=%{y}<extra></extra>",
         "legendgroup": "넥스트엔터테인먼트월드(NEW),에스비에스콘텐츠허브",
         "marker": {
          "color": "#3283FE",
          "pattern": {
           "shape": ""
          }
         },
         "name": "넥스트엔터테인먼트월드(NEW),에스비에스콘텐츠허브",
         "offsetgroup": "넥스트엔터테인먼트월드(NEW),에스비에스콘텐츠허브",
         "orientation": "v",
         "showlegend": true,
         "textposition": "auto",
         "type": "bar",
         "x": [
          2010
         ],
         "xaxis": "x",
         "y": [
          1873327
         ],
         "yaxis": "y"
        },
        {
         "alignmentgroup": "True",
         "hovertemplate": "배급사=에스케이플래닛,씨제이이엔엠<br>연도=%{x}<br>관객수=%{y}<extra></extra>",
         "legendgroup": "에스케이플래닛,씨제이이엔엠",
         "marker": {
          "color": "#85660D",
          "pattern": {
           "shape": ""
          }
         },
         "name": "에스케이플래닛,씨제이이엔엠",
         "offsetgroup": "에스케이플래닛,씨제이이엔엠",
         "orientation": "v",
         "showlegend": true,
         "textposition": "auto",
         "type": "bar",
         "x": [
          2011
         ],
         "xaxis": "x",
         "y": [
          2142622
         ],
         "yaxis": "y"
        },
        {
         "alignmentgroup": "True",
         "hovertemplate": "배급사=시너지하우스 (시너지),롯데쇼핑㈜롯데엔터테인먼트<br>연도=%{x}<br>관객수=%{y}<extra></extra>",
         "legendgroup": "시너지하우스 (시너지),롯데쇼핑㈜롯데엔터테인먼트",
         "marker": {
          "color": "#782AB6",
          "pattern": {
           "shape": ""
          }
         },
         "name": "시너지하우스 (시너지),롯데쇼핑㈜롯데엔터테인먼트",
         "offsetgroup": "시너지하우스 (시너지),롯데쇼핑㈜롯데엔터테인먼트",
         "orientation": "v",
         "showlegend": true,
         "textposition": "auto",
         "type": "bar",
         "x": [
          2011,
          2012
         ],
         "xaxis": "x",
         "y": [
          1118258,
          1166018
         ],
         "yaxis": "y"
        },
        {
         "alignmentgroup": "True",
         "hovertemplate": "배급사=인벤트스톤,영화사청어람<br>연도=%{x}<br>관객수=%{y}<extra></extra>",
         "legendgroup": "인벤트스톤,영화사청어람",
         "marker": {
          "color": "#565656",
          "pattern": {
           "shape": ""
          }
         },
         "name": "인벤트스톤,영화사청어람",
         "offsetgroup": "인벤트스톤,영화사청어람",
         "orientation": "v",
         "showlegend": true,
         "textposition": "auto",
         "type": "bar",
         "x": [
          2012
         ],
         "xaxis": "x",
         "y": [
          2963449
         ],
         "yaxis": "y"
        },
        {
         "alignmentgroup": "True",
         "hovertemplate": "배급사=필라멘트픽쳐스<br>연도=%{x}<br>관객수=%{y}<extra></extra>",
         "legendgroup": "필라멘트픽쳐스",
         "marker": {
          "color": "#1C8356",
          "pattern": {
           "shape": ""
          }
         },
         "name": "필라멘트픽쳐스",
         "offsetgroup": "필라멘트픽쳐스",
         "orientation": "v",
         "showlegend": true,
         "textposition": "auto",
         "type": "bar",
         "x": [
          2012
         ],
         "xaxis": "x",
         "y": [
          2436400
         ],
         "yaxis": "y"
        },
        {
         "alignmentgroup": "True",
         "hovertemplate": "배급사=씨너스엔터테인먼트,타임스토리그룹<br>연도=%{x}<br>관객수=%{y}<extra></extra>",
         "legendgroup": "씨너스엔터테인먼트,타임스토리그룹",
         "marker": {
          "color": "#16FF32",
          "pattern": {
           "shape": ""
          }
         },
         "name": "씨너스엔터테인먼트,타임스토리그룹",
         "offsetgroup": "씨너스엔터테인먼트,타임스토리그룹",
         "orientation": "v",
         "showlegend": true,
         "textposition": "auto",
         "type": "bar",
         "x": [
          2012
         ],
         "xaxis": "x",
         "y": [
          1646142
         ],
         "yaxis": "y"
        },
        {
         "alignmentgroup": "True",
         "hovertemplate": "배급사=아이러브시네마<br>연도=%{x}<br>관객수=%{y}<extra></extra>",
         "legendgroup": "아이러브시네마",
         "marker": {
          "color": "#F7E1A0",
          "pattern": {
           "shape": ""
          }
         },
         "name": "아이러브시네마",
         "offsetgroup": "아이러브시네마",
         "orientation": "v",
         "showlegend": true,
         "textposition": "auto",
         "type": "bar",
         "x": [
          2013
         ],
         "xaxis": "x",
         "y": [
          3119023
         ],
         "yaxis": "y"
        },
        {
         "alignmentgroup": "True",
         "hovertemplate": "배급사=이십세기폭스코리아<br>연도=%{x}<br>관객수=%{y}<extra></extra>",
         "legendgroup": "이십세기폭스코리아",
         "marker": {
          "color": "#E2E2E2",
          "pattern": {
           "shape": ""
          }
         },
         "name": "이십세기폭스코리아",
         "offsetgroup": "이십세기폭스코리아",
         "orientation": "v",
         "showlegend": true,
         "textposition": "auto",
         "type": "bar",
         "x": [
          2013,
          2014,
          2016
         ],
         "xaxis": "x",
         "y": [
          1422844,
          1169562,
          6879908
         ],
         "yaxis": "y"
        },
        {
         "alignmentgroup": "True",
         "hovertemplate": "배급사=씨너스엔터테인먼트<br>연도=%{x}<br>관객수=%{y}<extra></extra>",
         "legendgroup": "씨너스엔터테인먼트",
         "marker": {
          "color": "#1CBE4F",
          "pattern": {
           "shape": ""
          }
         },
         "name": "씨너스엔터테인먼트",
         "offsetgroup": "씨너스엔터테인먼트",
         "orientation": "v",
         "showlegend": true,
         "textposition": "auto",
         "type": "bar",
         "x": [
          2013
         ],
         "xaxis": "x",
         "y": [
          1214836
         ],
         "yaxis": "y"
        },
        {
         "alignmentgroup": "True",
         "hovertemplate": "배급사=CGV아트하우스,대명문화공장<br>연도=%{x}<br>관객수=%{y}<extra></extra>",
         "legendgroup": "CGV아트하우스,대명문화공장",
         "marker": {
          "color": "#C4451C",
          "pattern": {
           "shape": ""
          }
         },
         "name": "CGV아트하우스,대명문화공장",
         "offsetgroup": "CGV아트하우스,대명문화공장",
         "orientation": "v",
         "showlegend": true,
         "textposition": "auto",
         "type": "bar",
         "x": [
          2014
         ],
         "xaxis": "x",
         "y": [
          4801527
         ],
         "yaxis": "y"
        },
        {
         "alignmentgroup": "True",
         "hovertemplate": "배급사=롯데쇼핑㈜롯데엔터테인먼트,싸이더스<br>연도=%{x}<br>관객수=%{y}<extra></extra>",
         "legendgroup": "롯데쇼핑㈜롯데엔터테인먼트,싸이더스",
         "marker": {
          "color": "#DEA0FD",
          "pattern": {
           "shape": ""
          }
         },
         "name": "롯데쇼핑㈜롯데엔터테인먼트,싸이더스",
         "offsetgroup": "롯데쇼핑㈜롯데엔터테인먼트,싸이더스",
         "orientation": "v",
         "showlegend": true,
         "textposition": "auto",
         "type": "bar",
         "x": [
          2014
         ],
         "xaxis": "x",
         "y": [
          4015361
         ],
         "yaxis": "y"
        },
        {
         "alignmentgroup": "True",
         "hovertemplate": "배급사=씨네그루다우기술<br>연도=%{x}<br>관객수=%{y}<extra></extra>",
         "legendgroup": "씨네그루다우기술",
         "marker": {
          "color": "#FE00FA",
          "pattern": {
           "shape": ""
          }
         },
         "name": "씨네그루다우기술",
         "offsetgroup": "씨네그루다우기술",
         "orientation": "v",
         "showlegend": true,
         "textposition": "auto",
         "type": "bar",
         "x": [
          2014
         ],
         "xaxis": "x",
         "y": [
          2141155
         ],
         "yaxis": "y"
        },
        {
         "alignmentgroup": "True",
         "hovertemplate": "배급사=플러스엠 엔터테인먼트<br>연도=%{x}<br>관객수=%{y}<extra></extra>",
         "legendgroup": "플러스엠 엔터테인먼트",
         "marker": {
          "color": "#325A9B",
          "pattern": {
           "shape": ""
          }
         },
         "name": "플러스엠 엔터테인먼트",
         "offsetgroup": "플러스엠 엔터테인먼트",
         "orientation": "v",
         "showlegend": true,
         "textposition": "auto",
         "type": "bar",
         "x": [
          2014,
          2016,
          2017,
          2018,
          2020,
          2022,
          2023
         ],
         "xaxis": "x",
         "y": [
          1755181,
          3385865,
          3852077,
          7975261,
          1228685,
          4352390,
          15976817
         ],
         "yaxis": "y"
        },
        {
         "alignmentgroup": "True",
         "hovertemplate": "배급사=CGV아트하우스<br>연도=%{x}<br>관객수=%{y}<extra></extra>",
         "legendgroup": "CGV아트하우스",
         "marker": {
          "color": "#FEAF16",
          "pattern": {
           "shape": ""
          }
         },
         "name": "CGV아트하우스",
         "offsetgroup": "CGV아트하우스",
         "orientation": "v",
         "showlegend": true,
         "textposition": "auto",
         "type": "bar",
         "x": [
          2014,
          2015,
          2019
         ],
         "xaxis": "x",
         "y": [
          1618988,
          2518319,
          1245532
         ],
         "yaxis": "y"
        },
        {
         "alignmentgroup": "True",
         "hovertemplate": "배급사=워너브러더스 코리아<br>연도=%{x}<br>관객수=%{y}<extra></extra>",
         "legendgroup": "워너브러더스 코리아",
         "marker": {
          "color": "#F8A19F",
          "pattern": {
           "shape": ""
          }
         },
         "name": "워너브러더스 코리아",
         "offsetgroup": "워너브러더스 코리아",
         "orientation": "v",
         "showlegend": true,
         "textposition": "auto",
         "type": "bar",
         "x": [
          2016,
          2018,
          2019
         ],
         "xaxis": "x",
         "y": [
          7500420,
          4317865,
          1140876
         ],
         "yaxis": "y"
        },
        {
         "alignmentgroup": "True",
         "hovertemplate": "배급사=와우픽쳐스<br>연도=%{x}<br>관객수=%{y}<extra></extra>",
         "legendgroup": "와우픽쳐스",
         "marker": {
          "color": "#90AD1C",
          "pattern": {
           "shape": ""
          }
         },
         "name": "와우픽쳐스",
         "offsetgroup": "와우픽쳐스",
         "orientation": "v",
         "showlegend": true,
         "textposition": "auto",
         "type": "bar",
         "x": [
          2016
         ],
         "xaxis": "x",
         "y": [
          3586929
         ],
         "yaxis": "y"
        },
        {
         "alignmentgroup": "True",
         "hovertemplate": "배급사=플러스엠 엔터테인먼트,키위미디어그룹<br>연도=%{x}<br>관객수=%{y}<extra></extra>",
         "legendgroup": "플러스엠 엔터테인먼트,키위미디어그룹",
         "marker": {
          "color": "#F6222E",
          "pattern": {
           "shape": ""
          }
         },
         "name": "플러스엠 엔터테인먼트,키위미디어그룹",
         "offsetgroup": "플러스엠 엔터테인먼트,키위미디어그룹",
         "orientation": "v",
         "showlegend": true,
         "textposition": "auto",
         "type": "bar",
         "x": [
          2017
         ],
         "xaxis": "x",
         "y": [
          6879841
         ],
         "yaxis": "y"
        },
        {
         "alignmentgroup": "True",
         "hovertemplate": "배급사=롯데쇼핑㈜롯데엔터테인먼트,리틀빅픽쳐스<br>연도=%{x}<br>관객수=%{y}<extra></extra>",
         "legendgroup": "롯데쇼핑㈜롯데엔터테인먼트,리틀빅픽쳐스",
         "marker": {
          "color": "#1CFFCE",
          "pattern": {
           "shape": ""
          }
         },
         "name": "롯데쇼핑㈜롯데엔터테인먼트,리틀빅픽쳐스",
         "offsetgroup": "롯데쇼핑㈜롯데엔터테인먼트,리틀빅픽쳐스",
         "orientation": "v",
         "showlegend": true,
         "textposition": "auto",
         "type": "bar",
         "x": [
          2017
         ],
         "xaxis": "x",
         "y": [
          3280243
         ],
         "yaxis": "y"
        },
        {
         "alignmentgroup": "True",
         "hovertemplate": "배급사=오퍼스픽쳐스(유),CGV아트하우스<br>연도=%{x}<br>관객수=%{y}<extra></extra>",
         "legendgroup": "오퍼스픽쳐스(유),CGV아트하우스",
         "marker": {
          "color": "#2ED9FF",
          "pattern": {
           "shape": ""
          }
         },
         "name": "오퍼스픽쳐스(유),CGV아트하우스",
         "offsetgroup": "오퍼스픽쳐스(유),CGV아트하우스",
         "orientation": "v",
         "showlegend": true,
         "textposition": "auto",
         "type": "bar",
         "x": [
          2017
         ],
         "xaxis": "x",
         "y": [
          2421011
         ],
         "yaxis": "y"
        },
        {
         "alignmentgroup": "True",
         "hovertemplate": "배급사=CGV아트하우스,영화사 풀<br>연도=%{x}<br>관객수=%{y}<extra></extra>",
         "legendgroup": "CGV아트하우스,영화사 풀",
         "marker": {
          "color": "#B10DA1",
          "pattern": {
           "shape": ""
          }
         },
         "name": "CGV아트하우스,영화사 풀",
         "offsetgroup": "CGV아트하우스,영화사 풀",
         "orientation": "v",
         "showlegend": true,
         "textposition": "auto",
         "type": "bar",
         "x": [
          2017
         ],
         "xaxis": "x",
         "y": [
          1854867
         ],
         "yaxis": "y"
        },
        {
         "alignmentgroup": "True",
         "hovertemplate": "배급사=플러스엠 엔터테인먼트,주식회사 키위컴퍼니<br>연도=%{x}<br>관객수=%{y}<extra></extra>",
         "legendgroup": "플러스엠 엔터테인먼트,주식회사 키위컴퍼니",
         "marker": {
          "color": "#C075A6",
          "pattern": {
           "shape": ""
          }
         },
         "name": "플러스엠 엔터테인먼트,주식회사 키위컴퍼니",
         "offsetgroup": "플러스엠 엔터테인먼트,주식회사 키위컴퍼니",
         "orientation": "v",
         "showlegend": true,
         "textposition": "auto",
         "type": "bar",
         "x": [
          2017
         ],
         "xaxis": "x",
         "y": [
          1387599
         ],
         "yaxis": "y"
        },
        {
         "alignmentgroup": "True",
         "hovertemplate": "배급사=롯데컬처웍스롯데엔터테인먼트<br>연도=%{x}<br>관객수=%{y}<extra></extra>",
         "legendgroup": "롯데컬처웍스롯데엔터테인먼트",
         "marker": {
          "color": "#FC1CBF",
          "pattern": {
           "shape": ""
          }
         },
         "name": "롯데컬처웍스롯데엔터테인먼트",
         "offsetgroup": "롯데컬처웍스롯데엔터테인먼트",
         "orientation": "v",
         "showlegend": true,
         "textposition": "auto",
         "type": "bar",
         "x": [
          2018,
          2019,
          2020,
          2021,
          2022,
          2023
         ],
         "xaxis": "x",
         "y": [
          17569115,
          16076287,
          7672506,
          3613984,
          9775824,
          5319601
         ],
         "yaxis": "y"
        },
        {
         "alignmentgroup": "True",
         "hovertemplate": "배급사=키다리이엔티<br>연도=%{x}<br>관객수=%{y}<extra></extra>",
         "legendgroup": "키다리이엔티",
         "marker": {
          "color": "#B00068",
          "pattern": {
           "shape": ""
          }
         },
         "name": "키다리이엔티",
         "offsetgroup": "키다리이엔티",
         "orientation": "v",
         "showlegend": true,
         "textposition": "auto",
         "type": "bar",
         "x": [
          2018
         ],
         "xaxis": "x",
         "y": [
          1315726
         ],
         "yaxis": "y"
        },
        {
         "alignmentgroup": "True",
         "hovertemplate": "배급사=씨제이이엔엠,덱스터스튜디오<br>연도=%{x}<br>관객수=%{y}<extra></extra>",
         "legendgroup": "씨제이이엔엠,덱스터스튜디오",
         "marker": {
          "color": "#FBE426",
          "pattern": {
           "shape": ""
          }
         },
         "name": "씨제이이엔엠,덱스터스튜디오",
         "offsetgroup": "씨제이이엔엠,덱스터스튜디오",
         "orientation": "v",
         "showlegend": true,
         "textposition": "auto",
         "type": "bar",
         "x": [
          2019
         ],
         "xaxis": "x",
         "y": [
          8252669
         ],
         "yaxis": "y"
        },
        {
         "alignmentgroup": "True",
         "hovertemplate": "배급사=에이스메이커무비웍스<br>연도=%{x}<br>관객수=%{y}<extra></extra>",
         "legendgroup": "에이스메이커무비웍스",
         "marker": {
          "color": "#FA0087",
          "pattern": {
           "shape": ""
          }
         },
         "name": "에이스메이커무비웍스",
         "offsetgroup": "에이스메이커무비웍스",
         "orientation": "v",
         "showlegend": true,
         "textposition": "auto",
         "type": "bar",
         "x": [
          2019,
          2020
         ],
         "xaxis": "x",
         "y": [
          4283776,
          1224726
         ],
         "yaxis": "y"
        },
        {
         "alignmentgroup": "True",
         "hovertemplate": "배급사=에이스메이커무비웍스,키위미디어그룹<br>연도=%{x}<br>관객수=%{y}<extra></extra>",
         "legendgroup": "에이스메이커무비웍스,키위미디어그룹",
         "marker": {
          "color": "#AA0DFE",
          "pattern": {
           "shape": ""
          }
         },
         "name": "에이스메이커무비웍스,키위미디어그룹",
         "offsetgroup": "에이스메이커무비웍스,키위미디어그룹",
         "orientation": "v",
         "showlegend": true,
         "textposition": "auto",
         "type": "bar",
         "x": [
          2019
         ],
         "xaxis": "x",
         "y": [
          3364360
         ],
         "yaxis": "y"
        },
        {
         "alignmentgroup": "True",
         "hovertemplate": "배급사=메리크리스마스,TCO더콘텐츠온<br>연도=%{x}<br>관객수=%{y}<extra></extra>",
         "legendgroup": "메리크리스마스,TCO더콘텐츠온",
         "marker": {
          "color": "#3283FE",
          "pattern": {
           "shape": ""
          }
         },
         "name": "메리크리스마스,TCO더콘텐츠온",
         "offsetgroup": "메리크리스마스,TCO더콘텐츠온",
         "orientation": "v",
         "showlegend": true,
         "textposition": "auto",
         "type": "bar",
         "x": [
          2019
         ],
         "xaxis": "x",
         "y": [
          1916855
         ],
         "yaxis": "y"
        },
        {
         "alignmentgroup": "True",
         "hovertemplate": "배급사=주식회사 에이비오엔터테인먼트,플러스엠 엔터테인먼트<br>연도=%{x}<br>관객수=%{y}<extra></extra>",
         "legendgroup": "주식회사 에이비오엔터테인먼트,플러스엠 엔터테인먼트",
         "marker": {
          "color": "#85660D",
          "pattern": {
           "shape": ""
          }
         },
         "name": "주식회사 에이비오엔터테인먼트,플러스엠 엔터테인먼트",
         "offsetgroup": "주식회사 에이비오엔터테인먼트,플러스엠 엔터테인먼트",
         "orientation": "v",
         "showlegend": true,
         "textposition": "auto",
         "type": "bar",
         "x": [
          2022,
          2023
         ],
         "xaxis": "x",
         "y": [
          12693175,
          10682813
         ],
         "yaxis": "y"
        },
        {
         "alignmentgroup": "True",
         "hovertemplate": "배급사=홈초이스,싸이더스<br>연도=%{x}<br>관객수=%{y}<extra></extra>",
         "legendgroup": "홈초이스,싸이더스",
         "marker": {
          "color": "#782AB6",
          "pattern": {
           "shape": ""
          }
         },
         "name": "홈초이스,싸이더스",
         "offsetgroup": "홈초이스,싸이더스",
         "orientation": "v",
         "showlegend": true,
         "textposition": "auto",
         "type": "bar",
         "x": [
          2022
         ],
         "xaxis": "x",
         "y": [
          1980769
         ],
         "yaxis": "y"
        },
        {
         "alignmentgroup": "True",
         "hovertemplate": "배급사=롯데컬처웍스롯데엔터테인먼트,에이스메이커무비웍스<br>연도=%{x}<br>관객수=%{y}<extra></extra>",
         "legendgroup": "롯데컬처웍스롯데엔터테인먼트,에이스메이커무비웍스",
         "marker": {
          "color": "#565656",
          "pattern": {
           "shape": ""
          }
         },
         "name": "롯데컬처웍스롯데엔터테인먼트,에이스메이커무비웍스",
         "offsetgroup": "롯데컬처웍스롯데엔터테인먼트,에이스메이커무비웍스",
         "orientation": "v",
         "showlegend": true,
         "textposition": "auto",
         "type": "bar",
         "x": [
          2023
         ],
         "xaxis": "x",
         "y": [
          4572386
         ],
         "yaxis": "y"
        },
        {
         "alignmentgroup": "True",
         "hovertemplate": "배급사=마인드마크<br>연도=%{x}<br>관객수=%{y}<extra></extra>",
         "legendgroup": "마인드마크",
         "marker": {
          "color": "#1C8356",
          "pattern": {
           "shape": ""
          }
         },
         "name": "마인드마크",
         "offsetgroup": "마인드마크",
         "orientation": "v",
         "showlegend": true,
         "textposition": "auto",
         "type": "bar",
         "x": [
          2023
         ],
         "xaxis": "x",
         "y": [
          3553667
         ],
         "yaxis": "y"
        }
       ],
       "layout": {
        "barmode": "relative",
        "legend": {
         "title": {
          "text": "배급사"
         },
         "tracegroupgap": 0
        },
        "template": {
         "data": {
          "bar": [
           {
            "error_x": {
             "color": "#2a3f5f"
            },
            "error_y": {
             "color": "#2a3f5f"
            },
            "marker": {
             "line": {
              "color": "#E5ECF6",
              "width": 0.5
             },
             "pattern": {
              "fillmode": "overlay",
              "size": 10,
              "solidity": 0.2
             }
            },
            "type": "bar"
           }
          ],
          "barpolar": [
           {
            "marker": {
             "line": {
              "color": "#E5ECF6",
              "width": 0.5
             },
             "pattern": {
              "fillmode": "overlay",
              "size": 10,
              "solidity": 0.2
             }
            },
            "type": "barpolar"
           }
          ],
          "carpet": [
           {
            "aaxis": {
             "endlinecolor": "#2a3f5f",
             "gridcolor": "white",
             "linecolor": "white",
             "minorgridcolor": "white",
             "startlinecolor": "#2a3f5f"
            },
            "baxis": {
             "endlinecolor": "#2a3f5f",
             "gridcolor": "white",
             "linecolor": "white",
             "minorgridcolor": "white",
             "startlinecolor": "#2a3f5f"
            },
            "type": "carpet"
           }
          ],
          "choropleth": [
           {
            "colorbar": {
             "outlinewidth": 0,
             "ticks": ""
            },
            "type": "choropleth"
           }
          ],
          "contour": [
           {
            "colorbar": {
             "outlinewidth": 0,
             "ticks": ""
            },
            "colorscale": [
             [
              0,
              "#0d0887"
             ],
             [
              0.1111111111111111,
              "#46039f"
             ],
             [
              0.2222222222222222,
              "#7201a8"
             ],
             [
              0.3333333333333333,
              "#9c179e"
             ],
             [
              0.4444444444444444,
              "#bd3786"
             ],
             [
              0.5555555555555556,
              "#d8576b"
             ],
             [
              0.6666666666666666,
              "#ed7953"
             ],
             [
              0.7777777777777778,
              "#fb9f3a"
             ],
             [
              0.8888888888888888,
              "#fdca26"
             ],
             [
              1,
              "#f0f921"
             ]
            ],
            "type": "contour"
           }
          ],
          "contourcarpet": [
           {
            "colorbar": {
             "outlinewidth": 0,
             "ticks": ""
            },
            "type": "contourcarpet"
           }
          ],
          "heatmap": [
           {
            "colorbar": {
             "outlinewidth": 0,
             "ticks": ""
            },
            "colorscale": [
             [
              0,
              "#0d0887"
             ],
             [
              0.1111111111111111,
              "#46039f"
             ],
             [
              0.2222222222222222,
              "#7201a8"
             ],
             [
              0.3333333333333333,
              "#9c179e"
             ],
             [
              0.4444444444444444,
              "#bd3786"
             ],
             [
              0.5555555555555556,
              "#d8576b"
             ],
             [
              0.6666666666666666,
              "#ed7953"
             ],
             [
              0.7777777777777778,
              "#fb9f3a"
             ],
             [
              0.8888888888888888,
              "#fdca26"
             ],
             [
              1,
              "#f0f921"
             ]
            ],
            "type": "heatmap"
           }
          ],
          "heatmapgl": [
           {
            "colorbar": {
             "outlinewidth": 0,
             "ticks": ""
            },
            "colorscale": [
             [
              0,
              "#0d0887"
             ],
             [
              0.1111111111111111,
              "#46039f"
             ],
             [
              0.2222222222222222,
              "#7201a8"
             ],
             [
              0.3333333333333333,
              "#9c179e"
             ],
             [
              0.4444444444444444,
              "#bd3786"
             ],
             [
              0.5555555555555556,
              "#d8576b"
             ],
             [
              0.6666666666666666,
              "#ed7953"
             ],
             [
              0.7777777777777778,
              "#fb9f3a"
             ],
             [
              0.8888888888888888,
              "#fdca26"
             ],
             [
              1,
              "#f0f921"
             ]
            ],
            "type": "heatmapgl"
           }
          ],
          "histogram": [
           {
            "marker": {
             "pattern": {
              "fillmode": "overlay",
              "size": 10,
              "solidity": 0.2
             }
            },
            "type": "histogram"
           }
          ],
          "histogram2d": [
           {
            "colorbar": {
             "outlinewidth": 0,
             "ticks": ""
            },
            "colorscale": [
             [
              0,
              "#0d0887"
             ],
             [
              0.1111111111111111,
              "#46039f"
             ],
             [
              0.2222222222222222,
              "#7201a8"
             ],
             [
              0.3333333333333333,
              "#9c179e"
             ],
             [
              0.4444444444444444,
              "#bd3786"
             ],
             [
              0.5555555555555556,
              "#d8576b"
             ],
             [
              0.6666666666666666,
              "#ed7953"
             ],
             [
              0.7777777777777778,
              "#fb9f3a"
             ],
             [
              0.8888888888888888,
              "#fdca26"
             ],
             [
              1,
              "#f0f921"
             ]
            ],
            "type": "histogram2d"
           }
          ],
          "histogram2dcontour": [
           {
            "colorbar": {
             "outlinewidth": 0,
             "ticks": ""
            },
            "colorscale": [
             [
              0,
              "#0d0887"
             ],
             [
              0.1111111111111111,
              "#46039f"
             ],
             [
              0.2222222222222222,
              "#7201a8"
             ],
             [
              0.3333333333333333,
              "#9c179e"
             ],
             [
              0.4444444444444444,
              "#bd3786"
             ],
             [
              0.5555555555555556,
              "#d8576b"
             ],
             [
              0.6666666666666666,
              "#ed7953"
             ],
             [
              0.7777777777777778,
              "#fb9f3a"
             ],
             [
              0.8888888888888888,
              "#fdca26"
             ],
             [
              1,
              "#f0f921"
             ]
            ],
            "type": "histogram2dcontour"
           }
          ],
          "mesh3d": [
           {
            "colorbar": {
             "outlinewidth": 0,
             "ticks": ""
            },
            "type": "mesh3d"
           }
          ],
          "parcoords": [
           {
            "line": {
             "colorbar": {
              "outlinewidth": 0,
              "ticks": ""
             }
            },
            "type": "parcoords"
           }
          ],
          "pie": [
           {
            "automargin": true,
            "type": "pie"
           }
          ],
          "scatter": [
           {
            "fillpattern": {
             "fillmode": "overlay",
             "size": 10,
             "solidity": 0.2
            },
            "type": "scatter"
           }
          ],
          "scatter3d": [
           {
            "line": {
             "colorbar": {
              "outlinewidth": 0,
              "ticks": ""
             }
            },
            "marker": {
             "colorbar": {
              "outlinewidth": 0,
              "ticks": ""
             }
            },
            "type": "scatter3d"
           }
          ],
          "scattercarpet": [
           {
            "marker": {
             "colorbar": {
              "outlinewidth": 0,
              "ticks": ""
             }
            },
            "type": "scattercarpet"
           }
          ],
          "scattergeo": [
           {
            "marker": {
             "colorbar": {
              "outlinewidth": 0,
              "ticks": ""
             }
            },
            "type": "scattergeo"
           }
          ],
          "scattergl": [
           {
            "marker": {
             "colorbar": {
              "outlinewidth": 0,
              "ticks": ""
             }
            },
            "type": "scattergl"
           }
          ],
          "scattermapbox": [
           {
            "marker": {
             "colorbar": {
              "outlinewidth": 0,
              "ticks": ""
             }
            },
            "type": "scattermapbox"
           }
          ],
          "scatterpolar": [
           {
            "marker": {
             "colorbar": {
              "outlinewidth": 0,
              "ticks": ""
             }
            },
            "type": "scatterpolar"
           }
          ],
          "scatterpolargl": [
           {
            "marker": {
             "colorbar": {
              "outlinewidth": 0,
              "ticks": ""
             }
            },
            "type": "scatterpolargl"
           }
          ],
          "scatterternary": [
           {
            "marker": {
             "colorbar": {
              "outlinewidth": 0,
              "ticks": ""
             }
            },
            "type": "scatterternary"
           }
          ],
          "surface": [
           {
            "colorbar": {
             "outlinewidth": 0,
             "ticks": ""
            },
            "colorscale": [
             [
              0,
              "#0d0887"
             ],
             [
              0.1111111111111111,
              "#46039f"
             ],
             [
              0.2222222222222222,
              "#7201a8"
             ],
             [
              0.3333333333333333,
              "#9c179e"
             ],
             [
              0.4444444444444444,
              "#bd3786"
             ],
             [
              0.5555555555555556,
              "#d8576b"
             ],
             [
              0.6666666666666666,
              "#ed7953"
             ],
             [
              0.7777777777777778,
              "#fb9f3a"
             ],
             [
              0.8888888888888888,
              "#fdca26"
             ],
             [
              1,
              "#f0f921"
             ]
            ],
            "type": "surface"
           }
          ],
          "table": [
           {
            "cells": {
             "fill": {
              "color": "#EBF0F8"
             },
             "line": {
              "color": "white"
             }
            },
            "header": {
             "fill": {
              "color": "#C8D4E3"
             },
             "line": {
              "color": "white"
             }
            },
            "type": "table"
           }
          ]
         },
         "layout": {
          "annotationdefaults": {
           "arrowcolor": "#2a3f5f",
           "arrowhead": 0,
           "arrowwidth": 1
          },
          "autotypenumbers": "strict",
          "coloraxis": {
           "colorbar": {
            "outlinewidth": 0,
            "ticks": ""
           }
          },
          "colorscale": {
           "diverging": [
            [
             0,
             "#8e0152"
            ],
            [
             0.1,
             "#c51b7d"
            ],
            [
             0.2,
             "#de77ae"
            ],
            [
             0.3,
             "#f1b6da"
            ],
            [
             0.4,
             "#fde0ef"
            ],
            [
             0.5,
             "#f7f7f7"
            ],
            [
             0.6,
             "#e6f5d0"
            ],
            [
             0.7,
             "#b8e186"
            ],
            [
             0.8,
             "#7fbc41"
            ],
            [
             0.9,
             "#4d9221"
            ],
            [
             1,
             "#276419"
            ]
           ],
           "sequential": [
            [
             0,
             "#0d0887"
            ],
            [
             0.1111111111111111,
             "#46039f"
            ],
            [
             0.2222222222222222,
             "#7201a8"
            ],
            [
             0.3333333333333333,
             "#9c179e"
            ],
            [
             0.4444444444444444,
             "#bd3786"
            ],
            [
             0.5555555555555556,
             "#d8576b"
            ],
            [
             0.6666666666666666,
             "#ed7953"
            ],
            [
             0.7777777777777778,
             "#fb9f3a"
            ],
            [
             0.8888888888888888,
             "#fdca26"
            ],
            [
             1,
             "#f0f921"
            ]
           ],
           "sequentialminus": [
            [
             0,
             "#0d0887"
            ],
            [
             0.1111111111111111,
             "#46039f"
            ],
            [
             0.2222222222222222,
             "#7201a8"
            ],
            [
             0.3333333333333333,
             "#9c179e"
            ],
            [
             0.4444444444444444,
             "#bd3786"
            ],
            [
             0.5555555555555556,
             "#d8576b"
            ],
            [
             0.6666666666666666,
             "#ed7953"
            ],
            [
             0.7777777777777778,
             "#fb9f3a"
            ],
            [
             0.8888888888888888,
             "#fdca26"
            ],
            [
             1,
             "#f0f921"
            ]
           ]
          },
          "colorway": [
           "#636efa",
           "#EF553B",
           "#00cc96",
           "#ab63fa",
           "#FFA15A",
           "#19d3f3",
           "#FF6692",
           "#B6E880",
           "#FF97FF",
           "#FECB52"
          ],
          "font": {
           "color": "#2a3f5f"
          },
          "geo": {
           "bgcolor": "white",
           "lakecolor": "white",
           "landcolor": "#E5ECF6",
           "showlakes": true,
           "showland": true,
           "subunitcolor": "white"
          },
          "hoverlabel": {
           "align": "left"
          },
          "hovermode": "closest",
          "mapbox": {
           "style": "light"
          },
          "paper_bgcolor": "white",
          "plot_bgcolor": "#E5ECF6",
          "polar": {
           "angularaxis": {
            "gridcolor": "white",
            "linecolor": "white",
            "ticks": ""
           },
           "bgcolor": "#E5ECF6",
           "radialaxis": {
            "gridcolor": "white",
            "linecolor": "white",
            "ticks": ""
           }
          },
          "scene": {
           "xaxis": {
            "backgroundcolor": "#E5ECF6",
            "gridcolor": "white",
            "gridwidth": 2,
            "linecolor": "white",
            "showbackground": true,
            "ticks": "",
            "zerolinecolor": "white"
           },
           "yaxis": {
            "backgroundcolor": "#E5ECF6",
            "gridcolor": "white",
            "gridwidth": 2,
            "linecolor": "white",
            "showbackground": true,
            "ticks": "",
            "zerolinecolor": "white"
           },
           "zaxis": {
            "backgroundcolor": "#E5ECF6",
            "gridcolor": "white",
            "gridwidth": 2,
            "linecolor": "white",
            "showbackground": true,
            "ticks": "",
            "zerolinecolor": "white"
           }
          },
          "shapedefaults": {
           "line": {
            "color": "#2a3f5f"
           }
          },
          "ternary": {
           "aaxis": {
            "gridcolor": "white",
            "linecolor": "white",
            "ticks": ""
           },
           "baxis": {
            "gridcolor": "white",
            "linecolor": "white",
            "ticks": ""
           },
           "bgcolor": "#E5ECF6",
           "caxis": {
            "gridcolor": "white",
            "linecolor": "white",
            "ticks": ""
           }
          },
          "title": {
           "x": 0.05
          },
          "xaxis": {
           "automargin": true,
           "gridcolor": "white",
           "linecolor": "white",
           "ticks": "",
           "title": {
            "standoff": 15
           },
           "zerolinecolor": "white",
           "zerolinewidth": 2
          },
          "yaxis": {
           "automargin": true,
           "gridcolor": "white",
           "linecolor": "white",
           "ticks": "",
           "title": {
            "standoff": 15
           },
           "zerolinecolor": "white",
           "zerolinewidth": 2
          }
         }
        },
        "title": {
         "text": "연도별 상위 10개 배급사의 관객수"
        },
        "xaxis": {
         "anchor": "y",
         "domain": [
          0,
          1
         ],
         "title": {
          "text": "연도"
         }
        },
        "yaxis": {
         "anchor": "x",
         "domain": [
          0,
          1
         ],
         "tickformat": ",.0f",
         "title": {
          "text": "관객수"
         }
        }
       }
      }
     },
     "metadata": {},
     "output_type": "display_data"
    }
   ],
   "source": [
    "import pandas as pd\n",
    "\n",
    "df = pd.read_excel('5.5_viz_dataset.xlsx')\n",
    "df = df.rename(columns={'genre_one': 'genre'})\n",
    "\n",
    "# 매출액 열을 숫자로 변환\n",
    "df['매출액'] = pd.to_numeric(df['매출액'].str.replace(',', ''), errors='coerce')\n",
    "\n",
    "# 매출액 열의 결측치가 있는 행 제거\n",
    "df = df.dropna(subset=['매출액'])\n",
    "\n",
    "\n",
    "import plotly.express as px\n",
    "\n",
    "# 개봉일을 datetime 형식으로 변환\n",
    "df['개봉일'] = pd.to_datetime(df['개봉일'])\n",
    "\n",
    "# 개봉일에서 연도 정보 추출\n",
    "df['연도'] = df['개봉일'].dt.year\n",
    "\n",
    "# 배급사에 따른 연도별 매출액 합계 계산\n",
    "sales_by_company_year = df.groupby(['배급사', '연도']).sum()['매출액'].reset_index()\n",
    "\n",
    "# 배급사에 따른 연도별 관객수 합계 계산\n",
    "audience_by_company_year = df.groupby(['배급사', '연도']).sum()['관객수'].reset_index()\n",
    "\n",
    "# 각 연도별로 상위 10개 배급사 선택\n",
    "top_sales_companies_by_year = sales_by_company_year.groupby('연도').apply(lambda x: x.nlargest(10, '매출액')).reset_index(drop=True)\n",
    "top_audience_companies_by_year = audience_by_company_year.groupby('연도').apply(lambda x: x.nlargest(10, '관객수')).reset_index(drop=True)\n",
    "\n",
    "# 매출액 시각화 (상위 10개 배급사)\n",
    "fig_sales_top10 = px.bar(top_sales_companies_by_year, x='연도', y='매출액', color='배급사', title='연도별 상위 10개 배급사의 매출액',\n",
    "                         color_discrete_sequence=px.colors.qualitative.Alphabet)\n",
    "# 매출액의 y축을 회계 형식으로 설정\n",
    "fig_sales_top10.update_layout(yaxis_tickformat=',.0f')\n",
    "fig_sales_top10.show()\n",
    "fig_sales_top10.write_html('hj_sales.html')\n",
    "\n",
    "# 관객수 시각화 (상위 10개 배급사)\n",
    "fig_audience_top10 = px.bar(top_audience_companies_by_year, x='연도', y='관객수', color='배급사', title='연도별 상위 10개 배급사의 관객수',\n",
    "                            color_discrete_sequence=px.colors.qualitative.Alphabet)\n",
    "# 매출액의 y축을 회계 형식으로 설정\n",
    "fig_audience_top10.update_layout(yaxis_tickformat=',.0f')\n",
    "fig_audience_top10.show()\n",
    "fig_audience_top10.write_html('hj_audience.html')\n"
   ]
  },
  {
   "cell_type": "code",
   "execution_count": null,
   "id": "6c489ae8",
   "metadata": {},
   "outputs": [
    {
     "data": {
      "application/vnd.plotly.v1+json": {
       "config": {
        "plotlyServerURL": "https://plot.ly"
       },
       "data": [
        {
         "alignmentgroup": "True",
         "hovertemplate": "genre_one=코미디<br>배급사=%{x}<br>매출액=%{y}<extra></extra>",
         "legendgroup": "코미디",
         "marker": {
          "color": "#636efa",
          "pattern": {
           "shape": ""
          }
         },
         "name": "코미디",
         "offsetgroup": "코미디",
         "orientation": "v",
         "showlegend": true,
         "textposition": "auto",
         "type": "bar",
         "x": [
          "씨제이이엔엠"
         ],
         "xaxis": "x",
         "y": [
          139647979516
         ],
         "yaxis": "y"
        },
        {
         "alignmentgroup": "True",
         "hovertemplate": "genre_one=범죄<br>배급사=%{x}<br>매출액=%{y}<extra></extra>",
         "legendgroup": "범죄",
         "marker": {
          "color": "#EF553B",
          "pattern": {
           "shape": ""
          }
         },
         "name": "범죄",
         "offsetgroup": "범죄",
         "orientation": "v",
         "showlegend": true,
         "textposition": "auto",
         "type": "bar",
         "x": [
          "주식회사 에이비오엔터테인먼트,플러스엠 엔터테인먼트",
          "플러스엠 엔터테인먼트,키위미디어그룹"
         ],
         "xaxis": "x",
         "y": [
          131295679478,
          56318014149
         ],
         "yaxis": "y"
        },
        {
         "alignmentgroup": "True",
         "hovertemplate": "genre_one=드라마<br>배급사=%{x}<br>매출액=%{y}<extra></extra>",
         "legendgroup": "드라마",
         "marker": {
          "color": "#00cc96",
          "pattern": {
           "shape": ""
          }
         },
         "name": "드라마",
         "offsetgroup": "드라마",
         "orientation": "v",
         "showlegend": true,
         "textposition": "auto",
         "type": "bar",
         "x": [
          "플러스엠 엔터테인먼트"
         ],
         "xaxis": "x",
         "y": [
          127924472553
         ],
         "yaxis": "y"
        },
        {
         "alignmentgroup": "True",
         "hovertemplate": "genre_one=판타지<br>배급사=%{x}<br>매출액=%{y}<extra></extra>",
         "legendgroup": "판타지",
         "marker": {
          "color": "#ab63fa",
          "pattern": {
           "shape": ""
          }
         },
         "name": "판타지",
         "offsetgroup": "판타지",
         "orientation": "v",
         "showlegend": true,
         "textposition": "auto",
         "type": "bar",
         "x": [
          "롯데쇼핑㈜롯데엔터테인먼트",
          "롯데컬처웍스롯데엔터테인먼트"
         ],
         "xaxis": "x",
         "y": [
          115698654137,
          102666146909
         ],
         "yaxis": "y"
        },
        {
         "alignmentgroup": "True",
         "hovertemplate": "genre_one=미스터리<br>배급사=%{x}<br>매출액=%{y}<extra></extra>",
         "legendgroup": "미스터리",
         "marker": {
          "color": "#FFA15A",
          "pattern": {
           "shape": ""
          }
         },
         "name": "미스터리",
         "offsetgroup": "미스터리",
         "orientation": "v",
         "showlegend": true,
         "textposition": "auto",
         "type": "bar",
         "x": [
          "쇼박스"
         ],
         "xaxis": "x",
         "y": [
          105793676208
         ],
         "yaxis": "y"
        },
        {
         "alignmentgroup": "True",
         "hovertemplate": "genre_one=액션<br>배급사=%{x}<br>매출액=%{y}<extra></extra>",
         "legendgroup": "액션",
         "marker": {
          "color": "#19d3f3",
          "pattern": {
           "shape": ""
          }
         },
         "name": "액션",
         "offsetgroup": "액션",
         "orientation": "v",
         "showlegend": true,
         "textposition": "auto",
         "type": "bar",
         "x": [
          "넥스트엔터테인먼트월드(NEW)",
          "워너브러더스 코리아"
         ],
         "xaxis": "x",
         "y": [
          93178283048,
          61269783831
         ],
         "yaxis": "y"
        },
        {
         "alignmentgroup": "True",
         "hovertemplate": "genre_one=어드벤처<br>배급사=%{x}<br>매출액=%{y}<extra></extra>",
         "legendgroup": "어드벤처",
         "marker": {
          "color": "#FF6692",
          "pattern": {
           "shape": ""
          }
         },
         "name": "어드벤처",
         "offsetgroup": "어드벤처",
         "orientation": "v",
         "showlegend": true,
         "textposition": "auto",
         "type": "bar",
         "x": [
          "씨제이이엔엠,덱스터스튜디오"
         ],
         "xaxis": "x",
         "y": [
          69825366300
         ],
         "yaxis": "y"
        }
       ],
       "layout": {
        "barmode": "relative",
        "legend": {
         "title": {
          "text": "genre_one"
         },
         "tracegroupgap": 0
        },
        "template": {
         "data": {
          "bar": [
           {
            "error_x": {
             "color": "#2a3f5f"
            },
            "error_y": {
             "color": "#2a3f5f"
            },
            "marker": {
             "line": {
              "color": "#E5ECF6",
              "width": 0.5
             },
             "pattern": {
              "fillmode": "overlay",
              "size": 10,
              "solidity": 0.2
             }
            },
            "type": "bar"
           }
          ],
          "barpolar": [
           {
            "marker": {
             "line": {
              "color": "#E5ECF6",
              "width": 0.5
             },
             "pattern": {
              "fillmode": "overlay",
              "size": 10,
              "solidity": 0.2
             }
            },
            "type": "barpolar"
           }
          ],
          "carpet": [
           {
            "aaxis": {
             "endlinecolor": "#2a3f5f",
             "gridcolor": "white",
             "linecolor": "white",
             "minorgridcolor": "white",
             "startlinecolor": "#2a3f5f"
            },
            "baxis": {
             "endlinecolor": "#2a3f5f",
             "gridcolor": "white",
             "linecolor": "white",
             "minorgridcolor": "white",
             "startlinecolor": "#2a3f5f"
            },
            "type": "carpet"
           }
          ],
          "choropleth": [
           {
            "colorbar": {
             "outlinewidth": 0,
             "ticks": ""
            },
            "type": "choropleth"
           }
          ],
          "contour": [
           {
            "colorbar": {
             "outlinewidth": 0,
             "ticks": ""
            },
            "colorscale": [
             [
              0,
              "#0d0887"
             ],
             [
              0.1111111111111111,
              "#46039f"
             ],
             [
              0.2222222222222222,
              "#7201a8"
             ],
             [
              0.3333333333333333,
              "#9c179e"
             ],
             [
              0.4444444444444444,
              "#bd3786"
             ],
             [
              0.5555555555555556,
              "#d8576b"
             ],
             [
              0.6666666666666666,
              "#ed7953"
             ],
             [
              0.7777777777777778,
              "#fb9f3a"
             ],
             [
              0.8888888888888888,
              "#fdca26"
             ],
             [
              1,
              "#f0f921"
             ]
            ],
            "type": "contour"
           }
          ],
          "contourcarpet": [
           {
            "colorbar": {
             "outlinewidth": 0,
             "ticks": ""
            },
            "type": "contourcarpet"
           }
          ],
          "heatmap": [
           {
            "colorbar": {
             "outlinewidth": 0,
             "ticks": ""
            },
            "colorscale": [
             [
              0,
              "#0d0887"
             ],
             [
              0.1111111111111111,
              "#46039f"
             ],
             [
              0.2222222222222222,
              "#7201a8"
             ],
             [
              0.3333333333333333,
              "#9c179e"
             ],
             [
              0.4444444444444444,
              "#bd3786"
             ],
             [
              0.5555555555555556,
              "#d8576b"
             ],
             [
              0.6666666666666666,
              "#ed7953"
             ],
             [
              0.7777777777777778,
              "#fb9f3a"
             ],
             [
              0.8888888888888888,
              "#fdca26"
             ],
             [
              1,
              "#f0f921"
             ]
            ],
            "type": "heatmap"
           }
          ],
          "heatmapgl": [
           {
            "colorbar": {
             "outlinewidth": 0,
             "ticks": ""
            },
            "colorscale": [
             [
              0,
              "#0d0887"
             ],
             [
              0.1111111111111111,
              "#46039f"
             ],
             [
              0.2222222222222222,
              "#7201a8"
             ],
             [
              0.3333333333333333,
              "#9c179e"
             ],
             [
              0.4444444444444444,
              "#bd3786"
             ],
             [
              0.5555555555555556,
              "#d8576b"
             ],
             [
              0.6666666666666666,
              "#ed7953"
             ],
             [
              0.7777777777777778,
              "#fb9f3a"
             ],
             [
              0.8888888888888888,
              "#fdca26"
             ],
             [
              1,
              "#f0f921"
             ]
            ],
            "type": "heatmapgl"
           }
          ],
          "histogram": [
           {
            "marker": {
             "pattern": {
              "fillmode": "overlay",
              "size": 10,
              "solidity": 0.2
             }
            },
            "type": "histogram"
           }
          ],
          "histogram2d": [
           {
            "colorbar": {
             "outlinewidth": 0,
             "ticks": ""
            },
            "colorscale": [
             [
              0,
              "#0d0887"
             ],
             [
              0.1111111111111111,
              "#46039f"
             ],
             [
              0.2222222222222222,
              "#7201a8"
             ],
             [
              0.3333333333333333,
              "#9c179e"
             ],
             [
              0.4444444444444444,
              "#bd3786"
             ],
             [
              0.5555555555555556,
              "#d8576b"
             ],
             [
              0.6666666666666666,
              "#ed7953"
             ],
             [
              0.7777777777777778,
              "#fb9f3a"
             ],
             [
              0.8888888888888888,
              "#fdca26"
             ],
             [
              1,
              "#f0f921"
             ]
            ],
            "type": "histogram2d"
           }
          ],
          "histogram2dcontour": [
           {
            "colorbar": {
             "outlinewidth": 0,
             "ticks": ""
            },
            "colorscale": [
             [
              0,
              "#0d0887"
             ],
             [
              0.1111111111111111,
              "#46039f"
             ],
             [
              0.2222222222222222,
              "#7201a8"
             ],
             [
              0.3333333333333333,
              "#9c179e"
             ],
             [
              0.4444444444444444,
              "#bd3786"
             ],
             [
              0.5555555555555556,
              "#d8576b"
             ],
             [
              0.6666666666666666,
              "#ed7953"
             ],
             [
              0.7777777777777778,
              "#fb9f3a"
             ],
             [
              0.8888888888888888,
              "#fdca26"
             ],
             [
              1,
              "#f0f921"
             ]
            ],
            "type": "histogram2dcontour"
           }
          ],
          "mesh3d": [
           {
            "colorbar": {
             "outlinewidth": 0,
             "ticks": ""
            },
            "type": "mesh3d"
           }
          ],
          "parcoords": [
           {
            "line": {
             "colorbar": {
              "outlinewidth": 0,
              "ticks": ""
             }
            },
            "type": "parcoords"
           }
          ],
          "pie": [
           {
            "automargin": true,
            "type": "pie"
           }
          ],
          "scatter": [
           {
            "fillpattern": {
             "fillmode": "overlay",
             "size": 10,
             "solidity": 0.2
            },
            "type": "scatter"
           }
          ],
          "scatter3d": [
           {
            "line": {
             "colorbar": {
              "outlinewidth": 0,
              "ticks": ""
             }
            },
            "marker": {
             "colorbar": {
              "outlinewidth": 0,
              "ticks": ""
             }
            },
            "type": "scatter3d"
           }
          ],
          "scattercarpet": [
           {
            "marker": {
             "colorbar": {
              "outlinewidth": 0,
              "ticks": ""
             }
            },
            "type": "scattercarpet"
           }
          ],
          "scattergeo": [
           {
            "marker": {
             "colorbar": {
              "outlinewidth": 0,
              "ticks": ""
             }
            },
            "type": "scattergeo"
           }
          ],
          "scattergl": [
           {
            "marker": {
             "colorbar": {
              "outlinewidth": 0,
              "ticks": ""
             }
            },
            "type": "scattergl"
           }
          ],
          "scattermapbox": [
           {
            "marker": {
             "colorbar": {
              "outlinewidth": 0,
              "ticks": ""
             }
            },
            "type": "scattermapbox"
           }
          ],
          "scatterpolar": [
           {
            "marker": {
             "colorbar": {
              "outlinewidth": 0,
              "ticks": ""
             }
            },
            "type": "scatterpolar"
           }
          ],
          "scatterpolargl": [
           {
            "marker": {
             "colorbar": {
              "outlinewidth": 0,
              "ticks": ""
             }
            },
            "type": "scatterpolargl"
           }
          ],
          "scatterternary": [
           {
            "marker": {
             "colorbar": {
              "outlinewidth": 0,
              "ticks": ""
             }
            },
            "type": "scatterternary"
           }
          ],
          "surface": [
           {
            "colorbar": {
             "outlinewidth": 0,
             "ticks": ""
            },
            "colorscale": [
             [
              0,
              "#0d0887"
             ],
             [
              0.1111111111111111,
              "#46039f"
             ],
             [
              0.2222222222222222,
              "#7201a8"
             ],
             [
              0.3333333333333333,
              "#9c179e"
             ],
             [
              0.4444444444444444,
              "#bd3786"
             ],
             [
              0.5555555555555556,
              "#d8576b"
             ],
             [
              0.6666666666666666,
              "#ed7953"
             ],
             [
              0.7777777777777778,
              "#fb9f3a"
             ],
             [
              0.8888888888888888,
              "#fdca26"
             ],
             [
              1,
              "#f0f921"
             ]
            ],
            "type": "surface"
           }
          ],
          "table": [
           {
            "cells": {
             "fill": {
              "color": "#EBF0F8"
             },
             "line": {
              "color": "white"
             }
            },
            "header": {
             "fill": {
              "color": "#C8D4E3"
             },
             "line": {
              "color": "white"
             }
            },
            "type": "table"
           }
          ]
         },
         "layout": {
          "annotationdefaults": {
           "arrowcolor": "#2a3f5f",
           "arrowhead": 0,
           "arrowwidth": 1
          },
          "autotypenumbers": "strict",
          "coloraxis": {
           "colorbar": {
            "outlinewidth": 0,
            "ticks": ""
           }
          },
          "colorscale": {
           "diverging": [
            [
             0,
             "#8e0152"
            ],
            [
             0.1,
             "#c51b7d"
            ],
            [
             0.2,
             "#de77ae"
            ],
            [
             0.3,
             "#f1b6da"
            ],
            [
             0.4,
             "#fde0ef"
            ],
            [
             0.5,
             "#f7f7f7"
            ],
            [
             0.6,
             "#e6f5d0"
            ],
            [
             0.7,
             "#b8e186"
            ],
            [
             0.8,
             "#7fbc41"
            ],
            [
             0.9,
             "#4d9221"
            ],
            [
             1,
             "#276419"
            ]
           ],
           "sequential": [
            [
             0,
             "#0d0887"
            ],
            [
             0.1111111111111111,
             "#46039f"
            ],
            [
             0.2222222222222222,
             "#7201a8"
            ],
            [
             0.3333333333333333,
             "#9c179e"
            ],
            [
             0.4444444444444444,
             "#bd3786"
            ],
            [
             0.5555555555555556,
             "#d8576b"
            ],
            [
             0.6666666666666666,
             "#ed7953"
            ],
            [
             0.7777777777777778,
             "#fb9f3a"
            ],
            [
             0.8888888888888888,
             "#fdca26"
            ],
            [
             1,
             "#f0f921"
            ]
           ],
           "sequentialminus": [
            [
             0,
             "#0d0887"
            ],
            [
             0.1111111111111111,
             "#46039f"
            ],
            [
             0.2222222222222222,
             "#7201a8"
            ],
            [
             0.3333333333333333,
             "#9c179e"
            ],
            [
             0.4444444444444444,
             "#bd3786"
            ],
            [
             0.5555555555555556,
             "#d8576b"
            ],
            [
             0.6666666666666666,
             "#ed7953"
            ],
            [
             0.7777777777777778,
             "#fb9f3a"
            ],
            [
             0.8888888888888888,
             "#fdca26"
            ],
            [
             1,
             "#f0f921"
            ]
           ]
          },
          "colorway": [
           "#636efa",
           "#EF553B",
           "#00cc96",
           "#ab63fa",
           "#FFA15A",
           "#19d3f3",
           "#FF6692",
           "#B6E880",
           "#FF97FF",
           "#FECB52"
          ],
          "font": {
           "color": "#2a3f5f"
          },
          "geo": {
           "bgcolor": "white",
           "lakecolor": "white",
           "landcolor": "#E5ECF6",
           "showlakes": true,
           "showland": true,
           "subunitcolor": "white"
          },
          "hoverlabel": {
           "align": "left"
          },
          "hovermode": "closest",
          "mapbox": {
           "style": "light"
          },
          "paper_bgcolor": "white",
          "plot_bgcolor": "#E5ECF6",
          "polar": {
           "angularaxis": {
            "gridcolor": "white",
            "linecolor": "white",
            "ticks": ""
           },
           "bgcolor": "#E5ECF6",
           "radialaxis": {
            "gridcolor": "white",
            "linecolor": "white",
            "ticks": ""
           }
          },
          "scene": {
           "xaxis": {
            "backgroundcolor": "#E5ECF6",
            "gridcolor": "white",
            "gridwidth": 2,
            "linecolor": "white",
            "showbackground": true,
            "ticks": "",
            "zerolinecolor": "white"
           },
           "yaxis": {
            "backgroundcolor": "#E5ECF6",
            "gridcolor": "white",
            "gridwidth": 2,
            "linecolor": "white",
            "showbackground": true,
            "ticks": "",
            "zerolinecolor": "white"
           },
           "zaxis": {
            "backgroundcolor": "#E5ECF6",
            "gridcolor": "white",
            "gridwidth": 2,
            "linecolor": "white",
            "showbackground": true,
            "ticks": "",
            "zerolinecolor": "white"
           }
          },
          "shapedefaults": {
           "line": {
            "color": "#2a3f5f"
           }
          },
          "ternary": {
           "aaxis": {
            "gridcolor": "white",
            "linecolor": "white",
            "ticks": ""
           },
           "baxis": {
            "gridcolor": "white",
            "linecolor": "white",
            "ticks": ""
           },
           "bgcolor": "#E5ECF6",
           "caxis": {
            "gridcolor": "white",
            "linecolor": "white",
            "ticks": ""
           }
          },
          "title": {
           "x": 0.05
          },
          "xaxis": {
           "automargin": true,
           "gridcolor": "white",
           "linecolor": "white",
           "ticks": "",
           "title": {
            "standoff": 15
           },
           "zerolinecolor": "white",
           "zerolinewidth": 2
          },
          "yaxis": {
           "automargin": true,
           "gridcolor": "white",
           "linecolor": "white",
           "ticks": "",
           "title": {
            "standoff": 15
           },
           "zerolinecolor": "white",
           "zerolinewidth": 2
          }
         }
        },
        "title": {
         "text": "배급사별 가장 많은 매출을 올린 영화의 장르 (상위 10개)"
        },
        "xaxis": {
         "anchor": "y",
         "domain": [
          0,
          1
         ],
         "title": {
          "text": "배급사"
         }
        },
        "yaxis": {
         "anchor": "x",
         "domain": [
          0,
          1
         ],
         "tickformat": ",.0f",
         "title": {
          "text": "매출액"
         }
        }
       }
      }
     },
     "metadata": {},
     "output_type": "display_data"
    }
   ],
   "source": [
    "# 배급사별 가장 많은 매출을 올린 영화 찾기\n",
    "top_movies = df.loc[df.groupby('배급사')['매출액'].idxmax()]\n",
    "\n",
    "# 매출액을 기준으로 내림차순으로 정렬하고 상위 10개만 선택\n",
    "top_movies = top_movies.sort_values(by='매출액', ascending=False).head(10)\n",
    "\n",
    "# 시각화\n",
    "fig = px.bar(top_movies, x='배급사', y='매출액', color='genre_one', title='배급사별 가장 많은 매출을 올린 영화의 장르 (상위 10개)')\n",
    "\n",
    "# 매출액의 y축을 회계 형식으로 설정\n",
    "fig.update_layout(yaxis_tickformat=',.0f')\n",
    "fig.show()\n",
    "fig.write_html('yj_money.html')"
   ]
  },
  {
   "cell_type": "markdown",
   "id": "4d833515",
   "metadata": {},
   "source": [
    "## 장르별 가장 많은 매출을 기록한 영화 찾기"
   ]
  },
  {
   "cell_type": "code",
   "execution_count": null,
   "id": "8ce2a346",
   "metadata": {},
   "outputs": [
    {
     "data": {
      "application/vnd.plotly.v1+json": {
       "config": {
        "plotlyServerURL": "https://plot.ly"
       },
       "data": [
        {
         "alignmentgroup": "True",
         "hovertemplate": "배급사=씨제이이엔엠<br>genre_one=%{x}<br>매출액=%{y}<extra></extra>",
         "legendgroup": "씨제이이엔엠",
         "marker": {
          "color": "#636efa",
          "pattern": {
           "shape": ""
          }
         },
         "name": "씨제이이엔엠",
         "offsetgroup": "씨제이이엔엠",
         "orientation": "v",
         "showlegend": true,
         "textposition": "auto",
         "type": "bar",
         "x": [
          "코미디",
          "사극",
          "액션",
          "SF",
          "전쟁"
         ],
         "xaxis": "x",
         "y": [
          139647979516,
          135748398910,
          105168155250,
          67010077500,
          55101410303
         ],
         "yaxis": "y"
        },
        {
         "alignmentgroup": "True",
         "hovertemplate": "배급사=주식회사 에이비오엔터테인먼트,플러스엠 엔터테인먼트<br>genre_one=%{x}<br>매출액=%{y}<extra></extra>",
         "legendgroup": "주식회사 에이비오엔터테인먼트,플러스엠 엔터테인먼트",
         "marker": {
          "color": "#EF553B",
          "pattern": {
           "shape": ""
          }
         },
         "name": "주식회사 에이비오엔터테인먼트,플러스엠 엔터테인먼트",
         "offsetgroup": "주식회사 에이비오엔터테인먼트,플러스엠 엔터테인먼트",
         "orientation": "v",
         "showlegend": true,
         "textposition": "auto",
         "type": "bar",
         "x": [
          "범죄"
         ],
         "xaxis": "x",
         "y": [
          131295679478
         ],
         "yaxis": "y"
        },
        {
         "alignmentgroup": "True",
         "hovertemplate": "배급사=플러스엠 엔터테인먼트<br>genre_one=%{x}<br>매출액=%{y}<extra></extra>",
         "legendgroup": "플러스엠 엔터테인먼트",
         "marker": {
          "color": "#00cc96",
          "pattern": {
           "shape": ""
          }
         },
         "name": "플러스엠 엔터테인먼트",
         "offsetgroup": "플러스엠 엔터테인먼트",
         "orientation": "v",
         "showlegend": true,
         "textposition": "auto",
         "type": "bar",
         "x": [
          "드라마"
         ],
         "xaxis": "x",
         "y": [
          127924472553
         ],
         "yaxis": "y"
        },
        {
         "alignmentgroup": "True",
         "hovertemplate": "배급사=롯데쇼핑㈜롯데엔터테인먼트<br>genre_one=%{x}<br>매출액=%{y}<extra></extra>",
         "legendgroup": "롯데쇼핑㈜롯데엔터테인먼트",
         "marker": {
          "color": "#ab63fa",
          "pattern": {
           "shape": ""
          }
         },
         "name": "롯데쇼핑㈜롯데엔터테인먼트",
         "offsetgroup": "롯데쇼핑㈜롯데엔터테인먼트",
         "orientation": "v",
         "showlegend": true,
         "textposition": "auto",
         "type": "bar",
         "x": [
          "판타지"
         ],
         "xaxis": "x",
         "y": [
          115698654137
         ],
         "yaxis": "y"
        },
        {
         "alignmentgroup": "True",
         "hovertemplate": "배급사=쇼박스<br>genre_one=%{x}<br>매출액=%{y}<extra></extra>",
         "legendgroup": "쇼박스",
         "marker": {
          "color": "#FFA15A",
          "pattern": {
           "shape": ""
          }
         },
         "name": "쇼박스",
         "offsetgroup": "쇼박스",
         "orientation": "v",
         "showlegend": true,
         "textposition": "auto",
         "type": "bar",
         "x": [
          "미스터리"
         ],
         "xaxis": "x",
         "y": [
          105793676208
         ],
         "yaxis": "y"
        },
        {
         "alignmentgroup": "True",
         "hovertemplate": "배급사=씨제이이엔엠,덱스터스튜디오<br>genre_one=%{x}<br>매출액=%{y}<extra></extra>",
         "legendgroup": "씨제이이엔엠,덱스터스튜디오",
         "marker": {
          "color": "#19d3f3",
          "pattern": {
           "shape": ""
          }
         },
         "name": "씨제이이엔엠,덱스터스튜디오",
         "offsetgroup": "씨제이이엔엠,덱스터스튜디오",
         "orientation": "v",
         "showlegend": true,
         "textposition": "auto",
         "type": "bar",
         "x": [
          "어드벤처"
         ],
         "xaxis": "x",
         "y": [
          69825366300
         ],
         "yaxis": "y"
        }
       ],
       "layout": {
        "barmode": "relative",
        "legend": {
         "title": {
          "text": "배급사"
         },
         "tracegroupgap": 0
        },
        "template": {
         "data": {
          "bar": [
           {
            "error_x": {
             "color": "#2a3f5f"
            },
            "error_y": {
             "color": "#2a3f5f"
            },
            "marker": {
             "line": {
              "color": "#E5ECF6",
              "width": 0.5
             },
             "pattern": {
              "fillmode": "overlay",
              "size": 10,
              "solidity": 0.2
             }
            },
            "type": "bar"
           }
          ],
          "barpolar": [
           {
            "marker": {
             "line": {
              "color": "#E5ECF6",
              "width": 0.5
             },
             "pattern": {
              "fillmode": "overlay",
              "size": 10,
              "solidity": 0.2
             }
            },
            "type": "barpolar"
           }
          ],
          "carpet": [
           {
            "aaxis": {
             "endlinecolor": "#2a3f5f",
             "gridcolor": "white",
             "linecolor": "white",
             "minorgridcolor": "white",
             "startlinecolor": "#2a3f5f"
            },
            "baxis": {
             "endlinecolor": "#2a3f5f",
             "gridcolor": "white",
             "linecolor": "white",
             "minorgridcolor": "white",
             "startlinecolor": "#2a3f5f"
            },
            "type": "carpet"
           }
          ],
          "choropleth": [
           {
            "colorbar": {
             "outlinewidth": 0,
             "ticks": ""
            },
            "type": "choropleth"
           }
          ],
          "contour": [
           {
            "colorbar": {
             "outlinewidth": 0,
             "ticks": ""
            },
            "colorscale": [
             [
              0,
              "#0d0887"
             ],
             [
              0.1111111111111111,
              "#46039f"
             ],
             [
              0.2222222222222222,
              "#7201a8"
             ],
             [
              0.3333333333333333,
              "#9c179e"
             ],
             [
              0.4444444444444444,
              "#bd3786"
             ],
             [
              0.5555555555555556,
              "#d8576b"
             ],
             [
              0.6666666666666666,
              "#ed7953"
             ],
             [
              0.7777777777777778,
              "#fb9f3a"
             ],
             [
              0.8888888888888888,
              "#fdca26"
             ],
             [
              1,
              "#f0f921"
             ]
            ],
            "type": "contour"
           }
          ],
          "contourcarpet": [
           {
            "colorbar": {
             "outlinewidth": 0,
             "ticks": ""
            },
            "type": "contourcarpet"
           }
          ],
          "heatmap": [
           {
            "colorbar": {
             "outlinewidth": 0,
             "ticks": ""
            },
            "colorscale": [
             [
              0,
              "#0d0887"
             ],
             [
              0.1111111111111111,
              "#46039f"
             ],
             [
              0.2222222222222222,
              "#7201a8"
             ],
             [
              0.3333333333333333,
              "#9c179e"
             ],
             [
              0.4444444444444444,
              "#bd3786"
             ],
             [
              0.5555555555555556,
              "#d8576b"
             ],
             [
              0.6666666666666666,
              "#ed7953"
             ],
             [
              0.7777777777777778,
              "#fb9f3a"
             ],
             [
              0.8888888888888888,
              "#fdca26"
             ],
             [
              1,
              "#f0f921"
             ]
            ],
            "type": "heatmap"
           }
          ],
          "heatmapgl": [
           {
            "colorbar": {
             "outlinewidth": 0,
             "ticks": ""
            },
            "colorscale": [
             [
              0,
              "#0d0887"
             ],
             [
              0.1111111111111111,
              "#46039f"
             ],
             [
              0.2222222222222222,
              "#7201a8"
             ],
             [
              0.3333333333333333,
              "#9c179e"
             ],
             [
              0.4444444444444444,
              "#bd3786"
             ],
             [
              0.5555555555555556,
              "#d8576b"
             ],
             [
              0.6666666666666666,
              "#ed7953"
             ],
             [
              0.7777777777777778,
              "#fb9f3a"
             ],
             [
              0.8888888888888888,
              "#fdca26"
             ],
             [
              1,
              "#f0f921"
             ]
            ],
            "type": "heatmapgl"
           }
          ],
          "histogram": [
           {
            "marker": {
             "pattern": {
              "fillmode": "overlay",
              "size": 10,
              "solidity": 0.2
             }
            },
            "type": "histogram"
           }
          ],
          "histogram2d": [
           {
            "colorbar": {
             "outlinewidth": 0,
             "ticks": ""
            },
            "colorscale": [
             [
              0,
              "#0d0887"
             ],
             [
              0.1111111111111111,
              "#46039f"
             ],
             [
              0.2222222222222222,
              "#7201a8"
             ],
             [
              0.3333333333333333,
              "#9c179e"
             ],
             [
              0.4444444444444444,
              "#bd3786"
             ],
             [
              0.5555555555555556,
              "#d8576b"
             ],
             [
              0.6666666666666666,
              "#ed7953"
             ],
             [
              0.7777777777777778,
              "#fb9f3a"
             ],
             [
              0.8888888888888888,
              "#fdca26"
             ],
             [
              1,
              "#f0f921"
             ]
            ],
            "type": "histogram2d"
           }
          ],
          "histogram2dcontour": [
           {
            "colorbar": {
             "outlinewidth": 0,
             "ticks": ""
            },
            "colorscale": [
             [
              0,
              "#0d0887"
             ],
             [
              0.1111111111111111,
              "#46039f"
             ],
             [
              0.2222222222222222,
              "#7201a8"
             ],
             [
              0.3333333333333333,
              "#9c179e"
             ],
             [
              0.4444444444444444,
              "#bd3786"
             ],
             [
              0.5555555555555556,
              "#d8576b"
             ],
             [
              0.6666666666666666,
              "#ed7953"
             ],
             [
              0.7777777777777778,
              "#fb9f3a"
             ],
             [
              0.8888888888888888,
              "#fdca26"
             ],
             [
              1,
              "#f0f921"
             ]
            ],
            "type": "histogram2dcontour"
           }
          ],
          "mesh3d": [
           {
            "colorbar": {
             "outlinewidth": 0,
             "ticks": ""
            },
            "type": "mesh3d"
           }
          ],
          "parcoords": [
           {
            "line": {
             "colorbar": {
              "outlinewidth": 0,
              "ticks": ""
             }
            },
            "type": "parcoords"
           }
          ],
          "pie": [
           {
            "automargin": true,
            "type": "pie"
           }
          ],
          "scatter": [
           {
            "fillpattern": {
             "fillmode": "overlay",
             "size": 10,
             "solidity": 0.2
            },
            "type": "scatter"
           }
          ],
          "scatter3d": [
           {
            "line": {
             "colorbar": {
              "outlinewidth": 0,
              "ticks": ""
             }
            },
            "marker": {
             "colorbar": {
              "outlinewidth": 0,
              "ticks": ""
             }
            },
            "type": "scatter3d"
           }
          ],
          "scattercarpet": [
           {
            "marker": {
             "colorbar": {
              "outlinewidth": 0,
              "ticks": ""
             }
            },
            "type": "scattercarpet"
           }
          ],
          "scattergeo": [
           {
            "marker": {
             "colorbar": {
              "outlinewidth": 0,
              "ticks": ""
             }
            },
            "type": "scattergeo"
           }
          ],
          "scattergl": [
           {
            "marker": {
             "colorbar": {
              "outlinewidth": 0,
              "ticks": ""
             }
            },
            "type": "scattergl"
           }
          ],
          "scattermapbox": [
           {
            "marker": {
             "colorbar": {
              "outlinewidth": 0,
              "ticks": ""
             }
            },
            "type": "scattermapbox"
           }
          ],
          "scatterpolar": [
           {
            "marker": {
             "colorbar": {
              "outlinewidth": 0,
              "ticks": ""
             }
            },
            "type": "scatterpolar"
           }
          ],
          "scatterpolargl": [
           {
            "marker": {
             "colorbar": {
              "outlinewidth": 0,
              "ticks": ""
             }
            },
            "type": "scatterpolargl"
           }
          ],
          "scatterternary": [
           {
            "marker": {
             "colorbar": {
              "outlinewidth": 0,
              "ticks": ""
             }
            },
            "type": "scatterternary"
           }
          ],
          "surface": [
           {
            "colorbar": {
             "outlinewidth": 0,
             "ticks": ""
            },
            "colorscale": [
             [
              0,
              "#0d0887"
             ],
             [
              0.1111111111111111,
              "#46039f"
             ],
             [
              0.2222222222222222,
              "#7201a8"
             ],
             [
              0.3333333333333333,
              "#9c179e"
             ],
             [
              0.4444444444444444,
              "#bd3786"
             ],
             [
              0.5555555555555556,
              "#d8576b"
             ],
             [
              0.6666666666666666,
              "#ed7953"
             ],
             [
              0.7777777777777778,
              "#fb9f3a"
             ],
             [
              0.8888888888888888,
              "#fdca26"
             ],
             [
              1,
              "#f0f921"
             ]
            ],
            "type": "surface"
           }
          ],
          "table": [
           {
            "cells": {
             "fill": {
              "color": "#EBF0F8"
             },
             "line": {
              "color": "white"
             }
            },
            "header": {
             "fill": {
              "color": "#C8D4E3"
             },
             "line": {
              "color": "white"
             }
            },
            "type": "table"
           }
          ]
         },
         "layout": {
          "annotationdefaults": {
           "arrowcolor": "#2a3f5f",
           "arrowhead": 0,
           "arrowwidth": 1
          },
          "autotypenumbers": "strict",
          "coloraxis": {
           "colorbar": {
            "outlinewidth": 0,
            "ticks": ""
           }
          },
          "colorscale": {
           "diverging": [
            [
             0,
             "#8e0152"
            ],
            [
             0.1,
             "#c51b7d"
            ],
            [
             0.2,
             "#de77ae"
            ],
            [
             0.3,
             "#f1b6da"
            ],
            [
             0.4,
             "#fde0ef"
            ],
            [
             0.5,
             "#f7f7f7"
            ],
            [
             0.6,
             "#e6f5d0"
            ],
            [
             0.7,
             "#b8e186"
            ],
            [
             0.8,
             "#7fbc41"
            ],
            [
             0.9,
             "#4d9221"
            ],
            [
             1,
             "#276419"
            ]
           ],
           "sequential": [
            [
             0,
             "#0d0887"
            ],
            [
             0.1111111111111111,
             "#46039f"
            ],
            [
             0.2222222222222222,
             "#7201a8"
            ],
            [
             0.3333333333333333,
             "#9c179e"
            ],
            [
             0.4444444444444444,
             "#bd3786"
            ],
            [
             0.5555555555555556,
             "#d8576b"
            ],
            [
             0.6666666666666666,
             "#ed7953"
            ],
            [
             0.7777777777777778,
             "#fb9f3a"
            ],
            [
             0.8888888888888888,
             "#fdca26"
            ],
            [
             1,
             "#f0f921"
            ]
           ],
           "sequentialminus": [
            [
             0,
             "#0d0887"
            ],
            [
             0.1111111111111111,
             "#46039f"
            ],
            [
             0.2222222222222222,
             "#7201a8"
            ],
            [
             0.3333333333333333,
             "#9c179e"
            ],
            [
             0.4444444444444444,
             "#bd3786"
            ],
            [
             0.5555555555555556,
             "#d8576b"
            ],
            [
             0.6666666666666666,
             "#ed7953"
            ],
            [
             0.7777777777777778,
             "#fb9f3a"
            ],
            [
             0.8888888888888888,
             "#fdca26"
            ],
            [
             1,
             "#f0f921"
            ]
           ]
          },
          "colorway": [
           "#636efa",
           "#EF553B",
           "#00cc96",
           "#ab63fa",
           "#FFA15A",
           "#19d3f3",
           "#FF6692",
           "#B6E880",
           "#FF97FF",
           "#FECB52"
          ],
          "font": {
           "color": "#2a3f5f"
          },
          "geo": {
           "bgcolor": "white",
           "lakecolor": "white",
           "landcolor": "#E5ECF6",
           "showlakes": true,
           "showland": true,
           "subunitcolor": "white"
          },
          "hoverlabel": {
           "align": "left"
          },
          "hovermode": "closest",
          "mapbox": {
           "style": "light"
          },
          "paper_bgcolor": "white",
          "plot_bgcolor": "#E5ECF6",
          "polar": {
           "angularaxis": {
            "gridcolor": "white",
            "linecolor": "white",
            "ticks": ""
           },
           "bgcolor": "#E5ECF6",
           "radialaxis": {
            "gridcolor": "white",
            "linecolor": "white",
            "ticks": ""
           }
          },
          "scene": {
           "xaxis": {
            "backgroundcolor": "#E5ECF6",
            "gridcolor": "white",
            "gridwidth": 2,
            "linecolor": "white",
            "showbackground": true,
            "ticks": "",
            "zerolinecolor": "white"
           },
           "yaxis": {
            "backgroundcolor": "#E5ECF6",
            "gridcolor": "white",
            "gridwidth": 2,
            "linecolor": "white",
            "showbackground": true,
            "ticks": "",
            "zerolinecolor": "white"
           },
           "zaxis": {
            "backgroundcolor": "#E5ECF6",
            "gridcolor": "white",
            "gridwidth": 2,
            "linecolor": "white",
            "showbackground": true,
            "ticks": "",
            "zerolinecolor": "white"
           }
          },
          "shapedefaults": {
           "line": {
            "color": "#2a3f5f"
           }
          },
          "ternary": {
           "aaxis": {
            "gridcolor": "white",
            "linecolor": "white",
            "ticks": ""
           },
           "baxis": {
            "gridcolor": "white",
            "linecolor": "white",
            "ticks": ""
           },
           "bgcolor": "#E5ECF6",
           "caxis": {
            "gridcolor": "white",
            "linecolor": "white",
            "ticks": ""
           }
          },
          "title": {
           "x": 0.05
          },
          "xaxis": {
           "automargin": true,
           "gridcolor": "white",
           "linecolor": "white",
           "ticks": "",
           "title": {
            "standoff": 15
           },
           "zerolinecolor": "white",
           "zerolinewidth": 2
          },
          "yaxis": {
           "automargin": true,
           "gridcolor": "white",
           "linecolor": "white",
           "ticks": "",
           "title": {
            "standoff": 15
           },
           "zerolinecolor": "white",
           "zerolinewidth": 2
          }
         }
        },
        "title": {
         "text": "장르별 가장 많은 매출을 기록한 배급사 (상위 10개)"
        },
        "xaxis": {
         "anchor": "y",
         "domain": [
          0,
          1
         ],
         "title": {
          "text": "genre_one"
         }
        },
        "yaxis": {
         "anchor": "x",
         "domain": [
          0,
          1
         ],
         "tickformat": ",.0f",
         "title": {
          "text": "매출액"
         }
        }
       }
      }
     },
     "metadata": {},
     "output_type": "display_data"
    }
   ],
   "source": [
    "# 장르별 가장 많은 매출을 기록한 영화 찾기\n",
    "top_movies_by_genre = df.loc[df.groupby('genre_one')['매출액'].idxmax()]\n",
    "\n",
    "# 매출액을 기준으로 내림차순으로 정렬하고 상위 10개만 선택\n",
    "top_movies_by_genre = top_movies_by_genre.sort_values(by='매출액', ascending=False).head(10)\n",
    "\n",
    "# 시각화\n",
    "fig = px.bar(top_movies_by_genre, x='genre_one', y='매출액', color='배급사', title='장르별 가장 많은 매출을 기록한 배급사 (상위 10개)')\n",
    "\n",
    "# 매출액의 y축을 회계 형식으로 설정\n",
    "fig.update_layout(yaxis_tickformat=',.0f')\n",
    "\n",
    "fig.show()\n",
    "fig.write_html('yj_genre.html')"
   ]
  },
  {
   "cell_type": "code",
   "execution_count": null,
   "id": "8229950b",
   "metadata": {},
   "outputs": [],
   "source": []
  },
  {
   "cell_type": "code",
   "execution_count": null,
   "id": "1af09629",
   "metadata": {},
   "outputs": [],
   "source": []
  }
 ],
 "metadata": {
  "kernelspec": {
   "display_name": "Python 3",
   "language": "python",
   "name": "python3"
  },
  "language_info": {
   "codemirror_mode": {
    "name": "ipython",
    "version": 3
   },
   "file_extension": ".py",
   "mimetype": "text/x-python",
   "name": "python",
   "nbconvert_exporter": "python",
   "pygments_lexer": "ipython3",
   "version": "3.11.5"
  }
 },
 "nbformat": 4,
 "nbformat_minor": 5
}
