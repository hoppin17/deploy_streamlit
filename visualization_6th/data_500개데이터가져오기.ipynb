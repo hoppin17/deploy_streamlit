{
 "cells": [
  {
   "cell_type": "code",
   "execution_count": 2,
   "id": "6bbb6f53-1e21-4c40-a7e8-ea174c897130",
   "metadata": {
    "tags": []
   },
   "outputs": [],
   "source": [
    "import pandas as pd\n",
    "from selenium import webdriver\n",
    "import time\n",
    "from webdriver_manager.chrome import ChromeDriverManager #요즘은 chrome driver을 따로 설치 안해줘도 되구나...\n",
    "from selenium.webdriver.common.by import By"
   ]
  },
  {
   "cell_type": "markdown",
   "id": "154c7e46-1a86-42c5-9611-f8be02631eea",
   "metadata": {},
   "source": [
    "포스터만 또 가져와보자"
   ]
  },
  {
   "cell_type": "markdown",
   "id": "74305112-55b6-474d-a2e0-86e5523911a9",
   "metadata": {},
   "source": [
    "## 500개까지 있으므로 500개의 데이터셋을 만들어보자"
   ]
  },
  {
   "cell_type": "code",
   "execution_count": 48,
   "id": "971eb52b-c675-4a85-9439-43f89515f7c8",
   "metadata": {
    "tags": []
   },
   "outputs": [],
   "source": [
    "# 이제 위에 순서를 for문을 이용해서 필요한 만큼 데이터를 가져와보자!\n",
    "\n",
    "# 저장할 list 생성\n",
    "\n",
    "# 필요한 사이트 조회\n",
    "driver = webdriver.Chrome()\n",
    "driver.get(\"https://www.kobis.or.kr/kobis/business/stat/offc/findFormerBoxOfficeList.do\")\n",
    "\n",
    "# 한국 영화만 조회하도록 변경\n",
    "driver.find_element(By.XPATH, '/html/body/div/div[2]/div[2]/div[3]/form/div/div[2]/div/select/option[2]').click()\n",
    "driver.find_element(By.XPATH, '/html/body/div/div[2]/div[2]/div[3]/form/div/div[3]/button').click()\n",
    "time.sleep(2)\n",
    "\n",
    "#500개까지 우선 확장\n",
    "for x in range(2,6):\n",
    "    driver.find_element(By.XPATH, f'/html/body/div/div[2]/div[2]/div[4]/div[{x}]/div/a').click()\n",
    "    time.sleep(2)\n",
    "\n",
    "# 아래와 같이 div 부분에 숫자가 바뀜\n",
    "#/html/body/div[2]/div[2]/div/div[1]/div[2]/a\n",
    "#이부분만 가져와서 저장하면됨"
   ]
  },
  {
   "cell_type": "code",
   "execution_count": 52,
   "id": "618fac93-bcfa-46e9-b6f4-2ab4b826bbee",
   "metadata": {
    "tags": []
   },
   "outputs": [
    {
     "ename": "NoSuchElementException",
     "evalue": "Message: no such element: element not found\n  (Session info: chrome=124.0.6367.91); For documentation on this error, please visit: https://www.selenium.dev/documentation/webdriver/troubleshooting/errors#no-such-element-exception\nStacktrace:\n0   chromedriver                        0x0000000104eee8cc chromedriver + 4368588\n1   chromedriver                        0x0000000104ee6d60 chromedriver + 4336992\n2   chromedriver                        0x0000000104b0ac04 chromedriver + 289796\n3   chromedriver                        0x0000000104b187b8 chromedriver + 346040\n4   chromedriver                        0x0000000104b0fe88 chromedriver + 310920\n5   chromedriver                        0x0000000104b0fe88 chromedriver + 310920\n6   chromedriver                        0x0000000104b0e74c chromedriver + 304972\n7   chromedriver                        0x0000000104b11180 chromedriver + 315776\n8   chromedriver                        0x0000000104b86020 chromedriver + 794656\n9   chromedriver                        0x0000000104b855ec chromedriver + 792044\n10  chromedriver                        0x0000000104b41ab4 chromedriver + 514740\n11  chromedriver                        0x0000000104b4250c chromedriver + 517388\n12  chromedriver                        0x0000000104eb2de8 chromedriver + 4124136\n13  chromedriver                        0x0000000104eb7bd8 chromedriver + 4144088\n14  chromedriver                        0x0000000104e987b0 chromedriver + 4016048\n15  chromedriver                        0x0000000104eb8508 chromedriver + 4146440\n16  chromedriver                        0x0000000104e8a264 chromedriver + 3957348\n17  chromedriver                        0x0000000104ed7e50 chromedriver + 4275792\n18  chromedriver                        0x0000000104ed7fcc chromedriver + 4276172\n19  chromedriver                        0x0000000104ee69c0 chromedriver + 4336064\n20  libsystem_pthread.dylib             0x0000000189d9af94 _pthread_start + 136\n21  libsystem_pthread.dylib             0x0000000189d95d34 thread_start + 8\n",
     "output_type": "error",
     "traceback": [
      "\u001b[0;31m---------------------------------------------------------------------------\u001b[0m",
      "\u001b[0;31mNoSuchElementException\u001b[0m                    Traceback (most recent call last)",
      "Cell \u001b[0;32mIn[52], line 9\u001b[0m\n\u001b[1;32m      6\u001b[0m driver\u001b[38;5;241m.\u001b[39mfind_element(By\u001b[38;5;241m.\u001b[39mXPATH, \u001b[38;5;124m\"\u001b[39m\u001b[38;5;124m/html/body/div[2]/div[2]/div/div[1]/div[2]/a\u001b[39m\u001b[38;5;124m\"\u001b[39m)\n\u001b[1;32m      8\u001b[0m \u001b[38;5;66;03m# 요소가 화면에 보이도록 스크롤\u001b[39;00m\n\u001b[0;32m----> 9\u001b[0m driver\u001b[38;5;241m.\u001b[39mexecute_script(\u001b[38;5;124m\"\u001b[39m\u001b[38;5;124marguments[0].scrollIntoView();\u001b[39m\u001b[38;5;124m\"\u001b[39m, poster_element)\n\u001b[1;32m     11\u001b[0m \u001b[38;5;66;03m# 요소의 스크린샷 찍기\u001b[39;00m\n\u001b[1;32m     12\u001b[0m poster_screenshot \u001b[38;5;241m=\u001b[39m poster_element\u001b[38;5;241m.\u001b[39mscreenshot_as_png\n",
      "File \u001b[0;32m/opt/anaconda3/lib/python3.11/site-packages/selenium/webdriver/remote/webdriver.py:407\u001b[0m, in \u001b[0;36mWebDriver.execute_script\u001b[0;34m(self, script, *args)\u001b[0m\n\u001b[1;32m    404\u001b[0m converted_args \u001b[38;5;241m=\u001b[39m \u001b[38;5;28mlist\u001b[39m(args)\n\u001b[1;32m    405\u001b[0m command \u001b[38;5;241m=\u001b[39m Command\u001b[38;5;241m.\u001b[39mW3C_EXECUTE_SCRIPT\n\u001b[0;32m--> 407\u001b[0m \u001b[38;5;28;01mreturn\u001b[39;00m \u001b[38;5;28mself\u001b[39m\u001b[38;5;241m.\u001b[39mexecute(command, {\u001b[38;5;124m\"\u001b[39m\u001b[38;5;124mscript\u001b[39m\u001b[38;5;124m\"\u001b[39m: script, \u001b[38;5;124m\"\u001b[39m\u001b[38;5;124margs\u001b[39m\u001b[38;5;124m\"\u001b[39m: converted_args})[\u001b[38;5;124m\"\u001b[39m\u001b[38;5;124mvalue\u001b[39m\u001b[38;5;124m\"\u001b[39m]\n",
      "File \u001b[0;32m/opt/anaconda3/lib/python3.11/site-packages/selenium/webdriver/remote/webdriver.py:347\u001b[0m, in \u001b[0;36mWebDriver.execute\u001b[0;34m(self, driver_command, params)\u001b[0m\n\u001b[1;32m    345\u001b[0m response \u001b[38;5;241m=\u001b[39m \u001b[38;5;28mself\u001b[39m\u001b[38;5;241m.\u001b[39mcommand_executor\u001b[38;5;241m.\u001b[39mexecute(driver_command, params)\n\u001b[1;32m    346\u001b[0m \u001b[38;5;28;01mif\u001b[39;00m response:\n\u001b[0;32m--> 347\u001b[0m     \u001b[38;5;28mself\u001b[39m\u001b[38;5;241m.\u001b[39merror_handler\u001b[38;5;241m.\u001b[39mcheck_response(response)\n\u001b[1;32m    348\u001b[0m     response[\u001b[38;5;124m\"\u001b[39m\u001b[38;5;124mvalue\u001b[39m\u001b[38;5;124m\"\u001b[39m] \u001b[38;5;241m=\u001b[39m \u001b[38;5;28mself\u001b[39m\u001b[38;5;241m.\u001b[39m_unwrap_value(response\u001b[38;5;241m.\u001b[39mget(\u001b[38;5;124m\"\u001b[39m\u001b[38;5;124mvalue\u001b[39m\u001b[38;5;124m\"\u001b[39m, \u001b[38;5;28;01mNone\u001b[39;00m))\n\u001b[1;32m    349\u001b[0m     \u001b[38;5;28;01mreturn\u001b[39;00m response\n",
      "File \u001b[0;32m/opt/anaconda3/lib/python3.11/site-packages/selenium/webdriver/remote/errorhandler.py:229\u001b[0m, in \u001b[0;36mErrorHandler.check_response\u001b[0;34m(self, response)\u001b[0m\n\u001b[1;32m    227\u001b[0m         alert_text \u001b[38;5;241m=\u001b[39m value[\u001b[38;5;124m\"\u001b[39m\u001b[38;5;124malert\u001b[39m\u001b[38;5;124m\"\u001b[39m]\u001b[38;5;241m.\u001b[39mget(\u001b[38;5;124m\"\u001b[39m\u001b[38;5;124mtext\u001b[39m\u001b[38;5;124m\"\u001b[39m)\n\u001b[1;32m    228\u001b[0m     \u001b[38;5;28;01mraise\u001b[39;00m exception_class(message, screen, stacktrace, alert_text)  \u001b[38;5;66;03m# type: ignore[call-arg]  # mypy is not smart enough here\u001b[39;00m\n\u001b[0;32m--> 229\u001b[0m \u001b[38;5;28;01mraise\u001b[39;00m exception_class(message, screen, stacktrace)\n",
      "\u001b[0;31mNoSuchElementException\u001b[0m: Message: no such element: element not found\n  (Session info: chrome=124.0.6367.91); For documentation on this error, please visit: https://www.selenium.dev/documentation/webdriver/troubleshooting/errors#no-such-element-exception\nStacktrace:\n0   chromedriver                        0x0000000104eee8cc chromedriver + 4368588\n1   chromedriver                        0x0000000104ee6d60 chromedriver + 4336992\n2   chromedriver                        0x0000000104b0ac04 chromedriver + 289796\n3   chromedriver                        0x0000000104b187b8 chromedriver + 346040\n4   chromedriver                        0x0000000104b0fe88 chromedriver + 310920\n5   chromedriver                        0x0000000104b0fe88 chromedriver + 310920\n6   chromedriver                        0x0000000104b0e74c chromedriver + 304972\n7   chromedriver                        0x0000000104b11180 chromedriver + 315776\n8   chromedriver                        0x0000000104b86020 chromedriver + 794656\n9   chromedriver                        0x0000000104b855ec chromedriver + 792044\n10  chromedriver                        0x0000000104b41ab4 chromedriver + 514740\n11  chromedriver                        0x0000000104b4250c chromedriver + 517388\n12  chromedriver                        0x0000000104eb2de8 chromedriver + 4124136\n13  chromedriver                        0x0000000104eb7bd8 chromedriver + 4144088\n14  chromedriver                        0x0000000104e987b0 chromedriver + 4016048\n15  chromedriver                        0x0000000104eb8508 chromedriver + 4146440\n16  chromedriver                        0x0000000104e8a264 chromedriver + 3957348\n17  chromedriver                        0x0000000104ed7e50 chromedriver + 4275792\n18  chromedriver                        0x0000000104ed7fcc chromedriver + 4276172\n19  chromedriver                        0x0000000104ee69c0 chromedriver + 4336064\n20  libsystem_pthread.dylib             0x0000000189d9af94 _pthread_start + 136\n21  libsystem_pthread.dylib             0x0000000189d95d34 thread_start + 8\n"
     ]
    }
   ],
   "source": [
    "\n",
    "for num in range(1,501):\n",
    "    # 필요한 팝업창 열기\n",
    "    driver.find_element(By.XPATH, f'/html/body/div/div[2]/div[2]/div[4]/div[6]/table/tbody/tr[{num}]/td[2]/a').click()\n",
    "    \n",
    "    # 포스터가 있는 요소 식별\n",
    "    driver.find_element(By.XPATH, \"/html/body/div[2]/div[2]/div/div[1]/div[2]/a\")\n",
    "    \n",
    "    # 요소가 화면에 보이도록 스크롤\n",
    "    driver.execute_script(\"arguments[0].scrollIntoView();\", poster_element)\n",
    "\n",
    "    # 요소의 스크린샷 찍기\n",
    "    poster_screenshot = poster_element.screenshot_as_png\n",
    "\n",
    "    # 스크린샷을 파일로 저장\n",
    "    with open(f\"poster/{num}.png\", \"wb\") as file:\n",
    "        file.write(poster_screenshot)\n",
    "    \n",
    "    driver.close()\n",
    "        \n",
    "    time.sleep(3)\n",
    "    \n",
    "\n",
    "    driver.find_element(By.CSS_SELECTOR, 'body > div.ui-dialog.ui-corner-all.ui-widget.ui-widget-content.ui-front.ui-draggable.ui-resizable > div.ui-dialog-titlebar.ui-corner-all.ui-widget-header.ui-helper-clearfix.ui-draggable-handle > div.hd_layer > a:nth-child(3) > span').click()"
   ]
  },
  {
   "cell_type": "code",
   "execution_count": 69,
   "id": "4254f5c2-dc7f-46dc-b549-c546e340ce14",
   "metadata": {
    "execution": {
     "iopub.execute_input": "2024-04-29T12:46:17.529410Z",
     "iopub.status.busy": "2024-04-29T12:46:17.528978Z",
     "iopub.status.idle": "2024-04-29T12:46:17.534298Z",
     "shell.execute_reply": "2024-04-29T12:46:17.533665Z",
     "shell.execute_reply.started": "2024-04-29T12:46:17.529379Z"
    },
    "tags": []
   },
   "outputs": [
    {
     "data": {
      "text/plain": [
       "177"
      ]
     },
     "execution_count": 69,
     "metadata": {},
     "output_type": "execute_result"
    }
   ],
   "source": [
    "len(movie_coach_list)"
   ]
  },
  {
   "cell_type": "code",
   "execution_count": 71,
   "id": "6442c965-4e18-4e75-ac23-e97400177721",
   "metadata": {
    "execution": {
     "iopub.execute_input": "2024-04-29T12:46:21.077444Z",
     "iopub.status.busy": "2024-04-29T12:46:21.077173Z",
     "iopub.status.idle": "2024-04-29T13:21:36.471791Z",
     "shell.execute_reply": "2024-04-29T13:21:36.471207Z",
     "shell.execute_reply.started": "2024-04-29T12:46:21.077425Z"
    },
    "tags": []
   },
   "outputs": [
    {
     "ename": "NoSuchElementException",
     "evalue": "Message: no such element: Unable to locate element: {\"method\":\"xpath\",\"selector\":\"//*[@id=\"20247074_staff\"]/dl/div[2]/dd/table[1]/tbody/tr/td\"}\n  (Session info: chrome=124.0.6367.91); For documentation on this error, please visit: https://www.selenium.dev/documentation/webdriver/troubleshooting/errors#no-such-element-exception\nStacktrace:\n0   chromedriver                        0x000000010267e8cc chromedriver + 4368588\n1   chromedriver                        0x0000000102676d60 chromedriver + 4336992\n2   chromedriver                        0x000000010229ac04 chromedriver + 289796\n3   chromedriver                        0x00000001022dce00 chromedriver + 560640\n4   chromedriver                        0x00000001023155ec chromedriver + 792044\n5   chromedriver                        0x00000001022d1ab4 chromedriver + 514740\n6   chromedriver                        0x00000001022d250c chromedriver + 517388\n7   chromedriver                        0x0000000102642de8 chromedriver + 4124136\n8   chromedriver                        0x0000000102647bd8 chromedriver + 4144088\n9   chromedriver                        0x00000001026287b0 chromedriver + 4016048\n10  chromedriver                        0x0000000102648508 chromedriver + 4146440\n11  chromedriver                        0x000000010261a264 chromedriver + 3957348\n12  chromedriver                        0x0000000102667e50 chromedriver + 4275792\n13  chromedriver                        0x0000000102667fcc chromedriver + 4276172\n14  chromedriver                        0x00000001026769c0 chromedriver + 4336064\n15  libsystem_pthread.dylib             0x000000019ccf6f94 _pthread_start + 136\n16  libsystem_pthread.dylib             0x000000019ccf1d34 thread_start + 8\n",
     "output_type": "error",
     "traceback": [
      "\u001b[0;31m---------------------------------------------------------------------------\u001b[0m",
      "\u001b[0;31mNoSuchElementException\u001b[0m                    Traceback (most recent call last)",
      "Cell \u001b[0;32mIn[71], line 14\u001b[0m\n\u001b[1;32m     12\u001b[0m gener \u001b[38;5;241m=\u001b[39m driver\u001b[38;5;241m.\u001b[39mfind_element(By\u001b[38;5;241m.\u001b[39mXPATH, \u001b[38;5;124m'\u001b[39m\u001b[38;5;124m/html/body/div[2]/div[2]/div/div[1]/div[2]/dl/dd[4]\u001b[39m\u001b[38;5;124m'\u001b[39m)\u001b[38;5;241m.\u001b[39mtext \u001b[38;5;66;03m# 여기엔 여러 요약정보가 들어있으니 우선 넣고 나중에 처리\u001b[39;00m\n\u001b[1;32m     13\u001b[0m coach \u001b[38;5;241m=\u001b[39m driver\u001b[38;5;241m.\u001b[39mfind_element(By\u001b[38;5;241m.\u001b[39mXPATH,\u001b[38;5;124mf\u001b[39m\u001b[38;5;124m'\u001b[39m\u001b[38;5;124m//*[@id=\u001b[39m\u001b[38;5;124m\"\u001b[39m\u001b[38;5;132;01m{\u001b[39;00m\u001b[38;5;28mid\u001b[39m\u001b[38;5;132;01m}\u001b[39;00m\u001b[38;5;124m_director\u001b[39m\u001b[38;5;124m\"\u001b[39m\u001b[38;5;124m]/dd/a\u001b[39m\u001b[38;5;124m'\u001b[39m)\u001b[38;5;241m.\u001b[39mtext\n\u001b[0;32m---> 14\u001b[0m actor_main \u001b[38;5;241m=\u001b[39m driver\u001b[38;5;241m.\u001b[39mfind_element(By\u001b[38;5;241m.\u001b[39mXPATH, \u001b[38;5;124mf\u001b[39m\u001b[38;5;124m'\u001b[39m\u001b[38;5;124m//*[@id=\u001b[39m\u001b[38;5;124m\"\u001b[39m\u001b[38;5;132;01m{\u001b[39;00m\u001b[38;5;28mid\u001b[39m\u001b[38;5;132;01m}\u001b[39;00m\u001b[38;5;124m_staff\u001b[39m\u001b[38;5;124m\"\u001b[39m\u001b[38;5;124m]/dl/div[2]/dd/table[1]/tbody/tr/td\u001b[39m\u001b[38;5;124m'\u001b[39m)\u001b[38;5;241m.\u001b[39mtext\n\u001b[1;32m     16\u001b[0m movie_gener_list\u001b[38;5;241m.\u001b[39mappend(gener)\n\u001b[1;32m     17\u001b[0m movie_coach_list\u001b[38;5;241m.\u001b[39mappend(coach)\n",
      "File \u001b[0;32m/opt/anaconda3/lib/python3.11/site-packages/selenium/webdriver/remote/webdriver.py:741\u001b[0m, in \u001b[0;36mWebDriver.find_element\u001b[0;34m(self, by, value)\u001b[0m\n\u001b[1;32m    738\u001b[0m     by \u001b[38;5;241m=\u001b[39m By\u001b[38;5;241m.\u001b[39mCSS_SELECTOR\n\u001b[1;32m    739\u001b[0m     value \u001b[38;5;241m=\u001b[39m \u001b[38;5;124mf\u001b[39m\u001b[38;5;124m'\u001b[39m\u001b[38;5;124m[name=\u001b[39m\u001b[38;5;124m\"\u001b[39m\u001b[38;5;132;01m{\u001b[39;00mvalue\u001b[38;5;132;01m}\u001b[39;00m\u001b[38;5;124m\"\u001b[39m\u001b[38;5;124m]\u001b[39m\u001b[38;5;124m'\u001b[39m\n\u001b[0;32m--> 741\u001b[0m \u001b[38;5;28;01mreturn\u001b[39;00m \u001b[38;5;28mself\u001b[39m\u001b[38;5;241m.\u001b[39mexecute(Command\u001b[38;5;241m.\u001b[39mFIND_ELEMENT, {\u001b[38;5;124m\"\u001b[39m\u001b[38;5;124musing\u001b[39m\u001b[38;5;124m\"\u001b[39m: by, \u001b[38;5;124m\"\u001b[39m\u001b[38;5;124mvalue\u001b[39m\u001b[38;5;124m\"\u001b[39m: value})[\u001b[38;5;124m\"\u001b[39m\u001b[38;5;124mvalue\u001b[39m\u001b[38;5;124m\"\u001b[39m]\n",
      "File \u001b[0;32m/opt/anaconda3/lib/python3.11/site-packages/selenium/webdriver/remote/webdriver.py:347\u001b[0m, in \u001b[0;36mWebDriver.execute\u001b[0;34m(self, driver_command, params)\u001b[0m\n\u001b[1;32m    345\u001b[0m response \u001b[38;5;241m=\u001b[39m \u001b[38;5;28mself\u001b[39m\u001b[38;5;241m.\u001b[39mcommand_executor\u001b[38;5;241m.\u001b[39mexecute(driver_command, params)\n\u001b[1;32m    346\u001b[0m \u001b[38;5;28;01mif\u001b[39;00m response:\n\u001b[0;32m--> 347\u001b[0m     \u001b[38;5;28mself\u001b[39m\u001b[38;5;241m.\u001b[39merror_handler\u001b[38;5;241m.\u001b[39mcheck_response(response)\n\u001b[1;32m    348\u001b[0m     response[\u001b[38;5;124m\"\u001b[39m\u001b[38;5;124mvalue\u001b[39m\u001b[38;5;124m\"\u001b[39m] \u001b[38;5;241m=\u001b[39m \u001b[38;5;28mself\u001b[39m\u001b[38;5;241m.\u001b[39m_unwrap_value(response\u001b[38;5;241m.\u001b[39mget(\u001b[38;5;124m\"\u001b[39m\u001b[38;5;124mvalue\u001b[39m\u001b[38;5;124m\"\u001b[39m, \u001b[38;5;28;01mNone\u001b[39;00m))\n\u001b[1;32m    349\u001b[0m     \u001b[38;5;28;01mreturn\u001b[39;00m response\n",
      "File \u001b[0;32m/opt/anaconda3/lib/python3.11/site-packages/selenium/webdriver/remote/errorhandler.py:229\u001b[0m, in \u001b[0;36mErrorHandler.check_response\u001b[0;34m(self, response)\u001b[0m\n\u001b[1;32m    227\u001b[0m         alert_text \u001b[38;5;241m=\u001b[39m value[\u001b[38;5;124m\"\u001b[39m\u001b[38;5;124malert\u001b[39m\u001b[38;5;124m\"\u001b[39m]\u001b[38;5;241m.\u001b[39mget(\u001b[38;5;124m\"\u001b[39m\u001b[38;5;124mtext\u001b[39m\u001b[38;5;124m\"\u001b[39m)\n\u001b[1;32m    228\u001b[0m     \u001b[38;5;28;01mraise\u001b[39;00m exception_class(message, screen, stacktrace, alert_text)  \u001b[38;5;66;03m# type: ignore[call-arg]  # mypy is not smart enough here\u001b[39;00m\n\u001b[0;32m--> 229\u001b[0m \u001b[38;5;28;01mraise\u001b[39;00m exception_class(message, screen, stacktrace)\n",
      "\u001b[0;31mNoSuchElementException\u001b[0m: Message: no such element: Unable to locate element: {\"method\":\"xpath\",\"selector\":\"//*[@id=\"20247074_staff\"]/dl/div[2]/dd/table[1]/tbody/tr/td\"}\n  (Session info: chrome=124.0.6367.91); For documentation on this error, please visit: https://www.selenium.dev/documentation/webdriver/troubleshooting/errors#no-such-element-exception\nStacktrace:\n0   chromedriver                        0x000000010267e8cc chromedriver + 4368588\n1   chromedriver                        0x0000000102676d60 chromedriver + 4336992\n2   chromedriver                        0x000000010229ac04 chromedriver + 289796\n3   chromedriver                        0x00000001022dce00 chromedriver + 560640\n4   chromedriver                        0x00000001023155ec chromedriver + 792044\n5   chromedriver                        0x00000001022d1ab4 chromedriver + 514740\n6   chromedriver                        0x00000001022d250c chromedriver + 517388\n7   chromedriver                        0x0000000102642de8 chromedriver + 4124136\n8   chromedriver                        0x0000000102647bd8 chromedriver + 4144088\n9   chromedriver                        0x00000001026287b0 chromedriver + 4016048\n10  chromedriver                        0x0000000102648508 chromedriver + 4146440\n11  chromedriver                        0x000000010261a264 chromedriver + 3957348\n12  chromedriver                        0x0000000102667e50 chromedriver + 4275792\n13  chromedriver                        0x0000000102667fcc chromedriver + 4276172\n14  chromedriver                        0x00000001026769c0 chromedriver + 4336064\n15  libsystem_pthread.dylib             0x000000019ccf6f94 _pthread_start + 136\n16  libsystem_pthread.dylib             0x000000019ccf1d34 thread_start + 8\n"
     ]
    }
   ],
   "source": [
    "# 100개를 가져와보자 -> 한페이지에 100개밖에 없음\n",
    "for num in range(len(movie_coach_list)+1,501):\n",
    "    # 필요한 팝업창 열기\n",
    "    driver.find_element(By.XPATH, f'/html/body/div/div[2]/div[2]/div[4]/div[6]/table/tbody/tr[{num}]/td[2]/a').click()\n",
    "    \n",
    "    # id값 불러오고 저장\n",
    "    id = driver.find_element(By.XPATH, '/html/body/div[2]/div[2]/div/div[1]/div[2]/dl/dd[1]').text\n",
    "        \n",
    "    time.sleep(5)\n",
    "    \n",
    "    # 확실하게 안바뀌는 부분\n",
    "    gener = driver.find_element(By.XPATH, '/html/body/div[2]/div[2]/div/div[1]/div[2]/dl/dd[4]').text # 여기엔 여러 요약정보가 들어있으니 우선 넣고 나중에 처리\n",
    "    coach = driver.find_element(By.XPATH,f'//*[@id=\"{id}_director\"]/dd/a').text\n",
    "    actor_main = driver.find_element(By.XPATH, f'//*[@id=\"{id}_staff\"]/dl/div[2]/dd/table[1]/tbody/tr/td').text\n",
    "    \n",
    "    movie_gener_list.append(gener)\n",
    "    movie_coach_list.append(coach)\n",
    "    movie_actor_main_list.append(actor_main)\n",
    "    \n",
    "    # 주연만 있고 조연, 카메오나 단역이 없는 경우도 존재\n",
    "    try:\n",
    "        actor_sub = driver.find_element(By.XPATH, f'//*[@id=\"{id}_staff\"]/dl/div[2]/dd/table[2]/tbody/tr/td').text\n",
    "        actor_cameo = driver.find_element(By.XPATH, f'//*[@id=\"{id}_staff\"]/dl/div[2]/dd/table[3]/tbody/tr/td').text # 이 부분은 틀별출현 or 단역으로 나옴\n",
    "        movie_actor_sub_list.append(actor_sub)\n",
    "        movie_actor_cameo_list.append(actor_cameo)\n",
    "\n",
    "    except Exception as e:\n",
    "        movie_actor_sub_list.append('null')\n",
    "        movie_actor_cameo_list.append('null')\n",
    "    \n",
    "    # 혹여나 정보가 없을 경우를 대비해서    \n",
    "    # maker의 경로가누군 7이고 누군 8이라서 둘다 우선 저장. 필요한 부분을 채택해서 사용\n",
    "    try:\n",
    "        maker1 = driver.find_element(By.XPATH, '/html/body/div[2]/div[2]/div/div[1]/div[8]/div/dl/dd[1]').text\n",
    "        movie_maker_list1.append(maker1)\n",
    "    except Exception as e:\n",
    "        movie_maker_list1.append('null')    \n",
    "    try:\n",
    "        maker2 = driver.find_element(By.XPATH, '/html/body/div[2]/div[2]/div/div[1]/div[7]/div/dl/dd[1]').text\n",
    "        movie_maker_list2.append(maker2)\n",
    "    except Exception as e:\n",
    "        movie_maker_list2.append('null')\n",
    "        \n",
    "\n",
    "    driver.find_element(By.CSS_SELECTOR, 'body > div.ui-dialog.ui-corner-all.ui-widget.ui-widget-content.ui-front.ui-draggable.ui-resizable > div.ui-dialog-titlebar.ui-corner-all.ui-widget-header.ui-helper-clearfix.ui-draggable-handle > div.hd_layer > a:nth-child(3) > span').click()"
   ]
  },
  {
   "cell_type": "code",
   "execution_count": 79,
   "id": "6a75e997-1da9-4b93-aa8f-793655936cf7",
   "metadata": {
    "execution": {
     "iopub.execute_input": "2024-04-29T13:32:22.799520Z",
     "iopub.status.busy": "2024-04-29T13:32:22.799133Z",
     "iopub.status.idle": "2024-04-29T13:32:22.804015Z",
     "shell.execute_reply": "2024-04-29T13:32:22.803422Z",
     "shell.execute_reply.started": "2024-04-29T13:32:22.799475Z"
    },
    "tags": []
   },
   "outputs": [
    {
     "data": {
      "text/plain": [
       "453"
      ]
     },
     "execution_count": 79,
     "metadata": {},
     "output_type": "execute_result"
    }
   ],
   "source": [
    "len(movie_coach_list)"
   ]
  },
  {
   "cell_type": "code",
   "execution_count": 83,
   "id": "0de21945-a207-4342-b359-e84f677a48fd",
   "metadata": {
    "execution": {
     "iopub.execute_input": "2024-04-29T13:33:11.403315Z",
     "iopub.status.busy": "2024-04-29T13:33:11.402748Z",
     "iopub.status.idle": "2024-04-29T13:33:30.663461Z",
     "shell.execute_reply": "2024-04-29T13:33:30.661723Z",
     "shell.execute_reply.started": "2024-04-29T13:33:11.403291Z"
    },
    "tags": []
   },
   "outputs": [],
   "source": [
    "# 필요한 사이트 조회\n",
    "driver = webdriver.Chrome()\n",
    "driver.get(\"https://www.kobis.or.kr/kobis/business/stat/offc/findFormerBoxOfficeList.do\")\n",
    "\n",
    "# 한국 영화만 조회하도록 변경\n",
    "driver.find_element(By.XPATH, '/html/body/div/div[2]/div[2]/div[3]/form/div/div[2]/div/select/option[2]').click()\n",
    "driver.find_element(By.XPATH, '/html/body/div/div[2]/div[2]/div[3]/form/div/div[3]/button').click()\n",
    "time.sleep(2)\n",
    "\n",
    "#500개까지 우선 확장\n",
    "for x in range(2,6):\n",
    "    driver.find_element(By.XPATH, f'/html/body/div/div[2]/div[2]/div[4]/div[{x}]/div/a').click()\n",
    "    time.sleep(2)\n",
    "\n",
    "# 아래와 같이 div 부분에 숫자가 바뀜\n",
    "# /html/body/div/div[2]/div[2]/div[4]/div[2]/div/a\n",
    "# /html/body/div/div[2]/div[2]/div[4]/div[3]/div/a\n",
    "# /html/body/div/div[2]/div[2]/div[4]/div[4]/div/a"
   ]
  },
  {
   "cell_type": "code",
   "execution_count": 85,
   "id": "4f5d9550-65d0-41ca-8f59-74520a6a2110",
   "metadata": {
    "execution": {
     "iopub.execute_input": "2024-04-29T13:33:32.875522Z",
     "iopub.status.busy": "2024-04-29T13:33:32.875239Z",
     "iopub.status.idle": "2024-04-29T13:40:41.223471Z",
     "shell.execute_reply": "2024-04-29T13:40:41.222616Z",
     "shell.execute_reply.started": "2024-04-29T13:33:32.875500Z"
    },
    "tags": []
   },
   "outputs": [],
   "source": [
    "# 100개를 가져와보자 -> 한페이지에 100개밖에 없음\n",
    "for num in range(len(movie_coach_list)+2,501):\n",
    "    # 필요한 팝업창 열기\n",
    "    driver.find_element(By.XPATH, f'/html/body/div/div[2]/div[2]/div[4]/div[6]/table/tbody/tr[{num}]/td[2]/a').click()\n",
    "    \n",
    "    # id값 불러오고 저장\n",
    "    id = driver.find_element(By.XPATH, '/html/body/div[2]/div[2]/div/div[1]/div[2]/dl/dd[1]').text\n",
    "        \n",
    "    time.sleep(6)\n",
    "    \n",
    "    # 확실하게 안바뀌는 부분\n",
    "    gener = driver.find_element(By.XPATH, '/html/body/div[2]/div[2]/div/div[1]/div[2]/dl/dd[4]').text # 여기엔 여러 요약정보가 들어있으니 우선 넣고 나중에 처리\n",
    "    coach = driver.find_element(By.XPATH,f'//*[@id=\"{id}_director\"]/dd/a').text\n",
    "    actor_main = driver.find_element(By.XPATH, f'//*[@id=\"{id}_staff\"]/dl/div[2]/dd/table[1]/tbody/tr/td').text\n",
    "    \n",
    "    movie_gener_list.append(gener)\n",
    "    movie_coach_list.append(coach)\n",
    "    movie_actor_main_list.append(actor_main)\n",
    "    \n",
    "    # 주연만 있고 조연, 카메오나 단역이 없는 경우도 존재\n",
    "    try:\n",
    "        actor_sub = driver.find_element(By.XPATH, f'//*[@id=\"{id}_staff\"]/dl/div[2]/dd/table[2]/tbody/tr/td').text\n",
    "        actor_cameo = driver.find_element(By.XPATH, f'//*[@id=\"{id}_staff\"]/dl/div[2]/dd/table[3]/tbody/tr/td').text # 이 부분은 틀별출현 or 단역으로 나옴\n",
    "        movie_actor_sub_list.append(actor_sub)\n",
    "        movie_actor_cameo_list.append(actor_cameo)\n",
    "\n",
    "    except Exception as e:\n",
    "        movie_actor_sub_list.append('null')\n",
    "        movie_actor_cameo_list.append('null')\n",
    "    \n",
    "    # 혹여나 정보가 없을 경우를 대비해서    \n",
    "    # maker의 경로가누군 7이고 누군 8이라서 둘다 우선 저장. 필요한 부분을 채택해서 사용\n",
    "    try:\n",
    "        maker1 = driver.find_element(By.XPATH, '/html/body/div[2]/div[2]/div/div[1]/div[8]/div/dl/dd[1]').text\n",
    "        movie_maker_list1.append(maker1)\n",
    "    except Exception as e:\n",
    "        movie_maker_list1.append('null')    \n",
    "    try:\n",
    "        maker2 = driver.find_element(By.XPATH, '/html/body/div[2]/div[2]/div/div[1]/div[7]/div/dl/dd[1]').text\n",
    "        movie_maker_list2.append(maker2)\n",
    "    except Exception as e:\n",
    "        movie_maker_list2.append('null')\n",
    "        \n",
    "\n",
    "    driver.find_element(By.CSS_SELECTOR, 'body > div.ui-dialog.ui-corner-all.ui-widget.ui-widget-content.ui-front.ui-draggable.ui-resizable > div.ui-dialog-titlebar.ui-corner-all.ui-widget-header.ui-helper-clearfix.ui-draggable-handle > div.hd_layer > a:nth-child(3) > span').click()"
   ]
  },
  {
   "cell_type": "code",
   "execution_count": 55,
   "id": "7ede59dd-a56a-4219-b342-0415606cf014",
   "metadata": {
    "execution": {
     "iopub.execute_input": "2024-04-29T09:38:08.470190Z",
     "iopub.status.busy": "2024-04-29T09:38:08.469775Z",
     "iopub.status.idle": "2024-04-29T09:38:08.474655Z",
     "shell.execute_reply": "2024-04-29T09:38:08.474076Z",
     "shell.execute_reply.started": "2024-04-29T09:38:08.470163Z"
    },
    "tags": []
   },
   "outputs": [
    {
     "data": {
      "text/plain": [
       "208"
      ]
     },
     "execution_count": 55,
     "metadata": {},
     "output_type": "execute_result"
    }
   ],
   "source": [
    "len(movie_coach_list)"
   ]
  },
  {
   "cell_type": "code",
   "execution_count": 39,
   "id": "8c6fda27-6922-414e-9ee0-5aef0f4f6082",
   "metadata": {
    "execution": {
     "iopub.execute_input": "2024-04-29T07:58:04.995406Z",
     "iopub.status.busy": "2024-04-29T07:58:04.994968Z",
     "iopub.status.idle": "2024-04-29T07:58:05.089087Z",
     "shell.execute_reply": "2024-04-29T07:58:05.088518Z",
     "shell.execute_reply.started": "2024-04-29T07:58:04.995375Z"
    },
    "tags": []
   },
   "outputs": [
    {
     "ename": "WebDriverException",
     "evalue": "Message: disconnected: not connected to DevTools\n  (failed to check if window was closed: disconnected: not connected to DevTools)\n  (Session info: chrome=124.0.6367.91)\nStacktrace:\n0   chromedriver                        0x000000010269a8cc chromedriver + 4368588\n1   chromedriver                        0x0000000102692d60 chromedriver + 4336992\n2   chromedriver                        0x00000001022b6c04 chromedriver + 289796\n3   chromedriver                        0x000000010229fd00 chromedriver + 195840\n4   chromedriver                        0x000000010229fc3c chromedriver + 195644\n5   chromedriver                        0x0000000102330d24 chromedriver + 789796\n6   chromedriver                        0x00000001022edab4 chromedriver + 514740\n7   chromedriver                        0x00000001022ee50c chromedriver + 517388\n8   chromedriver                        0x000000010265ede8 chromedriver + 4124136\n9   chromedriver                        0x0000000102663bd8 chromedriver + 4144088\n10  chromedriver                        0x00000001026447b0 chromedriver + 4016048\n11  chromedriver                        0x0000000102664508 chromedriver + 4146440\n12  chromedriver                        0x0000000102636264 chromedriver + 3957348\n13  chromedriver                        0x0000000102683e50 chromedriver + 4275792\n14  chromedriver                        0x0000000102683fcc chromedriver + 4276172\n15  chromedriver                        0x00000001026929c0 chromedriver + 4336064\n16  libsystem_pthread.dylib             0x000000019ccf6f94 _pthread_start + 136\n17  libsystem_pthread.dylib             0x000000019ccf1d34 thread_start + 8\n",
     "output_type": "error",
     "traceback": [
      "\u001b[0;31m---------------------------------------------------------------------------\u001b[0m",
      "\u001b[0;31mWebDriverException\u001b[0m                        Traceback (most recent call last)",
      "Cell \u001b[0;32mIn[39], line 4\u001b[0m\n\u001b[1;32m      1\u001b[0m \u001b[38;5;66;03m# 100개를 가져와보자 -> 한페이지에 100개밖에 없음\u001b[39;00m\n\u001b[1;32m      2\u001b[0m \u001b[38;5;28;01mfor\u001b[39;00m num \u001b[38;5;129;01min\u001b[39;00m \u001b[38;5;28mrange\u001b[39m(\u001b[38;5;28mlen\u001b[39m(movie_coach_list)\u001b[38;5;241m+\u001b[39m\u001b[38;5;241m1\u001b[39m,\u001b[38;5;241m501\u001b[39m):\n\u001b[1;32m      3\u001b[0m     \u001b[38;5;66;03m# 필요한 팝업창 열기\u001b[39;00m\n\u001b[0;32m----> 4\u001b[0m     driver\u001b[38;5;241m.\u001b[39mfind_element(By\u001b[38;5;241m.\u001b[39mXPATH, \u001b[38;5;124mf\u001b[39m\u001b[38;5;124m'\u001b[39m\u001b[38;5;124m/html/body/div/div[2]/div[2]/div[4]/div[6]/table/tbody/tr[\u001b[39m\u001b[38;5;132;01m{\u001b[39;00mnum\u001b[38;5;132;01m}\u001b[39;00m\u001b[38;5;124m]/td[2]/a\u001b[39m\u001b[38;5;124m'\u001b[39m)\u001b[38;5;241m.\u001b[39mclick()\n\u001b[1;32m      6\u001b[0m     \u001b[38;5;66;03m# id값 불러오고 저장\u001b[39;00m\n\u001b[1;32m      7\u001b[0m     \u001b[38;5;28mid\u001b[39m \u001b[38;5;241m=\u001b[39m driver\u001b[38;5;241m.\u001b[39mfind_element(By\u001b[38;5;241m.\u001b[39mXPATH, \u001b[38;5;124m'\u001b[39m\u001b[38;5;124m/html/body/div[2]/div[2]/div/div[1]/div[2]/dl/dd[1]\u001b[39m\u001b[38;5;124m'\u001b[39m)\u001b[38;5;241m.\u001b[39mtext\n",
      "File \u001b[0;32m/opt/anaconda3/lib/python3.11/site-packages/selenium/webdriver/remote/webdriver.py:741\u001b[0m, in \u001b[0;36mWebDriver.find_element\u001b[0;34m(self, by, value)\u001b[0m\n\u001b[1;32m    738\u001b[0m     by \u001b[38;5;241m=\u001b[39m By\u001b[38;5;241m.\u001b[39mCSS_SELECTOR\n\u001b[1;32m    739\u001b[0m     value \u001b[38;5;241m=\u001b[39m \u001b[38;5;124mf\u001b[39m\u001b[38;5;124m'\u001b[39m\u001b[38;5;124m[name=\u001b[39m\u001b[38;5;124m\"\u001b[39m\u001b[38;5;132;01m{\u001b[39;00mvalue\u001b[38;5;132;01m}\u001b[39;00m\u001b[38;5;124m\"\u001b[39m\u001b[38;5;124m]\u001b[39m\u001b[38;5;124m'\u001b[39m\n\u001b[0;32m--> 741\u001b[0m \u001b[38;5;28;01mreturn\u001b[39;00m \u001b[38;5;28mself\u001b[39m\u001b[38;5;241m.\u001b[39mexecute(Command\u001b[38;5;241m.\u001b[39mFIND_ELEMENT, {\u001b[38;5;124m\"\u001b[39m\u001b[38;5;124musing\u001b[39m\u001b[38;5;124m\"\u001b[39m: by, \u001b[38;5;124m\"\u001b[39m\u001b[38;5;124mvalue\u001b[39m\u001b[38;5;124m\"\u001b[39m: value})[\u001b[38;5;124m\"\u001b[39m\u001b[38;5;124mvalue\u001b[39m\u001b[38;5;124m\"\u001b[39m]\n",
      "File \u001b[0;32m/opt/anaconda3/lib/python3.11/site-packages/selenium/webdriver/remote/webdriver.py:347\u001b[0m, in \u001b[0;36mWebDriver.execute\u001b[0;34m(self, driver_command, params)\u001b[0m\n\u001b[1;32m    345\u001b[0m response \u001b[38;5;241m=\u001b[39m \u001b[38;5;28mself\u001b[39m\u001b[38;5;241m.\u001b[39mcommand_executor\u001b[38;5;241m.\u001b[39mexecute(driver_command, params)\n\u001b[1;32m    346\u001b[0m \u001b[38;5;28;01mif\u001b[39;00m response:\n\u001b[0;32m--> 347\u001b[0m     \u001b[38;5;28mself\u001b[39m\u001b[38;5;241m.\u001b[39merror_handler\u001b[38;5;241m.\u001b[39mcheck_response(response)\n\u001b[1;32m    348\u001b[0m     response[\u001b[38;5;124m\"\u001b[39m\u001b[38;5;124mvalue\u001b[39m\u001b[38;5;124m\"\u001b[39m] \u001b[38;5;241m=\u001b[39m \u001b[38;5;28mself\u001b[39m\u001b[38;5;241m.\u001b[39m_unwrap_value(response\u001b[38;5;241m.\u001b[39mget(\u001b[38;5;124m\"\u001b[39m\u001b[38;5;124mvalue\u001b[39m\u001b[38;5;124m\"\u001b[39m, \u001b[38;5;28;01mNone\u001b[39;00m))\n\u001b[1;32m    349\u001b[0m     \u001b[38;5;28;01mreturn\u001b[39;00m response\n",
      "File \u001b[0;32m/opt/anaconda3/lib/python3.11/site-packages/selenium/webdriver/remote/errorhandler.py:229\u001b[0m, in \u001b[0;36mErrorHandler.check_response\u001b[0;34m(self, response)\u001b[0m\n\u001b[1;32m    227\u001b[0m         alert_text \u001b[38;5;241m=\u001b[39m value[\u001b[38;5;124m\"\u001b[39m\u001b[38;5;124malert\u001b[39m\u001b[38;5;124m\"\u001b[39m]\u001b[38;5;241m.\u001b[39mget(\u001b[38;5;124m\"\u001b[39m\u001b[38;5;124mtext\u001b[39m\u001b[38;5;124m\"\u001b[39m)\n\u001b[1;32m    228\u001b[0m     \u001b[38;5;28;01mraise\u001b[39;00m exception_class(message, screen, stacktrace, alert_text)  \u001b[38;5;66;03m# type: ignore[call-arg]  # mypy is not smart enough here\u001b[39;00m\n\u001b[0;32m--> 229\u001b[0m \u001b[38;5;28;01mraise\u001b[39;00m exception_class(message, screen, stacktrace)\n",
      "\u001b[0;31mWebDriverException\u001b[0m: Message: disconnected: not connected to DevTools\n  (failed to check if window was closed: disconnected: not connected to DevTools)\n  (Session info: chrome=124.0.6367.91)\nStacktrace:\n0   chromedriver                        0x000000010269a8cc chromedriver + 4368588\n1   chromedriver                        0x0000000102692d60 chromedriver + 4336992\n2   chromedriver                        0x00000001022b6c04 chromedriver + 289796\n3   chromedriver                        0x000000010229fd00 chromedriver + 195840\n4   chromedriver                        0x000000010229fc3c chromedriver + 195644\n5   chromedriver                        0x0000000102330d24 chromedriver + 789796\n6   chromedriver                        0x00000001022edab4 chromedriver + 514740\n7   chromedriver                        0x00000001022ee50c chromedriver + 517388\n8   chromedriver                        0x000000010265ede8 chromedriver + 4124136\n9   chromedriver                        0x0000000102663bd8 chromedriver + 4144088\n10  chromedriver                        0x00000001026447b0 chromedriver + 4016048\n11  chromedriver                        0x0000000102664508 chromedriver + 4146440\n12  chromedriver                        0x0000000102636264 chromedriver + 3957348\n13  chromedriver                        0x0000000102683e50 chromedriver + 4275792\n14  chromedriver                        0x0000000102683fcc chromedriver + 4276172\n15  chromedriver                        0x00000001026929c0 chromedriver + 4336064\n16  libsystem_pthread.dylib             0x000000019ccf6f94 _pthread_start + 136\n17  libsystem_pthread.dylib             0x000000019ccf1d34 thread_start + 8\n"
     ]
    }
   ],
   "source": [
    "# 100개를 가져와보자 -> 한페이지에 100개밖에 없음\n",
    "for num in range(len(movie_coach_list)+1,501):\n",
    "    # 필요한 팝업창 열기\n",
    "    driver.find_element(By.XPATH, f'/html/body/div/div[2]/div[2]/div[4]/div[6]/table/tbody/tr[{num}]/td[2]/a').click()\n",
    "    \n",
    "    # id값 불러오고 저장\n",
    "    id = driver.find_element(By.XPATH, '/html/body/div[2]/div[2]/div/div[1]/div[2]/dl/dd[1]').text\n",
    "        \n",
    "    time.sleep(6)\n",
    "    \n",
    "    # 확실하게 안바뀌는 부분\n",
    "    gener = driver.find_element(By.XPATH, '/html/body/div[2]/div[2]/div/div[1]/div[2]/dl/dd[4]').text # 여기엔 여러 요약정보가 들어있으니 우선 넣고 나중에 처리\n",
    "    coach = driver.find_element(By.XPATH,f'//*[@id=\"{id}_director\"]/dd/a').text\n",
    "    actor_main = driver.find_element(By.XPATH, f'//*[@id=\"{id}_staff\"]/dl/div[2]/dd/table[1]/tbody/tr/td').text\n",
    "    \n",
    "    movie_gener_list.append(gener)\n",
    "    movie_coach_list.append(coach)\n",
    "    movie_actor_main_list.append(actor_main)\n",
    "    \n",
    "    # 주연만 있고 조연, 카메오나 단역이 없는 경우도 존재\n",
    "    try:\n",
    "        actor_sub = driver.find_element(By.XPATH, f'//*[@id=\"{id}_staff\"]/dl/div[2]/dd/table[2]/tbody/tr/td').text\n",
    "        actor_cameo = driver.find_element(By.XPATH, f'//*[@id=\"{id}_staff\"]/dl/div[2]/dd/table[3]/tbody/tr/td').text # 이 부분은 틀별출현 or 단역으로 나옴\n",
    "        movie_actor_sub_list.append(actor_sub)\n",
    "        movie_actor_cameo_list.append(actor_cameo)\n",
    "\n",
    "    except Exception as e:\n",
    "        movie_actor_sub_list.append('null')\n",
    "        movie_actor_cameo_list.append('null')\n",
    "    \n",
    "    # 혹여나 정보가 없을 경우를 대비해서    \n",
    "    # maker의 경로가누군 7이고 누군 8이라서 둘다 우선 저장. 필요한 부분을 채택해서 사용\n",
    "    try:\n",
    "        maker1 = driver.find_element(By.XPATH, '/html/body/div[2]/div[2]/div/div[1]/div[8]/div/dl/dd[1]').text\n",
    "        movie_maker_list1.append(maker1)\n",
    "    except Exception as e:\n",
    "        movie_maker_list1.append('null')    \n",
    "    try:\n",
    "        maker2 = driver.find_element(By.XPATH, '/html/body/div[2]/div[2]/div/div[1]/div[7]/div/dl/dd[1]').text\n",
    "        movie_maker_list2.append(maker2)\n",
    "    except Exception as e:\n",
    "        movie_maker_list2.append('null')\n",
    "        \n",
    "\n",
    "    driver.find_element(By.CSS_SELECTOR, 'body > div.ui-dialog.ui-corner-all.ui-widget.ui-widget-content.ui-front.ui-draggable.ui-resizable > div.ui-dialog-titlebar.ui-corner-all.ui-widget-header.ui-helper-clearfix.ui-draggable-handle > div.hd_layer > a:nth-child(3) > span').click()"
   ]
  },
  {
   "cell_type": "code",
   "execution_count": 25,
   "id": "9ddf7f28-9c75-415e-b8d3-bf35767ec42c",
   "metadata": {
    "tags": []
   },
   "outputs": [
    {
     "data": {
      "text/plain": [
       "375"
      ]
     },
     "execution_count": 25,
     "metadata": {},
     "output_type": "execute_result"
    }
   ],
   "source": [
    "len(movie_coach_list)"
   ]
  },
  {
   "cell_type": "code",
   "execution_count": 27,
   "id": "ca28f125-bfe4-4858-a811-382dd75204dc",
   "metadata": {
    "tags": []
   },
   "outputs": [
    {
     "ename": "NoSuchElementException",
     "evalue": "Message: no such element: Unable to locate element: {\"method\":\"xpath\",\"selector\":\"//*[@id=\"20247074_staff\"]/dl/div[2]/dd/table[1]/tbody/tr/td\"}\n  (Session info: chrome=124.0.6367.78); For documentation on this error, please visit: https://www.selenium.dev/documentation/webdriver/troubleshooting/errors#no-such-element-exception\nStacktrace:\n0   chromedriver                        0x00000001024e68dc chromedriver + 4368604\n1   chromedriver                        0x00000001024ded70 chromedriver + 4337008\n2   chromedriver                        0x0000000102102c04 chromedriver + 289796\n3   chromedriver                        0x0000000102144e00 chromedriver + 560640\n4   chromedriver                        0x000000010217d5ec chromedriver + 792044\n5   chromedriver                        0x0000000102139ab4 chromedriver + 514740\n6   chromedriver                        0x000000010213a50c chromedriver + 517388\n7   chromedriver                        0x00000001024aadf8 chromedriver + 4124152\n8   chromedriver                        0x00000001024afbe8 chromedriver + 4144104\n9   chromedriver                        0x00000001024907c0 chromedriver + 4016064\n10  chromedriver                        0x00000001024b0518 chromedriver + 4146456\n11  chromedriver                        0x0000000102482274 chromedriver + 3957364\n12  chromedriver                        0x00000001024cfe60 chromedriver + 4275808\n13  chromedriver                        0x00000001024cffdc chromedriver + 4276188\n14  chromedriver                        0x00000001024de9d0 chromedriver + 4336080\n15  libsystem_pthread.dylib             0x0000000180cfef94 _pthread_start + 136\n16  libsystem_pthread.dylib             0x0000000180cf9d34 thread_start + 8\n",
     "output_type": "error",
     "traceback": [
      "\u001b[0;31m---------------------------------------------------------------------------\u001b[0m",
      "\u001b[0;31mNoSuchElementException\u001b[0m                    Traceback (most recent call last)",
      "Cell \u001b[0;32mIn[27], line 14\u001b[0m\n\u001b[1;32m     12\u001b[0m gener \u001b[38;5;241m=\u001b[39m driver\u001b[38;5;241m.\u001b[39mfind_element(By\u001b[38;5;241m.\u001b[39mXPATH, \u001b[38;5;124m'\u001b[39m\u001b[38;5;124m/html/body/div[2]/div[2]/div/div[1]/div[2]/dl/dd[4]\u001b[39m\u001b[38;5;124m'\u001b[39m)\u001b[38;5;241m.\u001b[39mtext \u001b[38;5;66;03m# 여기엔 여러 요약정보가 들어있으니 우선 넣고 나중에 처리\u001b[39;00m\n\u001b[1;32m     13\u001b[0m coach \u001b[38;5;241m=\u001b[39m driver\u001b[38;5;241m.\u001b[39mfind_element(By\u001b[38;5;241m.\u001b[39mXPATH,\u001b[38;5;124mf\u001b[39m\u001b[38;5;124m'\u001b[39m\u001b[38;5;124m//*[@id=\u001b[39m\u001b[38;5;124m\"\u001b[39m\u001b[38;5;132;01m{\u001b[39;00m\u001b[38;5;28mid\u001b[39m\u001b[38;5;132;01m}\u001b[39;00m\u001b[38;5;124m_director\u001b[39m\u001b[38;5;124m\"\u001b[39m\u001b[38;5;124m]/dd/a\u001b[39m\u001b[38;5;124m'\u001b[39m)\u001b[38;5;241m.\u001b[39mtext\n\u001b[0;32m---> 14\u001b[0m actor_main \u001b[38;5;241m=\u001b[39m driver\u001b[38;5;241m.\u001b[39mfind_element(By\u001b[38;5;241m.\u001b[39mXPATH, \u001b[38;5;124mf\u001b[39m\u001b[38;5;124m'\u001b[39m\u001b[38;5;124m//*[@id=\u001b[39m\u001b[38;5;124m\"\u001b[39m\u001b[38;5;132;01m{\u001b[39;00m\u001b[38;5;28mid\u001b[39m\u001b[38;5;132;01m}\u001b[39;00m\u001b[38;5;124m_staff\u001b[39m\u001b[38;5;124m\"\u001b[39m\u001b[38;5;124m]/dl/div[2]/dd/table[1]/tbody/tr/td\u001b[39m\u001b[38;5;124m'\u001b[39m)\u001b[38;5;241m.\u001b[39mtext\n\u001b[1;32m     16\u001b[0m movie_gener_list\u001b[38;5;241m.\u001b[39mappend(gener)\n\u001b[1;32m     17\u001b[0m movie_coach_list\u001b[38;5;241m.\u001b[39mappend(coach)\n",
      "File \u001b[0;32m/opt/anaconda3/lib/python3.11/site-packages/selenium/webdriver/remote/webdriver.py:741\u001b[0m, in \u001b[0;36mWebDriver.find_element\u001b[0;34m(self, by, value)\u001b[0m\n\u001b[1;32m    738\u001b[0m     by \u001b[38;5;241m=\u001b[39m By\u001b[38;5;241m.\u001b[39mCSS_SELECTOR\n\u001b[1;32m    739\u001b[0m     value \u001b[38;5;241m=\u001b[39m \u001b[38;5;124mf\u001b[39m\u001b[38;5;124m'\u001b[39m\u001b[38;5;124m[name=\u001b[39m\u001b[38;5;124m\"\u001b[39m\u001b[38;5;132;01m{\u001b[39;00mvalue\u001b[38;5;132;01m}\u001b[39;00m\u001b[38;5;124m\"\u001b[39m\u001b[38;5;124m]\u001b[39m\u001b[38;5;124m'\u001b[39m\n\u001b[0;32m--> 741\u001b[0m \u001b[38;5;28;01mreturn\u001b[39;00m \u001b[38;5;28mself\u001b[39m\u001b[38;5;241m.\u001b[39mexecute(Command\u001b[38;5;241m.\u001b[39mFIND_ELEMENT, {\u001b[38;5;124m\"\u001b[39m\u001b[38;5;124musing\u001b[39m\u001b[38;5;124m\"\u001b[39m: by, \u001b[38;5;124m\"\u001b[39m\u001b[38;5;124mvalue\u001b[39m\u001b[38;5;124m\"\u001b[39m: value})[\u001b[38;5;124m\"\u001b[39m\u001b[38;5;124mvalue\u001b[39m\u001b[38;5;124m\"\u001b[39m]\n",
      "File \u001b[0;32m/opt/anaconda3/lib/python3.11/site-packages/selenium/webdriver/remote/webdriver.py:347\u001b[0m, in \u001b[0;36mWebDriver.execute\u001b[0;34m(self, driver_command, params)\u001b[0m\n\u001b[1;32m    345\u001b[0m response \u001b[38;5;241m=\u001b[39m \u001b[38;5;28mself\u001b[39m\u001b[38;5;241m.\u001b[39mcommand_executor\u001b[38;5;241m.\u001b[39mexecute(driver_command, params)\n\u001b[1;32m    346\u001b[0m \u001b[38;5;28;01mif\u001b[39;00m response:\n\u001b[0;32m--> 347\u001b[0m     \u001b[38;5;28mself\u001b[39m\u001b[38;5;241m.\u001b[39merror_handler\u001b[38;5;241m.\u001b[39mcheck_response(response)\n\u001b[1;32m    348\u001b[0m     response[\u001b[38;5;124m\"\u001b[39m\u001b[38;5;124mvalue\u001b[39m\u001b[38;5;124m\"\u001b[39m] \u001b[38;5;241m=\u001b[39m \u001b[38;5;28mself\u001b[39m\u001b[38;5;241m.\u001b[39m_unwrap_value(response\u001b[38;5;241m.\u001b[39mget(\u001b[38;5;124m\"\u001b[39m\u001b[38;5;124mvalue\u001b[39m\u001b[38;5;124m\"\u001b[39m, \u001b[38;5;28;01mNone\u001b[39;00m))\n\u001b[1;32m    349\u001b[0m     \u001b[38;5;28;01mreturn\u001b[39;00m response\n",
      "File \u001b[0;32m/opt/anaconda3/lib/python3.11/site-packages/selenium/webdriver/remote/errorhandler.py:229\u001b[0m, in \u001b[0;36mErrorHandler.check_response\u001b[0;34m(self, response)\u001b[0m\n\u001b[1;32m    227\u001b[0m         alert_text \u001b[38;5;241m=\u001b[39m value[\u001b[38;5;124m\"\u001b[39m\u001b[38;5;124malert\u001b[39m\u001b[38;5;124m\"\u001b[39m]\u001b[38;5;241m.\u001b[39mget(\u001b[38;5;124m\"\u001b[39m\u001b[38;5;124mtext\u001b[39m\u001b[38;5;124m\"\u001b[39m)\n\u001b[1;32m    228\u001b[0m     \u001b[38;5;28;01mraise\u001b[39;00m exception_class(message, screen, stacktrace, alert_text)  \u001b[38;5;66;03m# type: ignore[call-arg]  # mypy is not smart enough here\u001b[39;00m\n\u001b[0;32m--> 229\u001b[0m \u001b[38;5;28;01mraise\u001b[39;00m exception_class(message, screen, stacktrace)\n",
      "\u001b[0;31mNoSuchElementException\u001b[0m: Message: no such element: Unable to locate element: {\"method\":\"xpath\",\"selector\":\"//*[@id=\"20247074_staff\"]/dl/div[2]/dd/table[1]/tbody/tr/td\"}\n  (Session info: chrome=124.0.6367.78); For documentation on this error, please visit: https://www.selenium.dev/documentation/webdriver/troubleshooting/errors#no-such-element-exception\nStacktrace:\n0   chromedriver                        0x00000001024e68dc chromedriver + 4368604\n1   chromedriver                        0x00000001024ded70 chromedriver + 4337008\n2   chromedriver                        0x0000000102102c04 chromedriver + 289796\n3   chromedriver                        0x0000000102144e00 chromedriver + 560640\n4   chromedriver                        0x000000010217d5ec chromedriver + 792044\n5   chromedriver                        0x0000000102139ab4 chromedriver + 514740\n6   chromedriver                        0x000000010213a50c chromedriver + 517388\n7   chromedriver                        0x00000001024aadf8 chromedriver + 4124152\n8   chromedriver                        0x00000001024afbe8 chromedriver + 4144104\n9   chromedriver                        0x00000001024907c0 chromedriver + 4016064\n10  chromedriver                        0x00000001024b0518 chromedriver + 4146456\n11  chromedriver                        0x0000000102482274 chromedriver + 3957364\n12  chromedriver                        0x00000001024cfe60 chromedriver + 4275808\n13  chromedriver                        0x00000001024cffdc chromedriver + 4276188\n14  chromedriver                        0x00000001024de9d0 chromedriver + 4336080\n15  libsystem_pthread.dylib             0x0000000180cfef94 _pthread_start + 136\n16  libsystem_pthread.dylib             0x0000000180cf9d34 thread_start + 8\n"
     ]
    }
   ],
   "source": [
    "# 100개를 가져와보자 -> 한페이지에 100개밖에 없음\n",
    "for num in range(len(movie_coach_list)+1,501):\n",
    "    # 필요한 팝업창 열기\n",
    "    driver.find_element(By.XPATH, f'/html/body/div/div[2]/div[2]/div[4]/div[6]/table/tbody/tr[{num}]/td[2]/a').click()\n",
    "    \n",
    "    # id값 불러오고 저장\n",
    "    id = driver.find_element(By.XPATH, '/html/body/div[2]/div[2]/div/div[1]/div[2]/dl/dd[1]').text\n",
    "        \n",
    "    time.sleep(6)\n",
    "    \n",
    "    # 확실하게 안바뀌는 부분\n",
    "    gener = driver.find_element(By.XPATH, '/html/body/div[2]/div[2]/div/div[1]/div[2]/dl/dd[4]').text # 여기엔 여러 요약정보가 들어있으니 우선 넣고 나중에 처리\n",
    "    coach = driver.find_element(By.XPATH,f'//*[@id=\"{id}_director\"]/dd/a').text\n",
    "    actor_main = driver.find_element(By.XPATH, f'//*[@id=\"{id}_staff\"]/dl/div[2]/dd/table[1]/tbody/tr/td').text\n",
    "    \n",
    "    movie_gener_list.append(gener)\n",
    "    movie_coach_list.append(coach)\n",
    "    movie_actor_main_list.append(actor_main)\n",
    "    \n",
    "    # 주연만 있고 조연, 카메오나 단역이 없는 경우도 존재\n",
    "    try:\n",
    "        actor_sub = driver.find_element(By.XPATH, f'//*[@id=\"{id}_staff\"]/dl/div[2]/dd/table[2]/tbody/tr/td').text\n",
    "        actor_cameo = driver.find_element(By.XPATH, f'//*[@id=\"{id}_staff\"]/dl/div[2]/dd/table[3]/tbody/tr/td').text # 이 부분은 틀별출현 or 단역으로 나옴\n",
    "        movie_actor_sub_list.append(actor_sub)\n",
    "        movie_actor_cameo_list.append(actor_cameo)\n",
    "\n",
    "    except Exception as e:\n",
    "        movie_actor_sub_list.append('null')\n",
    "        movie_actor_cameo_list.append('null')\n",
    "    \n",
    "    # 혹여나 정보가 없을 경우를 대비해서    \n",
    "    # maker의 경로가누군 7이고 누군 8이라서 둘다 우선 저장. 필요한 부분을 채택해서 사용\n",
    "    try:\n",
    "        maker1 = driver.find_element(By.XPATH, '/html/body/div[2]/div[2]/div/div[1]/div[8]/div/dl/dd[1]').text\n",
    "        movie_maker_list1.append(maker1)\n",
    "    except Exception as e:\n",
    "        movie_maker_list1.append('null')    \n",
    "    try:\n",
    "        maker2 = driver.find_element(By.XPATH, '/html/body/div[2]/div[2]/div/div[1]/div[7]/div/dl/dd[1]').text\n",
    "        movie_maker_list2.append(maker2)\n",
    "    except Exception as e:\n",
    "        movie_maker_list2.append('null')\n",
    "        \n",
    "\n",
    "    driver.find_element(By.CSS_SELECTOR, 'body > div.ui-dialog.ui-corner-all.ui-widget.ui-widget-content.ui-front.ui-draggable.ui-resizable > div.ui-dialog-titlebar.ui-corner-all.ui-widget-header.ui-helper-clearfix.ui-draggable-handle > div.hd_layer > a:nth-child(3) > span').click()"
   ]
  },
  {
   "cell_type": "code",
   "execution_count": 33,
   "id": "0ec06013-ce00-4969-9eb7-62b9d99257e7",
   "metadata": {
    "tags": []
   },
   "outputs": [
    {
     "data": {
      "text/plain": [
       "453"
      ]
     },
     "execution_count": 33,
     "metadata": {},
     "output_type": "execute_result"
    }
   ],
   "source": [
    "len(movie_coach_list)"
   ]
  },
  {
   "cell_type": "code",
   "execution_count": null,
   "id": "cf3d2b13-c4dd-4931-960d-1c3aedf2461a",
   "metadata": {},
   "outputs": [],
   "source": [
    "# 건국전쟁이란 영화는 좀 특이해서 넘기고 크롤링시도"
   ]
  },
  {
   "cell_type": "code",
   "execution_count": 35,
   "id": "15df38b8-a35a-412e-abf5-47f25507f3e4",
   "metadata": {
    "tags": []
   },
   "outputs": [],
   "source": [
    "# 100개를 가져와보자 -> 한페이지에 100개밖에 없음\n",
    "for num in range(len(movie_coach_list)+2,501):\n",
    "    # 필요한 팝업창 열기\n",
    "    driver.find_element(By.XPATH, f'/html/body/div/div[2]/div[2]/div[4]/div[6]/table/tbody/tr[{num}]/td[2]/a').click()\n",
    "    \n",
    "    # id값 불러오고 저장\n",
    "    id = driver.find_element(By.XPATH, '/html/body/div[2]/div[2]/div/div[1]/div[2]/dl/dd[1]').text\n",
    "        \n",
    "    time.sleep(6)\n",
    "    \n",
    "    # 확실하게 안바뀌는 부분\n",
    "    gener = driver.find_element(By.XPATH, '/html/body/div[2]/div[2]/div/div[1]/div[2]/dl/dd[4]').text # 여기엔 여러 요약정보가 들어있으니 우선 넣고 나중에 처리\n",
    "    coach = driver.find_element(By.XPATH,f'//*[@id=\"{id}_director\"]/dd/a').text\n",
    "    actor_main = driver.find_element(By.XPATH, f'//*[@id=\"{id}_staff\"]/dl/div[2]/dd/table[1]/tbody/tr/td').text\n",
    "    \n",
    "    movie_gener_list.append(gener)\n",
    "    movie_coach_list.append(coach)\n",
    "    movie_actor_main_list.append(actor_main)\n",
    "    \n",
    "    # 주연만 있고 조연, 카메오나 단역이 없는 경우도 존재\n",
    "    try:\n",
    "        actor_sub = driver.find_element(By.XPATH, f'//*[@id=\"{id}_staff\"]/dl/div[2]/dd/table[2]/tbody/tr/td').text\n",
    "        actor_cameo = driver.find_element(By.XPATH, f'//*[@id=\"{id}_staff\"]/dl/div[2]/dd/table[3]/tbody/tr/td').text # 이 부분은 틀별출현 or 단역으로 나옴\n",
    "        movie_actor_sub_list.append(actor_sub)\n",
    "        movie_actor_cameo_list.append(actor_cameo)\n",
    "\n",
    "    except Exception as e:\n",
    "        movie_actor_sub_list.append('null')\n",
    "        movie_actor_cameo_list.append('null')\n",
    "    \n",
    "    # 혹여나 정보가 없을 경우를 대비해서    \n",
    "    # maker의 경로가누군 7이고 누군 8이라서 둘다 우선 저장. 필요한 부분을 채택해서 사용\n",
    "    try:\n",
    "        maker1 = driver.find_element(By.XPATH, '/html/body/div[2]/div[2]/div/div[1]/div[8]/div/dl/dd[1]').text\n",
    "        movie_maker_list1.append(maker1)\n",
    "    except Exception as e:\n",
    "        movie_maker_list1.append('null')    \n",
    "    try:\n",
    "        maker2 = driver.find_element(By.XPATH, '/html/body/div[2]/div[2]/div/div[1]/div[7]/div/dl/dd[1]').text\n",
    "        movie_maker_list2.append(maker2)\n",
    "    except Exception as e:\n",
    "        movie_maker_list2.append('null')\n",
    "        \n",
    "\n",
    "    driver.find_element(By.CSS_SELECTOR, 'body > div.ui-dialog.ui-corner-all.ui-widget.ui-widget-content.ui-front.ui-draggable.ui-resizable > div.ui-dialog-titlebar.ui-corner-all.ui-widget-header.ui-helper-clearfix.ui-draggable-handle > div.hd_layer > a:nth-child(3) > span').click()"
   ]
  },
  {
   "cell_type": "code",
   "execution_count": 37,
   "id": "76c068a5-d078-45d2-a6b8-3cd3e8bbcd52",
   "metadata": {
    "tags": []
   },
   "outputs": [
    {
     "data": {
      "text/plain": [
       "499"
      ]
     },
     "execution_count": 37,
     "metadata": {},
     "output_type": "execute_result"
    }
   ],
   "source": [
    "len(movie_coach_list)"
   ]
  },
  {
   "cell_type": "code",
   "execution_count": 39,
   "id": "6becdaf5-3a5a-4a46-a6a2-fdf39c9c5339",
   "metadata": {},
   "outputs": [],
   "source": [
    "df = pd.DataFrame()\n",
    "df['gener'] = movie_gener_list\n",
    "df['coach'] = movie_coach_list\n",
    "df['actor_main'] = movie_actor_main_list\n",
    "df['actor_sub'] = movie_actor_sub_list\n",
    "df['actor_cameo'] = movie_actor_cameo_list\n",
    "df['maker1'] = movie_maker_list1\n",
    "df['maker2'] = movie_maker_list2"
   ]
  },
  {
   "cell_type": "code",
   "execution_count": 41,
   "id": "4265c30d-ba4a-42c9-bac4-89ee559834e9",
   "metadata": {},
   "outputs": [
    {
     "data": {
      "text/html": [
       "<div>\n",
       "<style scoped>\n",
       "    .dataframe tbody tr th:only-of-type {\n",
       "        vertical-align: middle;\n",
       "    }\n",
       "\n",
       "    .dataframe tbody tr th {\n",
       "        vertical-align: top;\n",
       "    }\n",
       "\n",
       "    .dataframe thead th {\n",
       "        text-align: right;\n",
       "    }\n",
       "</style>\n",
       "<table border=\"1\" class=\"dataframe\">\n",
       "  <thead>\n",
       "    <tr style=\"text-align: right;\">\n",
       "      <th></th>\n",
       "      <th>coach</th>\n",
       "      <th>actor_main</th>\n",
       "      <th>actor_sub</th>\n",
       "      <th>actor_cameo</th>\n",
       "      <th>maker1</th>\n",
       "      <th>maker2</th>\n",
       "    </tr>\n",
       "  </thead>\n",
       "  <tbody>\n",
       "    <tr>\n",
       "      <th>0</th>\n",
       "      <td>김한민</td>\n",
       "      <td>[주연] 최민식(이순신 ) | 류승룡(구루지마 ) | 조진웅(와키자카 )</td>\n",
       "      <td>[조연] 김명곤(도도) | 진구(임준영 ) | 이정현(정씨 여인 ) | 권율(이회)...</td>\n",
       "      <td>[단역] 박원우(조선수군/왜군) | 서성광(이억기) | 오명훈(승병2) | 유명환(...</td>\n",
       "      <td>(주)빅스톤픽쳐스 BIGSTONEPICTURES</td>\n",
       "      <td>null</td>\n",
       "    </tr>\n",
       "    <tr>\n",
       "      <th>1</th>\n",
       "      <td>이병헌</td>\n",
       "      <td>[주연] 류승룡(고반장) | 이하늬(장형사) | 진선규(마형사) | 이동휘(영호) ...</td>\n",
       "      <td>[조연] 양현민(홍상필 ) | 장진희(선희) | 오정세(테드 창) | 이중옥(환동)...</td>\n",
       "      <td>[특별출연] 김강현(허피디) | 김지영(고반장 부인) | 신신애(3층 아줌마)</td>\n",
       "      <td>[등급분류번호] 2018-MF02462\\n[등급분류일자] 2018-12-24\\n[관...</td>\n",
       "      <td>(주)어바웃잇    영화사 해그림 주식회사 Haegrimm Pictures. Co....</td>\n",
       "    </tr>\n",
       "    <tr>\n",
       "      <th>2</th>\n",
       "      <td>김용화</td>\n",
       "      <td>[주연] 하정우(강림) | 차태현(자홍) | 주지훈(해원맥) | 김향기(덕춘)</td>\n",
       "      <td>[조연] 김동욱(수홍) | 오달수 | 임원희 | 도경수(원일병) | 이준혁(박중위)...</td>\n",
       "      <td>[특별출연] 이정재(염라대왕 ) | 김해숙 | 이경영 | 김하늘</td>\n",
       "      <td>null</td>\n",
       "      <td>리얼라이즈픽쳐스(주) Realies Pictures, Inc.   (주)덱스터스튜디...</td>\n",
       "    </tr>\n",
       "    <tr>\n",
       "      <th>3</th>\n",
       "      <td>윤제균</td>\n",
       "      <td>[주연] 황정민(덕수) | 김윤진(영자) | 오달수(달구) | 정진영(덕수부)</td>\n",
       "      <td>[조연] 장영남(덕수모) | 라미란(덕수 고모) | 김슬기(끝순) | 정영기(한국인...</td>\n",
       "      <td>[특별출연] 정윤호(남진) | 박영수(청년회 회장 )</td>\n",
       "      <td>(주)제이케이필름 JK Film   (주)씨제이이엔엠 CJ ENM Corp.</td>\n",
       "      <td>null</td>\n",
       "    </tr>\n",
       "    <tr>\n",
       "      <th>4</th>\n",
       "      <td>류승완</td>\n",
       "      <td>[주연] 황정민(서도철) | 유아인(조태오) | 유해진(최 상무) | 오달수(오 팀장)</td>\n",
       "      <td>[조연] 장윤주(미스봉) | 김시후(윤 형사) | 오대환(왕 형사) | 정웅인(배 ...</td>\n",
       "      <td>[특별출연] 김응수(정 고문)</td>\n",
       "      <td>(주)외유내강 Filmmaker R &amp; K   (주)필름케이 filmK</td>\n",
       "      <td>null</td>\n",
       "    </tr>\n",
       "    <tr>\n",
       "      <th>...</th>\n",
       "      <td>...</td>\n",
       "      <td>...</td>\n",
       "      <td>...</td>\n",
       "      <td>...</td>\n",
       "      <td>...</td>\n",
       "      <td>...</td>\n",
       "    </tr>\n",
       "    <tr>\n",
       "      <th>494</th>\n",
       "      <td>오달균</td>\n",
       "      <td>[주연] 유승호 | 김향기(소이)</td>\n",
       "      <td>[조연] 김동영(짱개) | 안길강(두목)</td>\n",
       "      <td>[단역] 백승도(앵벌이1 ) | 허창(해변남) | 형성석(경찰3) | 김라민(공익요...</td>\n",
       "      <td>[등급분류번호] 2006-F318\\n[등급분류일자] 2006-10-02\\n[관람등급...</td>\n",
       "      <td>(주)화인웍스 FineWorks</td>\n",
       "    </tr>\n",
       "    <tr>\n",
       "      <th>495</th>\n",
       "      <td>한상호</td>\n",
       "      <td>[주연] 이형석 | 신용우 | 구자형</td>\n",
       "      <td>null</td>\n",
       "      <td>null</td>\n",
       "      <td>(주)드림써치C&amp;C Dream Search Contents and Company c...</td>\n",
       "      <td>null</td>\n",
       "    </tr>\n",
       "    <tr>\n",
       "      <th>496</th>\n",
       "      <td>임권택</td>\n",
       "      <td>[주연] 김규철 | 최종원(천가) | 오정해 | 김명곤</td>\n",
       "      <td>[조연] 강선숙(세월네)</td>\n",
       "      <td>[단역] 박길수(한량) | 김기천(남편 약장수)</td>\n",
       "      <td>[등급분류번호] 93-43\\n[등급분류일자] 1993-04-06\\n[관람등급] 중학...</td>\n",
       "      <td>null</td>\n",
       "    </tr>\n",
       "    <tr>\n",
       "      <th>497</th>\n",
       "      <td>우민호</td>\n",
       "      <td>[주연] 김명민(주영수) | 엄기준(최병철) | 박주미(박민경) | 김소현 | 이경...</td>\n",
       "      <td>[조연] 이병준(구 반장) | 최민서(유괴 아이 미영 ) | 박수용(김과장 ) | ...</td>\n",
       "      <td>[우정출연] 김응수(김 원장)</td>\n",
       "      <td>아이러브시네마 i Love Cinema co., ltd.   (주)아이필름홀딩스</td>\n",
       "      <td>null</td>\n",
       "    </tr>\n",
       "    <tr>\n",
       "      <th>498</th>\n",
       "      <td>송일곤</td>\n",
       "      <td>[주연] 소지섭(철민) | 한효주(정화)</td>\n",
       "      <td>[조연] 강신일(최관장) | 오광록 | 최욱(실종상담경찰 ) | 윤종화(민태식)</td>\n",
       "      <td>[우정출연] 조성하(최 실장) | 진구(공방사장)</td>\n",
       "      <td>(주)51k    (주)에이치비엔터테인먼트 HB Entertainment</td>\n",
       "      <td>null</td>\n",
       "    </tr>\n",
       "  </tbody>\n",
       "</table>\n",
       "<p>499 rows × 6 columns</p>\n",
       "</div>"
      ],
      "text/plain": [
       "    coach                                         actor_main  \\\n",
       "0     김한민           [주연] 최민식(이순신 ) | 류승룡(구루지마 ) | 조진웅(와키자카 )   \n",
       "1     이병헌  [주연] 류승룡(고반장) | 이하늬(장형사) | 진선규(마형사) | 이동휘(영호) ...   \n",
       "2     김용화        [주연] 하정우(강림) | 차태현(자홍) | 주지훈(해원맥) | 김향기(덕춘)   \n",
       "3     윤제균        [주연] 황정민(덕수) | 김윤진(영자) | 오달수(달구) | 정진영(덕수부)   \n",
       "4     류승완   [주연] 황정민(서도철) | 유아인(조태오) | 유해진(최 상무) | 오달수(오 팀장)   \n",
       "..    ...                                                ...   \n",
       "494   오달균                                 [주연] 유승호 | 김향기(소이)   \n",
       "495   한상호                               [주연] 이형석 | 신용우 | 구자형   \n",
       "496   임권택                     [주연] 김규철 | 최종원(천가) | 오정해 | 김명곤   \n",
       "497   우민호  [주연] 김명민(주영수) | 엄기준(최병철) | 박주미(박민경) | 김소현 | 이경...   \n",
       "498   송일곤                             [주연] 소지섭(철민) | 한효주(정화)   \n",
       "\n",
       "                                             actor_sub  \\\n",
       "0    [조연] 김명곤(도도) | 진구(임준영 ) | 이정현(정씨 여인 ) | 권율(이회)...   \n",
       "1    [조연] 양현민(홍상필 ) | 장진희(선희) | 오정세(테드 창) | 이중옥(환동)...   \n",
       "2    [조연] 김동욱(수홍) | 오달수 | 임원희 | 도경수(원일병) | 이준혁(박중위)...   \n",
       "3    [조연] 장영남(덕수모) | 라미란(덕수 고모) | 김슬기(끝순) | 정영기(한국인...   \n",
       "4    [조연] 장윤주(미스봉) | 김시후(윤 형사) | 오대환(왕 형사) | 정웅인(배 ...   \n",
       "..                                                 ...   \n",
       "494                             [조연] 김동영(짱개) | 안길강(두목)   \n",
       "495                                               null   \n",
       "496                                      [조연] 강선숙(세월네)   \n",
       "497  [조연] 이병준(구 반장) | 최민서(유괴 아이 미영 ) | 박수용(김과장 ) | ...   \n",
       "498       [조연] 강신일(최관장) | 오광록 | 최욱(실종상담경찰 ) | 윤종화(민태식)   \n",
       "\n",
       "                                           actor_cameo  \\\n",
       "0    [단역] 박원우(조선수군/왜군) | 서성광(이억기) | 오명훈(승병2) | 유명환(...   \n",
       "1          [특별출연] 김강현(허피디) | 김지영(고반장 부인) | 신신애(3층 아줌마)   \n",
       "2                  [특별출연] 이정재(염라대왕 ) | 김해숙 | 이경영 | 김하늘   \n",
       "3                        [특별출연] 정윤호(남진) | 박영수(청년회 회장 )   \n",
       "4                                     [특별출연] 김응수(정 고문)   \n",
       "..                                                 ...   \n",
       "494  [단역] 백승도(앵벌이1 ) | 허창(해변남) | 형성석(경찰3) | 김라민(공익요...   \n",
       "495                                               null   \n",
       "496                         [단역] 박길수(한량) | 김기천(남편 약장수)   \n",
       "497                                   [우정출연] 김응수(김 원장)   \n",
       "498                        [우정출연] 조성하(최 실장) | 진구(공방사장)   \n",
       "\n",
       "                                                maker1  \\\n",
       "0                         (주)빅스톤픽쳐스 BIGSTONEPICTURES     \n",
       "1    [등급분류번호] 2018-MF02462\\n[등급분류일자] 2018-12-24\\n[관...   \n",
       "2                                                 null   \n",
       "3         (주)제이케이필름 JK Film   (주)씨제이이엔엠 CJ ENM Corp.     \n",
       "4            (주)외유내강 Filmmaker R & K   (주)필름케이 filmK     \n",
       "..                                                 ...   \n",
       "494  [등급분류번호] 2006-F318\\n[등급분류일자] 2006-10-02\\n[관람등급...   \n",
       "495  (주)드림써치C&C Dream Search Contents and Company c...   \n",
       "496  [등급분류번호] 93-43\\n[등급분류일자] 1993-04-06\\n[관람등급] 중학...   \n",
       "497    아이러브시네마 i Love Cinema co., ltd.   (주)아이필름홀딩스      \n",
       "498         (주)51k    (주)에이치비엔터테인먼트 HB Entertainment     \n",
       "\n",
       "                                                maker2  \n",
       "0                                                 null  \n",
       "1    (주)어바웃잇    영화사 해그림 주식회사 Haegrimm Pictures. Co....  \n",
       "2    리얼라이즈픽쳐스(주) Realies Pictures, Inc.   (주)덱스터스튜디...  \n",
       "3                                                 null  \n",
       "4                                                 null  \n",
       "..                                                 ...  \n",
       "494                                (주)화인웍스 FineWorks    \n",
       "495                                               null  \n",
       "496                                               null  \n",
       "497                                               null  \n",
       "498                                               null  \n",
       "\n",
       "[499 rows x 6 columns]"
      ]
     },
     "execution_count": 41,
     "metadata": {},
     "output_type": "execute_result"
    }
   ],
   "source": [
    "df"
   ]
  },
  {
   "cell_type": "code",
   "execution_count": 43,
   "id": "3e1da784-3859-438f-af64-36846ba24f2d",
   "metadata": {},
   "outputs": [],
   "source": [
    "df.to_csv('4.24_500_movies.csv')"
   ]
  },
  {
   "cell_type": "code",
   "execution_count": null,
   "id": "d171a929-9ac5-4c25-8a75-252de299cfca",
   "metadata": {},
   "outputs": [],
   "source": []
  },
  {
   "cell_type": "code",
   "execution_count": null,
   "id": "d26e8132-e29e-45ba-9d1a-5632bdaba726",
   "metadata": {},
   "outputs": [],
   "source": []
  }
 ],
 "metadata": {
  "kernelspec": {
   "display_name": "Python 3 (ipykernel)",
   "language": "python",
   "name": "python3"
  },
  "language_info": {
   "codemirror_mode": {
    "name": "ipython",
    "version": 3
   },
   "file_extension": ".py",
   "mimetype": "text/x-python",
   "name": "python",
   "nbconvert_exporter": "python",
   "pygments_lexer": "ipython3",
   "version": "3.11.7"
  }
 },
 "nbformat": 4,
 "nbformat_minor": 5
}
